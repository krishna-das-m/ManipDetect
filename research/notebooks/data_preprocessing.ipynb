{
 "cells": [
  {
   "cell_type": "markdown",
   "id": "9df5c803",
   "metadata": {},
   "source": [
    "### Libraries"
   ]
  },
  {
   "cell_type": "code",
   "execution_count": 5,
   "id": "9cdf55df",
   "metadata": {},
   "outputs": [],
   "source": [
    "import numpy as np\n",
    "import pandas as pd\n",
    "from datetime import datetime\n",
    "from dateutil.tz import gettz\n",
    "\n",
    "# for text processing\n",
    "from sklearn.feature_extraction.text import TfidfVectorizer\n",
    "from sklearn.metrics.pairwise import cosine_similarity\n",
    "import re\n",
    "from textblob import TextBlob\n",
    "\n",
    "from pathlib import Path\n",
    "# for visualization\n",
    "import matplotlib.pyplot as plt\n",
    "import seaborn as sns\n",
    "sns.set_theme(style='ticks', font_scale=1.5)\n",
    "\n",
    "Root = Path('.').absolute().parent\n",
    "DATA = Root / r'C:\\Users\\Admin\\Projects\\ML Projects\\ManipDetect\\data'\n",
    "# DATA = Root/ r'C:\\Users\\krishnadas\\Projects\\ML Projects\\ManipDetect\\data'"
   ]
  },
  {
   "cell_type": "code",
   "execution_count": 6,
   "id": "a51a0fd8",
   "metadata": {},
   "outputs": [
    {
     "data": {
      "application/vnd.microsoft.datawrangler.viewer.v0+json": {
       "columns": [
        {
         "name": "index",
         "rawType": "int64",
         "type": "integer"
        },
        {
         "name": "title",
         "rawType": "object",
         "type": "string"
        },
        {
         "name": "score",
         "rawType": "int64",
         "type": "integer"
        },
        {
         "name": "post_id",
         "rawType": "object",
         "type": "string"
        },
        {
         "name": "url",
         "rawType": "object",
         "type": "string"
        },
        {
         "name": "comms_num",
         "rawType": "int64",
         "type": "integer"
        },
        {
         "name": "created",
         "rawType": "float64",
         "type": "float"
        },
        {
         "name": "body",
         "rawType": "object",
         "type": "unknown"
        },
        {
         "name": "timestamp",
         "rawType": "object",
         "type": "string"
        },
        {
         "name": "author_name",
         "rawType": "object",
         "type": "string"
        },
        {
         "name": "author_id",
         "rawType": "object",
         "type": "string"
        }
       ],
       "ref": "447a7b03-f459-4b5a-bd34-ebbea1ee0769",
       "rows": [
        [
         "0",
         "It's not about the money, it's about sending a message. 🚀💎🙌",
         "55",
         "l6ulcx",
         "https://v.redd.it/6j75regs72e61",
         "6",
         "1611862661.0",
         null,
         "2021-01-28 21:37:41",
         "[deleted]",
         "[deleted]"
        ],
        [
         "1",
         "Math Professor Scott Steiner says the numbers spell DISASTER for Gamestop shorts",
         "110",
         "l6uibd",
         "https://v.redd.it/ah50lyny62e61",
         "23",
         "1611862330.0",
         null,
         "2021-01-28 21:32:10",
         "jaxxtothemaxx",
         "onvag"
        ],
        [
         "2",
         "Exit the system",
         "0",
         "l6uhhn",
         "https://www.reddit.com/r/wallstreetbets/comments/l6uhhn/exit_the_system/",
         "47",
         "1611862235.0",
         "The CEO of NASDAQ pushed to halt trading “to give investors a chance to recalibrate their positions”.\n\n[https://mobile.twitter.com/Mediaite/status/1354504710695362563](https://mobile.twitter.com/Mediaite/status/1354504710695362563)\n\nNow SEC is investigating, brokers are disallowing buying more calls. This is the institutions flat out admitting they will change the rules to bail out the rich but if it happens to us, we get a “well shucks you should have known investing is risky! have you tried cutting out avocados and coffee, maybe doing Uber on the side?”\n\nWe may have collectively driven up enough sentiment in wall street to make other big players go long on GME with us (we do not have the money to move the stock as much as it did alone). we didn’t hurt wall street as a whole, just a few funds went down while others went up and profited off the shorts the same as us. The media wants to pin the blame on us.\n\nIt should be crystal clear that this is a rigged game by now. Its time to build new exchanges that can’t arbitrarily change the rules on us. Cr\\*\\*o has some version of these, maybe they can be repurposed to be trade stock without government intervention. I don’t know exactly what it will look like yet, but the broad next steps i see are - 1. exit the current financial system 2. build a new one.",
         "2021-01-28 21:30:35",
         "stonerbobo",
         "f3p9m"
        ],
        [
         "3",
         "NEW SEC FILING FOR GME! CAN SOMEONE LESS RETARDED THAN ME PLEASE INTERPRET?",
         "29",
         "l6ugk6",
         "https://sec.report/Document/0001193125-21-019848/",
         "74",
         "1611862137.0",
         null,
         "2021-01-28 21:28:57",
         "Sleavitt10",
         "9u7y1"
        ],
        [
         "4",
         "Not to distract from GME, just thought our AMC brothers should be aware of this",
         "71",
         "l6ufgy",
         "https://i.redd.it/4h2sukb662e61.jpg",
         "156",
         "1611862016.0",
         null,
         "2021-01-28 21:26:56",
         "di3_b0ld",
         "13cexg"
        ]
       ],
       "shape": {
        "columns": 10,
        "rows": 5
       }
      },
      "text/html": [
       "<div>\n",
       "<style scoped>\n",
       "    .dataframe tbody tr th:only-of-type {\n",
       "        vertical-align: middle;\n",
       "    }\n",
       "\n",
       "    .dataframe tbody tr th {\n",
       "        vertical-align: top;\n",
       "    }\n",
       "\n",
       "    .dataframe thead th {\n",
       "        text-align: right;\n",
       "    }\n",
       "</style>\n",
       "<table border=\"1\" class=\"dataframe\">\n",
       "  <thead>\n",
       "    <tr style=\"text-align: right;\">\n",
       "      <th></th>\n",
       "      <th>title</th>\n",
       "      <th>score</th>\n",
       "      <th>post_id</th>\n",
       "      <th>url</th>\n",
       "      <th>comms_num</th>\n",
       "      <th>created</th>\n",
       "      <th>body</th>\n",
       "      <th>timestamp</th>\n",
       "      <th>author_name</th>\n",
       "      <th>author_id</th>\n",
       "    </tr>\n",
       "  </thead>\n",
       "  <tbody>\n",
       "    <tr>\n",
       "      <th>0</th>\n",
       "      <td>It's not about the money, it's about sending a...</td>\n",
       "      <td>55</td>\n",
       "      <td>l6ulcx</td>\n",
       "      <td>https://v.redd.it/6j75regs72e61</td>\n",
       "      <td>6</td>\n",
       "      <td>1.611863e+09</td>\n",
       "      <td>NaN</td>\n",
       "      <td>2021-01-28 21:37:41</td>\n",
       "      <td>[deleted]</td>\n",
       "      <td>[deleted]</td>\n",
       "    </tr>\n",
       "    <tr>\n",
       "      <th>1</th>\n",
       "      <td>Math Professor Scott Steiner says the numbers ...</td>\n",
       "      <td>110</td>\n",
       "      <td>l6uibd</td>\n",
       "      <td>https://v.redd.it/ah50lyny62e61</td>\n",
       "      <td>23</td>\n",
       "      <td>1.611862e+09</td>\n",
       "      <td>NaN</td>\n",
       "      <td>2021-01-28 21:32:10</td>\n",
       "      <td>jaxxtothemaxx</td>\n",
       "      <td>onvag</td>\n",
       "    </tr>\n",
       "    <tr>\n",
       "      <th>2</th>\n",
       "      <td>Exit the system</td>\n",
       "      <td>0</td>\n",
       "      <td>l6uhhn</td>\n",
       "      <td>https://www.reddit.com/r/wallstreetbets/commen...</td>\n",
       "      <td>47</td>\n",
       "      <td>1.611862e+09</td>\n",
       "      <td>The CEO of NASDAQ pushed to halt trading “to g...</td>\n",
       "      <td>2021-01-28 21:30:35</td>\n",
       "      <td>stonerbobo</td>\n",
       "      <td>f3p9m</td>\n",
       "    </tr>\n",
       "    <tr>\n",
       "      <th>3</th>\n",
       "      <td>NEW SEC FILING FOR GME! CAN SOMEONE LESS RETAR...</td>\n",
       "      <td>29</td>\n",
       "      <td>l6ugk6</td>\n",
       "      <td>https://sec.report/Document/0001193125-21-019848/</td>\n",
       "      <td>74</td>\n",
       "      <td>1.611862e+09</td>\n",
       "      <td>NaN</td>\n",
       "      <td>2021-01-28 21:28:57</td>\n",
       "      <td>Sleavitt10</td>\n",
       "      <td>9u7y1</td>\n",
       "    </tr>\n",
       "    <tr>\n",
       "      <th>4</th>\n",
       "      <td>Not to distract from GME, just thought our AMC...</td>\n",
       "      <td>71</td>\n",
       "      <td>l6ufgy</td>\n",
       "      <td>https://i.redd.it/4h2sukb662e61.jpg</td>\n",
       "      <td>156</td>\n",
       "      <td>1.611862e+09</td>\n",
       "      <td>NaN</td>\n",
       "      <td>2021-01-28 21:26:56</td>\n",
       "      <td>di3_b0ld</td>\n",
       "      <td>13cexg</td>\n",
       "    </tr>\n",
       "  </tbody>\n",
       "</table>\n",
       "</div>"
      ],
      "text/plain": [
       "                                               title  score post_id  \\\n",
       "0  It's not about the money, it's about sending a...     55  l6ulcx   \n",
       "1  Math Professor Scott Steiner says the numbers ...    110  l6uibd   \n",
       "2                                    Exit the system      0  l6uhhn   \n",
       "3  NEW SEC FILING FOR GME! CAN SOMEONE LESS RETAR...     29  l6ugk6   \n",
       "4  Not to distract from GME, just thought our AMC...     71  l6ufgy   \n",
       "\n",
       "                                                 url  comms_num       created  \\\n",
       "0                    https://v.redd.it/6j75regs72e61          6  1.611863e+09   \n",
       "1                    https://v.redd.it/ah50lyny62e61         23  1.611862e+09   \n",
       "2  https://www.reddit.com/r/wallstreetbets/commen...         47  1.611862e+09   \n",
       "3  https://sec.report/Document/0001193125-21-019848/         74  1.611862e+09   \n",
       "4                https://i.redd.it/4h2sukb662e61.jpg        156  1.611862e+09   \n",
       "\n",
       "                                                body            timestamp  \\\n",
       "0                                                NaN  2021-01-28 21:37:41   \n",
       "1                                                NaN  2021-01-28 21:32:10   \n",
       "2  The CEO of NASDAQ pushed to halt trading “to g...  2021-01-28 21:30:35   \n",
       "3                                                NaN  2021-01-28 21:28:57   \n",
       "4                                                NaN  2021-01-28 21:26:56   \n",
       "\n",
       "     author_name  author_id  \n",
       "0      [deleted]  [deleted]  \n",
       "1  jaxxtothemaxx      onvag  \n",
       "2     stonerbobo      f3p9m  \n",
       "3     Sleavitt10      9u7y1  \n",
       "4       di3_b0ld     13cexg  "
      ]
     },
     "execution_count": 6,
     "metadata": {},
     "output_type": "execute_result"
    }
   ],
   "source": [
    "filepath = DATA / 'reddit_wsb_with_authors.csv'\n",
    "df = pd.read_csv(filepath)\n",
    "df.head()"
   ]
  },
  {
   "cell_type": "code",
   "execution_count": 7,
   "id": "2205d0ef",
   "metadata": {},
   "outputs": [
    {
     "name": "stdout",
     "output_type": "stream",
     "text": [
      "<class 'pandas.core.frame.DataFrame'>\n",
      "RangeIndex: 53187 entries, 0 to 53186\n",
      "Data columns (total 10 columns):\n",
      " #   Column       Non-Null Count  Dtype  \n",
      "---  ------       --------------  -----  \n",
      " 0   title        53187 non-null  object \n",
      " 1   score        53187 non-null  int64  \n",
      " 2   post_id      53187 non-null  object \n",
      " 3   url          53187 non-null  object \n",
      " 4   comms_num    53187 non-null  int64  \n",
      " 5   created      53187 non-null  float64\n",
      " 6   body         24738 non-null  object \n",
      " 7   timestamp    53187 non-null  object \n",
      " 8   author_name  50623 non-null  object \n",
      " 9   author_id    50623 non-null  object \n",
      "dtypes: float64(1), int64(2), object(7)\n",
      "memory usage: 4.1+ MB\n"
     ]
    }
   ],
   "source": [
    "df.info()"
   ]
  },
  {
   "cell_type": "code",
   "execution_count": 10,
   "id": "8b066893",
   "metadata": {},
   "outputs": [
    {
     "data": {
      "application/vnd.microsoft.datawrangler.viewer.v0+json": {
       "columns": [
        {
         "name": "author_name",
         "rawType": "object",
         "type": "string"
        },
        {
         "name": "count",
         "rawType": "int64",
         "type": "integer"
        }
       ],
       "ref": "51834bb9-c78b-4cc1-ae48-b026b5455f06",
       "rows": [
        [
         "[deleted]",
         "19087"
        ],
        [
         "OPINION_IS_UNPOPULAR",
         "373"
        ],
        [
         "pdwp90",
         "81"
        ],
        [
         "AutoModerator",
         "61"
        ],
        [
         "dhiral1994",
         "58"
        ],
        [
         "jjd1226",
         "43"
        ],
        [
         "Anal_Chem",
         "37"
        ],
        [
         "bigbear0083",
         "35"
        ],
        [
         "indonesian_activist",
         "31"
        ],
        [
         "Shark0710",
         "31"
        ],
        [
         "nobjos",
         "29"
        ],
        [
         "Engineer_Economist",
         "29"
        ],
        [
         "yolocallking",
         "29"
        ],
        [
         "dhsmatt2",
         "28"
        ],
        [
         "Chillznday",
         "26"
        ],
        [
         "MIA4real",
         "25"
        ],
        [
         "disgruntledbkbum",
         "25"
        ],
        [
         "Unsquidabls",
         "25"
        ],
        [
         "Psyched4this",
         "24"
        ],
        [
         "VisualMod",
         "22"
        ],
        [
         "tickerwizards",
         "21"
        ],
        [
         "roman_axt",
         "19"
        ],
        [
         "CommunicationIll570",
         "19"
        ],
        [
         "TheAmeritrader",
         "19"
        ],
        [
         "Jaha_Jaha",
         "19"
        ],
        [
         "Bscrob",
         "18"
        ],
        [
         "ryldyl",
         "18"
        ],
        [
         "pittluke",
         "18"
        ],
        [
         "Craneteam",
         "18"
        ],
        [
         "Deanothedino",
         "17"
        ],
        [
         "Hani95",
         "17"
        ],
        [
         "sultanmirza007",
         "16"
        ],
        [
         "thisshitisfiya",
         "16"
        ],
        [
         "1poundbookingfee",
         "16"
        ],
        [
         "TheHappyHawaiian",
         "16"
        ],
        [
         "GrubbyWango",
         "16"
        ],
        [
         "jordanpeterson9",
         "16"
        ],
        [
         "Ratchet_as_fuck",
         "16"
        ],
        [
         "Rapses",
         "16"
        ],
        [
         "CMScientist",
         "15"
        ],
        [
         "President_Wolfe",
         "15"
        ],
        [
         "AstroSolutions",
         "15"
        ],
        [
         "BadassTrader",
         "15"
        ],
        [
         "MotorizedDoucheCanoe",
         "14"
        ],
        [
         "IS_JOKE_COMRADE",
         "14"
        ],
        [
         "greggo92",
         "14"
        ],
        [
         "DanyeelsAnulmint",
         "14"
        ],
        [
         "Mysterious----",
         "14"
        ],
        [
         "kokoloko1010",
         "13"
        ],
        [
         "furbz1",
         "13"
        ]
       ],
       "shape": {
        "columns": 1,
        "rows": 22887
       }
      },
      "text/plain": [
       "author_name\n",
       "[deleted]               19087\n",
       "OPINION_IS_UNPOPULAR      373\n",
       "pdwp90                     81\n",
       "AutoModerator              61\n",
       "dhiral1994                 58\n",
       "                        ...  \n",
       "brokebroker90               1\n",
       "Lleoki                      1\n",
       "Nitoryuhunter               1\n",
       "warriormitch                1\n",
       "vF101                       1\n",
       "Name: count, Length: 22887, dtype: int64"
      ]
     },
     "execution_count": 10,
     "metadata": {},
     "output_type": "execute_result"
    }
   ],
   "source": [
    "df['author_name'].value_counts()"
   ]
  },
  {
   "cell_type": "code",
   "execution_count": 11,
   "id": "d78da703",
   "metadata": {},
   "outputs": [],
   "source": [
    "\"\"\"\n",
    "Initialize with known manipulation periods for labeling\n",
    "\n",
    "manipulation_periods: list of tuples [(start_date, end_date), ...]\n",
    "Example: [('2021-01-13', '2021-01-15'), ('2021-01-25', '2021-01-28')]\n",
    "\"\"\"\n",
    "manipulation_periods = [\n",
    "    ('2021-01-13', '2021-01-15'),  # Initial coordination buildup\n",
    "    ('2021-01-25', '2021-01-28'),  # Peak manipulation period\n",
    "    ('2021-02-01', '2021-02-05')   # Sustained artificial activity\n",
    "]\n",
    "\n",
    "# Convert to datetime objects\n",
    "manipulation_periods = [\n",
    "    (pd.to_datetime(start), pd.to_datetime(end)) \n",
    "    for start, end in manipulation_periods\n",
    "]"
   ]
  },
  {
   "cell_type": "code",
   "execution_count": 12,
   "id": "33aebd8a",
   "metadata": {},
   "outputs": [],
   "source": [
    "def _clean_text(text):\n",
    "    \"\"\"Clean and normalize text data\"\"\"\n",
    "    if pd.isna(text):\n",
    "        return \"\"\n",
    "    \n",
    "    # Remove URLs\n",
    "    text = re.sub(r'http\\S+|www\\S+', '', text)\n",
    "    \n",
    "    # Remove special characters but keep spaces\n",
    "    text = re.sub(r'[^a-zA-Z0-9\\s]', ' ', text)\n",
    "    \n",
    "    # Remove extra whitespace\n",
    "    text = ' '.join(text.split())\n",
    "    \n",
    "    return text.lower()"
   ]
  },
  {
   "cell_type": "code",
   "execution_count": 13,
   "id": "ede24779",
   "metadata": {},
   "outputs": [
    {
     "data": {
      "application/vnd.microsoft.datawrangler.viewer.v0+json": {
       "columns": [
        {
         "name": "index",
         "rawType": "int64",
         "type": "integer"
        },
        {
         "name": "title",
         "rawType": "object",
         "type": "string"
        },
        {
         "name": "score",
         "rawType": "int64",
         "type": "integer"
        },
        {
         "name": "post_id",
         "rawType": "object",
         "type": "string"
        },
        {
         "name": "url",
         "rawType": "object",
         "type": "string"
        },
        {
         "name": "comms_num",
         "rawType": "int64",
         "type": "integer"
        },
        {
         "name": "created",
         "rawType": "float64",
         "type": "float"
        },
        {
         "name": "body",
         "rawType": "object",
         "type": "unknown"
        },
        {
         "name": "timestamp",
         "rawType": "datetime64[ns]",
         "type": "datetime"
        },
        {
         "name": "author_name",
         "rawType": "object",
         "type": "string"
        },
        {
         "name": "author_id",
         "rawType": "object",
         "type": "string"
        },
        {
         "name": "is_gme",
         "rawType": "bool",
         "type": "boolean"
        },
        {
         "name": "title_clean",
         "rawType": "object",
         "type": "string"
        },
        {
         "name": "body_clean",
         "rawType": "object",
         "type": "string"
        },
        {
         "name": "combined_text",
         "rawType": "object",
         "type": "string"
        }
       ],
       "ref": "23c51995-b13f-4916-b157-8d664f2b23a4",
       "rows": [
        [
         "1",
         "Math Professor Scott Steiner says the numbers spell DISASTER for Gamestop shorts",
         "110",
         "l6uibd",
         "https://v.redd.it/ah50lyny62e61",
         "23",
         "1611862330.0",
         null,
         "2021-01-28 21:32:10",
         "jaxxtothemaxx",
         "onvag",
         "True",
         "math professor scott steiner says the numbers spell disaster for gamestop shorts",
         "",
         "math professor scott steiner says the numbers spell disaster for gamestop shorts "
        ],
        [
         "2",
         "Exit the system",
         "0",
         "l6uhhn",
         "https://www.reddit.com/r/wallstreetbets/comments/l6uhhn/exit_the_system/",
         "47",
         "1611862235.0",
         "The CEO of NASDAQ pushed to halt trading “to give investors a chance to recalibrate their positions”.\n\n[https://mobile.twitter.com/Mediaite/status/1354504710695362563](https://mobile.twitter.com/Mediaite/status/1354504710695362563)\n\nNow SEC is investigating, brokers are disallowing buying more calls. This is the institutions flat out admitting they will change the rules to bail out the rich but if it happens to us, we get a “well shucks you should have known investing is risky! have you tried cutting out avocados and coffee, maybe doing Uber on the side?”\n\nWe may have collectively driven up enough sentiment in wall street to make other big players go long on GME with us (we do not have the money to move the stock as much as it did alone). we didn’t hurt wall street as a whole, just a few funds went down while others went up and profited off the shorts the same as us. The media wants to pin the blame on us.\n\nIt should be crystal clear that this is a rigged game by now. Its time to build new exchanges that can’t arbitrarily change the rules on us. Cr\\*\\*o has some version of these, maybe they can be repurposed to be trade stock without government intervention. I don’t know exactly what it will look like yet, but the broad next steps i see are - 1. exit the current financial system 2. build a new one.",
         "2021-01-28 21:30:35",
         "stonerbobo",
         "f3p9m",
         "True",
         "exit the system",
         "the ceo of nasdaq pushed to halt trading to give investors a chance to recalibrate their positions now sec is investigating brokers are disallowing buying more calls this is the institutions flat out admitting they will change the rules to bail out the rich but if it happens to us we get a well shucks you should have known investing is risky have you tried cutting out avocados and coffee maybe doing uber on the side we may have collectively driven up enough sentiment in wall street to make other big players go long on gme with us we do not have the money to move the stock as much as it did alone we didn t hurt wall street as a whole just a few funds went down while others went up and profited off the shorts the same as us the media wants to pin the blame on us it should be crystal clear that this is a rigged game by now its time to build new exchanges that can t arbitrarily change the rules on us cr o has some version of these maybe they can be repurposed to be trade stock without government intervention i don t know exactly what it will look like yet but the broad next steps i see are 1 exit the current financial system 2 build a new one",
         "exit the system the ceo of nasdaq pushed to halt trading to give investors a chance to recalibrate their positions now sec is investigating brokers are disallowing buying more calls this is the institutions flat out admitting they will change the rules to bail out the rich but if it happens to us we get a well shucks you should have known investing is risky have you tried cutting out avocados and coffee maybe doing uber on the side we may have collectively driven up enough sentiment in wall street to make other big players go long on gme with us we do not have the money to move the stock as much as it did alone we didn t hurt wall street as a whole just a few funds went down while others went up and profited off the shorts the same as us the media wants to pin the blame on us it should be crystal clear that this is a rigged game by now its time to build new exchanges that can t arbitrarily change the rules on us cr o has some version of these maybe they can be repurposed to be trade stock without government intervention i don t know exactly what it will look like yet but the broad next steps i see are 1 exit the current financial system 2 build a new one"
        ],
        [
         "3",
         "NEW SEC FILING FOR GME! CAN SOMEONE LESS RETARDED THAN ME PLEASE INTERPRET?",
         "29",
         "l6ugk6",
         "https://sec.report/Document/0001193125-21-019848/",
         "74",
         "1611862137.0",
         null,
         "2021-01-28 21:28:57",
         "Sleavitt10",
         "9u7y1",
         "True",
         "new sec filing for gme can someone less retarded than me please interpret",
         "",
         "new sec filing for gme can someone less retarded than me please interpret "
        ],
        [
         "4",
         "Not to distract from GME, just thought our AMC brothers should be aware of this",
         "71",
         "l6ufgy",
         "https://i.redd.it/4h2sukb662e61.jpg",
         "156",
         "1611862016.0",
         null,
         "2021-01-28 21:26:56",
         "di3_b0ld",
         "13cexg",
         "True",
         "not to distract from gme just thought our amc brothers should be aware of this",
         "",
         "not to distract from gme just thought our amc brothers should be aware of this "
        ],
        [
         "6",
         "SHORT STOCK DOESN'T HAVE AN EXPIRATION DATE",
         "317",
         "l6uf6d",
         "https://www.reddit.com/r/wallstreetbets/comments/l6uf6d/short_stock_doesnt_have_an_expiration_date/",
         "53",
         "1611861987.0",
         "Hedgefund whales are spreading disinfo saying Friday is make-or-break for $GME. Call options expiring ITM on Friday will drive the price up if levels are maintained, but may not trigger the short squeeze.\n\nIt may be Friday, but it could be next week the we see the real squeeze.\n\nDON'T PANIC IF THE SQUEEZE DOESN'T HAPPEN FRIDAY.\n\nIt's not guaranteed to. The only thing that is guaranteed mathematically is that the shorts will have to cover at some point in the future. They are trying to get enough people hooked on the false expectation of Friday so that if/when it doesn't happen, enough will sell out of panic/despair. DON'T BE THAT PERSON.\n\nWE LIKE THE STOCK",
         "2021-01-28 21:26:27",
         "Aiken_Drumn",
         "6g1d5",
         "True",
         "short stock doesn t have an expiration date",
         "hedgefund whales are spreading disinfo saying friday is make or break for gme call options expiring itm on friday will drive the price up if levels are maintained but may not trigger the short squeeze it may be friday but it could be next week the we see the real squeeze don t panic if the squeeze doesn t happen friday it s not guaranteed to the only thing that is guaranteed mathematically is that the shorts will have to cover at some point in the future they are trying to get enough people hooked on the false expectation of friday so that if when it doesn t happen enough will sell out of panic despair don t be that person we like the stock",
         "short stock doesn t have an expiration date hedgefund whales are spreading disinfo saying friday is make or break for gme call options expiring itm on friday will drive the price up if levels are maintained but may not trigger the short squeeze it may be friday but it could be next week the we see the real squeeze don t panic if the squeeze doesn t happen friday it s not guaranteed to the only thing that is guaranteed mathematically is that the shorts will have to cover at some point in the future they are trying to get enough people hooked on the false expectation of friday so that if when it doesn t happen enough will sell out of panic despair don t be that person we like the stock"
        ]
       ],
       "shape": {
        "columns": 14,
        "rows": 5
       }
      },
      "text/html": [
       "<div>\n",
       "<style scoped>\n",
       "    .dataframe tbody tr th:only-of-type {\n",
       "        vertical-align: middle;\n",
       "    }\n",
       "\n",
       "    .dataframe tbody tr th {\n",
       "        vertical-align: top;\n",
       "    }\n",
       "\n",
       "    .dataframe thead th {\n",
       "        text-align: right;\n",
       "    }\n",
       "</style>\n",
       "<table border=\"1\" class=\"dataframe\">\n",
       "  <thead>\n",
       "    <tr style=\"text-align: right;\">\n",
       "      <th></th>\n",
       "      <th>title</th>\n",
       "      <th>score</th>\n",
       "      <th>post_id</th>\n",
       "      <th>url</th>\n",
       "      <th>comms_num</th>\n",
       "      <th>created</th>\n",
       "      <th>body</th>\n",
       "      <th>timestamp</th>\n",
       "      <th>author_name</th>\n",
       "      <th>author_id</th>\n",
       "      <th>is_gme</th>\n",
       "      <th>title_clean</th>\n",
       "      <th>body_clean</th>\n",
       "      <th>combined_text</th>\n",
       "    </tr>\n",
       "  </thead>\n",
       "  <tbody>\n",
       "    <tr>\n",
       "      <th>1</th>\n",
       "      <td>Math Professor Scott Steiner says the numbers ...</td>\n",
       "      <td>110</td>\n",
       "      <td>l6uibd</td>\n",
       "      <td>https://v.redd.it/ah50lyny62e61</td>\n",
       "      <td>23</td>\n",
       "      <td>1.611862e+09</td>\n",
       "      <td>NaN</td>\n",
       "      <td>2021-01-28 21:32:10</td>\n",
       "      <td>jaxxtothemaxx</td>\n",
       "      <td>onvag</td>\n",
       "      <td>True</td>\n",
       "      <td>math professor scott steiner says the numbers ...</td>\n",
       "      <td></td>\n",
       "      <td>math professor scott steiner says the numbers ...</td>\n",
       "    </tr>\n",
       "    <tr>\n",
       "      <th>2</th>\n",
       "      <td>Exit the system</td>\n",
       "      <td>0</td>\n",
       "      <td>l6uhhn</td>\n",
       "      <td>https://www.reddit.com/r/wallstreetbets/commen...</td>\n",
       "      <td>47</td>\n",
       "      <td>1.611862e+09</td>\n",
       "      <td>The CEO of NASDAQ pushed to halt trading “to g...</td>\n",
       "      <td>2021-01-28 21:30:35</td>\n",
       "      <td>stonerbobo</td>\n",
       "      <td>f3p9m</td>\n",
       "      <td>True</td>\n",
       "      <td>exit the system</td>\n",
       "      <td>the ceo of nasdaq pushed to halt trading to gi...</td>\n",
       "      <td>exit the system the ceo of nasdaq pushed to ha...</td>\n",
       "    </tr>\n",
       "    <tr>\n",
       "      <th>3</th>\n",
       "      <td>NEW SEC FILING FOR GME! CAN SOMEONE LESS RETAR...</td>\n",
       "      <td>29</td>\n",
       "      <td>l6ugk6</td>\n",
       "      <td>https://sec.report/Document/0001193125-21-019848/</td>\n",
       "      <td>74</td>\n",
       "      <td>1.611862e+09</td>\n",
       "      <td>NaN</td>\n",
       "      <td>2021-01-28 21:28:57</td>\n",
       "      <td>Sleavitt10</td>\n",
       "      <td>9u7y1</td>\n",
       "      <td>True</td>\n",
       "      <td>new sec filing for gme can someone less retard...</td>\n",
       "      <td></td>\n",
       "      <td>new sec filing for gme can someone less retard...</td>\n",
       "    </tr>\n",
       "    <tr>\n",
       "      <th>4</th>\n",
       "      <td>Not to distract from GME, just thought our AMC...</td>\n",
       "      <td>71</td>\n",
       "      <td>l6ufgy</td>\n",
       "      <td>https://i.redd.it/4h2sukb662e61.jpg</td>\n",
       "      <td>156</td>\n",
       "      <td>1.611862e+09</td>\n",
       "      <td>NaN</td>\n",
       "      <td>2021-01-28 21:26:56</td>\n",
       "      <td>di3_b0ld</td>\n",
       "      <td>13cexg</td>\n",
       "      <td>True</td>\n",
       "      <td>not to distract from gme just thought our amc ...</td>\n",
       "      <td></td>\n",
       "      <td>not to distract from gme just thought our amc ...</td>\n",
       "    </tr>\n",
       "    <tr>\n",
       "      <th>6</th>\n",
       "      <td>SHORT STOCK DOESN'T HAVE AN EXPIRATION DATE</td>\n",
       "      <td>317</td>\n",
       "      <td>l6uf6d</td>\n",
       "      <td>https://www.reddit.com/r/wallstreetbets/commen...</td>\n",
       "      <td>53</td>\n",
       "      <td>1.611862e+09</td>\n",
       "      <td>Hedgefund whales are spreading disinfo saying ...</td>\n",
       "      <td>2021-01-28 21:26:27</td>\n",
       "      <td>Aiken_Drumn</td>\n",
       "      <td>6g1d5</td>\n",
       "      <td>True</td>\n",
       "      <td>short stock doesn t have an expiration date</td>\n",
       "      <td>hedgefund whales are spreading disinfo saying ...</td>\n",
       "      <td>short stock doesn t have an expiration date he...</td>\n",
       "    </tr>\n",
       "  </tbody>\n",
       "</table>\n",
       "</div>"
      ],
      "text/plain": [
       "                                               title  score post_id  \\\n",
       "1  Math Professor Scott Steiner says the numbers ...    110  l6uibd   \n",
       "2                                    Exit the system      0  l6uhhn   \n",
       "3  NEW SEC FILING FOR GME! CAN SOMEONE LESS RETAR...     29  l6ugk6   \n",
       "4  Not to distract from GME, just thought our AMC...     71  l6ufgy   \n",
       "6        SHORT STOCK DOESN'T HAVE AN EXPIRATION DATE    317  l6uf6d   \n",
       "\n",
       "                                                 url  comms_num       created  \\\n",
       "1                    https://v.redd.it/ah50lyny62e61         23  1.611862e+09   \n",
       "2  https://www.reddit.com/r/wallstreetbets/commen...         47  1.611862e+09   \n",
       "3  https://sec.report/Document/0001193125-21-019848/         74  1.611862e+09   \n",
       "4                https://i.redd.it/4h2sukb662e61.jpg        156  1.611862e+09   \n",
       "6  https://www.reddit.com/r/wallstreetbets/commen...         53  1.611862e+09   \n",
       "\n",
       "                                                body           timestamp  \\\n",
       "1                                                NaN 2021-01-28 21:32:10   \n",
       "2  The CEO of NASDAQ pushed to halt trading “to g... 2021-01-28 21:30:35   \n",
       "3                                                NaN 2021-01-28 21:28:57   \n",
       "4                                                NaN 2021-01-28 21:26:56   \n",
       "6  Hedgefund whales are spreading disinfo saying ... 2021-01-28 21:26:27   \n",
       "\n",
       "     author_name author_id  is_gme  \\\n",
       "1  jaxxtothemaxx     onvag    True   \n",
       "2     stonerbobo     f3p9m    True   \n",
       "3     Sleavitt10     9u7y1    True   \n",
       "4       di3_b0ld    13cexg    True   \n",
       "6    Aiken_Drumn     6g1d5    True   \n",
       "\n",
       "                                         title_clean  \\\n",
       "1  math professor scott steiner says the numbers ...   \n",
       "2                                    exit the system   \n",
       "3  new sec filing for gme can someone less retard...   \n",
       "4  not to distract from gme just thought our amc ...   \n",
       "6        short stock doesn t have an expiration date   \n",
       "\n",
       "                                          body_clean  \\\n",
       "1                                                      \n",
       "2  the ceo of nasdaq pushed to halt trading to gi...   \n",
       "3                                                      \n",
       "4                                                      \n",
       "6  hedgefund whales are spreading disinfo saying ...   \n",
       "\n",
       "                                       combined_text  \n",
       "1  math professor scott steiner says the numbers ...  \n",
       "2  exit the system the ceo of nasdaq pushed to ha...  \n",
       "3  new sec filing for gme can someone less retard...  \n",
       "4  not to distract from gme just thought our amc ...  \n",
       "6  short stock doesn t have an expiration date he...  "
      ]
     },
     "execution_count": 13,
     "metadata": {},
     "output_type": "execute_result"
    }
   ],
   "source": [
    "\"\"\"Load Reddit data and perform initial cleaning\"\"\"\n",
    "\n",
    "# Convert timestamp to datetime\n",
    "df['timestamp'] = pd.to_datetime(df['timestamp'])\n",
    "\n",
    "# Filter for GameStop-related posts\n",
    "gme_keywords = ['GME', 'GameStop', 'Gamestop', 'GAMESTOP']\n",
    "df['is_gme'] = df['title'].str.contains('|'.join(gme_keywords), case=False, na=False) | \\\n",
    "                df['body'].str.contains('|'.join(gme_keywords), case=False, na=False)\n",
    "\n",
    "# Keep only GME-related posts\n",
    "df = df[df['is_gme']].copy()\n",
    "\n",
    "# Clean text data\n",
    "df['title_clean'] = df['title'].apply(_clean_text)\n",
    "df['body_clean'] = df['body'].fillna('').apply(_clean_text)\n",
    "df['combined_text'] = df['title_clean'] + ' ' + df['body_clean']\n",
    "\n",
    "df.sort_values('timestamp').reset_index(drop=True)\n",
    "df.head()\n"
   ]
  },
  {
   "cell_type": "code",
   "execution_count": 14,
   "id": "c1bfd536",
   "metadata": {},
   "outputs": [
    {
     "name": "stdout",
     "output_type": "stream",
     "text": [
      "<class 'pandas.core.frame.DataFrame'>\n",
      "Index: 15018 entries, 1 to 53183\n",
      "Data columns (total 14 columns):\n",
      " #   Column         Non-Null Count  Dtype         \n",
      "---  ------         --------------  -----         \n",
      " 0   title          15018 non-null  object        \n",
      " 1   score          15018 non-null  int64         \n",
      " 2   post_id        15018 non-null  object        \n",
      " 3   url            15018 non-null  object        \n",
      " 4   comms_num      15018 non-null  int64         \n",
      " 5   created        15018 non-null  float64       \n",
      " 6   body           10116 non-null  object        \n",
      " 7   timestamp      15018 non-null  datetime64[ns]\n",
      " 8   author_name    14295 non-null  object        \n",
      " 9   author_id      14295 non-null  object        \n",
      " 10  is_gme         15018 non-null  bool          \n",
      " 11  title_clean    15018 non-null  object        \n",
      " 12  body_clean     15018 non-null  object        \n",
      " 13  combined_text  15018 non-null  object        \n",
      "dtypes: bool(1), datetime64[ns](1), float64(1), int64(2), object(9)\n",
      "memory usage: 1.6+ MB\n"
     ]
    }
   ],
   "source": [
    "df.info()"
   ]
  },
  {
   "cell_type": "code",
   "execution_count": 17,
   "id": "49b60b6c",
   "metadata": {},
   "outputs": [
    {
     "data": {
      "text/plain": [
       "0.4965277777777778"
      ]
     },
     "execution_count": 17,
     "metadata": {},
     "output_type": "execute_result"
    }
   ],
   "source": [
    "TextBlob(df.loc[39, 'combined_text']).sentiment.subjectivity"
   ]
  },
  {
   "cell_type": "code",
   "execution_count": 18,
   "id": "ae2748c6",
   "metadata": {},
   "outputs": [
    {
     "data": {
      "application/vnd.microsoft.datawrangler.viewer.v0+json": {
       "columns": [
        {
         "name": "index",
         "rawType": "int64",
         "type": "integer"
        },
        {
         "name": "title",
         "rawType": "object",
         "type": "string"
        },
        {
         "name": "score",
         "rawType": "int64",
         "type": "integer"
        },
        {
         "name": "post_id",
         "rawType": "object",
         "type": "string"
        },
        {
         "name": "url",
         "rawType": "object",
         "type": "string"
        },
        {
         "name": "comms_num",
         "rawType": "int64",
         "type": "integer"
        },
        {
         "name": "created",
         "rawType": "float64",
         "type": "float"
        },
        {
         "name": "body",
         "rawType": "object",
         "type": "unknown"
        },
        {
         "name": "timestamp",
         "rawType": "datetime64[ns]",
         "type": "datetime"
        },
        {
         "name": "author_name",
         "rawType": "object",
         "type": "string"
        },
        {
         "name": "author_id",
         "rawType": "object",
         "type": "string"
        },
        {
         "name": "is_gme",
         "rawType": "bool",
         "type": "boolean"
        },
        {
         "name": "title_clean",
         "rawType": "object",
         "type": "string"
        },
        {
         "name": "body_clean",
         "rawType": "object",
         "type": "string"
        },
        {
         "name": "combined_text",
         "rawType": "object",
         "type": "string"
        },
        {
         "name": "sentiment",
         "rawType": "float64",
         "type": "float"
        },
        {
         "name": "sentiment_magnitude",
         "rawType": "float64",
         "type": "float"
        },
        {
         "name": "subjectivity",
         "rawType": "float64",
         "type": "float"
        },
        {
         "name": "title_length",
         "rawType": "int64",
         "type": "integer"
        },
        {
         "name": "body_length",
         "rawType": "int64",
         "type": "integer"
        },
        {
         "name": "total_length",
         "rawType": "int64",
         "type": "integer"
        },
        {
         "name": "engagement_score",
         "rawType": "int64",
         "type": "integer"
        },
        {
         "name": "score_per_comment",
         "rawType": "float64",
         "type": "float"
        },
        {
         "name": "author_post_count",
         "rawType": "float64",
         "type": "float"
        }
       ],
       "ref": "f367f7ef-b81f-4b23-bee4-f7958f26d4d9",
       "rows": [
        [
         "1",
         "Math Professor Scott Steiner says the numbers spell DISASTER for Gamestop shorts",
         "110",
         "l6uibd",
         "https://v.redd.it/ah50lyny62e61",
         "23",
         "1611862330.0",
         null,
         "2021-01-28 21:32:10",
         "jaxxtothemaxx",
         "onvag",
         "True",
         "math professor scott steiner says the numbers spell disaster for gamestop shorts",
         "",
         "math professor scott steiner says the numbers spell disaster for gamestop shorts ",
         "0.0",
         "0.0",
         "0.0",
         "80",
         "0",
         "80",
         "133",
         "4.583333333333333",
         "1.0"
        ],
        [
         "2",
         "Exit the system",
         "0",
         "l6uhhn",
         "https://www.reddit.com/r/wallstreetbets/comments/l6uhhn/exit_the_system/",
         "47",
         "1611862235.0",
         "The CEO of NASDAQ pushed to halt trading “to give investors a chance to recalibrate their positions”.\n\n[https://mobile.twitter.com/Mediaite/status/1354504710695362563](https://mobile.twitter.com/Mediaite/status/1354504710695362563)\n\nNow SEC is investigating, brokers are disallowing buying more calls. This is the institutions flat out admitting they will change the rules to bail out the rich but if it happens to us, we get a “well shucks you should have known investing is risky! have you tried cutting out avocados and coffee, maybe doing Uber on the side?”\n\nWe may have collectively driven up enough sentiment in wall street to make other big players go long on GME with us (we do not have the money to move the stock as much as it did alone). we didn’t hurt wall street as a whole, just a few funds went down while others went up and profited off the shorts the same as us. The media wants to pin the blame on us.\n\nIt should be crystal clear that this is a rigged game by now. Its time to build new exchanges that can’t arbitrarily change the rules on us. Cr\\*\\*o has some version of these, maybe they can be repurposed to be trade stock without government intervention. I don’t know exactly what it will look like yet, but the broad next steps i see are - 1. exit the current financial system 2. build a new one.",
         "2021-01-28 21:30:35",
         "stonerbobo",
         "f3p9m",
         "True",
         "exit the system",
         "the ceo of nasdaq pushed to halt trading to give investors a chance to recalibrate their positions now sec is investigating brokers are disallowing buying more calls this is the institutions flat out admitting they will change the rules to bail out the rich but if it happens to us we get a well shucks you should have known investing is risky have you tried cutting out avocados and coffee maybe doing uber on the side we may have collectively driven up enough sentiment in wall street to make other big players go long on gme with us we do not have the money to move the stock as much as it did alone we didn t hurt wall street as a whole just a few funds went down while others went up and profited off the shorts the same as us the media wants to pin the blame on us it should be crystal clear that this is a rigged game by now its time to build new exchanges that can t arbitrarily change the rules on us cr o has some version of these maybe they can be repurposed to be trade stock without government intervention i don t know exactly what it will look like yet but the broad next steps i see are 1 exit the current financial system 2 build a new one",
         "exit the system the ceo of nasdaq pushed to halt trading to give investors a chance to recalibrate their positions now sec is investigating brokers are disallowing buying more calls this is the institutions flat out admitting they will change the rules to bail out the rich but if it happens to us we get a well shucks you should have known investing is risky have you tried cutting out avocados and coffee maybe doing uber on the side we may have collectively driven up enough sentiment in wall street to make other big players go long on gme with us we do not have the money to move the stock as much as it did alone we didn t hurt wall street as a whole just a few funds went down while others went up and profited off the shorts the same as us the media wants to pin the blame on us it should be crystal clear that this is a rigged game by now its time to build new exchanges that can t arbitrarily change the rules on us cr o has some version of these maybe they can be repurposed to be trade stock without government intervention i don t know exactly what it will look like yet but the broad next steps i see are 1 exit the current financial system 2 build a new one",
         "0.016186868686868684",
         "0.016186868686868684",
         "0.3487525252525252",
         "15",
         "1156",
         "1171",
         "47",
         "0.0",
         "1.0"
        ],
        [
         "3",
         "NEW SEC FILING FOR GME! CAN SOMEONE LESS RETARDED THAN ME PLEASE INTERPRET?",
         "29",
         "l6ugk6",
         "https://sec.report/Document/0001193125-21-019848/",
         "74",
         "1611862137.0",
         null,
         "2021-01-28 21:28:57",
         "Sleavitt10",
         "9u7y1",
         "True",
         "new sec filing for gme can someone less retarded than me please interpret",
         "",
         "new sec filing for gme can someone less retarded than me please interpret ",
         "-0.2325757575757576",
         "0.2325757575757576",
         "0.4803030303030303",
         "73",
         "0",
         "73",
         "103",
         "0.38666666666666666",
         "3.0"
        ],
        [
         "4",
         "Not to distract from GME, just thought our AMC brothers should be aware of this",
         "71",
         "l6ufgy",
         "https://i.redd.it/4h2sukb662e61.jpg",
         "156",
         "1611862016.0",
         null,
         "2021-01-28 21:26:56",
         "di3_b0ld",
         "13cexg",
         "True",
         "not to distract from gme just thought our amc brothers should be aware of this",
         "",
         "not to distract from gme just thought our amc brothers should be aware of this ",
         "0.25",
         "0.25",
         "0.25",
         "78",
         "0",
         "78",
         "227",
         "0.45222929936305734",
         "2.0"
        ],
        [
         "6",
         "SHORT STOCK DOESN'T HAVE AN EXPIRATION DATE",
         "317",
         "l6uf6d",
         "https://www.reddit.com/r/wallstreetbets/comments/l6uf6d/short_stock_doesnt_have_an_expiration_date/",
         "53",
         "1611861987.0",
         "Hedgefund whales are spreading disinfo saying Friday is make-or-break for $GME. Call options expiring ITM on Friday will drive the price up if levels are maintained, but may not trigger the short squeeze.\n\nIt may be Friday, but it could be next week the we see the real squeeze.\n\nDON'T PANIC IF THE SQUEEZE DOESN'T HAPPEN FRIDAY.\n\nIt's not guaranteed to. The only thing that is guaranteed mathematically is that the shorts will have to cover at some point in the future. They are trying to get enough people hooked on the false expectation of Friday so that if/when it doesn't happen, enough will sell out of panic/despair. DON'T BE THAT PERSON.\n\nWE LIKE THE STOCK",
         "2021-01-28 21:26:27",
         "Aiken_Drumn",
         "6g1d5",
         "True",
         "short stock doesn t have an expiration date",
         "hedgefund whales are spreading disinfo saying friday is make or break for gme call options expiring itm on friday will drive the price up if levels are maintained but may not trigger the short squeeze it may be friday but it could be next week the we see the real squeeze don t panic if the squeeze doesn t happen friday it s not guaranteed to the only thing that is guaranteed mathematically is that the shorts will have to cover at some point in the future they are trying to get enough people hooked on the false expectation of friday so that if when it doesn t happen enough will sell out of panic despair don t be that person we like the stock",
         "short stock doesn t have an expiration date hedgefund whales are spreading disinfo saying friday is make or break for gme call options expiring itm on friday will drive the price up if levels are maintained but may not trigger the short squeeze it may be friday but it could be next week the we see the real squeeze don t panic if the squeeze doesn t happen friday it s not guaranteed to the only thing that is guaranteed mathematically is that the shorts will have to cover at some point in the future they are trying to get enough people hooked on the false expectation of friday so that if when it doesn t happen enough will sell out of panic despair don t be that person we like the stock",
         "-0.020000000000000007",
         "0.020000000000000007",
         "0.3625",
         "43",
         "648",
         "691",
         "370",
         "5.87037037037037",
         "2.0"
        ]
       ],
       "shape": {
        "columns": 23,
        "rows": 5
       }
      },
      "text/html": [
       "<div>\n",
       "<style scoped>\n",
       "    .dataframe tbody tr th:only-of-type {\n",
       "        vertical-align: middle;\n",
       "    }\n",
       "\n",
       "    .dataframe tbody tr th {\n",
       "        vertical-align: top;\n",
       "    }\n",
       "\n",
       "    .dataframe thead th {\n",
       "        text-align: right;\n",
       "    }\n",
       "</style>\n",
       "<table border=\"1\" class=\"dataframe\">\n",
       "  <thead>\n",
       "    <tr style=\"text-align: right;\">\n",
       "      <th></th>\n",
       "      <th>title</th>\n",
       "      <th>score</th>\n",
       "      <th>post_id</th>\n",
       "      <th>url</th>\n",
       "      <th>comms_num</th>\n",
       "      <th>created</th>\n",
       "      <th>body</th>\n",
       "      <th>timestamp</th>\n",
       "      <th>author_name</th>\n",
       "      <th>author_id</th>\n",
       "      <th>...</th>\n",
       "      <th>combined_text</th>\n",
       "      <th>sentiment</th>\n",
       "      <th>sentiment_magnitude</th>\n",
       "      <th>subjectivity</th>\n",
       "      <th>title_length</th>\n",
       "      <th>body_length</th>\n",
       "      <th>total_length</th>\n",
       "      <th>engagement_score</th>\n",
       "      <th>score_per_comment</th>\n",
       "      <th>author_post_count</th>\n",
       "    </tr>\n",
       "  </thead>\n",
       "  <tbody>\n",
       "    <tr>\n",
       "      <th>1</th>\n",
       "      <td>Math Professor Scott Steiner says the numbers ...</td>\n",
       "      <td>110</td>\n",
       "      <td>l6uibd</td>\n",
       "      <td>https://v.redd.it/ah50lyny62e61</td>\n",
       "      <td>23</td>\n",
       "      <td>1.611862e+09</td>\n",
       "      <td>NaN</td>\n",
       "      <td>2021-01-28 21:32:10</td>\n",
       "      <td>jaxxtothemaxx</td>\n",
       "      <td>onvag</td>\n",
       "      <td>...</td>\n",
       "      <td>math professor scott steiner says the numbers ...</td>\n",
       "      <td>0.000000</td>\n",
       "      <td>0.000000</td>\n",
       "      <td>0.000000</td>\n",
       "      <td>80</td>\n",
       "      <td>0</td>\n",
       "      <td>80</td>\n",
       "      <td>133</td>\n",
       "      <td>4.583333</td>\n",
       "      <td>1.0</td>\n",
       "    </tr>\n",
       "    <tr>\n",
       "      <th>2</th>\n",
       "      <td>Exit the system</td>\n",
       "      <td>0</td>\n",
       "      <td>l6uhhn</td>\n",
       "      <td>https://www.reddit.com/r/wallstreetbets/commen...</td>\n",
       "      <td>47</td>\n",
       "      <td>1.611862e+09</td>\n",
       "      <td>The CEO of NASDAQ pushed to halt trading “to g...</td>\n",
       "      <td>2021-01-28 21:30:35</td>\n",
       "      <td>stonerbobo</td>\n",
       "      <td>f3p9m</td>\n",
       "      <td>...</td>\n",
       "      <td>exit the system the ceo of nasdaq pushed to ha...</td>\n",
       "      <td>0.016187</td>\n",
       "      <td>0.016187</td>\n",
       "      <td>0.348753</td>\n",
       "      <td>15</td>\n",
       "      <td>1156</td>\n",
       "      <td>1171</td>\n",
       "      <td>47</td>\n",
       "      <td>0.000000</td>\n",
       "      <td>1.0</td>\n",
       "    </tr>\n",
       "    <tr>\n",
       "      <th>3</th>\n",
       "      <td>NEW SEC FILING FOR GME! CAN SOMEONE LESS RETAR...</td>\n",
       "      <td>29</td>\n",
       "      <td>l6ugk6</td>\n",
       "      <td>https://sec.report/Document/0001193125-21-019848/</td>\n",
       "      <td>74</td>\n",
       "      <td>1.611862e+09</td>\n",
       "      <td>NaN</td>\n",
       "      <td>2021-01-28 21:28:57</td>\n",
       "      <td>Sleavitt10</td>\n",
       "      <td>9u7y1</td>\n",
       "      <td>...</td>\n",
       "      <td>new sec filing for gme can someone less retard...</td>\n",
       "      <td>-0.232576</td>\n",
       "      <td>0.232576</td>\n",
       "      <td>0.480303</td>\n",
       "      <td>73</td>\n",
       "      <td>0</td>\n",
       "      <td>73</td>\n",
       "      <td>103</td>\n",
       "      <td>0.386667</td>\n",
       "      <td>3.0</td>\n",
       "    </tr>\n",
       "    <tr>\n",
       "      <th>4</th>\n",
       "      <td>Not to distract from GME, just thought our AMC...</td>\n",
       "      <td>71</td>\n",
       "      <td>l6ufgy</td>\n",
       "      <td>https://i.redd.it/4h2sukb662e61.jpg</td>\n",
       "      <td>156</td>\n",
       "      <td>1.611862e+09</td>\n",
       "      <td>NaN</td>\n",
       "      <td>2021-01-28 21:26:56</td>\n",
       "      <td>di3_b0ld</td>\n",
       "      <td>13cexg</td>\n",
       "      <td>...</td>\n",
       "      <td>not to distract from gme just thought our amc ...</td>\n",
       "      <td>0.250000</td>\n",
       "      <td>0.250000</td>\n",
       "      <td>0.250000</td>\n",
       "      <td>78</td>\n",
       "      <td>0</td>\n",
       "      <td>78</td>\n",
       "      <td>227</td>\n",
       "      <td>0.452229</td>\n",
       "      <td>2.0</td>\n",
       "    </tr>\n",
       "    <tr>\n",
       "      <th>6</th>\n",
       "      <td>SHORT STOCK DOESN'T HAVE AN EXPIRATION DATE</td>\n",
       "      <td>317</td>\n",
       "      <td>l6uf6d</td>\n",
       "      <td>https://www.reddit.com/r/wallstreetbets/commen...</td>\n",
       "      <td>53</td>\n",
       "      <td>1.611862e+09</td>\n",
       "      <td>Hedgefund whales are spreading disinfo saying ...</td>\n",
       "      <td>2021-01-28 21:26:27</td>\n",
       "      <td>Aiken_Drumn</td>\n",
       "      <td>6g1d5</td>\n",
       "      <td>...</td>\n",
       "      <td>short stock doesn t have an expiration date he...</td>\n",
       "      <td>-0.020000</td>\n",
       "      <td>0.020000</td>\n",
       "      <td>0.362500</td>\n",
       "      <td>43</td>\n",
       "      <td>648</td>\n",
       "      <td>691</td>\n",
       "      <td>370</td>\n",
       "      <td>5.870370</td>\n",
       "      <td>2.0</td>\n",
       "    </tr>\n",
       "  </tbody>\n",
       "</table>\n",
       "<p>5 rows × 23 columns</p>\n",
       "</div>"
      ],
      "text/plain": [
       "                                               title  score post_id  \\\n",
       "1  Math Professor Scott Steiner says the numbers ...    110  l6uibd   \n",
       "2                                    Exit the system      0  l6uhhn   \n",
       "3  NEW SEC FILING FOR GME! CAN SOMEONE LESS RETAR...     29  l6ugk6   \n",
       "4  Not to distract from GME, just thought our AMC...     71  l6ufgy   \n",
       "6        SHORT STOCK DOESN'T HAVE AN EXPIRATION DATE    317  l6uf6d   \n",
       "\n",
       "                                                 url  comms_num       created  \\\n",
       "1                    https://v.redd.it/ah50lyny62e61         23  1.611862e+09   \n",
       "2  https://www.reddit.com/r/wallstreetbets/commen...         47  1.611862e+09   \n",
       "3  https://sec.report/Document/0001193125-21-019848/         74  1.611862e+09   \n",
       "4                https://i.redd.it/4h2sukb662e61.jpg        156  1.611862e+09   \n",
       "6  https://www.reddit.com/r/wallstreetbets/commen...         53  1.611862e+09   \n",
       "\n",
       "                                                body           timestamp  \\\n",
       "1                                                NaN 2021-01-28 21:32:10   \n",
       "2  The CEO of NASDAQ pushed to halt trading “to g... 2021-01-28 21:30:35   \n",
       "3                                                NaN 2021-01-28 21:28:57   \n",
       "4                                                NaN 2021-01-28 21:26:56   \n",
       "6  Hedgefund whales are spreading disinfo saying ... 2021-01-28 21:26:27   \n",
       "\n",
       "     author_name author_id  ...  \\\n",
       "1  jaxxtothemaxx     onvag  ...   \n",
       "2     stonerbobo     f3p9m  ...   \n",
       "3     Sleavitt10     9u7y1  ...   \n",
       "4       di3_b0ld    13cexg  ...   \n",
       "6    Aiken_Drumn     6g1d5  ...   \n",
       "\n",
       "                                       combined_text sentiment  \\\n",
       "1  math professor scott steiner says the numbers ...  0.000000   \n",
       "2  exit the system the ceo of nasdaq pushed to ha...  0.016187   \n",
       "3  new sec filing for gme can someone less retard... -0.232576   \n",
       "4  not to distract from gme just thought our amc ...  0.250000   \n",
       "6  short stock doesn t have an expiration date he... -0.020000   \n",
       "\n",
       "  sentiment_magnitude subjectivity  title_length  body_length  total_length  \\\n",
       "1            0.000000     0.000000            80            0            80   \n",
       "2            0.016187     0.348753            15         1156          1171   \n",
       "3            0.232576     0.480303            73            0            73   \n",
       "4            0.250000     0.250000            78            0            78   \n",
       "6            0.020000     0.362500            43          648           691   \n",
       "\n",
       "   engagement_score  score_per_comment  author_post_count  \n",
       "1               133           4.583333                1.0  \n",
       "2                47           0.000000                1.0  \n",
       "3               103           0.386667                3.0  \n",
       "4               227           0.452229                2.0  \n",
       "6               370           5.870370                2.0  \n",
       "\n",
       "[5 rows x 23 columns]"
      ]
     },
     "execution_count": 18,
     "metadata": {},
     "output_type": "execute_result"
    }
   ],
   "source": [
    "# Extract post features\n",
    "\"\"\"Extract features from individual posts\"\"\"\n",
    "\n",
    "# Sentiment analysis\n",
    "df['sentiment'] = df['combined_text'].apply(\n",
    "    lambda x: TextBlob(x).sentiment.polarity if x else 0\n",
    ")\n",
    "df['sentiment_magnitude'] = df['combined_text'].apply(\n",
    "    lambda x: abs(TextBlob(x).sentiment.polarity) if x else 0\n",
    ")\n",
    "df['subjectivity'] = df['combined_text'].apply(\n",
    "    lambda x: TextBlob(x).sentiment.subjectivity\n",
    ")\n",
    "\n",
    "# Text length features\n",
    "df['title_length'] = df['title_clean'].str.len()\n",
    "df['body_length'] = df['body_clean'].str.len()\n",
    "df['total_length'] = df['title_length'] + df['body_length']\n",
    "\n",
    "# Engagement features\n",
    "df['engagement_score'] = df['score'] + df['comms_num']\n",
    "df['score_per_comment'] = df['score'] / (df['comms_num'] + 1)  # Avoid division by zero\n",
    "\n",
    "# Author features (anonymized but trackable patterns)\n",
    "df['author_post_count'] = df.groupby('author_id')['author_id'].transform('count')\n",
    "df.head()\n"
   ]
  },
  {
   "cell_type": "code",
   "execution_count": 19,
   "id": "f2dd04f3",
   "metadata": {},
   "outputs": [
    {
     "name": "stderr",
     "output_type": "stream",
     "text": [
      "C:\\Users\\Admin\\AppData\\Local\\Temp\\ipykernel_27428\\3481904185.py:4: FutureWarning: 'H' is deprecated and will be removed in a future version, please use 'h' instead.\n",
      "  df['hour_window'] = df['timestamp'].dt.floor(f'{window_hours}H')\n"
     ]
    }
   ],
   "source": [
    "# Calculate text similarity within time windows\n",
    "window_hours=1\n",
    "# Group posts by hour windows\n",
    "df['hour_window'] = df['timestamp'].dt.floor(f'{window_hours}H')"
   ]
  },
  {
   "cell_type": "code",
   "execution_count": 20,
   "id": "b78109ea",
   "metadata": {},
   "outputs": [
    {
     "data": {
      "application/vnd.microsoft.datawrangler.viewer.v0+json": {
       "columns": [
        {
         "name": "index",
         "rawType": "int64",
         "type": "integer"
        },
        {
         "name": "hour_window",
         "rawType": "datetime64[ns]",
         "type": "datetime"
        },
        {
         "name": "sentiment",
         "rawType": "float64",
         "type": "float"
        },
        {
         "name": "sentiment_magnitude",
         "rawType": "float64",
         "type": "float"
        },
        {
         "name": "subjectivity",
         "rawType": "float64",
         "type": "float"
        },
        {
         "name": "title_length",
         "rawType": "float64",
         "type": "float"
        },
        {
         "name": "body_length",
         "rawType": "float64",
         "type": "float"
        }
       ],
       "ref": "ff8cf2b4-0be9-4678-b510-c7441c95134a",
       "rows": [
        [
         "0",
         "2021-01-28 09:00:00",
         "0.07709789791620325",
         "0.1414485472668526",
         "0.43427650231849835",
         "69.1",
         "399.5"
        ],
        [
         "1",
         "2021-01-28 10:00:00",
         "0.08933573833573834",
         "0.14266907166907167",
         "0.5690913900913901",
         "60.0",
         "739.2"
        ],
        [
         "2",
         "2021-01-28 11:00:00",
         "-0.039918127189073394",
         "0.11568201607796229",
         "0.47664101381182455",
         "53.875",
         "762.25"
        ],
        [
         "3",
         "2021-01-28 12:00:00",
         "0.05826508400631207",
         "0.07520952845075651",
         "0.5038842774926735",
         "82.8",
         "1334.2"
        ],
        [
         "4",
         "2021-01-28 13:00:00",
         "0.1481068563036648",
         "0.15476390296071146",
         "0.5026382532811104",
         "77.57142857142857",
         "1547.2857142857142"
        ],
        [
         "5",
         "2021-01-28 14:00:00",
         "-0.004800825386949316",
         "0.05743688969390302",
         "0.4380845857264348",
         "72.33333333333333",
         "2722.777777777778"
        ],
        [
         "6",
         "2021-01-28 15:00:00",
         "0.061704779412421806",
         "0.06206633144064049",
         "0.46956494555378936",
         "92.44444444444444",
         "3092.3333333333335"
        ],
        [
         "7",
         "2021-01-28 16:00:00",
         "0.008789296242728142",
         "0.019575359906928002",
         "0.4347847283269057",
         "87.6",
         "1395.9"
        ],
        [
         "8",
         "2021-01-28 17:00:00",
         "0.10088369910700394",
         "0.13277307350880227",
         "0.4655536015728533",
         "91.0",
         "1709.6"
        ],
        [
         "9",
         "2021-01-28 18:00:00",
         "0.057183100275140564",
         "0.10244736638963982",
         "0.44880332562705944",
         "54.5",
         "1804.5"
        ],
        [
         "10",
         "2021-01-28 19:00:00",
         "-0.016858797077141236",
         "0.0693212876289175",
         "0.3499568505087986",
         "63.142857142857146",
         "821.4285714285714"
        ],
        [
         "11",
         "2021-01-28 20:00:00",
         "0.013751090179661613",
         "0.06521629164486308",
         "0.2571408948194662",
         "64.3076923076923",
         "266.84615384615387"
        ],
        [
         "12",
         "2021-01-28 21:00:00",
         "-0.006977656820784176",
         "0.10659109521570981",
         "0.3374620116572362",
         "57.583333333333336",
         "918.75"
        ],
        [
         "13",
         "2021-01-28 23:00:00",
         "0.04092958609620391",
         "0.15897421708247092",
         "0.38270069453369593",
         "55.378125",
         "192.678125"
        ],
        [
         "14",
         "2021-01-29 01:00:00",
         "0.028936987529252823",
         "0.15390860988998603",
         "0.3866201683719749",
         "54.174493326742464",
         "191.46267918932278"
        ],
        [
         "15",
         "2021-01-29 02:00:00",
         "0.02602738010496733",
         "0.15135714124063762",
         "0.40386625662019465",
         "57.80446271285966",
         "220.86553141514975"
        ],
        [
         "16",
         "2021-01-29 03:00:00",
         "0.028872388631625293",
         "0.14568016923832008",
         "0.38650434870940115",
         "58.682565789473685",
         "284.02138157894734"
        ],
        [
         "17",
         "2021-01-29 04:00:00",
         "0.006610875516700897",
         "0.15898137674553023",
         "0.4060832857735769",
         "66.63333333333334",
         "313.7888888888889"
        ],
        [
         "18",
         "2021-01-29 05:00:00",
         "0.043332851174799306",
         "0.10456965466650475",
         "0.38212795825126283",
         "66.34615384615384",
         "550.9807692307693"
        ],
        [
         "19",
         "2021-01-29 06:00:00",
         "0.05576291281949798",
         "0.10463054981213499",
         "0.4429825160991573",
         "70.88461538461539",
         "1046.0"
        ],
        [
         "20",
         "2021-01-29 07:00:00",
         "0.032736917284811665",
         "0.11355702310491748",
         "0.4534574458352597",
         "73.0909090909091",
         "924.6969696969697"
        ],
        [
         "21",
         "2021-01-29 08:00:00",
         "0.03263504056042704",
         "0.1164144136564668",
         "0.43852470720064457",
         "81.06666666666666",
         "1242.7111111111112"
        ],
        [
         "22",
         "2021-01-29 09:00:00",
         "0.019642144482825277",
         "0.09339732325467073",
         "0.4464183528167424",
         "52.86666666666667",
         "1193.7666666666667"
        ],
        [
         "23",
         "2021-01-29 10:00:00",
         "0.0418881358471833",
         "0.0857722288648167",
         "0.45037988205827634",
         "66.52173913043478",
         "890.7391304347826"
        ],
        [
         "24",
         "2021-01-29 11:00:00",
         "0.008395911441235096",
         "0.1020976881372172",
         "0.4308199485973172",
         "72.78260869565217",
         "1257.8260869565217"
        ],
        [
         "25",
         "2021-01-29 12:00:00",
         "0.06419073492059456",
         "0.07729828236407589",
         "0.4230854970584933",
         "62.8",
         "1381.2"
        ],
        [
         "26",
         "2021-01-29 13:00:00",
         "0.015849314244292416",
         "0.0811848031211819",
         "0.4563007344158935",
         "76.85185185185185",
         "1397.962962962963"
        ],
        [
         "27",
         "2021-01-29 14:00:00",
         "0.03636349109223181",
         "0.12243226569883488",
         "0.41194697047083245",
         "59.642857142857146",
         "1261.4285714285713"
        ],
        [
         "28",
         "2021-01-29 15:00:00",
         "0.05609097273148608",
         "0.10731672410429628",
         "0.4977219083115759",
         "62.5",
         "1915.3846153846155"
        ],
        [
         "29",
         "2021-01-29 16:00:00",
         "0.10035104210984366",
         "0.1256821189850382",
         "0.4259705368622693",
         "77.66666666666667",
         "1087.888888888889"
        ],
        [
         "30",
         "2021-01-29 17:00:00",
         "0.06381501023478363",
         "0.09279481652133333",
         "0.36499567076915396",
         "61.375",
         "820.4375"
        ],
        [
         "31",
         "2021-01-29 18:00:00",
         "0.021194211867694355",
         "0.10100542051050944",
         "0.5503457980761758",
         "63.642857142857146",
         "1231.7857142857142"
        ],
        [
         "32",
         "2021-01-29 19:00:00",
         "0.07909326505225518",
         "0.11304176793825807",
         "0.4647925805994757",
         "97.0625",
         "1727.625"
        ],
        [
         "33",
         "2021-01-29 20:00:00",
         "-0.002016297208362352",
         "0.04490356769249494",
         "0.34863397283461967",
         "57.95238095238095",
         "1229.1904761904761"
        ],
        [
         "34",
         "2021-01-29 21:00:00",
         "0.046544312864217674",
         "0.08905791096202628",
         "0.4140688384685921",
         "57.8",
         "1513.6"
        ],
        [
         "35",
         "2021-01-29 22:00:00",
         "0.006443996158905967",
         "0.1356273927743678",
         "0.4423618172093363",
         "63.1875",
         "1054.125"
        ],
        [
         "36",
         "2021-01-29 23:00:00",
         "0.030380481756101786",
         "0.12935374810328118",
         "0.4675111764256682",
         "78.8",
         "882.64"
        ],
        [
         "37",
         "2021-01-30 00:00:00",
         "0.018972890711382775",
         "0.15936465730561308",
         "0.4182843587460756",
         "64.02777777777777",
         "682.75"
        ],
        [
         "38",
         "2021-01-30 01:00:00",
         "0.0547404131694928",
         "0.14949680699477602",
         "0.4320310913432007",
         "56.86206896551724",
         "532.0172413793103"
        ],
        [
         "39",
         "2021-01-30 02:00:00",
         "0.06988860435210335",
         "0.09355147105844833",
         "0.40961880807454576",
         "66.02702702702703",
         "2143.972972972973"
        ],
        [
         "40",
         "2021-01-30 03:00:00",
         "0.06625694347163548",
         "0.10891019459244296",
         "0.41969047392420816",
         "80.54838709677419",
         "1081.6129032258063"
        ],
        [
         "41",
         "2021-01-30 04:00:00",
         "-0.003498813043922224",
         "0.07422778796053679",
         "0.449694723615451",
         "64.52380952380952",
         "2580.2380952380954"
        ],
        [
         "42",
         "2021-01-30 05:00:00",
         "0.029110504588848184",
         "0.0913617290504853",
         "0.3728434430199559",
         "68.6086956521739",
         "533.7826086956521"
        ],
        [
         "43",
         "2021-01-30 06:00:00",
         "0.05177281655858849",
         "0.17985804900601357",
         "0.4189264411012904",
         "60.96875",
         "1293.3125"
        ],
        [
         "44",
         "2021-01-30 07:00:00",
         "0.036920918936817836",
         "0.07969792216823882",
         "0.3538737467106949",
         "78.14814814814815",
         "982.8888888888889"
        ],
        [
         "45",
         "2021-01-30 08:00:00",
         "-0.02511543082862414",
         "0.08474513561457891",
         "0.3878698932750325",
         "61.36363636363637",
         "905.0"
        ],
        [
         "46",
         "2021-01-30 09:00:00",
         "0.061515057009850625",
         "0.07950374737711344",
         "0.42484379935886235",
         "93.5",
         "1730.5"
        ],
        [
         "47",
         "2021-01-30 10:00:00",
         "0.06667582973567333",
         "0.098225969410813",
         "0.4330960317367448",
         "64.125",
         "1361.75"
        ],
        [
         "48",
         "2021-01-30 11:00:00",
         "0.08358246197628255",
         "0.08601054876042993",
         "0.3962430271641326",
         "78.22727272727273",
         "825.6363636363636"
        ],
        [
         "49",
         "2021-01-30 12:00:00",
         "0.06881949877640063",
         "0.08976114239045804",
         "0.36246594110186914",
         "67.0",
         "760.7586206896551"
        ]
       ],
       "shape": {
        "columns": 6,
        "rows": 1830
       }
      },
      "text/html": [
       "<div>\n",
       "<style scoped>\n",
       "    .dataframe tbody tr th:only-of-type {\n",
       "        vertical-align: middle;\n",
       "    }\n",
       "\n",
       "    .dataframe tbody tr th {\n",
       "        vertical-align: top;\n",
       "    }\n",
       "\n",
       "    .dataframe thead th {\n",
       "        text-align: right;\n",
       "    }\n",
       "</style>\n",
       "<table border=\"1\" class=\"dataframe\">\n",
       "  <thead>\n",
       "    <tr style=\"text-align: right;\">\n",
       "      <th></th>\n",
       "      <th>hour_window</th>\n",
       "      <th>sentiment</th>\n",
       "      <th>sentiment_magnitude</th>\n",
       "      <th>subjectivity</th>\n",
       "      <th>title_length</th>\n",
       "      <th>body_length</th>\n",
       "    </tr>\n",
       "  </thead>\n",
       "  <tbody>\n",
       "    <tr>\n",
       "      <th>0</th>\n",
       "      <td>2021-01-28 09:00:00</td>\n",
       "      <td>0.077098</td>\n",
       "      <td>0.141449</td>\n",
       "      <td>0.434277</td>\n",
       "      <td>69.100000</td>\n",
       "      <td>399.500000</td>\n",
       "    </tr>\n",
       "    <tr>\n",
       "      <th>1</th>\n",
       "      <td>2021-01-28 10:00:00</td>\n",
       "      <td>0.089336</td>\n",
       "      <td>0.142669</td>\n",
       "      <td>0.569091</td>\n",
       "      <td>60.000000</td>\n",
       "      <td>739.200000</td>\n",
       "    </tr>\n",
       "    <tr>\n",
       "      <th>2</th>\n",
       "      <td>2021-01-28 11:00:00</td>\n",
       "      <td>-0.039918</td>\n",
       "      <td>0.115682</td>\n",
       "      <td>0.476641</td>\n",
       "      <td>53.875000</td>\n",
       "      <td>762.250000</td>\n",
       "    </tr>\n",
       "    <tr>\n",
       "      <th>3</th>\n",
       "      <td>2021-01-28 12:00:00</td>\n",
       "      <td>0.058265</td>\n",
       "      <td>0.075210</td>\n",
       "      <td>0.503884</td>\n",
       "      <td>82.800000</td>\n",
       "      <td>1334.200000</td>\n",
       "    </tr>\n",
       "    <tr>\n",
       "      <th>4</th>\n",
       "      <td>2021-01-28 13:00:00</td>\n",
       "      <td>0.148107</td>\n",
       "      <td>0.154764</td>\n",
       "      <td>0.502638</td>\n",
       "      <td>77.571429</td>\n",
       "      <td>1547.285714</td>\n",
       "    </tr>\n",
       "    <tr>\n",
       "      <th>...</th>\n",
       "      <td>...</td>\n",
       "      <td>...</td>\n",
       "      <td>...</td>\n",
       "      <td>...</td>\n",
       "      <td>...</td>\n",
       "      <td>...</td>\n",
       "    </tr>\n",
       "    <tr>\n",
       "      <th>1825</th>\n",
       "      <td>2021-08-13 18:00:00</td>\n",
       "      <td>0.019949</td>\n",
       "      <td>0.019949</td>\n",
       "      <td>0.482323</td>\n",
       "      <td>56.000000</td>\n",
       "      <td>321.000000</td>\n",
       "    </tr>\n",
       "    <tr>\n",
       "      <th>1826</th>\n",
       "      <td>2021-08-13 21:00:00</td>\n",
       "      <td>0.079651</td>\n",
       "      <td>0.079651</td>\n",
       "      <td>0.412879</td>\n",
       "      <td>23.000000</td>\n",
       "      <td>9149.000000</td>\n",
       "    </tr>\n",
       "    <tr>\n",
       "      <th>1827</th>\n",
       "      <td>2021-08-13 23:00:00</td>\n",
       "      <td>0.095299</td>\n",
       "      <td>0.095299</td>\n",
       "      <td>0.416016</td>\n",
       "      <td>80.000000</td>\n",
       "      <td>16532.000000</td>\n",
       "    </tr>\n",
       "    <tr>\n",
       "      <th>1828</th>\n",
       "      <td>2021-08-14 20:00:00</td>\n",
       "      <td>0.101338</td>\n",
       "      <td>0.101338</td>\n",
       "      <td>0.344874</td>\n",
       "      <td>70.000000</td>\n",
       "      <td>1914.000000</td>\n",
       "    </tr>\n",
       "    <tr>\n",
       "      <th>1829</th>\n",
       "      <td>2021-08-16 04:00:00</td>\n",
       "      <td>0.036866</td>\n",
       "      <td>0.036866</td>\n",
       "      <td>0.429784</td>\n",
       "      <td>53.000000</td>\n",
       "      <td>2945.000000</td>\n",
       "    </tr>\n",
       "  </tbody>\n",
       "</table>\n",
       "<p>1830 rows × 6 columns</p>\n",
       "</div>"
      ],
      "text/plain": [
       "             hour_window  sentiment  sentiment_magnitude  subjectivity  \\\n",
       "0    2021-01-28 09:00:00   0.077098             0.141449      0.434277   \n",
       "1    2021-01-28 10:00:00   0.089336             0.142669      0.569091   \n",
       "2    2021-01-28 11:00:00  -0.039918             0.115682      0.476641   \n",
       "3    2021-01-28 12:00:00   0.058265             0.075210      0.503884   \n",
       "4    2021-01-28 13:00:00   0.148107             0.154764      0.502638   \n",
       "...                  ...        ...                  ...           ...   \n",
       "1825 2021-08-13 18:00:00   0.019949             0.019949      0.482323   \n",
       "1826 2021-08-13 21:00:00   0.079651             0.079651      0.412879   \n",
       "1827 2021-08-13 23:00:00   0.095299             0.095299      0.416016   \n",
       "1828 2021-08-14 20:00:00   0.101338             0.101338      0.344874   \n",
       "1829 2021-08-16 04:00:00   0.036866             0.036866      0.429784   \n",
       "\n",
       "      title_length   body_length  \n",
       "0        69.100000    399.500000  \n",
       "1        60.000000    739.200000  \n",
       "2        53.875000    762.250000  \n",
       "3        82.800000   1334.200000  \n",
       "4        77.571429   1547.285714  \n",
       "...            ...           ...  \n",
       "1825     56.000000    321.000000  \n",
       "1826     23.000000   9149.000000  \n",
       "1827     80.000000  16532.000000  \n",
       "1828     70.000000   1914.000000  \n",
       "1829     53.000000   2945.000000  \n",
       "\n",
       "[1830 rows x 6 columns]"
      ]
     },
     "execution_count": 20,
     "metadata": {},
     "output_type": "execute_result"
    }
   ],
   "source": [
    "df.groupby('hour_window').agg({'sentiment': 'mean',\n",
    "                                'sentiment_magnitude': 'mean',\n",
    "                                'subjectivity': 'mean',\n",
    "                                'title_length': 'mean',\n",
    "                                'body_length': 'mean'}).reset_index()"
   ]
  },
  {
   "cell_type": "code",
   "execution_count": null,
   "id": "75e88fb9",
   "metadata": {},
   "outputs": [],
   "source": []
  },
  {
   "cell_type": "code",
   "execution_count": 21,
   "id": "8a912021",
   "metadata": {},
   "outputs": [
    {
     "name": "stderr",
     "output_type": "stream",
     "text": [
      "C:\\Users\\Admin\\AppData\\Local\\Temp\\ipykernel_27428\\3405739368.py:4: FutureWarning: 'H' is deprecated and will be removed in a future version, please use 'h' instead.\n",
      "  df['hour_window'] = df['timestamp'].dt.floor(f'{window_hours}H')\n"
     ]
    },
    {
     "data": {
      "application/vnd.microsoft.datawrangler.viewer.v0+json": {
       "columns": [
        {
         "name": "index",
         "rawType": "int64",
         "type": "integer"
        },
        {
         "name": "title",
         "rawType": "object",
         "type": "string"
        },
        {
         "name": "score",
         "rawType": "int64",
         "type": "integer"
        },
        {
         "name": "post_id",
         "rawType": "object",
         "type": "string"
        },
        {
         "name": "url",
         "rawType": "object",
         "type": "string"
        },
        {
         "name": "comms_num",
         "rawType": "int64",
         "type": "integer"
        },
        {
         "name": "created",
         "rawType": "float64",
         "type": "float"
        },
        {
         "name": "body",
         "rawType": "object",
         "type": "unknown"
        },
        {
         "name": "timestamp",
         "rawType": "datetime64[ns]",
         "type": "datetime"
        },
        {
         "name": "author_name",
         "rawType": "object",
         "type": "string"
        },
        {
         "name": "author_id",
         "rawType": "object",
         "type": "string"
        },
        {
         "name": "is_gme",
         "rawType": "bool",
         "type": "boolean"
        },
        {
         "name": "title_clean",
         "rawType": "object",
         "type": "string"
        },
        {
         "name": "body_clean",
         "rawType": "object",
         "type": "string"
        },
        {
         "name": "combined_text",
         "rawType": "object",
         "type": "string"
        },
        {
         "name": "sentiment",
         "rawType": "float64",
         "type": "float"
        },
        {
         "name": "sentiment_magnitude",
         "rawType": "float64",
         "type": "float"
        },
        {
         "name": "subjectivity",
         "rawType": "float64",
         "type": "float"
        },
        {
         "name": "title_length",
         "rawType": "int64",
         "type": "integer"
        },
        {
         "name": "body_length",
         "rawType": "int64",
         "type": "integer"
        },
        {
         "name": "total_length",
         "rawType": "int64",
         "type": "integer"
        },
        {
         "name": "engagement_score",
         "rawType": "int64",
         "type": "integer"
        },
        {
         "name": "score_per_comment",
         "rawType": "float64",
         "type": "float"
        },
        {
         "name": "author_post_count",
         "rawType": "float64",
         "type": "float"
        },
        {
         "name": "hour_window",
         "rawType": "datetime64[ns]",
         "type": "datetime"
        },
        {
         "name": "text_similarity",
         "rawType": "float64",
         "type": "float"
        }
       ],
       "ref": "f185bc3d-8637-4fd0-8156-fe4478e4b884",
       "rows": [
        [
         "1",
         "Math Professor Scott Steiner says the numbers spell DISASTER for Gamestop shorts",
         "110",
         "l6uibd",
         "https://v.redd.it/ah50lyny62e61",
         "23",
         "1611862330.0",
         null,
         "2021-01-28 21:32:10",
         "jaxxtothemaxx",
         "onvag",
         "True",
         "math professor scott steiner says the numbers spell disaster for gamestop shorts",
         "",
         "math professor scott steiner says the numbers spell disaster for gamestop shorts ",
         "0.0",
         "0.0",
         "0.0",
         "80",
         "0",
         "80",
         "133",
         "4.583333333333333",
         "1.0",
         "2021-01-28 21:00:00",
         "0.09363300371152002"
        ],
        [
         "2",
         "Exit the system",
         "0",
         "l6uhhn",
         "https://www.reddit.com/r/wallstreetbets/comments/l6uhhn/exit_the_system/",
         "47",
         "1611862235.0",
         "The CEO of NASDAQ pushed to halt trading “to give investors a chance to recalibrate their positions”.\n\n[https://mobile.twitter.com/Mediaite/status/1354504710695362563](https://mobile.twitter.com/Mediaite/status/1354504710695362563)\n\nNow SEC is investigating, brokers are disallowing buying more calls. This is the institutions flat out admitting they will change the rules to bail out the rich but if it happens to us, we get a “well shucks you should have known investing is risky! have you tried cutting out avocados and coffee, maybe doing Uber on the side?”\n\nWe may have collectively driven up enough sentiment in wall street to make other big players go long on GME with us (we do not have the money to move the stock as much as it did alone). we didn’t hurt wall street as a whole, just a few funds went down while others went up and profited off the shorts the same as us. The media wants to pin the blame on us.\n\nIt should be crystal clear that this is a rigged game by now. Its time to build new exchanges that can’t arbitrarily change the rules on us. Cr\\*\\*o has some version of these, maybe they can be repurposed to be trade stock without government intervention. I don’t know exactly what it will look like yet, but the broad next steps i see are - 1. exit the current financial system 2. build a new one.",
         "2021-01-28 21:30:35",
         "stonerbobo",
         "f3p9m",
         "True",
         "exit the system",
         "the ceo of nasdaq pushed to halt trading to give investors a chance to recalibrate their positions now sec is investigating brokers are disallowing buying more calls this is the institutions flat out admitting they will change the rules to bail out the rich but if it happens to us we get a well shucks you should have known investing is risky have you tried cutting out avocados and coffee maybe doing uber on the side we may have collectively driven up enough sentiment in wall street to make other big players go long on gme with us we do not have the money to move the stock as much as it did alone we didn t hurt wall street as a whole just a few funds went down while others went up and profited off the shorts the same as us the media wants to pin the blame on us it should be crystal clear that this is a rigged game by now its time to build new exchanges that can t arbitrarily change the rules on us cr o has some version of these maybe they can be repurposed to be trade stock without government intervention i don t know exactly what it will look like yet but the broad next steps i see are 1 exit the current financial system 2 build a new one",
         "exit the system the ceo of nasdaq pushed to halt trading to give investors a chance to recalibrate their positions now sec is investigating brokers are disallowing buying more calls this is the institutions flat out admitting they will change the rules to bail out the rich but if it happens to us we get a well shucks you should have known investing is risky have you tried cutting out avocados and coffee maybe doing uber on the side we may have collectively driven up enough sentiment in wall street to make other big players go long on gme with us we do not have the money to move the stock as much as it did alone we didn t hurt wall street as a whole just a few funds went down while others went up and profited off the shorts the same as us the media wants to pin the blame on us it should be crystal clear that this is a rigged game by now its time to build new exchanges that can t arbitrarily change the rules on us cr o has some version of these maybe they can be repurposed to be trade stock without government intervention i don t know exactly what it will look like yet but the broad next steps i see are 1 exit the current financial system 2 build a new one",
         "0.016186868686868684",
         "0.016186868686868684",
         "0.3487525252525252",
         "15",
         "1156",
         "1171",
         "47",
         "0.0",
         "1.0",
         "2021-01-28 21:00:00",
         "0.09465747916824897"
        ],
        [
         "3",
         "NEW SEC FILING FOR GME! CAN SOMEONE LESS RETARDED THAN ME PLEASE INTERPRET?",
         "29",
         "l6ugk6",
         "https://sec.report/Document/0001193125-21-019848/",
         "74",
         "1611862137.0",
         null,
         "2021-01-28 21:28:57",
         "Sleavitt10",
         "9u7y1",
         "True",
         "new sec filing for gme can someone less retarded than me please interpret",
         "",
         "new sec filing for gme can someone less retarded than me please interpret ",
         "-0.2325757575757576",
         "0.2325757575757576",
         "0.4803030303030303",
         "73",
         "0",
         "73",
         "103",
         "0.38666666666666666",
         "3.0",
         "2021-01-28 21:00:00",
         "0.07273869858908577"
        ],
        [
         "4",
         "Not to distract from GME, just thought our AMC brothers should be aware of this",
         "71",
         "l6ufgy",
         "https://i.redd.it/4h2sukb662e61.jpg",
         "156",
         "1611862016.0",
         null,
         "2021-01-28 21:26:56",
         "di3_b0ld",
         "13cexg",
         "True",
         "not to distract from gme just thought our amc brothers should be aware of this",
         "",
         "not to distract from gme just thought our amc brothers should be aware of this ",
         "0.25",
         "0.25",
         "0.25",
         "78",
         "0",
         "78",
         "227",
         "0.45222929936305734",
         "2.0",
         "2021-01-28 21:00:00",
         "0.09319355212455827"
        ],
        [
         "6",
         "SHORT STOCK DOESN'T HAVE AN EXPIRATION DATE",
         "317",
         "l6uf6d",
         "https://www.reddit.com/r/wallstreetbets/comments/l6uf6d/short_stock_doesnt_have_an_expiration_date/",
         "53",
         "1611861987.0",
         "Hedgefund whales are spreading disinfo saying Friday is make-or-break for $GME. Call options expiring ITM on Friday will drive the price up if levels are maintained, but may not trigger the short squeeze.\n\nIt may be Friday, but it could be next week the we see the real squeeze.\n\nDON'T PANIC IF THE SQUEEZE DOESN'T HAPPEN FRIDAY.\n\nIt's not guaranteed to. The only thing that is guaranteed mathematically is that the shorts will have to cover at some point in the future. They are trying to get enough people hooked on the false expectation of Friday so that if/when it doesn't happen, enough will sell out of panic/despair. DON'T BE THAT PERSON.\n\nWE LIKE THE STOCK",
         "2021-01-28 21:26:27",
         "Aiken_Drumn",
         "6g1d5",
         "True",
         "short stock doesn t have an expiration date",
         "hedgefund whales are spreading disinfo saying friday is make or break for gme call options expiring itm on friday will drive the price up if levels are maintained but may not trigger the short squeeze it may be friday but it could be next week the we see the real squeeze don t panic if the squeeze doesn t happen friday it s not guaranteed to the only thing that is guaranteed mathematically is that the shorts will have to cover at some point in the future they are trying to get enough people hooked on the false expectation of friday so that if when it doesn t happen enough will sell out of panic despair don t be that person we like the stock",
         "short stock doesn t have an expiration date hedgefund whales are spreading disinfo saying friday is make or break for gme call options expiring itm on friday will drive the price up if levels are maintained but may not trigger the short squeeze it may be friday but it could be next week the we see the real squeeze don t panic if the squeeze doesn t happen friday it s not guaranteed to the only thing that is guaranteed mathematically is that the shorts will have to cover at some point in the future they are trying to get enough people hooked on the false expectation of friday so that if when it doesn t happen enough will sell out of panic despair don t be that person we like the stock",
         "-0.020000000000000007",
         "0.020000000000000007",
         "0.3625",
         "43",
         "648",
         "691",
         "370",
         "5.87037037037037",
         "2.0",
         "2021-01-28 21:00:00",
         "0.12924844226345633"
        ]
       ],
       "shape": {
        "columns": 25,
        "rows": 5
       }
      },
      "text/html": [
       "<div>\n",
       "<style scoped>\n",
       "    .dataframe tbody tr th:only-of-type {\n",
       "        vertical-align: middle;\n",
       "    }\n",
       "\n",
       "    .dataframe tbody tr th {\n",
       "        vertical-align: top;\n",
       "    }\n",
       "\n",
       "    .dataframe thead th {\n",
       "        text-align: right;\n",
       "    }\n",
       "</style>\n",
       "<table border=\"1\" class=\"dataframe\">\n",
       "  <thead>\n",
       "    <tr style=\"text-align: right;\">\n",
       "      <th></th>\n",
       "      <th>title</th>\n",
       "      <th>score</th>\n",
       "      <th>post_id</th>\n",
       "      <th>url</th>\n",
       "      <th>comms_num</th>\n",
       "      <th>created</th>\n",
       "      <th>body</th>\n",
       "      <th>timestamp</th>\n",
       "      <th>author_name</th>\n",
       "      <th>author_id</th>\n",
       "      <th>...</th>\n",
       "      <th>sentiment_magnitude</th>\n",
       "      <th>subjectivity</th>\n",
       "      <th>title_length</th>\n",
       "      <th>body_length</th>\n",
       "      <th>total_length</th>\n",
       "      <th>engagement_score</th>\n",
       "      <th>score_per_comment</th>\n",
       "      <th>author_post_count</th>\n",
       "      <th>hour_window</th>\n",
       "      <th>text_similarity</th>\n",
       "    </tr>\n",
       "  </thead>\n",
       "  <tbody>\n",
       "    <tr>\n",
       "      <th>1</th>\n",
       "      <td>Math Professor Scott Steiner says the numbers ...</td>\n",
       "      <td>110</td>\n",
       "      <td>l6uibd</td>\n",
       "      <td>https://v.redd.it/ah50lyny62e61</td>\n",
       "      <td>23</td>\n",
       "      <td>1.611862e+09</td>\n",
       "      <td>NaN</td>\n",
       "      <td>2021-01-28 21:32:10</td>\n",
       "      <td>jaxxtothemaxx</td>\n",
       "      <td>onvag</td>\n",
       "      <td>...</td>\n",
       "      <td>0.000000</td>\n",
       "      <td>0.000000</td>\n",
       "      <td>80</td>\n",
       "      <td>0</td>\n",
       "      <td>80</td>\n",
       "      <td>133</td>\n",
       "      <td>4.583333</td>\n",
       "      <td>1.0</td>\n",
       "      <td>2021-01-28 21:00:00</td>\n",
       "      <td>0.093633</td>\n",
       "    </tr>\n",
       "    <tr>\n",
       "      <th>2</th>\n",
       "      <td>Exit the system</td>\n",
       "      <td>0</td>\n",
       "      <td>l6uhhn</td>\n",
       "      <td>https://www.reddit.com/r/wallstreetbets/commen...</td>\n",
       "      <td>47</td>\n",
       "      <td>1.611862e+09</td>\n",
       "      <td>The CEO of NASDAQ pushed to halt trading “to g...</td>\n",
       "      <td>2021-01-28 21:30:35</td>\n",
       "      <td>stonerbobo</td>\n",
       "      <td>f3p9m</td>\n",
       "      <td>...</td>\n",
       "      <td>0.016187</td>\n",
       "      <td>0.348753</td>\n",
       "      <td>15</td>\n",
       "      <td>1156</td>\n",
       "      <td>1171</td>\n",
       "      <td>47</td>\n",
       "      <td>0.000000</td>\n",
       "      <td>1.0</td>\n",
       "      <td>2021-01-28 21:00:00</td>\n",
       "      <td>0.094657</td>\n",
       "    </tr>\n",
       "    <tr>\n",
       "      <th>3</th>\n",
       "      <td>NEW SEC FILING FOR GME! CAN SOMEONE LESS RETAR...</td>\n",
       "      <td>29</td>\n",
       "      <td>l6ugk6</td>\n",
       "      <td>https://sec.report/Document/0001193125-21-019848/</td>\n",
       "      <td>74</td>\n",
       "      <td>1.611862e+09</td>\n",
       "      <td>NaN</td>\n",
       "      <td>2021-01-28 21:28:57</td>\n",
       "      <td>Sleavitt10</td>\n",
       "      <td>9u7y1</td>\n",
       "      <td>...</td>\n",
       "      <td>0.232576</td>\n",
       "      <td>0.480303</td>\n",
       "      <td>73</td>\n",
       "      <td>0</td>\n",
       "      <td>73</td>\n",
       "      <td>103</td>\n",
       "      <td>0.386667</td>\n",
       "      <td>3.0</td>\n",
       "      <td>2021-01-28 21:00:00</td>\n",
       "      <td>0.072739</td>\n",
       "    </tr>\n",
       "    <tr>\n",
       "      <th>4</th>\n",
       "      <td>Not to distract from GME, just thought our AMC...</td>\n",
       "      <td>71</td>\n",
       "      <td>l6ufgy</td>\n",
       "      <td>https://i.redd.it/4h2sukb662e61.jpg</td>\n",
       "      <td>156</td>\n",
       "      <td>1.611862e+09</td>\n",
       "      <td>NaN</td>\n",
       "      <td>2021-01-28 21:26:56</td>\n",
       "      <td>di3_b0ld</td>\n",
       "      <td>13cexg</td>\n",
       "      <td>...</td>\n",
       "      <td>0.250000</td>\n",
       "      <td>0.250000</td>\n",
       "      <td>78</td>\n",
       "      <td>0</td>\n",
       "      <td>78</td>\n",
       "      <td>227</td>\n",
       "      <td>0.452229</td>\n",
       "      <td>2.0</td>\n",
       "      <td>2021-01-28 21:00:00</td>\n",
       "      <td>0.093194</td>\n",
       "    </tr>\n",
       "    <tr>\n",
       "      <th>6</th>\n",
       "      <td>SHORT STOCK DOESN'T HAVE AN EXPIRATION DATE</td>\n",
       "      <td>317</td>\n",
       "      <td>l6uf6d</td>\n",
       "      <td>https://www.reddit.com/r/wallstreetbets/commen...</td>\n",
       "      <td>53</td>\n",
       "      <td>1.611862e+09</td>\n",
       "      <td>Hedgefund whales are spreading disinfo saying ...</td>\n",
       "      <td>2021-01-28 21:26:27</td>\n",
       "      <td>Aiken_Drumn</td>\n",
       "      <td>6g1d5</td>\n",
       "      <td>...</td>\n",
       "      <td>0.020000</td>\n",
       "      <td>0.362500</td>\n",
       "      <td>43</td>\n",
       "      <td>648</td>\n",
       "      <td>691</td>\n",
       "      <td>370</td>\n",
       "      <td>5.870370</td>\n",
       "      <td>2.0</td>\n",
       "      <td>2021-01-28 21:00:00</td>\n",
       "      <td>0.129248</td>\n",
       "    </tr>\n",
       "  </tbody>\n",
       "</table>\n",
       "<p>5 rows × 25 columns</p>\n",
       "</div>"
      ],
      "text/plain": [
       "                                               title  score post_id  \\\n",
       "1  Math Professor Scott Steiner says the numbers ...    110  l6uibd   \n",
       "2                                    Exit the system      0  l6uhhn   \n",
       "3  NEW SEC FILING FOR GME! CAN SOMEONE LESS RETAR...     29  l6ugk6   \n",
       "4  Not to distract from GME, just thought our AMC...     71  l6ufgy   \n",
       "6        SHORT STOCK DOESN'T HAVE AN EXPIRATION DATE    317  l6uf6d   \n",
       "\n",
       "                                                 url  comms_num       created  \\\n",
       "1                    https://v.redd.it/ah50lyny62e61         23  1.611862e+09   \n",
       "2  https://www.reddit.com/r/wallstreetbets/commen...         47  1.611862e+09   \n",
       "3  https://sec.report/Document/0001193125-21-019848/         74  1.611862e+09   \n",
       "4                https://i.redd.it/4h2sukb662e61.jpg        156  1.611862e+09   \n",
       "6  https://www.reddit.com/r/wallstreetbets/commen...         53  1.611862e+09   \n",
       "\n",
       "                                                body           timestamp  \\\n",
       "1                                                NaN 2021-01-28 21:32:10   \n",
       "2  The CEO of NASDAQ pushed to halt trading “to g... 2021-01-28 21:30:35   \n",
       "3                                                NaN 2021-01-28 21:28:57   \n",
       "4                                                NaN 2021-01-28 21:26:56   \n",
       "6  Hedgefund whales are spreading disinfo saying ... 2021-01-28 21:26:27   \n",
       "\n",
       "     author_name author_id  ...  sentiment_magnitude subjectivity  \\\n",
       "1  jaxxtothemaxx     onvag  ...             0.000000     0.000000   \n",
       "2     stonerbobo     f3p9m  ...             0.016187     0.348753   \n",
       "3     Sleavitt10     9u7y1  ...             0.232576     0.480303   \n",
       "4       di3_b0ld    13cexg  ...             0.250000     0.250000   \n",
       "6    Aiken_Drumn     6g1d5  ...             0.020000     0.362500   \n",
       "\n",
       "  title_length body_length  total_length  engagement_score  score_per_comment  \\\n",
       "1           80           0            80               133           4.583333   \n",
       "2           15        1156          1171                47           0.000000   \n",
       "3           73           0            73               103           0.386667   \n",
       "4           78           0            78               227           0.452229   \n",
       "6           43         648           691               370           5.870370   \n",
       "\n",
       "   author_post_count         hour_window  text_similarity  \n",
       "1                1.0 2021-01-28 21:00:00         0.093633  \n",
       "2                1.0 2021-01-28 21:00:00         0.094657  \n",
       "3                3.0 2021-01-28 21:00:00         0.072739  \n",
       "4                2.0 2021-01-28 21:00:00         0.093194  \n",
       "6                2.0 2021-01-28 21:00:00         0.129248  \n",
       "\n",
       "[5 rows x 25 columns]"
      ]
     },
     "execution_count": 21,
     "metadata": {},
     "output_type": "execute_result"
    }
   ],
   "source": [
    "# Calculate text similarity within time windows\n",
    "window_hours=1\n",
    "# Group posts by hour windows\n",
    "df['hour_window'] = df['timestamp'].dt.floor(f'{window_hours}H')\n",
    "\n",
    "similarity_scores = []\n",
    "\n",
    "for window, group in df.groupby('hour_window'):\n",
    "    if len(group) < 2:\n",
    "        # If only one post in window, similarity is 0\n",
    "        similarity_scores.extend([0] * len(group))\n",
    "        continue\n",
    "        \n",
    "    # Calculate TF-IDF similarity\n",
    "    texts = group['combined_text'].fillna('').tolist()\n",
    "    \n",
    "    try:\n",
    "        vectorizer = TfidfVectorizer(max_features=100, stop_words='english')\n",
    "        tfidf_matrix = vectorizer.fit_transform(texts)\n",
    "        similarity_matrix = cosine_similarity(tfidf_matrix)\n",
    "        \n",
    "        # Average similarity for each post to all others in the window\n",
    "        avg_similarities = []\n",
    "        for i in range(len(similarity_matrix)):\n",
    "            # Exclude self-similarity (diagonal = 1)\n",
    "            others = np.concatenate([similarity_matrix[i][:i], similarity_matrix[i][i+1:]])\n",
    "            avg_similarity = np.mean(others) if len(others) > 0 else 0\n",
    "            avg_similarities.append(avg_similarity)\n",
    "            \n",
    "        similarity_scores.extend(avg_similarities)\n",
    "        \n",
    "    except:\n",
    "        # If TF-IDF fails (e.g., empty texts), set similarity to 0\n",
    "        similarity_scores.extend([0] * len(group))\n",
    "\n",
    "df['text_similarity'] = similarity_scores\n",
    "df.head()\n"
   ]
  },
  {
   "cell_type": "code",
   "execution_count": 24,
   "id": "087414d4",
   "metadata": {},
   "outputs": [
    {
     "data": {
      "text/plain": [
       "7270"
      ]
     },
     "execution_count": 24,
     "metadata": {},
     "output_type": "execute_result"
    }
   ],
   "source": [
    "df['author_id'].nunique()"
   ]
  },
  {
   "cell_type": "code",
   "execution_count": 28,
   "id": "8c0b06f2",
   "metadata": {},
   "outputs": [],
   "source": [
    "def _aggregate_to_hourly(df):\n",
    "        \"\"\"Aggregate posts to hourly features\"\"\"\n",
    "        df['hour'] = df['timestamp'].dt.floor('H')\n",
    "        \n",
    "        hourly_agg = df.groupby('hour').agg({\n",
    "            'sentiment': ['mean', 'std', 'min', 'max'],\n",
    "            'sentiment_magnitude': 'mean',\n",
    "            'text_similarity': 'mean',\n",
    "            'score': ['sum', 'mean', 'std'],\n",
    "            'comms_num': ['sum', 'mean'],\n",
    "            'engagement_score': ['sum', 'mean'],\n",
    "            'author_id': 'nunique',  # Unique authors per hour\n",
    "            'author_post_count': 'mean',  # Average posts per author\n",
    "            'total_length': 'mean',\n",
    "            'timestamp': 'count'  # Post volume\n",
    "        }).round(4)\n",
    "        \n",
    "        # Flatten column names\n",
    "        hourly_agg.columns = [f'{col[0]}_{col[1]}' if col[1] else col[0] \n",
    "                             for col in hourly_agg.columns]\n",
    "        \n",
    "        # Rename count column\n",
    "        hourly_agg = hourly_agg.rename(columns={'timestamp_count': 'post_volume'})\n",
    "        \n",
    "        # Add coordination signals\n",
    "        hourly_agg['author_diversity'] = hourly_agg['author_id_nunique'] / (hourly_agg['post_volume'] + 1)\n",
    "        hourly_agg['repeat_poster_ratio'] = 1 - hourly_agg['author_diversity']\n",
    "        \n",
    "        return hourly_agg.reset_index()\n",
    "    \n",
    "def _aggregate_to_daily(hourly_df):\n",
    "    \"\"\"Aggregate hourly features to daily\"\"\"\n",
    "    hourly_df['date'] = hourly_df['hour'].dt.date\n",
    "    \n",
    "    # Select key features for daily aggregation\n",
    "    daily_agg = hourly_df.groupby('date').agg({\n",
    "        'sentiment_mean': ['mean', 'std'],\n",
    "        'sentiment_std': 'mean',\n",
    "        'text_similarity_mean': 'mean',\n",
    "        'post_volume': ['sum', 'mean', 'std', 'max'],\n",
    "        'score_sum': 'sum',\n",
    "        'engagement_score_sum': 'sum',\n",
    "        'author_diversity': 'mean',\n",
    "        'repeat_poster_ratio': 'mean',\n",
    "    }).round(4)\n",
    "    \n",
    "    # Flatten column names\n",
    "    daily_agg.columns = [f'daily_{col[0]}_{col[1]}' \n",
    "                        for col in daily_agg.columns]\n",
    "    \n",
    "    return daily_agg.reset_index()\n",
    "    \n",
    "def _aggregate_to_weekly(daily_df):\n",
    "    \"\"\"Aggregate daily features to weekly\"\"\"\n",
    "    daily_df['week'] = pd.to_datetime(daily_df['date']).dt.to_period('W')\n",
    "    \n",
    "    weekly_agg = daily_df.groupby('week').agg({\n",
    "        'daily_sentiment_mean_mean': 'mean',\n",
    "        'daily_post_volume_sum': ['sum', 'mean'],\n",
    "        'daily_score_sum_sum': 'sum',\n",
    "        'daily_author_diversity_mean': 'mean',\n",
    "    }).round(4)\n",
    "    \n",
    "    # Flatten column names\n",
    "    weekly_agg.columns = [f'weekly_{col[0]}_{col[1]}' \n",
    "                            for col in weekly_agg.columns]\n",
    "    \n",
    "    return weekly_agg.reset_index()"
   ]
  },
  {
   "cell_type": "code",
   "execution_count": 29,
   "id": "76af9ed8",
   "metadata": {},
   "outputs": [
    {
     "name": "stderr",
     "output_type": "stream",
     "text": [
      "C:\\Users\\Admin\\AppData\\Local\\Temp\\ipykernel_27428\\1836645416.py:3: FutureWarning: 'H' is deprecated and will be removed in a future version, please use 'h' instead.\n",
      "  df['hour'] = df['timestamp'].dt.floor('H')\n"
     ]
    }
   ],
   "source": [
    "\"\"\"Create features at different time scales\"\"\"\n",
    "\n",
    "# Level 1: Hourly aggregation\n",
    "hourly_features = _aggregate_to_hourly(df)\n",
    "\n",
    "# Level 2: Daily aggregation\n",
    "daily_features = _aggregate_to_daily(hourly_features)\n",
    "\n",
    "# Level 3: Weekly aggregation (for longer patterns)\n",
    "weekly_features = _aggregate_to_weekly(daily_features)"
   ]
  },
  {
   "cell_type": "code",
   "execution_count": 35,
   "id": "53ec8334",
   "metadata": {},
   "outputs": [],
   "source": [
    "def label_manipulation_periods(daily_df):\n",
    "        \"\"\"Label time periods as manipulation (1) or normal (0)\"\"\"\n",
    "        daily_df['date'] = pd.to_datetime(daily_df['date'])\n",
    "        daily_df['is_manipulation'] = 0\n",
    "        \n",
    "        for start_date, end_date in manipulation_periods:\n",
    "            mask = (daily_df['date'] >= start_date) & (daily_df['date'] <= end_date)\n",
    "            daily_df.loc[mask, 'is_manipulation'] = 1\n",
    "            \n",
    "        return daily_df\n",
    "    \n",
    "def prepare_lstm_sequences(daily_df, sequence_length=7):\n",
    "    \"\"\"Prepare sequences for LSTM training\"\"\"\n",
    "    \n",
    "    # Sort by date\n",
    "    daily_df = daily_df.sort_values('date').reset_index(drop=True)\n",
    "    \n",
    "    # Select feature columns (exclude date and target)\n",
    "    feature_cols = [col for col in daily_df.columns \n",
    "                    if col not in ['date', 'is_manipulation']]\n",
    "    \n",
    "    # Create sequences\n",
    "    X, y = [], []\n",
    "    \n",
    "    for i in range(sequence_length, len(daily_df)):\n",
    "        # Use previous 7 days to predict current day\n",
    "        X.append(daily_df[feature_cols].iloc[i-sequence_length:i].values)\n",
    "        y.append(daily_df['is_manipulation'].iloc[i])\n",
    "    \n",
    "    return np.array(X), np.array(y), feature_cols\n",
    "\n",
    "def get_preprocessing_summary(df):\n",
    "        \"\"\"Print summary of preprocessing results\"\"\"\n",
    "        print(\"=== Preprocessing Summary ===\")\n",
    "        print(f\"Total GME posts: {len(df)}\")\n",
    "        print(f\"Date range: {df['timestamp'].min()} to {df['timestamp'].max()}\")\n",
    "        print(f\"Unique authors: {df['author_id'].nunique()}\")\n",
    "        print(f\"Average sentiment: {df['sentiment'].mean():.3f}\")\n",
    "        print(f\"Average text similarity: {df['text_similarity'].mean():.3f}\")\n",
    "        \n",
    "        # Manipulation period stats\n",
    "        manipulation_posts = 0\n",
    "        for start, end in manipulation_periods:\n",
    "            mask = (df['timestamp'] >= start) & (df['timestamp'] <= end)\n",
    "            manipulation_posts += mask.sum()\n",
    "            print(f\"Posts during {start.date()} to {end.date()}: {mask.sum()}\")\n",
    "        \n",
    "        print(f\"Total manipulation period posts: {manipulation_posts}\")\n",
    "        print(f\"Normal period posts: {len(df) - manipulation_posts}\")\n"
   ]
  },
  {
   "cell_type": "code",
   "execution_count": 37,
   "id": "18bc5338",
   "metadata": {},
   "outputs": [
    {
     "ename": "KeyError",
     "evalue": "'date'",
     "output_type": "error",
     "traceback": [
      "\u001b[1;31m---------------------------------------------------------------------------\u001b[0m",
      "\u001b[1;31mKeyError\u001b[0m                                  Traceback (most recent call last)",
      "File \u001b[1;32m~\\AppData\\Local\\Packages\\PythonSoftwareFoundation.Python.3.10_qbz5n2kfra8p0\\LocalCache\\local-packages\\Python310\\site-packages\\pandas\\core\\indexes\\base.py:3805\u001b[0m, in \u001b[0;36mIndex.get_loc\u001b[1;34m(self, key)\u001b[0m\n\u001b[0;32m   3804\u001b[0m \u001b[38;5;28;01mtry\u001b[39;00m:\n\u001b[1;32m-> 3805\u001b[0m     \u001b[38;5;28;01mreturn\u001b[39;00m \u001b[38;5;28;43mself\u001b[39;49m\u001b[38;5;241;43m.\u001b[39;49m\u001b[43m_engine\u001b[49m\u001b[38;5;241;43m.\u001b[39;49m\u001b[43mget_loc\u001b[49m\u001b[43m(\u001b[49m\u001b[43mcasted_key\u001b[49m\u001b[43m)\u001b[49m\n\u001b[0;32m   3806\u001b[0m \u001b[38;5;28;01mexcept\u001b[39;00m \u001b[38;5;167;01mKeyError\u001b[39;00m \u001b[38;5;28;01mas\u001b[39;00m err:\n",
      "File \u001b[1;32mindex.pyx:167\u001b[0m, in \u001b[0;36mpandas._libs.index.IndexEngine.get_loc\u001b[1;34m()\u001b[0m\n",
      "File \u001b[1;32mindex.pyx:196\u001b[0m, in \u001b[0;36mpandas._libs.index.IndexEngine.get_loc\u001b[1;34m()\u001b[0m\n",
      "File \u001b[1;32mpandas\\\\_libs\\\\hashtable_class_helper.pxi:7081\u001b[0m, in \u001b[0;36mpandas._libs.hashtable.PyObjectHashTable.get_item\u001b[1;34m()\u001b[0m\n",
      "File \u001b[1;32mpandas\\\\_libs\\\\hashtable_class_helper.pxi:7089\u001b[0m, in \u001b[0;36mpandas._libs.hashtable.PyObjectHashTable.get_item\u001b[1;34m()\u001b[0m\n",
      "\u001b[1;31mKeyError\u001b[0m: 'date'",
      "\nThe above exception was the direct cause of the following exception:\n",
      "\u001b[1;31mKeyError\u001b[0m                                  Traceback (most recent call last)",
      "Cell \u001b[1;32mIn[37], line 3\u001b[0m\n\u001b[0;32m      1\u001b[0m \u001b[38;5;66;03m# Label manipulation periods\u001b[39;00m\n\u001b[0;32m      2\u001b[0m \u001b[38;5;66;03m# daily_labeled = label_manipulation_periods(daily_features)\u001b[39;00m\n\u001b[1;32m----> 3\u001b[0m weekly_labeled \u001b[38;5;241m=\u001b[39m \u001b[43mlabel_manipulation_periods\u001b[49m\u001b[43m(\u001b[49m\u001b[43mweekly_features\u001b[49m\u001b[43m)\u001b[49m\n\u001b[0;32m      6\u001b[0m \u001b[38;5;66;03m# Prepare LSTM sequences\u001b[39;00m\n\u001b[0;32m      7\u001b[0m X, y, feature_names \u001b[38;5;241m=\u001b[39m prepare_lstm_sequences(weekly_labeled)\n",
      "Cell \u001b[1;32mIn[35], line 3\u001b[0m, in \u001b[0;36mlabel_manipulation_periods\u001b[1;34m(daily_df)\u001b[0m\n\u001b[0;32m      1\u001b[0m \u001b[38;5;28;01mdef\u001b[39;00m \u001b[38;5;21mlabel_manipulation_periods\u001b[39m(daily_df):\n\u001b[0;32m      2\u001b[0m \u001b[38;5;250m        \u001b[39m\u001b[38;5;124;03m\"\"\"Label time periods as manipulation (1) or normal (0)\"\"\"\u001b[39;00m\n\u001b[1;32m----> 3\u001b[0m         daily_df[\u001b[38;5;124m'\u001b[39m\u001b[38;5;124mdate\u001b[39m\u001b[38;5;124m'\u001b[39m] \u001b[38;5;241m=\u001b[39m pd\u001b[38;5;241m.\u001b[39mto_datetime(\u001b[43mdaily_df\u001b[49m\u001b[43m[\u001b[49m\u001b[38;5;124;43m'\u001b[39;49m\u001b[38;5;124;43mdate\u001b[39;49m\u001b[38;5;124;43m'\u001b[39;49m\u001b[43m]\u001b[49m)\n\u001b[0;32m      4\u001b[0m         daily_df[\u001b[38;5;124m'\u001b[39m\u001b[38;5;124mis_manipulation\u001b[39m\u001b[38;5;124m'\u001b[39m] \u001b[38;5;241m=\u001b[39m \u001b[38;5;241m0\u001b[39m\n\u001b[0;32m      6\u001b[0m         \u001b[38;5;28;01mfor\u001b[39;00m start_date, end_date \u001b[38;5;129;01min\u001b[39;00m manipulation_periods:\n",
      "File \u001b[1;32m~\\AppData\\Local\\Packages\\PythonSoftwareFoundation.Python.3.10_qbz5n2kfra8p0\\LocalCache\\local-packages\\Python310\\site-packages\\pandas\\core\\frame.py:4102\u001b[0m, in \u001b[0;36mDataFrame.__getitem__\u001b[1;34m(self, key)\u001b[0m\n\u001b[0;32m   4100\u001b[0m \u001b[38;5;28;01mif\u001b[39;00m \u001b[38;5;28mself\u001b[39m\u001b[38;5;241m.\u001b[39mcolumns\u001b[38;5;241m.\u001b[39mnlevels \u001b[38;5;241m>\u001b[39m \u001b[38;5;241m1\u001b[39m:\n\u001b[0;32m   4101\u001b[0m     \u001b[38;5;28;01mreturn\u001b[39;00m \u001b[38;5;28mself\u001b[39m\u001b[38;5;241m.\u001b[39m_getitem_multilevel(key)\n\u001b[1;32m-> 4102\u001b[0m indexer \u001b[38;5;241m=\u001b[39m \u001b[38;5;28;43mself\u001b[39;49m\u001b[38;5;241;43m.\u001b[39;49m\u001b[43mcolumns\u001b[49m\u001b[38;5;241;43m.\u001b[39;49m\u001b[43mget_loc\u001b[49m\u001b[43m(\u001b[49m\u001b[43mkey\u001b[49m\u001b[43m)\u001b[49m\n\u001b[0;32m   4103\u001b[0m \u001b[38;5;28;01mif\u001b[39;00m is_integer(indexer):\n\u001b[0;32m   4104\u001b[0m     indexer \u001b[38;5;241m=\u001b[39m [indexer]\n",
      "File \u001b[1;32m~\\AppData\\Local\\Packages\\PythonSoftwareFoundation.Python.3.10_qbz5n2kfra8p0\\LocalCache\\local-packages\\Python310\\site-packages\\pandas\\core\\indexes\\base.py:3812\u001b[0m, in \u001b[0;36mIndex.get_loc\u001b[1;34m(self, key)\u001b[0m\n\u001b[0;32m   3807\u001b[0m     \u001b[38;5;28;01mif\u001b[39;00m \u001b[38;5;28misinstance\u001b[39m(casted_key, \u001b[38;5;28mslice\u001b[39m) \u001b[38;5;129;01mor\u001b[39;00m (\n\u001b[0;32m   3808\u001b[0m         \u001b[38;5;28misinstance\u001b[39m(casted_key, abc\u001b[38;5;241m.\u001b[39mIterable)\n\u001b[0;32m   3809\u001b[0m         \u001b[38;5;129;01mand\u001b[39;00m \u001b[38;5;28many\u001b[39m(\u001b[38;5;28misinstance\u001b[39m(x, \u001b[38;5;28mslice\u001b[39m) \u001b[38;5;28;01mfor\u001b[39;00m x \u001b[38;5;129;01min\u001b[39;00m casted_key)\n\u001b[0;32m   3810\u001b[0m     ):\n\u001b[0;32m   3811\u001b[0m         \u001b[38;5;28;01mraise\u001b[39;00m InvalidIndexError(key)\n\u001b[1;32m-> 3812\u001b[0m     \u001b[38;5;28;01mraise\u001b[39;00m \u001b[38;5;167;01mKeyError\u001b[39;00m(key) \u001b[38;5;28;01mfrom\u001b[39;00m \u001b[38;5;21;01merr\u001b[39;00m\n\u001b[0;32m   3813\u001b[0m \u001b[38;5;28;01mexcept\u001b[39;00m \u001b[38;5;167;01mTypeError\u001b[39;00m:\n\u001b[0;32m   3814\u001b[0m     \u001b[38;5;66;03m# If we have a listlike key, _check_indexing_error will raise\u001b[39;00m\n\u001b[0;32m   3815\u001b[0m     \u001b[38;5;66;03m#  InvalidIndexError. Otherwise we fall through and re-raise\u001b[39;00m\n\u001b[0;32m   3816\u001b[0m     \u001b[38;5;66;03m#  the TypeError.\u001b[39;00m\n\u001b[0;32m   3817\u001b[0m     \u001b[38;5;28mself\u001b[39m\u001b[38;5;241m.\u001b[39m_check_indexing_error(key)\n",
      "\u001b[1;31mKeyError\u001b[0m: 'date'"
     ]
    }
   ],
   "source": [
    "# Label manipulation periods\n",
    "# daily_labeled = label_manipulation_periods(daily_features)\n",
    "weekly_labeled = label_manipulation_periods(weekly_features)\n",
    "\n",
    "\n",
    "# Prepare LSTM sequences\n",
    "X, y, feature_names = prepare_lstm_sequences(weekly_labeled)\n",
    "\n",
    "# Print summary\n",
    "get_preprocessing_summary(df)"
   ]
  }
 ],
 "metadata": {
  "kernelspec": {
   "display_name": "base",
   "language": "python",
   "name": "python3"
  },
  "language_info": {
   "codemirror_mode": {
    "name": "ipython",
    "version": 3
   },
   "file_extension": ".py",
   "mimetype": "text/x-python",
   "name": "python",
   "nbconvert_exporter": "python",
   "pygments_lexer": "ipython3",
   "version": "3.11.5"
  }
 },
 "nbformat": 4,
 "nbformat_minor": 5
}
