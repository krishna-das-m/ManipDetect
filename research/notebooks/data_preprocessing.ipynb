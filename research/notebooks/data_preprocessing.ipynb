{
 "cells": [
  {
   "cell_type": "code",
   "execution_count": 3,
   "id": "9cdf55df",
   "metadata": {},
   "outputs": [],
   "source": [
    "import numpy as np\n",
    "import pandas as pd\n",
    "from datetime import datetime\n",
    "from dateutil.tz import gettz\n",
    "\n",
    "# for text processing\n",
    "from sklearn.feature_extraction.text import TfidfVectorizer\n",
    "from sklearn.metrics.pairwise import cosine_similarity\n",
    "import re\n",
    "from textblob import TextBlob\n",
    "\n",
    "from pathlib import Path\n",
    "# for visualization\n",
    "import matplotlib.pyplot as plt\n",
    "import seaborn as sns\n",
    "sns.set_theme(style='ticks', font_scale=1.5)\n",
    "\n",
    "Root = Path('.').absolute().parent\n",
    "# DATA = Root / r'C:\\Users\\Admin\\Projects\\ML Projects\\ManipDetect\\data'\n",
    "DATA = Root/ r'C:\\Users\\krishnadas\\Projects\\ML Projects\\ManipDetect\\data'"
   ]
  },
  {
   "cell_type": "code",
   "execution_count": 4,
   "id": "a51a0fd8",
   "metadata": {},
   "outputs": [
    {
     "data": {
      "application/vnd.microsoft.datawrangler.viewer.v0+json": {
       "columns": [
        {
         "name": "index",
         "rawType": "int64",
         "type": "integer"
        },
        {
         "name": "title",
         "rawType": "object",
         "type": "string"
        },
        {
         "name": "score",
         "rawType": "int64",
         "type": "integer"
        },
        {
         "name": "id",
         "rawType": "object",
         "type": "string"
        },
        {
         "name": "url",
         "rawType": "object",
         "type": "string"
        },
        {
         "name": "comms_num",
         "rawType": "int64",
         "type": "integer"
        },
        {
         "name": "created",
         "rawType": "float64",
         "type": "float"
        },
        {
         "name": "body",
         "rawType": "object",
         "type": "unknown"
        },
        {
         "name": "timestamp",
         "rawType": "object",
         "type": "string"
        }
       ],
       "ref": "21b7c76e-2f0e-4d14-a700-f6915cc23b58",
       "rows": [
        [
         "0",
         "It's not about the money, it's about sending a message. 🚀💎🙌",
         "55",
         "l6ulcx",
         "https://v.redd.it/6j75regs72e61",
         "6",
         "1611862661.0",
         null,
         "2021-01-28 21:37:41"
        ],
        [
         "1",
         "Math Professor Scott Steiner says the numbers spell DISASTER for Gamestop shorts",
         "110",
         "l6uibd",
         "https://v.redd.it/ah50lyny62e61",
         "23",
         "1611862330.0",
         null,
         "2021-01-28 21:32:10"
        ],
        [
         "2",
         "Exit the system",
         "0",
         "l6uhhn",
         "https://www.reddit.com/r/wallstreetbets/comments/l6uhhn/exit_the_system/",
         "47",
         "1611862235.0",
         "The CEO of NASDAQ pushed to halt trading “to give investors a chance to recalibrate their positions”.\n\n[https://mobile.twitter.com/Mediaite/status/1354504710695362563](https://mobile.twitter.com/Mediaite/status/1354504710695362563)\n\nNow SEC is investigating, brokers are disallowing buying more calls. This is the institutions flat out admitting they will change the rules to bail out the rich but if it happens to us, we get a “well shucks you should have known investing is risky! have you tried cutting out avocados and coffee, maybe doing Uber on the side?”\n\nWe may have collectively driven up enough sentiment in wall street to make other big players go long on GME with us (we do not have the money to move the stock as much as it did alone). we didn’t hurt wall street as a whole, just a few funds went down while others went up and profited off the shorts the same as us. The media wants to pin the blame on us.\n\nIt should be crystal clear that this is a rigged game by now. Its time to build new exchanges that can’t arbitrarily change the rules on us. Cr\\*\\*o has some version of these, maybe they can be repurposed to be trade stock without government intervention. I don’t know exactly what it will look like yet, but the broad next steps i see are - 1. exit the current financial system 2. build a new one.",
         "2021-01-28 21:30:35"
        ],
        [
         "3",
         "NEW SEC FILING FOR GME! CAN SOMEONE LESS RETARDED THAN ME PLEASE INTERPRET?",
         "29",
         "l6ugk6",
         "https://sec.report/Document/0001193125-21-019848/",
         "74",
         "1611862137.0",
         null,
         "2021-01-28 21:28:57"
        ],
        [
         "4",
         "Not to distract from GME, just thought our AMC brothers should be aware of this",
         "71",
         "l6ufgy",
         "https://i.redd.it/4h2sukb662e61.jpg",
         "156",
         "1611862016.0",
         null,
         "2021-01-28 21:26:56"
        ]
       ],
       "shape": {
        "columns": 8,
        "rows": 5
       }
      },
      "text/html": [
       "<div>\n",
       "<style scoped>\n",
       "    .dataframe tbody tr th:only-of-type {\n",
       "        vertical-align: middle;\n",
       "    }\n",
       "\n",
       "    .dataframe tbody tr th {\n",
       "        vertical-align: top;\n",
       "    }\n",
       "\n",
       "    .dataframe thead th {\n",
       "        text-align: right;\n",
       "    }\n",
       "</style>\n",
       "<table border=\"1\" class=\"dataframe\">\n",
       "  <thead>\n",
       "    <tr style=\"text-align: right;\">\n",
       "      <th></th>\n",
       "      <th>title</th>\n",
       "      <th>score</th>\n",
       "      <th>id</th>\n",
       "      <th>url</th>\n",
       "      <th>comms_num</th>\n",
       "      <th>created</th>\n",
       "      <th>body</th>\n",
       "      <th>timestamp</th>\n",
       "    </tr>\n",
       "  </thead>\n",
       "  <tbody>\n",
       "    <tr>\n",
       "      <th>0</th>\n",
       "      <td>It's not about the money, it's about sending a...</td>\n",
       "      <td>55</td>\n",
       "      <td>l6ulcx</td>\n",
       "      <td>https://v.redd.it/6j75regs72e61</td>\n",
       "      <td>6</td>\n",
       "      <td>1.611863e+09</td>\n",
       "      <td>NaN</td>\n",
       "      <td>2021-01-28 21:37:41</td>\n",
       "    </tr>\n",
       "    <tr>\n",
       "      <th>1</th>\n",
       "      <td>Math Professor Scott Steiner says the numbers ...</td>\n",
       "      <td>110</td>\n",
       "      <td>l6uibd</td>\n",
       "      <td>https://v.redd.it/ah50lyny62e61</td>\n",
       "      <td>23</td>\n",
       "      <td>1.611862e+09</td>\n",
       "      <td>NaN</td>\n",
       "      <td>2021-01-28 21:32:10</td>\n",
       "    </tr>\n",
       "    <tr>\n",
       "      <th>2</th>\n",
       "      <td>Exit the system</td>\n",
       "      <td>0</td>\n",
       "      <td>l6uhhn</td>\n",
       "      <td>https://www.reddit.com/r/wallstreetbets/commen...</td>\n",
       "      <td>47</td>\n",
       "      <td>1.611862e+09</td>\n",
       "      <td>The CEO of NASDAQ pushed to halt trading “to g...</td>\n",
       "      <td>2021-01-28 21:30:35</td>\n",
       "    </tr>\n",
       "    <tr>\n",
       "      <th>3</th>\n",
       "      <td>NEW SEC FILING FOR GME! CAN SOMEONE LESS RETAR...</td>\n",
       "      <td>29</td>\n",
       "      <td>l6ugk6</td>\n",
       "      <td>https://sec.report/Document/0001193125-21-019848/</td>\n",
       "      <td>74</td>\n",
       "      <td>1.611862e+09</td>\n",
       "      <td>NaN</td>\n",
       "      <td>2021-01-28 21:28:57</td>\n",
       "    </tr>\n",
       "    <tr>\n",
       "      <th>4</th>\n",
       "      <td>Not to distract from GME, just thought our AMC...</td>\n",
       "      <td>71</td>\n",
       "      <td>l6ufgy</td>\n",
       "      <td>https://i.redd.it/4h2sukb662e61.jpg</td>\n",
       "      <td>156</td>\n",
       "      <td>1.611862e+09</td>\n",
       "      <td>NaN</td>\n",
       "      <td>2021-01-28 21:26:56</td>\n",
       "    </tr>\n",
       "  </tbody>\n",
       "</table>\n",
       "</div>"
      ],
      "text/plain": [
       "                                               title  score      id  \\\n",
       "0  It's not about the money, it's about sending a...     55  l6ulcx   \n",
       "1  Math Professor Scott Steiner says the numbers ...    110  l6uibd   \n",
       "2                                    Exit the system      0  l6uhhn   \n",
       "3  NEW SEC FILING FOR GME! CAN SOMEONE LESS RETAR...     29  l6ugk6   \n",
       "4  Not to distract from GME, just thought our AMC...     71  l6ufgy   \n",
       "\n",
       "                                                 url  comms_num       created  \\\n",
       "0                    https://v.redd.it/6j75regs72e61          6  1.611863e+09   \n",
       "1                    https://v.redd.it/ah50lyny62e61         23  1.611862e+09   \n",
       "2  https://www.reddit.com/r/wallstreetbets/commen...         47  1.611862e+09   \n",
       "3  https://sec.report/Document/0001193125-21-019848/         74  1.611862e+09   \n",
       "4                https://i.redd.it/4h2sukb662e61.jpg        156  1.611862e+09   \n",
       "\n",
       "                                                body            timestamp  \n",
       "0                                                NaN  2021-01-28 21:37:41  \n",
       "1                                                NaN  2021-01-28 21:32:10  \n",
       "2  The CEO of NASDAQ pushed to halt trading “to g...  2021-01-28 21:30:35  \n",
       "3                                                NaN  2021-01-28 21:28:57  \n",
       "4                                                NaN  2021-01-28 21:26:56  "
      ]
     },
     "execution_count": 4,
     "metadata": {},
     "output_type": "execute_result"
    }
   ],
   "source": [
    "filepath = DATA / 'reddit_wsb.csv'\n",
    "df = pd.read_csv(filepath)\n",
    "df.head()"
   ]
  },
  {
   "cell_type": "code",
   "execution_count": 5,
   "id": "2205d0ef",
   "metadata": {},
   "outputs": [
    {
     "name": "stdout",
     "output_type": "stream",
     "text": [
      "<class 'pandas.core.frame.DataFrame'>\n",
      "RangeIndex: 53187 entries, 0 to 53186\n",
      "Data columns (total 8 columns):\n",
      " #   Column     Non-Null Count  Dtype  \n",
      "---  ------     --------------  -----  \n",
      " 0   title      53187 non-null  object \n",
      " 1   score      53187 non-null  int64  \n",
      " 2   id         53187 non-null  object \n",
      " 3   url        53187 non-null  object \n",
      " 4   comms_num  53187 non-null  int64  \n",
      " 5   created    53187 non-null  float64\n",
      " 6   body       24738 non-null  object \n",
      " 7   timestamp  53187 non-null  object \n",
      "dtypes: float64(1), int64(2), object(5)\n",
      "memory usage: 3.2+ MB\n"
     ]
    }
   ],
   "source": [
    "df.info()"
   ]
  },
  {
   "cell_type": "code",
   "execution_count": 6,
   "id": "8b066893",
   "metadata": {},
   "outputs": [
    {
     "data": {
      "application/vnd.microsoft.datawrangler.viewer.v0+json": {
       "columns": [
        {
         "name": "('title', 'score', 'id', 'url', 'comms_num', 'created', 'body', 'timestamp')",
         "rawType": "object",
         "type": "unknown"
        },
        {
         "name": "count",
         "rawType": "int64",
         "type": "integer"
        }
       ],
       "ref": "04c7f31a-d172-41be-b66b-a9805b56eabd",
       "rows": [
        [
         "('!!! CHAMATH, Please open your own trading platform & I guarantee all of us that just got screwed over by RH & other trading platforms that are manipulating the market today will come aboard!🙏', 4, 'l6ziga', 'https://www.reddit.com/r/wallstreetbets/comments/l6ziga/chamath_please_open_your_own_trading_platform_i/', 1, 1611876138.0, \" Wall street bets is getting shutdown.\\n\\nLess gooooooooo\\n\\nPREMIUM STREET BETS-\\n\\n[https://discord.gg/DBTmUJTY](https://discord.gg/DBTmUJTY)\\n\\nThis is some bullshit what Robinhood is doing today locking us out from buying stocks! I for one will be taking my money out & finding a different platform to trade in that believes in free & open capitalism. Shame on you Robinhood for bowing down to the hedge funds & screwing over all the retail investors that supported your platform since you came into existence! 🖕🤬🖕\\n\\nChamath, I hope you're out there reading this! Your interview yesterday on CNBC really struck a chord with all of us here. Thanks for sticking up for the little guy! You're the fuckin' man!!! 🙌\", '2021-01-29 01:22:18')",
         "1"
        ],
        [
         "('Robinhood', 8, 'l6zoby', 'https://www.reddit.com/r/wallstreetbets/comments/l6zoby/robinhood/', 5, 1611876476.0, '**Robinhood** taking from the poor and giving to the rich! I hope they get thrown in jail!', '2021-01-29 01:27:56')",
         "1"
        ],
        [
         "(\"RobinHood's liquidity is currently tied up\", 1, 'l71u49', 'https://www.reddit.com/r/wallstreetbets/comments/l71u49/robinhoods_liquidity_is_currently_tied_up/', 1, 1611881036.0, \"If it is true that over half of the app's users held some GME - then that is a ton of tied-up liquidity, making it prime for more pumps of other tickers. One domino falls....\", '2021-01-29 02:43:56')",
         "1"
        ],
        [
         "('RobinHood\\'s \"Explanation\" (Ken Griffon shuts it down)', 1, 'l70u3j', 'https://www.reddit.com/r/wallstreetbets/comments/l70u3j/robinhoods_explanation_ken_griffon_shuts_it_down/', 0, 1611878991.0, 'Looks like Robinhood received their official word from their daddy Griffon, they posted up this \"explanation\" for why they are manipulating the market  \\n\\n\\n([https://blog.robinhood.com/news/2021/1/28/keeping-customers-informed-through-market-volatility](https://blog.robinhood.com/news/2021/1/28/keeping-customers-informed-through-market-volatility))', '2021-01-29 02:09:51')",
         "1"
        ],
        [
         "('RobinHood thinks I’m gonna sell GME just because they removed the buy button?', 1, 'l71oju', 'https://www.reddit.com/r/wallstreetbets/comments/l71oju/robinhood_thinks_im_gonna_sell_gme_just_because/', 0, 1611880722.0, 'I’M NOT SELLING SHIT. FUCK ROBINHOOD. \\n\\nI trust all our brothers and sisters on other brokers and in other countries to BUY and HOLD. I trust everyone on robinhood to HOLD. \\n\\nThis isn’t over. Robinhood just declared war against the people who made Melvin capital lose billions. \\n\\nHOLD🚀🚀🚀🚀🚀🚀🚀🚀🚀🚀💎🤲🏼\\n\\nTL;DR: fuck robinhood, fuck citadel, fuck Melvin. HOLD GME 🚀🚀🚀🚀', '2021-01-29 02:38:42')",
         "1"
        ],
        [
         "('RobinHood the app did the exact opposite of what Robin Hood would’ve done.', 1, 'l71opg', 'https://www.reddit.com/r/wallstreetbets/comments/l71opg/robinhood_the_app_did_the_exact_opposite_of_what/', 3, 1611880730.0, 'The real Robin Hood stole from the rich to give to the poor.\\n\\nRobinHood the app is fucking over the poor to save the manipulative rich. \\n\\nDamn son.', '2021-01-29 02:38:50')",
         "1"
        ],
        [
         "('RobinHood must be punished', 1, 'l72e8p', 'https://www.reddit.com/r/wallstreetbets/comments/l72e8p/robinhood_must_be_punished/', 0, 1611882171.0, 'Do your part...close your RH account and wait for the class action litigation.  \\nMeanwhile...do not sell!', '2021-01-29 03:02:51')",
         "1"
        ],
        [
         "(\"RobinHood isn't malicious, just cheap.\", 206, 'l7i7rm', 'https://www.reddit.com/r/wallstreetbets/comments/l7i7rm/robinhood_isnt_malicious_just_cheap/', 209, 1611920634.0, 'Ripping this off from here: [https://twitter.com/KralcTrebor/status/1354952686165225478](https://twitter.com/KralcTrebor/status/1354952686165225478)\\n\\n&#x200B;\\n\\n&#x200B;\\n\\nEssentially, when you trade on RobinHood, they don\\'t settle the trades for you. They use what\\'s called a Clearing House, which is where the actual exchange of money for shares happens. Trade settlement happens two days after you execute your trade (T+2), so RobinHood has to keep money on account with the clearing house until the trades settle. \\n\\n&#x200B;\\n\\n&#x200B;\\n\\nThey have to keep a set amount that\\'s defined by rule (Dodd-Frank), so they don\\'t really get a choice in the matter. They also can\\'t use your money, which is client money - it has to be their own capital. The good news for them is they can net out their exposure, so if you buy a stock but someone sells, the trades net and it\\'s no exposure. \\n\\n&#x200B;\\n\\n&#x200B;\\n\\nSo what the fuck happened here today? Simple. All week, people have been dumping money in and buying more GME. We\\'re all in this together, so nobody\\'s selling and some people are even buying more. The bad news is, because so many people are buying and the price of the stock keeps rising astronomically, RobinHood\\'s margin requirements went WAY up. You\\'ve probably seen the news that RobinHood drew down their credit lines this week ([https://www.bloomberg.com/news/articles/2021-01-28/robinhood-app-is-said-to-draw-on-credit-lines-from-banks-amid-trading-frenzy?srnd=premium](https://www.bloomberg.com/news/articles/2021-01-28/robinhood-app-is-said-to-draw-on-credit-lines-from-banks-amid-trading-frenzy?srnd=premium)), which basically means they had agreements with banks that if they needed to borrow money, they could, and they needed to this week so they did. We literally bought so much of these stocks that RobinHood couldn\\'t afford to cover the requirements for you to buy more. \\n\\n&#x200B;\\n\\n&#x200B;\\n\\nDoes this absolve RobinHood? FUCK NO. They offer us a service and access to the market, and they sell our order flow to hedge funds, on the premise that they could provide us with that service. They make TONS of money. The fact that they now couldn\\'t afford to deliver on their service is THEIR problem, not ours. They fucked up. They weren\\'t ready to handle this and didn\\'t see it coming, even though it happened right in the open and right in front of them. They made TONS of money on our deal flow but somehow they didn\\'t have enough to pay the margin requirements.\\n\\n&#x200B;\\n\\n&#x200B;\\n\\nThe good news is, this means that they weren\\'t being malicious in trying to shut down buying (note: I\\'m not excusing them liquidating people out of positions, that\\'s a separate issue entirely), just that they\\'re incompetent and inexcusably couldn\\'t handle this volume of deal flow. The bad news is, the issue can absolutely happen again because THIS ISN\\'T FUCKING OVER and WE AREN\\'T DONE HERE. The good news is, with a day of no buy orders in there and trades settling every two days, we\\'ll be back to being able to buy sooner than later. \\n\\n&#x200B;\\n\\n&#x200B;\\n\\nToday was a blip and a mistake made by the \"professionals\" who run the infrastructure that serves the system. The hedge funds got lucky and got a breather, a quick day to get out from under the constant barrage we\\'ve put them under. The day is over. We\\'re coming back stronger and harder.\\n\\n&#x200B;\\n\\n&#x200B;\\n\\nTo prevent this from happening again, open brokerage accounts with other brokers who don\\'t have this problem. Spread the love, pay a little more in fees and go get your bags. LET\\'S FUCKING DO THIS!', '2021-01-29 13:43:54')",
         "1"
        ],
        [
         "('RobinHood is shut down for buying now', 5, 'l6wyfv', 'https://www.reddit.com/r/wallstreetbets/comments/l6wyfv/robinhood_is_shut_down_for_buying_now/', 4, 1611870354.0, 'What’s the move FAM?', '2021-01-28 23:45:54')",
         "1"
        ],
        [
         "('RobinHood is manipulating the FREE MARKET!!!', 1, 'l70xk4', 'https://www.reddit.com/r/wallstreetbets/comments/l70xk4/robinhood_is_manipulating_the_free_market/', 2, 1611879199.0, '[RobinHood needs a CLASS ACTION LAWSUIT](https://blog.robinhood.com/news/2021/1/28/keeping-customers-informed-through-market-volatility)', '2021-01-29 02:13:19')",
         "1"
        ],
        [
         "('RobinHood is a Turncoat!', 9, 'l6wuyp', 'https://www.reddit.com/r/wallstreetbets/comments/l6wuyp/robinhood_is_a_turncoat/', 4, 1611870096.0, 'Now that RobinHood has showed their true colors (Sell only for all news lately stocks) what is the best new investing platform? WeBull?', '2021-01-28 23:41:36')",
         "1"
        ],
        [
         "('RobinHood is UnAmerican', 1, 'l71don', 'https://www.reddit.com/r/wallstreetbets/comments/l71don/robinhood_is_unamerican/', 0, 1611880123.0, 'The lame of the free until the babies don’t get what they want. Neo feudalism at its finish.', '2021-01-29 02:28:43')",
         "1"
        ],
        [
         "('RobinHood confirms they are preventing sales of \"certain securities\" including GME, AMC, BB and NOK. This is not due to a technical issue.', 1, 'l72aui', 'https://www.reddit.com/r/wallstreetbets/comments/l72aui/robinhood_confirms_they_are_preventing_sales_of/', 2, 1611882002.0, '[https://blog.robinhood.com/news/2021/1/28/keeping-customers-informed-through-market-volatility](https://blog.robinhood.com/news/2021/1/28/keeping-customers-informed-through-market-volatility)\\n\\n&#x200B;\\n\\n\"We are restricting transactions for certain securities to position closing only, including $AAL, $AMC, $BB, $BBBY, $CTRM, $EXPR, $GME, $KOSS, $NAKD, $NOK, $SNDL, $TR, and $TRVG. \"', '2021-01-29 03:00:02')",
         "1"
        ],
        [
         "('RobinHood Won’t Allow Money to be Transferred.', 2, 'l6zzkr', 'https://www.reddit.com/r/wallstreetbets/comments/l6zzkr/robinhood_wont_allow_money_to_be_transferred/', 10, 1611877115.0, 'Hey y’all, I’m kind of freaking out right now. So RH is strangleholding  my money and even though I have 50$ in buying power- I can’t transfer it to my bank account . It’s saying I have 0 dollars to withdraw. Please help me :-(', '2021-01-29 01:38:35')",
         "1"
        ],
        [
         "('RobinHood Collusion', 1, 'l71xb6', 'https://www.reddit.com/r/wallstreetbets/comments/l71xb6/robinhood_collusion/', 3, 1611881217.0, \"Speculation of what's going on: Robinhood gets most of their order flow routed from a company called Citadel. \\n\\n\\nCitadel invested Billions in Melvin Capital, who was the company losing BILLIONS as GME kept running up. \\n\\n\\nIt's theorized that - MAYBE - Citadel stopped routing purchase order flow for Robinhood, and for them - a class action lawsuit would be cheaper than GME continuing to potentially rise, where they lose billions. \\n\\n\\nWhat a mess. Just a theory though. Absolutely all of this is just a guess. I'm likely wrong and this is not fact. Don't listen to me at all.\", '2021-01-29 02:46:57')",
         "1"
        ],
        [
         "('RobinHood', 0, 'l6wvxs', 'https://www.reddit.com/r/wallstreetbets/comments/l6wvxs/robinhood/', 1, 1611870170.0, 'A lot of buying power is lost now. We need a new stock. Any suggestions?', '2021-01-28 23:42:50')",
         "1"
        ],
        [
         "('Robin to be uninstalled after hold', 29, 'l6ztes', 'https://www.reddit.com/r/wallstreetbets/comments/l6ztes/robin_to_be_uninstalled_after_hold/', 5, 1611876763.0, 'After landing on the moon Robinhood is dead. Which app are you planning on moving to or already moved to for more buy/hold.', '2021-01-29 01:32:43')",
         "1"
        ],
        [
         "(\"Robin hood is apparently fucked so what's the best trading app to use? God bless\", 1, 'l73315', 'https://www.reddit.com/r/wallstreetbets/comments/l73315/robin_hood_is_apparently_fucked_so_whats_the_best/', 2, 1611883602.0, 'I want some sweet sweet GME', '2021-01-29 03:26:42')",
         "1"
        ],
        [
         "('Robin Hoods -Spam Help', 1, 'l6wzm8', 'https://www.reddit.com/r/wallstreetbets/comments/l6wzm8/robin_hoods_spam_help/', 0, 1611870441.0, 'Everyone please spam Robinhood’s help center!\\nThis is BS!', '2021-01-28 23:47:21')",
         "1"
        ],
        [
         "('Robin Hood?', 1, 'l70ffi', 'https://www.reddit.com/r/wallstreetbets/comments/l70ffi/robin_hood/', 1, 1611878075.0, 'More like robbin us blind....', '2021-01-29 01:54:35')",
         "1"
        ],
        [
         "('Robin Hood is limiting purchases to 5 shares', 64, 'l7uwxs', 'https://www.reddit.com/r/wallstreetbets/comments/l7uwxs/robin_hood_is_limiting_purchases_to_5_shares/', 13, 1611961955.0, \"Spread this message, you fucking retards.\\n\\nCan't own more than 5 shares, apparently.\\n\\nHelp get the word out and put RH through the guillotine.\\n\\nhttp://imgur.com/a/CZHg0si\", '2021-01-30 01:12:35')",
         "1"
        ],
        [
         "('Robin Hood desktop!', 1, 'l6x0xt', 'https://www.reddit.com/r/wallstreetbets/comments/l6x0xt/robin_hood_desktop/', 0, 1611870541.0, \"Hearing a rumour that you can still buy on Robin Hood desktop site! Not sure if its true but worth a look. Robin Hood don't work in my part of the world anyway!\", '2021-01-28 23:49:01')",
         "1"
        ],
        [
         "('Robin Hood data selling', 38, 'lcboav', 'https://www.reddit.com/r/wallstreetbets/comments/lcboav/robin_hood_data_selling/', 20, 1612457917.0, 'I know this is obvious to some but the reason Robbin Hood and other free platforms are free is because they sell all your trading data and habits to the big guys. This means that everything most people on here are doing or planning (orders and alike) are on the screens of Wall Street investors. It’s important not to use free trading platforms for this reason.', '2021-02-04 18:58:37')",
         "1"
        ],
        [
         "('RobinHoods Message on Volatility', 1, 'l71sn0', 'https://www.reddit.com/r/wallstreetbets/comments/l71sn0/robinhoods_message_on_volatility/', 3, 1611880949.0, 'In case it hasn’t been posted and for all to see what their excuse is...\\n\\n“Our mission at Robinhood is to democratize finance for all. We’re proud to have created a platform that has helped everyday people, from all backgrounds, shape their financial futures and invest for the long term. \\n\\nWe continuously monitor the markets and make changes where necessary. In light of recent volatility, we are restricting transactions for certain securities to position closing only, including $AAL, $AMC, $BB, $BBY, $CTRM, $EXPR, $GME, $KOSS, $NAKD, $NOK, $SNDL, $TR, and $TRVG. We also raised margin requirements for certain securities.\\n\\nAmid significant market volatility, it’s important as ever that we help customers stay informed. That’s why we’re committed to providing people with educational resources. We recently revamped and expanded Robinhood Learn to help people take advantage of the hundreds of financial resources we offer and educate themselves, including how to make sense of a volatile market. In 2020, more than 3.2 million people read our articles through Robinhood Learn.\\n\\nWe’re committed to helping our customers navigate this uncertainty. We fundamentally believe that everyone should have access to financial markets. We’re humbled to have helped many people invest in the markets for the first time. And we’re determined to provide new and experienced investors with the tools and resources to help them invest responsibly for their long-term financial futures. “', '2021-01-29 02:42:29')",
         "1"
        ],
        [
         "('Robindhood has baned us from buying GME, but you can still buy with other apps', 1, 'l70u8a', 'https://www.reddit.com/r/wallstreetbets/comments/l70u8a/robindhood_has_baned_us_from_buying_gme_but_you/', 4, 1611879000.0, 'Now we need to just buy and hold, revolut does not have option trading or margins but you can still help by just buying with your own money, so dowloand that shit and start buying stock!!! HOLD MY BROTHERS HOLD!!', '2021-01-29 02:10:00')",
         "1"
        ],
        [
         "('Robinghood transfer to Webull', 3, 'o7898m', 'https://www.reddit.com/r/wallstreetbets/comments/o7898m/robinghood_transfer_to_webull/', 22, 1624592153.0, 'I just started transferring from Robinhood to Webull and I have a few questions.\\n\\nWebull says they will cover any transfer fees (up to $100) as long as you have $2,000+ in assets/portfolio. Will I still need the $75 in buying power on Robinghood for this transfer to go smoothly? Or is this an issue I shouldn’t worry about? \\n\\nI’m holding xx shares with a little over $2k in my portfolio, I don’t have the extra $75 right now to put in buying power but I need to get off RH before any stock squeezes to avoid any risks of something happening like with GME. I know I should’ve transferred awhile ago but just never have. I’m worried RH will try and pull something sketchy again and I don’t want to be on that end, I want to eat my tendies on the moon! \\n\\nShould I ask my wife’s boyfriend for the extra $75? \\n\\nIf anybody has any advice Or anything I’d appreciate it', '2021-06-25 06:35:53')",
         "1"
        ],
        [
         "('Robinhood', 1, 'l71oqh', 'https://www.reddit.com/r/wallstreetbets/comments/l71oqh/robinhood/', 1, 1611880732.0, 'Anyone else notice the irony of an app called Robinhood protecting the rich and screwing the little guy?', '2021-01-29 02:38:52')",
         "1"
        ],
        [
         "('Robinhood', 7, 'l6x020', 'https://www.reddit.com/r/wallstreetbets/comments/l6x020/robinhood/', 2, 1611870475.0, 'If you’re unaware Robinhood has blocked trading of our favorite stocks $AMC $NOK and tendy maker $GME. HODL THE LINE!! \\n\\nShould we ban together and do a class action against them?', '2021-01-28 23:47:55')",
         "1"
        ],
        [
         "('Robinhood', 6, 'l6wz5x', 'https://www.reddit.com/r/wallstreetbets/comments/l6wz5x/robinhood/', 0, 1611870408.0, 'Why is Robinhood making you close out positions, stating that you cannot buy additional shares, also saying some stocks are now not supported on Robinhood? Are you serious right now', '2021-01-28 23:46:48')",
         "1"
        ],
        [
         "('Robinhood', 6, 'l6wxin', 'https://www.reddit.com/r/wallstreetbets/comments/l6wxin/robinhood/', 0, 1611870282.0, \"They're trying to make us close our positions to move them to other brokers!\\n\\nCriminals!! More suits trying to rig the system!\\n\\n&#x200B;\\n\\nTD still allows trading on these stocks right now time to get out the back up accounts!!\", '2021-01-28 23:44:42')",
         "1"
        ],
        [
         "('Robinhood', 4, 'l6wxyc', 'https://www.reddit.com/r/wallstreetbets/comments/l6wxyc/robinhood/', 1, 1611870316.0, 'Lets just hope this is just a \"Pre Market\" thing and once the market opens we\\'ll be able to invest again. Key word HOPE.\\n\\nALSO HOLD GME 🚀🚀🚀', '2021-01-28 23:45:16')",
         "1"
        ],
        [
         "('Robinhood', 4, 'l6wwh8', 'https://www.reddit.com/r/wallstreetbets/comments/l6wwh8/robinhood/', 4, 1611870211.0, 'Yo I’m new at this got in late to the game but I’m in!! Do NOT sell!!! Robinhood isn’t allowing any more buying of amc, gme, expr etc..', '2021-01-28 23:43:31')",
         "1"
        ],
        [
         "('Robinhood', 3, 'l6zlf1', 'https://www.reddit.com/r/wallstreetbets/comments/l6zlf1/robinhood/', 0, 1611876309.0, 'Robin-hood has shown it’s true colors, once 🦍 royally fuck boss man 🦍 take all banana 🍌 from Robin-hood elsewhere', '2021-01-29 01:25:09')",
         "1"
        ],
        [
         "('Robinhood', 2, 'lda7z3', 'https://www.reddit.com/r/wallstreetbets/comments/lda7z3/robinhood/', 15, 1612569643.0, \"I'm new to the stock world, but I've always loved Robinhood, but because of recent events I would like to change apps. What are other user friendly apps that do the same thing Robinhood does?\", '2021-02-06 02:00:43')",
         "1"
        ],
        [
         "('Robinhood', 2, 'l75762', 'https://www.reddit.com/r/wallstreetbets/comments/l75762/robinhood/', 1, 1611888923.0, \"Robinhood as a company can make whatever decisions they want. They can limit trading to protect their friends. Maybe it's unethical or illegal but who knows. That will not be determined for weeks. So vote with your dollar.\\n\\nTransfer your money out of RH. Put it in a broker that isn't screwing with your investments. Please list all the brokers that are blocking stock purchases so we all know.\", '2021-01-29 04:55:23')",
         "1"
        ],
        [
         "('Robinhood', 2, 'l6zdto', 'https://www.reddit.com/r/wallstreetbets/comments/l6zdto/robinhood/', 0, 1611875870.0, 'Why don’t robinhood just ban selling as well?', '2021-01-29 01:17:50')",
         "1"
        ],
        [
         "('Robinhood', 1, 'l7075d', 'https://www.reddit.com/r/wallstreetbets/comments/l7075d/robinhood/', 1, 1611877564.0, 'I’m shorting their bitch asses when they IPO. Prince John mother fuckers.', '2021-01-29 01:46:04')",
         "1"
        ],
        [
         "('Robinh Senate Hearings Tomorrow: F$#King you 6 ways till Sunday.', 11, 'm11gnm', 'https://www.reddit.com/r/wallstreetbets/comments/m11gnm/robinh_senate_hearings_tomorrow_fking_you_6_ways/', 11, 1615303836.0, 'So, as we all know for the 100th time, the bullshit senate hearings for robinhood are set to take place tomorrow at 10am. \\n\\nThe time it starts is a slap in the face to us at the very beginning.  Allowing these guys to get some sleep, and possibly get a blowie before they head out??? \\n\\nMake these Fucks show up at 7am SHARP. \\nI want to see them a little tired when they first show up.  If they are late, have the Nat. Guard drag them out if bed, and onto the Senate floor in their underwear.   Don\\'t give them anything to drink, don\\'t let them get a break, and don\\'t let them use the bathroom.   Make the hearing for 12hrs straight standing. \\n\\n\\nOther than my genuine 2 cents,. I want to rant a little about senate hearings. \\n\\nThey are going to spread more FUD about speculators but read this first. \\n\\nSenate hearings for bad actors in general (Banks, hedges, jack dorsey, big pharma, crooked politicians, and fuck zuch is just a complete circus at this point.   \\n\\nIt always has been.    It\\'s JUST A GAME to pretend like the bad guys that you don\\'t like will get in a lot of trouble , be taken down , assets seized, of arrested.    We have all seen it for multiple different people these past few years.      Nothing EVER GETS DONE.  \\n\\nAll it is, is angry questionnaires that\\'s go on for hours straight.\\n\\nPolitician: This is a shame what you did, where were you when this happened? \\n\\nThem: I can\\'t really remember that much, but we\\'re looking into at the moment so we can correct these problems in the future. \\n\\nThis is your senate hearing all day for ANYONE the past few years...\\n\\nPaid for Politician: bad bad bad bad bad , did you do this??? DID YOU DO THIS? \\n\\nThem/Corp: I don\\'t have those numbers with me but currently we are working to get it here as soon as possible. \\n\\nPolitician: What about this then? What happened here? Why is this and that happening?\\n\\nThem: I can\\'t remember exactly, I\\'d have to circle back to you.  It might have been an error we later fixed. \\n\\nPaid for Politician: you don\\'t remember ?? You\\'re the top guy , and you can\\'t remember ?\\nI know you did illegal things. Why did you do these things? I have the evidence right here that shows you did this. \\n\\nThem: well,  we were following protocol based on federal guidelines and some team members got confused. \\n\\nPaid for: You know , what you did was wrong, and if we don\\'t fix the actions now, it\\'s going to set a dangerous precedent. Ok next politicians ...\\n\\n\"Politician #2\":. Do you know this X persons on this list?  \\n\\nThem: I dont know\\n\\n#2:. Well they said they know you, and we have multiple communications proving that. \\nWhat you\\'re doing is bad.  \\n\\nThem: I understand, but we were just trying to do the right thing, were already dedicating teams to handle this for the future. \\n\\n\\n\\n\\nThen nothing happens after that. Literally NOTHING.  It\\'s all a Show to keep us occupied and make it look like  things will be done. \\n\\nBUT THEY WONT!  It\\'s all there to quiet the noise down because they are ALL CONNECTED SOMEHOW.      If any normal person was in charge , many people at hearings would be arrested soon after. \\n\\nAfter the hearings you will usually see a series of news articles spread everywhere. A few with \"Senator slams robinhood ceo for...\" In the title, and then it all goes away.   Out of site out of mind. That\\'s the game \\n\\n\\n Now robinhood is coming in tomorrow with a Team of FUD spreaders.  To push other paid for politicians to draft a bill to outlaw speculation.  To tell you speculation on meme stocks should be ILLEGAL for your own good. \\n\\n\\nFUCK everyone on that senate floor tomorrow. \\n\\nThey don\\'t deserve the air they breath.', '2021-03-09 17:30:36')",
         "1"
        ],
        [
         "('Robinhood', 1, 'l6zgcl', 'https://www.reddit.com/r/wallstreetbets/comments/l6zgcl/robinhood/', 1, 1611876015.0, 'Is KODK a good buy right now? Seems to be the only thing not blocked by Robinhood', '2021-01-29 01:20:15')",
         "1"
        ],
        [
         "('Robinhood', 1, 'l6yz8m', 'https://www.reddit.com/r/wallstreetbets/comments/l6yz8m/robinhood/', 0, 1611875053.0, \"Maybe this suits their name perfectly, after this we're the rich and the shorts are the poor.  \\n\\n\\nPosition:  \\n42 @ $94.86\", '2021-01-29 01:04:13')",
         "1"
        ],
        [
         "('Robinhood', 1, 'l6yyg9', 'https://www.reddit.com/r/wallstreetbets/comments/l6yyg9/robinhood/', 1, 1611875011.0, 'Set your limit sells high if you don’t want Robinhood to auto sell whatever restricted stock you have.', '2021-01-29 01:03:31')",
         "1"
        ],
        [
         "('Robinhood', 1, 'l6yx2m', 'https://www.reddit.com/r/wallstreetbets/comments/l6yx2m/robinhood/', 0, 1611874935.0, 'Watch your stocks guys! I just got an update from RH and they autosold my NOK shares without me putting a order in to sell them!', '2021-01-29 01:02:15')",
         "1"
        ],
        [
         "('Robinhood', 1, 'l6yvwv', 'https://www.reddit.com/r/wallstreetbets/comments/l6yvwv/robinhood/', 2, 1611874874.0, 'Anybody get why Robinhood cancelled my orders that i put in last night ? I’m just a boy explain like I’m retarded', '2021-01-29 01:01:14')",
         "1"
        ],
        [
         "('Robinhood', 1, 'l6x1t7', 'https://www.reddit.com/r/wallstreetbets/comments/l6x1t7/robinhood/', 0, 1611870603.0, 'Why when I click on NOK, it says at the bottom “This stock is not supported on robinhood.” ?', '2021-01-28 23:50:03')",
         "1"
        ],
        [
         "('Robinhood', 1, 'l6x1n5', 'https://www.reddit.com/r/wallstreetbets/comments/l6x1n5/robinhood/', 0, 1611870590.0, 'Just heard on CNBC that Robinhood might stop investors from buying GME and AMC ?? Since when do companies say what stocks we can and cannot buy??? This is BS! The Billionaires can short anything they want!!! ??', '2021-01-28 23:49:50')",
         "1"
        ],
        [
         "('Robinhood', 1, 'l6x10z', 'https://www.reddit.com/r/wallstreetbets/comments/l6x10z/robinhood/', 0, 1611870548.0, 'Just blocked purchase sales of BB AMC GME NOK NAKD.\\n\\nOh man...', '2021-01-28 23:49:08')",
         "1"
        ],
        [
         "('Robinhood', 0, 'l6zin3', 'https://www.reddit.com/r/wallstreetbets/comments/l6zin3/robinhood/', 0, 1611876148.0, 'Robinhood took from the rich and gave to the poor. Fuck these big wigs and old boomers.\\nGME to Pluto 🚀🚀🚀🚀🚀🚀🚀🚀🚀💎👐', '2021-01-29 01:22:28')",
         "1"
        ],
        [
         "('Robin Hood app.', 1, 'l71853', 'https://www.reddit.com/r/wallstreetbets/comments/l71853/robin_hood_app/', 0, 1611879813.0, 'Looks like the APP rating is getting trashed. Good.', '2021-01-29 02:23:33')",
         "1"
        ],
        [
         "('Robin Hood and other services that are shutting down the ability to purchase shares be warned!', 4, 'l6yzmq', 'https://www.reddit.com/r/wallstreetbets/comments/l6yzmq/robin_hood_and_other_services_that_are_shutting/', 0, 1611875075.0, 'What is going on is market manipulation! They will all have to pay big time for this, if they don’t let the market trade freely! \\n\\nBuy buy buy and hold! Hold GME, and buy up AMC!!!!!', '2021-01-29 01:04:35')",
         "1"
        ],
        [
         "('Robin Hood Restricting the Exercising of Options', 316, 'la5qpj', 'https://www.reddit.com/r/wallstreetbets/comments/la5qpj/robin_hood_restricting_the_exercising_of_options/', 55, 1612222327.0, '- Mods, please pin this.\\n\\nMore Blatant Market manipulation from the biggest sell-outs of our generation.\\n\\nRobinhood is not letting GME options holders exercise their options until holding your position for 24 hours. \\n\\nThat combined with dragging their feet transferring brokerage accounts MEANS 90% OF AMERICANS STILL CANT BUY GME WHATSOEVER.\\n\\nTomorrow will be a Green Day when your comrades can exercise their options and join you in the trenches.\\n\\n💎🙌🏻💎🙌🏻💎🙌🏻', '2021-02-02 01:32:07')",
         "1"
        ]
       ],
       "shape": {
        "columns": 1,
        "rows": 24738
       }
      },
      "text/plain": [
       "title                                                                                                                                                                                            score  id      url                                                                                                         comms_num  created       body                                                                                                                                                                                                                                                                                                                                                                                                                                                                                                                                                                                                                                                                                                                                                                                                                                                                                                                                                                             timestamp          \n",
       "!!! CHAMATH, Please open your own trading platform & I guarantee all of us that just got screwed over by RH & other trading platforms that are manipulating the market today will come aboard!🙏  4      l6ziga  https://www.reddit.com/r/wallstreetbets/comments/l6ziga/chamath_please_open_your_own_trading_platform_i/    1          1.611876e+09   Wall street bets is getting shutdown.\\n\\nLess gooooooooo\\n\\nPREMIUM STREET BETS-\\n\\n[https://discord.gg/DBTmUJTY](https://discord.gg/DBTmUJTY)\\n\\nThis is some bullshit what Robinhood is doing today locking us out from buying stocks! I for one will be taking my money out & finding a different platform to trade in that believes in free & open capitalism. Shame on you Robinhood for bowing down to the hedge funds & screwing over all the retail investors that supported your platform since you came into existence! 🖕🤬🖕\\n\\nChamath, I hope you're out there reading this! Your interview yesterday on CNBC really struck a chord with all of us here. Thanks for sticking up for the little guy! You're the fuckin' man!!! 🙌                                                                                                                                                                                                                                      2021-01-29 01:22:18    1\n",
       "Robinhood                                                                                                                                                                                        8      l6zoby  https://www.reddit.com/r/wallstreetbets/comments/l6zoby/robinhood/                                          5          1.611876e+09  **Robinhood** taking from the poor and giving to the rich! I hope they get thrown in jail!                                                                                                                                                                                                                                                                                                                                                                                                                                                                                                                                                                                                                                                                                                                                                                                                                                                                                       2021-01-29 01:27:56    1\n",
       "RobinHood's liquidity is currently tied up                                                                                                                                                       1      l71u49  https://www.reddit.com/r/wallstreetbets/comments/l71u49/robinhoods_liquidity_is_currently_tied_up/          1          1.611881e+09  If it is true that over half of the app's users held some GME - then that is a ton of tied-up liquidity, making it prime for more pumps of other tickers. One domino falls....                                                                                                                                                                                                                                                                                                                                                                                                                                                                                                                                                                                                                                                                                                                                                                                                   2021-01-29 02:43:56    1\n",
       "RobinHood's \"Explanation\" (Ken Griffon shuts it down)                                                                                                                                            1      l70u3j  https://www.reddit.com/r/wallstreetbets/comments/l70u3j/robinhoods_explanation_ken_griffon_shuts_it_down/   0          1.611879e+09  Looks like Robinhood received their official word from their daddy Griffon, they posted up this \"explanation\" for why they are manipulating the market  \\n\\n\\n([https://blog.robinhood.com/news/2021/1/28/keeping-customers-informed-through-market-volatility](https://blog.robinhood.com/news/2021/1/28/keeping-customers-informed-through-market-volatility))                                                                                                                                                                                                                                                                                                                                                                                                                                                                                                                                                                                                                 2021-01-29 02:09:51    1\n",
       "RobinHood thinks I’m gonna sell GME just because they removed the buy button?                                                                                                                    1      l71oju  https://www.reddit.com/r/wallstreetbets/comments/l71oju/robinhood_thinks_im_gonna_sell_gme_just_because/    0          1.611881e+09  I’M NOT SELLING SHIT. FUCK ROBINHOOD. \\n\\nI trust all our brothers and sisters on other brokers and in other countries to BUY and HOLD. I trust everyone on robinhood to HOLD. \\n\\nThis isn’t over. Robinhood just declared war against the people who made Melvin capital lose billions. \\n\\nHOLD🚀🚀🚀🚀🚀🚀🚀🚀🚀🚀💎🤲🏼\\n\\nTL;DR: fuck robinhood, fuck citadel, fuck Melvin. HOLD GME 🚀🚀🚀🚀                                                                                                                                                                                                                                                                                                                                                                                                                                                                                                                                                                                               2021-01-29 02:38:42    1\n",
       "                                                                                                                                                                                                                                                                                                                                                                                                                                                                                                                                                                                                                                                                                                                                                                                                                                                                                                                                                                                                                                                                                                                                                                                                                                                                                                                                                            ..\n",
       "GME could be at 5$ and people would still think its just the did here                                                                                                                            0      lcjyqe  https://www.reddit.com/r/wallstreetbets/comments/lcjyqe/gme_could_be_at_5_and_people_would_still_think/     7          1.612486e+09  Just saying\\n\\n\\*dip\\*                                                                                                                                                                                                                                                                                                                                                                                                                                                                                                                                                                                                                                                                                                                                                                                                                                                                                                                                                           2021-02-05 02:49:06    1\n",
       "GME confidence post                                                                                                                                                                              45     lclu42  https://www.reddit.com/r/wallstreetbets/comments/lclu42/gme_confidence_post/                                14         1.612491e+09  I'm not a financial advisor, I sort through crayon packages for the cherry flavour.\\n\\nLooking at the VW chart people keep floating around it's hard to tell the day to day scale but what people don't seem to notice is that VW is that after jumping up $398 the price tanked hard to $210 right before the squeeze. BUT! That was 8 straight days of losses before the squeeze happened (Oct 16th - 24th).\\n\\nWhen the price started to rise it didn't hit its peak until another few days and it stayed there for a few days (Oct 27 - 31).\\n\\nI know this isn't exactly like the VW squeeze and there are different variables at play but the timeframes still lend to my point... This shit takes time! Everyone expecting this all to happen without any ups and downs need to chill the fuck out. This is just as stressful to everyone but you beautiful bastards are holding the line!\\n\\nPos:\\n51 GME averaged @ $176 \\n\\n59 AMC averaged @$13.42\\n\\n\\ntl;dr: 🙌💎🦍🚀🌠  2021-02-05 04:07:12    1\n",
       "GME closed at 147 on TUESDAY!!! It's up 70% since then even with the downward move today!                                                                                                        1      l71w89  https://www.reddit.com/r/wallstreetbets/comments/l71w89/gme_closed_at_147_on_tuesday_its_up_70_since_then/  0          1.611881e+09  If I told you on Monday that GME was going to be at 200+, and people were SCARED of it dropping, you'd be ecstatic about it. This is still an AMAZING week and this is NOT THE END. HOLD THE LINE                                                                                                                                                                                                                                                                                                                                                                                                                                                                                                                                                                                                                                                                                                                                                                                2021-01-29 02:45:55    1\n",
       "GME cheap prices                                                                                                                                                                                 1      l71t6m  https://www.reddit.com/r/wallstreetbets/comments/l71t6m/gme_cheap_prices/                                   0          1.611881e+09  While y’all see red, do you know what I see?Cheap prices! I am buying once the broker opens.                                                                                                                                                                                                                                                                                                                                                                                                                                                                                                                                                                                                                                                                                                                                                                                                                                                                                     2021-01-29 02:43:01    1\n",
       "🩸🩸🩸THIS IS WHEN WE MUST HOLD AND STAND TALL... WE HAVE THE NUMBERS AND WE NOW HAVE THE ANGER 🩸🩸🩸#neverforget2008                                                                                 1      l708dz  https://www.reddit.com/r/wallstreetbets/comments/l708dz/this_is_when_we_must_hold_and_stand_tall_we_have/   0          1.611878e+09  If everyone likes a football team they go BUY tickets to the football game, if everyone likes Starbucks coffee they all go BUY Starbucks coffee, if everyone like the new Nike Airs they go BUY the new Nike Airs ... BUT GOD FUCKIN HELPS US ALL IF EVERYONE LIKES GME STOCK AND THEY GO BUY GME STOCK, SUDDENLY THE WORLD IS COLLAPSING AND WE MUST BE STOPPED ... FUCKIN HELP US ALL IF THERE IS EVER A TRANSFER OF WEALTH CAUSE IT CAN ONLY GO ONE WAY ... ONLY TO THE ELITES POCKETS ..... TIME TO BRING THEM TO THIER KNEES  ... \\n\\n🚀🚀🩸🩸HOLD HOLD HOLD 🩸🩸🚀🚀                                                                                                                                                                                                                                                                                                                                                                                                               2021-01-29 01:47:19    1\n",
       "Name: count, Length: 24738, dtype: int64"
      ]
     },
     "execution_count": 6,
     "metadata": {},
     "output_type": "execute_result"
    }
   ],
   "source": [
    "df.value_counts()"
   ]
  },
  {
   "cell_type": "code",
   "execution_count": 7,
   "id": "d78da703",
   "metadata": {},
   "outputs": [],
   "source": [
    "\"\"\"\n",
    "Initialize with known manipulation periods for labeling\n",
    "\n",
    "manipulation_periods: list of tuples [(start_date, end_date), ...]\n",
    "Example: [('2021-01-13', '2021-01-15'), ('2021-01-25', '2021-01-28')]\n",
    "\"\"\"\n",
    "manipulation_periods = [\n",
    "    ('2021-01-13', '2021-01-15'),  # Initial coordination buildup\n",
    "    ('2021-01-25', '2021-01-28'),  # Peak manipulation period\n",
    "    ('2021-02-01', '2021-02-05')   # Sustained artificial activity\n",
    "]\n",
    "\n",
    "# Convert to datetime objects\n",
    "manipulation_periods = [\n",
    "    (pd.to_datetime(start), pd.to_datetime(end)) \n",
    "    for start, end in manipulation_periods\n",
    "]"
   ]
  },
  {
   "cell_type": "code",
   "execution_count": 8,
   "id": "33aebd8a",
   "metadata": {},
   "outputs": [],
   "source": [
    "def _clean_text(text):\n",
    "    \"\"\"Clean and normalize text data\"\"\"\n",
    "    if pd.isna(text):\n",
    "        return \"\"\n",
    "    \n",
    "    # Remove URLs\n",
    "    text = re.sub(r'http\\S+|www\\S+', '', text)\n",
    "    \n",
    "    # Remove special characters but keep spaces\n",
    "    text = re.sub(r'[^a-zA-Z0-9\\s]', ' ', text)\n",
    "    \n",
    "    # Remove extra whitespace\n",
    "    text = ' '.join(text.split())\n",
    "    \n",
    "    return text.lower()"
   ]
  },
  {
   "cell_type": "code",
   "execution_count": 9,
   "id": "ede24779",
   "metadata": {},
   "outputs": [
    {
     "data": {
      "application/vnd.microsoft.datawrangler.viewer.v0+json": {
       "columns": [
        {
         "name": "index",
         "rawType": "int64",
         "type": "integer"
        },
        {
         "name": "title",
         "rawType": "object",
         "type": "string"
        },
        {
         "name": "score",
         "rawType": "int64",
         "type": "integer"
        },
        {
         "name": "id",
         "rawType": "object",
         "type": "string"
        },
        {
         "name": "url",
         "rawType": "object",
         "type": "string"
        },
        {
         "name": "comms_num",
         "rawType": "int64",
         "type": "integer"
        },
        {
         "name": "created",
         "rawType": "float64",
         "type": "float"
        },
        {
         "name": "body",
         "rawType": "object",
         "type": "unknown"
        },
        {
         "name": "timestamp",
         "rawType": "datetime64[ns]",
         "type": "datetime"
        },
        {
         "name": "is_gme",
         "rawType": "bool",
         "type": "boolean"
        },
        {
         "name": "title_clean",
         "rawType": "object",
         "type": "string"
        },
        {
         "name": "body_clean",
         "rawType": "object",
         "type": "string"
        },
        {
         "name": "combined_text",
         "rawType": "object",
         "type": "string"
        }
       ],
       "ref": "62591d10-c13a-4bc8-ba01-cf589929d6a8",
       "rows": [
        [
         "1",
         "Math Professor Scott Steiner says the numbers spell DISASTER for Gamestop shorts",
         "110",
         "l6uibd",
         "https://v.redd.it/ah50lyny62e61",
         "23",
         "1611862330.0",
         null,
         "2021-01-28 21:32:10",
         "True",
         "math professor scott steiner says the numbers spell disaster for gamestop shorts",
         "",
         "math professor scott steiner says the numbers spell disaster for gamestop shorts "
        ],
        [
         "2",
         "Exit the system",
         "0",
         "l6uhhn",
         "https://www.reddit.com/r/wallstreetbets/comments/l6uhhn/exit_the_system/",
         "47",
         "1611862235.0",
         "The CEO of NASDAQ pushed to halt trading “to give investors a chance to recalibrate their positions”.\n\n[https://mobile.twitter.com/Mediaite/status/1354504710695362563](https://mobile.twitter.com/Mediaite/status/1354504710695362563)\n\nNow SEC is investigating, brokers are disallowing buying more calls. This is the institutions flat out admitting they will change the rules to bail out the rich but if it happens to us, we get a “well shucks you should have known investing is risky! have you tried cutting out avocados and coffee, maybe doing Uber on the side?”\n\nWe may have collectively driven up enough sentiment in wall street to make other big players go long on GME with us (we do not have the money to move the stock as much as it did alone). we didn’t hurt wall street as a whole, just a few funds went down while others went up and profited off the shorts the same as us. The media wants to pin the blame on us.\n\nIt should be crystal clear that this is a rigged game by now. Its time to build new exchanges that can’t arbitrarily change the rules on us. Cr\\*\\*o has some version of these, maybe they can be repurposed to be trade stock without government intervention. I don’t know exactly what it will look like yet, but the broad next steps i see are - 1. exit the current financial system 2. build a new one.",
         "2021-01-28 21:30:35",
         "True",
         "exit the system",
         "the ceo of nasdaq pushed to halt trading to give investors a chance to recalibrate their positions now sec is investigating brokers are disallowing buying more calls this is the institutions flat out admitting they will change the rules to bail out the rich but if it happens to us we get a well shucks you should have known investing is risky have you tried cutting out avocados and coffee maybe doing uber on the side we may have collectively driven up enough sentiment in wall street to make other big players go long on gme with us we do not have the money to move the stock as much as it did alone we didn t hurt wall street as a whole just a few funds went down while others went up and profited off the shorts the same as us the media wants to pin the blame on us it should be crystal clear that this is a rigged game by now its time to build new exchanges that can t arbitrarily change the rules on us cr o has some version of these maybe they can be repurposed to be trade stock without government intervention i don t know exactly what it will look like yet but the broad next steps i see are 1 exit the current financial system 2 build a new one",
         "exit the system the ceo of nasdaq pushed to halt trading to give investors a chance to recalibrate their positions now sec is investigating brokers are disallowing buying more calls this is the institutions flat out admitting they will change the rules to bail out the rich but if it happens to us we get a well shucks you should have known investing is risky have you tried cutting out avocados and coffee maybe doing uber on the side we may have collectively driven up enough sentiment in wall street to make other big players go long on gme with us we do not have the money to move the stock as much as it did alone we didn t hurt wall street as a whole just a few funds went down while others went up and profited off the shorts the same as us the media wants to pin the blame on us it should be crystal clear that this is a rigged game by now its time to build new exchanges that can t arbitrarily change the rules on us cr o has some version of these maybe they can be repurposed to be trade stock without government intervention i don t know exactly what it will look like yet but the broad next steps i see are 1 exit the current financial system 2 build a new one"
        ],
        [
         "3",
         "NEW SEC FILING FOR GME! CAN SOMEONE LESS RETARDED THAN ME PLEASE INTERPRET?",
         "29",
         "l6ugk6",
         "https://sec.report/Document/0001193125-21-019848/",
         "74",
         "1611862137.0",
         null,
         "2021-01-28 21:28:57",
         "True",
         "new sec filing for gme can someone less retarded than me please interpret",
         "",
         "new sec filing for gme can someone less retarded than me please interpret "
        ],
        [
         "4",
         "Not to distract from GME, just thought our AMC brothers should be aware of this",
         "71",
         "l6ufgy",
         "https://i.redd.it/4h2sukb662e61.jpg",
         "156",
         "1611862016.0",
         null,
         "2021-01-28 21:26:56",
         "True",
         "not to distract from gme just thought our amc brothers should be aware of this",
         "",
         "not to distract from gme just thought our amc brothers should be aware of this "
        ],
        [
         "6",
         "SHORT STOCK DOESN'T HAVE AN EXPIRATION DATE",
         "317",
         "l6uf6d",
         "https://www.reddit.com/r/wallstreetbets/comments/l6uf6d/short_stock_doesnt_have_an_expiration_date/",
         "53",
         "1611861987.0",
         "Hedgefund whales are spreading disinfo saying Friday is make-or-break for $GME. Call options expiring ITM on Friday will drive the price up if levels are maintained, but may not trigger the short squeeze.\n\nIt may be Friday, but it could be next week the we see the real squeeze.\n\nDON'T PANIC IF THE SQUEEZE DOESN'T HAPPEN FRIDAY.\n\nIt's not guaranteed to. The only thing that is guaranteed mathematically is that the shorts will have to cover at some point in the future. They are trying to get enough people hooked on the false expectation of Friday so that if/when it doesn't happen, enough will sell out of panic/despair. DON'T BE THAT PERSON.\n\nWE LIKE THE STOCK",
         "2021-01-28 21:26:27",
         "True",
         "short stock doesn t have an expiration date",
         "hedgefund whales are spreading disinfo saying friday is make or break for gme call options expiring itm on friday will drive the price up if levels are maintained but may not trigger the short squeeze it may be friday but it could be next week the we see the real squeeze don t panic if the squeeze doesn t happen friday it s not guaranteed to the only thing that is guaranteed mathematically is that the shorts will have to cover at some point in the future they are trying to get enough people hooked on the false expectation of friday so that if when it doesn t happen enough will sell out of panic despair don t be that person we like the stock",
         "short stock doesn t have an expiration date hedgefund whales are spreading disinfo saying friday is make or break for gme call options expiring itm on friday will drive the price up if levels are maintained but may not trigger the short squeeze it may be friday but it could be next week the we see the real squeeze don t panic if the squeeze doesn t happen friday it s not guaranteed to the only thing that is guaranteed mathematically is that the shorts will have to cover at some point in the future they are trying to get enough people hooked on the false expectation of friday so that if when it doesn t happen enough will sell out of panic despair don t be that person we like the stock"
        ]
       ],
       "shape": {
        "columns": 12,
        "rows": 5
       }
      },
      "text/html": [
       "<div>\n",
       "<style scoped>\n",
       "    .dataframe tbody tr th:only-of-type {\n",
       "        vertical-align: middle;\n",
       "    }\n",
       "\n",
       "    .dataframe tbody tr th {\n",
       "        vertical-align: top;\n",
       "    }\n",
       "\n",
       "    .dataframe thead th {\n",
       "        text-align: right;\n",
       "    }\n",
       "</style>\n",
       "<table border=\"1\" class=\"dataframe\">\n",
       "  <thead>\n",
       "    <tr style=\"text-align: right;\">\n",
       "      <th></th>\n",
       "      <th>title</th>\n",
       "      <th>score</th>\n",
       "      <th>id</th>\n",
       "      <th>url</th>\n",
       "      <th>comms_num</th>\n",
       "      <th>created</th>\n",
       "      <th>body</th>\n",
       "      <th>timestamp</th>\n",
       "      <th>is_gme</th>\n",
       "      <th>title_clean</th>\n",
       "      <th>body_clean</th>\n",
       "      <th>combined_text</th>\n",
       "    </tr>\n",
       "  </thead>\n",
       "  <tbody>\n",
       "    <tr>\n",
       "      <th>1</th>\n",
       "      <td>Math Professor Scott Steiner says the numbers ...</td>\n",
       "      <td>110</td>\n",
       "      <td>l6uibd</td>\n",
       "      <td>https://v.redd.it/ah50lyny62e61</td>\n",
       "      <td>23</td>\n",
       "      <td>1.611862e+09</td>\n",
       "      <td>NaN</td>\n",
       "      <td>2021-01-28 21:32:10</td>\n",
       "      <td>True</td>\n",
       "      <td>math professor scott steiner says the numbers ...</td>\n",
       "      <td></td>\n",
       "      <td>math professor scott steiner says the numbers ...</td>\n",
       "    </tr>\n",
       "    <tr>\n",
       "      <th>2</th>\n",
       "      <td>Exit the system</td>\n",
       "      <td>0</td>\n",
       "      <td>l6uhhn</td>\n",
       "      <td>https://www.reddit.com/r/wallstreetbets/commen...</td>\n",
       "      <td>47</td>\n",
       "      <td>1.611862e+09</td>\n",
       "      <td>The CEO of NASDAQ pushed to halt trading “to g...</td>\n",
       "      <td>2021-01-28 21:30:35</td>\n",
       "      <td>True</td>\n",
       "      <td>exit the system</td>\n",
       "      <td>the ceo of nasdaq pushed to halt trading to gi...</td>\n",
       "      <td>exit the system the ceo of nasdaq pushed to ha...</td>\n",
       "    </tr>\n",
       "    <tr>\n",
       "      <th>3</th>\n",
       "      <td>NEW SEC FILING FOR GME! CAN SOMEONE LESS RETAR...</td>\n",
       "      <td>29</td>\n",
       "      <td>l6ugk6</td>\n",
       "      <td>https://sec.report/Document/0001193125-21-019848/</td>\n",
       "      <td>74</td>\n",
       "      <td>1.611862e+09</td>\n",
       "      <td>NaN</td>\n",
       "      <td>2021-01-28 21:28:57</td>\n",
       "      <td>True</td>\n",
       "      <td>new sec filing for gme can someone less retard...</td>\n",
       "      <td></td>\n",
       "      <td>new sec filing for gme can someone less retard...</td>\n",
       "    </tr>\n",
       "    <tr>\n",
       "      <th>4</th>\n",
       "      <td>Not to distract from GME, just thought our AMC...</td>\n",
       "      <td>71</td>\n",
       "      <td>l6ufgy</td>\n",
       "      <td>https://i.redd.it/4h2sukb662e61.jpg</td>\n",
       "      <td>156</td>\n",
       "      <td>1.611862e+09</td>\n",
       "      <td>NaN</td>\n",
       "      <td>2021-01-28 21:26:56</td>\n",
       "      <td>True</td>\n",
       "      <td>not to distract from gme just thought our amc ...</td>\n",
       "      <td></td>\n",
       "      <td>not to distract from gme just thought our amc ...</td>\n",
       "    </tr>\n",
       "    <tr>\n",
       "      <th>6</th>\n",
       "      <td>SHORT STOCK DOESN'T HAVE AN EXPIRATION DATE</td>\n",
       "      <td>317</td>\n",
       "      <td>l6uf6d</td>\n",
       "      <td>https://www.reddit.com/r/wallstreetbets/commen...</td>\n",
       "      <td>53</td>\n",
       "      <td>1.611862e+09</td>\n",
       "      <td>Hedgefund whales are spreading disinfo saying ...</td>\n",
       "      <td>2021-01-28 21:26:27</td>\n",
       "      <td>True</td>\n",
       "      <td>short stock doesn t have an expiration date</td>\n",
       "      <td>hedgefund whales are spreading disinfo saying ...</td>\n",
       "      <td>short stock doesn t have an expiration date he...</td>\n",
       "    </tr>\n",
       "  </tbody>\n",
       "</table>\n",
       "</div>"
      ],
      "text/plain": [
       "                                               title  score      id  \\\n",
       "1  Math Professor Scott Steiner says the numbers ...    110  l6uibd   \n",
       "2                                    Exit the system      0  l6uhhn   \n",
       "3  NEW SEC FILING FOR GME! CAN SOMEONE LESS RETAR...     29  l6ugk6   \n",
       "4  Not to distract from GME, just thought our AMC...     71  l6ufgy   \n",
       "6        SHORT STOCK DOESN'T HAVE AN EXPIRATION DATE    317  l6uf6d   \n",
       "\n",
       "                                                 url  comms_num       created  \\\n",
       "1                    https://v.redd.it/ah50lyny62e61         23  1.611862e+09   \n",
       "2  https://www.reddit.com/r/wallstreetbets/commen...         47  1.611862e+09   \n",
       "3  https://sec.report/Document/0001193125-21-019848/         74  1.611862e+09   \n",
       "4                https://i.redd.it/4h2sukb662e61.jpg        156  1.611862e+09   \n",
       "6  https://www.reddit.com/r/wallstreetbets/commen...         53  1.611862e+09   \n",
       "\n",
       "                                                body           timestamp  \\\n",
       "1                                                NaN 2021-01-28 21:32:10   \n",
       "2  The CEO of NASDAQ pushed to halt trading “to g... 2021-01-28 21:30:35   \n",
       "3                                                NaN 2021-01-28 21:28:57   \n",
       "4                                                NaN 2021-01-28 21:26:56   \n",
       "6  Hedgefund whales are spreading disinfo saying ... 2021-01-28 21:26:27   \n",
       "\n",
       "   is_gme                                        title_clean  \\\n",
       "1    True  math professor scott steiner says the numbers ...   \n",
       "2    True                                    exit the system   \n",
       "3    True  new sec filing for gme can someone less retard...   \n",
       "4    True  not to distract from gme just thought our amc ...   \n",
       "6    True        short stock doesn t have an expiration date   \n",
       "\n",
       "                                          body_clean  \\\n",
       "1                                                      \n",
       "2  the ceo of nasdaq pushed to halt trading to gi...   \n",
       "3                                                      \n",
       "4                                                      \n",
       "6  hedgefund whales are spreading disinfo saying ...   \n",
       "\n",
       "                                       combined_text  \n",
       "1  math professor scott steiner says the numbers ...  \n",
       "2  exit the system the ceo of nasdaq pushed to ha...  \n",
       "3  new sec filing for gme can someone less retard...  \n",
       "4  not to distract from gme just thought our amc ...  \n",
       "6  short stock doesn t have an expiration date he...  "
      ]
     },
     "execution_count": 9,
     "metadata": {},
     "output_type": "execute_result"
    }
   ],
   "source": [
    "\"\"\"Load Reddit data and perform initial cleaning\"\"\"\n",
    "\n",
    "# Convert timestamp to datetime\n",
    "df['timestamp'] = pd.to_datetime(df['timestamp'])\n",
    "\n",
    "# Filter for GameStop-related posts\n",
    "gme_keywords = ['GME', 'GameStop', 'Gamestop', 'GAMESTOP']\n",
    "df['is_gme'] = df['title'].str.contains('|'.join(gme_keywords), case=False, na=False) | \\\n",
    "                df['body'].str.contains('|'.join(gme_keywords), case=False, na=False)\n",
    "\n",
    "# Keep only GME-related posts\n",
    "df = df[df['is_gme']].copy()\n",
    "\n",
    "# Clean text data\n",
    "df['title_clean'] = df['title'].apply(_clean_text)\n",
    "df['body_clean'] = df['body'].fillna('').apply(_clean_text)\n",
    "df['combined_text'] = df['title_clean'] + ' ' + df['body_clean']\n",
    "\n",
    "df.sort_values('timestamp').reset_index(drop=True)\n",
    "df.head()\n"
   ]
  },
  {
   "cell_type": "code",
   "execution_count": 10,
   "id": "c1bfd536",
   "metadata": {},
   "outputs": [
    {
     "name": "stdout",
     "output_type": "stream",
     "text": [
      "<class 'pandas.core.frame.DataFrame'>\n",
      "Index: 15018 entries, 1 to 53183\n",
      "Data columns (total 12 columns):\n",
      " #   Column         Non-Null Count  Dtype         \n",
      "---  ------         --------------  -----         \n",
      " 0   title          15018 non-null  object        \n",
      " 1   score          15018 non-null  int64         \n",
      " 2   id             15018 non-null  object        \n",
      " 3   url            15018 non-null  object        \n",
      " 4   comms_num      15018 non-null  int64         \n",
      " 5   created        15018 non-null  float64       \n",
      " 6   body           10116 non-null  object        \n",
      " 7   timestamp      15018 non-null  datetime64[ns]\n",
      " 8   is_gme         15018 non-null  bool          \n",
      " 9   title_clean    15018 non-null  object        \n",
      " 10  body_clean     15018 non-null  object        \n",
      " 11  combined_text  15018 non-null  object        \n",
      "dtypes: bool(1), datetime64[ns](1), float64(1), int64(2), object(7)\n",
      "memory usage: 1.4+ MB\n"
     ]
    }
   ],
   "source": [
    "df.info()"
   ]
  },
  {
   "cell_type": "code",
   "execution_count": 12,
   "id": "49b60b6c",
   "metadata": {},
   "outputs": [
    {
     "data": {
      "text/plain": [
       "0.4803030303030303"
      ]
     },
     "execution_count": 12,
     "metadata": {},
     "output_type": "execute_result"
    }
   ],
   "source": [
    "TextBlob(df.loc[3, 'combined_text']).sentiment.subjectivity"
   ]
  },
  {
   "cell_type": "code",
   "execution_count": 13,
   "id": "ae2748c6",
   "metadata": {},
   "outputs": [
    {
     "data": {
      "application/vnd.microsoft.datawrangler.viewer.v0+json": {
       "columns": [
        {
         "name": "index",
         "rawType": "int64",
         "type": "integer"
        },
        {
         "name": "title",
         "rawType": "object",
         "type": "string"
        },
        {
         "name": "score",
         "rawType": "int64",
         "type": "integer"
        },
        {
         "name": "id",
         "rawType": "object",
         "type": "string"
        },
        {
         "name": "url",
         "rawType": "object",
         "type": "string"
        },
        {
         "name": "comms_num",
         "rawType": "int64",
         "type": "integer"
        },
        {
         "name": "created",
         "rawType": "float64",
         "type": "float"
        },
        {
         "name": "body",
         "rawType": "object",
         "type": "unknown"
        },
        {
         "name": "timestamp",
         "rawType": "datetime64[ns]",
         "type": "datetime"
        },
        {
         "name": "is_gme",
         "rawType": "bool",
         "type": "boolean"
        },
        {
         "name": "title_clean",
         "rawType": "object",
         "type": "string"
        },
        {
         "name": "body_clean",
         "rawType": "object",
         "type": "string"
        },
        {
         "name": "combined_text",
         "rawType": "object",
         "type": "string"
        },
        {
         "name": "sentiment",
         "rawType": "float64",
         "type": "float"
        },
        {
         "name": "sentiment_magnitude",
         "rawType": "float64",
         "type": "float"
        },
        {
         "name": "subjectivity",
         "rawType": "float64",
         "type": "float"
        },
        {
         "name": "title_length",
         "rawType": "int64",
         "type": "integer"
        },
        {
         "name": "body_length",
         "rawType": "int64",
         "type": "integer"
        },
        {
         "name": "total_length",
         "rawType": "int64",
         "type": "integer"
        },
        {
         "name": "engagement_score",
         "rawType": "int64",
         "type": "integer"
        },
        {
         "name": "score_per_comment",
         "rawType": "float64",
         "type": "float"
        }
       ],
       "ref": "eb507df4-ebae-4879-a59f-f3f20158174f",
       "rows": [
        [
         "1",
         "Math Professor Scott Steiner says the numbers spell DISASTER for Gamestop shorts",
         "110",
         "l6uibd",
         "https://v.redd.it/ah50lyny62e61",
         "23",
         "1611862330.0",
         null,
         "2021-01-28 21:32:10",
         "True",
         "math professor scott steiner says the numbers spell disaster for gamestop shorts",
         "",
         "math professor scott steiner says the numbers spell disaster for gamestop shorts ",
         "0.0",
         "0.0",
         "0.0",
         "80",
         "0",
         "80",
         "133",
         "4.583333333333333"
        ],
        [
         "2",
         "Exit the system",
         "0",
         "l6uhhn",
         "https://www.reddit.com/r/wallstreetbets/comments/l6uhhn/exit_the_system/",
         "47",
         "1611862235.0",
         "The CEO of NASDAQ pushed to halt trading “to give investors a chance to recalibrate their positions”.\n\n[https://mobile.twitter.com/Mediaite/status/1354504710695362563](https://mobile.twitter.com/Mediaite/status/1354504710695362563)\n\nNow SEC is investigating, brokers are disallowing buying more calls. This is the institutions flat out admitting they will change the rules to bail out the rich but if it happens to us, we get a “well shucks you should have known investing is risky! have you tried cutting out avocados and coffee, maybe doing Uber on the side?”\n\nWe may have collectively driven up enough sentiment in wall street to make other big players go long on GME with us (we do not have the money to move the stock as much as it did alone). we didn’t hurt wall street as a whole, just a few funds went down while others went up and profited off the shorts the same as us. The media wants to pin the blame on us.\n\nIt should be crystal clear that this is a rigged game by now. Its time to build new exchanges that can’t arbitrarily change the rules on us. Cr\\*\\*o has some version of these, maybe they can be repurposed to be trade stock without government intervention. I don’t know exactly what it will look like yet, but the broad next steps i see are - 1. exit the current financial system 2. build a new one.",
         "2021-01-28 21:30:35",
         "True",
         "exit the system",
         "the ceo of nasdaq pushed to halt trading to give investors a chance to recalibrate their positions now sec is investigating brokers are disallowing buying more calls this is the institutions flat out admitting they will change the rules to bail out the rich but if it happens to us we get a well shucks you should have known investing is risky have you tried cutting out avocados and coffee maybe doing uber on the side we may have collectively driven up enough sentiment in wall street to make other big players go long on gme with us we do not have the money to move the stock as much as it did alone we didn t hurt wall street as a whole just a few funds went down while others went up and profited off the shorts the same as us the media wants to pin the blame on us it should be crystal clear that this is a rigged game by now its time to build new exchanges that can t arbitrarily change the rules on us cr o has some version of these maybe they can be repurposed to be trade stock without government intervention i don t know exactly what it will look like yet but the broad next steps i see are 1 exit the current financial system 2 build a new one",
         "exit the system the ceo of nasdaq pushed to halt trading to give investors a chance to recalibrate their positions now sec is investigating brokers are disallowing buying more calls this is the institutions flat out admitting they will change the rules to bail out the rich but if it happens to us we get a well shucks you should have known investing is risky have you tried cutting out avocados and coffee maybe doing uber on the side we may have collectively driven up enough sentiment in wall street to make other big players go long on gme with us we do not have the money to move the stock as much as it did alone we didn t hurt wall street as a whole just a few funds went down while others went up and profited off the shorts the same as us the media wants to pin the blame on us it should be crystal clear that this is a rigged game by now its time to build new exchanges that can t arbitrarily change the rules on us cr o has some version of these maybe they can be repurposed to be trade stock without government intervention i don t know exactly what it will look like yet but the broad next steps i see are 1 exit the current financial system 2 build a new one",
         "0.016186868686868684",
         "0.016186868686868684",
         "0.3487525252525252",
         "15",
         "1156",
         "1171",
         "47",
         "0.0"
        ],
        [
         "3",
         "NEW SEC FILING FOR GME! CAN SOMEONE LESS RETARDED THAN ME PLEASE INTERPRET?",
         "29",
         "l6ugk6",
         "https://sec.report/Document/0001193125-21-019848/",
         "74",
         "1611862137.0",
         null,
         "2021-01-28 21:28:57",
         "True",
         "new sec filing for gme can someone less retarded than me please interpret",
         "",
         "new sec filing for gme can someone less retarded than me please interpret ",
         "-0.2325757575757576",
         "0.2325757575757576",
         "0.4803030303030303",
         "73",
         "0",
         "73",
         "103",
         "0.38666666666666666"
        ],
        [
         "4",
         "Not to distract from GME, just thought our AMC brothers should be aware of this",
         "71",
         "l6ufgy",
         "https://i.redd.it/4h2sukb662e61.jpg",
         "156",
         "1611862016.0",
         null,
         "2021-01-28 21:26:56",
         "True",
         "not to distract from gme just thought our amc brothers should be aware of this",
         "",
         "not to distract from gme just thought our amc brothers should be aware of this ",
         "0.25",
         "0.25",
         "0.25",
         "78",
         "0",
         "78",
         "227",
         "0.45222929936305734"
        ],
        [
         "6",
         "SHORT STOCK DOESN'T HAVE AN EXPIRATION DATE",
         "317",
         "l6uf6d",
         "https://www.reddit.com/r/wallstreetbets/comments/l6uf6d/short_stock_doesnt_have_an_expiration_date/",
         "53",
         "1611861987.0",
         "Hedgefund whales are spreading disinfo saying Friday is make-or-break for $GME. Call options expiring ITM on Friday will drive the price up if levels are maintained, but may not trigger the short squeeze.\n\nIt may be Friday, but it could be next week the we see the real squeeze.\n\nDON'T PANIC IF THE SQUEEZE DOESN'T HAPPEN FRIDAY.\n\nIt's not guaranteed to. The only thing that is guaranteed mathematically is that the shorts will have to cover at some point in the future. They are trying to get enough people hooked on the false expectation of Friday so that if/when it doesn't happen, enough will sell out of panic/despair. DON'T BE THAT PERSON.\n\nWE LIKE THE STOCK",
         "2021-01-28 21:26:27",
         "True",
         "short stock doesn t have an expiration date",
         "hedgefund whales are spreading disinfo saying friday is make or break for gme call options expiring itm on friday will drive the price up if levels are maintained but may not trigger the short squeeze it may be friday but it could be next week the we see the real squeeze don t panic if the squeeze doesn t happen friday it s not guaranteed to the only thing that is guaranteed mathematically is that the shorts will have to cover at some point in the future they are trying to get enough people hooked on the false expectation of friday so that if when it doesn t happen enough will sell out of panic despair don t be that person we like the stock",
         "short stock doesn t have an expiration date hedgefund whales are spreading disinfo saying friday is make or break for gme call options expiring itm on friday will drive the price up if levels are maintained but may not trigger the short squeeze it may be friday but it could be next week the we see the real squeeze don t panic if the squeeze doesn t happen friday it s not guaranteed to the only thing that is guaranteed mathematically is that the shorts will have to cover at some point in the future they are trying to get enough people hooked on the false expectation of friday so that if when it doesn t happen enough will sell out of panic despair don t be that person we like the stock",
         "-0.020000000000000007",
         "0.020000000000000007",
         "0.3625",
         "43",
         "648",
         "691",
         "370",
         "5.87037037037037"
        ]
       ],
       "shape": {
        "columns": 20,
        "rows": 5
       }
      },
      "text/html": [
       "<div>\n",
       "<style scoped>\n",
       "    .dataframe tbody tr th:only-of-type {\n",
       "        vertical-align: middle;\n",
       "    }\n",
       "\n",
       "    .dataframe tbody tr th {\n",
       "        vertical-align: top;\n",
       "    }\n",
       "\n",
       "    .dataframe thead th {\n",
       "        text-align: right;\n",
       "    }\n",
       "</style>\n",
       "<table border=\"1\" class=\"dataframe\">\n",
       "  <thead>\n",
       "    <tr style=\"text-align: right;\">\n",
       "      <th></th>\n",
       "      <th>title</th>\n",
       "      <th>score</th>\n",
       "      <th>id</th>\n",
       "      <th>url</th>\n",
       "      <th>comms_num</th>\n",
       "      <th>created</th>\n",
       "      <th>body</th>\n",
       "      <th>timestamp</th>\n",
       "      <th>is_gme</th>\n",
       "      <th>title_clean</th>\n",
       "      <th>body_clean</th>\n",
       "      <th>combined_text</th>\n",
       "      <th>sentiment</th>\n",
       "      <th>sentiment_magnitude</th>\n",
       "      <th>subjectivity</th>\n",
       "      <th>title_length</th>\n",
       "      <th>body_length</th>\n",
       "      <th>total_length</th>\n",
       "      <th>engagement_score</th>\n",
       "      <th>score_per_comment</th>\n",
       "    </tr>\n",
       "  </thead>\n",
       "  <tbody>\n",
       "    <tr>\n",
       "      <th>1</th>\n",
       "      <td>Math Professor Scott Steiner says the numbers ...</td>\n",
       "      <td>110</td>\n",
       "      <td>l6uibd</td>\n",
       "      <td>https://v.redd.it/ah50lyny62e61</td>\n",
       "      <td>23</td>\n",
       "      <td>1.611862e+09</td>\n",
       "      <td>NaN</td>\n",
       "      <td>2021-01-28 21:32:10</td>\n",
       "      <td>True</td>\n",
       "      <td>math professor scott steiner says the numbers ...</td>\n",
       "      <td></td>\n",
       "      <td>math professor scott steiner says the numbers ...</td>\n",
       "      <td>0.000000</td>\n",
       "      <td>0.000000</td>\n",
       "      <td>0.000000</td>\n",
       "      <td>80</td>\n",
       "      <td>0</td>\n",
       "      <td>80</td>\n",
       "      <td>133</td>\n",
       "      <td>4.583333</td>\n",
       "    </tr>\n",
       "    <tr>\n",
       "      <th>2</th>\n",
       "      <td>Exit the system</td>\n",
       "      <td>0</td>\n",
       "      <td>l6uhhn</td>\n",
       "      <td>https://www.reddit.com/r/wallstreetbets/commen...</td>\n",
       "      <td>47</td>\n",
       "      <td>1.611862e+09</td>\n",
       "      <td>The CEO of NASDAQ pushed to halt trading “to g...</td>\n",
       "      <td>2021-01-28 21:30:35</td>\n",
       "      <td>True</td>\n",
       "      <td>exit the system</td>\n",
       "      <td>the ceo of nasdaq pushed to halt trading to gi...</td>\n",
       "      <td>exit the system the ceo of nasdaq pushed to ha...</td>\n",
       "      <td>0.016187</td>\n",
       "      <td>0.016187</td>\n",
       "      <td>0.348753</td>\n",
       "      <td>15</td>\n",
       "      <td>1156</td>\n",
       "      <td>1171</td>\n",
       "      <td>47</td>\n",
       "      <td>0.000000</td>\n",
       "    </tr>\n",
       "    <tr>\n",
       "      <th>3</th>\n",
       "      <td>NEW SEC FILING FOR GME! CAN SOMEONE LESS RETAR...</td>\n",
       "      <td>29</td>\n",
       "      <td>l6ugk6</td>\n",
       "      <td>https://sec.report/Document/0001193125-21-019848/</td>\n",
       "      <td>74</td>\n",
       "      <td>1.611862e+09</td>\n",
       "      <td>NaN</td>\n",
       "      <td>2021-01-28 21:28:57</td>\n",
       "      <td>True</td>\n",
       "      <td>new sec filing for gme can someone less retard...</td>\n",
       "      <td></td>\n",
       "      <td>new sec filing for gme can someone less retard...</td>\n",
       "      <td>-0.232576</td>\n",
       "      <td>0.232576</td>\n",
       "      <td>0.480303</td>\n",
       "      <td>73</td>\n",
       "      <td>0</td>\n",
       "      <td>73</td>\n",
       "      <td>103</td>\n",
       "      <td>0.386667</td>\n",
       "    </tr>\n",
       "    <tr>\n",
       "      <th>4</th>\n",
       "      <td>Not to distract from GME, just thought our AMC...</td>\n",
       "      <td>71</td>\n",
       "      <td>l6ufgy</td>\n",
       "      <td>https://i.redd.it/4h2sukb662e61.jpg</td>\n",
       "      <td>156</td>\n",
       "      <td>1.611862e+09</td>\n",
       "      <td>NaN</td>\n",
       "      <td>2021-01-28 21:26:56</td>\n",
       "      <td>True</td>\n",
       "      <td>not to distract from gme just thought our amc ...</td>\n",
       "      <td></td>\n",
       "      <td>not to distract from gme just thought our amc ...</td>\n",
       "      <td>0.250000</td>\n",
       "      <td>0.250000</td>\n",
       "      <td>0.250000</td>\n",
       "      <td>78</td>\n",
       "      <td>0</td>\n",
       "      <td>78</td>\n",
       "      <td>227</td>\n",
       "      <td>0.452229</td>\n",
       "    </tr>\n",
       "    <tr>\n",
       "      <th>6</th>\n",
       "      <td>SHORT STOCK DOESN'T HAVE AN EXPIRATION DATE</td>\n",
       "      <td>317</td>\n",
       "      <td>l6uf6d</td>\n",
       "      <td>https://www.reddit.com/r/wallstreetbets/commen...</td>\n",
       "      <td>53</td>\n",
       "      <td>1.611862e+09</td>\n",
       "      <td>Hedgefund whales are spreading disinfo saying ...</td>\n",
       "      <td>2021-01-28 21:26:27</td>\n",
       "      <td>True</td>\n",
       "      <td>short stock doesn t have an expiration date</td>\n",
       "      <td>hedgefund whales are spreading disinfo saying ...</td>\n",
       "      <td>short stock doesn t have an expiration date he...</td>\n",
       "      <td>-0.020000</td>\n",
       "      <td>0.020000</td>\n",
       "      <td>0.362500</td>\n",
       "      <td>43</td>\n",
       "      <td>648</td>\n",
       "      <td>691</td>\n",
       "      <td>370</td>\n",
       "      <td>5.870370</td>\n",
       "    </tr>\n",
       "  </tbody>\n",
       "</table>\n",
       "</div>"
      ],
      "text/plain": [
       "                                               title  score      id  \\\n",
       "1  Math Professor Scott Steiner says the numbers ...    110  l6uibd   \n",
       "2                                    Exit the system      0  l6uhhn   \n",
       "3  NEW SEC FILING FOR GME! CAN SOMEONE LESS RETAR...     29  l6ugk6   \n",
       "4  Not to distract from GME, just thought our AMC...     71  l6ufgy   \n",
       "6        SHORT STOCK DOESN'T HAVE AN EXPIRATION DATE    317  l6uf6d   \n",
       "\n",
       "                                                 url  comms_num       created  \\\n",
       "1                    https://v.redd.it/ah50lyny62e61         23  1.611862e+09   \n",
       "2  https://www.reddit.com/r/wallstreetbets/commen...         47  1.611862e+09   \n",
       "3  https://sec.report/Document/0001193125-21-019848/         74  1.611862e+09   \n",
       "4                https://i.redd.it/4h2sukb662e61.jpg        156  1.611862e+09   \n",
       "6  https://www.reddit.com/r/wallstreetbets/commen...         53  1.611862e+09   \n",
       "\n",
       "                                                body           timestamp  \\\n",
       "1                                                NaN 2021-01-28 21:32:10   \n",
       "2  The CEO of NASDAQ pushed to halt trading “to g... 2021-01-28 21:30:35   \n",
       "3                                                NaN 2021-01-28 21:28:57   \n",
       "4                                                NaN 2021-01-28 21:26:56   \n",
       "6  Hedgefund whales are spreading disinfo saying ... 2021-01-28 21:26:27   \n",
       "\n",
       "   is_gme                                        title_clean  \\\n",
       "1    True  math professor scott steiner says the numbers ...   \n",
       "2    True                                    exit the system   \n",
       "3    True  new sec filing for gme can someone less retard...   \n",
       "4    True  not to distract from gme just thought our amc ...   \n",
       "6    True        short stock doesn t have an expiration date   \n",
       "\n",
       "                                          body_clean  \\\n",
       "1                                                      \n",
       "2  the ceo of nasdaq pushed to halt trading to gi...   \n",
       "3                                                      \n",
       "4                                                      \n",
       "6  hedgefund whales are spreading disinfo saying ...   \n",
       "\n",
       "                                       combined_text  sentiment  \\\n",
       "1  math professor scott steiner says the numbers ...   0.000000   \n",
       "2  exit the system the ceo of nasdaq pushed to ha...   0.016187   \n",
       "3  new sec filing for gme can someone less retard...  -0.232576   \n",
       "4  not to distract from gme just thought our amc ...   0.250000   \n",
       "6  short stock doesn t have an expiration date he...  -0.020000   \n",
       "\n",
       "   sentiment_magnitude  subjectivity  title_length  body_length  total_length  \\\n",
       "1             0.000000      0.000000            80            0            80   \n",
       "2             0.016187      0.348753            15         1156          1171   \n",
       "3             0.232576      0.480303            73            0            73   \n",
       "4             0.250000      0.250000            78            0            78   \n",
       "6             0.020000      0.362500            43          648           691   \n",
       "\n",
       "   engagement_score  score_per_comment  \n",
       "1               133           4.583333  \n",
       "2                47           0.000000  \n",
       "3               103           0.386667  \n",
       "4               227           0.452229  \n",
       "6               370           5.870370  "
      ]
     },
     "execution_count": 13,
     "metadata": {},
     "output_type": "execute_result"
    }
   ],
   "source": [
    "# Extract post features\n",
    "\"\"\"Extract features from individual posts\"\"\"\n",
    "\n",
    "# Sentiment analysis\n",
    "df['sentiment'] = df['combined_text'].apply(\n",
    "    lambda x: TextBlob(x).sentiment.polarity if x else 0\n",
    ")\n",
    "df['sentiment_magnitude'] = df['combined_text'].apply(\n",
    "    lambda x: abs(TextBlob(x).sentiment.polarity) if x else 0\n",
    ")\n",
    "df['subjectivity'] = df['combined_text'].apply(\n",
    "    lambda x: TextBlob(x).sentiment.subjectivity\n",
    ")\n",
    "\n",
    "# Text length features\n",
    "df['title_length'] = df['title_clean'].str.len()\n",
    "df['body_length'] = df['body_clean'].str.len()\n",
    "df['total_length'] = df['title_length'] + df['body_length']\n",
    "\n",
    "# Engagement features\n",
    "df['engagement_score'] = df['score'] + df['comms_num']\n",
    "df['score_per_comment'] = df['score'] / (df['comms_num'] + 1)  # Avoid division by zero\n",
    "\n",
    "# Author features (anonymized but trackable patterns)\n",
    "# df['author_post_count'] = df.groupby('id')['id'].transform('count')\n",
    "df.head()\n"
   ]
  },
  {
   "cell_type": "code",
   "execution_count": 10,
   "id": "8a912021",
   "metadata": {},
   "outputs": [
    {
     "data": {
      "application/vnd.microsoft.datawrangler.viewer.v0+json": {
       "columns": [
        {
         "name": "index",
         "rawType": "int64",
         "type": "integer"
        },
        {
         "name": "title",
         "rawType": "object",
         "type": "string"
        },
        {
         "name": "score",
         "rawType": "int64",
         "type": "integer"
        },
        {
         "name": "id",
         "rawType": "object",
         "type": "string"
        },
        {
         "name": "url",
         "rawType": "object",
         "type": "string"
        },
        {
         "name": "comms_num",
         "rawType": "int64",
         "type": "integer"
        },
        {
         "name": "created",
         "rawType": "float64",
         "type": "float"
        },
        {
         "name": "body",
         "rawType": "object",
         "type": "unknown"
        },
        {
         "name": "timestamp",
         "rawType": "datetime64[ns]",
         "type": "datetime"
        },
        {
         "name": "is_gme",
         "rawType": "bool",
         "type": "boolean"
        },
        {
         "name": "title_clean",
         "rawType": "object",
         "type": "string"
        },
        {
         "name": "body_clean",
         "rawType": "object",
         "type": "string"
        },
        {
         "name": "combined_text",
         "rawType": "object",
         "type": "string"
        },
        {
         "name": "sentiment",
         "rawType": "float64",
         "type": "float"
        },
        {
         "name": "sentiment_magnitude",
         "rawType": "float64",
         "type": "float"
        },
        {
         "name": "title_length",
         "rawType": "int64",
         "type": "integer"
        },
        {
         "name": "body_length",
         "rawType": "int64",
         "type": "integer"
        },
        {
         "name": "total_length",
         "rawType": "int64",
         "type": "integer"
        },
        {
         "name": "engagement_score",
         "rawType": "int64",
         "type": "integer"
        },
        {
         "name": "score_per_comment",
         "rawType": "float64",
         "type": "float"
        },
        {
         "name": "hour_window",
         "rawType": "datetime64[ns]",
         "type": "datetime"
        },
        {
         "name": "text_similarity",
         "rawType": "float64",
         "type": "float"
        }
       ],
       "ref": "e2fb308f-6d6a-40ad-8d7c-64653930e083",
       "rows": [
        [
         "1",
         "Math Professor Scott Steiner says the numbers spell DISASTER for Gamestop shorts",
         "110",
         "l6uibd",
         "https://v.redd.it/ah50lyny62e61",
         "23",
         "1611862330.0",
         null,
         "2021-01-28 21:32:10",
         "True",
         "math professor scott steiner says the numbers spell disaster for gamestop shorts",
         "",
         "math professor scott steiner says the numbers spell disaster for gamestop shorts ",
         "0.0",
         "0.0",
         "80",
         "0",
         "80",
         "133",
         "4.583333333333333",
         "2021-01-28 21:00:00",
         "0.09363300371152002"
        ],
        [
         "2",
         "Exit the system",
         "0",
         "l6uhhn",
         "https://www.reddit.com/r/wallstreetbets/comments/l6uhhn/exit_the_system/",
         "47",
         "1611862235.0",
         "The CEO of NASDAQ pushed to halt trading “to give investors a chance to recalibrate their positions”.\n\n[https://mobile.twitter.com/Mediaite/status/1354504710695362563](https://mobile.twitter.com/Mediaite/status/1354504710695362563)\n\nNow SEC is investigating, brokers are disallowing buying more calls. This is the institutions flat out admitting they will change the rules to bail out the rich but if it happens to us, we get a “well shucks you should have known investing is risky! have you tried cutting out avocados and coffee, maybe doing Uber on the side?”\n\nWe may have collectively driven up enough sentiment in wall street to make other big players go long on GME with us (we do not have the money to move the stock as much as it did alone). we didn’t hurt wall street as a whole, just a few funds went down while others went up and profited off the shorts the same as us. The media wants to pin the blame on us.\n\nIt should be crystal clear that this is a rigged game by now. Its time to build new exchanges that can’t arbitrarily change the rules on us. Cr\\*\\*o has some version of these, maybe they can be repurposed to be trade stock without government intervention. I don’t know exactly what it will look like yet, but the broad next steps i see are - 1. exit the current financial system 2. build a new one.",
         "2021-01-28 21:30:35",
         "True",
         "exit the system",
         "the ceo of nasdaq pushed to halt trading to give investors a chance to recalibrate their positions now sec is investigating brokers are disallowing buying more calls this is the institutions flat out admitting they will change the rules to bail out the rich but if it happens to us we get a well shucks you should have known investing is risky have you tried cutting out avocados and coffee maybe doing uber on the side we may have collectively driven up enough sentiment in wall street to make other big players go long on gme with us we do not have the money to move the stock as much as it did alone we didn t hurt wall street as a whole just a few funds went down while others went up and profited off the shorts the same as us the media wants to pin the blame on us it should be crystal clear that this is a rigged game by now its time to build new exchanges that can t arbitrarily change the rules on us cr o has some version of these maybe they can be repurposed to be trade stock without government intervention i don t know exactly what it will look like yet but the broad next steps i see are 1 exit the current financial system 2 build a new one",
         "exit the system the ceo of nasdaq pushed to halt trading to give investors a chance to recalibrate their positions now sec is investigating brokers are disallowing buying more calls this is the institutions flat out admitting they will change the rules to bail out the rich but if it happens to us we get a well shucks you should have known investing is risky have you tried cutting out avocados and coffee maybe doing uber on the side we may have collectively driven up enough sentiment in wall street to make other big players go long on gme with us we do not have the money to move the stock as much as it did alone we didn t hurt wall street as a whole just a few funds went down while others went up and profited off the shorts the same as us the media wants to pin the blame on us it should be crystal clear that this is a rigged game by now its time to build new exchanges that can t arbitrarily change the rules on us cr o has some version of these maybe they can be repurposed to be trade stock without government intervention i don t know exactly what it will look like yet but the broad next steps i see are 1 exit the current financial system 2 build a new one",
         "0.016186868686868684",
         "0.016186868686868684",
         "15",
         "1156",
         "1171",
         "47",
         "0.0",
         "2021-01-28 21:00:00",
         "0.09465747916824896"
        ],
        [
         "3",
         "NEW SEC FILING FOR GME! CAN SOMEONE LESS RETARDED THAN ME PLEASE INTERPRET?",
         "29",
         "l6ugk6",
         "https://sec.report/Document/0001193125-21-019848/",
         "74",
         "1611862137.0",
         null,
         "2021-01-28 21:28:57",
         "True",
         "new sec filing for gme can someone less retarded than me please interpret",
         "",
         "new sec filing for gme can someone less retarded than me please interpret ",
         "-0.2325757575757576",
         "0.2325757575757576",
         "73",
         "0",
         "73",
         "103",
         "0.38666666666666666",
         "2021-01-28 21:00:00",
         "0.07273869858908577"
        ],
        [
         "4",
         "Not to distract from GME, just thought our AMC brothers should be aware of this",
         "71",
         "l6ufgy",
         "https://i.redd.it/4h2sukb662e61.jpg",
         "156",
         "1611862016.0",
         null,
         "2021-01-28 21:26:56",
         "True",
         "not to distract from gme just thought our amc brothers should be aware of this",
         "",
         "not to distract from gme just thought our amc brothers should be aware of this ",
         "0.25",
         "0.25",
         "78",
         "0",
         "78",
         "227",
         "0.45222929936305734",
         "2021-01-28 21:00:00",
         "0.09319355212455827"
        ],
        [
         "6",
         "SHORT STOCK DOESN'T HAVE AN EXPIRATION DATE",
         "317",
         "l6uf6d",
         "https://www.reddit.com/r/wallstreetbets/comments/l6uf6d/short_stock_doesnt_have_an_expiration_date/",
         "53",
         "1611861987.0",
         "Hedgefund whales are spreading disinfo saying Friday is make-or-break for $GME. Call options expiring ITM on Friday will drive the price up if levels are maintained, but may not trigger the short squeeze.\n\nIt may be Friday, but it could be next week the we see the real squeeze.\n\nDON'T PANIC IF THE SQUEEZE DOESN'T HAPPEN FRIDAY.\n\nIt's not guaranteed to. The only thing that is guaranteed mathematically is that the shorts will have to cover at some point in the future. They are trying to get enough people hooked on the false expectation of Friday so that if/when it doesn't happen, enough will sell out of panic/despair. DON'T BE THAT PERSON.\n\nWE LIKE THE STOCK",
         "2021-01-28 21:26:27",
         "True",
         "short stock doesn t have an expiration date",
         "hedgefund whales are spreading disinfo saying friday is make or break for gme call options expiring itm on friday will drive the price up if levels are maintained but may not trigger the short squeeze it may be friday but it could be next week the we see the real squeeze don t panic if the squeeze doesn t happen friday it s not guaranteed to the only thing that is guaranteed mathematically is that the shorts will have to cover at some point in the future they are trying to get enough people hooked on the false expectation of friday so that if when it doesn t happen enough will sell out of panic despair don t be that person we like the stock",
         "short stock doesn t have an expiration date hedgefund whales are spreading disinfo saying friday is make or break for gme call options expiring itm on friday will drive the price up if levels are maintained but may not trigger the short squeeze it may be friday but it could be next week the we see the real squeeze don t panic if the squeeze doesn t happen friday it s not guaranteed to the only thing that is guaranteed mathematically is that the shorts will have to cover at some point in the future they are trying to get enough people hooked on the false expectation of friday so that if when it doesn t happen enough will sell out of panic despair don t be that person we like the stock",
         "-0.020000000000000007",
         "0.020000000000000007",
         "43",
         "648",
         "691",
         "370",
         "5.87037037037037",
         "2021-01-28 21:00:00",
         "0.12924844226345636"
        ]
       ],
       "shape": {
        "columns": 21,
        "rows": 5
       }
      },
      "text/html": [
       "<div>\n",
       "<style scoped>\n",
       "    .dataframe tbody tr th:only-of-type {\n",
       "        vertical-align: middle;\n",
       "    }\n",
       "\n",
       "    .dataframe tbody tr th {\n",
       "        vertical-align: top;\n",
       "    }\n",
       "\n",
       "    .dataframe thead th {\n",
       "        text-align: right;\n",
       "    }\n",
       "</style>\n",
       "<table border=\"1\" class=\"dataframe\">\n",
       "  <thead>\n",
       "    <tr style=\"text-align: right;\">\n",
       "      <th></th>\n",
       "      <th>title</th>\n",
       "      <th>score</th>\n",
       "      <th>id</th>\n",
       "      <th>url</th>\n",
       "      <th>comms_num</th>\n",
       "      <th>created</th>\n",
       "      <th>body</th>\n",
       "      <th>timestamp</th>\n",
       "      <th>is_gme</th>\n",
       "      <th>title_clean</th>\n",
       "      <th>...</th>\n",
       "      <th>combined_text</th>\n",
       "      <th>sentiment</th>\n",
       "      <th>sentiment_magnitude</th>\n",
       "      <th>title_length</th>\n",
       "      <th>body_length</th>\n",
       "      <th>total_length</th>\n",
       "      <th>engagement_score</th>\n",
       "      <th>score_per_comment</th>\n",
       "      <th>hour_window</th>\n",
       "      <th>text_similarity</th>\n",
       "    </tr>\n",
       "  </thead>\n",
       "  <tbody>\n",
       "    <tr>\n",
       "      <th>1</th>\n",
       "      <td>Math Professor Scott Steiner says the numbers ...</td>\n",
       "      <td>110</td>\n",
       "      <td>l6uibd</td>\n",
       "      <td>https://v.redd.it/ah50lyny62e61</td>\n",
       "      <td>23</td>\n",
       "      <td>1.611862e+09</td>\n",
       "      <td>NaN</td>\n",
       "      <td>2021-01-28 21:32:10</td>\n",
       "      <td>True</td>\n",
       "      <td>math professor scott steiner says the numbers ...</td>\n",
       "      <td>...</td>\n",
       "      <td>math professor scott steiner says the numbers ...</td>\n",
       "      <td>0.000000</td>\n",
       "      <td>0.000000</td>\n",
       "      <td>80</td>\n",
       "      <td>0</td>\n",
       "      <td>80</td>\n",
       "      <td>133</td>\n",
       "      <td>4.583333</td>\n",
       "      <td>2021-01-28 21:00:00</td>\n",
       "      <td>0.093633</td>\n",
       "    </tr>\n",
       "    <tr>\n",
       "      <th>2</th>\n",
       "      <td>Exit the system</td>\n",
       "      <td>0</td>\n",
       "      <td>l6uhhn</td>\n",
       "      <td>https://www.reddit.com/r/wallstreetbets/commen...</td>\n",
       "      <td>47</td>\n",
       "      <td>1.611862e+09</td>\n",
       "      <td>The CEO of NASDAQ pushed to halt trading “to g...</td>\n",
       "      <td>2021-01-28 21:30:35</td>\n",
       "      <td>True</td>\n",
       "      <td>exit the system</td>\n",
       "      <td>...</td>\n",
       "      <td>exit the system the ceo of nasdaq pushed to ha...</td>\n",
       "      <td>0.016187</td>\n",
       "      <td>0.016187</td>\n",
       "      <td>15</td>\n",
       "      <td>1156</td>\n",
       "      <td>1171</td>\n",
       "      <td>47</td>\n",
       "      <td>0.000000</td>\n",
       "      <td>2021-01-28 21:00:00</td>\n",
       "      <td>0.094657</td>\n",
       "    </tr>\n",
       "    <tr>\n",
       "      <th>3</th>\n",
       "      <td>NEW SEC FILING FOR GME! CAN SOMEONE LESS RETAR...</td>\n",
       "      <td>29</td>\n",
       "      <td>l6ugk6</td>\n",
       "      <td>https://sec.report/Document/0001193125-21-019848/</td>\n",
       "      <td>74</td>\n",
       "      <td>1.611862e+09</td>\n",
       "      <td>NaN</td>\n",
       "      <td>2021-01-28 21:28:57</td>\n",
       "      <td>True</td>\n",
       "      <td>new sec filing for gme can someone less retard...</td>\n",
       "      <td>...</td>\n",
       "      <td>new sec filing for gme can someone less retard...</td>\n",
       "      <td>-0.232576</td>\n",
       "      <td>0.232576</td>\n",
       "      <td>73</td>\n",
       "      <td>0</td>\n",
       "      <td>73</td>\n",
       "      <td>103</td>\n",
       "      <td>0.386667</td>\n",
       "      <td>2021-01-28 21:00:00</td>\n",
       "      <td>0.072739</td>\n",
       "    </tr>\n",
       "    <tr>\n",
       "      <th>4</th>\n",
       "      <td>Not to distract from GME, just thought our AMC...</td>\n",
       "      <td>71</td>\n",
       "      <td>l6ufgy</td>\n",
       "      <td>https://i.redd.it/4h2sukb662e61.jpg</td>\n",
       "      <td>156</td>\n",
       "      <td>1.611862e+09</td>\n",
       "      <td>NaN</td>\n",
       "      <td>2021-01-28 21:26:56</td>\n",
       "      <td>True</td>\n",
       "      <td>not to distract from gme just thought our amc ...</td>\n",
       "      <td>...</td>\n",
       "      <td>not to distract from gme just thought our amc ...</td>\n",
       "      <td>0.250000</td>\n",
       "      <td>0.250000</td>\n",
       "      <td>78</td>\n",
       "      <td>0</td>\n",
       "      <td>78</td>\n",
       "      <td>227</td>\n",
       "      <td>0.452229</td>\n",
       "      <td>2021-01-28 21:00:00</td>\n",
       "      <td>0.093194</td>\n",
       "    </tr>\n",
       "    <tr>\n",
       "      <th>6</th>\n",
       "      <td>SHORT STOCK DOESN'T HAVE AN EXPIRATION DATE</td>\n",
       "      <td>317</td>\n",
       "      <td>l6uf6d</td>\n",
       "      <td>https://www.reddit.com/r/wallstreetbets/commen...</td>\n",
       "      <td>53</td>\n",
       "      <td>1.611862e+09</td>\n",
       "      <td>Hedgefund whales are spreading disinfo saying ...</td>\n",
       "      <td>2021-01-28 21:26:27</td>\n",
       "      <td>True</td>\n",
       "      <td>short stock doesn t have an expiration date</td>\n",
       "      <td>...</td>\n",
       "      <td>short stock doesn t have an expiration date he...</td>\n",
       "      <td>-0.020000</td>\n",
       "      <td>0.020000</td>\n",
       "      <td>43</td>\n",
       "      <td>648</td>\n",
       "      <td>691</td>\n",
       "      <td>370</td>\n",
       "      <td>5.870370</td>\n",
       "      <td>2021-01-28 21:00:00</td>\n",
       "      <td>0.129248</td>\n",
       "    </tr>\n",
       "  </tbody>\n",
       "</table>\n",
       "<p>5 rows × 21 columns</p>\n",
       "</div>"
      ],
      "text/plain": [
       "                                               title  score      id  \\\n",
       "1  Math Professor Scott Steiner says the numbers ...    110  l6uibd   \n",
       "2                                    Exit the system      0  l6uhhn   \n",
       "3  NEW SEC FILING FOR GME! CAN SOMEONE LESS RETAR...     29  l6ugk6   \n",
       "4  Not to distract from GME, just thought our AMC...     71  l6ufgy   \n",
       "6        SHORT STOCK DOESN'T HAVE AN EXPIRATION DATE    317  l6uf6d   \n",
       "\n",
       "                                                 url  comms_num       created  \\\n",
       "1                    https://v.redd.it/ah50lyny62e61         23  1.611862e+09   \n",
       "2  https://www.reddit.com/r/wallstreetbets/commen...         47  1.611862e+09   \n",
       "3  https://sec.report/Document/0001193125-21-019848/         74  1.611862e+09   \n",
       "4                https://i.redd.it/4h2sukb662e61.jpg        156  1.611862e+09   \n",
       "6  https://www.reddit.com/r/wallstreetbets/commen...         53  1.611862e+09   \n",
       "\n",
       "                                                body           timestamp  \\\n",
       "1                                                NaN 2021-01-28 21:32:10   \n",
       "2  The CEO of NASDAQ pushed to halt trading “to g... 2021-01-28 21:30:35   \n",
       "3                                                NaN 2021-01-28 21:28:57   \n",
       "4                                                NaN 2021-01-28 21:26:56   \n",
       "6  Hedgefund whales are spreading disinfo saying ... 2021-01-28 21:26:27   \n",
       "\n",
       "   is_gme                                        title_clean  ...  \\\n",
       "1    True  math professor scott steiner says the numbers ...  ...   \n",
       "2    True                                    exit the system  ...   \n",
       "3    True  new sec filing for gme can someone less retard...  ...   \n",
       "4    True  not to distract from gme just thought our amc ...  ...   \n",
       "6    True        short stock doesn t have an expiration date  ...   \n",
       "\n",
       "                                       combined_text sentiment  \\\n",
       "1  math professor scott steiner says the numbers ...  0.000000   \n",
       "2  exit the system the ceo of nasdaq pushed to ha...  0.016187   \n",
       "3  new sec filing for gme can someone less retard... -0.232576   \n",
       "4  not to distract from gme just thought our amc ...  0.250000   \n",
       "6  short stock doesn t have an expiration date he... -0.020000   \n",
       "\n",
       "   sentiment_magnitude  title_length  body_length  total_length  \\\n",
       "1             0.000000            80            0            80   \n",
       "2             0.016187            15         1156          1171   \n",
       "3             0.232576            73            0            73   \n",
       "4             0.250000            78            0            78   \n",
       "6             0.020000            43          648           691   \n",
       "\n",
       "   engagement_score  score_per_comment         hour_window text_similarity  \n",
       "1               133           4.583333 2021-01-28 21:00:00        0.093633  \n",
       "2                47           0.000000 2021-01-28 21:00:00        0.094657  \n",
       "3               103           0.386667 2021-01-28 21:00:00        0.072739  \n",
       "4               227           0.452229 2021-01-28 21:00:00        0.093194  \n",
       "6               370           5.870370 2021-01-28 21:00:00        0.129248  \n",
       "\n",
       "[5 rows x 21 columns]"
      ]
     },
     "execution_count": 10,
     "metadata": {},
     "output_type": "execute_result"
    }
   ],
   "source": [
    "# Calculate text similarity within time windows\n",
    "window_hours=1\n",
    "# Group posts by hour windows\n",
    "df['hour_window'] = df['timestamp'].dt.floor(f'{window_hours}H')\n",
    "\n",
    "similarity_scores = []\n",
    "\n",
    "for window, group in df.groupby('hour_window'):\n",
    "    if len(group) < 2:\n",
    "        # If only one post in window, similarity is 0\n",
    "        similarity_scores.extend([0] * len(group))\n",
    "        continue\n",
    "        \n",
    "    # Calculate TF-IDF similarity\n",
    "    texts = group['combined_text'].fillna('').tolist()\n",
    "    \n",
    "    try:\n",
    "        vectorizer = TfidfVectorizer(max_features=100, stop_words='english')\n",
    "        tfidf_matrix = vectorizer.fit_transform(texts)\n",
    "        similarity_matrix = cosine_similarity(tfidf_matrix)\n",
    "        \n",
    "        # Average similarity for each post to all others in the window\n",
    "        avg_similarities = []\n",
    "        for i in range(len(similarity_matrix)):\n",
    "            # Exclude self-similarity (diagonal = 1)\n",
    "            others = np.concatenate([similarity_matrix[i][:i], similarity_matrix[i][i+1:]])\n",
    "            avg_similarity = np.mean(others) if len(others) > 0 else 0\n",
    "            avg_similarities.append(avg_similarity)\n",
    "            \n",
    "        similarity_scores.extend(avg_similarities)\n",
    "        \n",
    "    except:\n",
    "        # If TF-IDF fails (e.g., empty texts), set similarity to 0\n",
    "        similarity_scores.extend([0] * len(group))\n",
    "\n",
    "df['text_similarity'] = similarity_scores\n",
    "df.head()\n"
   ]
  },
  {
   "cell_type": "code",
   "execution_count": 11,
   "id": "8c0b06f2",
   "metadata": {},
   "outputs": [],
   "source": [
    "def _aggregate_to_hourly(df):\n",
    "        \"\"\"Aggregate posts to hourly features\"\"\"\n",
    "        df['hour'] = df['timestamp'].dt.floor('H')\n",
    "        \n",
    "        hourly_agg = df.groupby('hour').agg({\n",
    "            'sentiment': ['mean', 'std', 'min', 'max'],\n",
    "            'sentiment_magnitude': 'mean',\n",
    "            'text_similarity': 'mean',\n",
    "            'score': ['sum', 'mean', 'std'],\n",
    "            'comms_num': ['sum', 'mean'],\n",
    "            'engagement_score': ['sum', 'mean'],\n",
    "            'author': 'nunique',  # Unique authors per hour\n",
    "            'author_post_count': 'mean',  # Average posts per author\n",
    "            'total_length': 'mean',\n",
    "            'timestamp': 'count'  # Post volume\n",
    "        }).round(4)\n",
    "        \n",
    "        # Flatten column names\n",
    "        hourly_agg.columns = [f'{col[0]}_{col[1]}' if col[1] else col[0] \n",
    "                             for col in hourly_agg.columns]\n",
    "        \n",
    "        # Rename count column\n",
    "        hourly_agg = hourly_agg.rename(columns={'timestamp_count': 'post_volume'})\n",
    "        \n",
    "        # Add coordination signals\n",
    "        hourly_agg['author_diversity'] = hourly_agg['author_nunique'] / (hourly_agg['post_volume'] + 1)\n",
    "        hourly_agg['repeat_poster_ratio'] = 1 - hourly_agg['author_diversity']\n",
    "        \n",
    "        return hourly_agg.reset_index()\n",
    "    \n",
    "def _aggregate_to_daily(hourly_df):\n",
    "    \"\"\"Aggregate hourly features to daily\"\"\"\n",
    "    hourly_df['date'] = hourly_df['hour'].dt.date\n",
    "    \n",
    "    # Select key features for daily aggregation\n",
    "    daily_agg = hourly_df.groupby('date').agg({\n",
    "        'sentiment_mean': ['mean', 'std'],\n",
    "        'sentiment_std': 'mean',\n",
    "        'text_similarity_mean': 'mean',\n",
    "        'post_volume': ['sum', 'mean', 'std', 'max'],\n",
    "        'score_sum': 'sum',\n",
    "        'engagement_score_sum': 'sum',\n",
    "        'author_diversity': 'mean',\n",
    "        'repeat_poster_ratio': 'mean',\n",
    "    }).round(4)\n",
    "    \n",
    "    # Flatten column names\n",
    "    daily_agg.columns = [f'daily_{col[0]}_{col[1]}' \n",
    "                        for col in daily_agg.columns]\n",
    "    \n",
    "    return daily_agg.reset_index()\n",
    "    \n",
    "def _aggregate_to_weekly(daily_df):\n",
    "    \"\"\"Aggregate daily features to weekly\"\"\"\n",
    "    daily_df['week'] = pd.to_datetime(daily_df['date']).dt.to_period('W')\n",
    "    \n",
    "    weekly_agg = daily_df.groupby('week').agg({\n",
    "        'daily_sentiment_mean_mean': 'mean',\n",
    "        'daily_post_volume_sum': ['sum', 'mean'],\n",
    "        'daily_score_sum_sum': 'sum',\n",
    "        'daily_author_diversity_mean': 'mean',\n",
    "    }).round(4)\n",
    "    \n",
    "    # Flatten column names\n",
    "    weekly_agg.columns = [f'weekly_{col[0]}_{col[1]}' \n",
    "                            for col in weekly_agg.columns]\n",
    "    \n",
    "    return weekly_agg.reset_index()"
   ]
  },
  {
   "cell_type": "code",
   "execution_count": 12,
   "id": "76af9ed8",
   "metadata": {},
   "outputs": [
    {
     "ename": "KeyError",
     "evalue": "\"Column(s) ['author', 'author_post_count'] do not exist\"",
     "output_type": "error",
     "traceback": [
      "\u001b[1;31m---------------------------------------------------------------------------\u001b[0m",
      "\u001b[1;31mKeyError\u001b[0m                                  Traceback (most recent call last)",
      "Cell \u001b[1;32mIn[12], line 4\u001b[0m\n\u001b[0;32m      1\u001b[0m \u001b[38;5;124;03m\"\"\"Create features at different time scales\"\"\"\u001b[39;00m\n\u001b[0;32m      3\u001b[0m \u001b[38;5;66;03m# Level 1: Hourly aggregation\u001b[39;00m\n\u001b[1;32m----> 4\u001b[0m hourly_features \u001b[38;5;241m=\u001b[39m \u001b[43m_aggregate_to_hourly\u001b[49m\u001b[43m(\u001b[49m\u001b[43mdf\u001b[49m\u001b[43m)\u001b[49m\n\u001b[0;32m      6\u001b[0m \u001b[38;5;66;03m# Level 2: Daily aggregation\u001b[39;00m\n\u001b[0;32m      7\u001b[0m daily_features \u001b[38;5;241m=\u001b[39m _aggregate_to_daily(hourly_features)\n",
      "Cell \u001b[1;32mIn[11], line 5\u001b[0m, in \u001b[0;36m_aggregate_to_hourly\u001b[1;34m(df)\u001b[0m\n\u001b[0;32m      2\u001b[0m \u001b[38;5;250m\u001b[39m\u001b[38;5;124;03m\"\"\"Aggregate posts to hourly features\"\"\"\u001b[39;00m\n\u001b[0;32m      3\u001b[0m df[\u001b[38;5;124m'\u001b[39m\u001b[38;5;124mhour\u001b[39m\u001b[38;5;124m'\u001b[39m] \u001b[38;5;241m=\u001b[39m df[\u001b[38;5;124m'\u001b[39m\u001b[38;5;124mtimestamp\u001b[39m\u001b[38;5;124m'\u001b[39m]\u001b[38;5;241m.\u001b[39mdt\u001b[38;5;241m.\u001b[39mfloor(\u001b[38;5;124m'\u001b[39m\u001b[38;5;124mH\u001b[39m\u001b[38;5;124m'\u001b[39m)\n\u001b[1;32m----> 5\u001b[0m hourly_agg \u001b[38;5;241m=\u001b[39m \u001b[43mdf\u001b[49m\u001b[38;5;241;43m.\u001b[39;49m\u001b[43mgroupby\u001b[49m\u001b[43m(\u001b[49m\u001b[38;5;124;43m'\u001b[39;49m\u001b[38;5;124;43mhour\u001b[39;49m\u001b[38;5;124;43m'\u001b[39;49m\u001b[43m)\u001b[49m\u001b[38;5;241;43m.\u001b[39;49m\u001b[43magg\u001b[49m\u001b[43m(\u001b[49m\u001b[43m{\u001b[49m\n\u001b[0;32m      6\u001b[0m \u001b[43m    \u001b[49m\u001b[38;5;124;43m'\u001b[39;49m\u001b[38;5;124;43msentiment\u001b[39;49m\u001b[38;5;124;43m'\u001b[39;49m\u001b[43m:\u001b[49m\u001b[43m \u001b[49m\u001b[43m[\u001b[49m\u001b[38;5;124;43m'\u001b[39;49m\u001b[38;5;124;43mmean\u001b[39;49m\u001b[38;5;124;43m'\u001b[39;49m\u001b[43m,\u001b[49m\u001b[43m \u001b[49m\u001b[38;5;124;43m'\u001b[39;49m\u001b[38;5;124;43mstd\u001b[39;49m\u001b[38;5;124;43m'\u001b[39;49m\u001b[43m,\u001b[49m\u001b[43m \u001b[49m\u001b[38;5;124;43m'\u001b[39;49m\u001b[38;5;124;43mmin\u001b[39;49m\u001b[38;5;124;43m'\u001b[39;49m\u001b[43m,\u001b[49m\u001b[43m \u001b[49m\u001b[38;5;124;43m'\u001b[39;49m\u001b[38;5;124;43mmax\u001b[39;49m\u001b[38;5;124;43m'\u001b[39;49m\u001b[43m]\u001b[49m\u001b[43m,\u001b[49m\n\u001b[0;32m      7\u001b[0m \u001b[43m    \u001b[49m\u001b[38;5;124;43m'\u001b[39;49m\u001b[38;5;124;43msentiment_magnitude\u001b[39;49m\u001b[38;5;124;43m'\u001b[39;49m\u001b[43m:\u001b[49m\u001b[43m \u001b[49m\u001b[38;5;124;43m'\u001b[39;49m\u001b[38;5;124;43mmean\u001b[39;49m\u001b[38;5;124;43m'\u001b[39;49m\u001b[43m,\u001b[49m\n\u001b[0;32m      8\u001b[0m \u001b[43m    \u001b[49m\u001b[38;5;124;43m'\u001b[39;49m\u001b[38;5;124;43mtext_similarity\u001b[39;49m\u001b[38;5;124;43m'\u001b[39;49m\u001b[43m:\u001b[49m\u001b[43m \u001b[49m\u001b[38;5;124;43m'\u001b[39;49m\u001b[38;5;124;43mmean\u001b[39;49m\u001b[38;5;124;43m'\u001b[39;49m\u001b[43m,\u001b[49m\n\u001b[0;32m      9\u001b[0m \u001b[43m    \u001b[49m\u001b[38;5;124;43m'\u001b[39;49m\u001b[38;5;124;43mscore\u001b[39;49m\u001b[38;5;124;43m'\u001b[39;49m\u001b[43m:\u001b[49m\u001b[43m \u001b[49m\u001b[43m[\u001b[49m\u001b[38;5;124;43m'\u001b[39;49m\u001b[38;5;124;43msum\u001b[39;49m\u001b[38;5;124;43m'\u001b[39;49m\u001b[43m,\u001b[49m\u001b[43m \u001b[49m\u001b[38;5;124;43m'\u001b[39;49m\u001b[38;5;124;43mmean\u001b[39;49m\u001b[38;5;124;43m'\u001b[39;49m\u001b[43m,\u001b[49m\u001b[43m \u001b[49m\u001b[38;5;124;43m'\u001b[39;49m\u001b[38;5;124;43mstd\u001b[39;49m\u001b[38;5;124;43m'\u001b[39;49m\u001b[43m]\u001b[49m\u001b[43m,\u001b[49m\n\u001b[0;32m     10\u001b[0m \u001b[43m    \u001b[49m\u001b[38;5;124;43m'\u001b[39;49m\u001b[38;5;124;43mcomms_num\u001b[39;49m\u001b[38;5;124;43m'\u001b[39;49m\u001b[43m:\u001b[49m\u001b[43m \u001b[49m\u001b[43m[\u001b[49m\u001b[38;5;124;43m'\u001b[39;49m\u001b[38;5;124;43msum\u001b[39;49m\u001b[38;5;124;43m'\u001b[39;49m\u001b[43m,\u001b[49m\u001b[43m \u001b[49m\u001b[38;5;124;43m'\u001b[39;49m\u001b[38;5;124;43mmean\u001b[39;49m\u001b[38;5;124;43m'\u001b[39;49m\u001b[43m]\u001b[49m\u001b[43m,\u001b[49m\n\u001b[0;32m     11\u001b[0m \u001b[43m    \u001b[49m\u001b[38;5;124;43m'\u001b[39;49m\u001b[38;5;124;43mengagement_score\u001b[39;49m\u001b[38;5;124;43m'\u001b[39;49m\u001b[43m:\u001b[49m\u001b[43m \u001b[49m\u001b[43m[\u001b[49m\u001b[38;5;124;43m'\u001b[39;49m\u001b[38;5;124;43msum\u001b[39;49m\u001b[38;5;124;43m'\u001b[39;49m\u001b[43m,\u001b[49m\u001b[43m \u001b[49m\u001b[38;5;124;43m'\u001b[39;49m\u001b[38;5;124;43mmean\u001b[39;49m\u001b[38;5;124;43m'\u001b[39;49m\u001b[43m]\u001b[49m\u001b[43m,\u001b[49m\n\u001b[0;32m     12\u001b[0m \u001b[43m    \u001b[49m\u001b[38;5;124;43m'\u001b[39;49m\u001b[38;5;124;43mauthor\u001b[39;49m\u001b[38;5;124;43m'\u001b[39;49m\u001b[43m:\u001b[49m\u001b[43m \u001b[49m\u001b[38;5;124;43m'\u001b[39;49m\u001b[38;5;124;43mnunique\u001b[39;49m\u001b[38;5;124;43m'\u001b[39;49m\u001b[43m,\u001b[49m\u001b[43m  \u001b[49m\u001b[38;5;66;43;03m# Unique authors per hour\u001b[39;49;00m\n\u001b[0;32m     13\u001b[0m \u001b[43m    \u001b[49m\u001b[38;5;124;43m'\u001b[39;49m\u001b[38;5;124;43mauthor_post_count\u001b[39;49m\u001b[38;5;124;43m'\u001b[39;49m\u001b[43m:\u001b[49m\u001b[43m \u001b[49m\u001b[38;5;124;43m'\u001b[39;49m\u001b[38;5;124;43mmean\u001b[39;49m\u001b[38;5;124;43m'\u001b[39;49m\u001b[43m,\u001b[49m\u001b[43m  \u001b[49m\u001b[38;5;66;43;03m# Average posts per author\u001b[39;49;00m\n\u001b[0;32m     14\u001b[0m \u001b[43m    \u001b[49m\u001b[38;5;124;43m'\u001b[39;49m\u001b[38;5;124;43mtotal_length\u001b[39;49m\u001b[38;5;124;43m'\u001b[39;49m\u001b[43m:\u001b[49m\u001b[43m \u001b[49m\u001b[38;5;124;43m'\u001b[39;49m\u001b[38;5;124;43mmean\u001b[39;49m\u001b[38;5;124;43m'\u001b[39;49m\u001b[43m,\u001b[49m\n\u001b[0;32m     15\u001b[0m \u001b[43m    \u001b[49m\u001b[38;5;124;43m'\u001b[39;49m\u001b[38;5;124;43mtimestamp\u001b[39;49m\u001b[38;5;124;43m'\u001b[39;49m\u001b[43m:\u001b[49m\u001b[43m \u001b[49m\u001b[38;5;124;43m'\u001b[39;49m\u001b[38;5;124;43mcount\u001b[39;49m\u001b[38;5;124;43m'\u001b[39;49m\u001b[43m  \u001b[49m\u001b[38;5;66;43;03m# Post volume\u001b[39;49;00m\n\u001b[0;32m     16\u001b[0m \u001b[43m\u001b[49m\u001b[43m}\u001b[49m\u001b[43m)\u001b[49m\u001b[38;5;241m.\u001b[39mround(\u001b[38;5;241m4\u001b[39m)\n\u001b[0;32m     18\u001b[0m \u001b[38;5;66;03m# Flatten column names\u001b[39;00m\n\u001b[0;32m     19\u001b[0m hourly_agg\u001b[38;5;241m.\u001b[39mcolumns \u001b[38;5;241m=\u001b[39m [\u001b[38;5;124mf\u001b[39m\u001b[38;5;124m'\u001b[39m\u001b[38;5;132;01m{\u001b[39;00mcol[\u001b[38;5;241m0\u001b[39m]\u001b[38;5;132;01m}\u001b[39;00m\u001b[38;5;124m_\u001b[39m\u001b[38;5;132;01m{\u001b[39;00mcol[\u001b[38;5;241m1\u001b[39m]\u001b[38;5;132;01m}\u001b[39;00m\u001b[38;5;124m'\u001b[39m \u001b[38;5;28;01mif\u001b[39;00m col[\u001b[38;5;241m1\u001b[39m] \u001b[38;5;28;01melse\u001b[39;00m col[\u001b[38;5;241m0\u001b[39m] \n\u001b[0;32m     20\u001b[0m                      \u001b[38;5;28;01mfor\u001b[39;00m col \u001b[38;5;129;01min\u001b[39;00m hourly_agg\u001b[38;5;241m.\u001b[39mcolumns]\n",
      "File \u001b[1;32mc:\\Users\\krishnadas\\anaconda3\\Lib\\site-packages\\pandas\\core\\groupby\\generic.py:1269\u001b[0m, in \u001b[0;36mDataFrameGroupBy.aggregate\u001b[1;34m(self, func, engine, engine_kwargs, *args, **kwargs)\u001b[0m\n\u001b[0;32m   1266\u001b[0m func \u001b[38;5;241m=\u001b[39m maybe_mangle_lambdas(func)\n\u001b[0;32m   1268\u001b[0m op \u001b[38;5;241m=\u001b[39m GroupByApply(\u001b[38;5;28mself\u001b[39m, func, args, kwargs)\n\u001b[1;32m-> 1269\u001b[0m result \u001b[38;5;241m=\u001b[39m \u001b[43mop\u001b[49m\u001b[38;5;241;43m.\u001b[39;49m\u001b[43magg\u001b[49m\u001b[43m(\u001b[49m\u001b[43m)\u001b[49m\n\u001b[0;32m   1270\u001b[0m \u001b[38;5;28;01mif\u001b[39;00m \u001b[38;5;129;01mnot\u001b[39;00m is_dict_like(func) \u001b[38;5;129;01mand\u001b[39;00m result \u001b[38;5;129;01mis\u001b[39;00m \u001b[38;5;129;01mnot\u001b[39;00m \u001b[38;5;28;01mNone\u001b[39;00m:\n\u001b[0;32m   1271\u001b[0m     \u001b[38;5;28;01mreturn\u001b[39;00m result\n",
      "File \u001b[1;32mc:\\Users\\krishnadas\\anaconda3\\Lib\\site-packages\\pandas\\core\\apply.py:163\u001b[0m, in \u001b[0;36mApply.agg\u001b[1;34m(self)\u001b[0m\n\u001b[0;32m    160\u001b[0m     \u001b[38;5;28;01mreturn\u001b[39;00m \u001b[38;5;28mself\u001b[39m\u001b[38;5;241m.\u001b[39mapply_str()\n\u001b[0;32m    162\u001b[0m \u001b[38;5;28;01mif\u001b[39;00m is_dict_like(arg):\n\u001b[1;32m--> 163\u001b[0m     \u001b[38;5;28;01mreturn\u001b[39;00m \u001b[38;5;28;43mself\u001b[39;49m\u001b[38;5;241;43m.\u001b[39;49m\u001b[43magg_dict_like\u001b[49m\u001b[43m(\u001b[49m\u001b[43m)\u001b[49m\n\u001b[0;32m    164\u001b[0m \u001b[38;5;28;01melif\u001b[39;00m is_list_like(arg):\n\u001b[0;32m    165\u001b[0m     \u001b[38;5;66;03m# we require a list, but not a 'str'\u001b[39;00m\n\u001b[0;32m    166\u001b[0m     \u001b[38;5;28;01mreturn\u001b[39;00m \u001b[38;5;28mself\u001b[39m\u001b[38;5;241m.\u001b[39magg_list_like()\n",
      "File \u001b[1;32mc:\\Users\\krishnadas\\anaconda3\\Lib\\site-packages\\pandas\\core\\apply.py:403\u001b[0m, in \u001b[0;36mApply.agg_dict_like\u001b[1;34m(self)\u001b[0m\n\u001b[0;32m    400\u001b[0m     selected_obj \u001b[38;5;241m=\u001b[39m obj\u001b[38;5;241m.\u001b[39m_selected_obj\n\u001b[0;32m    401\u001b[0m     selection \u001b[38;5;241m=\u001b[39m obj\u001b[38;5;241m.\u001b[39m_selection\n\u001b[1;32m--> 403\u001b[0m arg \u001b[38;5;241m=\u001b[39m \u001b[38;5;28;43mself\u001b[39;49m\u001b[38;5;241;43m.\u001b[39;49m\u001b[43mnormalize_dictlike_arg\u001b[49m\u001b[43m(\u001b[49m\u001b[38;5;124;43m\"\u001b[39;49m\u001b[38;5;124;43magg\u001b[39;49m\u001b[38;5;124;43m\"\u001b[39;49m\u001b[43m,\u001b[49m\u001b[43m \u001b[49m\u001b[43mselected_obj\u001b[49m\u001b[43m,\u001b[49m\u001b[43m \u001b[49m\u001b[43marg\u001b[49m\u001b[43m)\u001b[49m\n\u001b[0;32m    405\u001b[0m is_groupby \u001b[38;5;241m=\u001b[39m \u001b[38;5;28misinstance\u001b[39m(obj, (DataFrameGroupBy, SeriesGroupBy))\n\u001b[0;32m    406\u001b[0m context_manager: ContextManager\n",
      "File \u001b[1;32mc:\\Users\\krishnadas\\anaconda3\\Lib\\site-packages\\pandas\\core\\apply.py:535\u001b[0m, in \u001b[0;36mApply.normalize_dictlike_arg\u001b[1;34m(self, how, obj, func)\u001b[0m\n\u001b[0;32m    533\u001b[0m     \u001b[38;5;28;01mif\u001b[39;00m \u001b[38;5;28mlen\u001b[39m(cols) \u001b[38;5;241m>\u001b[39m \u001b[38;5;241m0\u001b[39m:\n\u001b[0;32m    534\u001b[0m         cols_sorted \u001b[38;5;241m=\u001b[39m \u001b[38;5;28mlist\u001b[39m(safe_sort(\u001b[38;5;28mlist\u001b[39m(cols)))\n\u001b[1;32m--> 535\u001b[0m         \u001b[38;5;28;01mraise\u001b[39;00m \u001b[38;5;167;01mKeyError\u001b[39;00m(\u001b[38;5;124mf\u001b[39m\u001b[38;5;124m\"\u001b[39m\u001b[38;5;124mColumn(s) \u001b[39m\u001b[38;5;132;01m{\u001b[39;00mcols_sorted\u001b[38;5;132;01m}\u001b[39;00m\u001b[38;5;124m do not exist\u001b[39m\u001b[38;5;124m\"\u001b[39m)\n\u001b[0;32m    537\u001b[0m aggregator_types \u001b[38;5;241m=\u001b[39m (\u001b[38;5;28mlist\u001b[39m, \u001b[38;5;28mtuple\u001b[39m, \u001b[38;5;28mdict\u001b[39m)\n\u001b[0;32m    539\u001b[0m \u001b[38;5;66;03m# if we have a dict of any non-scalars\u001b[39;00m\n\u001b[0;32m    540\u001b[0m \u001b[38;5;66;03m# eg. {'A' : ['mean']}, normalize all to\u001b[39;00m\n\u001b[0;32m    541\u001b[0m \u001b[38;5;66;03m# be list-likes\u001b[39;00m\n\u001b[0;32m    542\u001b[0m \u001b[38;5;66;03m# Cannot use func.values() because arg may be a Series\u001b[39;00m\n",
      "\u001b[1;31mKeyError\u001b[0m: \"Column(s) ['author', 'author_post_count'] do not exist\""
     ]
    }
   ],
   "source": [
    "\"\"\"Create features at different time scales\"\"\"\n",
    "\n",
    "# Level 1: Hourly aggregation\n",
    "hourly_features = _aggregate_to_hourly(df)\n",
    "\n",
    "# Level 2: Daily aggregation\n",
    "daily_features = _aggregate_to_daily(hourly_features)\n",
    "\n",
    "# Level 3: Weekly aggregation (for longer patterns)\n",
    "weekly_features = _aggregate_to_weekly(daily_features)"
   ]
  },
  {
   "cell_type": "code",
   "execution_count": null,
   "id": "53ec8334",
   "metadata": {},
   "outputs": [],
   "source": []
  }
 ],
 "metadata": {
  "kernelspec": {
   "display_name": "base",
   "language": "python",
   "name": "python3"
  },
  "language_info": {
   "codemirror_mode": {
    "name": "ipython",
    "version": 3
   },
   "file_extension": ".py",
   "mimetype": "text/x-python",
   "name": "python",
   "nbconvert_exporter": "python",
   "pygments_lexer": "ipython3",
   "version": "3.11.5"
  }
 },
 "nbformat": 4,
 "nbformat_minor": 5
}
