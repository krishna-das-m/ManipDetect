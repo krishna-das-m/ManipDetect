{
 "cells": [
  {
   "cell_type": "markdown",
   "id": "17514214",
   "metadata": {},
   "source": [
    "### Libraries"
   ]
  },
  {
   "cell_type": "code",
   "execution_count": 16,
   "id": "54f00a0a",
   "metadata": {},
   "outputs": [],
   "source": [
    "from dotenv import load_dotenv\n",
    "import os\n",
    "import neptune\n",
    "import praw\n",
    "from datetime import datetime, timedelta, timezone\n",
    "import json\n",
    "import time\n",
    "import pandas as pd\n",
    "from tqdm import tqdm\n",
    "import regex as re\n",
    "\n",
    "# for text processing\n",
    "from sklearn.feature_extraction.text import TfidfVectorizer\n",
    "from sklearn.metrics.pairwise import cosine_similarity\n",
    "import re\n",
    "from textblob import TextBlob\n",
    "\n",
    "from pathlib import Path\n",
    "Root = Path('.').absolute().parent\n",
    "SCRIPTS = Root / r'scripts'\n",
    "# SCRIPTS = Root / r'C:\\Users\\Admin\\Projects\\ML Projects\\ManipDetect\\research\\scripts'\n",
    "DATA = Root/ r'C:\\Users\\krishnadas\\Projects\\ML Projects\\ManipDetect\\data'"
   ]
  },
  {
   "cell_type": "code",
   "execution_count": 2,
   "id": "f9e11ac3",
   "metadata": {},
   "outputs": [
    {
     "data": {
      "application/vnd.microsoft.datawrangler.viewer.v0+json": {
       "columns": [
        {
         "name": "index",
         "rawType": "int64",
         "type": "integer"
        },
        {
         "name": "id",
         "rawType": "object",
         "type": "string"
        },
        {
         "name": "author",
         "rawType": "object",
         "type": "string"
        },
        {
         "name": "created",
         "rawType": "object",
         "type": "string"
        },
        {
         "name": "retrieved",
         "rawType": "object",
         "type": "string"
        },
        {
         "name": "edited",
         "rawType": "object",
         "type": "string"
        },
        {
         "name": "pinned",
         "rawType": "int64",
         "type": "integer"
        },
        {
         "name": "archived",
         "rawType": "int64",
         "type": "integer"
        },
        {
         "name": "locked",
         "rawType": "int64",
         "type": "integer"
        },
        {
         "name": "removed",
         "rawType": "int64",
         "type": "integer"
        },
        {
         "name": "deleted",
         "rawType": "int64",
         "type": "integer"
        },
        {
         "name": "is_self",
         "rawType": "int64",
         "type": "integer"
        },
        {
         "name": "is_video",
         "rawType": "int64",
         "type": "integer"
        },
        {
         "name": "is_original_content",
         "rawType": "int64",
         "type": "integer"
        },
        {
         "name": "title",
         "rawType": "object",
         "type": "string"
        },
        {
         "name": "link_flair_text",
         "rawType": "object",
         "type": "unknown"
        },
        {
         "name": "upvote_ratio",
         "rawType": "float64",
         "type": "float"
        },
        {
         "name": "score",
         "rawType": "int64",
         "type": "integer"
        },
        {
         "name": "gilded",
         "rawType": "int64",
         "type": "integer"
        },
        {
         "name": "total_awards_received",
         "rawType": "int64",
         "type": "integer"
        },
        {
         "name": "num_comments",
         "rawType": "int64",
         "type": "integer"
        },
        {
         "name": "num_crossposts",
         "rawType": "int64",
         "type": "integer"
        },
        {
         "name": "selftext",
         "rawType": "object",
         "type": "unknown"
        },
        {
         "name": "thumbnail",
         "rawType": "object",
         "type": "string"
        },
        {
         "name": "shortlink",
         "rawType": "object",
         "type": "string"
        }
       ],
       "ref": "1d5a187e-adfe-437a-b8dd-04c11b22528b",
       "rows": [
        [
         "0",
         "ko124i",
         "[deleted]",
         "2021-01-01 00:02:06",
         "2021-02-02 21:52:13",
         "1970-01-01 00:00:00",
         "0",
         "0",
         "0",
         "1",
         "1",
         "1",
         "0",
         "0",
         "3k - 170k since March (Also, buy LIT!!)",
         "Gain",
         "1.0",
         "34",
         "0",
         "1",
         "14",
         "0",
         "[deleted]",
         "default",
         "https://redd.it/ko124i"
        ],
        [
         "1",
         "ko12uq",
         "[deleted]",
         "2021-01-01 00:03:20",
         "2021-02-02 21:52:13",
         "1970-01-01 00:00:00",
         "0",
         "0",
         "0",
         "1",
         "1",
         "0",
         "0",
         "0",
         "Got out of PLTR calls after learning about IV (thanks to wsb) and went into TSLA/FUTU calls. Ending 2020 with a small profit. Wishing everyone more tendies going into 2021 and a happy new year fam.",
         "Gain",
         "1.0",
         "2",
         "0",
         "0",
         "0",
         "0",
         "[deleted]",
         "default",
         "https://redd.it/ko12uq"
        ],
        [
         "2",
         "ko13df",
         "[deleted]",
         "2021-01-01 00:04:11",
         "2021-02-02 21:52:13",
         "1970-01-01 00:00:00",
         "0",
         "0",
         "0",
         "1",
         "1",
         "0",
         "0",
         "0",
         "Hell of a headline",
         "Meme",
         "0.88",
         "13",
         "0",
         "0",
         "7",
         "0",
         "[deleted]",
         "default",
         "https://redd.it/ko13df"
        ],
        [
         "3",
         "ko17yf",
         "shirotimatim",
         "2021-01-01 00:11:51",
         "2021-02-02 21:52:13",
         "1970-01-01 00:00:00",
         "0",
         "0",
         "0",
         "0",
         "0",
         "0",
         "0",
         "0",
         "Top popular stocks on WSB too! Also, why they didn’t give my boy PLTR a fucking percentage??",
         "News",
         "0.92",
         "183",
         "0",
         "0",
         "26",
         "0",
         null,
         "https://b.thumbs.redditmedia.com/LmWdNB0W1qHT01I3_5FUbCExoPd_kZ7-4CwkwIqlRzk.jpg",
         "https://redd.it/ko17yf"
        ],
        [
         "4",
         "ko1a4i",
         "WSBVoteBot",
         "2021-01-01 00:15:38",
         "2021-02-02 21:52:13",
         "1970-01-01 00:00:00",
         "0",
         "0",
         "0",
         "0",
         "0",
         "1",
         "0",
         "0",
         "WSBVoteBot Log for Jan 01 2021",
         null,
         "0.5",
         "0",
         "0",
         "0",
         "19",
         "0",
         "Every time a new submission is posted to wallstreetbets /u/wsbvotebot posts a comment that allows you to click and vote to remove that submission. This is the log of volunteer moderators actions which you can vote to reverse. [Check the leaderboard](https://www.reddit.com/r/wallstreetbets/wiki/leaderboard) to see who is doing the most to keep /r/wallstreetbets great.\n\nUser commentary as replies to the messages below are encouraged. Report bugs to /u/zjz.",
         "self",
         "https://redd.it/ko1a4i"
        ]
       ],
       "shape": {
        "columns": 24,
        "rows": 5
       }
      },
      "text/html": [
       "<div>\n",
       "<style scoped>\n",
       "    .dataframe tbody tr th:only-of-type {\n",
       "        vertical-align: middle;\n",
       "    }\n",
       "\n",
       "    .dataframe tbody tr th {\n",
       "        vertical-align: top;\n",
       "    }\n",
       "\n",
       "    .dataframe thead th {\n",
       "        text-align: right;\n",
       "    }\n",
       "</style>\n",
       "<table border=\"1\" class=\"dataframe\">\n",
       "  <thead>\n",
       "    <tr style=\"text-align: right;\">\n",
       "      <th></th>\n",
       "      <th>id</th>\n",
       "      <th>author</th>\n",
       "      <th>created</th>\n",
       "      <th>retrieved</th>\n",
       "      <th>edited</th>\n",
       "      <th>pinned</th>\n",
       "      <th>archived</th>\n",
       "      <th>locked</th>\n",
       "      <th>removed</th>\n",
       "      <th>deleted</th>\n",
       "      <th>...</th>\n",
       "      <th>link_flair_text</th>\n",
       "      <th>upvote_ratio</th>\n",
       "      <th>score</th>\n",
       "      <th>gilded</th>\n",
       "      <th>total_awards_received</th>\n",
       "      <th>num_comments</th>\n",
       "      <th>num_crossposts</th>\n",
       "      <th>selftext</th>\n",
       "      <th>thumbnail</th>\n",
       "      <th>shortlink</th>\n",
       "    </tr>\n",
       "  </thead>\n",
       "  <tbody>\n",
       "    <tr>\n",
       "      <th>0</th>\n",
       "      <td>ko124i</td>\n",
       "      <td>[deleted]</td>\n",
       "      <td>2021-01-01 00:02:06</td>\n",
       "      <td>2021-02-02 21:52:13</td>\n",
       "      <td>1970-01-01 00:00:00</td>\n",
       "      <td>0</td>\n",
       "      <td>0</td>\n",
       "      <td>0</td>\n",
       "      <td>1</td>\n",
       "      <td>1</td>\n",
       "      <td>...</td>\n",
       "      <td>Gain</td>\n",
       "      <td>1.00</td>\n",
       "      <td>34</td>\n",
       "      <td>0</td>\n",
       "      <td>1</td>\n",
       "      <td>14</td>\n",
       "      <td>0</td>\n",
       "      <td>[deleted]</td>\n",
       "      <td>default</td>\n",
       "      <td>https://redd.it/ko124i</td>\n",
       "    </tr>\n",
       "    <tr>\n",
       "      <th>1</th>\n",
       "      <td>ko12uq</td>\n",
       "      <td>[deleted]</td>\n",
       "      <td>2021-01-01 00:03:20</td>\n",
       "      <td>2021-02-02 21:52:13</td>\n",
       "      <td>1970-01-01 00:00:00</td>\n",
       "      <td>0</td>\n",
       "      <td>0</td>\n",
       "      <td>0</td>\n",
       "      <td>1</td>\n",
       "      <td>1</td>\n",
       "      <td>...</td>\n",
       "      <td>Gain</td>\n",
       "      <td>1.00</td>\n",
       "      <td>2</td>\n",
       "      <td>0</td>\n",
       "      <td>0</td>\n",
       "      <td>0</td>\n",
       "      <td>0</td>\n",
       "      <td>[deleted]</td>\n",
       "      <td>default</td>\n",
       "      <td>https://redd.it/ko12uq</td>\n",
       "    </tr>\n",
       "    <tr>\n",
       "      <th>2</th>\n",
       "      <td>ko13df</td>\n",
       "      <td>[deleted]</td>\n",
       "      <td>2021-01-01 00:04:11</td>\n",
       "      <td>2021-02-02 21:52:13</td>\n",
       "      <td>1970-01-01 00:00:00</td>\n",
       "      <td>0</td>\n",
       "      <td>0</td>\n",
       "      <td>0</td>\n",
       "      <td>1</td>\n",
       "      <td>1</td>\n",
       "      <td>...</td>\n",
       "      <td>Meme</td>\n",
       "      <td>0.88</td>\n",
       "      <td>13</td>\n",
       "      <td>0</td>\n",
       "      <td>0</td>\n",
       "      <td>7</td>\n",
       "      <td>0</td>\n",
       "      <td>[deleted]</td>\n",
       "      <td>default</td>\n",
       "      <td>https://redd.it/ko13df</td>\n",
       "    </tr>\n",
       "    <tr>\n",
       "      <th>3</th>\n",
       "      <td>ko17yf</td>\n",
       "      <td>shirotimatim</td>\n",
       "      <td>2021-01-01 00:11:51</td>\n",
       "      <td>2021-02-02 21:52:13</td>\n",
       "      <td>1970-01-01 00:00:00</td>\n",
       "      <td>0</td>\n",
       "      <td>0</td>\n",
       "      <td>0</td>\n",
       "      <td>0</td>\n",
       "      <td>0</td>\n",
       "      <td>...</td>\n",
       "      <td>News</td>\n",
       "      <td>0.92</td>\n",
       "      <td>183</td>\n",
       "      <td>0</td>\n",
       "      <td>0</td>\n",
       "      <td>26</td>\n",
       "      <td>0</td>\n",
       "      <td>NaN</td>\n",
       "      <td>https://b.thumbs.redditmedia.com/LmWdNB0W1qHT0...</td>\n",
       "      <td>https://redd.it/ko17yf</td>\n",
       "    </tr>\n",
       "    <tr>\n",
       "      <th>4</th>\n",
       "      <td>ko1a4i</td>\n",
       "      <td>WSBVoteBot</td>\n",
       "      <td>2021-01-01 00:15:38</td>\n",
       "      <td>2021-02-02 21:52:13</td>\n",
       "      <td>1970-01-01 00:00:00</td>\n",
       "      <td>0</td>\n",
       "      <td>0</td>\n",
       "      <td>0</td>\n",
       "      <td>0</td>\n",
       "      <td>0</td>\n",
       "      <td>...</td>\n",
       "      <td>NaN</td>\n",
       "      <td>0.50</td>\n",
       "      <td>0</td>\n",
       "      <td>0</td>\n",
       "      <td>0</td>\n",
       "      <td>19</td>\n",
       "      <td>0</td>\n",
       "      <td>Every time a new submission is posted to walls...</td>\n",
       "      <td>self</td>\n",
       "      <td>https://redd.it/ko1a4i</td>\n",
       "    </tr>\n",
       "  </tbody>\n",
       "</table>\n",
       "<p>5 rows × 24 columns</p>\n",
       "</div>"
      ],
      "text/plain": [
       "       id        author              created            retrieved  \\\n",
       "0  ko124i     [deleted]  2021-01-01 00:02:06  2021-02-02 21:52:13   \n",
       "1  ko12uq     [deleted]  2021-01-01 00:03:20  2021-02-02 21:52:13   \n",
       "2  ko13df     [deleted]  2021-01-01 00:04:11  2021-02-02 21:52:13   \n",
       "3  ko17yf  shirotimatim  2021-01-01 00:11:51  2021-02-02 21:52:13   \n",
       "4  ko1a4i    WSBVoteBot  2021-01-01 00:15:38  2021-02-02 21:52:13   \n",
       "\n",
       "                edited  pinned  archived  locked  removed  deleted  ...  \\\n",
       "0  1970-01-01 00:00:00       0         0       0        1        1  ...   \n",
       "1  1970-01-01 00:00:00       0         0       0        1        1  ...   \n",
       "2  1970-01-01 00:00:00       0         0       0        1        1  ...   \n",
       "3  1970-01-01 00:00:00       0         0       0        0        0  ...   \n",
       "4  1970-01-01 00:00:00       0         0       0        0        0  ...   \n",
       "\n",
       "   link_flair_text  upvote_ratio  score gilded total_awards_received  \\\n",
       "0             Gain          1.00     34      0                     1   \n",
       "1             Gain          1.00      2      0                     0   \n",
       "2             Meme          0.88     13      0                     0   \n",
       "3             News          0.92    183      0                     0   \n",
       "4              NaN          0.50      0      0                     0   \n",
       "\n",
       "   num_comments  num_crossposts  \\\n",
       "0            14               0   \n",
       "1             0               0   \n",
       "2             7               0   \n",
       "3            26               0   \n",
       "4            19               0   \n",
       "\n",
       "                                            selftext  \\\n",
       "0                                          [deleted]   \n",
       "1                                          [deleted]   \n",
       "2                                          [deleted]   \n",
       "3                                                NaN   \n",
       "4  Every time a new submission is posted to walls...   \n",
       "\n",
       "                                           thumbnail               shortlink  \n",
       "0                                            default  https://redd.it/ko124i  \n",
       "1                                            default  https://redd.it/ko12uq  \n",
       "2                                            default  https://redd.it/ko13df  \n",
       "3  https://b.thumbs.redditmedia.com/LmWdNB0W1qHT0...  https://redd.it/ko17yf  \n",
       "4                                               self  https://redd.it/ko1a4i  \n",
       "\n",
       "[5 rows x 24 columns]"
      ]
     },
     "execution_count": 2,
     "metadata": {},
     "output_type": "execute_result"
    }
   ],
   "source": [
    "df = pd.read_csv(DATA / 'submissions_reddit.csv.zip', compression='zip')\n",
    "df.head()"
   ]
  },
  {
   "cell_type": "code",
   "execution_count": 3,
   "id": "98b0112b",
   "metadata": {},
   "outputs": [
    {
     "data": {
      "application/vnd.microsoft.datawrangler.viewer.v0+json": {
       "columns": [
        {
         "name": "author",
         "rawType": "object",
         "type": "string"
        },
        {
         "name": "count",
         "rawType": "int64",
         "type": "integer"
        }
       ],
       "ref": "23ce0f42-2d0b-4378-a2a0-1675af8f5083",
       "rows": [
        [
         "[deleted]",
         "140686"
        ],
        [
         "Onboarding92",
         "785"
        ],
        [
         "OPINION_IS_UNPOPULAR",
         "630"
        ],
        [
         "RealPennyMuncher",
         "204"
        ],
        [
         "Janto_2021",
         "196"
        ],
        [
         "DrioMarqui",
         "185"
        ],
        [
         "dailystockalert",
         "170"
        ],
        [
         "Starlight-786",
         "166"
        ],
        [
         "VisualMod",
         "161"
        ],
        [
         "pdwp90",
         "157"
        ]
       ],
       "shape": {
        "columns": 1,
        "rows": 10
       }
      },
      "text/plain": [
       "author\n",
       "[deleted]               140686\n",
       "Onboarding92               785\n",
       "OPINION_IS_UNPOPULAR       630\n",
       "RealPennyMuncher           204\n",
       "Janto_2021                 196\n",
       "DrioMarqui                 185\n",
       "dailystockalert            170\n",
       "Starlight-786              166\n",
       "VisualMod                  161\n",
       "pdwp90                     157\n",
       "Name: count, dtype: int64"
      ]
     },
     "execution_count": 3,
     "metadata": {},
     "output_type": "execute_result"
    }
   ],
   "source": [
    "df['author'].value_counts().head(10)\n",
    "# df['created_utc'] = pd.to_datetime(df['created'])"
   ]
  },
  {
   "cell_type": "code",
   "execution_count": 4,
   "id": "482f0e80",
   "metadata": {},
   "outputs": [],
   "source": [
    "# Convert created column to datetime if it's not already\n",
    "df_wsb = df.copy()\n",
    "df_wsb['created'] = pd.to_datetime(df_wsb['created'])"
   ]
  },
  {
   "cell_type": "code",
   "execution_count": 5,
   "id": "062a84bf",
   "metadata": {},
   "outputs": [],
   "source": [
    "\"\"\"\n",
    "Initialize with known manipulation periods for labeling\n",
    "\n",
    "manipulation_periods: list of tuples [(start_date, end_date), ...]\n",
    "Example: [('2021-01-13', '2021-01-15'), ('2021-01-25', '2021-01-28')]\n",
    "\"\"\"\n",
    "manipulation_periods = [\n",
    "    ('2021-01-13', '2021-01-15'),  # Initial coordination buildup\n",
    "    ('2021-01-25', '2021-01-28'),  # Peak manipulation period\n",
    "    ('2021-02-01', '2021-02-05')   # Sustained artificial activity\n",
    "]\n",
    "\n",
    "# Convert to datetime objects\n",
    "manipulation_periods = [\n",
    "    (pd.to_datetime(start), pd.to_datetime(end)) \n",
    "    for start, end in manipulation_periods\n",
    "]"
   ]
  },
  {
   "cell_type": "code",
   "execution_count": 6,
   "id": "2ad6d260",
   "metadata": {},
   "outputs": [],
   "source": [
    "# select authors from manipulation periods\n",
    "def select_authors_in_manipulation_periods(df, manipulation_periods):\n",
    "    authors = set()\n",
    "    for start, end in manipulation_periods:\n",
    "        mask = (df['created'] >= start) & (df['created'] <= end)\n",
    "        authors.update(df.loc[mask, 'author'].unique())\n",
    "    return authors\n",
    "\n",
    "selected_authors = select_authors_in_manipulation_periods(df_wsb, manipulation_periods)"
   ]
  },
  {
   "cell_type": "code",
   "execution_count": 7,
   "id": "ff804e45",
   "metadata": {},
   "outputs": [
    {
     "name": "stdout",
     "output_type": "stream",
     "text": [
      "Number of deleted authors in selected authors: 1\n"
     ]
    }
   ],
   "source": [
    "# check if the selected authors contain deleted\n",
    "deleted_authors = [authors for authors in selected_authors if authors == '[deleted]']\n",
    "deleted_authors_count = len(deleted_authors)\n",
    "print(f\"Number of deleted authors in selected authors: {deleted_authors_count}\")"
   ]
  },
  {
   "cell_type": "code",
   "execution_count": 8,
   "id": "9eebce51",
   "metadata": {},
   "outputs": [
    {
     "name": "stdout",
     "output_type": "stream",
     "text": [
      "<class 'pandas.core.frame.DataFrame'>\n",
      "RangeIndex: 775326 entries, 0 to 775325\n",
      "Data columns (total 24 columns):\n",
      " #   Column                 Non-Null Count   Dtype         \n",
      "---  ------                 --------------   -----         \n",
      " 0   id                     775326 non-null  object        \n",
      " 1   author                 775326 non-null  object        \n",
      " 2   created                775326 non-null  datetime64[ns]\n",
      " 3   retrieved              775326 non-null  object        \n",
      " 4   edited                 775326 non-null  object        \n",
      " 5   pinned                 775326 non-null  int64         \n",
      " 6   archived               775326 non-null  int64         \n",
      " 7   locked                 775326 non-null  int64         \n",
      " 8   removed                775326 non-null  int64         \n",
      " 9   deleted                775326 non-null  int64         \n",
      " 10  is_self                775326 non-null  int64         \n",
      " 11  is_video               775326 non-null  int64         \n",
      " 12  is_original_content    775326 non-null  int64         \n",
      " 13  title                  775322 non-null  object        \n",
      " 14  link_flair_text        762000 non-null  object        \n",
      " 15  upvote_ratio           775326 non-null  float64       \n",
      " 16  score                  775326 non-null  int64         \n",
      " 17  gilded                 775326 non-null  int64         \n",
      " 18  total_awards_received  775326 non-null  int64         \n",
      " 19  num_comments           775326 non-null  int64         \n",
      " 20  num_crossposts         775326 non-null  int64         \n",
      " 21  selftext               513412 non-null  object        \n",
      " 22  thumbnail              775326 non-null  object        \n",
      " 23  shortlink              775326 non-null  object        \n",
      "dtypes: datetime64[ns](1), float64(1), int64(13), object(9)\n",
      "memory usage: 142.0+ MB\n"
     ]
    }
   ],
   "source": [
    "df_wsb.info()"
   ]
  },
  {
   "cell_type": "code",
   "execution_count": 9,
   "id": "0a07ad23",
   "metadata": {},
   "outputs": [
    {
     "data": {
      "text/plain": [
       "Index(['id', 'author', 'created', 'retrieved', 'edited', 'pinned', 'archived',\n",
       "       'locked', 'removed', 'deleted', 'is_self', 'is_video',\n",
       "       'is_original_content', 'title', 'link_flair_text', 'upvote_ratio',\n",
       "       'score', 'gilded', 'total_awards_received', 'num_comments',\n",
       "       'num_crossposts', 'selftext', 'thumbnail', 'shortlink'],\n",
       "      dtype='object')"
      ]
     },
     "execution_count": 9,
     "metadata": {},
     "output_type": "execute_result"
    }
   ],
   "source": [
    "df_wsb.columns"
   ]
  },
  {
   "cell_type": "code",
   "execution_count": 10,
   "id": "4a1ffe89",
   "metadata": {},
   "outputs": [
    {
     "name": "stdout",
     "output_type": "stream",
     "text": [
      "Index(['id', 'author', 'created', 'removed', 'deleted', 'is_self', 'is_video',\n",
      "       'is_original_content', 'title', 'upvote_ratio', 'score', 'num_comments',\n",
      "       'selftext', 'shortlink'],\n",
      "      dtype='object')\n"
     ]
    },
    {
     "data": {
      "application/vnd.microsoft.datawrangler.viewer.v0+json": {
       "columns": [
        {
         "name": "index",
         "rawType": "int64",
         "type": "integer"
        },
        {
         "name": "id",
         "rawType": "object",
         "type": "string"
        },
        {
         "name": "author",
         "rawType": "object",
         "type": "string"
        },
        {
         "name": "created",
         "rawType": "datetime64[ns]",
         "type": "datetime"
        },
        {
         "name": "removed",
         "rawType": "int64",
         "type": "integer"
        },
        {
         "name": "deleted",
         "rawType": "int64",
         "type": "integer"
        },
        {
         "name": "is_self",
         "rawType": "int64",
         "type": "integer"
        },
        {
         "name": "is_video",
         "rawType": "int64",
         "type": "integer"
        },
        {
         "name": "is_original_content",
         "rawType": "int64",
         "type": "integer"
        },
        {
         "name": "title",
         "rawType": "object",
         "type": "string"
        },
        {
         "name": "upvote_ratio",
         "rawType": "float64",
         "type": "float"
        },
        {
         "name": "score",
         "rawType": "int64",
         "type": "integer"
        },
        {
         "name": "num_comments",
         "rawType": "int64",
         "type": "integer"
        },
        {
         "name": "selftext",
         "rawType": "object",
         "type": "unknown"
        },
        {
         "name": "shortlink",
         "rawType": "object",
         "type": "string"
        }
       ],
       "ref": "ea09e175-551c-4eab-b41d-cd3a53d3f808",
       "rows": [
        [
         "0",
         "ko124i",
         "[deleted]",
         "2021-01-01 00:02:06",
         "1",
         "1",
         "1",
         "0",
         "0",
         "3k - 170k since March (Also, buy LIT!!)",
         "1.0",
         "34",
         "14",
         "[deleted]",
         "https://redd.it/ko124i"
        ],
        [
         "1",
         "ko12uq",
         "[deleted]",
         "2021-01-01 00:03:20",
         "1",
         "1",
         "0",
         "0",
         "0",
         "Got out of PLTR calls after learning about IV (thanks to wsb) and went into TSLA/FUTU calls. Ending 2020 with a small profit. Wishing everyone more tendies going into 2021 and a happy new year fam.",
         "1.0",
         "2",
         "0",
         "[deleted]",
         "https://redd.it/ko12uq"
        ],
        [
         "2",
         "ko13df",
         "[deleted]",
         "2021-01-01 00:04:11",
         "1",
         "1",
         "0",
         "0",
         "0",
         "Hell of a headline",
         "0.88",
         "13",
         "7",
         "[deleted]",
         "https://redd.it/ko13df"
        ],
        [
         "3",
         "ko17yf",
         "shirotimatim",
         "2021-01-01 00:11:51",
         "0",
         "0",
         "0",
         "0",
         "0",
         "Top popular stocks on WSB too! Also, why they didn’t give my boy PLTR a fucking percentage??",
         "0.92",
         "183",
         "26",
         null,
         "https://redd.it/ko17yf"
        ],
        [
         "4",
         "ko1a4i",
         "WSBVoteBot",
         "2021-01-01 00:15:38",
         "0",
         "0",
         "1",
         "0",
         "0",
         "WSBVoteBot Log for Jan 01 2021",
         "0.5",
         "0",
         "19",
         "Every time a new submission is posted to wallstreetbets /u/wsbvotebot posts a comment that allows you to click and vote to remove that submission. This is the log of volunteer moderators actions which you can vote to reverse. [Check the leaderboard](https://www.reddit.com/r/wallstreetbets/wiki/leaderboard) to see who is doing the most to keep /r/wallstreetbets great.\n\nUser commentary as replies to the messages below are encouraged. Report bugs to /u/zjz.",
         "https://redd.it/ko1a4i"
        ]
       ],
       "shape": {
        "columns": 14,
        "rows": 5
       }
      },
      "text/html": [
       "<div>\n",
       "<style scoped>\n",
       "    .dataframe tbody tr th:only-of-type {\n",
       "        vertical-align: middle;\n",
       "    }\n",
       "\n",
       "    .dataframe tbody tr th {\n",
       "        vertical-align: top;\n",
       "    }\n",
       "\n",
       "    .dataframe thead th {\n",
       "        text-align: right;\n",
       "    }\n",
       "</style>\n",
       "<table border=\"1\" class=\"dataframe\">\n",
       "  <thead>\n",
       "    <tr style=\"text-align: right;\">\n",
       "      <th></th>\n",
       "      <th>id</th>\n",
       "      <th>author</th>\n",
       "      <th>created</th>\n",
       "      <th>removed</th>\n",
       "      <th>deleted</th>\n",
       "      <th>is_self</th>\n",
       "      <th>is_video</th>\n",
       "      <th>is_original_content</th>\n",
       "      <th>title</th>\n",
       "      <th>upvote_ratio</th>\n",
       "      <th>score</th>\n",
       "      <th>num_comments</th>\n",
       "      <th>selftext</th>\n",
       "      <th>shortlink</th>\n",
       "    </tr>\n",
       "  </thead>\n",
       "  <tbody>\n",
       "    <tr>\n",
       "      <th>0</th>\n",
       "      <td>ko124i</td>\n",
       "      <td>[deleted]</td>\n",
       "      <td>2021-01-01 00:02:06</td>\n",
       "      <td>1</td>\n",
       "      <td>1</td>\n",
       "      <td>1</td>\n",
       "      <td>0</td>\n",
       "      <td>0</td>\n",
       "      <td>3k - 170k since March (Also, buy LIT!!)</td>\n",
       "      <td>1.00</td>\n",
       "      <td>34</td>\n",
       "      <td>14</td>\n",
       "      <td>[deleted]</td>\n",
       "      <td>https://redd.it/ko124i</td>\n",
       "    </tr>\n",
       "    <tr>\n",
       "      <th>1</th>\n",
       "      <td>ko12uq</td>\n",
       "      <td>[deleted]</td>\n",
       "      <td>2021-01-01 00:03:20</td>\n",
       "      <td>1</td>\n",
       "      <td>1</td>\n",
       "      <td>0</td>\n",
       "      <td>0</td>\n",
       "      <td>0</td>\n",
       "      <td>Got out of PLTR calls after learning about IV ...</td>\n",
       "      <td>1.00</td>\n",
       "      <td>2</td>\n",
       "      <td>0</td>\n",
       "      <td>[deleted]</td>\n",
       "      <td>https://redd.it/ko12uq</td>\n",
       "    </tr>\n",
       "    <tr>\n",
       "      <th>2</th>\n",
       "      <td>ko13df</td>\n",
       "      <td>[deleted]</td>\n",
       "      <td>2021-01-01 00:04:11</td>\n",
       "      <td>1</td>\n",
       "      <td>1</td>\n",
       "      <td>0</td>\n",
       "      <td>0</td>\n",
       "      <td>0</td>\n",
       "      <td>Hell of a headline</td>\n",
       "      <td>0.88</td>\n",
       "      <td>13</td>\n",
       "      <td>7</td>\n",
       "      <td>[deleted]</td>\n",
       "      <td>https://redd.it/ko13df</td>\n",
       "    </tr>\n",
       "    <tr>\n",
       "      <th>3</th>\n",
       "      <td>ko17yf</td>\n",
       "      <td>shirotimatim</td>\n",
       "      <td>2021-01-01 00:11:51</td>\n",
       "      <td>0</td>\n",
       "      <td>0</td>\n",
       "      <td>0</td>\n",
       "      <td>0</td>\n",
       "      <td>0</td>\n",
       "      <td>Top popular stocks on WSB too! Also, why they ...</td>\n",
       "      <td>0.92</td>\n",
       "      <td>183</td>\n",
       "      <td>26</td>\n",
       "      <td>NaN</td>\n",
       "      <td>https://redd.it/ko17yf</td>\n",
       "    </tr>\n",
       "    <tr>\n",
       "      <th>4</th>\n",
       "      <td>ko1a4i</td>\n",
       "      <td>WSBVoteBot</td>\n",
       "      <td>2021-01-01 00:15:38</td>\n",
       "      <td>0</td>\n",
       "      <td>0</td>\n",
       "      <td>1</td>\n",
       "      <td>0</td>\n",
       "      <td>0</td>\n",
       "      <td>WSBVoteBot Log for Jan 01 2021</td>\n",
       "      <td>0.50</td>\n",
       "      <td>0</td>\n",
       "      <td>19</td>\n",
       "      <td>Every time a new submission is posted to walls...</td>\n",
       "      <td>https://redd.it/ko1a4i</td>\n",
       "    </tr>\n",
       "  </tbody>\n",
       "</table>\n",
       "</div>"
      ],
      "text/plain": [
       "       id        author             created  removed  deleted  is_self  \\\n",
       "0  ko124i     [deleted] 2021-01-01 00:02:06        1        1        1   \n",
       "1  ko12uq     [deleted] 2021-01-01 00:03:20        1        1        0   \n",
       "2  ko13df     [deleted] 2021-01-01 00:04:11        1        1        0   \n",
       "3  ko17yf  shirotimatim 2021-01-01 00:11:51        0        0        0   \n",
       "4  ko1a4i    WSBVoteBot 2021-01-01 00:15:38        0        0        1   \n",
       "\n",
       "   is_video  is_original_content  \\\n",
       "0         0                    0   \n",
       "1         0                    0   \n",
       "2         0                    0   \n",
       "3         0                    0   \n",
       "4         0                    0   \n",
       "\n",
       "                                               title  upvote_ratio  score  \\\n",
       "0            3k - 170k since March (Also, buy LIT!!)          1.00     34   \n",
       "1  Got out of PLTR calls after learning about IV ...          1.00      2   \n",
       "2                                 Hell of a headline          0.88     13   \n",
       "3  Top popular stocks on WSB too! Also, why they ...          0.92    183   \n",
       "4                     WSBVoteBot Log for Jan 01 2021          0.50      0   \n",
       "\n",
       "   num_comments                                           selftext  \\\n",
       "0            14                                          [deleted]   \n",
       "1             0                                          [deleted]   \n",
       "2             7                                          [deleted]   \n",
       "3            26                                                NaN   \n",
       "4            19  Every time a new submission is posted to walls...   \n",
       "\n",
       "                shortlink  \n",
       "0  https://redd.it/ko124i  \n",
       "1  https://redd.it/ko12uq  \n",
       "2  https://redd.it/ko13df  \n",
       "3  https://redd.it/ko17yf  \n",
       "4  https://redd.it/ko1a4i  "
      ]
     },
     "execution_count": 10,
     "metadata": {},
     "output_type": "execute_result"
    }
   ],
   "source": [
    "# remove unnecessary columns\n",
    "columns_to_remove = ['retrieved', 'edited', 'gilded', 'edited', 'pinned', 'archived','locked', 'total_awards_received',\n",
    "                    'num_crossposts', 'thumbnail', 'link_flair_text']\n",
    "df_wsb.drop(columns=columns_to_remove, inplace=True, errors='ignore')\n",
    "print(df_wsb.columns)\n",
    "df_wsb.head()"
   ]
  },
  {
   "cell_type": "code",
   "execution_count": null,
   "id": "79f3b141",
   "metadata": {},
   "outputs": [],
   "source": [
    "col_names_to_change = ['id', 'created', 'selftext', 'num_comments', 'shortlink']\n",
    "new_col_names = ['post id', 'timestamp', 'body', 'url']\n",
    "df_wsb.rename(columns=dict(zip(col_names_to_change, new_col_names)), inplace=True)"
   ]
  },
  {
   "cell_type": "code",
   "execution_count": 12,
   "id": "8016b5fe",
   "metadata": {},
   "outputs": [
    {
     "data": {
      "text/plain": [
       "(deleted\n",
       " 0    685664\n",
       " 1     89662\n",
       " Name: count, dtype: int64,\n",
       " removed\n",
       " 1    698970\n",
       " 0     76356\n",
       " Name: count, dtype: int64,\n",
       " is_original_content\n",
       " 0    760265\n",
       " 1     15061\n",
       " Name: count, dtype: int64)"
      ]
     },
     "execution_count": 12,
     "metadata": {},
     "output_type": "execute_result"
    }
   ],
   "source": [
    "df_wsb['deleted'].value_counts(), df_wsb['removed'].value_counts(), df_wsb['is_original_content'].value_counts()"
   ]
  },
  {
   "cell_type": "code",
   "execution_count": 13,
   "id": "356427e9",
   "metadata": {},
   "outputs": [],
   "source": [
    "def _clean_text(text):\n",
    "    \"\"\"Clean and normalize text data\"\"\"\n",
    "    if pd.isna(text):\n",
    "        return \"\"\n",
    "    \n",
    "    # Remove URLs\n",
    "    text = re.sub(r'http\\S+|www\\S+', '', text)\n",
    "    \n",
    "    # Remove special characters but keep spaces\n",
    "    text = re.sub(r'[^a-zA-Z0-9\\s]', ' ', text)\n",
    "    \n",
    "    # Remove extra whitespace\n",
    "    text = ' '.join(text.split())\n",
    "    \n",
    "    return text.lower()"
   ]
  },
  {
   "cell_type": "code",
   "execution_count": 14,
   "id": "6b5aae0c",
   "metadata": {},
   "outputs": [
    {
     "data": {
      "application/vnd.microsoft.datawrangler.viewer.v0+json": {
       "columns": [
        {
         "name": "index",
         "rawType": "int64",
         "type": "integer"
        },
        {
         "name": "post id",
         "rawType": "object",
         "type": "string"
        },
        {
         "name": "author",
         "rawType": "object",
         "type": "string"
        },
        {
         "name": "timestamp",
         "rawType": "datetime64[ns]",
         "type": "datetime"
        },
        {
         "name": "removed",
         "rawType": "int64",
         "type": "integer"
        },
        {
         "name": "deleted",
         "rawType": "int64",
         "type": "integer"
        },
        {
         "name": "is_self",
         "rawType": "int64",
         "type": "integer"
        },
        {
         "name": "is_video",
         "rawType": "int64",
         "type": "integer"
        },
        {
         "name": "is_original_content",
         "rawType": "int64",
         "type": "integer"
        },
        {
         "name": "title",
         "rawType": "object",
         "type": "string"
        },
        {
         "name": "upvote_ratio",
         "rawType": "float64",
         "type": "float"
        },
        {
         "name": "score",
         "rawType": "int64",
         "type": "integer"
        },
        {
         "name": "num_comments",
         "rawType": "int64",
         "type": "integer"
        },
        {
         "name": "body",
         "rawType": "object",
         "type": "unknown"
        },
        {
         "name": "url",
         "rawType": "object",
         "type": "string"
        },
        {
         "name": "is_gme",
         "rawType": "bool",
         "type": "boolean"
        },
        {
         "name": "title_clean",
         "rawType": "object",
         "type": "string"
        },
        {
         "name": "body_clean",
         "rawType": "object",
         "type": "string"
        },
        {
         "name": "combined_text",
         "rawType": "object",
         "type": "string"
        }
       ],
       "ref": "2efbafa6-a470-49a5-a9d6-d0bbfeba3c37",
       "rows": [
        [
         "5",
         "ko1bnp",
         "dluther93",
         "2021-01-01 00:18:03",
         "1",
         "0",
         "1",
         "0",
         "0",
         "What would make GME shorts win?",
         "1.0",
         "1",
         "0",
         "[removed]",
         "https://redd.it/ko1bnp",
         "True",
         "what would make gme shorts win",
         "removed",
         "what would make gme shorts win removed"
        ],
        [
         "12",
         "ko1kck",
         "[deleted]",
         "2021-01-01 00:32:49",
         "1",
         "1",
         "0",
         "0",
         "0",
         "Not sure how reliable a random comment in Cohens Tweet is but... it looks like GME shorts are fucked",
         "0.93",
         "80",
         "33",
         "[deleted]",
         "https://redd.it/ko1kck",
         "True",
         "not sure how reliable a random comment in cohens tweet is but it looks like gme shorts are fucked",
         "deleted",
         "not sure how reliable a random comment in cohens tweet is but it looks like gme shorts are fucked deleted"
        ],
        [
         "21",
         "ko1ttx",
         "WSBProfitProphet",
         "2021-01-01 00:49:32",
         "1",
         "0",
         "1",
         "0",
         "0",
         "🚀🚀🚀🚀How have we been so fucking blind? GME is literally the Rockets🚀🚀🚀🚀",
         "1.0",
         "1",
         "0",
         "[removed]",
         "https://redd.it/ko1ttx",
         "True",
         "how have we been so fucking blind gme is literally the rockets",
         "removed",
         "how have we been so fucking blind gme is literally the rockets removed"
        ],
        [
         "25",
         "ko1xxb",
         "WSBProfitProphet",
         "2021-01-01 00:56:35",
         "0",
         "0",
         "1",
         "0",
         "0",
         "GME is the Rockets 🚀🚀🚀🚀",
         "0.82",
         "57",
         "10",
         "Gamestop colors: Red, White and Black\n\nHouston Rockets colors: Red, White, and Black\n\nWhat state are both in? That's right. Texas.\n\nNow some of you retards with access to the internet might be fact-checking this, and see that Gamestop is in Grapevine, TX, which is closer to Dallas than Houston.\n\nBut look at the fucking game right now. What color jerseys are the Rockets wearing? Exactly. Blue, the same color as the Dallas Mavericks, and the Houston Oilers (who had red, white, and blue color schemes)\n\nTo make things more interesting, the sons of the guy who founded \"Babbages,\" which eventually became gamestop, got a deal on Shark Tank with non other than Mark Cuban, the owner of the Mavericks himself.\n\nNow if we take the R in \"Rockets\" and C in \"Cuban\", we get RC: Ryan Cohen.\n\nCheckmate liberals (and conservatives alike)\n\nEdit: Last thing. The Mavs, who normally wear blue, are wearing GREEN tonight. It's too obvious to miss at this point. \n\nTldr; Houston Rockets wearing blue tonight, signaling imminent GME 🚀🚀🚀🚀🚀🚀🚀🚀🚀🚀🚀🚀",
         "https://redd.it/ko1xxb",
         "True",
         "gme is the rockets",
         "gamestop colors red white and black houston rockets colors red white and black what state are both in that s right texas now some of you retards with access to the internet might be fact checking this and see that gamestop is in grapevine tx which is closer to dallas than houston but look at the fucking game right now what color jerseys are the rockets wearing exactly blue the same color as the dallas mavericks and the houston oilers who had red white and blue color schemes to make things more interesting the sons of the guy who founded babbages which eventually became gamestop got a deal on shark tank with non other than mark cuban the owner of the mavericks himself now if we take the r in rockets and c in cuban we get rc ryan cohen checkmate liberals and conservatives alike edit last thing the mavs who normally wear blue are wearing green tonight it s too obvious to miss at this point tldr houston rockets wearing blue tonight signaling imminent gme",
         "gme is the rockets gamestop colors red white and black houston rockets colors red white and black what state are both in that s right texas now some of you retards with access to the internet might be fact checking this and see that gamestop is in grapevine tx which is closer to dallas than houston but look at the fucking game right now what color jerseys are the rockets wearing exactly blue the same color as the dallas mavericks and the houston oilers who had red white and blue color schemes to make things more interesting the sons of the guy who founded babbages which eventually became gamestop got a deal on shark tank with non other than mark cuban the owner of the mavericks himself now if we take the r in rockets and c in cuban we get rc ryan cohen checkmate liberals and conservatives alike edit last thing the mavs who normally wear blue are wearing green tonight it s too obvious to miss at this point tldr houston rockets wearing blue tonight signaling imminent gme"
        ],
        [
         "26",
         "ko1zs3",
         "WhiskeySierra1984",
         "2021-01-01 00:59:55",
         "1",
         "0",
         "0",
         "0",
         "0",
         "Looked out the window of my PLTR/GME rocketship today while refuelling 🚀🚀🚀🚀🚀🚀🚀🚀🚀🚀🚀🚀🚀🚀🚀🚀🚀",
         "0.9",
         "75",
         "8",
         null,
         "https://redd.it/ko1zs3",
         "True",
         "looked out the window of my pltr gme rocketship today while refuelling",
         "",
         "looked out the window of my pltr gme rocketship today while refuelling "
        ]
       ],
       "shape": {
        "columns": 18,
        "rows": 5
       }
      },
      "text/html": [
       "<div>\n",
       "<style scoped>\n",
       "    .dataframe tbody tr th:only-of-type {\n",
       "        vertical-align: middle;\n",
       "    }\n",
       "\n",
       "    .dataframe tbody tr th {\n",
       "        vertical-align: top;\n",
       "    }\n",
       "\n",
       "    .dataframe thead th {\n",
       "        text-align: right;\n",
       "    }\n",
       "</style>\n",
       "<table border=\"1\" class=\"dataframe\">\n",
       "  <thead>\n",
       "    <tr style=\"text-align: right;\">\n",
       "      <th></th>\n",
       "      <th>post id</th>\n",
       "      <th>author</th>\n",
       "      <th>timestamp</th>\n",
       "      <th>removed</th>\n",
       "      <th>deleted</th>\n",
       "      <th>is_self</th>\n",
       "      <th>is_video</th>\n",
       "      <th>is_original_content</th>\n",
       "      <th>title</th>\n",
       "      <th>upvote_ratio</th>\n",
       "      <th>score</th>\n",
       "      <th>num_comments</th>\n",
       "      <th>body</th>\n",
       "      <th>url</th>\n",
       "      <th>is_gme</th>\n",
       "      <th>title_clean</th>\n",
       "      <th>body_clean</th>\n",
       "      <th>combined_text</th>\n",
       "    </tr>\n",
       "  </thead>\n",
       "  <tbody>\n",
       "    <tr>\n",
       "      <th>5</th>\n",
       "      <td>ko1bnp</td>\n",
       "      <td>dluther93</td>\n",
       "      <td>2021-01-01 00:18:03</td>\n",
       "      <td>1</td>\n",
       "      <td>0</td>\n",
       "      <td>1</td>\n",
       "      <td>0</td>\n",
       "      <td>0</td>\n",
       "      <td>What would make GME shorts win?</td>\n",
       "      <td>1.00</td>\n",
       "      <td>1</td>\n",
       "      <td>0</td>\n",
       "      <td>[removed]</td>\n",
       "      <td>https://redd.it/ko1bnp</td>\n",
       "      <td>True</td>\n",
       "      <td>what would make gme shorts win</td>\n",
       "      <td>removed</td>\n",
       "      <td>what would make gme shorts win removed</td>\n",
       "    </tr>\n",
       "    <tr>\n",
       "      <th>12</th>\n",
       "      <td>ko1kck</td>\n",
       "      <td>[deleted]</td>\n",
       "      <td>2021-01-01 00:32:49</td>\n",
       "      <td>1</td>\n",
       "      <td>1</td>\n",
       "      <td>0</td>\n",
       "      <td>0</td>\n",
       "      <td>0</td>\n",
       "      <td>Not sure how reliable a random comment in Cohe...</td>\n",
       "      <td>0.93</td>\n",
       "      <td>80</td>\n",
       "      <td>33</td>\n",
       "      <td>[deleted]</td>\n",
       "      <td>https://redd.it/ko1kck</td>\n",
       "      <td>True</td>\n",
       "      <td>not sure how reliable a random comment in cohe...</td>\n",
       "      <td>deleted</td>\n",
       "      <td>not sure how reliable a random comment in cohe...</td>\n",
       "    </tr>\n",
       "    <tr>\n",
       "      <th>21</th>\n",
       "      <td>ko1ttx</td>\n",
       "      <td>WSBProfitProphet</td>\n",
       "      <td>2021-01-01 00:49:32</td>\n",
       "      <td>1</td>\n",
       "      <td>0</td>\n",
       "      <td>1</td>\n",
       "      <td>0</td>\n",
       "      <td>0</td>\n",
       "      <td>🚀🚀🚀🚀How have we been so fucking blind? GME is ...</td>\n",
       "      <td>1.00</td>\n",
       "      <td>1</td>\n",
       "      <td>0</td>\n",
       "      <td>[removed]</td>\n",
       "      <td>https://redd.it/ko1ttx</td>\n",
       "      <td>True</td>\n",
       "      <td>how have we been so fucking blind gme is liter...</td>\n",
       "      <td>removed</td>\n",
       "      <td>how have we been so fucking blind gme is liter...</td>\n",
       "    </tr>\n",
       "    <tr>\n",
       "      <th>25</th>\n",
       "      <td>ko1xxb</td>\n",
       "      <td>WSBProfitProphet</td>\n",
       "      <td>2021-01-01 00:56:35</td>\n",
       "      <td>0</td>\n",
       "      <td>0</td>\n",
       "      <td>1</td>\n",
       "      <td>0</td>\n",
       "      <td>0</td>\n",
       "      <td>GME is the Rockets 🚀🚀🚀🚀</td>\n",
       "      <td>0.82</td>\n",
       "      <td>57</td>\n",
       "      <td>10</td>\n",
       "      <td>Gamestop colors: Red, White and Black\\n\\nHoust...</td>\n",
       "      <td>https://redd.it/ko1xxb</td>\n",
       "      <td>True</td>\n",
       "      <td>gme is the rockets</td>\n",
       "      <td>gamestop colors red white and black houston ro...</td>\n",
       "      <td>gme is the rockets gamestop colors red white a...</td>\n",
       "    </tr>\n",
       "    <tr>\n",
       "      <th>26</th>\n",
       "      <td>ko1zs3</td>\n",
       "      <td>WhiskeySierra1984</td>\n",
       "      <td>2021-01-01 00:59:55</td>\n",
       "      <td>1</td>\n",
       "      <td>0</td>\n",
       "      <td>0</td>\n",
       "      <td>0</td>\n",
       "      <td>0</td>\n",
       "      <td>Looked out the window of my PLTR/GME rocketshi...</td>\n",
       "      <td>0.90</td>\n",
       "      <td>75</td>\n",
       "      <td>8</td>\n",
       "      <td>NaN</td>\n",
       "      <td>https://redd.it/ko1zs3</td>\n",
       "      <td>True</td>\n",
       "      <td>looked out the window of my pltr gme rocketshi...</td>\n",
       "      <td></td>\n",
       "      <td>looked out the window of my pltr gme rocketshi...</td>\n",
       "    </tr>\n",
       "  </tbody>\n",
       "</table>\n",
       "</div>"
      ],
      "text/plain": [
       "   post id             author           timestamp  removed  deleted  is_self  \\\n",
       "5   ko1bnp          dluther93 2021-01-01 00:18:03        1        0        1   \n",
       "12  ko1kck          [deleted] 2021-01-01 00:32:49        1        1        0   \n",
       "21  ko1ttx   WSBProfitProphet 2021-01-01 00:49:32        1        0        1   \n",
       "25  ko1xxb   WSBProfitProphet 2021-01-01 00:56:35        0        0        1   \n",
       "26  ko1zs3  WhiskeySierra1984 2021-01-01 00:59:55        1        0        0   \n",
       "\n",
       "    is_video  is_original_content  \\\n",
       "5          0                    0   \n",
       "12         0                    0   \n",
       "21         0                    0   \n",
       "25         0                    0   \n",
       "26         0                    0   \n",
       "\n",
       "                                                title  upvote_ratio  score  \\\n",
       "5                     What would make GME shorts win?          1.00      1   \n",
       "12  Not sure how reliable a random comment in Cohe...          0.93     80   \n",
       "21  🚀🚀🚀🚀How have we been so fucking blind? GME is ...          1.00      1   \n",
       "25                            GME is the Rockets 🚀🚀🚀🚀          0.82     57   \n",
       "26  Looked out the window of my PLTR/GME rocketshi...          0.90     75   \n",
       "\n",
       "    num_comments                                               body  \\\n",
       "5              0                                          [removed]   \n",
       "12            33                                          [deleted]   \n",
       "21             0                                          [removed]   \n",
       "25            10  Gamestop colors: Red, White and Black\\n\\nHoust...   \n",
       "26             8                                                NaN   \n",
       "\n",
       "                       url  is_gme  \\\n",
       "5   https://redd.it/ko1bnp    True   \n",
       "12  https://redd.it/ko1kck    True   \n",
       "21  https://redd.it/ko1ttx    True   \n",
       "25  https://redd.it/ko1xxb    True   \n",
       "26  https://redd.it/ko1zs3    True   \n",
       "\n",
       "                                          title_clean  \\\n",
       "5                      what would make gme shorts win   \n",
       "12  not sure how reliable a random comment in cohe...   \n",
       "21  how have we been so fucking blind gme is liter...   \n",
       "25                                 gme is the rockets   \n",
       "26  looked out the window of my pltr gme rocketshi...   \n",
       "\n",
       "                                           body_clean  \\\n",
       "5                                             removed   \n",
       "12                                            deleted   \n",
       "21                                            removed   \n",
       "25  gamestop colors red white and black houston ro...   \n",
       "26                                                      \n",
       "\n",
       "                                        combined_text  \n",
       "5              what would make gme shorts win removed  \n",
       "12  not sure how reliable a random comment in cohe...  \n",
       "21  how have we been so fucking blind gme is liter...  \n",
       "25  gme is the rockets gamestop colors red white a...  \n",
       "26  looked out the window of my pltr gme rocketshi...  "
      ]
     },
     "execution_count": 14,
     "metadata": {},
     "output_type": "execute_result"
    }
   ],
   "source": [
    "\"\"\"Load Reddit data and perform initial cleaning\"\"\"\n",
    "\n",
    "# Convert timestamp to datetime\n",
    "df_wsb['timestamp'] = pd.to_datetime(df_wsb['timestamp'])\n",
    "\n",
    "# Filter for GameStop-related posts\n",
    "gme_keywords = ['GME', 'GameStop', 'Gamestop', 'GAMESTOP']\n",
    "df_wsb['is_gme'] = df_wsb['title'].str.contains('|'.join(gme_keywords), case=False, na=False) | \\\n",
    "                df_wsb['body'].str.contains('|'.join(gme_keywords), case=False, na=False)\n",
    "\n",
    "# Keep only GME-related posts\n",
    "df_wsb = df_wsb[df_wsb['is_gme']].copy()\n",
    "\n",
    "# Clean text data\n",
    "df_wsb['title_clean'] = df_wsb['title'].apply(_clean_text)\n",
    "df_wsb['body_clean'] = df_wsb['body'].fillna('').apply(_clean_text)\n",
    "df_wsb['combined_text'] = df_wsb['title_clean'] + ' ' + df_wsb['body_clean']\n",
    "\n",
    "df_wsb.sort_values('timestamp').reset_index(drop=True)\n",
    "df_wsb.head()\n"
   ]
  },
  {
   "cell_type": "code",
   "execution_count": 15,
   "id": "8ba91c28",
   "metadata": {},
   "outputs": [
    {
     "name": "stdout",
     "output_type": "stream",
     "text": [
      "<class 'pandas.core.frame.DataFrame'>\n",
      "Index: 107499 entries, 5 to 775258\n",
      "Data columns (total 18 columns):\n",
      " #   Column               Non-Null Count   Dtype         \n",
      "---  ------               --------------   -----         \n",
      " 0   post id              107499 non-null  object        \n",
      " 1   author               107499 non-null  object        \n",
      " 2   timestamp            107499 non-null  datetime64[ns]\n",
      " 3   removed              107499 non-null  int64         \n",
      " 4   deleted              107499 non-null  int64         \n",
      " 5   is_self              107499 non-null  int64         \n",
      " 6   is_video             107499 non-null  int64         \n",
      " 7   is_original_content  107499 non-null  int64         \n",
      " 8   title                107499 non-null  object        \n",
      " 9   upvote_ratio         107499 non-null  float64       \n",
      " 10  score                107499 non-null  int64         \n",
      " 11  num_comments         107499 non-null  int64         \n",
      " 12  body                 75958 non-null   object        \n",
      " 13  url                  107499 non-null  object        \n",
      " 14  is_gme               107499 non-null  bool          \n",
      " 15  title_clean          107499 non-null  object        \n",
      " 16  body_clean           107499 non-null  object        \n",
      " 17  combined_text        107499 non-null  object        \n",
      "dtypes: bool(1), datetime64[ns](1), float64(1), int64(7), object(8)\n",
      "memory usage: 14.9+ MB\n"
     ]
    }
   ],
   "source": [
    "df_wsb.info()"
   ]
  },
  {
   "cell_type": "code",
   "execution_count": 18,
   "id": "7578d746",
   "metadata": {},
   "outputs": [
    {
     "ename": "KeyError",
     "evalue": "'comms_num'",
     "output_type": "error",
     "traceback": [
      "\u001b[31m---------------------------------------------------------------------------\u001b[39m",
      "\u001b[31mKeyError\u001b[39m                                  Traceback (most recent call last)",
      "\u001b[36mFile \u001b[39m\u001b[32mc:\\Users\\krishnadas\\AppData\\Local\\Programs\\Python\\Python313\\Lib\\site-packages\\pandas\\core\\indexes\\base.py:3812\u001b[39m, in \u001b[36mIndex.get_loc\u001b[39m\u001b[34m(self, key)\u001b[39m\n\u001b[32m   3811\u001b[39m \u001b[38;5;28;01mtry\u001b[39;00m:\n\u001b[32m-> \u001b[39m\u001b[32m3812\u001b[39m     \u001b[38;5;28;01mreturn\u001b[39;00m \u001b[38;5;28;43mself\u001b[39;49m\u001b[43m.\u001b[49m\u001b[43m_engine\u001b[49m\u001b[43m.\u001b[49m\u001b[43mget_loc\u001b[49m\u001b[43m(\u001b[49m\u001b[43mcasted_key\u001b[49m\u001b[43m)\u001b[49m\n\u001b[32m   3813\u001b[39m \u001b[38;5;28;01mexcept\u001b[39;00m \u001b[38;5;167;01mKeyError\u001b[39;00m \u001b[38;5;28;01mas\u001b[39;00m err:\n",
      "\u001b[36mFile \u001b[39m\u001b[32mpandas/_libs/index.pyx:167\u001b[39m, in \u001b[36mpandas._libs.index.IndexEngine.get_loc\u001b[39m\u001b[34m()\u001b[39m\n",
      "\u001b[36mFile \u001b[39m\u001b[32mpandas/_libs/index.pyx:196\u001b[39m, in \u001b[36mpandas._libs.index.IndexEngine.get_loc\u001b[39m\u001b[34m()\u001b[39m\n",
      "\u001b[36mFile \u001b[39m\u001b[32mpandas/_libs/hashtable_class_helper.pxi:7088\u001b[39m, in \u001b[36mpandas._libs.hashtable.PyObjectHashTable.get_item\u001b[39m\u001b[34m()\u001b[39m\n",
      "\u001b[36mFile \u001b[39m\u001b[32mpandas/_libs/hashtable_class_helper.pxi:7096\u001b[39m, in \u001b[36mpandas._libs.hashtable.PyObjectHashTable.get_item\u001b[39m\u001b[34m()\u001b[39m\n",
      "\u001b[31mKeyError\u001b[39m: 'comms_num'",
      "\nThe above exception was the direct cause of the following exception:\n",
      "\u001b[31mKeyError\u001b[39m                                  Traceback (most recent call last)",
      "\u001b[36mCell\u001b[39m\u001b[36m \u001b[39m\u001b[32mIn[18]\u001b[39m\u001b[32m, line 21\u001b[39m\n\u001b[32m     18\u001b[39m df_wsb[\u001b[33m'\u001b[39m\u001b[33mtotal_length\u001b[39m\u001b[33m'\u001b[39m] = df_wsb[\u001b[33m'\u001b[39m\u001b[33mtitle_length\u001b[39m\u001b[33m'\u001b[39m] + df_wsb[\u001b[33m'\u001b[39m\u001b[33mbody_length\u001b[39m\u001b[33m'\u001b[39m]\n\u001b[32m     20\u001b[39m \u001b[38;5;66;03m# Engagement features\u001b[39;00m\n\u001b[32m---> \u001b[39m\u001b[32m21\u001b[39m df_wsb[\u001b[33m'\u001b[39m\u001b[33mengagement_score\u001b[39m\u001b[33m'\u001b[39m] = df_wsb[\u001b[33m'\u001b[39m\u001b[33mscore\u001b[39m\u001b[33m'\u001b[39m] + \u001b[43mdf_wsb\u001b[49m\u001b[43m[\u001b[49m\u001b[33;43m'\u001b[39;49m\u001b[33;43mcomms_num\u001b[39;49m\u001b[33;43m'\u001b[39;49m\u001b[43m]\u001b[49m\n\u001b[32m     22\u001b[39m df_wsb[\u001b[33m'\u001b[39m\u001b[33mscore_per_comment\u001b[39m\u001b[33m'\u001b[39m] = df_wsb[\u001b[33m'\u001b[39m\u001b[33mscore\u001b[39m\u001b[33m'\u001b[39m] / (df_wsb[\u001b[33m'\u001b[39m\u001b[33mcomms_num\u001b[39m\u001b[33m'\u001b[39m] + \u001b[32m1\u001b[39m)  \u001b[38;5;66;03m# Avoid division by zero\u001b[39;00m\n\u001b[32m     24\u001b[39m \u001b[38;5;66;03m# Author features (anonymized but trackable patterns)\u001b[39;00m\n",
      "\u001b[36mFile \u001b[39m\u001b[32mc:\\Users\\krishnadas\\AppData\\Local\\Programs\\Python\\Python313\\Lib\\site-packages\\pandas\\core\\frame.py:4107\u001b[39m, in \u001b[36mDataFrame.__getitem__\u001b[39m\u001b[34m(self, key)\u001b[39m\n\u001b[32m   4105\u001b[39m \u001b[38;5;28;01mif\u001b[39;00m \u001b[38;5;28mself\u001b[39m.columns.nlevels > \u001b[32m1\u001b[39m:\n\u001b[32m   4106\u001b[39m     \u001b[38;5;28;01mreturn\u001b[39;00m \u001b[38;5;28mself\u001b[39m._getitem_multilevel(key)\n\u001b[32m-> \u001b[39m\u001b[32m4107\u001b[39m indexer = \u001b[38;5;28;43mself\u001b[39;49m\u001b[43m.\u001b[49m\u001b[43mcolumns\u001b[49m\u001b[43m.\u001b[49m\u001b[43mget_loc\u001b[49m\u001b[43m(\u001b[49m\u001b[43mkey\u001b[49m\u001b[43m)\u001b[49m\n\u001b[32m   4108\u001b[39m \u001b[38;5;28;01mif\u001b[39;00m is_integer(indexer):\n\u001b[32m   4109\u001b[39m     indexer = [indexer]\n",
      "\u001b[36mFile \u001b[39m\u001b[32mc:\\Users\\krishnadas\\AppData\\Local\\Programs\\Python\\Python313\\Lib\\site-packages\\pandas\\core\\indexes\\base.py:3819\u001b[39m, in \u001b[36mIndex.get_loc\u001b[39m\u001b[34m(self, key)\u001b[39m\n\u001b[32m   3814\u001b[39m     \u001b[38;5;28;01mif\u001b[39;00m \u001b[38;5;28misinstance\u001b[39m(casted_key, \u001b[38;5;28mslice\u001b[39m) \u001b[38;5;129;01mor\u001b[39;00m (\n\u001b[32m   3815\u001b[39m         \u001b[38;5;28misinstance\u001b[39m(casted_key, abc.Iterable)\n\u001b[32m   3816\u001b[39m         \u001b[38;5;129;01mand\u001b[39;00m \u001b[38;5;28many\u001b[39m(\u001b[38;5;28misinstance\u001b[39m(x, \u001b[38;5;28mslice\u001b[39m) \u001b[38;5;28;01mfor\u001b[39;00m x \u001b[38;5;129;01min\u001b[39;00m casted_key)\n\u001b[32m   3817\u001b[39m     ):\n\u001b[32m   3818\u001b[39m         \u001b[38;5;28;01mraise\u001b[39;00m InvalidIndexError(key)\n\u001b[32m-> \u001b[39m\u001b[32m3819\u001b[39m     \u001b[38;5;28;01mraise\u001b[39;00m \u001b[38;5;167;01mKeyError\u001b[39;00m(key) \u001b[38;5;28;01mfrom\u001b[39;00m\u001b[38;5;250m \u001b[39m\u001b[34;01merr\u001b[39;00m\n\u001b[32m   3820\u001b[39m \u001b[38;5;28;01mexcept\u001b[39;00m \u001b[38;5;167;01mTypeError\u001b[39;00m:\n\u001b[32m   3821\u001b[39m     \u001b[38;5;66;03m# If we have a listlike key, _check_indexing_error will raise\u001b[39;00m\n\u001b[32m   3822\u001b[39m     \u001b[38;5;66;03m#  InvalidIndexError. Otherwise we fall through and re-raise\u001b[39;00m\n\u001b[32m   3823\u001b[39m     \u001b[38;5;66;03m#  the TypeError.\u001b[39;00m\n\u001b[32m   3824\u001b[39m     \u001b[38;5;28mself\u001b[39m._check_indexing_error(key)\n",
      "\u001b[31mKeyError\u001b[39m: 'comms_num'"
     ]
    }
   ],
   "source": [
    "# Extract post features\n",
    "\"\"\"Extract features from individual posts\"\"\"\n",
    "\n",
    "# Sentiment analysis\n",
    "df_wsb['sentiment'] = df_wsb['combined_text'].apply(\n",
    "    lambda x: TextBlob(x).sentiment.polarity if x else 0\n",
    ")\n",
    "df_wsb['sentiment_magnitude'] = df_wsb['combined_text'].apply(\n",
    "    lambda x: abs(TextBlob(x).sentiment.polarity) if x else 0\n",
    ")\n",
    "df_wsb['subjectivity'] = df_wsb['combined_text'].apply(\n",
    "    lambda x: TextBlob(x).sentiment.subjectivity\n",
    ")\n",
    "\n",
    "# Text length features\n",
    "df_wsb['title_length'] = df_wsb['title_clean'].str.len()\n",
    "df_wsb['body_length'] = df_wsb['body_clean'].str.len()\n",
    "df_wsb['total_length'] = df_wsb['title_length'] + df_wsb['body_length']\n",
    "\n",
    "# Engagement features\n",
    "df_wsb['engagement_score'] = df_wsb['score'] + df_wsb['comms_num']\n",
    "df_wsb['score_per_comment'] = df_wsb['score'] / (df_wsb['comms_num'] + 1)  # Avoid division by zero\n",
    "\n",
    "# Author features (anonymized but trackable patterns)\n",
    "df_wsb['author_post_count'] = df_wsb.groupby('author_id')['author_id'].transform('count')\n",
    "df_wsb.head()\n"
   ]
  },
  {
   "cell_type": "code",
   "execution_count": null,
   "id": "12c39cb9",
   "metadata": {},
   "outputs": [],
   "source": [
    "# Calculate text similarity within time windows\n",
    "window_hours=1\n",
    "# Group posts by hour windows\n",
    "df['hour_window'] = df['timestamp'].dt.floor(f'{window_hours}H')"
   ]
  }
 ],
 "metadata": {
  "kernelspec": {
   "display_name": "Python 3",
   "language": "python",
   "name": "python3"
  },
  "language_info": {
   "codemirror_mode": {
    "name": "ipython",
    "version": 3
   },
   "file_extension": ".py",
   "mimetype": "text/x-python",
   "name": "python",
   "nbconvert_exporter": "python",
   "pygments_lexer": "ipython3",
   "version": "3.13.5"
  }
 },
 "nbformat": 4,
 "nbformat_minor": 5
}
