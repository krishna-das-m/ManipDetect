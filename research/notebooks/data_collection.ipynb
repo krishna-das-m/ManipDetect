{
 "cells": [
  {
   "cell_type": "code",
   "execution_count": null,
   "id": "46f45e87",
   "metadata": {},
   "outputs": [],
   "source": [
    "! pip install praw"
   ]
  },
  {
   "cell_type": "code",
   "execution_count": 2,
   "id": "a70de6f7",
   "metadata": {},
   "outputs": [
    {
     "name": "stdout",
     "output_type": "stream",
     "text": [
      "Collecting neptune-client==1.2.0\n",
      "  Obtaining dependency information for neptune-client==1.2.0 from https://files.pythonhosted.org/packages/aa/d6/1db1bb05b53a06a23ee5f1a73f229da1378d52903656ecc36deea3deb09e/neptune_client-1.2.0-py3-none-any.whl.metadata\n",
      "  Downloading neptune_client-1.2.0-py3-none-any.whl.metadata (18 kB)\n",
      "Collecting GitPython>=2.0.8 (from neptune-client==1.2.0)\n",
      "  Obtaining dependency information for GitPython>=2.0.8 from https://files.pythonhosted.org/packages/1d/9a/4114a9057db2f1462d5c8f8390ab7383925fe1ac012eaa42402ad65c2963/GitPython-3.1.44-py3-none-any.whl.metadata\n",
      "  Downloading GitPython-3.1.44-py3-none-any.whl.metadata (13 kB)\n",
      "Requirement already satisfied: Pillow>=1.1.6 in c:\\users\\krishnadas\\anaconda3\\lib\\site-packages (from neptune-client==1.2.0) (10.0.1)\n",
      "Requirement already satisfied: PyJWT in c:\\users\\krishnadas\\anaconda3\\lib\\site-packages (from neptune-client==1.2.0) (2.4.0)\n",
      "Collecting boto3>=1.16.0 (from neptune-client==1.2.0)\n",
      "  Obtaining dependency information for boto3>=1.16.0 from https://files.pythonhosted.org/packages/ce/74/7eb06cce5879448fbd0585982c37899af3e56f70cb3217b62141b0e2f5fd/boto3-1.39.0-py3-none-any.whl.metadata\n",
      "  Downloading boto3-1.39.0-py3-none-any.whl.metadata (6.6 kB)\n",
      "Collecting bravado<12.0.0,>=11.0.0 (from neptune-client==1.2.0)\n",
      "  Obtaining dependency information for bravado<12.0.0,>=11.0.0 from https://files.pythonhosted.org/packages/b4/65/5f66e75cc3b4e83b22187041380b29486197592c7681d4a16956e40129f3/bravado-11.1.0-py2.py3-none-any.whl.metadata\n",
      "  Downloading bravado-11.1.0-py2.py3-none-any.whl.metadata (6.0 kB)\n",
      "Requirement already satisfied: click>=7.0 in c:\\users\\krishnadas\\anaconda3\\lib\\site-packages (from neptune-client==1.2.0) (8.0.4)\n",
      "Requirement already satisfied: future>=0.17.1 in c:\\users\\krishnadas\\anaconda3\\lib\\site-packages (from neptune-client==1.2.0) (0.18.3)\n",
      "Collecting oauthlib>=2.1.0 (from neptune-client==1.2.0)\n",
      "  Obtaining dependency information for oauthlib>=2.1.0 from https://files.pythonhosted.org/packages/be/9c/92789c596b8df838baa98fa71844d84283302f7604ed565dafe5a6b5041a/oauthlib-3.3.1-py3-none-any.whl.metadata\n",
      "  Downloading oauthlib-3.3.1-py3-none-any.whl.metadata (7.9 kB)\n",
      "Requirement already satisfied: packaging in c:\\users\\krishnadas\\appdata\\roaming\\python\\python311\\site-packages (from neptune-client==1.2.0) (24.0)\n",
      "Requirement already satisfied: pandas in c:\\users\\krishnadas\\anaconda3\\lib\\site-packages (from neptune-client==1.2.0) (2.0.3)\n",
      "Requirement already satisfied: psutil in c:\\users\\krishnadas\\appdata\\roaming\\python\\python311\\site-packages (from neptune-client==1.2.0) (5.9.8)\n",
      "Requirement already satisfied: requests>=2.20.0 in c:\\users\\krishnadas\\anaconda3\\lib\\site-packages (from neptune-client==1.2.0) (2.32.3)\n",
      "Collecting requests-oauthlib>=1.0.0 (from neptune-client==1.2.0)\n",
      "  Obtaining dependency information for requests-oauthlib>=1.0.0 from https://files.pythonhosted.org/packages/3b/5d/63d4ae3b9daea098d5d6f5da83984853c1bbacd5dc826764b249fe119d24/requests_oauthlib-2.0.0-py2.py3-none-any.whl.metadata\n",
      "  Downloading requests_oauthlib-2.0.0-py2.py3-none-any.whl.metadata (11 kB)\n",
      "Requirement already satisfied: six>=1.12.0 in c:\\users\\krishnadas\\appdata\\roaming\\python\\python311\\site-packages (from neptune-client==1.2.0) (1.16.0)\n",
      "Collecting swagger-spec-validator>=2.7.4 (from neptune-client==1.2.0)\n",
      "  Obtaining dependency information for swagger-spec-validator>=2.7.4 from https://files.pythonhosted.org/packages/f4/ac/31ba87a959b19e640ebc18851438b82b5b66cef02ad31da7468d1d8bd625/swagger_spec_validator-3.0.4-py2.py3-none-any.whl.metadata\n",
      "  Downloading swagger_spec_validator-3.0.4-py2.py3-none-any.whl.metadata (2.5 kB)\n",
      "Requirement already satisfied: urllib3 in c:\\users\\krishnadas\\anaconda3\\lib\\site-packages (from neptune-client==1.2.0) (1.26.16)\n",
      "Requirement already satisfied: websocket-client!=1.0.0,>=0.35.0 in c:\\users\\krishnadas\\anaconda3\\lib\\site-packages (from neptune-client==1.2.0) (0.58.0)\n",
      "Collecting botocore<1.40.0,>=1.39.0 (from boto3>=1.16.0->neptune-client==1.2.0)\n",
      "  Obtaining dependency information for botocore<1.40.0,>=1.39.0 from https://files.pythonhosted.org/packages/01/b6/dcd0fd188cc28d772e0df23a31ce50af4d358ef31bfee969dc5a033482a5/botocore-1.39.0-py3-none-any.whl.metadata\n",
      "  Downloading botocore-1.39.0-py3-none-any.whl.metadata (5.7 kB)\n",
      "Requirement already satisfied: jmespath<2.0.0,>=0.7.1 in c:\\users\\krishnadas\\anaconda3\\lib\\site-packages (from boto3>=1.16.0->neptune-client==1.2.0) (0.10.0)\n",
      "Collecting s3transfer<0.14.0,>=0.13.0 (from boto3>=1.16.0->neptune-client==1.2.0)\n",
      "  Obtaining dependency information for s3transfer<0.14.0,>=0.13.0 from https://files.pythonhosted.org/packages/18/17/22bf8155aa0ea2305eefa3a6402e040df7ebe512d1310165eda1e233c3f8/s3transfer-0.13.0-py3-none-any.whl.metadata\n",
      "  Downloading s3transfer-0.13.0-py3-none-any.whl.metadata (1.7 kB)\n",
      "Collecting bravado-core>=5.16.1 (from bravado<12.0.0,>=11.0.0->neptune-client==1.2.0)\n",
      "  Downloading bravado-core-6.1.1.tar.gz (63 kB)\n",
      "     ---------------------------------------- 0.0/63.9 kB ? eta -:--:--\n",
      "     -------------------------------------- - 61.4/63.9 kB 1.7 MB/s eta 0:00:01\n",
      "     ---------------------------------------- 63.9/63.9 kB 1.1 MB/s eta 0:00:00\n",
      "  Preparing metadata (setup.py): started\n",
      "  Preparing metadata (setup.py): finished with status 'done'\n",
      "Collecting monotonic (from bravado<12.0.0,>=11.0.0->neptune-client==1.2.0)\n",
      "  Obtaining dependency information for monotonic from https://files.pythonhosted.org/packages/9a/67/7e8406a29b6c45be7af7740456f7f37025f0506ae2e05fb9009a53946860/monotonic-1.6-py2.py3-none-any.whl.metadata\n",
      "  Downloading monotonic-1.6-py2.py3-none-any.whl.metadata (1.5 kB)\n",
      "Requirement already satisfied: msgpack in c:\\users\\krishnadas\\anaconda3\\lib\\site-packages (from bravado<12.0.0,>=11.0.0->neptune-client==1.2.0) (1.0.3)\n",
      "Requirement already satisfied: python-dateutil in c:\\users\\krishnadas\\appdata\\roaming\\python\\python311\\site-packages (from bravado<12.0.0,>=11.0.0->neptune-client==1.2.0) (2.9.0.post0)\n",
      "Requirement already satisfied: pyyaml in c:\\users\\krishnadas\\anaconda3\\lib\\site-packages (from bravado<12.0.0,>=11.0.0->neptune-client==1.2.0) (6.0.2)\n",
      "Collecting simplejson (from bravado<12.0.0,>=11.0.0->neptune-client==1.2.0)\n",
      "  Obtaining dependency information for simplejson from https://files.pythonhosted.org/packages/01/85/b52f24859237b4e9d523d5655796d911ba3d46e242eb1959c45b6af5aedd/simplejson-3.20.1-cp311-cp311-win_amd64.whl.metadata\n",
      "  Downloading simplejson-3.20.1-cp311-cp311-win_amd64.whl.metadata (3.4 kB)\n",
      "Requirement already satisfied: typing-extensions in c:\\users\\krishnadas\\appdata\\roaming\\python\\python311\\site-packages (from bravado<12.0.0,>=11.0.0->neptune-client==1.2.0) (4.10.0)\n",
      "Requirement already satisfied: colorama in c:\\users\\krishnadas\\appdata\\roaming\\python\\python311\\site-packages (from click>=7.0->neptune-client==1.2.0) (0.4.6)\n",
      "Collecting gitdb<5,>=4.0.1 (from GitPython>=2.0.8->neptune-client==1.2.0)\n",
      "  Obtaining dependency information for gitdb<5,>=4.0.1 from https://files.pythonhosted.org/packages/a0/61/5c78b91c3143ed5c14207f463aecfc8f9dbb5092fb2869baf37c273b2705/gitdb-4.0.12-py3-none-any.whl.metadata\n",
      "  Downloading gitdb-4.0.12-py3-none-any.whl.metadata (1.2 kB)\n",
      "Requirement already satisfied: charset-normalizer<4,>=2 in c:\\users\\krishnadas\\anaconda3\\lib\\site-packages (from requests>=2.20.0->neptune-client==1.2.0) (2.0.4)\n",
      "Requirement already satisfied: idna<4,>=2.5 in c:\\users\\krishnadas\\anaconda3\\lib\\site-packages (from requests>=2.20.0->neptune-client==1.2.0) (3.4)\n",
      "Requirement already satisfied: certifi>=2017.4.17 in c:\\users\\krishnadas\\anaconda3\\lib\\site-packages (from requests>=2.20.0->neptune-client==1.2.0) (2024.12.14)\n",
      "Requirement already satisfied: jsonschema in c:\\users\\krishnadas\\anaconda3\\lib\\site-packages (from swagger-spec-validator>=2.7.4->neptune-client==1.2.0) (4.19.2)\n",
      "Collecting importlib-resources>=1.3 (from swagger-spec-validator>=2.7.4->neptune-client==1.2.0)\n",
      "  Obtaining dependency information for importlib-resources>=1.3 from https://files.pythonhosted.org/packages/a4/ed/1f1afb2e9e7f38a545d628f864d562a5ae64fe6f7a10e28ffb9b185b4e89/importlib_resources-6.5.2-py3-none-any.whl.metadata\n",
      "  Downloading importlib_resources-6.5.2-py3-none-any.whl.metadata (3.9 kB)\n",
      "Requirement already satisfied: pytz>=2020.1 in c:\\users\\krishnadas\\anaconda3\\lib\\site-packages (from pandas->neptune-client==1.2.0) (2023.3.post1)\n",
      "Requirement already satisfied: tzdata>=2022.1 in c:\\users\\krishnadas\\anaconda3\\lib\\site-packages (from pandas->neptune-client==1.2.0) (2023.3)\n",
      "Requirement already satisfied: numpy>=1.21.0 in c:\\users\\krishnadas\\anaconda3\\lib\\site-packages (from pandas->neptune-client==1.2.0) (1.24.3)\n",
      "Collecting jsonref (from bravado-core>=5.16.1->bravado<12.0.0,>=11.0.0->neptune-client==1.2.0)\n",
      "  Obtaining dependency information for jsonref from https://files.pythonhosted.org/packages/0c/ec/e1db9922bceb168197a558a2b8c03a7963f1afe93517ddd3cf99f202f996/jsonref-1.1.0-py3-none-any.whl.metadata\n",
      "  Downloading jsonref-1.1.0-py3-none-any.whl.metadata (2.7 kB)\n",
      "Collecting smmap<6,>=3.0.1 (from gitdb<5,>=4.0.1->GitPython>=2.0.8->neptune-client==1.2.0)\n",
      "  Obtaining dependency information for smmap<6,>=3.0.1 from https://files.pythonhosted.org/packages/04/be/d09147ad1ec7934636ad912901c5fd7667e1c858e19d355237db0d0cd5e4/smmap-5.0.2-py3-none-any.whl.metadata\n",
      "  Downloading smmap-5.0.2-py3-none-any.whl.metadata (4.3 kB)\n",
      "Requirement already satisfied: attrs>=22.2.0 in c:\\users\\krishnadas\\anaconda3\\lib\\site-packages (from jsonschema->swagger-spec-validator>=2.7.4->neptune-client==1.2.0) (23.1.0)\n",
      "Requirement already satisfied: jsonschema-specifications>=2023.03.6 in c:\\users\\krishnadas\\anaconda3\\lib\\site-packages (from jsonschema->swagger-spec-validator>=2.7.4->neptune-client==1.2.0) (2023.7.1)\n",
      "Requirement already satisfied: referencing>=0.28.4 in c:\\users\\krishnadas\\anaconda3\\lib\\site-packages (from jsonschema->swagger-spec-validator>=2.7.4->neptune-client==1.2.0) (0.30.2)\n",
      "Requirement already satisfied: rpds-py>=0.7.1 in c:\\users\\krishnadas\\anaconda3\\lib\\site-packages (from jsonschema->swagger-spec-validator>=2.7.4->neptune-client==1.2.0) (0.10.6)\n",
      "Requirement already satisfied: fqdn in c:\\users\\krishnadas\\anaconda3\\lib\\site-packages (from jsonschema->swagger-spec-validator>=2.7.4->neptune-client==1.2.0) (1.5.1)\n",
      "Requirement already satisfied: isoduration in c:\\users\\krishnadas\\anaconda3\\lib\\site-packages (from jsonschema->swagger-spec-validator>=2.7.4->neptune-client==1.2.0) (20.11.0)\n",
      "Requirement already satisfied: jsonpointer>1.13 in c:\\users\\krishnadas\\anaconda3\\lib\\site-packages (from jsonschema->swagger-spec-validator>=2.7.4->neptune-client==1.2.0) (2.1)\n",
      "Requirement already satisfied: rfc3339-validator in c:\\users\\krishnadas\\anaconda3\\lib\\site-packages (from jsonschema->swagger-spec-validator>=2.7.4->neptune-client==1.2.0) (0.1.4)\n",
      "Requirement already satisfied: rfc3986-validator>0.1.0 in c:\\users\\krishnadas\\anaconda3\\lib\\site-packages (from jsonschema->swagger-spec-validator>=2.7.4->neptune-client==1.2.0) (0.1.1)\n",
      "Requirement already satisfied: uri-template in c:\\users\\krishnadas\\anaconda3\\lib\\site-packages (from jsonschema->swagger-spec-validator>=2.7.4->neptune-client==1.2.0) (1.3.0)\n",
      "Requirement already satisfied: webcolors>=1.11 in c:\\users\\krishnadas\\anaconda3\\lib\\site-packages (from jsonschema->swagger-spec-validator>=2.7.4->neptune-client==1.2.0) (24.8.0)\n",
      "Requirement already satisfied: arrow>=0.15.0 in c:\\users\\krishnadas\\anaconda3\\lib\\site-packages (from isoduration->jsonschema->swagger-spec-validator>=2.7.4->neptune-client==1.2.0) (1.2.3)\n",
      "Downloading neptune_client-1.2.0-py3-none-any.whl (448 kB)\n",
      "   ---------------------------------------- 0.0/448.2 kB ? eta -:--:--\n",
      "   ---------------------- ----------------- 256.0/448.2 kB 5.2 MB/s eta 0:00:01\n",
      "   ---------------------------------------- 448.2/448.2 kB 5.6 MB/s eta 0:00:00\n",
      "Downloading boto3-1.39.0-py3-none-any.whl (139 kB)\n",
      "   ---------------------------------------- 0.0/139.9 kB ? eta -:--:--\n",
      "   ---------------------------------------- 139.9/139.9 kB 8.1 MB/s eta 0:00:00\n",
      "Downloading bravado-11.1.0-py2.py3-none-any.whl (37 kB)\n",
      "Downloading GitPython-3.1.44-py3-none-any.whl (207 kB)\n",
      "   ---------------------------------------- 0.0/207.6 kB ? eta -:--:--\n",
      "   ---------------------------------------- 207.6/207.6 kB 6.2 MB/s eta 0:00:00\n",
      "Downloading oauthlib-3.3.1-py3-none-any.whl (160 kB)\n",
      "   ---------------------------------------- 0.0/160.1 kB ? eta -:--:--\n",
      "   ---------------------------------------- 160.1/160.1 kB 9.4 MB/s eta 0:00:00\n",
      "Downloading requests_oauthlib-2.0.0-py2.py3-none-any.whl (24 kB)\n",
      "Downloading swagger_spec_validator-3.0.4-py2.py3-none-any.whl (28 kB)\n",
      "Downloading botocore-1.39.0-py3-none-any.whl (13.8 MB)\n",
      "   ---------------------------------------- 0.0/13.8 MB ? eta -:--:--\n",
      "   -- ------------------------------------- 1.0/13.8 MB 32.0 MB/s eta 0:00:01\n",
      "   ------- -------------------------------- 2.6/13.8 MB 32.8 MB/s eta 0:00:01\n",
      "   ------------- -------------------------- 4.5/13.8 MB 36.3 MB/s eta 0:00:01\n",
      "   ------------------ --------------------- 6.5/13.8 MB 38.0 MB/s eta 0:00:01\n",
      "   --------------------- ------------------ 7.5/13.8 MB 36.8 MB/s eta 0:00:01\n",
      "   ------------------------- -------------- 8.9/13.8 MB 33.6 MB/s eta 0:00:01\n",
      "   ------------------------------- -------- 10.8/13.8 MB 36.4 MB/s eta 0:00:01\n",
      "   ------------------------------------- -- 12.7/13.8 MB 36.4 MB/s eta 0:00:01\n",
      "   ---------------------------------------  13.8/13.8 MB 38.5 MB/s eta 0:00:01\n",
      "   ---------------------------------------  13.8/13.8 MB 38.5 MB/s eta 0:00:01\n",
      "   ---------------------------------------  13.8/13.8 MB 38.5 MB/s eta 0:00:01\n",
      "   ---------------------------------------- 13.8/13.8 MB 26.1 MB/s eta 0:00:00\n",
      "Downloading gitdb-4.0.12-py3-none-any.whl (62 kB)\n",
      "   ---------------------------------------- 0.0/62.8 kB ? eta -:--:--\n",
      "   ---------------------------------------- 62.8/62.8 kB 3.5 MB/s eta 0:00:00\n",
      "Downloading importlib_resources-6.5.2-py3-none-any.whl (37 kB)\n",
      "Downloading s3transfer-0.13.0-py3-none-any.whl (85 kB)\n",
      "   ---------------------------------------- 0.0/85.2 kB ? eta -:--:--\n",
      "   ---------------------------------------- 85.2/85.2 kB ? eta 0:00:00\n",
      "Downloading monotonic-1.6-py2.py3-none-any.whl (8.2 kB)\n",
      "Downloading simplejson-3.20.1-cp311-cp311-win_amd64.whl (75 kB)\n",
      "   ---------------------------------------- 0.0/75.6 kB ? eta -:--:--\n",
      "   ---------------------------------------- 75.6/75.6 kB ? eta 0:00:00\n",
      "Downloading smmap-5.0.2-py3-none-any.whl (24 kB)\n",
      "Downloading jsonref-1.1.0-py3-none-any.whl (9.4 kB)\n",
      "Building wheels for collected packages: bravado-core\n",
      "  Building wheel for bravado-core (setup.py): started\n",
      "  Building wheel for bravado-core (setup.py): finished with status 'done'\n",
      "  Created wheel for bravado-core: filename=bravado_core-6.1.1-py2.py3-none-any.whl size=67700 sha256=3a3efc8fa19f3d9735645aecffac190deb980b0b1f6a1aefb90991604dea671b\n",
      "  Stored in directory: c:\\users\\krishnadas\\appdata\\local\\pip\\cache\\wheels\\cf\\d7\\1c\\1d707a21e0a0323bdbfbb2f6de125ae6bb70d62aa2838df321\n",
      "Successfully built bravado-core\n",
      "Installing collected packages: monotonic, smmap, simplejson, oauthlib, jsonref, importlib-resources, requests-oauthlib, gitdb, botocore, s3transfer, GitPython, swagger-spec-validator, boto3, bravado-core, bravado, neptune-client\n",
      "  Attempting uninstall: botocore\n",
      "    Found existing installation: botocore 1.29.76\n",
      "    Uninstalling botocore-1.29.76:\n",
      "      Successfully uninstalled botocore-1.29.76\n",
      "Successfully installed GitPython-3.1.44 boto3-1.39.0 botocore-1.39.0 bravado-11.1.0 bravado-core-6.1.1 gitdb-4.0.12 importlib-resources-6.5.2 jsonref-1.1.0 monotonic-1.6 neptune-client-1.2.0 oauthlib-3.3.1 requests-oauthlib-2.0.0 s3transfer-0.13.0 simplejson-3.20.1 smmap-5.0.2 swagger-spec-validator-3.0.4\n"
     ]
    },
    {
     "name": "stderr",
     "output_type": "stream",
     "text": [
      "ERROR: pip's dependency resolver does not currently take into account all the packages that are installed. This behaviour is the source of the following dependency conflicts.\n",
      "aiobotocore 2.5.0 requires botocore<1.29.77,>=1.29.76, but you have botocore 1.39.0 which is incompatible.\n",
      "s3fs 2023.4.0 requires fsspec==2023.4.0, but you have fsspec 2025.5.1 which is incompatible.\n"
     ]
    }
   ],
   "source": [
    "! pip3 install neptune-client==1.2.0"
   ]
  },
  {
   "cell_type": "markdown",
   "id": "007d1db2",
   "metadata": {},
   "source": [
    "### Libraries to use"
   ]
  },
  {
   "cell_type": "code",
   "execution_count": 4,
   "id": "19697dac",
   "metadata": {},
   "outputs": [],
   "source": [
    "import os\n",
    "import praw\n",
    "import neptune as neptune\n",
    "import pandas as pd\n",
    "import datetime as dt\n",
    "from tqdm import tqdm\n",
    "import time"
   ]
  },
  {
   "cell_type": "markdown",
   "id": "2ecae9cd",
   "metadata": {},
   "source": [
    "Environments setup for Reddit and neptune.ai secrets"
   ]
  },
  {
   "cell_type": "code",
   "execution_count": 5,
   "id": "446dfc49",
   "metadata": {},
   "outputs": [
    {
     "ename": "ModuleNotFoundError",
     "evalue": "No module named 'kaggle_secrets'",
     "output_type": "error",
     "traceback": [
      "\u001b[1;31m---------------------------------------------------------------------------\u001b[0m",
      "\u001b[1;31mModuleNotFoundError\u001b[0m                       Traceback (most recent call last)",
      "Cell \u001b[1;32mIn[5], line 1\u001b[0m\n\u001b[1;32m----> 1\u001b[0m \u001b[38;5;28;01mfrom\u001b[39;00m \u001b[38;5;21;01mkaggle_secrets\u001b[39;00m \u001b[38;5;28;01mimport\u001b[39;00m UserSecretsClient\n\u001b[0;32m      2\u001b[0m user_secrets \u001b[38;5;241m=\u001b[39m UserSecretsClient()\n",
      "\u001b[1;31mModuleNotFoundError\u001b[0m: No module named 'kaggle_secrets'"
     ]
    }
   ],
   "source": [
    "from kaggle_secrets import UserSecretsClient\n",
    "user_secrets = UserSecretsClient()"
   ]
  },
  {
   "cell_type": "code",
   "execution_count": 6,
   "id": "d804fe0a",
   "metadata": {},
   "outputs": [
    {
     "name": "stderr",
     "output_type": "stream",
     "text": [
      "ERROR: Could not find a version that satisfies the requirement kaggle_secrets (from versions: none)\n",
      "ERROR: No matching distribution found for kaggle_secrets\n"
     ]
    }
   ],
   "source": [
    "! pip install kaggle_secrets"
   ]
  },
  {
   "cell_type": "markdown",
   "id": "ccf2ca58",
   "metadata": {},
   "source": [
    "### Neptune.ai Setup"
   ]
  },
  {
   "cell_type": "code",
   "execution_count": null,
   "id": "8bccee61",
   "metadata": {},
   "outputs": [],
   "source": [
    "neptune_api_token = user_secrets.get_secret(\"neptune_api\")\n",
    "run = None\n",
    "try:\n",
    "    run = neptune.init_model(\n",
    "        project=\"preda/WallStreetBets\",\n",
    "        api_token=neptune_api_token,\n",
    "    )\n",
    "except Exception as ex:\n",
    "    print(f\"Exception: {ex}\")"
   ]
  }
 ],
 "metadata": {
  "kernelspec": {
   "display_name": "base",
   "language": "python",
   "name": "python3"
  },
  "language_info": {
   "codemirror_mode": {
    "name": "ipython",
    "version": 3
   },
   "file_extension": ".py",
   "mimetype": "text/x-python",
   "name": "python",
   "nbconvert_exporter": "python",
   "pygments_lexer": "ipython3",
   "version": "3.11.5"
  }
 },
 "nbformat": 4,
 "nbformat_minor": 5
}
