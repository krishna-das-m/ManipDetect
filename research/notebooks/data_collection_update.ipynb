{
 "cells": [
  {
   "cell_type": "code",
   "execution_count": 1,
   "id": "53c27857",
   "metadata": {},
   "outputs": [
    {
     "name": "stderr",
     "output_type": "stream",
     "text": [
      "c:\\Users\\krishnadas\\anaconda3\\Lib\\site-packages\\neptune\\common\\warnings.py:62: NeptuneDeprecationWarning: The 'neptune-client' package has been deprecated and will be removed in the future. Install the 'neptune' package instead. For more, see https://docs.neptune.ai/setup/upgrading/\n",
      "  warnings.warn(\n"
     ]
    }
   ],
   "source": [
    "from dotenv import load_dotenv\n",
    "import os\n",
    "import neptune\n",
    "import praw\n",
    "from datetime import datetime\n",
    "import json\n",
    "import time\n",
    "import pandas as pd\n",
    "from tqdm import tqdm"
   ]
  },
  {
   "cell_type": "code",
   "execution_count": 2,
   "id": "057a7764",
   "metadata": {},
   "outputs": [],
   "source": [
    "def reddit_connect():\n",
    "    \"\"\"Initialize Reddit connection\"\"\"\n",
    "    load_dotenv()\n",
    "    reddit = praw.Reddit(\n",
    "        client_id=os.getenv('REDDIT_CLIENT_ID'),\n",
    "        client_secret=os.getenv('REDDIT_CLIENT_SECRET'),\n",
    "        user_agent=os.getenv('REDDIT_USER_AGENT'),\n",
    "        username=os.getenv('REDDIT_USERNAME'),\n",
    "        password=os.getenv('REDDIT_PASSWORD')\n",
    "    )\n",
    "    return reddit"
   ]
  },
  {
   "cell_type": "code",
   "execution_count": null,
   "id": "a4700021",
   "metadata": {},
   "outputs": [],
   "source": [
    "def lookup_missing_authors(csv_file=None, post_ids=None):\n",
    "    \"\"\"\n",
    "    Lookup missing author names for posts by ID\n",
    "    \n",
    "    Args:\n",
    "        csv_file: Path to CSV file with post_id column\n",
    "        post_ids: List of post IDs to lookup\n",
    "    \n",
    "    Returns:\n",
    "        Dictionary mapping post_id to author_name\n",
    "    \"\"\"\n",
    "    # Initialize Reddit\n",
    "    reddit = reddit_connect\n",
    "    \n",
    "    # Get post IDs from CSV or use provided list\n",
    "    if csv_file:\n",
    "        df = pd.read_csv(csv_file)\n",
    "        post_ids = df['post_id'].tolist()\n",
    "    \n",
    "    if not post_ids:\n",
    "        print(\"No post IDs provided\")\n",
    "        return {}\n",
    "    \n",
    "    author_lookup = {}\n",
    "    errors = 0\n",
    "    \n",
    "    print(f\"Looking up authors for {len(post_ids)} posts...\")\n",
    "    \n",
    "    for i, post_id in enumerate(tqdm(post_ids, desc=\"Looking up authors\")):\n",
    "        try:\n",
    "            submission = reddit.submission(id=post_id)\n",
    "            \n",
    "            if submission.author is not None:\n",
    "                author_lookup[post_id] = submission.author.name\n",
    "            else:\n",
    "                author_lookup[post_id] = \"[deleted]\"\n",
    "                \n",
    "        except Exception as e:\n",
    "            print(f\"Error with post {post_id}: {e}\")\n",
    "            author_lookup[post_id] = \"[error]\"\n",
    "            errors += 1\n",
    "        \n",
    "        # Rate limiting - be nice to Reddit\n",
    "        if i % 50 == 0 and i > 0:\n",
    "            time.sleep(1)\n",
    "    \n",
    "    print(f\"Lookup completed. {errors} errors encountered.\")\n",
    "    return author_lookup\n",
    "\n",
    "def update_csv_with_authors(csv_file, author_lookup):\n",
    "    \"\"\"Update CSV file with looked-up author names\"\"\"\n",
    "    df = pd.read_csv(csv_file)\n",
    "    \n",
    "    # Update author names\n",
    "    for post_id, author_name in author_lookup.items():\n",
    "        mask = df['post_id'] == post_id\n",
    "        df.loc[mask, 'author_name'] = author_name\n",
    "    \n",
    "    # Save updated file\n",
    "    updated_filename = csv_file.replace('.csv', '_with_authors.csv')\n",
    "    df.to_csv(updated_filename, index=False)\n",
    "    \n",
    "    print(f\"Updated CSV saved as: {updated_filename}\")\n",
    "    return df"
   ]
  }
 ],
 "metadata": {
  "kernelspec": {
   "display_name": "base",
   "language": "python",
   "name": "python3"
  },
  "language_info": {
   "codemirror_mode": {
    "name": "ipython",
    "version": 3
   },
   "file_extension": ".py",
   "mimetype": "text/x-python",
   "name": "python",
   "nbconvert_exporter": "python",
   "pygments_lexer": "ipython3",
   "version": "3.11.5"
  }
 },
 "nbformat": 4,
 "nbformat_minor": 5
}
