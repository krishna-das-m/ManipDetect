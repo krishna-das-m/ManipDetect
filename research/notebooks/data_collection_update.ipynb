{
 "cells": [
  {
   "cell_type": "code",
   "execution_count": 1,
   "id": "53c27857",
   "metadata": {},
   "outputs": [],
   "source": [
    "from dotenv import load_dotenv\n",
    "import os\n",
    "import neptune\n",
    "import praw\n",
    "from datetime import datetime\n",
    "import json\n",
    "import time\n",
    "import pandas as pd\n",
    "from tqdm import tqdm\n",
    "\n",
    "from pathlib import Path\n",
    "Root = Path('.').absolute().parent\n",
    "DATA = Root / r'C:\\Users\\Admin\\Projects\\ML Projects\\ManipDetect\\data'\n",
    "# DATA = Root/ r'C:\\Users\\krishnadas\\Projects\\ML Projects\\ManipDetect\\data'"
   ]
  },
  {
   "cell_type": "code",
   "execution_count": 2,
   "id": "057a7764",
   "metadata": {},
   "outputs": [],
   "source": [
    "def reddit_connect():\n",
    "    \"\"\"Initialize Reddit connection\"\"\"\n",
    "    load_dotenv()\n",
    "    reddit = praw.Reddit(\n",
    "        client_id=os.getenv('REDDIT_CLIENT_ID'),\n",
    "        client_secret=os.getenv('REDDIT_CLIENT_SECRET'),\n",
    "        user_agent=os.getenv('REDDIT_USER_AGENT'),\n",
    "        username=os.getenv('REDDIT_USERNAME'),\n",
    "        password=os.getenv('REDDIT_PASSWORD')\n",
    "    )\n",
    "    return reddit"
   ]
  },
  {
   "cell_type": "code",
   "execution_count": 3,
   "id": "a4700021",
   "metadata": {},
   "outputs": [],
   "source": [
    "def load_update_progress(filename=\"author_update_progress.json\"):\n",
    "    \"\"\"Load previous update progress\"\"\"\n",
    "    try:\n",
    "        with open(filename, 'r') as f:\n",
    "            progress = json.load(f)\n",
    "            return progress.get('completed_ids', set()), progress.get('failed_ids', set())\n",
    "    except FileNotFoundError:\n",
    "        return set(), set()\n",
    "\n",
    "def save_update_progress(completed_ids, failed_ids, filename=\"author_update_progress.json\"):\n",
    "    \"\"\"Save current update progress\"\"\"\n",
    "    progress = {\n",
    "        'completed_ids': list(completed_ids),\n",
    "        'failed_ids': list(failed_ids),\n",
    "        'last_updated': datetime.now().isoformat(),\n",
    "        'total_completed': len(completed_ids),\n",
    "        'total_failed': len(failed_ids)\n",
    "    }\n",
    "    with open(filename, 'w') as f:\n",
    "        json.dump(progress, f, indent=2)\n",
    "\n",
    "def analyze_csv_file(csv_file):\n",
    "    \"\"\"Analyze the CSV file to understand the data structure\"\"\"\n",
    "    print(f\"Analyzing {csv_file}...\")\n",
    "    \n",
    "    df = pd.read_csv(csv_file)\n",
    "    print(f\"Total rows: {len(df):,}\")\n",
    "    print(f\"Columns: {list(df.columns)}\")\n",
    "    \n",
    "    # Check for post_id column\n",
    "    if 'post_id' not in df.columns:\n",
    "        print(\"ERROR: 'post_id' column not found!\")\n",
    "        print(\"Available columns:\", list(df.columns))\n",
    "        return None\n",
    "    \n",
    "    # Check for author columns\n",
    "    author_columns = [col for col in df.columns if 'author' in col.lower()]\n",
    "    print(f\"Author-related columns: {author_columns}\")\n",
    "    \n",
    "    # Analyze missing authors\n",
    "    if author_columns:\n",
    "        for col in author_columns:\n",
    "            missing_count = df[col].isna().sum()\n",
    "            empty_count = (df[col] == '').sum()\n",
    "            deleted_count = (df[col] == '[deleted]').sum()\n",
    "            unavailable_count = (df[col] == '[unavailable]').sum()\n",
    "            \n",
    "            print(f\"\\n{col} analysis:\")\n",
    "            print(f\"  Missing (NaN): {missing_count:,}\")\n",
    "            print(f\"  Empty strings: {empty_count:,}\")\n",
    "            print(f\"  [deleted]: {deleted_count:,}\")\n",
    "            print(f\"  [unavailable]: {unavailable_count:,}\")\n",
    "            \n",
    "            total_to_update = missing_count + empty_count + unavailable_count\n",
    "            print(f\"  Total to potentially update: {total_to_update:,}\")\n",
    "    \n",
    "    return df\n",
    "\n",
    "def identify_posts_to_update(df, target_column='author_id'):\n",
    "    \"\"\"Identify which posts need author updates\"\"\"\n",
    "    if target_column not in df.columns:\n",
    "        print(f\"Column '{target_column}' not found. Available columns: {list(df.columns)}\")\n",
    "        return []\n",
    "    \n",
    "    # Posts that need updating\n",
    "    needs_update = df[\n",
    "        df[target_column].isna() |\n",
    "        (df[target_column] == '') |\n",
    "        (df[target_column] == '[unavailable]')\n",
    "    ]\n",
    "    \n",
    "    print(f\"Posts needing author updates: {len(needs_update):,}\")\n",
    "    return needs_update['post_id'].tolist()"
   ]
  },
  {
   "cell_type": "code",
   "execution_count": 4,
   "id": "113a6d06",
   "metadata": {},
   "outputs": [
    {
     "data": {
      "application/vnd.microsoft.datawrangler.viewer.v0+json": {
       "columns": [
        {
         "name": "index",
         "rawType": "int64",
         "type": "integer"
        },
        {
         "name": "title",
         "rawType": "object",
         "type": "string"
        },
        {
         "name": "score",
         "rawType": "int64",
         "type": "integer"
        },
        {
         "name": "id",
         "rawType": "object",
         "type": "string"
        },
        {
         "name": "url",
         "rawType": "object",
         "type": "string"
        },
        {
         "name": "comms_num",
         "rawType": "int64",
         "type": "integer"
        },
        {
         "name": "created",
         "rawType": "float64",
         "type": "float"
        },
        {
         "name": "body",
         "rawType": "object",
         "type": "unknown"
        },
        {
         "name": "timestamp",
         "rawType": "object",
         "type": "string"
        }
       ],
       "ref": "f020cc86-a54c-4eb8-ad76-a2fe66e611c0",
       "rows": [
        [
         "0",
         "It's not about the money, it's about sending a message. 🚀💎🙌",
         "55",
         "l6ulcx",
         "https://v.redd.it/6j75regs72e61",
         "6",
         "1611862661.0",
         null,
         "2021-01-28 21:37:41"
        ],
        [
         "1",
         "Math Professor Scott Steiner says the numbers spell DISASTER for Gamestop shorts",
         "110",
         "l6uibd",
         "https://v.redd.it/ah50lyny62e61",
         "23",
         "1611862330.0",
         null,
         "2021-01-28 21:32:10"
        ],
        [
         "2",
         "Exit the system",
         "0",
         "l6uhhn",
         "https://www.reddit.com/r/wallstreetbets/comments/l6uhhn/exit_the_system/",
         "47",
         "1611862235.0",
         "The CEO of NASDAQ pushed to halt trading “to give investors a chance to recalibrate their positions”.\n\n[https://mobile.twitter.com/Mediaite/status/1354504710695362563](https://mobile.twitter.com/Mediaite/status/1354504710695362563)\n\nNow SEC is investigating, brokers are disallowing buying more calls. This is the institutions flat out admitting they will change the rules to bail out the rich but if it happens to us, we get a “well shucks you should have known investing is risky! have you tried cutting out avocados and coffee, maybe doing Uber on the side?”\n\nWe may have collectively driven up enough sentiment in wall street to make other big players go long on GME with us (we do not have the money to move the stock as much as it did alone). we didn’t hurt wall street as a whole, just a few funds went down while others went up and profited off the shorts the same as us. The media wants to pin the blame on us.\n\nIt should be crystal clear that this is a rigged game by now. Its time to build new exchanges that can’t arbitrarily change the rules on us. Cr\\*\\*o has some version of these, maybe they can be repurposed to be trade stock without government intervention. I don’t know exactly what it will look like yet, but the broad next steps i see are - 1. exit the current financial system 2. build a new one.",
         "2021-01-28 21:30:35"
        ],
        [
         "3",
         "NEW SEC FILING FOR GME! CAN SOMEONE LESS RETARDED THAN ME PLEASE INTERPRET?",
         "29",
         "l6ugk6",
         "https://sec.report/Document/0001193125-21-019848/",
         "74",
         "1611862137.0",
         null,
         "2021-01-28 21:28:57"
        ],
        [
         "4",
         "Not to distract from GME, just thought our AMC brothers should be aware of this",
         "71",
         "l6ufgy",
         "https://i.redd.it/4h2sukb662e61.jpg",
         "156",
         "1611862016.0",
         null,
         "2021-01-28 21:26:56"
        ]
       ],
       "shape": {
        "columns": 8,
        "rows": 5
       }
      },
      "text/html": [
       "<div>\n",
       "<style scoped>\n",
       "    .dataframe tbody tr th:only-of-type {\n",
       "        vertical-align: middle;\n",
       "    }\n",
       "\n",
       "    .dataframe tbody tr th {\n",
       "        vertical-align: top;\n",
       "    }\n",
       "\n",
       "    .dataframe thead th {\n",
       "        text-align: right;\n",
       "    }\n",
       "</style>\n",
       "<table border=\"1\" class=\"dataframe\">\n",
       "  <thead>\n",
       "    <tr style=\"text-align: right;\">\n",
       "      <th></th>\n",
       "      <th>title</th>\n",
       "      <th>score</th>\n",
       "      <th>id</th>\n",
       "      <th>url</th>\n",
       "      <th>comms_num</th>\n",
       "      <th>created</th>\n",
       "      <th>body</th>\n",
       "      <th>timestamp</th>\n",
       "    </tr>\n",
       "  </thead>\n",
       "  <tbody>\n",
       "    <tr>\n",
       "      <th>0</th>\n",
       "      <td>It's not about the money, it's about sending a...</td>\n",
       "      <td>55</td>\n",
       "      <td>l6ulcx</td>\n",
       "      <td>https://v.redd.it/6j75regs72e61</td>\n",
       "      <td>6</td>\n",
       "      <td>1.611863e+09</td>\n",
       "      <td>NaN</td>\n",
       "      <td>2021-01-28 21:37:41</td>\n",
       "    </tr>\n",
       "    <tr>\n",
       "      <th>1</th>\n",
       "      <td>Math Professor Scott Steiner says the numbers ...</td>\n",
       "      <td>110</td>\n",
       "      <td>l6uibd</td>\n",
       "      <td>https://v.redd.it/ah50lyny62e61</td>\n",
       "      <td>23</td>\n",
       "      <td>1.611862e+09</td>\n",
       "      <td>NaN</td>\n",
       "      <td>2021-01-28 21:32:10</td>\n",
       "    </tr>\n",
       "    <tr>\n",
       "      <th>2</th>\n",
       "      <td>Exit the system</td>\n",
       "      <td>0</td>\n",
       "      <td>l6uhhn</td>\n",
       "      <td>https://www.reddit.com/r/wallstreetbets/commen...</td>\n",
       "      <td>47</td>\n",
       "      <td>1.611862e+09</td>\n",
       "      <td>The CEO of NASDAQ pushed to halt trading “to g...</td>\n",
       "      <td>2021-01-28 21:30:35</td>\n",
       "    </tr>\n",
       "    <tr>\n",
       "      <th>3</th>\n",
       "      <td>NEW SEC FILING FOR GME! CAN SOMEONE LESS RETAR...</td>\n",
       "      <td>29</td>\n",
       "      <td>l6ugk6</td>\n",
       "      <td>https://sec.report/Document/0001193125-21-019848/</td>\n",
       "      <td>74</td>\n",
       "      <td>1.611862e+09</td>\n",
       "      <td>NaN</td>\n",
       "      <td>2021-01-28 21:28:57</td>\n",
       "    </tr>\n",
       "    <tr>\n",
       "      <th>4</th>\n",
       "      <td>Not to distract from GME, just thought our AMC...</td>\n",
       "      <td>71</td>\n",
       "      <td>l6ufgy</td>\n",
       "      <td>https://i.redd.it/4h2sukb662e61.jpg</td>\n",
       "      <td>156</td>\n",
       "      <td>1.611862e+09</td>\n",
       "      <td>NaN</td>\n",
       "      <td>2021-01-28 21:26:56</td>\n",
       "    </tr>\n",
       "  </tbody>\n",
       "</table>\n",
       "</div>"
      ],
      "text/plain": [
       "                                               title  score      id  \\\n",
       "0  It's not about the money, it's about sending a...     55  l6ulcx   \n",
       "1  Math Professor Scott Steiner says the numbers ...    110  l6uibd   \n",
       "2                                    Exit the system      0  l6uhhn   \n",
       "3  NEW SEC FILING FOR GME! CAN SOMEONE LESS RETAR...     29  l6ugk6   \n",
       "4  Not to distract from GME, just thought our AMC...     71  l6ufgy   \n",
       "\n",
       "                                                 url  comms_num       created  \\\n",
       "0                    https://v.redd.it/6j75regs72e61          6  1.611863e+09   \n",
       "1                    https://v.redd.it/ah50lyny62e61         23  1.611862e+09   \n",
       "2  https://www.reddit.com/r/wallstreetbets/commen...         47  1.611862e+09   \n",
       "3  https://sec.report/Document/0001193125-21-019848/         74  1.611862e+09   \n",
       "4                https://i.redd.it/4h2sukb662e61.jpg        156  1.611862e+09   \n",
       "\n",
       "                                                body            timestamp  \n",
       "0                                                NaN  2021-01-28 21:37:41  \n",
       "1                                                NaN  2021-01-28 21:32:10  \n",
       "2  The CEO of NASDAQ pushed to halt trading “to g...  2021-01-28 21:30:35  \n",
       "3                                                NaN  2021-01-28 21:28:57  \n",
       "4                                                NaN  2021-01-28 21:26:56  "
      ]
     },
     "execution_count": 4,
     "metadata": {},
     "output_type": "execute_result"
    }
   ],
   "source": [
    "filepath = DATA / 'reddit_wsb.csv'\n",
    "df = pd.read_csv(filepath)\n",
    "df.head()"
   ]
  },
  {
   "cell_type": "code",
   "execution_count": 5,
   "id": "2c91f389",
   "metadata": {},
   "outputs": [],
   "source": [
    "# df['author_name'] = None\n",
    "# df['author_id'] = None\n",
    "# # chnage id column to post id\n",
    "# df.rename(columns={'id': 'post_id'}, inplace=True)\n",
    "# df.to_csv(DATA / 'new_reddit_wsb.csv', index=False)"
   ]
  },
  {
   "cell_type": "code",
   "execution_count": 7,
   "id": "656a12c2",
   "metadata": {},
   "outputs": [],
   "source": [
    "def update_authors_bulk(csv_file, target_column='author_name', batch_size=100, test_mode=False, test_limit=100):\n",
    "    \"\"\"Update authors in bulk with progress tracking and resume capability\"\"\"\n",
    "    \n",
    "    # Load environment variables\n",
    "    load_dotenv()\n",
    "    \n",
    "    # Initialize Neptune for tracking\n",
    "    run = neptune.init_run(project=\"krishnadasm/wallstreetbets-scraper\")\n",
    "    run[\"config/task\"] = \"author_update\"\n",
    "    run[\"config/csv_file\"] = csv_file\n",
    "    run[\"config/target_column\"] = target_column\n",
    "    run[\"config/batch_size\"] = batch_size\n",
    "    run[\"config/test_mode\"] = test_mode\n",
    "    if test_mode:\n",
    "        run[\"config/test_limit\"] = test_limit\n",
    "    \n",
    "    # Initialize Reddit\n",
    "    reddit = reddit_connect()\n",
    "    \n",
    "    # Load and analyze CSV\n",
    "    df = analyze_csv_file(csv_file)\n",
    "    if df is None:\n",
    "        return\n",
    "    \n",
    "    # Identify posts to update\n",
    "    posts_to_update = identify_posts_to_update(df, target_column)\n",
    "    \n",
    "    if not posts_to_update:\n",
    "        print(\"No posts need updating!\")\n",
    "        run.stop()\n",
    "        return\n",
    "    \n",
    "    # TEST MODE: Limit to first N posts\n",
    "    if test_mode:\n",
    "        posts_to_update = posts_to_update[:test_limit]\n",
    "        print(f\"🧪 TEST MODE: Limited to {len(posts_to_update)} posts\")\n",
    "    \n",
    "    # Load previous progress (skip in test mode)\n",
    "    if not test_mode:\n",
    "        completed_ids, failed_ids = load_update_progress()\n",
    "        remaining_posts = [pid for pid in posts_to_update if pid not in completed_ids]\n",
    "    else:\n",
    "        completed_ids, failed_ids = set(), set()\n",
    "        remaining_posts = posts_to_update\n",
    "    \n",
    "    print(f\"Total posts to update: {len(posts_to_update):,}\")\n",
    "    if not test_mode:\n",
    "        print(f\"Already completed: {len(completed_ids):,}\")\n",
    "    print(f\"Remaining: {len(remaining_posts):,}\")\n",
    "    \n",
    "    # Log initial stats to Neptune\n",
    "    run[\"stats/total_posts_to_update\"] = len(posts_to_update)\n",
    "    run[\"stats/already_completed\"] = len(completed_ids)\n",
    "    run[\"stats/remaining\"] = len(remaining_posts)\n",
    "    \n",
    "    # Estimate time\n",
    "    if test_mode:\n",
    "        estimated_minutes = len(remaining_posts) / 60  # ~1 post per second with delays\n",
    "        print(f\"Estimated time: {estimated_minutes:.1f} minutes\")\n",
    "    else:\n",
    "        estimated_hours = len(remaining_posts) / 3600  # ~1 post per second with delays\n",
    "        print(f\"Estimated time: {estimated_hours:.1f} hours\")\n",
    "    \n",
    "    # Start updating\n",
    "    start_time = time.time()\n",
    "    success_count = 0\n",
    "    error_count = 0\n",
    "    \n",
    "    try:\n",
    "        # Process in batches\n",
    "        for i in range(0, len(remaining_posts), batch_size):\n",
    "            batch = remaining_posts[i:i+batch_size]\n",
    "            \n",
    "            print(f\"\\nProcessing batch {i//batch_size + 1}/{(len(remaining_posts) + batch_size - 1)//batch_size}\")\n",
    "            \n",
    "            for post_id in tqdm(batch, desc=\"Updating authors\"):\n",
    "                try:\n",
    "                    # Get submission\n",
    "                    submission = reddit.submission(id=post_id)\n",
    "                    \n",
    "                    # Get author info (both name and ID)\n",
    "                    if submission.author is not None:\n",
    "                        author_name = submission.author.name\n",
    "                        author_id = submission.author.id\n",
    "                    else:\n",
    "                        author_name = \"[deleted]\"\n",
    "                        author_id = \"[deleted]\"\n",
    "                    \n",
    "                    # Update dataframe\n",
    "                    mask = df['post_id'] == post_id\n",
    "                    df.loc[mask, target_column] = author_name\n",
    "                    \n",
    "                    # Add author_id column if it doesn't exist\n",
    "                    if 'author_id' not in df.columns:\n",
    "                        df['author_id'] = None\n",
    "                    df.loc[mask, 'author_id'] = author_id\n",
    "                    \n",
    "                    completed_ids.add(post_id)\n",
    "                    success_count += 1\n",
    "                    \n",
    "                    # In test mode, show detailed results\n",
    "                    if test_mode and success_count <= 10:\n",
    "                        print(f\"  ✅ {post_id}: {author_name} (ID: {author_id})\")\n",
    "                    \n",
    "                except Exception as e:\n",
    "                    print(f\"  ❌ Error updating post {post_id}: {e}\")\n",
    "                    failed_ids.add(post_id)\n",
    "                    error_count += 1\n",
    "                \n",
    "                # Rate limiting (shorter delay in test mode)\n",
    "                if test_mode:\n",
    "                    time.sleep(0.5)  # Faster for testing\n",
    "                else:\n",
    "                    time.sleep(1.1)  # Conservative for production\n",
    "            \n",
    "            # Save progress after each batch (skip in test mode)\n",
    "            if not test_mode:\n",
    "                save_update_progress(completed_ids, failed_ids)\n",
    "            \n",
    "            # Save intermediate CSV\n",
    "            timestamp = datetime.now().strftime(\"%Y%m%d_%H%M%S\")\n",
    "            if test_mode:\n",
    "                temp_filename = f\"test_updated_{timestamp}.csv\"\n",
    "            else:\n",
    "                temp_filename = f\"temp_updated_{timestamp}.csv\"\n",
    "            df.to_csv(temp_filename, index=False)\n",
    "            \n",
    "            # Log progress to Neptune\n",
    "            run[\"progress/completed\"].log(len(completed_ids))\n",
    "            run[\"progress/failed\"].log(len(failed_ids))\n",
    "            run[\"progress/success_rate\"].log(success_count / (success_count + error_count) if (success_count + error_count) > 0 else 0)\n",
    "            \n",
    "            elapsed_time = time.time() - start_time\n",
    "            posts_per_minute = len(completed_ids) / (elapsed_time / 60) if elapsed_time > 0 else 0\n",
    "            run[\"progress/posts_per_minute\"].log(posts_per_minute)\n",
    "            \n",
    "            print(f\"Progress: {len(completed_ids):,}/{len(posts_to_update):,} ({len(completed_ids)/len(posts_to_update)*100:.1f}%)\")\n",
    "            print(f\"Success rate: {success_count}/{success_count + error_count} ({success_count/(success_count + error_count)*100:.1f}%)\")\n",
    "            print(f\"Posts per minute: {posts_per_minute:.1f}\")\n",
    "            \n",
    "            # Shorter break in test mode\n",
    "            if i + batch_size < len(remaining_posts):\n",
    "                if test_mode:\n",
    "                    print(\"Taking a 5-second break...\")\n",
    "                    time.sleep(5)\n",
    "                else:\n",
    "                    print(\"Taking a 30-second break between batches...\")\n",
    "                    time.sleep(30)\n",
    "    \n",
    "    except KeyboardInterrupt:\n",
    "        print(\"\\nUpdate interrupted by user. Progress saved.\")\n",
    "        run[\"status\"] = \"interrupted\"\n",
    "        run[\"interruption_point\"] = len(completed_ids)\n",
    "    \n",
    "    except Exception as e:\n",
    "        print(f\"Unexpected error: {e}\")\n",
    "        run[\"status\"] = \"error\"\n",
    "        run[\"error_message\"] = str(e)\n",
    "    \n",
    "    finally:\n",
    "        # Final save\n",
    "        if not test_mode:\n",
    "            save_update_progress(completed_ids, failed_ids)\n",
    "        \n",
    "        # Save final CSV\n",
    "        if test_mode:\n",
    "            final_filename = Path(str(csv_file).replace(\".csv\", \"_test_with_authors.csv\"))\n",
    "        else:\n",
    "            final_filename = Path(str(csv_file).replace('.csv', '_with_authors.csv'))\n",
    "        df.to_csv(final_filename, index=False)\n",
    "        \n",
    "        # Calculate final stats\n",
    "        end_time = time.time()\n",
    "        total_time = end_time - start_time\n",
    "        \n",
    "        print(f\"\\nUpdate completed!\")\n",
    "        if test_mode:\n",
    "            print(f\"Total time: {total_time/60:.2f} minutes\")\n",
    "        else:\n",
    "            print(f\"Total time: {total_time/3600:.2f} hours\")\n",
    "        print(f\"Successfully updated: {success_count:,}\")\n",
    "        print(f\"Failed: {error_count:,}\")\n",
    "        print(f\"Final CSV saved as: {final_filename}\")\n",
    "        \n",
    "        # Show sample of updated data in test mode\n",
    "        if test_mode and success_count > 0:\n",
    "            print(f\"\\n📊 Sample of updated data:\")\n",
    "            sample_data = df[df['post_id'].isin(list(completed_ids)[:5])]\n",
    "            for _, row in sample_data.iterrows():\n",
    "                print(f\"  {row['post_id']}: '{row['title'][:50]}...' by {row[target_column]} (ID: {row['author_id']})\")\n",
    "        \n",
    "        # Log final results to Neptune\n",
    "        run[\"results/total_time_hours\"] = total_time / 3600\n",
    "        run[\"results/successfully_updated\"] = success_count\n",
    "        run[\"results/failed_updates\"] = error_count\n",
    "        run[\"results/final_csv\"] = str(final_filename)\n",
    "        \n",
    "        # Upload final CSV to Neptune\n",
    "        run[\"data/updated_csv\"].upload(str(final_filename))\n",
    "        if not test_mode:\n",
    "            run[\"data/progress_file\"].upload(\"author_update_progress.json\")\n",
    "        \n",
    "        run.stop()\n",
    "        \n",
    "        return df\n",
    "\n",
    "def resume_update(csv_file, target_column='author_name'):\n",
    "    \"\"\"Resume a previously interrupted update\"\"\"\n",
    "    print(\"Resuming previous update...\")\n",
    "    return update_authors_bulk(csv_file, target_column)\n",
    "\n",
    "def quick_stats(csv_file):\n",
    "    \"\"\"Get quick statistics about the CSV file\"\"\"\n",
    "    df = analyze_csv_file(csv_file)\n",
    "    if df is not None:\n",
    "        posts_to_update = identify_posts_to_update(df)\n",
    "        print(f\"\\nQuick Stats:\")\n",
    "        print(f\"Total posts: {len(df):,}\")\n",
    "        print(f\"Posts needing author updates: {len(posts_to_update):,}\")\n",
    "        print(f\"Estimated time: {len(posts_to_update)/3600:.1f} hours\")\n",
    "\n",
    "def test_author_update(csv_file, target_column='author_name', test_limit=100):\n",
    "    \"\"\"Test author update with a small sample first\"\"\"\n",
    "    print(f\"🧪 TESTING MODE: Updating {test_limit} posts\")\n",
    "    print(\"=\" * 50)\n",
    "    return update_authors_bulk(csv_file, target_column, test_mode=True, test_limit=test_limit)\n",
    "\n",
    "def production_author_update(csv_file, target_column='author_name'):\n",
    "    \"\"\"Run full production update\"\"\"\n",
    "    print(\"🚀 PRODUCTION MODE: Updating all missing authors\")\n",
    "    print(\"=\" * 50)\n",
    "    return update_authors_bulk(csv_file, target_column, test_mode=False)\n"
   ]
  },
  {
   "cell_type": "code",
   "execution_count": null,
   "id": "083454ee",
   "metadata": {},
   "outputs": [
    {
     "name": "stdout",
     "output_type": "stream",
     "text": [
      "🔧 WSB Author Updater Script\n",
      "==================================================\n",
      "Step 1: Analyzing your CSV file...\n",
      "Analyzing C:\\Users\\Admin\\Projects\\ML Projects\\ManipDetect\\data\\new_reddit_wsb.csv...\n",
      "Total rows: 53,187\n",
      "Columns: ['title', 'score', 'post_id', 'url', 'comms_num', 'created', 'body', 'timestamp', 'author_name', 'author_id']\n",
      "Author-related columns: ['author_name', 'author_id']\n",
      "\n",
      "author_name analysis:\n",
      "  Missing (NaN): 53,187\n",
      "  Empty strings: 0\n",
      "  [deleted]: 0\n",
      "  [unavailable]: 0\n",
      "  Total to potentially update: 53,187\n",
      "\n",
      "author_id analysis:\n",
      "  Missing (NaN): 53,187\n",
      "  Empty strings: 0\n",
      "  [deleted]: 0\n",
      "  [unavailable]: 0\n",
      "  Total to potentially update: 53,187\n",
      "Posts needing author updates: 53,187\n",
      "\n",
      "Quick Stats:\n",
      "Total posts: 53,187\n",
      "Posts needing author updates: 53,187\n",
      "Estimated time: 14.8 hours\n",
      "\n",
      "==================================================\n",
      "Choose your action:\n",
      "1. Test Mode (100 posts) - Uncomment line below\n",
      "2. Production Mode (all posts) - Uncomment line below\n",
      "3. Resume interrupted update - Uncomment line below\n",
      "==================================================\n",
      "🚀 PRODUCTION MODE: Updating all missing authors\n",
      "==================================================\n",
      "[neptune] [info   ] Neptune initialized. Open in the app: https://app.neptune.ai/krishnadasm/wallstreetbets-scraper/e/WAL-19\n",
      "Analyzing C:\\Users\\Admin\\Projects\\ML Projects\\ManipDetect\\data\\new_reddit_wsb.csv...\n",
      "Total rows: 53,187\n",
      "Columns: ['title', 'score', 'post_id', 'url', 'comms_num', 'created', 'body', 'timestamp', 'author_name', 'author_id']\n",
      "Author-related columns: ['author_name', 'author_id']\n",
      "\n",
      "author_name analysis:\n",
      "  Missing (NaN): 53,187\n",
      "  Empty strings: 0\n",
      "  [deleted]: 0\n",
      "  [unavailable]: 0\n",
      "  Total to potentially update: 53,187\n",
      "\n",
      "author_id analysis:\n",
      "  Missing (NaN): 53,187\n",
      "  Empty strings: 0\n",
      "  [deleted]: 0\n",
      "  [unavailable]: 0\n",
      "  Total to potentially update: 53,187\n",
      "Posts needing author updates: 53,187\n",
      "Total posts to update: 53,187\n",
      "Already completed: 0\n",
      "Remaining: 53,187\n",
      "Estimated time: 14.8 hours\n",
      "\n",
      "Processing batch 1/532\n"
     ]
    },
    {
     "name": "stderr",
     "output_type": "stream",
     "text": [
      "Updating authors:   0%|          | 0/100 [00:00<?, ?it/s]C:\\Users\\Admin\\AppData\\Local\\Temp\\ipykernel_8808\\1706575410.py:91: FutureWarning: Setting an item of incompatible dtype is deprecated and will raise an error in a future version of pandas. Value '[deleted]' has dtype incompatible with float64, please explicitly cast to a compatible dtype first.\n",
      "  df.loc[mask, target_column] = author_name\n",
      "C:\\Users\\Admin\\AppData\\Local\\Temp\\ipykernel_8808\\1706575410.py:96: FutureWarning: Setting an item of incompatible dtype is deprecated and will raise an error in a future version of pandas. Value '[deleted]' has dtype incompatible with float64, please explicitly cast to a compatible dtype first.\n",
      "  df.loc[mask, 'author_id'] = author_id\n",
      "Updating authors:  16%|█▌        | 16/100 [00:41<02:48,  2.01s/it]"
     ]
    },
    {
     "name": "stdout",
     "output_type": "stream",
     "text": [
      "  ❌ Error updating post l6u5j2: 'Redditor' object has no attribute 'id'\n"
     ]
    },
    {
     "name": "stderr",
     "output_type": "stream",
     "text": [
      "Updating authors:  33%|███▎      | 33/100 [01:26<02:44,  2.46s/it]"
     ]
    },
    {
     "name": "stdout",
     "output_type": "stream",
     "text": [
      "  ❌ Error updating post l6tke3: 'Redditor' object has no attribute 'id'\n"
     ]
    },
    {
     "name": "stderr",
     "output_type": "stream",
     "text": [
      "Updating authors:  39%|███▉      | 39/100 [01:43<02:30,  2.46s/it]"
     ]
    },
    {
     "name": "stdout",
     "output_type": "stream",
     "text": [
      "  ❌ Error updating post l6tauf: 'Redditor' object has no attribute 'id'\n"
     ]
    },
    {
     "name": "stderr",
     "output_type": "stream",
     "text": [
      "Updating authors:  69%|██████▉   | 69/100 [02:50<01:12,  2.34s/it]"
     ]
    },
    {
     "name": "stdout",
     "output_type": "stream",
     "text": [
      "  ❌ Error updating post l6s675: 'Redditor' object has no attribute 'id'\n"
     ]
    },
    {
     "name": "stderr",
     "output_type": "stream",
     "text": [
      "Updating authors: 100%|██████████| 100/100 [04:10<00:00,  2.51s/it]\n"
     ]
    },
    {
     "name": "stdout",
     "output_type": "stream",
     "text": [
      "Progress: 96/53,187 (0.2%)\n",
      "Success rate: 96/100 (96.0%)\n",
      "Posts per minute: 22.9\n",
      "Taking a 30-second break between batches...\n",
      "\n",
      "Processing batch 2/532\n"
     ]
    },
    {
     "name": "stderr",
     "output_type": "stream",
     "text": [
      "Updating authors:  39%|███▉      | 39/100 [01:52<02:32,  2.50s/it]"
     ]
    },
    {
     "name": "stdout",
     "output_type": "stream",
     "text": [
      "  ❌ Error updating post l6o2gi: 'Redditor' object has no attribute 'id'\n"
     ]
    },
    {
     "name": "stderr",
     "output_type": "stream",
     "text": [
      "Updating authors:  40%|████      | 40/100 [01:58<03:33,  3.56s/it]"
     ]
    },
    {
     "name": "stdout",
     "output_type": "stream",
     "text": [
      "  ❌ Error updating post l6o19x: 'Redditor' object has no attribute 'id'\n"
     ]
    },
    {
     "name": "stderr",
     "output_type": "stream",
     "text": [
      "Updating authors:  43%|████▎     | 43/100 [02:07<03:19,  3.50s/it]"
     ]
    },
    {
     "name": "stdout",
     "output_type": "stream",
     "text": [
      "  ❌ Error updating post l6nqz9: 'Redditor' object has no attribute 'id'\n"
     ]
    },
    {
     "name": "stderr",
     "output_type": "stream",
     "text": [
      "Updating authors:  48%|████▊     | 48/100 [02:26<03:06,  3.58s/it]"
     ]
    },
    {
     "name": "stdout",
     "output_type": "stream",
     "text": [
      "  ❌ Error updating post l6nfh1: 'Redditor' object has no attribute 'id'\n"
     ]
    },
    {
     "name": "stderr",
     "output_type": "stream",
     "text": [
      "Updating authors:  71%|███████   | 71/100 [03:47<01:47,  3.72s/it]"
     ]
    },
    {
     "name": "stdout",
     "output_type": "stream",
     "text": [
      "  ❌ Error updating post l6l6b2: 'Redditor' object has no attribute 'id'\n"
     ]
    },
    {
     "name": "stderr",
     "output_type": "stream",
     "text": [
      "Updating authors:  78%|███████▊  | 78/100 [04:12<01:15,  3.45s/it]"
     ]
    },
    {
     "name": "stdout",
     "output_type": "stream",
     "text": [
      "  ❌ Error updating post l6kgq9: 'Redditor' object has no attribute 'id'\n"
     ]
    },
    {
     "name": "stderr",
     "output_type": "stream",
     "text": [
      "Updating authors:  84%|████████▍ | 84/100 [04:34<01:02,  3.92s/it]"
     ]
    },
    {
     "name": "stdout",
     "output_type": "stream",
     "text": [
      "  ❌ Error updating post l6k1j5: 'Redditor' object has no attribute 'id'\n"
     ]
    },
    {
     "name": "stderr",
     "output_type": "stream",
     "text": [
      "Updating authors:  92%|█████████▏| 92/100 [04:51<00:18,  2.26s/it]"
     ]
    },
    {
     "name": "stdout",
     "output_type": "stream",
     "text": [
      "  ❌ Error updating post l6jr5f: 'Redditor' object has no attribute 'id'\n"
     ]
    },
    {
     "name": "stderr",
     "output_type": "stream",
     "text": [
      "Updating authors: 100%|██████████| 100/100 [05:15<00:00,  3.15s/it]\n"
     ]
    },
    {
     "name": "stdout",
     "output_type": "stream",
     "text": [
      "Progress: 188/53,187 (0.4%)\n",
      "Success rate: 188/200 (94.0%)\n",
      "Posts per minute: 18.8\n",
      "Taking a 30-second break between batches...\n",
      "\n",
      "Processing batch 3/532\n"
     ]
    },
    {
     "name": "stderr",
     "output_type": "stream",
     "text": [
      "Updating authors:   4%|▍         | 4/100 [00:10<03:38,  2.28s/it]"
     ]
    },
    {
     "name": "stdout",
     "output_type": "stream",
     "text": [
      "  ❌ Error updating post l6jdu8: 'Redditor' object has no attribute 'id'\n"
     ]
    },
    {
     "name": "stderr",
     "output_type": "stream",
     "text": [
      "Updating authors:  15%|█▌        | 15/100 [00:38<02:44,  1.93s/it]"
     ]
    },
    {
     "name": "stdout",
     "output_type": "stream",
     "text": [
      "  ❌ Error updating post l6hczl: 'Redditor' object has no attribute 'id'\n"
     ]
    },
    {
     "name": "stderr",
     "output_type": "stream",
     "text": [
      "Updating authors: 100%|██████████| 100/100 [02:55<00:00,  1.76s/it]\n"
     ]
    },
    {
     "name": "stdout",
     "output_type": "stream",
     "text": [
      "Progress: 286/53,187 (0.5%)\n",
      "Success rate: 286/300 (95.3%)\n",
      "Posts per minute: 21.3\n",
      "Taking a 30-second break between batches...\n",
      "\n",
      "Processing batch 4/532\n"
     ]
    },
    {
     "name": "stderr",
     "output_type": "stream",
     "text": [
      "Updating authors:  20%|██        | 20/100 [00:31<02:08,  1.61s/it]"
     ]
    },
    {
     "name": "stdout",
     "output_type": "stream",
     "text": [
      "  ❌ Error updating post l6x1jt: 'Redditor' object has no attribute 'id'\n"
     ]
    },
    {
     "name": "stderr",
     "output_type": "stream",
     "text": [
      "Updating authors:  81%|████████  | 81/100 [02:13<00:35,  1.85s/it]"
     ]
    },
    {
     "name": "stdout",
     "output_type": "stream",
     "text": [
      "  ❌ Error updating post l6x11d: 'Redditor' object has no attribute 'id'\n"
     ]
    },
    {
     "name": "stderr",
     "output_type": "stream",
     "text": [
      "Updating authors: 100%|██████████| 100/100 [02:44<00:00,  1.64s/it]\n"
     ]
    },
    {
     "name": "stdout",
     "output_type": "stream",
     "text": [
      "Progress: 384/53,187 (0.7%)\n",
      "Success rate: 384/400 (96.0%)\n",
      "Posts per minute: 23.0\n",
      "Taking a 30-second break between batches...\n",
      "\n",
      "Processing batch 5/532\n"
     ]
    },
    {
     "name": "stderr",
     "output_type": "stream",
     "text": [
      "Updating authors:  14%|█▍        | 14/100 [00:22<02:15,  1.57s/it]"
     ]
    },
    {
     "name": "stdout",
     "output_type": "stream",
     "text": [
      "  ❌ Error updating post l6x0wm: 'Redditor' object has no attribute 'id'\n"
     ]
    },
    {
     "name": "stderr",
     "output_type": "stream",
     "text": [
      "Updating authors:  49%|████▉     | 49/100 [01:18<01:22,  1.62s/it]"
     ]
    },
    {
     "name": "stdout",
     "output_type": "stream",
     "text": [
      "  ❌ Error updating post l6x0he: 'Redditor' object has no attribute 'id'\n"
     ]
    },
    {
     "name": "stderr",
     "output_type": "stream",
     "text": [
      "Updating authors:  99%|█████████▉| 99/100 [02:37<00:01,  1.53s/it]"
     ]
    },
    {
     "name": "stdout",
     "output_type": "stream",
     "text": [
      "  ❌ Error updating post l6wzzm: 'Redditor' object has no attribute 'id'\n"
     ]
    },
    {
     "name": "stderr",
     "output_type": "stream",
     "text": [
      "Updating authors: 100%|██████████| 100/100 [02:39<00:00,  1.59s/it]\n"
     ]
    },
    {
     "name": "stdout",
     "output_type": "stream",
     "text": [
      "Progress: 481/53,187 (0.9%)\n",
      "Success rate: 481/500 (96.2%)\n",
      "Posts per minute: 24.2\n",
      "Taking a 30-second break between batches...\n",
      "\n",
      "Processing batch 6/532\n"
     ]
    },
    {
     "name": "stderr",
     "output_type": "stream",
     "text": [
      "Updating authors:  11%|█         | 11/100 [00:17<02:24,  1.62s/it]"
     ]
    },
    {
     "name": "stdout",
     "output_type": "stream",
     "text": [
      "  ❌ Error updating post l6wzxp: 'Redditor' object has no attribute 'id'\n"
     ]
    },
    {
     "name": "stderr",
     "output_type": "stream",
     "text": [
      "Updating authors: 100%|██████████| 100/100 [02:39<00:00,  1.59s/it]\n"
     ]
    },
    {
     "name": "stdout",
     "output_type": "stream",
     "text": [
      "Progress: 580/53,187 (1.1%)\n",
      "Success rate: 580/600 (96.7%)\n",
      "Posts per minute: 25.2\n",
      "Taking a 30-second break between batches...\n",
      "\n",
      "Processing batch 7/532\n"
     ]
    },
    {
     "name": "stderr",
     "output_type": "stream",
     "text": [
      "Updating authors:  95%|█████████▌| 95/100 [02:30<00:07,  1.57s/it]"
     ]
    },
    {
     "name": "stdout",
     "output_type": "stream",
     "text": [
      "  ❌ Error updating post l6wyfx: 'Redditor' object has no attribute 'id'\n"
     ]
    },
    {
     "name": "stderr",
     "output_type": "stream",
     "text": [
      "Updating authors: 100%|██████████| 100/100 [02:38<00:00,  1.59s/it]\n"
     ]
    },
    {
     "name": "stdout",
     "output_type": "stream",
     "text": [
      "Progress: 679/53,187 (1.3%)\n",
      "Success rate: 679/700 (97.0%)\n",
      "Posts per minute: 25.9\n",
      "Taking a 30-second break between batches...\n",
      "\n",
      "Processing batch 8/532\n"
     ]
    },
    {
     "name": "stderr",
     "output_type": "stream",
     "text": [
      "Updating authors:   8%|▊         | 8/100 [00:12<02:27,  1.61s/it]"
     ]
    },
    {
     "name": "stdout",
     "output_type": "stream",
     "text": [
      "  ❌ Error updating post l6wydb: received 404 HTTP response\n"
     ]
    },
    {
     "name": "stderr",
     "output_type": "stream",
     "text": [
      "Updating authors:  13%|█▎        | 13/100 [00:20<02:17,  1.58s/it]"
     ]
    },
    {
     "name": "stdout",
     "output_type": "stream",
     "text": [
      "  ❌ Error updating post l6wyc5: 'Redditor' object has no attribute 'id'\n"
     ]
    },
    {
     "name": "stderr",
     "output_type": "stream",
     "text": [
      "Updating authors:  22%|██▏       | 22/100 [00:35<02:15,  1.74s/it]"
     ]
    },
    {
     "name": "stdout",
     "output_type": "stream",
     "text": [
      "  ❌ Error updating post l6wyap: 'Redditor' object has no attribute 'id'\n"
     ]
    },
    {
     "name": "stderr",
     "output_type": "stream",
     "text": [
      "Updating authors:  55%|█████▌    | 55/100 [01:28<01:10,  1.57s/it]"
     ]
    },
    {
     "name": "stdout",
     "output_type": "stream",
     "text": [
      "  ❌ Error updating post l6wxyd: 'Redditor' object has no attribute 'id'\n"
     ]
    },
    {
     "name": "stderr",
     "output_type": "stream",
     "text": [
      "Updating authors: 100%|██████████| 100/100 [02:40<00:00,  1.60s/it]\n"
     ]
    },
    {
     "name": "stdout",
     "output_type": "stream",
     "text": [
      "Progress: 775/53,187 (1.5%)\n",
      "Success rate: 775/800 (96.9%)\n",
      "Posts per minute: 26.4\n",
      "Taking a 30-second break between batches...\n",
      "\n",
      "Processing batch 9/532\n"
     ]
    },
    {
     "name": "stderr",
     "output_type": "stream",
     "text": [
      "Updating authors:  61%|██████    | 61/100 [01:36<01:00,  1.54s/it]"
     ]
    },
    {
     "name": "stdout",
     "output_type": "stream",
     "text": [
      "  ❌ Error updating post l6wwxt: 'Redditor' object has no attribute 'id'\n"
     ]
    },
    {
     "name": "stderr",
     "output_type": "stream",
     "text": [
      "Updating authors: 100%|██████████| 100/100 [02:39<00:00,  1.59s/it]\n"
     ]
    },
    {
     "name": "stdout",
     "output_type": "stream",
     "text": [
      "Progress: 874/53,187 (1.6%)\n",
      "Success rate: 874/900 (97.1%)\n",
      "Posts per minute: 26.9\n",
      "Taking a 30-second break between batches...\n",
      "\n",
      "Processing batch 10/532\n"
     ]
    },
    {
     "name": "stderr",
     "output_type": "stream",
     "text": [
      "Updating authors:  34%|███▍      | 34/100 [00:54<01:38,  1.49s/it]"
     ]
    },
    {
     "name": "stdout",
     "output_type": "stream",
     "text": [
      "  ❌ Error updating post l6wwd9: received 404 HTTP response\n"
     ]
    },
    {
     "name": "stderr",
     "output_type": "stream",
     "text": [
      "Updating authors: 100%|██████████| 100/100 [02:40<00:00,  1.60s/it]\n"
     ]
    },
    {
     "name": "stdout",
     "output_type": "stream",
     "text": [
      "Progress: 973/53,187 (1.8%)\n",
      "Success rate: 973/1000 (97.3%)\n",
      "Posts per minute: 27.2\n",
      "Taking a 30-second break between batches...\n",
      "\n",
      "Processing batch 11/532\n"
     ]
    },
    {
     "name": "stderr",
     "output_type": "stream",
     "text": [
      "Updating authors:  19%|█▉        | 19/100 [00:30<02:05,  1.55s/it]"
     ]
    },
    {
     "name": "stdout",
     "output_type": "stream",
     "text": [
      "  ❌ Error updating post l6wvi7: 'Redditor' object has no attribute 'id'\n"
     ]
    },
    {
     "name": "stderr",
     "output_type": "stream",
     "text": [
      "Updating authors: 100%|██████████| 100/100 [02:33<00:00,  1.54s/it]\n"
     ]
    },
    {
     "name": "stdout",
     "output_type": "stream",
     "text": [
      "Progress: 1,072/53,187 (2.0%)\n",
      "Success rate: 1072/1100 (97.5%)\n",
      "Posts per minute: 27.6\n",
      "Taking a 30-second break between batches...\n",
      "\n",
      "Processing batch 12/532\n"
     ]
    },
    {
     "name": "stderr",
     "output_type": "stream",
     "text": [
      "Updating authors:  96%|█████████▌| 96/100 [02:36<00:06,  1.60s/it]"
     ]
    },
    {
     "name": "stdout",
     "output_type": "stream",
     "text": [
      "  ❌ Error updating post l6wu0a: 'Redditor' object has no attribute 'id'\n"
     ]
    },
    {
     "name": "stderr",
     "output_type": "stream",
     "text": [
      "Updating authors: 100%|██████████| 100/100 [02:42<00:00,  1.62s/it]\n"
     ]
    },
    {
     "name": "stdout",
     "output_type": "stream",
     "text": [
      "Progress: 1,171/53,187 (2.2%)\n",
      "Success rate: 1171/1200 (97.6%)\n",
      "Posts per minute: 27.9\n",
      "Taking a 30-second break between batches...\n",
      "\n",
      "Processing batch 13/532\n"
     ]
    },
    {
     "name": "stderr",
     "output_type": "stream",
     "text": [
      "Updating authors:   5%|▌         | 5/100 [00:07<02:27,  1.56s/it]"
     ]
    },
    {
     "name": "stdout",
     "output_type": "stream",
     "text": [
      "  ❌ Error updating post l6yx8n: 'Redditor' object has no attribute 'id'\n"
     ]
    },
    {
     "name": "stderr",
     "output_type": "stream",
     "text": [
      "Updating authors:  12%|█▏        | 12/100 [00:19<02:26,  1.66s/it]"
     ]
    },
    {
     "name": "stdout",
     "output_type": "stream",
     "text": [
      "  ❌ Error updating post l6yx7z: 'Redditor' object has no attribute 'id'\n"
     ]
    },
    {
     "name": "stderr",
     "output_type": "stream",
     "text": [
      "Updating authors:  22%|██▏       | 22/100 [00:34<01:56,  1.50s/it]"
     ]
    },
    {
     "name": "stdout",
     "output_type": "stream",
     "text": [
      "  ❌ Error updating post l6yx6n: 'Redditor' object has no attribute 'id'\n"
     ]
    },
    {
     "name": "stderr",
     "output_type": "stream",
     "text": [
      "Updating authors:  23%|██▎       | 23/100 [00:36<01:56,  1.52s/it]"
     ]
    },
    {
     "name": "stdout",
     "output_type": "stream",
     "text": [
      "  ❌ Error updating post l6yx6m: 'Redditor' object has no attribute 'id'\n"
     ]
    },
    {
     "name": "stderr",
     "output_type": "stream",
     "text": [
      "Updating authors:  34%|███▍      | 34/100 [00:53<01:41,  1.54s/it]"
     ]
    },
    {
     "name": "stdout",
     "output_type": "stream",
     "text": [
      "  ❌ Error updating post l6yx5p: 'Redditor' object has no attribute 'id'\n"
     ]
    },
    {
     "name": "stderr",
     "output_type": "stream",
     "text": [
      "Updating authors:  44%|████▍     | 44/100 [01:08<01:24,  1.51s/it]"
     ]
    },
    {
     "name": "stdout",
     "output_type": "stream",
     "text": [
      "  ❌ Error updating post l6yx3w: 'Redditor' object has no attribute 'id'\n"
     ]
    },
    {
     "name": "stderr",
     "output_type": "stream",
     "text": [
      "Updating authors:  88%|████████▊ | 88/100 [02:18<00:18,  1.51s/it]"
     ]
    },
    {
     "name": "stdout",
     "output_type": "stream",
     "text": [
      "  ❌ Error updating post l6ywyi: 'Redditor' object has no attribute 'id'\n"
     ]
    },
    {
     "name": "stderr",
     "output_type": "stream",
     "text": [
      "Updating authors: 100%|██████████| 100/100 [02:36<00:00,  1.56s/it]\n"
     ]
    },
    {
     "name": "stdout",
     "output_type": "stream",
     "text": [
      "Progress: 1,264/53,187 (2.4%)\n",
      "Success rate: 1264/1300 (97.2%)\n",
      "Posts per minute: 28.0\n",
      "Taking a 30-second break between batches...\n",
      "\n",
      "Processing batch 14/532\n"
     ]
    },
    {
     "name": "stderr",
     "output_type": "stream",
     "text": [
      "Updating authors:  12%|█▏        | 12/100 [00:19<02:16,  1.55s/it]"
     ]
    },
    {
     "name": "stdout",
     "output_type": "stream",
     "text": [
      "  ❌ Error updating post l6ywvr: 'Redditor' object has no attribute 'id'\n"
     ]
    },
    {
     "name": "stderr",
     "output_type": "stream",
     "text": [
      "Updating authors: 100%|██████████| 100/100 [02:35<00:00,  1.56s/it]\n"
     ]
    },
    {
     "name": "stdout",
     "output_type": "stream",
     "text": [
      "Progress: 1,363/53,187 (2.6%)\n",
      "Success rate: 1363/1400 (97.4%)\n",
      "Posts per minute: 28.2\n",
      "Taking a 30-second break between batches...\n",
      "\n",
      "Processing batch 15/532\n"
     ]
    },
    {
     "name": "stderr",
     "output_type": "stream",
     "text": [
      "Updating authors:  25%|██▌       | 25/100 [00:39<01:52,  1.50s/it]"
     ]
    },
    {
     "name": "stdout",
     "output_type": "stream",
     "text": [
      "  ❌ Error updating post l6ywh2: 'Redditor' object has no attribute 'id'\n"
     ]
    },
    {
     "name": "stderr",
     "output_type": "stream",
     "text": [
      "Updating authors: 100%|██████████| 100/100 [02:37<00:00,  1.57s/it]\n"
     ]
    },
    {
     "name": "stdout",
     "output_type": "stream",
     "text": [
      "Progress: 1,462/53,187 (2.7%)\n",
      "Success rate: 1462/1500 (97.5%)\n",
      "Posts per minute: 28.4\n",
      "Taking a 30-second break between batches...\n",
      "\n",
      "Processing batch 16/532\n"
     ]
    },
    {
     "name": "stderr",
     "output_type": "stream",
     "text": [
      "Updating authors:  61%|██████    | 61/100 [01:33<00:56,  1.45s/it]"
     ]
    },
    {
     "name": "stdout",
     "output_type": "stream",
     "text": [
      "  ❌ Error updating post l6yw28: received 404 HTTP response\n"
     ]
    },
    {
     "name": "stderr",
     "output_type": "stream",
     "text": [
      "Updating authors: 100%|██████████| 100/100 [02:34<00:00,  1.54s/it]\n"
     ]
    },
    {
     "name": "stdout",
     "output_type": "stream",
     "text": [
      "Progress: 1,561/53,187 (2.9%)\n",
      "Success rate: 1561/1600 (97.6%)\n",
      "Posts per minute: 28.6\n",
      "Taking a 30-second break between batches...\n",
      "\n",
      "Processing batch 17/532\n"
     ]
    },
    {
     "name": "stderr",
     "output_type": "stream",
     "text": [
      "Updating authors:   8%|▊         | 8/100 [00:12<02:18,  1.51s/it]"
     ]
    },
    {
     "name": "stdout",
     "output_type": "stream",
     "text": [
      "  ❌ Error updating post l6yvx8: 'Redditor' object has no attribute 'id'\n"
     ]
    },
    {
     "name": "stderr",
     "output_type": "stream",
     "text": [
      "Updating authors:  34%|███▍      | 34/100 [00:53<01:48,  1.64s/it]"
     ]
    },
    {
     "name": "stdout",
     "output_type": "stream",
     "text": [
      "  ❌ Error updating post l6yvux: 'Redditor' object has no attribute 'id'\n"
     ]
    },
    {
     "name": "stderr",
     "output_type": "stream",
     "text": [
      "Updating authors:  43%|████▎     | 43/100 [01:07<01:30,  1.58s/it]"
     ]
    },
    {
     "name": "stdout",
     "output_type": "stream",
     "text": [
      "  ❌ Error updating post l6yvsh: 'Redditor' object has no attribute 'id'\n"
     ]
    },
    {
     "name": "stderr",
     "output_type": "stream",
     "text": [
      "Updating authors:  70%|███████   | 70/100 [01:49<00:45,  1.50s/it]"
     ]
    },
    {
     "name": "stdout",
     "output_type": "stream",
     "text": [
      "  ❌ Error updating post l6yvq8: 'Redditor' object has no attribute 'id'\n"
     ]
    },
    {
     "name": "stderr",
     "output_type": "stream",
     "text": [
      "Updating authors:  94%|█████████▍| 94/100 [02:27<00:09,  1.54s/it]"
     ]
    },
    {
     "name": "stdout",
     "output_type": "stream",
     "text": [
      "  ❌ Error updating post l6yvna: 'Redditor' object has no attribute 'id'\n"
     ]
    },
    {
     "name": "stderr",
     "output_type": "stream",
     "text": [
      "Updating authors: 100%|██████████| 100/100 [02:36<00:00,  1.57s/it]\n"
     ]
    },
    {
     "name": "stdout",
     "output_type": "stream",
     "text": [
      "Progress: 1,656/53,187 (3.1%)\n",
      "Success rate: 1656/1700 (97.4%)\n",
      "Posts per minute: 28.7\n",
      "Taking a 30-second break between batches...\n",
      "\n",
      "Processing batch 18/532\n"
     ]
    },
    {
     "name": "stderr",
     "output_type": "stream",
     "text": [
      "Updating authors:  59%|█████▉    | 59/100 [01:30<00:59,  1.46s/it]"
     ]
    },
    {
     "name": "stdout",
     "output_type": "stream",
     "text": [
      "  ❌ Error updating post l6yveq: 'Redditor' object has no attribute 'id'\n"
     ]
    },
    {
     "name": "stderr",
     "output_type": "stream",
     "text": [
      "Updating authors: 100%|██████████| 100/100 [02:35<00:00,  1.55s/it]\n"
     ]
    },
    {
     "name": "stdout",
     "output_type": "stream",
     "text": [
      "Progress: 1,755/53,187 (3.3%)\n",
      "Success rate: 1755/1800 (97.5%)\n",
      "Posts per minute: 28.9\n",
      "Taking a 30-second break between batches...\n",
      "\n",
      "Processing batch 19/532\n"
     ]
    },
    {
     "name": "stderr",
     "output_type": "stream",
     "text": [
      "Updating authors:  31%|███       | 31/100 [00:48<01:50,  1.61s/it]"
     ]
    },
    {
     "name": "stdout",
     "output_type": "stream",
     "text": [
      "  ❌ Error updating post l6yxte: 'Redditor' object has no attribute 'id'\n"
     ]
    },
    {
     "name": "stderr",
     "output_type": "stream",
     "text": [
      "Updating authors: 100%|██████████| 100/100 [02:33<00:00,  1.54s/it]\n"
     ]
    },
    {
     "name": "stdout",
     "output_type": "stream",
     "text": [
      "Progress: 1,854/53,187 (3.5%)\n",
      "Success rate: 1854/1900 (97.6%)\n",
      "Posts per minute: 29.1\n",
      "Taking a 30-second break between batches...\n",
      "\n",
      "Processing batch 20/532\n"
     ]
    },
    {
     "name": "stderr",
     "output_type": "stream",
     "text": [
      "Updating authors:  63%|██████▎   | 63/100 [01:38<00:58,  1.57s/it]"
     ]
    },
    {
     "name": "stdout",
     "output_type": "stream",
     "text": [
      "  ❌ Error updating post l6yxe2: 'Redditor' object has no attribute 'id'\n"
     ]
    },
    {
     "name": "stderr",
     "output_type": "stream",
     "text": [
      "Updating authors: 100%|██████████| 100/100 [02:36<00:00,  1.57s/it]\n"
     ]
    },
    {
     "name": "stdout",
     "output_type": "stream",
     "text": [
      "Progress: 1,953/53,187 (3.7%)\n",
      "Success rate: 1953/2000 (97.7%)\n",
      "Posts per minute: 29.2\n",
      "Taking a 30-second break between batches...\n",
      "\n",
      "Processing batch 21/532\n"
     ]
    },
    {
     "name": "stderr",
     "output_type": "stream",
     "text": [
      "Updating authors:  54%|█████▍    | 54/100 [01:24<01:07,  1.46s/it]"
     ]
    },
    {
     "name": "stdout",
     "output_type": "stream",
     "text": [
      "  ❌ Error updating post l6z0jo: 'Redditor' object has no attribute 'id'\n"
     ]
    },
    {
     "name": "stderr",
     "output_type": "stream",
     "text": [
      "Updating authors:  56%|█████▌    | 56/100 [01:27<01:07,  1.54s/it]"
     ]
    },
    {
     "name": "stdout",
     "output_type": "stream",
     "text": [
      "  ❌ Error updating post l6z0jc: 'Redditor' object has no attribute 'id'\n"
     ]
    },
    {
     "name": "stderr",
     "output_type": "stream",
     "text": [
      "Updating authors: 100%|██████████| 100/100 [02:35<00:00,  1.56s/it]\n"
     ]
    },
    {
     "name": "stdout",
     "output_type": "stream",
     "text": [
      "Progress: 2,051/53,187 (3.9%)\n",
      "Success rate: 2051/2100 (97.7%)\n",
      "Posts per minute: 29.3\n",
      "Taking a 30-second break between batches...\n",
      "\n",
      "Processing batch 22/532\n"
     ]
    },
    {
     "name": "stderr",
     "output_type": "stream",
     "text": [
      "Updating authors:  42%|████▏     | 42/100 [01:05<01:25,  1.47s/it]"
     ]
    },
    {
     "name": "stdout",
     "output_type": "stream",
     "text": [
      "  ❌ Error updating post l6z0a5: 'Redditor' object has no attribute 'id'\n"
     ]
    },
    {
     "name": "stderr",
     "output_type": "stream",
     "text": [
      "Updating authors:  76%|███████▌  | 76/100 [01:59<00:39,  1.65s/it]"
     ]
    },
    {
     "name": "stdout",
     "output_type": "stream",
     "text": [
      "  ❌ Error updating post l6z05w: 'Redditor' object has no attribute 'id'\n"
     ]
    },
    {
     "name": "stderr",
     "output_type": "stream",
     "text": [
      "Updating authors:  82%|████████▏ | 82/100 [02:09<00:29,  1.65s/it]"
     ]
    },
    {
     "name": "stdout",
     "output_type": "stream",
     "text": [
      "  ❌ Error updating post l6z05l: 'Redditor' object has no attribute 'id'\n"
     ]
    },
    {
     "name": "stderr",
     "output_type": "stream",
     "text": [
      "Updating authors: 100%|██████████| 100/100 [02:38<00:00,  1.59s/it]\n"
     ]
    },
    {
     "name": "stdout",
     "output_type": "stream",
     "text": [
      "Progress: 2,148/53,187 (4.0%)\n",
      "Success rate: 2148/2200 (97.6%)\n",
      "Posts per minute: 29.3\n",
      "Taking a 30-second break between batches...\n",
      "\n",
      "Processing batch 23/532\n"
     ]
    },
    {
     "name": "stderr",
     "output_type": "stream",
     "text": [
      "Updating authors:   1%|          | 1/100 [00:01<02:14,  1.36s/it]"
     ]
    },
    {
     "name": "stdout",
     "output_type": "stream",
     "text": [
      "  ❌ Error updating post l6z02p: 'Redditor' object has no attribute 'id'\n"
     ]
    },
    {
     "name": "stderr",
     "output_type": "stream",
     "text": [
      "Updating authors: 100%|██████████| 100/100 [02:34<00:00,  1.55s/it]\n"
     ]
    },
    {
     "name": "stdout",
     "output_type": "stream",
     "text": [
      "Progress: 2,247/53,187 (4.2%)\n",
      "Success rate: 2247/2300 (97.7%)\n",
      "Posts per minute: 29.4\n",
      "Taking a 30-second break between batches...\n",
      "\n",
      "Processing batch 24/532\n"
     ]
    },
    {
     "name": "stderr",
     "output_type": "stream",
     "text": [
      "Updating authors:  12%|█▏        | 12/100 [00:18<02:21,  1.61s/it]"
     ]
    },
    {
     "name": "stdout",
     "output_type": "stream",
     "text": [
      "  ❌ Error updating post l6yzs7: 'Redditor' object has no attribute 'id'\n"
     ]
    },
    {
     "name": "stderr",
     "output_type": "stream",
     "text": [
      "Updating authors:  16%|█▌        | 16/100 [00:24<02:08,  1.53s/it]"
     ]
    },
    {
     "name": "stdout",
     "output_type": "stream",
     "text": [
      "  ❌ Error updating post l6yzrr: 'Redditor' object has no attribute 'id'\n"
     ]
    },
    {
     "name": "stderr",
     "output_type": "stream",
     "text": [
      "Updating authors:  71%|███████   | 71/100 [01:51<00:47,  1.62s/it]"
     ]
    },
    {
     "name": "stdout",
     "output_type": "stream",
     "text": [
      "  ❌ Error updating post l6yzl8: 'Redditor' object has no attribute 'id'\n"
     ]
    },
    {
     "name": "stderr",
     "output_type": "stream",
     "text": [
      "Updating authors:  86%|████████▌ | 86/100 [02:14<00:22,  1.60s/it]"
     ]
    },
    {
     "name": "stdout",
     "output_type": "stream",
     "text": [
      "  ❌ Error updating post l6yzk4: received 404 HTTP response\n"
     ]
    },
    {
     "name": "stderr",
     "output_type": "stream",
     "text": [
      "Updating authors: 100%|██████████| 100/100 [02:36<00:00,  1.57s/it]\n"
     ]
    },
    {
     "name": "stdout",
     "output_type": "stream",
     "text": [
      "Progress: 2,343/53,187 (4.4%)\n",
      "Success rate: 2343/2400 (97.6%)\n",
      "Posts per minute: 29.5\n",
      "Taking a 30-second break between batches...\n",
      "\n",
      "Processing batch 25/532\n"
     ]
    },
    {
     "name": "stderr",
     "output_type": "stream",
     "text": [
      "Updating authors:  47%|████▋     | 47/100 [01:13<01:21,  1.54s/it]"
     ]
    },
    {
     "name": "stdout",
     "output_type": "stream",
     "text": [
      "  ❌ Error updating post l6yzbo: 'Redditor' object has no attribute 'id'\n"
     ]
    },
    {
     "name": "stderr",
     "output_type": "stream",
     "text": [
      "Updating authors: 100%|██████████| 100/100 [02:36<00:00,  1.56s/it]\n"
     ]
    },
    {
     "name": "stdout",
     "output_type": "stream",
     "text": [
      "Progress: 2,442/53,187 (4.6%)\n",
      "Success rate: 2442/2500 (97.7%)\n",
      "Posts per minute: 29.6\n",
      "Taking a 30-second break between batches...\n",
      "\n",
      "Processing batch 26/532\n"
     ]
    },
    {
     "name": "stderr",
     "output_type": "stream",
     "text": [
      "Updating authors:  14%|█▍        | 14/100 [00:21<02:10,  1.51s/it]"
     ]
    },
    {
     "name": "stdout",
     "output_type": "stream",
     "text": [
      "  ❌ Error updating post l6yz36: 'Redditor' object has no attribute 'id'\n"
     ]
    },
    {
     "name": "stderr",
     "output_type": "stream",
     "text": [
      "Updating authors:  91%|█████████ | 91/100 [02:23<00:14,  1.63s/it]"
     ]
    },
    {
     "name": "stdout",
     "output_type": "stream",
     "text": [
      "  ❌ Error updating post l6yyty: 'Redditor' object has no attribute 'id'\n"
     ]
    },
    {
     "name": "stderr",
     "output_type": "stream",
     "text": [
      "Updating authors:  94%|█████████▍| 94/100 [02:28<00:09,  1.66s/it]"
     ]
    },
    {
     "name": "stdout",
     "output_type": "stream",
     "text": [
      "  ❌ Error updating post l6yytd: 'Redditor' object has no attribute 'id'\n"
     ]
    },
    {
     "name": "stderr",
     "output_type": "stream",
     "text": [
      "Updating authors: 100%|██████████| 100/100 [02:36<00:00,  1.57s/it]\n"
     ]
    },
    {
     "name": "stdout",
     "output_type": "stream",
     "text": [
      "Progress: 2,539/53,187 (4.8%)\n",
      "Success rate: 2539/2600 (97.7%)\n",
      "Posts per minute: 29.6\n",
      "Taking a 30-second break between batches...\n",
      "\n",
      "Processing batch 27/532\n"
     ]
    },
    {
     "name": "stderr",
     "output_type": "stream",
     "text": [
      "Updating authors:  88%|████████▊ | 88/100 [02:20<00:18,  1.57s/it]"
     ]
    },
    {
     "name": "stdout",
     "output_type": "stream",
     "text": [
      "  ❌ Error updating post l6yyga: 'Redditor' object has no attribute 'id'\n"
     ]
    },
    {
     "name": "stderr",
     "output_type": "stream",
     "text": [
      "Updating authors:  90%|█████████ | 90/100 [02:24<00:16,  1.61s/it]"
     ]
    },
    {
     "name": "stdout",
     "output_type": "stream",
     "text": [
      "  ❌ Error updating post l6yyg8: 'Redditor' object has no attribute 'id'\n"
     ]
    },
    {
     "name": "stderr",
     "output_type": "stream",
     "text": [
      "Updating authors: 100%|██████████| 100/100 [02:39<00:00,  1.60s/it]\n"
     ]
    },
    {
     "name": "stdout",
     "output_type": "stream",
     "text": [
      "Progress: 2,637/53,187 (5.0%)\n",
      "Success rate: 2637/2700 (97.7%)\n",
      "Posts per minute: 29.7\n",
      "Taking a 30-second break between batches...\n",
      "\n",
      "Processing batch 28/532\n"
     ]
    },
    {
     "name": "stderr",
     "output_type": "stream",
     "text": [
      "Updating authors:  74%|███████▍  | 74/100 [01:57<00:42,  1.62s/it]"
     ]
    },
    {
     "name": "stdout",
     "output_type": "stream",
     "text": [
      "  ❌ Error updating post l6yy7n: 'Redditor' object has no attribute 'id'\n"
     ]
    },
    {
     "name": "stderr",
     "output_type": "stream",
     "text": [
      "Updating authors:  94%|█████████▍| 94/100 [02:29<00:09,  1.63s/it]"
     ]
    },
    {
     "name": "stdout",
     "output_type": "stream",
     "text": [
      "  ❌ Error updating post l6yy4v: received 404 HTTP response\n"
     ]
    },
    {
     "name": "stderr",
     "output_type": "stream",
     "text": [
      "Updating authors: 100%|██████████| 100/100 [02:38<00:00,  1.58s/it]\n"
     ]
    },
    {
     "name": "stdout",
     "output_type": "stream",
     "text": [
      "Progress: 2,735/53,187 (5.1%)\n",
      "Success rate: 2735/2800 (97.7%)\n",
      "Posts per minute: 29.7\n",
      "Taking a 30-second break between batches...\n",
      "\n",
      "Processing batch 29/532\n"
     ]
    },
    {
     "name": "stderr",
     "output_type": "stream",
     "text": [
      "Updating authors:   5%|▌         | 5/100 [00:08<02:35,  1.64s/it]"
     ]
    },
    {
     "name": "stdout",
     "output_type": "stream",
     "text": [
      "  ❌ Error updating post l6yy3q: 'Redditor' object has no attribute 'id'\n"
     ]
    },
    {
     "name": "stderr",
     "output_type": "stream",
     "text": [
      "Updating authors:  97%|█████████▋| 97/100 [02:30<00:04,  1.46s/it]"
     ]
    },
    {
     "name": "stdout",
     "output_type": "stream",
     "text": [
      "  ❌ Error updating post l6zct3: 'Redditor' object has no attribute 'id'\n"
     ]
    },
    {
     "name": "stderr",
     "output_type": "stream",
     "text": [
      "Updating authors: 100%|██████████| 100/100 [02:34<00:00,  1.55s/it]\n"
     ]
    },
    {
     "name": "stdout",
     "output_type": "stream",
     "text": [
      "Progress: 2,833/53,187 (5.3%)\n",
      "Success rate: 2833/2900 (97.7%)\n",
      "Posts per minute: 29.8\n",
      "Taking a 30-second break between batches...\n",
      "\n",
      "Processing batch 30/532\n"
     ]
    },
    {
     "name": "stderr",
     "output_type": "stream",
     "text": [
      "Updating authors:  79%|███████▉  | 79/100 [02:04<00:32,  1.56s/it]"
     ]
    },
    {
     "name": "stdout",
     "output_type": "stream",
     "text": [
      "  ❌ Error updating post l6zcjz: 'Redditor' object has no attribute 'id'\n"
     ]
    },
    {
     "name": "stderr",
     "output_type": "stream",
     "text": [
      "Updating authors:  83%|████████▎ | 83/100 [02:10<00:26,  1.56s/it]"
     ]
    },
    {
     "name": "stdout",
     "output_type": "stream",
     "text": [
      "  ❌ Error updating post l6zcj5: 'Redditor' object has no attribute 'id'\n"
     ]
    },
    {
     "name": "stderr",
     "output_type": "stream",
     "text": [
      "Updating authors:  90%|█████████ | 90/100 [02:21<00:14,  1.49s/it]"
     ]
    },
    {
     "name": "stdout",
     "output_type": "stream",
     "text": [
      "  ❌ Error updating post l6zcia: 'Redditor' object has no attribute 'id'\n"
     ]
    },
    {
     "name": "stderr",
     "output_type": "stream",
     "text": [
      "Updating authors: 100%|██████████| 100/100 [02:37<00:00,  1.57s/it]\n"
     ]
    },
    {
     "name": "stdout",
     "output_type": "stream",
     "text": [
      "Progress: 2,930/53,187 (5.5%)\n",
      "Success rate: 2930/3000 (97.7%)\n",
      "Posts per minute: 29.8\n",
      "Taking a 30-second break between batches...\n",
      "\n",
      "Processing batch 31/532\n"
     ]
    },
    {
     "name": "stderr",
     "output_type": "stream",
     "text": [
      "Updating authors:  30%|███       | 30/100 [00:46<01:49,  1.57s/it]"
     ]
    },
    {
     "name": "stdout",
     "output_type": "stream",
     "text": [
      "  ❌ Error updating post l6zccf: received 404 HTTP response\n"
     ]
    },
    {
     "name": "stderr",
     "output_type": "stream",
     "text": [
      "Updating authors: 100%|██████████| 100/100 [02:37<00:00,  1.57s/it]\n"
     ]
    },
    {
     "name": "stdout",
     "output_type": "stream",
     "text": [
      "Progress: 3,029/53,187 (5.7%)\n",
      "Success rate: 3029/3100 (97.7%)\n",
      "Posts per minute: 29.9\n",
      "Taking a 30-second break between batches...\n",
      "\n",
      "Processing batch 32/532\n"
     ]
    },
    {
     "name": "stderr",
     "output_type": "stream",
     "text": [
      "Updating authors:   3%|▎         | 3/100 [00:04<02:23,  1.48s/it]"
     ]
    },
    {
     "name": "stdout",
     "output_type": "stream",
     "text": [
      "  ❌ Error updating post l6zd56: 'Redditor' object has no attribute 'id'\n"
     ]
    },
    {
     "name": "stderr",
     "output_type": "stream",
     "text": [
      "Updating authors:  67%|██████▋   | 67/100 [01:44<00:50,  1.55s/it]"
     ]
    },
    {
     "name": "stdout",
     "output_type": "stream",
     "text": [
      "  ❌ Error updating post l6zcws: 'Redditor' object has no attribute 'id'\n"
     ]
    },
    {
     "name": "stderr",
     "output_type": "stream",
     "text": [
      "Updating authors: 100%|██████████| 100/100 [02:36<00:00,  1.57s/it]\n"
     ]
    },
    {
     "name": "stdout",
     "output_type": "stream",
     "text": [
      "Progress: 3,127/53,187 (5.9%)\n",
      "Success rate: 3127/3200 (97.7%)\n",
      "Posts per minute: 29.9\n",
      "Taking a 30-second break between batches...\n",
      "\n",
      "Processing batch 33/532\n"
     ]
    },
    {
     "name": "stderr",
     "output_type": "stream",
     "text": [
      "Updating authors:  83%|████████▎ | 83/100 [02:08<00:25,  1.49s/it]"
     ]
    },
    {
     "name": "stdout",
     "output_type": "stream",
     "text": [
      "  ❌ Error updating post l6zda2: 'Redditor' object has no attribute 'id'\n"
     ]
    },
    {
     "name": "stderr",
     "output_type": "stream",
     "text": [
      "Updating authors: 100%|██████████| 100/100 [02:34<00:00,  1.55s/it]\n"
     ]
    },
    {
     "name": "stdout",
     "output_type": "stream",
     "text": [
      "Progress: 3,226/53,187 (6.1%)\n",
      "Success rate: 3226/3300 (97.8%)\n",
      "Posts per minute: 30.0\n",
      "Taking a 30-second break between batches...\n",
      "\n",
      "Processing batch 34/532\n"
     ]
    },
    {
     "name": "stderr",
     "output_type": "stream",
     "text": [
      "Updating authors:  24%|██▍       | 24/100 [00:37<02:00,  1.59s/it]"
     ]
    },
    {
     "name": "stdout",
     "output_type": "stream",
     "text": [
      "  ❌ Error updating post l6zdwm: 'Redditor' object has no attribute 'id'\n"
     ]
    },
    {
     "name": "stderr",
     "output_type": "stream",
     "text": [
      "Updating authors:  33%|███▎      | 33/100 [00:51<01:42,  1.53s/it]"
     ]
    },
    {
     "name": "stdout",
     "output_type": "stream",
     "text": [
      "  ❌ Error updating post l6zdw0: 'Redditor' object has no attribute 'id'\n"
     ]
    },
    {
     "name": "stderr",
     "output_type": "stream",
     "text": [
      "Updating authors:  77%|███████▋  | 77/100 [02:02<00:37,  1.65s/it]"
     ]
    },
    {
     "name": "stdout",
     "output_type": "stream",
     "text": [
      "  ❌ Error updating post l6zdr8: 'Redditor' object has no attribute 'id'\n"
     ]
    },
    {
     "name": "stderr",
     "output_type": "stream",
     "text": [
      "Updating authors:  99%|█████████▉| 99/100 [02:36<00:01,  1.54s/it]"
     ]
    },
    {
     "name": "stdout",
     "output_type": "stream",
     "text": [
      "  ❌ Error updating post l6zdok: 'Redditor' object has no attribute 'id'\n"
     ]
    },
    {
     "name": "stderr",
     "output_type": "stream",
     "text": [
      "Updating authors: 100%|██████████| 100/100 [02:38<00:00,  1.58s/it]\n"
     ]
    },
    {
     "name": "stdout",
     "output_type": "stream",
     "text": [
      "Progress: 3,322/53,187 (6.2%)\n",
      "Success rate: 3322/3400 (97.7%)\n",
      "Posts per minute: 30.0\n",
      "Taking a 30-second break between batches...\n",
      "\n",
      "Processing batch 35/532\n"
     ]
    },
    {
     "name": "stderr",
     "output_type": "stream",
     "text": [
      "Updating authors:  17%|█▋        | 17/100 [00:26<02:07,  1.53s/it]"
     ]
    },
    {
     "name": "stdout",
     "output_type": "stream",
     "text": [
      "  ❌ Error updating post l6zdlf: 'Redditor' object has no attribute 'id'\n"
     ]
    },
    {
     "name": "stderr",
     "output_type": "stream",
     "text": [
      "Updating authors:  50%|█████     | 50/100 [01:17<01:19,  1.59s/it]"
     ]
    },
    {
     "name": "stdout",
     "output_type": "stream",
     "text": [
      "  ❌ Error updating post l6zf6i: 'Redditor' object has no attribute 'id'\n"
     ]
    },
    {
     "name": "stderr",
     "output_type": "stream",
     "text": [
      "Updating authors: 100%|██████████| 100/100 [02:34<00:00,  1.55s/it]\n"
     ]
    },
    {
     "name": "stdout",
     "output_type": "stream",
     "text": [
      "Progress: 3,420/53,187 (6.4%)\n",
      "Success rate: 3420/3500 (97.7%)\n",
      "Posts per minute: 30.0\n",
      "Taking a 30-second break between batches...\n",
      "\n",
      "Processing batch 36/532\n"
     ]
    },
    {
     "name": "stderr",
     "output_type": "stream",
     "text": [
      "Updating authors:   2%|▏         | 2/100 [00:03<02:44,  1.68s/it]"
     ]
    },
    {
     "name": "stdout",
     "output_type": "stream",
     "text": [
      "  ❌ Error updating post l6zeze: 'Redditor' object has no attribute 'id'\n"
     ]
    },
    {
     "name": "stderr",
     "output_type": "stream",
     "text": [
      "Updating authors:  58%|█████▊    | 58/100 [01:31<01:08,  1.62s/it]"
     ]
    },
    {
     "name": "stdout",
     "output_type": "stream",
     "text": [
      "  ❌ Error updating post l6zesq: 'Redditor' object has no attribute 'id'\n"
     ]
    },
    {
     "name": "stderr",
     "output_type": "stream",
     "text": [
      "Updating authors:  87%|████████▋ | 87/100 [02:16<00:19,  1.53s/it]"
     ]
    },
    {
     "name": "stdout",
     "output_type": "stream",
     "text": [
      "  ❌ Error updating post l6zep7: 'Redditor' object has no attribute 'id'\n"
     ]
    },
    {
     "name": "stderr",
     "output_type": "stream",
     "text": [
      "Updating authors: 100%|██████████| 100/100 [02:38<00:00,  1.58s/it]\n"
     ]
    },
    {
     "name": "stdout",
     "output_type": "stream",
     "text": [
      "Progress: 3,517/53,187 (6.6%)\n",
      "Success rate: 3517/3600 (97.7%)\n",
      "Posts per minute: 30.1\n",
      "Taking a 30-second break between batches...\n",
      "\n",
      "Processing batch 37/532\n"
     ]
    },
    {
     "name": "stderr",
     "output_type": "stream",
     "text": [
      "Updating authors:  38%|███▊      | 38/100 [00:59<01:31,  1.47s/it]"
     ]
    },
    {
     "name": "stdout",
     "output_type": "stream",
     "text": [
      "  ❌ Error updating post l6zehb: 'Redditor' object has no attribute 'id'\n"
     ]
    },
    {
     "name": "stderr",
     "output_type": "stream",
     "text": [
      "Updating authors:  88%|████████▊ | 88/100 [02:18<00:18,  1.53s/it]"
     ]
    },
    {
     "name": "stdout",
     "output_type": "stream",
     "text": [
      "  ❌ Error updating post l6zebf: 'Redditor' object has no attribute 'id'\n"
     ]
    },
    {
     "name": "stderr",
     "output_type": "stream",
     "text": [
      "Updating authors: 100%|██████████| 100/100 [02:36<00:00,  1.57s/it]\n"
     ]
    },
    {
     "name": "stdout",
     "output_type": "stream",
     "text": [
      "Progress: 3,615/53,187 (6.8%)\n",
      "Success rate: 3615/3700 (97.7%)\n",
      "Posts per minute: 30.1\n",
      "Taking a 30-second break between batches...\n",
      "\n",
      "Processing batch 38/532\n"
     ]
    },
    {
     "name": "stderr",
     "output_type": "stream",
     "text": [
      "Updating authors: 100%|██████████| 100/100 [02:37<00:00,  1.57s/it]\n"
     ]
    },
    {
     "name": "stdout",
     "output_type": "stream",
     "text": [
      "Progress: 3,715/53,187 (7.0%)\n",
      "Success rate: 3715/3800 (97.8%)\n",
      "Posts per minute: 30.1\n",
      "Taking a 30-second break between batches...\n",
      "\n",
      "Processing batch 39/532\n"
     ]
    },
    {
     "name": "stderr",
     "output_type": "stream",
     "text": [
      "Updating authors:  42%|████▏     | 42/100 [01:05<01:27,  1.51s/it]"
     ]
    },
    {
     "name": "stdout",
     "output_type": "stream",
     "text": [
      "  ❌ Error updating post l6zhyn: 'Redditor' object has no attribute 'id'\n"
     ]
    },
    {
     "name": "stderr",
     "output_type": "stream",
     "text": [
      "Updating authors:  93%|█████████▎| 93/100 [02:24<00:11,  1.62s/it]"
     ]
    },
    {
     "name": "stdout",
     "output_type": "stream",
     "text": [
      "  ❌ Error updating post l6zht5: 'Redditor' object has no attribute 'id'\n"
     ]
    },
    {
     "name": "stderr",
     "output_type": "stream",
     "text": [
      "Updating authors: 100%|██████████| 100/100 [02:35<00:00,  1.56s/it]\n"
     ]
    },
    {
     "name": "stdout",
     "output_type": "stream",
     "text": [
      "Progress: 3,813/53,187 (7.2%)\n",
      "Success rate: 3813/3900 (97.8%)\n",
      "Posts per minute: 30.2\n",
      "Taking a 30-second break between batches...\n",
      "\n",
      "Processing batch 40/532\n"
     ]
    },
    {
     "name": "stderr",
     "output_type": "stream",
     "text": [
      "Updating authors:  36%|███▌      | 36/100 [00:57<01:40,  1.57s/it]"
     ]
    },
    {
     "name": "stdout",
     "output_type": "stream",
     "text": [
      "  ❌ Error updating post l6zho7: 'Redditor' object has no attribute 'id'\n"
     ]
    },
    {
     "name": "stderr",
     "output_type": "stream",
     "text": [
      "Updating authors:  81%|████████  | 81/100 [02:07<00:29,  1.57s/it]"
     ]
    },
    {
     "name": "stdout",
     "output_type": "stream",
     "text": [
      "  ❌ Error updating post l6zhj9: 'Redditor' object has no attribute 'id'\n"
     ]
    },
    {
     "name": "stderr",
     "output_type": "stream",
     "text": [
      "Updating authors:  85%|████████▌ | 85/100 [02:13<00:22,  1.50s/it]"
     ]
    },
    {
     "name": "stdout",
     "output_type": "stream",
     "text": [
      "  ❌ Error updating post l6zhiq: 'Redditor' object has no attribute 'id'\n"
     ]
    },
    {
     "name": "stderr",
     "output_type": "stream",
     "text": [
      "Updating authors:  93%|█████████▎| 93/100 [02:25<00:10,  1.55s/it]"
     ]
    },
    {
     "name": "stdout",
     "output_type": "stream",
     "text": [
      "  ❌ Error updating post l6zhhx: 'Redditor' object has no attribute 'id'\n"
     ]
    },
    {
     "name": "stderr",
     "output_type": "stream",
     "text": [
      "Updating authors: 100%|██████████| 100/100 [02:36<00:00,  1.56s/it]\n"
     ]
    },
    {
     "name": "stdout",
     "output_type": "stream",
     "text": [
      "Progress: 3,909/53,187 (7.3%)\n",
      "Success rate: 3909/4000 (97.7%)\n",
      "Posts per minute: 30.2\n",
      "Taking a 30-second break between batches...\n",
      "\n",
      "Processing batch 41/532\n"
     ]
    },
    {
     "name": "stderr",
     "output_type": "stream",
     "text": [
      "Updating authors:  23%|██▎       | 23/100 [00:35<01:59,  1.55s/it]"
     ]
    },
    {
     "name": "stdout",
     "output_type": "stream",
     "text": [
      "  ❌ Error updating post l6zhec: 'Redditor' object has no attribute 'id'\n"
     ]
    },
    {
     "name": "stderr",
     "output_type": "stream",
     "text": [
      "Updating authors:  70%|███████   | 70/100 [01:47<00:47,  1.57s/it]"
     ]
    },
    {
     "name": "stdout",
     "output_type": "stream",
     "text": [
      "  ❌ Error updating post l6zh7r: 'Redditor' object has no attribute 'id'\n"
     ]
    },
    {
     "name": "stderr",
     "output_type": "stream",
     "text": [
      "Updating authors: 100%|██████████| 100/100 [02:35<00:00,  1.56s/it]\n"
     ]
    },
    {
     "name": "stdout",
     "output_type": "stream",
     "text": [
      "Progress: 4,007/53,187 (7.5%)\n",
      "Success rate: 4007/4100 (97.7%)\n",
      "Posts per minute: 30.2\n",
      "Taking a 30-second break between batches...\n",
      "\n",
      "Processing batch 42/532\n"
     ]
    },
    {
     "name": "stderr",
     "output_type": "stream",
     "text": [
      "Updating authors:  23%|██▎       | 23/100 [00:36<02:01,  1.57s/it]"
     ]
    },
    {
     "name": "stdout",
     "output_type": "stream",
     "text": [
      "  ❌ Error updating post l6zh1w: 'Redditor' object has no attribute 'id'\n"
     ]
    },
    {
     "name": "stderr",
     "output_type": "stream",
     "text": [
      "Updating authors: 100%|██████████| 100/100 [02:36<00:00,  1.57s/it]\n"
     ]
    },
    {
     "name": "stdout",
     "output_type": "stream",
     "text": [
      "Progress: 4,106/53,187 (7.7%)\n",
      "Success rate: 4106/4200 (97.8%)\n",
      "Posts per minute: 30.2\n",
      "Taking a 30-second break between batches...\n",
      "\n",
      "Processing batch 43/532\n"
     ]
    },
    {
     "name": "stderr",
     "output_type": "stream",
     "text": [
      "Updating authors:  18%|█▊        | 18/100 [00:28<02:08,  1.57s/it]"
     ]
    },
    {
     "name": "stdout",
     "output_type": "stream",
     "text": [
      "  ❌ Error updating post l6zgp2: 'Redditor' object has no attribute 'id'\n"
     ]
    },
    {
     "name": "stderr",
     "output_type": "stream",
     "text": [
      "Updating authors: 100%|██████████| 100/100 [02:37<00:00,  1.58s/it]\n"
     ]
    },
    {
     "name": "stdout",
     "output_type": "stream",
     "text": [
      "Progress: 4,205/53,187 (7.9%)\n",
      "Success rate: 4205/4300 (97.8%)\n",
      "Posts per minute: 30.3\n",
      "Taking a 30-second break between batches...\n",
      "\n",
      "Processing batch 44/532\n"
     ]
    },
    {
     "name": "stderr",
     "output_type": "stream",
     "text": [
      "Updating authors:  18%|█▊        | 18/100 [00:28<02:15,  1.65s/it]"
     ]
    },
    {
     "name": "stdout",
     "output_type": "stream",
     "text": [
      "  ❌ Error updating post l6zgey: 'Redditor' object has no attribute 'id'\n"
     ]
    },
    {
     "name": "stderr",
     "output_type": "stream",
     "text": [
      "Updating authors:  28%|██▊       | 28/100 [00:46<01:59,  1.66s/it]"
     ]
    },
    {
     "name": "stdout",
     "output_type": "stream",
     "text": [
      "  ❌ Error updating post l6zgdu: 'Redditor' object has no attribute 'id'\n"
     ]
    },
    {
     "name": "stderr",
     "output_type": "stream",
     "text": [
      "Updating authors:  36%|███▌      | 36/100 [00:58<01:34,  1.48s/it]"
     ]
    },
    {
     "name": "stdout",
     "output_type": "stream",
     "text": [
      "  ❌ Error updating post l6zgd2: 'Redditor' object has no attribute 'id'\n"
     ]
    },
    {
     "name": "stderr",
     "output_type": "stream",
     "text": [
      "Updating authors:  85%|████████▌ | 85/100 [02:13<00:22,  1.48s/it]"
     ]
    },
    {
     "name": "stdout",
     "output_type": "stream",
     "text": [
      "  ❌ Error updating post l6zg8e: 'Redditor' object has no attribute 'id'\n"
     ]
    },
    {
     "name": "stderr",
     "output_type": "stream",
     "text": [
      "Updating authors:  86%|████████▌ | 86/100 [02:15<00:21,  1.52s/it]"
     ]
    },
    {
     "name": "stdout",
     "output_type": "stream",
     "text": [
      "  ❌ Error updating post l6zg85: 'Redditor' object has no attribute 'id'\n"
     ]
    },
    {
     "name": "stderr",
     "output_type": "stream",
     "text": [
      "Updating authors: 100%|██████████| 100/100 [02:36<00:00,  1.56s/it]\n"
     ]
    },
    {
     "name": "stdout",
     "output_type": "stream",
     "text": [
      "Progress: 4,300/53,187 (8.1%)\n",
      "Success rate: 4300/4400 (97.7%)\n",
      "Posts per minute: 30.3\n",
      "Taking a 30-second break between batches...\n",
      "\n",
      "Processing batch 45/532\n"
     ]
    },
    {
     "name": "stderr",
     "output_type": "stream",
     "text": [
      "Updating authors:  27%|██▋       | 27/100 [00:41<01:52,  1.54s/it]"
     ]
    },
    {
     "name": "stdout",
     "output_type": "stream",
     "text": [
      "  ❌ Error updating post l6zg3u: 'Redditor' object has no attribute 'id'\n"
     ]
    },
    {
     "name": "stderr",
     "output_type": "stream",
     "text": [
      "Updating authors:  45%|████▌     | 45/100 [01:12<01:26,  1.56s/it]"
     ]
    },
    {
     "name": "stdout",
     "output_type": "stream",
     "text": [
      "  ❌ Error updating post l6zg0w: 'Redditor' object has no attribute 'id'\n"
     ]
    },
    {
     "name": "stderr",
     "output_type": "stream",
     "text": [
      "Updating authors:  77%|███████▋  | 77/100 [02:02<00:37,  1.62s/it]"
     ]
    },
    {
     "name": "stdout",
     "output_type": "stream",
     "text": [
      "  ❌ Error updating post l6zfxi: 'Redditor' object has no attribute 'id'\n"
     ]
    },
    {
     "name": "stderr",
     "output_type": "stream",
     "text": [
      "Updating authors: 100%|██████████| 100/100 [02:38<00:00,  1.58s/it]\n"
     ]
    },
    {
     "name": "stdout",
     "output_type": "stream",
     "text": [
      "Progress: 4,397/53,187 (8.3%)\n",
      "Success rate: 4397/4500 (97.7%)\n",
      "Posts per minute: 30.3\n",
      "Taking a 30-second break between batches...\n",
      "\n",
      "Processing batch 46/532\n"
     ]
    },
    {
     "name": "stderr",
     "output_type": "stream",
     "text": [
      "Updating authors:  88%|████████▊ | 88/100 [02:16<00:18,  1.56s/it]"
     ]
    },
    {
     "name": "stdout",
     "output_type": "stream",
     "text": [
      "  ❌ Error updating post l6zfkp: 'Redditor' object has no attribute 'id'\n"
     ]
    },
    {
     "name": "stderr",
     "output_type": "stream",
     "text": [
      "Updating authors: 100%|██████████| 100/100 [02:35<00:00,  1.56s/it]\n"
     ]
    },
    {
     "name": "stdout",
     "output_type": "stream",
     "text": [
      "Progress: 4,496/53,187 (8.5%)\n",
      "Success rate: 4496/4600 (97.7%)\n",
      "Posts per minute: 30.3\n",
      "Taking a 30-second break between batches...\n",
      "\n",
      "Processing batch 47/532\n"
     ]
    },
    {
     "name": "stderr",
     "output_type": "stream",
     "text": [
      "Updating authors:  10%|█         | 10/100 [00:15<02:13,  1.49s/it]"
     ]
    },
    {
     "name": "stdout",
     "output_type": "stream",
     "text": [
      "  ❌ Error updating post l6zfh7: 'Redditor' object has no attribute 'id'\n"
     ]
    },
    {
     "name": "stderr",
     "output_type": "stream",
     "text": [
      "Updating authors:  73%|███████▎  | 73/100 [01:54<00:45,  1.70s/it]"
     ]
    },
    {
     "name": "stdout",
     "output_type": "stream",
     "text": [
      "  ❌ Error updating post l6zf9m: 'Redditor' object has no attribute 'id'\n"
     ]
    },
    {
     "name": "stderr",
     "output_type": "stream",
     "text": [
      "Updating authors: 100%|██████████| 100/100 [02:37<00:00,  1.57s/it]\n"
     ]
    },
    {
     "name": "stdout",
     "output_type": "stream",
     "text": [
      "Progress: 4,594/53,187 (8.6%)\n",
      "Success rate: 4594/4700 (97.7%)\n",
      "Posts per minute: 30.3\n",
      "Taking a 30-second break between batches...\n",
      "\n",
      "Processing batch 48/532\n"
     ]
    },
    {
     "name": "stderr",
     "output_type": "stream",
     "text": [
      "Updating authors:  72%|███████▏  | 72/100 [01:53<00:41,  1.49s/it]"
     ]
    },
    {
     "name": "stdout",
     "output_type": "stream",
     "text": [
      "  ❌ Error updating post l6zl6w: 'Redditor' object has no attribute 'id'\n"
     ]
    },
    {
     "name": "stderr",
     "output_type": "stream",
     "text": [
      "Updating authors: 100%|██████████| 100/100 [02:36<00:00,  1.57s/it]\n"
     ]
    },
    {
     "name": "stdout",
     "output_type": "stream",
     "text": [
      "Progress: 4,693/53,187 (8.8%)\n",
      "Success rate: 4693/4800 (97.8%)\n",
      "Posts per minute: 30.4\n",
      "Taking a 30-second break between batches...\n",
      "\n",
      "Processing batch 49/532\n"
     ]
    },
    {
     "name": "stderr",
     "output_type": "stream",
     "text": [
      "Updating authors:  52%|█████▏    | 52/100 [01:23<01:13,  1.53s/it]"
     ]
    },
    {
     "name": "stdout",
     "output_type": "stream",
     "text": [
      "  ❌ Error updating post l6zigj: received 404 HTTP response\n"
     ]
    },
    {
     "name": "stderr",
     "output_type": "stream",
     "text": [
      "Updating authors:  65%|██████▌   | 65/100 [01:44<00:57,  1.65s/it]"
     ]
    },
    {
     "name": "stdout",
     "output_type": "stream",
     "text": [
      "  ❌ Error updating post l6zifm: 'Redditor' object has no attribute 'id'\n"
     ]
    },
    {
     "name": "stderr",
     "output_type": "stream",
     "text": [
      "Updating authors:  79%|███████▉  | 79/100 [02:05<00:33,  1.61s/it]"
     ]
    },
    {
     "name": "stdout",
     "output_type": "stream",
     "text": [
      "  ❌ Error updating post l6zlvz: 'Redditor' object has no attribute 'id'\n"
     ]
    },
    {
     "name": "stderr",
     "output_type": "stream",
     "text": [
      "Updating authors:  90%|█████████ | 90/100 [02:23<00:15,  1.51s/it]"
     ]
    },
    {
     "name": "stdout",
     "output_type": "stream",
     "text": [
      "  ❌ Error updating post l6zluq: 'Redditor' object has no attribute 'id'\n"
     ]
    },
    {
     "name": "stderr",
     "output_type": "stream",
     "text": [
      "Updating authors: 100%|██████████| 100/100 [02:39<00:00,  1.59s/it]\n"
     ]
    },
    {
     "name": "stdout",
     "output_type": "stream",
     "text": [
      "Progress: 4,789/53,187 (9.0%)\n",
      "Success rate: 4789/4900 (97.7%)\n",
      "Posts per minute: 30.4\n",
      "Taking a 30-second break between batches...\n",
      "\n",
      "Processing batch 50/532\n"
     ]
    },
    {
     "name": "stderr",
     "output_type": "stream",
     "text": [
      "Updating authors: 100%|██████████| 100/100 [02:35<00:00,  1.56s/it]\n"
     ]
    },
    {
     "name": "stdout",
     "output_type": "stream",
     "text": [
      "Progress: 4,889/53,187 (9.2%)\n",
      "Success rate: 4889/5000 (97.8%)\n",
      "Posts per minute: 30.4\n",
      "Taking a 30-second break between batches...\n",
      "\n",
      "Processing batch 51/532\n"
     ]
    },
    {
     "name": "stderr",
     "output_type": "stream",
     "text": [
      "Updating authors: 100%|██████████| 100/100 [02:36<00:00,  1.57s/it]\n"
     ]
    },
    {
     "name": "stdout",
     "output_type": "stream",
     "text": [
      "Progress: 4,989/53,187 (9.4%)\n",
      "Success rate: 4989/5100 (97.8%)\n",
      "Posts per minute: 30.4\n",
      "Taking a 30-second break between batches...\n",
      "\n",
      "Processing batch 52/532\n"
     ]
    },
    {
     "name": "stderr",
     "output_type": "stream",
     "text": [
      "Updating authors:  71%|███████   | 71/100 [01:48<00:42,  1.47s/it]"
     ]
    },
    {
     "name": "stdout",
     "output_type": "stream",
     "text": [
      "  ❌ Error updating post l6zktt: 'Redditor' object has no attribute 'id'\n"
     ]
    },
    {
     "name": "stderr",
     "output_type": "stream",
     "text": [
      "Updating authors:  94%|█████████▍| 94/100 [02:23<00:08,  1.47s/it]"
     ]
    },
    {
     "name": "stdout",
     "output_type": "stream",
     "text": [
      "  ❌ Error updating post l6zkr9: 'Redditor' object has no attribute 'id'\n"
     ]
    },
    {
     "name": "stderr",
     "output_type": "stream",
     "text": [
      "Updating authors: 100%|██████████| 100/100 [02:33<00:00,  1.53s/it]\n"
     ]
    },
    {
     "name": "stdout",
     "output_type": "stream",
     "text": [
      "Progress: 5,087/53,187 (9.6%)\n",
      "Success rate: 5087/5200 (97.8%)\n",
      "Posts per minute: 30.5\n",
      "Taking a 30-second break between batches...\n",
      "\n",
      "Processing batch 53/532\n"
     ]
    },
    {
     "name": "stderr",
     "output_type": "stream",
     "text": [
      "Updating authors:  25%|██▌       | 25/100 [00:38<01:56,  1.56s/it]"
     ]
    },
    {
     "name": "stdout",
     "output_type": "stream",
     "text": [
      "  ❌ Error updating post l6zknh: received 404 HTTP response\n"
     ]
    },
    {
     "name": "stderr",
     "output_type": "stream",
     "text": [
      "Updating authors:  91%|█████████ | 91/100 [02:21<00:14,  1.57s/it]"
     ]
    },
    {
     "name": "stdout",
     "output_type": "stream",
     "text": [
      "  ❌ Error updating post l6zkdh: 'Redditor' object has no attribute 'id'\n"
     ]
    },
    {
     "name": "stderr",
     "output_type": "stream",
     "text": [
      "Updating authors:  96%|█████████▌| 96/100 [02:28<00:06,  1.57s/it]"
     ]
    },
    {
     "name": "stdout",
     "output_type": "stream",
     "text": [
      "  ❌ Error updating post l6zkcp: 'Redditor' object has no attribute 'id'\n"
     ]
    },
    {
     "name": "stderr",
     "output_type": "stream",
     "text": [
      "Updating authors: 100%|██████████| 100/100 [02:35<00:00,  1.55s/it]\n"
     ]
    },
    {
     "name": "stdout",
     "output_type": "stream",
     "text": [
      "Progress: 5,184/53,187 (9.7%)\n",
      "Success rate: 5184/5300 (97.8%)\n",
      "Posts per minute: 30.5\n",
      "Taking a 30-second break between batches...\n",
      "\n",
      "Processing batch 54/532\n"
     ]
    },
    {
     "name": "stderr",
     "output_type": "stream",
     "text": [
      "Updating authors:  11%|█         | 11/100 [00:17<02:11,  1.48s/it]"
     ]
    },
    {
     "name": "stdout",
     "output_type": "stream",
     "text": [
      "  ❌ Error updating post l6zkbp: 'Redditor' object has no attribute 'id'\n"
     ]
    },
    {
     "name": "stderr",
     "output_type": "stream",
     "text": [
      "Updating authors:  21%|██        | 21/100 [00:32<02:01,  1.53s/it]"
     ]
    },
    {
     "name": "stdout",
     "output_type": "stream",
     "text": [
      "  ❌ Error updating post l6zk9y: received 404 HTTP response\n"
     ]
    },
    {
     "name": "stderr",
     "output_type": "stream",
     "text": [
      "Updating authors:  88%|████████▊ | 88/100 [02:18<00:20,  1.69s/it]"
     ]
    },
    {
     "name": "stdout",
     "output_type": "stream",
     "text": [
      "  ❌ Error updating post l6zk1k: 'Redditor' object has no attribute 'id'\n"
     ]
    },
    {
     "name": "stderr",
     "output_type": "stream",
     "text": [
      "Updating authors: 100%|██████████| 100/100 [02:36<00:00,  1.57s/it]\n"
     ]
    },
    {
     "name": "stdout",
     "output_type": "stream",
     "text": [
      "Progress: 5,281/53,187 (9.9%)\n",
      "Success rate: 5281/5400 (97.8%)\n",
      "Posts per minute: 30.5\n",
      "Taking a 30-second break between batches...\n",
      "\n",
      "Processing batch 55/532\n"
     ]
    },
    {
     "name": "stderr",
     "output_type": "stream",
     "text": [
      "Updating authors:   4%|▍         | 4/100 [00:06<02:30,  1.57s/it]"
     ]
    },
    {
     "name": "stdout",
     "output_type": "stream",
     "text": [
      "  ❌ Error updating post l6zjzl: 'Redditor' object has no attribute 'id'\n"
     ]
    },
    {
     "name": "stderr",
     "output_type": "stream",
     "text": [
      "Updating authors:  60%|██████    | 60/100 [01:33<00:58,  1.47s/it]"
     ]
    },
    {
     "name": "stdout",
     "output_type": "stream",
     "text": [
      "  ❌ Error updating post l6zjru: 'Redditor' object has no attribute 'id'\n"
     ]
    },
    {
     "name": "stderr",
     "output_type": "stream",
     "text": [
      "Updating authors: 100%|██████████| 100/100 [02:35<00:00,  1.55s/it]\n"
     ]
    },
    {
     "name": "stdout",
     "output_type": "stream",
     "text": [
      "Progress: 5,379/53,187 (10.1%)\n",
      "Success rate: 5379/5500 (97.8%)\n",
      "Posts per minute: 30.5\n",
      "Taking a 30-second break between batches...\n",
      "\n",
      "Processing batch 56/532\n"
     ]
    },
    {
     "name": "stderr",
     "output_type": "stream",
     "text": [
      "Updating authors:   4%|▍         | 4/100 [00:06<02:36,  1.63s/it]"
     ]
    },
    {
     "name": "stdout",
     "output_type": "stream",
     "text": [
      "  ❌ Error updating post l6zjn7: 'Redditor' object has no attribute 'id'\n"
     ]
    },
    {
     "name": "stderr",
     "output_type": "stream",
     "text": [
      "Updating authors:  22%|██▏       | 22/100 [00:34<01:52,  1.45s/it]"
     ]
    },
    {
     "name": "stdout",
     "output_type": "stream",
     "text": [
      "  ❌ Error updating post l6zjl3: 'Redditor' object has no attribute 'id'\n"
     ]
    },
    {
     "name": "stderr",
     "output_type": "stream",
     "text": [
      "Updating authors: 100%|██████████| 100/100 [02:35<00:00,  1.55s/it]\n"
     ]
    },
    {
     "name": "stdout",
     "output_type": "stream",
     "text": [
      "Progress: 5,477/53,187 (10.3%)\n",
      "Success rate: 5477/5600 (97.8%)\n",
      "Posts per minute: 30.5\n",
      "Taking a 30-second break between batches...\n",
      "\n",
      "Processing batch 57/532\n"
     ]
    },
    {
     "name": "stderr",
     "output_type": "stream",
     "text": [
      "Updating authors:   1%|          | 1/100 [00:01<02:41,  1.64s/it]"
     ]
    },
    {
     "name": "stdout",
     "output_type": "stream",
     "text": [
      "  ❌ Error updating post l6zjbc: 'Redditor' object has no attribute 'id'\n"
     ]
    },
    {
     "name": "stderr",
     "output_type": "stream",
     "text": [
      "Updating authors:  37%|███▋      | 37/100 [00:58<01:39,  1.57s/it]"
     ]
    },
    {
     "name": "stdout",
     "output_type": "stream",
     "text": [
      "  ❌ Error updating post l6zj63: 'Redditor' object has no attribute 'id'\n"
     ]
    },
    {
     "name": "stderr",
     "output_type": "stream",
     "text": [
      "Updating authors: 100%|██████████| 100/100 [02:35<00:00,  1.56s/it]\n"
     ]
    },
    {
     "name": "stdout",
     "output_type": "stream",
     "text": [
      "Progress: 5,575/53,187 (10.5%)\n",
      "Success rate: 5575/5700 (97.8%)\n",
      "Posts per minute: 30.5\n",
      "Taking a 30-second break between batches...\n",
      "\n",
      "Processing batch 58/532\n"
     ]
    },
    {
     "name": "stderr",
     "output_type": "stream",
     "text": [
      "Updating authors:  27%|██▋       | 27/100 [00:43<01:56,  1.59s/it]"
     ]
    },
    {
     "name": "stdout",
     "output_type": "stream",
     "text": [
      "  ❌ Error updating post l6ziv4: 'Redditor' object has no attribute 'id'\n"
     ]
    },
    {
     "name": "stderr",
     "output_type": "stream",
     "text": [
      "Updating authors:  35%|███▌      | 35/100 [00:56<01:44,  1.61s/it]"
     ]
    },
    {
     "name": "stdout",
     "output_type": "stream",
     "text": [
      "  ❌ Error updating post l6ziu6: 'Redditor' object has no attribute 'id'\n"
     ]
    },
    {
     "name": "stderr",
     "output_type": "stream",
     "text": [
      "Updating authors: 100%|██████████| 100/100 [02:40<00:00,  1.60s/it]\n"
     ]
    },
    {
     "name": "stdout",
     "output_type": "stream",
     "text": [
      "Progress: 5,673/53,187 (10.7%)\n",
      "Success rate: 5673/5800 (97.8%)\n",
      "Posts per minute: 30.5\n",
      "Taking a 30-second break between batches...\n",
      "\n",
      "Processing batch 59/532\n"
     ]
    },
    {
     "name": "stderr",
     "output_type": "stream",
     "text": [
      "Updating authors:  17%|█▋        | 17/100 [00:27<02:11,  1.58s/it]"
     ]
    },
    {
     "name": "stdout",
     "output_type": "stream",
     "text": [
      "  ❌ Error updating post l6zs24: 'Redditor' object has no attribute 'id'\n"
     ]
    },
    {
     "name": "stderr",
     "output_type": "stream",
     "text": [
      "Updating authors:  47%|████▋     | 47/100 [01:13<01:19,  1.50s/it]"
     ]
    },
    {
     "name": "stdout",
     "output_type": "stream",
     "text": [
      "  ❌ Error updating post l6zrn5: 'Redditor' object has no attribute 'id'\n"
     ]
    },
    {
     "name": "stderr",
     "output_type": "stream",
     "text": [
      "Updating authors:  56%|█████▌    | 56/100 [01:27<01:14,  1.70s/it]"
     ]
    },
    {
     "name": "stdout",
     "output_type": "stream",
     "text": [
      "  ❌ Error updating post l6zrju: 'Redditor' object has no attribute 'id'\n"
     ]
    },
    {
     "name": "stderr",
     "output_type": "stream",
     "text": [
      "Updating authors:  64%|██████▍   | 64/100 [01:40<00:59,  1.66s/it]"
     ]
    },
    {
     "name": "stdout",
     "output_type": "stream",
     "text": [
      "  ❌ Error updating post l6zrgg: 'Redditor' object has no attribute 'id'\n"
     ]
    },
    {
     "name": "stderr",
     "output_type": "stream",
     "text": [
      "Updating authors:  80%|████████  | 80/100 [02:06<00:33,  1.67s/it]"
     ]
    },
    {
     "name": "stdout",
     "output_type": "stream",
     "text": [
      "  ❌ Error updating post l6zr7c: 'Redditor' object has no attribute 'id'\n"
     ]
    },
    {
     "name": "stderr",
     "output_type": "stream",
     "text": [
      "Updating authors: 100%|██████████| 100/100 [02:36<00:00,  1.57s/it]\n"
     ]
    },
    {
     "name": "stdout",
     "output_type": "stream",
     "text": [
      "Progress: 5,768/53,187 (10.8%)\n",
      "Success rate: 5768/5900 (97.8%)\n",
      "Posts per minute: 30.5\n",
      "Taking a 30-second break between batches...\n",
      "\n",
      "Processing batch 60/532\n"
     ]
    },
    {
     "name": "stderr",
     "output_type": "stream",
     "text": [
      "Updating authors:  33%|███▎      | 33/100 [00:53<01:43,  1.55s/it]"
     ]
    },
    {
     "name": "stdout",
     "output_type": "stream",
     "text": [
      "  ❌ Error updating post l6zqhu: 'Redditor' object has no attribute 'id'\n"
     ]
    },
    {
     "name": "stderr",
     "output_type": "stream",
     "text": [
      "Updating authors: 100%|██████████| 100/100 [02:37<00:00,  1.57s/it]\n"
     ]
    },
    {
     "name": "stdout",
     "output_type": "stream",
     "text": [
      "Progress: 5,867/53,187 (11.0%)\n",
      "Success rate: 5867/6000 (97.8%)\n",
      "Posts per minute: 30.5\n",
      "Taking a 30-second break between batches...\n",
      "\n",
      "Processing batch 61/532\n"
     ]
    },
    {
     "name": "stderr",
     "output_type": "stream",
     "text": [
      "Updating authors:   1%|          | 1/100 [00:01<02:46,  1.68s/it]"
     ]
    },
    {
     "name": "stdout",
     "output_type": "stream",
     "text": [
      "  ❌ Error updating post l6zpt0: 'Redditor' object has no attribute 'id'\n"
     ]
    },
    {
     "name": "stderr",
     "output_type": "stream",
     "text": [
      "Updating authors:  41%|████      | 41/100 [01:05<01:30,  1.53s/it]"
     ]
    },
    {
     "name": "stdout",
     "output_type": "stream",
     "text": [
      "  ❌ Error updating post l6zp9n: 'Redditor' object has no attribute 'id'\n"
     ]
    },
    {
     "name": "stderr",
     "output_type": "stream",
     "text": [
      "Updating authors:  42%|████▏     | 42/100 [01:06<01:30,  1.57s/it]"
     ]
    },
    {
     "name": "stdout",
     "output_type": "stream",
     "text": [
      "  ❌ Error updating post l6zp84: 'Redditor' object has no attribute 'id'\n"
     ]
    },
    {
     "name": "stderr",
     "output_type": "stream",
     "text": [
      "Updating authors:  75%|███████▌  | 75/100 [01:59<00:41,  1.64s/it]"
     ]
    },
    {
     "name": "stdout",
     "output_type": "stream",
     "text": [
      "  ❌ Error updating post l6zov0: 'Redditor' object has no attribute 'id'\n"
     ]
    },
    {
     "name": "stderr",
     "output_type": "stream",
     "text": [
      "Updating authors:  97%|█████████▋| 97/100 [02:33<00:04,  1.59s/it]"
     ]
    },
    {
     "name": "stdout",
     "output_type": "stream",
     "text": [
      "  ❌ Error updating post l6zoks: 'Redditor' object has no attribute 'id'\n"
     ]
    },
    {
     "name": "stderr",
     "output_type": "stream",
     "text": [
      "Updating authors: 100%|██████████| 100/100 [02:38<00:00,  1.59s/it]\n"
     ]
    },
    {
     "name": "stdout",
     "output_type": "stream",
     "text": [
      "Progress: 5,962/53,187 (11.2%)\n",
      "Success rate: 5962/6100 (97.7%)\n",
      "Posts per minute: 30.5\n",
      "Taking a 30-second break between batches...\n",
      "\n",
      "Processing batch 62/532\n"
     ]
    },
    {
     "name": "stderr",
     "output_type": "stream",
     "text": [
      "Updating authors:  12%|█▏        | 12/100 [00:19<02:23,  1.63s/it]"
     ]
    },
    {
     "name": "stdout",
     "output_type": "stream",
     "text": [
      "  ❌ Error updating post l6zoci: 'Redditor' object has no attribute 'id'\n"
     ]
    },
    {
     "name": "stderr",
     "output_type": "stream",
     "text": [
      "Updating authors:  36%|███▌      | 36/100 [00:58<01:41,  1.58s/it]"
     ]
    },
    {
     "name": "stdout",
     "output_type": "stream",
     "text": [
      "  ❌ Error updating post l6zo44: 'Redditor' object has no attribute 'id'\n"
     ]
    },
    {
     "name": "stderr",
     "output_type": "stream",
     "text": [
      "Updating authors:  62%|██████▏   | 62/100 [01:38<00:59,  1.57s/it]"
     ]
    },
    {
     "name": "stdout",
     "output_type": "stream",
     "text": [
      "  ❌ Error updating post l6znrz: 'Redditor' object has no attribute 'id'\n"
     ]
    },
    {
     "name": "stderr",
     "output_type": "stream",
     "text": [
      "Updating authors:  69%|██████▉   | 69/100 [01:49<00:49,  1.61s/it]"
     ]
    },
    {
     "name": "stdout",
     "output_type": "stream",
     "text": [
      "  ❌ Error updating post l6zxnk: 'Redditor' object has no attribute 'id'\n"
     ]
    },
    {
     "name": "stderr",
     "output_type": "stream",
     "text": [
      "Updating authors:  72%|███████▏  | 72/100 [01:54<00:43,  1.54s/it]"
     ]
    },
    {
     "name": "stdout",
     "output_type": "stream",
     "text": [
      "  ❌ Error updating post l6zxmf: 'Redditor' object has no attribute 'id'\n"
     ]
    },
    {
     "name": "stderr",
     "output_type": "stream",
     "text": [
      "Updating authors:  81%|████████  | 81/100 [02:08<00:29,  1.54s/it]"
     ]
    },
    {
     "name": "stdout",
     "output_type": "stream",
     "text": [
      "  ❌ Error updating post l6zxj7: received 404 HTTP response\n"
     ]
    },
    {
     "name": "stderr",
     "output_type": "stream",
     "text": [
      "Updating authors:  87%|████████▋ | 87/100 [02:17<00:19,  1.50s/it]"
     ]
    },
    {
     "name": "stdout",
     "output_type": "stream",
     "text": [
      "  ❌ Error updating post l6zxhk: 'Redditor' object has no attribute 'id'\n"
     ]
    },
    {
     "name": "stderr",
     "output_type": "stream",
     "text": [
      "Updating authors: 100%|██████████| 100/100 [02:38<00:00,  1.58s/it]\n"
     ]
    },
    {
     "name": "stdout",
     "output_type": "stream",
     "text": [
      "Progress: 6,055/53,187 (11.4%)\n",
      "Success rate: 6055/6200 (97.7%)\n",
      "Posts per minute: 30.5\n",
      "Taking a 30-second break between batches...\n",
      "\n",
      "Processing batch 63/532\n"
     ]
    },
    {
     "name": "stderr",
     "output_type": "stream",
     "text": [
      "Updating authors:  19%|█▉        | 19/100 [00:29<02:12,  1.64s/it]"
     ]
    },
    {
     "name": "stdout",
     "output_type": "stream",
     "text": [
      "  ❌ Error updating post l6zx5b: 'Redditor' object has no attribute 'id'\n"
     ]
    },
    {
     "name": "stderr",
     "output_type": "stream",
     "text": [
      "Updating authors:  23%|██▎       | 23/100 [00:36<02:05,  1.63s/it]"
     ]
    },
    {
     "name": "stdout",
     "output_type": "stream",
     "text": [
      "  ❌ Error updating post l6zx3x: 'Redditor' object has no attribute 'id'\n"
     ]
    },
    {
     "name": "stderr",
     "output_type": "stream",
     "text": [
      "Updating authors:  47%|████▋     | 47/100 [01:14<01:38,  1.85s/it]"
     ]
    },
    {
     "name": "stdout",
     "output_type": "stream",
     "text": [
      "  ❌ Error updating post l6zwuw: 'Redditor' object has no attribute 'id'\n"
     ]
    },
    {
     "name": "stderr",
     "output_type": "stream",
     "text": [
      "Updating authors:  86%|████████▌ | 86/100 [02:14<00:20,  1.49s/it]"
     ]
    },
    {
     "name": "stdout",
     "output_type": "stream",
     "text": [
      "  ❌ Error updating post l6zwj1: 'Redditor' object has no attribute 'id'\n"
     ]
    },
    {
     "name": "stderr",
     "output_type": "stream",
     "text": [
      "Updating authors: 100%|██████████| 100/100 [02:34<00:00,  1.55s/it]\n"
     ]
    },
    {
     "name": "stdout",
     "output_type": "stream",
     "text": [
      "Progress: 6,151/53,187 (11.6%)\n",
      "Success rate: 6151/6300 (97.6%)\n",
      "Posts per minute: 30.5\n",
      "Taking a 30-second break between batches...\n",
      "\n",
      "Processing batch 64/532\n"
     ]
    },
    {
     "name": "stderr",
     "output_type": "stream",
     "text": [
      "Updating authors:  60%|██████    | 60/100 [01:32<01:04,  1.60s/it]"
     ]
    },
    {
     "name": "stdout",
     "output_type": "stream",
     "text": [
      "  ❌ Error updating post l6zvo6: 'Redditor' object has no attribute 'id'\n"
     ]
    },
    {
     "name": "stderr",
     "output_type": "stream",
     "text": [
      "Updating authors:  61%|██████    | 61/100 [01:34<01:02,  1.60s/it]"
     ]
    },
    {
     "name": "stdout",
     "output_type": "stream",
     "text": [
      "  ❌ Error updating post l6zvnt: 'Redditor' object has no attribute 'id'\n"
     ]
    },
    {
     "name": "stderr",
     "output_type": "stream",
     "text": [
      "Updating authors:  73%|███████▎  | 73/100 [01:52<00:40,  1.52s/it]"
     ]
    },
    {
     "name": "stdout",
     "output_type": "stream",
     "text": [
      "  ❌ Error updating post l6zvjh: 'Redditor' object has no attribute 'id'\n"
     ]
    },
    {
     "name": "stderr",
     "output_type": "stream",
     "text": [
      "Updating authors:  90%|█████████ | 90/100 [02:18<00:15,  1.53s/it]"
     ]
    },
    {
     "name": "stdout",
     "output_type": "stream",
     "text": [
      "  ❌ Error updating post l6zvbg: 'Redditor' object has no attribute 'id'\n"
     ]
    },
    {
     "name": "stderr",
     "output_type": "stream",
     "text": [
      "Updating authors: 100%|██████████| 100/100 [02:33<00:00,  1.54s/it]\n"
     ]
    },
    {
     "name": "stdout",
     "output_type": "stream",
     "text": [
      "Progress: 6,247/53,187 (11.7%)\n",
      "Success rate: 6247/6400 (97.6%)\n",
      "Posts per minute: 30.5\n",
      "Taking a 30-second break between batches...\n",
      "\n",
      "Processing batch 65/532\n"
     ]
    },
    {
     "name": "stderr",
     "output_type": "stream",
     "text": [
      "Updating authors:  18%|█▊        | 18/100 [00:28<02:12,  1.61s/it]"
     ]
    },
    {
     "name": "stdout",
     "output_type": "stream",
     "text": [
      "  ❌ Error updating post l6zv1z: 'Redditor' object has no attribute 'id'\n"
     ]
    },
    {
     "name": "stderr",
     "output_type": "stream",
     "text": [
      "Updating authors:  22%|██▏       | 22/100 [00:34<02:04,  1.60s/it]"
     ]
    },
    {
     "name": "stdout",
     "output_type": "stream",
     "text": [
      "  ❌ Error updating post l6zuy3: 'Redditor' object has no attribute 'id'\n"
     ]
    },
    {
     "name": "stderr",
     "output_type": "stream",
     "text": [
      "Updating authors:  50%|█████     | 50/100 [01:16<01:14,  1.50s/it]"
     ]
    },
    {
     "name": "stdout",
     "output_type": "stream",
     "text": [
      "  ❌ Error updating post l6zupn: 'Redditor' object has no attribute 'id'\n"
     ]
    },
    {
     "name": "stderr",
     "output_type": "stream",
     "text": [
      "Updating authors:  83%|████████▎ | 83/100 [02:10<00:26,  1.56s/it]"
     ]
    },
    {
     "name": "stdout",
     "output_type": "stream",
     "text": [
      "  ❌ Error updating post l6zuay: 'Redditor' object has no attribute 'id'\n"
     ]
    },
    {
     "name": "stderr",
     "output_type": "stream",
     "text": [
      "Updating authors: 100%|██████████| 100/100 [02:36<00:00,  1.56s/it]\n"
     ]
    },
    {
     "name": "stdout",
     "output_type": "stream",
     "text": [
      "Progress: 6,343/53,187 (11.9%)\n",
      "Success rate: 6343/6500 (97.6%)\n",
      "Posts per minute: 30.5\n",
      "Taking a 30-second break between batches...\n",
      "\n",
      "Processing batch 66/532\n"
     ]
    },
    {
     "name": "stderr",
     "output_type": "stream",
     "text": [
      "Updating authors:  32%|███▏      | 32/100 [00:52<01:44,  1.53s/it]"
     ]
    },
    {
     "name": "stdout",
     "output_type": "stream",
     "text": [
      "  ❌ Error updating post l6ztlk: 'Redditor' object has no attribute 'id'\n"
     ]
    },
    {
     "name": "stderr",
     "output_type": "stream",
     "text": [
      "Updating authors:  60%|██████    | 60/100 [01:36<01:00,  1.52s/it]"
     ]
    },
    {
     "name": "stdout",
     "output_type": "stream",
     "text": [
      "  ❌ Error updating post l6zt62: 'Redditor' object has no attribute 'id'\n"
     ]
    },
    {
     "name": "stderr",
     "output_type": "stream",
     "text": [
      "Updating authors:  78%|███████▊  | 78/100 [02:05<00:35,  1.63s/it]"
     ]
    },
    {
     "name": "stdout",
     "output_type": "stream",
     "text": [
      "  ❌ Error updating post l6zssp: 'Redditor' object has no attribute 'id'\n"
     ]
    },
    {
     "name": "stderr",
     "output_type": "stream",
     "text": [
      "Updating authors: 100%|██████████| 100/100 [02:38<00:00,  1.59s/it]\n"
     ]
    },
    {
     "name": "stdout",
     "output_type": "stream",
     "text": [
      "Progress: 6,440/53,187 (12.1%)\n",
      "Success rate: 6440/6600 (97.6%)\n",
      "Posts per minute: 30.5\n",
      "Taking a 30-second break between batches...\n",
      "\n",
      "Processing batch 67/532\n"
     ]
    },
    {
     "name": "stderr",
     "output_type": "stream",
     "text": [
      "Updating authors:   7%|▋         | 7/100 [00:10<02:22,  1.53s/it]"
     ]
    },
    {
     "name": "stdout",
     "output_type": "stream",
     "text": [
      "  ❌ Error updating post l702zg: received 404 HTTP response\n"
     ]
    },
    {
     "name": "stderr",
     "output_type": "stream",
     "text": [
      "Updating authors:  35%|███▌      | 35/100 [00:54<01:40,  1.55s/it]"
     ]
    },
    {
     "name": "stdout",
     "output_type": "stream",
     "text": [
      "  ❌ Error updating post l702oh: 'Redditor' object has no attribute 'id'\n"
     ]
    },
    {
     "name": "stderr",
     "output_type": "stream",
     "text": [
      "Updating authors:  41%|████      | 41/100 [01:03<01:33,  1.59s/it]"
     ]
    },
    {
     "name": "stdout",
     "output_type": "stream",
     "text": [
      "  ❌ Error updating post l702lx: 'Redditor' object has no attribute 'id'\n"
     ]
    },
    {
     "name": "stderr",
     "output_type": "stream",
     "text": [
      "Updating authors:  54%|█████▍    | 54/100 [01:24<01:13,  1.60s/it]"
     ]
    },
    {
     "name": "stdout",
     "output_type": "stream",
     "text": [
      "  ❌ Error updating post l702dq: 'Redditor' object has no attribute 'id'\n"
     ]
    },
    {
     "name": "stderr",
     "output_type": "stream",
     "text": [
      "Updating authors: 100%|██████████| 100/100 [02:34<00:00,  1.54s/it]\n"
     ]
    },
    {
     "name": "stdout",
     "output_type": "stream",
     "text": [
      "Progress: 6,536/53,187 (12.3%)\n",
      "Success rate: 6536/6700 (97.6%)\n",
      "Posts per minute: 30.6\n",
      "Taking a 30-second break between batches...\n",
      "\n",
      "Processing batch 68/532\n"
     ]
    },
    {
     "name": "stderr",
     "output_type": "stream",
     "text": [
      "Updating authors:   3%|▎         | 3/100 [00:05<02:43,  1.68s/it]"
     ]
    },
    {
     "name": "stdout",
     "output_type": "stream",
     "text": [
      "  ❌ Error updating post l701oc: 'Redditor' object has no attribute 'id'\n"
     ]
    },
    {
     "name": "stderr",
     "output_type": "stream",
     "text": [
      "Updating authors:  13%|█▎        | 13/100 [00:20<02:24,  1.66s/it]"
     ]
    },
    {
     "name": "stdout",
     "output_type": "stream",
     "text": [
      "  ❌ Error updating post l701l5: 'Redditor' object has no attribute 'id'\n"
     ]
    },
    {
     "name": "stderr",
     "output_type": "stream",
     "text": [
      "Updating authors:  17%|█▋        | 17/100 [00:27<02:16,  1.64s/it]"
     ]
    },
    {
     "name": "stdout",
     "output_type": "stream",
     "text": [
      "  ❌ Error updating post l701js: 'Redditor' object has no attribute 'id'\n"
     ]
    },
    {
     "name": "stderr",
     "output_type": "stream",
     "text": [
      "Updating authors:  18%|█▊        | 18/100 [00:28<02:13,  1.63s/it]"
     ]
    },
    {
     "name": "stdout",
     "output_type": "stream",
     "text": [
      "  ❌ Error updating post l701jf: 'Redditor' object has no attribute 'id'\n"
     ]
    },
    {
     "name": "stderr",
     "output_type": "stream",
     "text": [
      "Updating authors:  32%|███▏      | 32/100 [00:50<01:46,  1.56s/it]"
     ]
    },
    {
     "name": "stdout",
     "output_type": "stream",
     "text": [
      "  ❌ Error updating post l701cq: 'Redditor' object has no attribute 'id'\n"
     ]
    },
    {
     "name": "stderr",
     "output_type": "stream",
     "text": [
      "Updating authors:  47%|████▋     | 47/100 [01:14<01:22,  1.55s/it]"
     ]
    },
    {
     "name": "stdout",
     "output_type": "stream",
     "text": [
      "  ❌ Error updating post l70164: 'Redditor' object has no attribute 'id'\n"
     ]
    },
    {
     "name": "stderr",
     "output_type": "stream",
     "text": [
      "Updating authors:  73%|███████▎  | 73/100 [01:55<00:42,  1.57s/it]"
     ]
    },
    {
     "name": "stdout",
     "output_type": "stream",
     "text": [
      "  ❌ Error updating post l700t8: 'Redditor' object has no attribute 'id'\n"
     ]
    },
    {
     "name": "stderr",
     "output_type": "stream",
     "text": [
      "Updating authors:  80%|████████  | 80/100 [02:05<00:29,  1.49s/it]"
     ]
    },
    {
     "name": "stdout",
     "output_type": "stream",
     "text": [
      "  ❌ Error updating post l700r6: 'Redditor' object has no attribute 'id'\n"
     ]
    },
    {
     "name": "stderr",
     "output_type": "stream",
     "text": [
      "Updating authors:  81%|████████  | 81/100 [02:07<00:28,  1.51s/it]"
     ]
    },
    {
     "name": "stdout",
     "output_type": "stream",
     "text": [
      "  ❌ Error updating post l700r3: received 404 HTTP response\n"
     ]
    },
    {
     "name": "stderr",
     "output_type": "stream",
     "text": [
      "Updating authors: 100%|██████████| 100/100 [02:37<00:00,  1.58s/it]\n"
     ]
    },
    {
     "name": "stdout",
     "output_type": "stream",
     "text": [
      "Progress: 6,627/53,187 (12.5%)\n",
      "Success rate: 6627/6800 (97.5%)\n",
      "Posts per minute: 30.5\n",
      "Taking a 30-second break between batches...\n",
      "\n",
      "Processing batch 69/532\n"
     ]
    },
    {
     "name": "stderr",
     "output_type": "stream",
     "text": [
      "Updating authors:  33%|███▎      | 33/100 [00:53<01:50,  1.65s/it]"
     ]
    },
    {
     "name": "stdout",
     "output_type": "stream",
     "text": [
      "  ❌ Error updating post l70021: 'Redditor' object has no attribute 'id'\n"
     ]
    },
    {
     "name": "stderr",
     "output_type": "stream",
     "text": [
      "Updating authors:  45%|████▌     | 45/100 [01:12<01:24,  1.54s/it]"
     ]
    },
    {
     "name": "stdout",
     "output_type": "stream",
     "text": [
      "  ❌ Error updating post l6zzvf: 'Redditor' object has no attribute 'id'\n"
     ]
    },
    {
     "name": "stderr",
     "output_type": "stream",
     "text": [
      "Updating authors:  55%|█████▌    | 55/100 [01:27<01:11,  1.59s/it]"
     ]
    },
    {
     "name": "stdout",
     "output_type": "stream",
     "text": [
      "  ❌ Error updating post l6zzr1: 'Redditor' object has no attribute 'id'\n"
     ]
    },
    {
     "name": "stderr",
     "output_type": "stream",
     "text": [
      "Updating authors: 100%|██████████| 100/100 [02:40<00:00,  1.60s/it]\n"
     ]
    },
    {
     "name": "stdout",
     "output_type": "stream",
     "text": [
      "Progress: 6,724/53,187 (12.6%)\n",
      "Success rate: 6724/6900 (97.4%)\n",
      "Posts per minute: 30.5\n",
      "Taking a 30-second break between batches...\n",
      "\n",
      "Processing batch 70/532\n"
     ]
    },
    {
     "name": "stderr",
     "output_type": "stream",
     "text": [
      "Updating authors:   4%|▍         | 4/100 [00:06<02:28,  1.55s/it]"
     ]
    },
    {
     "name": "stdout",
     "output_type": "stream",
     "text": [
      "  ❌ Error updating post l6zz4d: 'Redditor' object has no attribute 'id'\n"
     ]
    },
    {
     "name": "stderr",
     "output_type": "stream",
     "text": [
      "Updating authors:  15%|█▌        | 15/100 [00:23<02:13,  1.57s/it]"
     ]
    },
    {
     "name": "stdout",
     "output_type": "stream",
     "text": [
      "  ❌ Error updating post l6zz17: 'Redditor' object has no attribute 'id'\n"
     ]
    },
    {
     "name": "stderr",
     "output_type": "stream",
     "text": [
      "Updating authors:  18%|█▊        | 18/100 [00:28<02:02,  1.49s/it]"
     ]
    },
    {
     "name": "stdout",
     "output_type": "stream",
     "text": [
      "  ❌ Error updating post l6zyzp: 'Redditor' object has no attribute 'id'\n"
     ]
    },
    {
     "name": "stderr",
     "output_type": "stream",
     "text": [
      "Updating authors:  22%|██▏       | 22/100 [00:34<01:56,  1.49s/it]"
     ]
    },
    {
     "name": "stdout",
     "output_type": "stream",
     "text": [
      "  ❌ Error updating post l6zyyv: 'Redditor' object has no attribute 'id'\n"
     ]
    },
    {
     "name": "stderr",
     "output_type": "stream",
     "text": [
      "Updating authors:  40%|████      | 40/100 [01:03<01:32,  1.54s/it]"
     ]
    },
    {
     "name": "stdout",
     "output_type": "stream",
     "text": [
      "  ❌ Error updating post l6zyrq: 'Redditor' object has no attribute 'id'\n"
     ]
    },
    {
     "name": "stderr",
     "output_type": "stream",
     "text": [
      "Updating authors: 100%|██████████| 100/100 [02:35<00:00,  1.56s/it]\n"
     ]
    },
    {
     "name": "stdout",
     "output_type": "stream",
     "text": [
      "Progress: 6,819/53,187 (12.8%)\n",
      "Success rate: 6819/7000 (97.4%)\n",
      "Posts per minute: 30.5\n",
      "Taking a 30-second break between batches...\n",
      "\n",
      "Processing batch 71/532\n"
     ]
    },
    {
     "name": "stderr",
     "output_type": "stream",
     "text": [
      "Updating authors:  15%|█▌        | 15/100 [00:24<02:15,  1.59s/it]"
     ]
    },
    {
     "name": "stdout",
     "output_type": "stream",
     "text": [
      "  ❌ Error updating post l6zxqd: 'Redditor' object has no attribute 'id'\n"
     ]
    },
    {
     "name": "stderr",
     "output_type": "stream",
     "text": [
      "Updating authors:  77%|███████▋  | 77/100 [02:01<00:33,  1.48s/it]"
     ]
    },
    {
     "name": "stdout",
     "output_type": "stream",
     "text": [
      "  ❌ Error updating post l7081j: 'Redditor' object has no attribute 'id'\n"
     ]
    },
    {
     "name": "stderr",
     "output_type": "stream",
     "text": [
      "Updating authors: 100%|██████████| 100/100 [02:37<00:00,  1.57s/it]\n"
     ]
    },
    {
     "name": "stdout",
     "output_type": "stream",
     "text": [
      "Progress: 6,917/53,187 (13.0%)\n",
      "Success rate: 6917/7100 (97.4%)\n",
      "Posts per minute: 30.5\n",
      "Taking a 30-second break between batches...\n",
      "\n",
      "Processing batch 72/532\n"
     ]
    },
    {
     "name": "stderr",
     "output_type": "stream",
     "text": [
      "Updating authors:   0%|          | 0/100 [00:00<?, ?it/s]"
     ]
    },
    {
     "name": "stdout",
     "output_type": "stream",
     "text": [
      "  ❌ Error updating post l707rq: 'Redditor' object has no attribute 'id'\n"
     ]
    },
    {
     "name": "stderr",
     "output_type": "stream",
     "text": [
      "Updating authors:  34%|███▍      | 34/100 [00:53<01:40,  1.52s/it]"
     ]
    },
    {
     "name": "stdout",
     "output_type": "stream",
     "text": [
      "  ❌ Error updating post l707io: 'Redditor' object has no attribute 'id'\n"
     ]
    },
    {
     "name": "stderr",
     "output_type": "stream",
     "text": [
      "Updating authors:  53%|█████▎    | 53/100 [01:23<01:13,  1.56s/it]"
     ]
    },
    {
     "name": "stdout",
     "output_type": "stream",
     "text": [
      "  ❌ Error updating post l707bx: 'Redditor' object has no attribute 'id'\n"
     ]
    },
    {
     "name": "stderr",
     "output_type": "stream",
     "text": [
      "Updating authors:  55%|█████▌    | 55/100 [01:26<01:08,  1.53s/it]"
     ]
    },
    {
     "name": "stdout",
     "output_type": "stream",
     "text": [
      "  ❌ Error updating post l707at: 'Redditor' object has no attribute 'id'\n"
     ]
    },
    {
     "name": "stderr",
     "output_type": "stream",
     "text": [
      "Updating authors:  64%|██████▍   | 64/100 [01:40<00:56,  1.58s/it]"
     ]
    },
    {
     "name": "stdout",
     "output_type": "stream",
     "text": [
      "  ❌ Error updating post l7075k: 'Redditor' object has no attribute 'id'\n"
     ]
    },
    {
     "name": "stderr",
     "output_type": "stream",
     "text": [
      "Updating authors: 100%|██████████| 100/100 [02:37<00:00,  1.57s/it]\n"
     ]
    },
    {
     "name": "stdout",
     "output_type": "stream",
     "text": [
      "Progress: 7,012/53,187 (13.2%)\n",
      "Success rate: 7012/7200 (97.4%)\n",
      "Posts per minute: 30.5\n",
      "Taking a 30-second break between batches...\n",
      "\n",
      "Processing batch 73/532\n"
     ]
    },
    {
     "name": "stderr",
     "output_type": "stream",
     "text": [
      "Updating authors:  51%|█████     | 51/100 [01:19<01:15,  1.55s/it]"
     ]
    },
    {
     "name": "stdout",
     "output_type": "stream",
     "text": [
      "  ❌ Error updating post l705zo: 'Redditor' object has no attribute 'id'\n"
     ]
    },
    {
     "name": "stderr",
     "output_type": "stream",
     "text": [
      "Updating authors:  59%|█████▉    | 59/100 [01:31<01:05,  1.60s/it]"
     ]
    },
    {
     "name": "stdout",
     "output_type": "stream",
     "text": [
      "  ❌ Error updating post l705xa: 'Redditor' object has no attribute 'id'\n"
     ]
    },
    {
     "name": "stderr",
     "output_type": "stream",
     "text": [
      "Updating authors:  67%|██████▋   | 67/100 [01:44<00:51,  1.55s/it]"
     ]
    },
    {
     "name": "stdout",
     "output_type": "stream",
     "text": [
      "  ❌ Error updating post l705un: 'Redditor' object has no attribute 'id'\n"
     ]
    },
    {
     "name": "stderr",
     "output_type": "stream",
     "text": [
      "Updating authors:  73%|███████▎  | 73/100 [01:54<00:44,  1.66s/it]"
     ]
    },
    {
     "name": "stdout",
     "output_type": "stream",
     "text": [
      "  ❌ Error updating post l705t4: 'Redditor' object has no attribute 'id'\n"
     ]
    },
    {
     "name": "stderr",
     "output_type": "stream",
     "text": [
      "Updating authors:  96%|█████████▌| 96/100 [02:29<00:05,  1.41s/it]"
     ]
    },
    {
     "name": "stdout",
     "output_type": "stream",
     "text": [
      "  ❌ Error updating post l705j3: 'Redditor' object has no attribute 'id'\n"
     ]
    },
    {
     "name": "stderr",
     "output_type": "stream",
     "text": [
      "Updating authors: 100%|██████████| 100/100 [02:35<00:00,  1.55s/it]\n"
     ]
    },
    {
     "name": "stdout",
     "output_type": "stream",
     "text": [
      "Progress: 7,107/53,187 (13.4%)\n",
      "Success rate: 7107/7300 (97.4%)\n",
      "Posts per minute: 30.5\n",
      "Taking a 30-second break between batches...\n",
      "\n",
      "Processing batch 74/532\n"
     ]
    },
    {
     "name": "stderr",
     "output_type": "stream",
     "text": [
      "Updating authors:  14%|█▍        | 14/100 [00:21<02:14,  1.56s/it]"
     ]
    },
    {
     "name": "stdout",
     "output_type": "stream",
     "text": [
      "  ❌ Error updating post l7057t: 'Redditor' object has no attribute 'id'\n"
     ]
    },
    {
     "name": "stderr",
     "output_type": "stream",
     "text": [
      "Updating authors:  30%|███       | 30/100 [00:46<01:56,  1.66s/it]"
     ]
    },
    {
     "name": "stdout",
     "output_type": "stream",
     "text": [
      "  ❌ Error updating post l704zy: 'Redditor' object has no attribute 'id'\n"
     ]
    },
    {
     "name": "stderr",
     "output_type": "stream",
     "text": [
      "Updating authors:  44%|████▍     | 44/100 [01:08<01:28,  1.58s/it]"
     ]
    },
    {
     "name": "stdout",
     "output_type": "stream",
     "text": [
      "  ❌ Error updating post l704tn: 'Redditor' object has no attribute 'id'\n"
     ]
    },
    {
     "name": "stderr",
     "output_type": "stream",
     "text": [
      "Updating authors:  60%|██████    | 60/100 [01:33<01:00,  1.50s/it]"
     ]
    },
    {
     "name": "stdout",
     "output_type": "stream",
     "text": [
      "  ❌ Error updating post l704hn: 'Redditor' object has no attribute 'id'\n"
     ]
    },
    {
     "name": "stderr",
     "output_type": "stream",
     "text": [
      "Updating authors:  62%|██████▏   | 62/100 [01:37<01:00,  1.59s/it]"
     ]
    },
    {
     "name": "stdout",
     "output_type": "stream",
     "text": [
      "  ❌ Error updating post l704gg: 'Redditor' object has no attribute 'id'\n"
     ]
    },
    {
     "name": "stderr",
     "output_type": "stream",
     "text": [
      "Updating authors:  69%|██████▉   | 69/100 [01:48<00:49,  1.59s/it]"
     ]
    },
    {
     "name": "stdout",
     "output_type": "stream",
     "text": [
      "  ❌ Error updating post l704dn: 'Redditor' object has no attribute 'id'\n"
     ]
    },
    {
     "name": "stderr",
     "output_type": "stream",
     "text": [
      "Updating authors:  89%|████████▉ | 89/100 [02:18<00:17,  1.55s/it]"
     ]
    },
    {
     "name": "stdout",
     "output_type": "stream",
     "text": [
      "  ❌ Error updating post l70431: 'Redditor' object has no attribute 'id'\n"
     ]
    },
    {
     "name": "stderr",
     "output_type": "stream",
     "text": [
      "Updating authors: 100%|██████████| 100/100 [02:36<00:00,  1.56s/it]\n"
     ]
    },
    {
     "name": "stdout",
     "output_type": "stream",
     "text": [
      "Progress: 7,200/53,187 (13.5%)\n",
      "Success rate: 7200/7400 (97.3%)\n",
      "Posts per minute: 30.5\n",
      "Taking a 30-second break between batches...\n",
      "\n",
      "Processing batch 75/532\n"
     ]
    },
    {
     "name": "stderr",
     "output_type": "stream",
     "text": [
      "Updating authors: 100%|██████████| 100/100 [02:39<00:00,  1.59s/it]\n"
     ]
    },
    {
     "name": "stdout",
     "output_type": "stream",
     "text": [
      "Progress: 7,300/53,187 (13.7%)\n",
      "Success rate: 7300/7500 (97.3%)\n",
      "Posts per minute: 30.5\n",
      "Taking a 30-second break between batches...\n",
      "\n",
      "Processing batch 76/532\n"
     ]
    },
    {
     "name": "stderr",
     "output_type": "stream",
     "text": [
      "Updating authors:   0%|          | 0/100 [00:00<?, ?it/s]"
     ]
    },
    {
     "name": "stdout",
     "output_type": "stream",
     "text": [
      "  ❌ Error updating post l70cp5: 'Redditor' object has no attribute 'id'\n"
     ]
    },
    {
     "name": "stderr",
     "output_type": "stream",
     "text": [
      "Updating authors:  46%|████▌     | 46/100 [01:13<01:31,  1.69s/it]"
     ]
    },
    {
     "name": "stdout",
     "output_type": "stream",
     "text": [
      "  ❌ Error updating post l70c59: 'Redditor' object has no attribute 'id'\n"
     ]
    },
    {
     "name": "stderr",
     "output_type": "stream",
     "text": [
      "Updating authors: 100%|██████████| 100/100 [02:35<00:00,  1.56s/it]\n"
     ]
    },
    {
     "name": "stdout",
     "output_type": "stream",
     "text": [
      "Progress: 7,398/53,187 (13.9%)\n",
      "Success rate: 7398/7600 (97.3%)\n",
      "Posts per minute: 30.5\n",
      "Taking a 30-second break between batches...\n",
      "\n",
      "Processing batch 77/532\n"
     ]
    },
    {
     "name": "stderr",
     "output_type": "stream",
     "text": [
      "Updating authors:  10%|█         | 10/100 [00:16<02:32,  1.69s/it]"
     ]
    },
    {
     "name": "stdout",
     "output_type": "stream",
     "text": [
      "  ❌ Error updating post l70bd2: 'Redditor' object has no attribute 'id'\n"
     ]
    },
    {
     "name": "stderr",
     "output_type": "stream",
     "text": [
      "Updating authors:  77%|███████▋  | 77/100 [02:05<00:37,  1.62s/it]"
     ]
    },
    {
     "name": "stdout",
     "output_type": "stream",
     "text": [
      "  ❌ Error updating post l70aft: 'Redditor' object has no attribute 'id'\n"
     ]
    },
    {
     "name": "stderr",
     "output_type": "stream",
     "text": [
      "Updating authors:  93%|█████████▎| 93/100 [02:30<00:11,  1.61s/it]"
     ]
    },
    {
     "name": "stdout",
     "output_type": "stream",
     "text": [
      "  ❌ Error updating post l70a7l: 'Redditor' object has no attribute 'id'\n"
     ]
    },
    {
     "name": "stderr",
     "output_type": "stream",
     "text": [
      "Updating authors: 100%|██████████| 100/100 [02:41<00:00,  1.62s/it]\n"
     ]
    },
    {
     "name": "stdout",
     "output_type": "stream",
     "text": [
      "Progress: 7,495/53,187 (14.1%)\n",
      "Success rate: 7495/7700 (97.3%)\n",
      "Posts per minute: 30.5\n",
      "Taking a 30-second break between batches...\n",
      "\n",
      "Processing batch 78/532\n"
     ]
    },
    {
     "name": "stderr",
     "output_type": "stream",
     "text": [
      "Updating authors:   2%|▏         | 2/100 [00:03<02:28,  1.52s/it]"
     ]
    },
    {
     "name": "stdout",
     "output_type": "stream",
     "text": [
      "  ❌ Error updating post l70a4f: 'Redditor' object has no attribute 'id'\n"
     ]
    },
    {
     "name": "stderr",
     "output_type": "stream",
     "text": [
      "Updating authors:   4%|▍         | 4/100 [00:06<02:34,  1.61s/it]"
     ]
    },
    {
     "name": "stdout",
     "output_type": "stream",
     "text": [
      "  ❌ Error updating post l70a44: 'Redditor' object has no attribute 'id'\n"
     ]
    },
    {
     "name": "stderr",
     "output_type": "stream",
     "text": [
      "Updating authors:  20%|██        | 20/100 [00:31<02:00,  1.50s/it]"
     ]
    },
    {
     "name": "stdout",
     "output_type": "stream",
     "text": [
      "  ❌ Error updating post l709xp: 'Redditor' object has no attribute 'id'\n"
     ]
    },
    {
     "name": "stderr",
     "output_type": "stream",
     "text": [
      "Updating authors:  44%|████▍     | 44/100 [01:07<01:22,  1.47s/it]"
     ]
    },
    {
     "name": "stdout",
     "output_type": "stream",
     "text": [
      "  ❌ Error updating post l709p9: 'Redditor' object has no attribute 'id'\n"
     ]
    },
    {
     "name": "stderr",
     "output_type": "stream",
     "text": [
      "Updating authors:  62%|██████▏   | 62/100 [01:35<00:55,  1.46s/it]"
     ]
    },
    {
     "name": "stdout",
     "output_type": "stream",
     "text": [
      "  ❌ Error updating post l709io: 'Redditor' object has no attribute 'id'\n"
     ]
    },
    {
     "name": "stderr",
     "output_type": "stream",
     "text": [
      "Updating authors:  64%|██████▍   | 64/100 [01:39<00:56,  1.56s/it]"
     ]
    },
    {
     "name": "stdout",
     "output_type": "stream",
     "text": [
      "  ❌ Error updating post l709hw: received 404 HTTP response\n"
     ]
    },
    {
     "name": "stderr",
     "output_type": "stream",
     "text": [
      "Updating authors:  72%|███████▏  | 72/100 [01:53<00:46,  1.65s/it]"
     ]
    },
    {
     "name": "stdout",
     "output_type": "stream",
     "text": [
      "  ❌ Error updating post l709fa: 'Redditor' object has no attribute 'id'\n"
     ]
    },
    {
     "name": "stderr",
     "output_type": "stream",
     "text": [
      "Updating authors: 100%|██████████| 100/100 [02:36<00:00,  1.56s/it]\n"
     ]
    },
    {
     "name": "stdout",
     "output_type": "stream",
     "text": [
      "Progress: 7,588/53,187 (14.3%)\n",
      "Success rate: 7588/7800 (97.3%)\n",
      "Posts per minute: 30.5\n",
      "Taking a 30-second break between batches...\n",
      "\n",
      "Processing batch 79/532\n"
     ]
    },
    {
     "name": "stderr",
     "output_type": "stream",
     "text": [
      "Updating authors:   7%|▋         | 7/100 [00:11<02:33,  1.65s/it]"
     ]
    },
    {
     "name": "stdout",
     "output_type": "stream",
     "text": [
      "  ❌ Error updating post l708zn: 'Redditor' object has no attribute 'id'\n"
     ]
    },
    {
     "name": "stderr",
     "output_type": "stream",
     "text": [
      "Updating authors:  41%|████      | 41/100 [01:04<01:33,  1.58s/it]"
     ]
    },
    {
     "name": "stdout",
     "output_type": "stream",
     "text": [
      "  ❌ Error updating post l708q5: 'Redditor' object has no attribute 'id'\n"
     ]
    },
    {
     "name": "stderr",
     "output_type": "stream",
     "text": [
      "Updating authors:  49%|████▉     | 49/100 [01:17<01:21,  1.60s/it]"
     ]
    },
    {
     "name": "stdout",
     "output_type": "stream",
     "text": [
      "  ❌ Error updating post l708kl: 'Redditor' object has no attribute 'id'\n"
     ]
    },
    {
     "name": "stderr",
     "output_type": "stream",
     "text": [
      "Updating authors:  56%|█████▌    | 56/100 [01:27<01:08,  1.55s/it]"
     ]
    },
    {
     "name": "stdout",
     "output_type": "stream",
     "text": [
      "  ❌ Error updating post l708jp: 'Redditor' object has no attribute 'id'\n"
     ]
    },
    {
     "name": "stderr",
     "output_type": "stream",
     "text": [
      "Updating authors:  83%|████████▎ | 83/100 [02:11<00:27,  1.59s/it]"
     ]
    },
    {
     "name": "stdout",
     "output_type": "stream",
     "text": [
      "  ❌ Error updating post l70i1z: 'Redditor' object has no attribute 'id'\n"
     ]
    },
    {
     "name": "stderr",
     "output_type": "stream",
     "text": [
      "Updating authors: 100%|██████████| 100/100 [02:37<00:00,  1.57s/it]\n"
     ]
    },
    {
     "name": "stdout",
     "output_type": "stream",
     "text": [
      "Progress: 7,683/53,187 (14.4%)\n",
      "Success rate: 7683/7900 (97.3%)\n",
      "Posts per minute: 30.5\n",
      "Taking a 30-second break between batches...\n",
      "\n",
      "Processing batch 80/532\n"
     ]
    },
    {
     "name": "stderr",
     "output_type": "stream",
     "text": [
      "Updating authors:  44%|████▍     | 44/100 [01:09<01:20,  1.43s/it]"
     ]
    },
    {
     "name": "stdout",
     "output_type": "stream",
     "text": [
      "  ❌ Error updating post l70gne: 'Redditor' object has no attribute 'id'\n"
     ]
    },
    {
     "name": "stderr",
     "output_type": "stream",
     "text": [
      "Updating authors:  53%|█████▎    | 53/100 [01:23<01:13,  1.57s/it]"
     ]
    },
    {
     "name": "stdout",
     "output_type": "stream",
     "text": [
      "  ❌ Error updating post l70gkc: 'Redditor' object has no attribute 'id'\n"
     ]
    },
    {
     "name": "stderr",
     "output_type": "stream",
     "text": [
      "Updating authors: 100%|██████████| 100/100 [02:36<00:00,  1.57s/it]\n"
     ]
    },
    {
     "name": "stdout",
     "output_type": "stream",
     "text": [
      "Progress: 7,781/53,187 (14.6%)\n",
      "Success rate: 7781/8000 (97.3%)\n",
      "Posts per minute: 30.5\n",
      "Taking a 30-second break between batches...\n",
      "\n",
      "Processing batch 81/532\n"
     ]
    },
    {
     "name": "stderr",
     "output_type": "stream",
     "text": [
      "Updating authors:  16%|█▌        | 16/100 [00:26<02:15,  1.62s/it]"
     ]
    },
    {
     "name": "stdout",
     "output_type": "stream",
     "text": [
      "  ❌ Error updating post l70ft7: 'Redditor' object has no attribute 'id'\n"
     ]
    },
    {
     "name": "stderr",
     "output_type": "stream",
     "text": [
      "Updating authors:  62%|██████▏   | 62/100 [01:38<01:02,  1.64s/it]"
     ]
    },
    {
     "name": "stdout",
     "output_type": "stream",
     "text": [
      "  ❌ Error updating post l70f9t: 'Redditor' object has no attribute 'id'\n"
     ]
    },
    {
     "name": "stderr",
     "output_type": "stream",
     "text": [
      "Updating authors:  69%|██████▉   | 69/100 [01:49<00:49,  1.60s/it]"
     ]
    },
    {
     "name": "stdout",
     "output_type": "stream",
     "text": [
      "  ❌ Error updating post l70f7s: 'Redditor' object has no attribute 'id'\n"
     ]
    },
    {
     "name": "stderr",
     "output_type": "stream",
     "text": [
      "Updating authors: 100%|██████████| 100/100 [02:38<00:00,  1.58s/it]\n"
     ]
    },
    {
     "name": "stdout",
     "output_type": "stream",
     "text": [
      "Progress: 7,878/53,187 (14.8%)\n",
      "Success rate: 7878/8100 (97.3%)\n",
      "Posts per minute: 30.5\n",
      "Taking a 30-second break between batches...\n",
      "\n",
      "Processing batch 82/532\n"
     ]
    },
    {
     "name": "stderr",
     "output_type": "stream",
     "text": [
      "Updating authors:  51%|█████     | 51/100 [01:20<01:12,  1.49s/it]"
     ]
    },
    {
     "name": "stdout",
     "output_type": "stream",
     "text": [
      "  ❌ Error updating post l70e6w: 'Redditor' object has no attribute 'id'\n"
     ]
    },
    {
     "name": "stderr",
     "output_type": "stream",
     "text": [
      "Updating authors:  86%|████████▌ | 86/100 [02:15<00:22,  1.60s/it]"
     ]
    },
    {
     "name": "stdout",
     "output_type": "stream",
     "text": [
      "  ❌ Error updating post l70dtj: 'Redditor' object has no attribute 'id'\n"
     ]
    },
    {
     "name": "stderr",
     "output_type": "stream",
     "text": [
      "Updating authors: 100%|██████████| 100/100 [02:36<00:00,  1.57s/it]\n"
     ]
    },
    {
     "name": "stdout",
     "output_type": "stream",
     "text": [
      "Progress: 7,976/53,187 (15.0%)\n",
      "Success rate: 7976/8200 (97.3%)\n",
      "Posts per minute: 30.6\n",
      "Taking a 30-second break between batches...\n",
      "\n",
      "Processing batch 83/532\n"
     ]
    },
    {
     "name": "stderr",
     "output_type": "stream",
     "text": [
      "Updating authors:   7%|▋         | 7/100 [00:10<02:19,  1.50s/it]"
     ]
    },
    {
     "name": "stdout",
     "output_type": "stream",
     "text": [
      "  ❌ Error updating post l70dmg: 'Redditor' object has no attribute 'id'\n"
     ]
    },
    {
     "name": "stderr",
     "output_type": "stream",
     "text": [
      "Updating authors:  37%|███▋      | 37/100 [00:57<01:35,  1.51s/it]"
     ]
    },
    {
     "name": "stdout",
     "output_type": "stream",
     "text": [
      "  ❌ Error updating post l70nrj: 'Redditor' object has no attribute 'id'\n"
     ]
    },
    {
     "name": "stderr",
     "output_type": "stream",
     "text": [
      "Updating authors:  84%|████████▍ | 84/100 [02:10<00:24,  1.51s/it]"
     ]
    },
    {
     "name": "stdout",
     "output_type": "stream",
     "text": [
      "  ❌ Error updating post l70nar: 'Redditor' object has no attribute 'id'\n"
     ]
    },
    {
     "name": "stderr",
     "output_type": "stream",
     "text": [
      "Updating authors: 100%|██████████| 100/100 [02:36<00:00,  1.56s/it]\n"
     ]
    },
    {
     "name": "stdout",
     "output_type": "stream",
     "text": [
      "Progress: 8,073/53,187 (15.2%)\n",
      "Success rate: 8073/8300 (97.3%)\n",
      "Posts per minute: 30.6\n",
      "Taking a 30-second break between batches...\n",
      "\n",
      "Processing batch 84/532\n"
     ]
    },
    {
     "name": "stderr",
     "output_type": "stream",
     "text": [
      "Updating authors:  12%|█▏        | 12/100 [00:18<02:17,  1.56s/it]"
     ]
    },
    {
     "name": "stdout",
     "output_type": "stream",
     "text": [
      "  ❌ Error updating post l70n00: 'Redditor' object has no attribute 'id'\n"
     ]
    },
    {
     "name": "stderr",
     "output_type": "stream",
     "text": [
      "Updating authors:  17%|█▋        | 17/100 [00:26<02:10,  1.57s/it]"
     ]
    },
    {
     "name": "stdout",
     "output_type": "stream",
     "text": [
      "  ❌ Error updating post l70mya: 'Redditor' object has no attribute 'id'\n"
     ]
    },
    {
     "name": "stderr",
     "output_type": "stream",
     "text": [
      "Updating authors:  31%|███       | 31/100 [00:48<01:47,  1.56s/it]"
     ]
    },
    {
     "name": "stdout",
     "output_type": "stream",
     "text": [
      "  ❌ Error updating post l70msw: 'Redditor' object has no attribute 'id'\n"
     ]
    },
    {
     "name": "stderr",
     "output_type": "stream",
     "text": [
      "Updating authors:  37%|███▋      | 37/100 [00:58<01:36,  1.54s/it]"
     ]
    },
    {
     "name": "stdout",
     "output_type": "stream",
     "text": [
      "  ❌ Error updating post l70mqz: 'Redditor' object has no attribute 'id'\n"
     ]
    },
    {
     "name": "stderr",
     "output_type": "stream",
     "text": [
      "Updating authors:  48%|████▊     | 48/100 [01:15<01:17,  1.48s/it]"
     ]
    },
    {
     "name": "stdout",
     "output_type": "stream",
     "text": [
      "  ❌ Error updating post l70mlr: received 404 HTTP response\n"
     ]
    },
    {
     "name": "stderr",
     "output_type": "stream",
     "text": [
      "Updating authors:  91%|█████████ | 91/100 [02:22<00:14,  1.59s/it]"
     ]
    },
    {
     "name": "stdout",
     "output_type": "stream",
     "text": [
      "  ❌ Error updating post l70m52: 'Redditor' object has no attribute 'id'\n"
     ]
    },
    {
     "name": "stderr",
     "output_type": "stream",
     "text": [
      "Updating authors: 100%|██████████| 100/100 [02:36<00:00,  1.57s/it]\n"
     ]
    },
    {
     "name": "stdout",
     "output_type": "stream",
     "text": [
      "Progress: 8,167/53,187 (15.4%)\n",
      "Success rate: 8167/8400 (97.2%)\n",
      "Posts per minute: 30.6\n",
      "Taking a 30-second break between batches...\n",
      "\n",
      "Processing batch 85/532\n"
     ]
    },
    {
     "name": "stderr",
     "output_type": "stream",
     "text": [
      "Updating authors:  17%|█▋        | 17/100 [00:25<02:09,  1.56s/it]"
     ]
    },
    {
     "name": "stdout",
     "output_type": "stream",
     "text": [
      "  ❌ Error updating post l70lt1: 'Redditor' object has no attribute 'id'\n"
     ]
    },
    {
     "name": "stderr",
     "output_type": "stream",
     "text": [
      "Updating authors:  18%|█▊        | 18/100 [00:27<02:09,  1.58s/it]"
     ]
    },
    {
     "name": "stdout",
     "output_type": "stream",
     "text": [
      "  ❌ Error updating post l70lsw: 'Redditor' object has no attribute 'id'\n"
     ]
    },
    {
     "name": "stderr",
     "output_type": "stream",
     "text": [
      "Updating authors:  26%|██▌       | 26/100 [00:40<01:54,  1.54s/it]"
     ]
    },
    {
     "name": "stdout",
     "output_type": "stream",
     "text": [
      "  ❌ Error updating post l70lp7: 'Redditor' object has no attribute 'id'\n"
     ]
    },
    {
     "name": "stderr",
     "output_type": "stream",
     "text": [
      "Updating authors:  51%|█████     | 51/100 [01:19<01:22,  1.68s/it]"
     ]
    },
    {
     "name": "stdout",
     "output_type": "stream",
     "text": [
      "  ❌ Error updating post l70lhc: 'Redditor' object has no attribute 'id'\n"
     ]
    },
    {
     "name": "stderr",
     "output_type": "stream",
     "text": [
      "Updating authors:  85%|████████▌ | 85/100 [02:11<00:21,  1.44s/it]"
     ]
    },
    {
     "name": "stdout",
     "output_type": "stream",
     "text": [
      "  ❌ Error updating post l70l3b: 'Redditor' object has no attribute 'id'\n"
     ]
    },
    {
     "name": "stderr",
     "output_type": "stream",
     "text": [
      "Updating authors: 100%|██████████| 100/100 [02:34<00:00,  1.55s/it]\n"
     ]
    },
    {
     "name": "stdout",
     "output_type": "stream",
     "text": [
      "Progress: 8,262/53,187 (15.5%)\n",
      "Success rate: 8262/8500 (97.2%)\n",
      "Posts per minute: 30.6\n",
      "Taking a 30-second break between batches...\n",
      "\n",
      "Processing batch 86/532\n"
     ]
    },
    {
     "name": "stderr",
     "output_type": "stream",
     "text": [
      "Updating authors: 100%|██████████| 100/100 [02:37<00:00,  1.58s/it]\n"
     ]
    },
    {
     "name": "stdout",
     "output_type": "stream",
     "text": [
      "Progress: 8,362/53,187 (15.7%)\n",
      "Success rate: 8362/8600 (97.2%)\n",
      "Posts per minute: 30.6\n",
      "Taking a 30-second break between batches...\n",
      "\n",
      "Processing batch 87/532\n"
     ]
    },
    {
     "name": "stderr",
     "output_type": "stream",
     "text": [
      "Updating authors:  63%|██████▎   | 63/100 [01:40<00:59,  1.62s/it]"
     ]
    },
    {
     "name": "stdout",
     "output_type": "stream",
     "text": [
      "  ❌ Error updating post l70iw9: 'Redditor' object has no attribute 'id'\n"
     ]
    },
    {
     "name": "stderr",
     "output_type": "stream",
     "text": [
      "Updating authors:  66%|██████▌   | 66/100 [01:45<00:53,  1.57s/it]"
     ]
    },
    {
     "name": "stdout",
     "output_type": "stream",
     "text": [
      "  ❌ Error updating post l70ium: 'Redditor' object has no attribute 'id'\n"
     ]
    },
    {
     "name": "stderr",
     "output_type": "stream",
     "text": [
      "Updating authors:  84%|████████▍ | 84/100 [02:13<00:26,  1.65s/it]"
     ]
    },
    {
     "name": "stdout",
     "output_type": "stream",
     "text": [
      "  ❌ Error updating post l70i4w: 'Redditor' object has no attribute 'id'\n"
     ]
    },
    {
     "name": "stderr",
     "output_type": "stream",
     "text": [
      "Updating authors: 100%|██████████| 100/100 [02:39<00:00,  1.59s/it]\n"
     ]
    },
    {
     "name": "stdout",
     "output_type": "stream",
     "text": [
      "Progress: 8,459/53,187 (15.9%)\n",
      "Success rate: 8459/8700 (97.2%)\n",
      "Posts per minute: 30.6\n",
      "Taking a 30-second break between batches...\n",
      "\n",
      "Processing batch 88/532\n"
     ]
    },
    {
     "name": "stderr",
     "output_type": "stream",
     "text": [
      "Updating authors:  22%|██▏       | 22/100 [00:34<02:07,  1.63s/it]"
     ]
    },
    {
     "name": "stdout",
     "output_type": "stream",
     "text": [
      "  ❌ Error updating post l70hdq: 'Redditor' object has no attribute 'id'\n"
     ]
    },
    {
     "name": "stderr",
     "output_type": "stream",
     "text": [
      "Updating authors:  68%|██████▊   | 68/100 [01:45<00:48,  1.52s/it]"
     ]
    },
    {
     "name": "stdout",
     "output_type": "stream",
     "text": [
      "  ❌ Error updating post l70xzo: 'Redditor' object has no attribute 'id'\n"
     ]
    },
    {
     "name": "stderr",
     "output_type": "stream",
     "text": [
      "Updating authors:  69%|██████▉   | 69/100 [01:47<00:47,  1.54s/it]"
     ]
    },
    {
     "name": "stdout",
     "output_type": "stream",
     "text": [
      "  ❌ Error updating post l70xzm: 'Redditor' object has no attribute 'id'\n"
     ]
    },
    {
     "name": "stderr",
     "output_type": "stream",
     "text": [
      "Updating authors:  76%|███████▌  | 76/100 [01:57<00:36,  1.51s/it]"
     ]
    },
    {
     "name": "stdout",
     "output_type": "stream",
     "text": [
      "  ❌ Error updating post l70xvr: 'Redditor' object has no attribute 'id'\n"
     ]
    },
    {
     "name": "stderr",
     "output_type": "stream",
     "text": [
      "Updating authors:  98%|█████████▊| 98/100 [02:29<00:02,  1.39s/it]"
     ]
    },
    {
     "name": "stdout",
     "output_type": "stream",
     "text": [
      "  ❌ Error updating post l70xmm: 'Redditor' object has no attribute 'id'\n"
     ]
    },
    {
     "name": "stderr",
     "output_type": "stream",
     "text": [
      "Updating authors: 100%|██████████| 100/100 [02:32<00:00,  1.53s/it]\n"
     ]
    },
    {
     "name": "stdout",
     "output_type": "stream",
     "text": [
      "Progress: 8,554/53,187 (16.1%)\n",
      "Success rate: 8554/8800 (97.2%)\n",
      "Posts per minute: 30.6\n",
      "Taking a 30-second break between batches...\n",
      "\n",
      "Processing batch 89/532\n"
     ]
    },
    {
     "name": "stderr",
     "output_type": "stream",
     "text": [
      "Updating authors:   4%|▍         | 4/100 [00:06<02:34,  1.61s/it]"
     ]
    },
    {
     "name": "stdout",
     "output_type": "stream",
     "text": [
      "  ❌ Error updating post l70xjl: 'Redditor' object has no attribute 'id'\n"
     ]
    },
    {
     "name": "stderr",
     "output_type": "stream",
     "text": [
      "Updating authors:  50%|█████     | 50/100 [01:15<01:11,  1.44s/it]"
     ]
    },
    {
     "name": "stdout",
     "output_type": "stream",
     "text": [
      "  ❌ Error updating post l70x3f: 'Redditor' object has no attribute 'id'\n"
     ]
    },
    {
     "name": "stderr",
     "output_type": "stream",
     "text": [
      "Updating authors:  62%|██████▏   | 62/100 [01:34<00:57,  1.51s/it]"
     ]
    },
    {
     "name": "stdout",
     "output_type": "stream",
     "text": [
      "  ❌ Error updating post l70wyv: 'Redditor' object has no attribute 'id'\n"
     ]
    },
    {
     "name": "stderr",
     "output_type": "stream",
     "text": [
      "Updating authors:  68%|██████▊   | 68/100 [01:43<00:46,  1.47s/it]"
     ]
    },
    {
     "name": "stdout",
     "output_type": "stream",
     "text": [
      "  ❌ Error updating post l70wvm: 'Redditor' object has no attribute 'id'\n"
     ]
    },
    {
     "name": "stderr",
     "output_type": "stream",
     "text": [
      "Updating authors:  81%|████████  | 81/100 [02:02<00:28,  1.52s/it]"
     ]
    },
    {
     "name": "stdout",
     "output_type": "stream",
     "text": [
      "  ❌ Error updating post l70wof: 'Redditor' object has no attribute 'id'\n"
     ]
    },
    {
     "name": "stderr",
     "output_type": "stream",
     "text": [
      "Updating authors:  97%|█████████▋| 97/100 [02:27<00:04,  1.53s/it]"
     ]
    },
    {
     "name": "stdout",
     "output_type": "stream",
     "text": [
      "  ❌ Error updating post l70wd7: 'Redditor' object has no attribute 'id'\n"
     ]
    },
    {
     "name": "stderr",
     "output_type": "stream",
     "text": [
      "Updating authors: 100%|██████████| 100/100 [02:32<00:00,  1.52s/it]\n"
     ]
    },
    {
     "name": "stdout",
     "output_type": "stream",
     "text": [
      "Progress: 8,648/53,187 (16.3%)\n",
      "Success rate: 8648/8900 (97.2%)\n",
      "Posts per minute: 30.6\n",
      "Taking a 30-second break between batches...\n",
      "\n",
      "Processing batch 90/532\n"
     ]
    },
    {
     "name": "stderr",
     "output_type": "stream",
     "text": [
      "Updating authors:  37%|███▋      | 37/100 [00:57<01:42,  1.63s/it]"
     ]
    },
    {
     "name": "stdout",
     "output_type": "stream",
     "text": [
      "  ❌ Error updating post l70vvj: 'Redditor' object has no attribute 'id'\n"
     ]
    },
    {
     "name": "stderr",
     "output_type": "stream",
     "text": [
      "Updating authors:  70%|███████   | 70/100 [01:51<00:47,  1.60s/it]"
     ]
    },
    {
     "name": "stdout",
     "output_type": "stream",
     "text": [
      "  ❌ Error updating post l70vj7: 'Redditor' object has no attribute 'id'\n"
     ]
    },
    {
     "name": "stderr",
     "output_type": "stream",
     "text": [
      "Updating authors:  80%|████████  | 80/100 [02:07<00:32,  1.62s/it]"
     ]
    },
    {
     "name": "stdout",
     "output_type": "stream",
     "text": [
      "  ❌ Error updating post l70vds: 'Redditor' object has no attribute 'id'\n"
     ]
    },
    {
     "name": "stderr",
     "output_type": "stream",
     "text": [
      "Updating authors: 100%|██████████| 100/100 [02:37<00:00,  1.58s/it]\n"
     ]
    },
    {
     "name": "stdout",
     "output_type": "stream",
     "text": [
      "Progress: 8,745/53,187 (16.4%)\n",
      "Success rate: 8745/9000 (97.2%)\n",
      "Posts per minute: 30.6\n",
      "Taking a 30-second break between batches...\n",
      "\n",
      "Processing batch 91/532\n"
     ]
    },
    {
     "name": "stderr",
     "output_type": "stream",
     "text": [
      "Updating authors:  47%|████▋     | 47/100 [01:13<01:23,  1.57s/it]"
     ]
    },
    {
     "name": "stdout",
     "output_type": "stream",
     "text": [
      "  ❌ Error updating post l70ukk: received 404 HTTP response\n"
     ]
    },
    {
     "name": "stderr",
     "output_type": "stream",
     "text": [
      "Updating authors:  56%|█████▌    | 56/100 [01:28<01:10,  1.59s/it]"
     ]
    },
    {
     "name": "stdout",
     "output_type": "stream",
     "text": [
      "  ❌ Error updating post l70uen: 'Redditor' object has no attribute 'id'\n"
     ]
    },
    {
     "name": "stderr",
     "output_type": "stream",
     "text": [
      "Updating authors:  98%|█████████▊| 98/100 [02:32<00:03,  1.57s/it]"
     ]
    },
    {
     "name": "stdout",
     "output_type": "stream",
     "text": [
      "  ❌ Error updating post l70tyq: 'Redditor' object has no attribute 'id'\n"
     ]
    },
    {
     "name": "stderr",
     "output_type": "stream",
     "text": [
      "Updating authors: 100%|██████████| 100/100 [02:35<00:00,  1.56s/it]\n"
     ]
    },
    {
     "name": "stdout",
     "output_type": "stream",
     "text": [
      "Progress: 8,842/53,187 (16.6%)\n",
      "Success rate: 8842/9100 (97.2%)\n",
      "Posts per minute: 30.6\n",
      "Taking a 30-second break between batches...\n",
      "\n",
      "Processing batch 92/532\n"
     ]
    },
    {
     "name": "stderr",
     "output_type": "stream",
     "text": [
      "Updating authors:  78%|███████▊  | 78/100 [01:59<00:36,  1.65s/it]"
     ]
    },
    {
     "name": "stdout",
     "output_type": "stream",
     "text": [
      "  ❌ Error updating post l70t47: 'Redditor' object has no attribute 'id'\n"
     ]
    },
    {
     "name": "stderr",
     "output_type": "stream",
     "text": [
      "Updating authors:  92%|█████████▏| 92/100 [02:21<00:12,  1.56s/it]"
     ]
    },
    {
     "name": "stdout",
     "output_type": "stream",
     "text": [
      "  ❌ Error updating post l70szb: 'Redditor' object has no attribute 'id'\n"
     ]
    },
    {
     "name": "stderr",
     "output_type": "stream",
     "text": [
      "Updating authors:  98%|█████████▊| 98/100 [02:30<00:02,  1.47s/it]"
     ]
    },
    {
     "name": "stdout",
     "output_type": "stream",
     "text": [
      "  ❌ Error updating post l70svz: 'Redditor' object has no attribute 'id'\n"
     ]
    },
    {
     "name": "stderr",
     "output_type": "stream",
     "text": [
      "Updating authors: 100%|██████████| 100/100 [02:33<00:00,  1.54s/it]\n"
     ]
    },
    {
     "name": "stdout",
     "output_type": "stream",
     "text": [
      "Progress: 8,939/53,187 (16.8%)\n",
      "Success rate: 8939/9200 (97.2%)\n",
      "Posts per minute: 30.6\n",
      "Taking a 30-second break between batches...\n",
      "\n",
      "Processing batch 93/532\n"
     ]
    },
    {
     "name": "stderr",
     "output_type": "stream",
     "text": [
      "Updating authors:  42%|████▏     | 42/100 [01:10<01:29,  1.55s/it]"
     ]
    },
    {
     "name": "stdout",
     "output_type": "stream",
     "text": [
      "  ❌ Error updating post l70sbf: 'Redditor' object has no attribute 'id'\n"
     ]
    },
    {
     "name": "stderr",
     "output_type": "stream",
     "text": [
      "Updating authors:  62%|██████▏   | 62/100 [01:41<01:02,  1.63s/it]"
     ]
    },
    {
     "name": "stdout",
     "output_type": "stream",
     "text": [
      "  ❌ Error updating post l70s4a: 'Redditor' object has no attribute 'id'\n"
     ]
    },
    {
     "name": "stderr",
     "output_type": "stream",
     "text": [
      "Updating authors:  95%|█████████▌| 95/100 [02:33<00:08,  1.64s/it]"
     ]
    },
    {
     "name": "stdout",
     "output_type": "stream",
     "text": [
      "  ❌ Error updating post l713l5: 'Redditor' object has no attribute 'id'\n"
     ]
    },
    {
     "name": "stderr",
     "output_type": "stream",
     "text": [
      "Updating authors:  97%|█████████▋| 97/100 [02:37<00:04,  1.64s/it]"
     ]
    },
    {
     "name": "stdout",
     "output_type": "stream",
     "text": [
      "  ❌ Error updating post l713kx: 'Redditor' object has no attribute 'id'\n"
     ]
    },
    {
     "name": "stderr",
     "output_type": "stream",
     "text": [
      "Updating authors: 100%|██████████| 100/100 [02:41<00:00,  1.62s/it]\n"
     ]
    },
    {
     "name": "stdout",
     "output_type": "stream",
     "text": [
      "Progress: 9,035/53,187 (17.0%)\n",
      "Success rate: 9035/9300 (97.2%)\n",
      "Posts per minute: 30.6\n",
      "Taking a 30-second break between batches...\n",
      "\n",
      "Processing batch 94/532\n"
     ]
    },
    {
     "name": "stderr",
     "output_type": "stream",
     "text": [
      "Updating authors:  21%|██        | 21/100 [00:31<01:55,  1.46s/it]"
     ]
    },
    {
     "name": "stdout",
     "output_type": "stream",
     "text": [
      "  ❌ Error updating post l713d2: 'Redditor' object has no attribute 'id'\n"
     ]
    },
    {
     "name": "stderr",
     "output_type": "stream",
     "text": [
      "Updating authors:  82%|████████▏ | 82/100 [02:04<00:26,  1.46s/it]"
     ]
    },
    {
     "name": "stdout",
     "output_type": "stream",
     "text": [
      "  ❌ Error updating post l712sj: 'Redditor' object has no attribute 'id'\n"
     ]
    },
    {
     "name": "stderr",
     "output_type": "stream",
     "text": [
      "Updating authors: 100%|██████████| 100/100 [02:31<00:00,  1.52s/it]\n"
     ]
    },
    {
     "name": "stdout",
     "output_type": "stream",
     "text": [
      "Progress: 9,133/53,187 (17.2%)\n",
      "Success rate: 9133/9400 (97.2%)\n",
      "Posts per minute: 30.6\n",
      "Taking a 30-second break between batches...\n",
      "\n",
      "Processing batch 95/532\n"
     ]
    },
    {
     "name": "stderr",
     "output_type": "stream",
     "text": [
      "Updating authors:  20%|██        | 20/100 [00:32<02:13,  1.67s/it]"
     ]
    },
    {
     "name": "stdout",
     "output_type": "stream",
     "text": [
      "  ❌ Error updating post l712ax: 'Redditor' object has no attribute 'id'\n"
     ]
    },
    {
     "name": "stderr",
     "output_type": "stream",
     "text": [
      "Updating authors:  32%|███▏      | 32/100 [00:50<01:49,  1.61s/it]"
     ]
    },
    {
     "name": "stdout",
     "output_type": "stream",
     "text": [
      "  ❌ Error updating post l71255: 'Redditor' object has no attribute 'id'\n"
     ]
    },
    {
     "name": "stderr",
     "output_type": "stream",
     "text": [
      "Updating authors:  45%|████▌     | 45/100 [01:10<01:24,  1.54s/it]"
     ]
    },
    {
     "name": "stdout",
     "output_type": "stream",
     "text": [
      "  ❌ Error updating post l711zj: 'Redditor' object has no attribute 'id'\n"
     ]
    },
    {
     "name": "stderr",
     "output_type": "stream",
     "text": [
      "Updating authors:  52%|█████▏    | 52/100 [01:21<01:17,  1.61s/it]"
     ]
    },
    {
     "name": "stdout",
     "output_type": "stream",
     "text": [
      "  ❌ Error updating post l711xw: 'Redditor' object has no attribute 'id'\n"
     ]
    },
    {
     "name": "stderr",
     "output_type": "stream",
     "text": [
      "Updating authors: 100%|██████████| 100/100 [02:37<00:00,  1.57s/it]\n"
     ]
    },
    {
     "name": "stdout",
     "output_type": "stream",
     "text": [
      "Progress: 9,229/53,187 (17.4%)\n",
      "Success rate: 9229/9500 (97.1%)\n",
      "Posts per minute: 30.6\n",
      "Taking a 30-second break between batches...\n",
      "\n",
      "Processing batch 96/532\n"
     ]
    },
    {
     "name": "stderr",
     "output_type": "stream",
     "text": [
      "Updating authors:  21%|██        | 21/100 [00:34<02:06,  1.60s/it]"
     ]
    },
    {
     "name": "stdout",
     "output_type": "stream",
     "text": [
      "  ❌ Error updating post l710t3: 'Redditor' object has no attribute 'id'\n"
     ]
    },
    {
     "name": "stderr",
     "output_type": "stream",
     "text": [
      "Updating authors:  35%|███▌      | 35/100 [00:56<01:41,  1.57s/it]"
     ]
    },
    {
     "name": "stdout",
     "output_type": "stream",
     "text": [
      "  ❌ Error updating post l710lg: 'Redditor' object has no attribute 'id'\n"
     ]
    },
    {
     "name": "stderr",
     "output_type": "stream",
     "text": [
      "Updating authors:  61%|██████    | 61/100 [01:36<01:02,  1.59s/it]"
     ]
    },
    {
     "name": "stdout",
     "output_type": "stream",
     "text": [
      "  ❌ Error updating post l710bq: 'Redditor' object has no attribute 'id'\n"
     ]
    },
    {
     "name": "stderr",
     "output_type": "stream",
     "text": [
      "Updating authors:  67%|██████▋   | 67/100 [01:46<00:52,  1.60s/it]"
     ]
    },
    {
     "name": "stdout",
     "output_type": "stream",
     "text": [
      "  ❌ Error updating post l7108e: 'Redditor' object has no attribute 'id'\n"
     ]
    },
    {
     "name": "stderr",
     "output_type": "stream",
     "text": [
      "Updating authors: 100%|██████████| 100/100 [02:37<00:00,  1.57s/it]\n"
     ]
    },
    {
     "name": "stdout",
     "output_type": "stream",
     "text": [
      "Progress: 9,325/53,187 (17.5%)\n",
      "Success rate: 9325/9600 (97.1%)\n",
      "Posts per minute: 30.6\n",
      "Taking a 30-second break between batches...\n",
      "\n",
      "Processing batch 97/532\n"
     ]
    },
    {
     "name": "stderr",
     "output_type": "stream",
     "text": [
      "Updating authors:  16%|█▌        | 16/100 [00:24<02:01,  1.45s/it]"
     ]
    },
    {
     "name": "stdout",
     "output_type": "stream",
     "text": [
      "  ❌ Error updating post l70zt8: 'Redditor' object has no attribute 'id'\n"
     ]
    },
    {
     "name": "stderr",
     "output_type": "stream",
     "text": [
      "Updating authors:  25%|██▌       | 25/100 [00:38<02:00,  1.60s/it]"
     ]
    },
    {
     "name": "stdout",
     "output_type": "stream",
     "text": [
      "  ❌ Error updating post l70zls: 'Redditor' object has no attribute 'id'\n"
     ]
    },
    {
     "name": "stderr",
     "output_type": "stream",
     "text": [
      "Updating authors:  34%|███▍      | 34/100 [00:51<01:38,  1.49s/it]"
     ]
    },
    {
     "name": "stdout",
     "output_type": "stream",
     "text": [
      "  ❌ Error updating post l70zhe: 'Redditor' object has no attribute 'id'\n"
     ]
    },
    {
     "name": "stderr",
     "output_type": "stream",
     "text": [
      "Updating authors: 100%|██████████| 100/100 [02:33<00:00,  1.53s/it]\n"
     ]
    },
    {
     "name": "stdout",
     "output_type": "stream",
     "text": [
      "Progress: 9,422/53,187 (17.7%)\n",
      "Success rate: 9422/9700 (97.1%)\n",
      "Posts per minute: 30.6\n",
      "Taking a 30-second break between batches...\n",
      "\n",
      "Processing batch 98/532\n"
     ]
    },
    {
     "name": "stderr",
     "output_type": "stream",
     "text": [
      "Updating authors:  50%|█████     | 50/100 [01:19<01:21,  1.63s/it]"
     ]
    },
    {
     "name": "stdout",
     "output_type": "stream",
     "text": [
      "  ❌ Error updating post l7194s: 'Redditor' object has no attribute 'id'\n"
     ]
    },
    {
     "name": "stderr",
     "output_type": "stream",
     "text": [
      "Updating authors:  70%|███████   | 70/100 [01:50<00:48,  1.60s/it]"
     ]
    },
    {
     "name": "stdout",
     "output_type": "stream",
     "text": [
      "  ❌ Error updating post l718zp: 'Redditor' object has no attribute 'id'\n"
     ]
    },
    {
     "name": "stderr",
     "output_type": "stream",
     "text": [
      "Updating authors:  80%|████████  | 80/100 [02:06<00:30,  1.53s/it]"
     ]
    },
    {
     "name": "stdout",
     "output_type": "stream",
     "text": [
      "  ❌ Error updating post l718tz: received 404 HTTP response\n"
     ]
    },
    {
     "name": "stderr",
     "output_type": "stream",
     "text": [
      "Updating authors: 100%|██████████| 100/100 [02:40<00:00,  1.60s/it]\n"
     ]
    },
    {
     "name": "stdout",
     "output_type": "stream",
     "text": [
      "Progress: 9,519/53,187 (17.9%)\n",
      "Success rate: 9519/9800 (97.1%)\n",
      "Posts per minute: 30.6\n",
      "Taking a 30-second break between batches...\n",
      "\n",
      "Processing batch 99/532\n"
     ]
    },
    {
     "name": "stderr",
     "output_type": "stream",
     "text": [
      "Updating authors:  82%|████████▏ | 82/100 [02:04<00:27,  1.52s/it]"
     ]
    },
    {
     "name": "stdout",
     "output_type": "stream",
     "text": [
      "  ❌ Error updating post l717pq: 'Redditor' object has no attribute 'id'\n"
     ]
    },
    {
     "name": "stderr",
     "output_type": "stream",
     "text": [
      "Updating authors: 100%|██████████| 100/100 [02:31<00:00,  1.52s/it]\n"
     ]
    },
    {
     "name": "stdout",
     "output_type": "stream",
     "text": [
      "Progress: 9,618/53,187 (18.1%)\n",
      "Success rate: 9618/9900 (97.2%)\n",
      "Posts per minute: 30.6\n",
      "Taking a 30-second break between batches...\n",
      "\n",
      "Processing batch 100/532\n"
     ]
    },
    {
     "name": "stderr",
     "output_type": "stream",
     "text": [
      "Updating authors:  17%|█▋        | 17/100 [00:26<02:09,  1.55s/it]"
     ]
    },
    {
     "name": "stdout",
     "output_type": "stream",
     "text": [
      "  ❌ Error updating post l7178n: 'Redditor' object has no attribute 'id'\n"
     ]
    },
    {
     "name": "stderr",
     "output_type": "stream",
     "text": [
      "Updating authors:  29%|██▉       | 29/100 [00:45<01:50,  1.56s/it]"
     ]
    },
    {
     "name": "stdout",
     "output_type": "stream",
     "text": [
      "  ❌ Error updating post l71700: 'Redditor' object has no attribute 'id'\n"
     ]
    },
    {
     "name": "stderr",
     "output_type": "stream",
     "text": [
      "Updating authors:  83%|████████▎ | 83/100 [02:07<00:25,  1.51s/it]"
     ]
    },
    {
     "name": "stdout",
     "output_type": "stream",
     "text": [
      "  ❌ Error updating post l716ej: 'Redditor' object has no attribute 'id'\n"
     ]
    },
    {
     "name": "stderr",
     "output_type": "stream",
     "text": [
      "Updating authors: 100%|██████████| 100/100 [02:35<00:00,  1.55s/it]\n"
     ]
    },
    {
     "name": "stdout",
     "output_type": "stream",
     "text": [
      "Progress: 9,715/53,187 (18.3%)\n",
      "Success rate: 9715/10000 (97.2%)\n",
      "Posts per minute: 30.6\n",
      "Taking a 30-second break between batches...\n",
      "\n",
      "Processing batch 101/532\n"
     ]
    },
    {
     "name": "stderr",
     "output_type": "stream",
     "text": [
      "Updating authors:  44%|████▍     | 44/100 [01:08<01:27,  1.57s/it]"
     ]
    },
    {
     "name": "stdout",
     "output_type": "stream",
     "text": [
      "  ❌ Error updating post l715rz: 'Redditor' object has no attribute 'id'\n"
     ]
    },
    {
     "name": "stderr",
     "output_type": "stream",
     "text": [
      "Updating authors:  52%|█████▏    | 52/100 [01:21<01:16,  1.59s/it]"
     ]
    },
    {
     "name": "stdout",
     "output_type": "stream",
     "text": [
      "  ❌ Error updating post l715na: 'Redditor' object has no attribute 'id'\n"
     ]
    },
    {
     "name": "stderr",
     "output_type": "stream",
     "text": [
      "Updating authors:  58%|█████▊    | 58/100 [01:30<01:03,  1.51s/it]"
     ]
    },
    {
     "name": "stdout",
     "output_type": "stream",
     "text": [
      "  ❌ Error updating post l715m9: 'Redditor' object has no attribute 'id'\n"
     ]
    },
    {
     "name": "stderr",
     "output_type": "stream",
     "text": [
      "Updating authors:  59%|█████▉    | 59/100 [01:31<01:02,  1.53s/it]"
     ]
    },
    {
     "name": "stdout",
     "output_type": "stream",
     "text": [
      "  ❌ Error updating post l715m5: 'Redditor' object has no attribute 'id'\n"
     ]
    },
    {
     "name": "stderr",
     "output_type": "stream",
     "text": [
      "Updating authors:  68%|██████▊   | 68/100 [01:45<00:49,  1.56s/it]"
     ]
    },
    {
     "name": "stdout",
     "output_type": "stream",
     "text": [
      "  ❌ Error updating post l715hm: 'Redditor' object has no attribute 'id'\n"
     ]
    },
    {
     "name": "stderr",
     "output_type": "stream",
     "text": [
      "Updating authors:  89%|████████▉ | 89/100 [02:18<00:18,  1.64s/it]"
     ]
    },
    {
     "name": "stdout",
     "output_type": "stream",
     "text": [
      "  ❌ Error updating post l7159q: 'Redditor' object has no attribute 'id'\n"
     ]
    },
    {
     "name": "stderr",
     "output_type": "stream",
     "text": [
      "Updating authors:  90%|█████████ | 90/100 [02:19<00:16,  1.63s/it]"
     ]
    },
    {
     "name": "stdout",
     "output_type": "stream",
     "text": [
      "  ❌ Error updating post l7158w: received 404 HTTP response\n"
     ]
    },
    {
     "name": "stderr",
     "output_type": "stream",
     "text": [
      "Updating authors: 100%|██████████| 100/100 [02:35<00:00,  1.55s/it]\n"
     ]
    },
    {
     "name": "stdout",
     "output_type": "stream",
     "text": [
      "Progress: 9,808/53,187 (18.4%)\n",
      "Success rate: 9808/10100 (97.1%)\n",
      "Posts per minute: 30.6\n",
      "Taking a 30-second break between batches...\n",
      "\n",
      "Processing batch 102/532\n"
     ]
    },
    {
     "name": "stderr",
     "output_type": "stream",
     "text": [
      "Updating authors:   1%|          | 1/100 [00:01<03:04,  1.87s/it]"
     ]
    },
    {
     "name": "stdout",
     "output_type": "stream",
     "text": [
      "  ❌ Error updating post l7152h: 'Redditor' object has no attribute 'id'\n"
     ]
    },
    {
     "name": "stderr",
     "output_type": "stream",
     "text": [
      "Updating authors:  15%|█▌        | 15/100 [00:24<02:16,  1.60s/it]"
     ]
    },
    {
     "name": "stdout",
     "output_type": "stream",
     "text": [
      "  ❌ Error updating post l714xt: 'Redditor' object has no attribute 'id'\n"
     ]
    },
    {
     "name": "stderr",
     "output_type": "stream",
     "text": [
      "Updating authors:  23%|██▎       | 23/100 [00:36<01:54,  1.49s/it]"
     ]
    },
    {
     "name": "stdout",
     "output_type": "stream",
     "text": [
      "  ❌ Error updating post l714u2: 'Redditor' object has no attribute 'id'\n"
     ]
    },
    {
     "name": "stderr",
     "output_type": "stream",
     "text": [
      "Updating authors:  45%|████▌     | 45/100 [01:11<02:01,  2.20s/it]"
     ]
    },
    {
     "name": "stdout",
     "output_type": "stream",
     "text": [
      "  ❌ Error updating post l714n0: 'Redditor' object has no attribute 'id'\n"
     ]
    },
    {
     "name": "stderr",
     "output_type": "stream",
     "text": [
      "Updating authors: 100%|██████████| 100/100 [02:36<00:00,  1.57s/it]\n"
     ]
    },
    {
     "name": "stdout",
     "output_type": "stream",
     "text": [
      "Progress: 9,904/53,187 (18.6%)\n",
      "Success rate: 9904/10200 (97.1%)\n",
      "Posts per minute: 30.6\n",
      "Taking a 30-second break between batches...\n",
      "\n",
      "Processing batch 103/532\n"
     ]
    },
    {
     "name": "stderr",
     "output_type": "stream",
     "text": [
      "Updating authors:   1%|          | 1/100 [00:01<02:42,  1.65s/it]"
     ]
    },
    {
     "name": "stdout",
     "output_type": "stream",
     "text": [
      "  ❌ Error updating post l713y7: 'Redditor' object has no attribute 'id'\n"
     ]
    },
    {
     "name": "stderr",
     "output_type": "stream",
     "text": [
      "Updating authors:  54%|█████▍    | 54/100 [01:22<01:07,  1.47s/it]"
     ]
    },
    {
     "name": "stdout",
     "output_type": "stream",
     "text": [
      "  ❌ Error updating post l71eiy: 'Redditor' object has no attribute 'id'\n"
     ]
    },
    {
     "name": "stderr",
     "output_type": "stream",
     "text": [
      "Updating authors: 100%|██████████| 100/100 [02:32<00:00,  1.52s/it]\n"
     ]
    },
    {
     "name": "stdout",
     "output_type": "stream",
     "text": [
      "Progress: 10,002/53,187 (18.8%)\n",
      "Success rate: 10002/10300 (97.1%)\n",
      "Posts per minute: 30.6\n",
      "Taking a 30-second break between batches...\n",
      "\n",
      "Processing batch 104/532\n"
     ]
    },
    {
     "name": "stderr",
     "output_type": "stream",
     "text": [
      "Updating authors:   6%|▌         | 6/100 [00:09<02:25,  1.54s/it]"
     ]
    },
    {
     "name": "stdout",
     "output_type": "stream",
     "text": [
      "  ❌ Error updating post l71e34: 'Redditor' object has no attribute 'id'\n"
     ]
    },
    {
     "name": "stderr",
     "output_type": "stream",
     "text": [
      "Updating authors:   7%|▋         | 7/100 [00:10<02:26,  1.58s/it]"
     ]
    },
    {
     "name": "stdout",
     "output_type": "stream",
     "text": [
      "  ❌ Error updating post l71e2t: 'Redditor' object has no attribute 'id'\n"
     ]
    },
    {
     "name": "stderr",
     "output_type": "stream",
     "text": [
      "Updating authors:  31%|███       | 31/100 [00:46<01:45,  1.53s/it]"
     ]
    },
    {
     "name": "stdout",
     "output_type": "stream",
     "text": [
      "  ❌ Error updating post l71dud: 'Redditor' object has no attribute 'id'\n"
     ]
    },
    {
     "name": "stderr",
     "output_type": "stream",
     "text": [
      "Updating authors:  44%|████▍     | 44/100 [01:07<01:32,  1.64s/it]"
     ]
    },
    {
     "name": "stdout",
     "output_type": "stream",
     "text": [
      "  ❌ Error updating post l71dr1: 'Redditor' object has no attribute 'id'\n"
     ]
    },
    {
     "name": "stderr",
     "output_type": "stream",
     "text": [
      "Updating authors:  75%|███████▌  | 75/100 [01:54<00:39,  1.56s/it]"
     ]
    },
    {
     "name": "stdout",
     "output_type": "stream",
     "text": [
      "  ❌ Error updating post l71dgx: 'Redditor' object has no attribute 'id'\n"
     ]
    },
    {
     "name": "stderr",
     "output_type": "stream",
     "text": [
      "Updating authors: 100%|██████████| 100/100 [02:31<00:00,  1.51s/it]\n"
     ]
    },
    {
     "name": "stdout",
     "output_type": "stream",
     "text": [
      "Progress: 10,097/53,187 (19.0%)\n",
      "Success rate: 10097/10400 (97.1%)\n",
      "Posts per minute: 30.6\n",
      "Taking a 30-second break between batches...\n",
      "\n",
      "Processing batch 105/532\n"
     ]
    },
    {
     "name": "stderr",
     "output_type": "stream",
     "text": [
      "Updating authors:  84%|████████▍ | 84/100 [02:09<00:24,  1.56s/it]"
     ]
    },
    {
     "name": "stdout",
     "output_type": "stream",
     "text": [
      "  ❌ Error updating post l71cjt: 'Redditor' object has no attribute 'id'\n"
     ]
    },
    {
     "name": "stderr",
     "output_type": "stream",
     "text": [
      "Updating authors: 100%|██████████| 100/100 [02:35<00:00,  1.55s/it]\n"
     ]
    },
    {
     "name": "stdout",
     "output_type": "stream",
     "text": [
      "Progress: 10,196/53,187 (19.2%)\n",
      "Success rate: 10196/10500 (97.1%)\n",
      "Posts per minute: 30.7\n",
      "Taking a 30-second break between batches...\n",
      "\n",
      "Processing batch 106/532\n"
     ]
    },
    {
     "name": "stderr",
     "output_type": "stream",
     "text": [
      "Updating authors:  45%|████▌     | 45/100 [01:13<01:22,  1.50s/it]"
     ]
    },
    {
     "name": "stdout",
     "output_type": "stream",
     "text": [
      "  ❌ Error updating post l71bt7: 'Redditor' object has no attribute 'id'\n"
     ]
    },
    {
     "name": "stderr",
     "output_type": "stream",
     "text": [
      "Updating authors:  48%|████▊     | 48/100 [01:20<01:58,  2.28s/it]"
     ]
    },
    {
     "name": "stdout",
     "output_type": "stream",
     "text": [
      "  ❌ Error updating post l71brg: 'Redditor' object has no attribute 'id'\n"
     ]
    },
    {
     "name": "stderr",
     "output_type": "stream",
     "text": [
      "Updating authors:  54%|█████▍    | 54/100 [01:29<01:16,  1.65s/it]"
     ]
    },
    {
     "name": "stdout",
     "output_type": "stream",
     "text": [
      "  ❌ Error updating post l71bqg: 'Redditor' object has no attribute 'id'\n"
     ]
    },
    {
     "name": "stderr",
     "output_type": "stream",
     "text": [
      "Updating authors:  91%|█████████ | 91/100 [02:27<00:14,  1.63s/it]"
     ]
    },
    {
     "name": "stdout",
     "output_type": "stream",
     "text": [
      "  ❌ Error updating post l71bav: 'Redditor' object has no attribute 'id'\n"
     ]
    },
    {
     "name": "stderr",
     "output_type": "stream",
     "text": [
      "Updating authors: 100%|██████████| 100/100 [02:44<00:00,  1.64s/it]\n"
     ]
    },
    {
     "name": "stdout",
     "output_type": "stream",
     "text": [
      "Progress: 10,292/53,187 (19.4%)\n",
      "Success rate: 10292/10600 (97.1%)\n",
      "Posts per minute: 30.6\n",
      "Taking a 30-second break between batches...\n",
      "\n",
      "Processing batch 107/532\n"
     ]
    },
    {
     "name": "stderr",
     "output_type": "stream",
     "text": [
      "Updating authors:  50%|█████     | 50/100 [01:16<01:17,  1.54s/it]"
     ]
    },
    {
     "name": "stdout",
     "output_type": "stream",
     "text": [
      "  ❌ Error updating post l71avx: 'Redditor' object has no attribute 'id'\n"
     ]
    },
    {
     "name": "stderr",
     "output_type": "stream",
     "text": [
      "Updating authors:  77%|███████▋  | 77/100 [01:58<00:37,  1.62s/it]"
     ]
    },
    {
     "name": "stdout",
     "output_type": "stream",
     "text": [
      "  ❌ Error updating post l71ao8: 'Redditor' object has no attribute 'id'\n"
     ]
    },
    {
     "name": "stderr",
     "output_type": "stream",
     "text": [
      "Updating authors: 100%|██████████| 100/100 [02:35<00:00,  1.56s/it]\n"
     ]
    },
    {
     "name": "stdout",
     "output_type": "stream",
     "text": [
      "Progress: 10,390/53,187 (19.5%)\n",
      "Success rate: 10390/10700 (97.1%)\n",
      "Posts per minute: 30.7\n",
      "Taking a 30-second break between batches...\n",
      "\n",
      "Processing batch 108/532\n"
     ]
    },
    {
     "name": "stderr",
     "output_type": "stream",
     "text": [
      "Updating authors:  26%|██▌       | 26/100 [00:39<01:46,  1.44s/it]"
     ]
    },
    {
     "name": "stdout",
     "output_type": "stream",
     "text": [
      "  ❌ Error updating post l71kfd: 'Redditor' object has no attribute 'id'\n"
     ]
    },
    {
     "name": "stderr",
     "output_type": "stream",
     "text": [
      "Updating authors: 100%|██████████| 100/100 [02:38<00:00,  1.58s/it]\n"
     ]
    },
    {
     "name": "stdout",
     "output_type": "stream",
     "text": [
      "Progress: 10,489/53,187 (19.7%)\n",
      "Success rate: 10489/10800 (97.1%)\n",
      "Posts per minute: 30.7\n",
      "Taking a 30-second break between batches...\n",
      "\n",
      "Processing batch 109/532\n"
     ]
    },
    {
     "name": "stderr",
     "output_type": "stream",
     "text": [
      "Updating authors:  11%|█         | 11/100 [00:16<02:10,  1.46s/it]"
     ]
    },
    {
     "name": "stdout",
     "output_type": "stream",
     "text": [
      "  ❌ Error updating post l71jj3: 'Redditor' object has no attribute 'id'\n"
     ]
    },
    {
     "name": "stderr",
     "output_type": "stream",
     "text": [
      "Updating authors:  14%|█▍        | 14/100 [00:21<02:09,  1.51s/it]"
     ]
    },
    {
     "name": "stdout",
     "output_type": "stream",
     "text": [
      "  ❌ Error updating post l71jh6: 'Redditor' object has no attribute 'id'\n"
     ]
    },
    {
     "name": "stderr",
     "output_type": "stream",
     "text": [
      "Updating authors:  26%|██▌       | 26/100 [00:39<01:52,  1.51s/it]"
     ]
    },
    {
     "name": "stdout",
     "output_type": "stream",
     "text": [
      "  ❌ Error updating post l71jdk: 'Redditor' object has no attribute 'id'\n"
     ]
    },
    {
     "name": "stderr",
     "output_type": "stream",
     "text": [
      "Updating authors:  38%|███▊      | 38/100 [00:57<01:35,  1.54s/it]"
     ]
    },
    {
     "name": "stdout",
     "output_type": "stream",
     "text": [
      "  ❌ Error updating post l71ja3: 'Redditor' object has no attribute 'id'\n"
     ]
    },
    {
     "name": "stderr",
     "output_type": "stream",
     "text": [
      "Updating authors:  86%|████████▌ | 86/100 [02:11<00:20,  1.47s/it]"
     ]
    },
    {
     "name": "stdout",
     "output_type": "stream",
     "text": [
      "  ❌ Error updating post l71ive: 'Redditor' object has no attribute 'id'\n"
     ]
    },
    {
     "name": "stderr",
     "output_type": "stream",
     "text": [
      "Updating authors:  93%|█████████▎| 93/100 [02:22<00:09,  1.43s/it]"
     ]
    },
    {
     "name": "stdout",
     "output_type": "stream",
     "text": [
      "  ❌ Error updating post l71iu3: 'Redditor' object has no attribute 'id'\n"
     ]
    },
    {
     "name": "stderr",
     "output_type": "stream",
     "text": [
      "Updating authors: 100%|██████████| 100/100 [02:33<00:00,  1.54s/it]\n"
     ]
    },
    {
     "name": "stdout",
     "output_type": "stream",
     "text": [
      "Progress: 10,583/53,187 (19.9%)\n",
      "Success rate: 10583/10900 (97.1%)\n",
      "Posts per minute: 30.7\n",
      "Taking a 30-second break between batches...\n",
      "\n",
      "Processing batch 110/532\n"
     ]
    },
    {
     "name": "stderr",
     "output_type": "stream",
     "text": [
      "Updating authors:  35%|███▌      | 35/100 [00:53<01:41,  1.57s/it]"
     ]
    },
    {
     "name": "stdout",
     "output_type": "stream",
     "text": [
      "  ❌ Error updating post l71if5: 'Redditor' object has no attribute 'id'\n"
     ]
    },
    {
     "name": "stderr",
     "output_type": "stream",
     "text": [
      "Updating authors:  53%|█████▎    | 53/100 [01:20<01:10,  1.51s/it]"
     ]
    },
    {
     "name": "stdout",
     "output_type": "stream",
     "text": [
      "  ❌ Error updating post l71i8w: 'Redditor' object has no attribute 'id'\n"
     ]
    },
    {
     "name": "stderr",
     "output_type": "stream",
     "text": [
      "Updating authors:  56%|█████▌    | 56/100 [01:25<01:10,  1.60s/it]"
     ]
    },
    {
     "name": "stdout",
     "output_type": "stream",
     "text": [
      "  ❌ Error updating post l71i7j: 'Redditor' object has no attribute 'id'\n"
     ]
    },
    {
     "name": "stderr",
     "output_type": "stream",
     "text": [
      "Updating authors:  73%|███████▎  | 73/100 [01:51<00:39,  1.45s/it]"
     ]
    },
    {
     "name": "stdout",
     "output_type": "stream",
     "text": [
      "  ❌ Error updating post l71i2b: 'Redditor' object has no attribute 'id'\n"
     ]
    },
    {
     "name": "stderr",
     "output_type": "stream",
     "text": [
      "Updating authors:  74%|███████▍  | 74/100 [01:53<00:38,  1.49s/it]"
     ]
    },
    {
     "name": "stdout",
     "output_type": "stream",
     "text": [
      "  ❌ Error updating post l71i24: 'Redditor' object has no attribute 'id'\n"
     ]
    },
    {
     "name": "stderr",
     "output_type": "stream",
     "text": [
      "Updating authors:  76%|███████▌  | 76/100 [01:56<00:35,  1.50s/it]"
     ]
    },
    {
     "name": "stdout",
     "output_type": "stream",
     "text": [
      "  ❌ Error updating post l71i1t: 'Redditor' object has no attribute 'id'\n"
     ]
    },
    {
     "name": "stderr",
     "output_type": "stream",
     "text": [
      "Updating authors:  85%|████████▌ | 85/100 [02:09<00:21,  1.45s/it]"
     ]
    },
    {
     "name": "stdout",
     "output_type": "stream",
     "text": [
      "  ❌ Error updating post l71hzg: 'Redditor' object has no attribute 'id'\n"
     ]
    },
    {
     "name": "stderr",
     "output_type": "stream",
     "text": [
      "Updating authors:  98%|█████████▊| 98/100 [02:29<00:03,  1.51s/it]"
     ]
    },
    {
     "name": "stdout",
     "output_type": "stream",
     "text": [
      "  ❌ Error updating post l71hww: 'Redditor' object has no attribute 'id'\n"
     ]
    },
    {
     "name": "stderr",
     "output_type": "stream",
     "text": [
      "Updating authors: 100%|██████████| 100/100 [02:32<00:00,  1.53s/it]\n"
     ]
    },
    {
     "name": "stdout",
     "output_type": "stream",
     "text": [
      "Progress: 10,675/53,187 (20.1%)\n",
      "Success rate: 10675/11000 (97.0%)\n",
      "Posts per minute: 30.7\n",
      "Taking a 30-second break between batches...\n",
      "\n",
      "Processing batch 111/532\n"
     ]
    },
    {
     "name": "stderr",
     "output_type": "stream",
     "text": [
      "Updating authors:  19%|█▉        | 19/100 [00:28<01:57,  1.45s/it]"
     ]
    },
    {
     "name": "stdout",
     "output_type": "stream",
     "text": [
      "  ❌ Error updating post l71hpm: 'Redditor' object has no attribute 'id'\n"
     ]
    },
    {
     "name": "stderr",
     "output_type": "stream",
     "text": [
      "Updating authors:  28%|██▊       | 28/100 [00:41<01:47,  1.50s/it]"
     ]
    },
    {
     "name": "stdout",
     "output_type": "stream",
     "text": [
      "  ❌ Error updating post l71hna: 'Redditor' object has no attribute 'id'\n"
     ]
    },
    {
     "name": "stderr",
     "output_type": "stream",
     "text": [
      "Updating authors:  91%|█████████ | 91/100 [02:18<00:13,  1.52s/it]"
     ]
    },
    {
     "name": "stdout",
     "output_type": "stream",
     "text": [
      "  ❌ Error updating post l71h5w: 'Redditor' object has no attribute 'id'\n"
     ]
    },
    {
     "name": "stderr",
     "output_type": "stream",
     "text": [
      "Updating authors:  99%|█████████▉| 99/100 [02:30<00:01,  1.58s/it]"
     ]
    },
    {
     "name": "stdout",
     "output_type": "stream",
     "text": [
      "  ❌ Error updating post l71h43: 'Redditor' object has no attribute 'id'\n"
     ]
    },
    {
     "name": "stderr",
     "output_type": "stream",
     "text": [
      "Updating authors: 100%|██████████| 100/100 [02:32<00:00,  1.52s/it]\n"
     ]
    },
    {
     "name": "stdout",
     "output_type": "stream",
     "text": [
      "Progress: 10,771/53,187 (20.3%)\n",
      "Success rate: 10771/11100 (97.0%)\n",
      "Posts per minute: 30.7\n",
      "Taking a 30-second break between batches...\n",
      "\n",
      "Processing batch 112/532\n"
     ]
    },
    {
     "name": "stderr",
     "output_type": "stream",
     "text": [
      "Updating authors:   8%|▊         | 8/100 [00:11<02:20,  1.52s/it]"
     ]
    },
    {
     "name": "stdout",
     "output_type": "stream",
     "text": [
      "  ❌ Error updating post l71h1a: 'Redditor' object has no attribute 'id'\n"
     ]
    },
    {
     "name": "stderr",
     "output_type": "stream",
     "text": [
      "Updating authors:   9%|▉         | 9/100 [00:13<02:21,  1.56s/it]"
     ]
    },
    {
     "name": "stdout",
     "output_type": "stream",
     "text": [
      "  ❌ Error updating post l71h17: 'Redditor' object has no attribute 'id'\n"
     ]
    },
    {
     "name": "stderr",
     "output_type": "stream",
     "text": [
      "Updating authors:  11%|█         | 11/100 [00:16<02:14,  1.51s/it]"
     ]
    },
    {
     "name": "stdout",
     "output_type": "stream",
     "text": [
      "  ❌ Error updating post l71h0t: 'Redditor' object has no attribute 'id'\n"
     ]
    },
    {
     "name": "stderr",
     "output_type": "stream",
     "text": [
      "Updating authors:  39%|███▉      | 39/100 [00:59<01:32,  1.51s/it]"
     ]
    },
    {
     "name": "stdout",
     "output_type": "stream",
     "text": [
      "  ❌ Error updating post l71gt1: 'Redditor' object has no attribute 'id'\n"
     ]
    },
    {
     "name": "stderr",
     "output_type": "stream",
     "text": [
      "Updating authors:  66%|██████▌   | 66/100 [01:41<00:50,  1.50s/it]"
     ]
    },
    {
     "name": "stdout",
     "output_type": "stream",
     "text": [
      "  ❌ Error updating post l71gjg: 'Redditor' object has no attribute 'id'\n"
     ]
    },
    {
     "name": "stderr",
     "output_type": "stream",
     "text": [
      "Updating authors: 100%|██████████| 100/100 [02:35<00:00,  1.55s/it]\n"
     ]
    },
    {
     "name": "stdout",
     "output_type": "stream",
     "text": [
      "Progress: 10,866/53,187 (20.4%)\n",
      "Success rate: 10866/11200 (97.0%)\n",
      "Posts per minute: 30.7\n",
      "Taking a 30-second break between batches...\n",
      "\n",
      "Processing batch 113/532\n"
     ]
    },
    {
     "name": "stderr",
     "output_type": "stream",
     "text": [
      "Updating authors:  12%|█▏        | 12/100 [00:18<02:13,  1.51s/it]"
     ]
    },
    {
     "name": "stdout",
     "output_type": "stream",
     "text": [
      "  ❌ Error updating post l71g2a: 'Redditor' object has no attribute 'id'\n"
     ]
    },
    {
     "name": "stderr",
     "output_type": "stream",
     "text": [
      "Updating authors:  27%|██▋       | 27/100 [00:41<01:53,  1.56s/it]"
     ]
    },
    {
     "name": "stdout",
     "output_type": "stream",
     "text": [
      "  ❌ Error updating post l71qgb: 'Redditor' object has no attribute 'id'\n"
     ]
    },
    {
     "name": "stderr",
     "output_type": "stream",
     "text": [
      "Updating authors:  35%|███▌      | 35/100 [00:53<01:42,  1.58s/it]"
     ]
    },
    {
     "name": "stdout",
     "output_type": "stream",
     "text": [
      "  ❌ Error updating post l71qc4: 'Redditor' object has no attribute 'id'\n"
     ]
    },
    {
     "name": "stderr",
     "output_type": "stream",
     "text": [
      "Updating authors:  45%|████▌     | 45/100 [01:09<01:26,  1.57s/it]"
     ]
    },
    {
     "name": "stdout",
     "output_type": "stream",
     "text": [
      "  ❌ Error updating post l71qam: 'Redditor' object has no attribute 'id'\n"
     ]
    },
    {
     "name": "stderr",
     "output_type": "stream",
     "text": [
      "Updating authors:  80%|████████  | 80/100 [02:03<00:29,  1.47s/it]"
     ]
    },
    {
     "name": "stdout",
     "output_type": "stream",
     "text": [
      "  ❌ Error updating post l71q06: 'Redditor' object has no attribute 'id'\n"
     ]
    },
    {
     "name": "stderr",
     "output_type": "stream",
     "text": [
      "Updating authors:  83%|████████▎ | 83/100 [02:08<00:25,  1.52s/it]"
     ]
    },
    {
     "name": "stdout",
     "output_type": "stream",
     "text": [
      "  ❌ Error updating post l71pys: 'Redditor' object has no attribute 'id'\n"
     ]
    },
    {
     "name": "stderr",
     "output_type": "stream",
     "text": [
      "Updating authors: 100%|██████████| 100/100 [02:35<00:00,  1.55s/it]\n"
     ]
    },
    {
     "name": "stdout",
     "output_type": "stream",
     "text": [
      "Progress: 10,960/53,187 (20.6%)\n",
      "Success rate: 10960/11300 (97.0%)\n",
      "Posts per minute: 30.7\n",
      "Taking a 30-second break between batches...\n",
      "\n",
      "Processing batch 114/532\n"
     ]
    },
    {
     "name": "stderr",
     "output_type": "stream",
     "text": [
      "Updating authors:  53%|█████▎    | 53/100 [01:23<01:09,  1.49s/it]"
     ]
    },
    {
     "name": "stdout",
     "output_type": "stream",
     "text": [
      "  ❌ Error updating post l71peu: 'Redditor' object has no attribute 'id'\n"
     ]
    },
    {
     "name": "stderr",
     "output_type": "stream",
     "text": [
      "Updating authors: 100%|██████████| 100/100 [02:34<00:00,  1.55s/it]\n"
     ]
    },
    {
     "name": "stdout",
     "output_type": "stream",
     "text": [
      "Progress: 11,059/53,187 (20.8%)\n",
      "Success rate: 11059/11400 (97.0%)\n",
      "Posts per minute: 30.7\n",
      "Taking a 30-second break between batches...\n",
      "\n",
      "Processing batch 115/532\n"
     ]
    },
    {
     "name": "stderr",
     "output_type": "stream",
     "text": [
      "Updating authors:  12%|█▏        | 12/100 [00:18<02:20,  1.60s/it]"
     ]
    },
    {
     "name": "stdout",
     "output_type": "stream",
     "text": [
      "  ❌ Error updating post l71ovb: received 404 HTTP response\n"
     ]
    },
    {
     "name": "stderr",
     "output_type": "stream",
     "text": [
      "Updating authors:  39%|███▉      | 39/100 [00:59<01:35,  1.57s/it]"
     ]
    },
    {
     "name": "stdout",
     "output_type": "stream",
     "text": [
      "  ❌ Error updating post l71okd: 'Redditor' object has no attribute 'id'\n"
     ]
    },
    {
     "name": "stderr",
     "output_type": "stream",
     "text": [
      "Updating authors:  41%|████      | 41/100 [01:03<01:33,  1.58s/it]"
     ]
    },
    {
     "name": "stdout",
     "output_type": "stream",
     "text": [
      "  ❌ Error updating post l71ojt: 'Redditor' object has no attribute 'id'\n"
     ]
    },
    {
     "name": "stderr",
     "output_type": "stream",
     "text": [
      "Updating authors:  56%|█████▌    | 56/100 [01:25<01:04,  1.48s/it]"
     ]
    },
    {
     "name": "stdout",
     "output_type": "stream",
     "text": [
      "  ❌ Error updating post l71oh7: 'Redditor' object has no attribute 'id'\n"
     ]
    },
    {
     "name": "stderr",
     "output_type": "stream",
     "text": [
      "Updating authors:  89%|████████▉ | 89/100 [02:15<00:17,  1.56s/it]"
     ]
    },
    {
     "name": "stdout",
     "output_type": "stream",
     "text": [
      "  ❌ Error updating post l71o4g: 'Redditor' object has no attribute 'id'\n"
     ]
    },
    {
     "name": "stderr",
     "output_type": "stream",
     "text": [
      "Updating authors: 100%|██████████| 100/100 [02:33<00:00,  1.53s/it]\n"
     ]
    },
    {
     "name": "stdout",
     "output_type": "stream",
     "text": [
      "Progress: 11,154/53,187 (21.0%)\n",
      "Success rate: 11154/11500 (97.0%)\n",
      "Posts per minute: 30.7\n",
      "Taking a 30-second break between batches...\n",
      "\n",
      "Processing batch 116/532\n"
     ]
    },
    {
     "name": "stderr",
     "output_type": "stream",
     "text": [
      "Updating authors:   0%|          | 0/100 [00:00<?, ?it/s]"
     ]
    },
    {
     "name": "stdout",
     "output_type": "stream",
     "text": [
      "  ❌ Error updating post l71nz4: 'Redditor' object has no attribute 'id'\n"
     ]
    },
    {
     "name": "stderr",
     "output_type": "stream",
     "text": [
      "Updating authors:   2%|▏         | 2/100 [00:03<02:42,  1.66s/it]"
     ]
    },
    {
     "name": "stdout",
     "output_type": "stream",
     "text": [
      "  ❌ Error updating post l71nz0: 'Redditor' object has no attribute 'id'\n"
     ]
    },
    {
     "name": "stderr",
     "output_type": "stream",
     "text": [
      "Updating authors: 100%|██████████| 100/100 [02:34<00:00,  1.54s/it]\n"
     ]
    },
    {
     "name": "stdout",
     "output_type": "stream",
     "text": [
      "Progress: 11,252/53,187 (21.2%)\n",
      "Success rate: 11252/11600 (97.0%)\n",
      "Posts per minute: 30.7\n",
      "Taking a 30-second break between batches...\n",
      "\n",
      "Processing batch 117/532\n"
     ]
    },
    {
     "name": "stderr",
     "output_type": "stream",
     "text": [
      "Updating authors:  38%|███▊      | 38/100 [00:59<01:38,  1.59s/it]"
     ]
    },
    {
     "name": "stdout",
     "output_type": "stream",
     "text": [
      "  ❌ Error updating post l71mgj: 'Redditor' object has no attribute 'id'\n"
     ]
    },
    {
     "name": "stderr",
     "output_type": "stream",
     "text": [
      "Updating authors:  39%|███▉      | 39/100 [01:01<01:37,  1.59s/it]"
     ]
    },
    {
     "name": "stdout",
     "output_type": "stream",
     "text": [
      "  ❌ Error updating post l71mf7: 'Redditor' object has no attribute 'id'\n"
     ]
    },
    {
     "name": "stderr",
     "output_type": "stream",
     "text": [
      "Updating authors:  63%|██████▎   | 63/100 [01:39<00:58,  1.58s/it]"
     ]
    },
    {
     "name": "stdout",
     "output_type": "stream",
     "text": [
      "  ❌ Error updating post l71m86: 'Redditor' object has no attribute 'id'\n"
     ]
    },
    {
     "name": "stderr",
     "output_type": "stream",
     "text": [
      "Updating authors:  74%|███████▍  | 74/100 [01:55<00:41,  1.58s/it]"
     ]
    },
    {
     "name": "stdout",
     "output_type": "stream",
     "text": [
      "  ❌ Error updating post l71m4d: 'Redditor' object has no attribute 'id'\n"
     ]
    },
    {
     "name": "stderr",
     "output_type": "stream",
     "text": [
      "Updating authors:  75%|███████▌  | 75/100 [01:57<00:39,  1.59s/it]"
     ]
    },
    {
     "name": "stdout",
     "output_type": "stream",
     "text": [
      "  ❌ Error updating post l71m44: 'Redditor' object has no attribute 'id'\n"
     ]
    },
    {
     "name": "stderr",
     "output_type": "stream",
     "text": [
      "Updating authors:  76%|███████▌  | 76/100 [01:58<00:37,  1.58s/it]"
     ]
    },
    {
     "name": "stdout",
     "output_type": "stream",
     "text": [
      "  ❌ Error updating post l71m3s: 'Redditor' object has no attribute 'id'\n"
     ]
    },
    {
     "name": "stderr",
     "output_type": "stream",
     "text": [
      "Updating authors: 100%|██████████| 100/100 [02:35<00:00,  1.55s/it]\n"
     ]
    },
    {
     "name": "stdout",
     "output_type": "stream",
     "text": [
      "Progress: 11,346/53,187 (21.3%)\n",
      "Success rate: 11346/11700 (97.0%)\n",
      "Posts per minute: 30.7\n",
      "Taking a 30-second break between batches...\n",
      "\n",
      "Processing batch 118/532\n"
     ]
    },
    {
     "name": "stderr",
     "output_type": "stream",
     "text": [
      "Updating authors:   6%|▌         | 6/100 [00:10<02:41,  1.71s/it]"
     ]
    },
    {
     "name": "stdout",
     "output_type": "stream",
     "text": [
      "  ❌ Error updating post l71ltn: 'Redditor' object has no attribute 'id'\n"
     ]
    },
    {
     "name": "stderr",
     "output_type": "stream",
     "text": [
      "Updating authors:  14%|█▍        | 14/100 [00:23<02:20,  1.63s/it]"
     ]
    },
    {
     "name": "stdout",
     "output_type": "stream",
     "text": [
      "  ❌ Error updating post l71loz: 'Redditor' object has no attribute 'id'\n"
     ]
    },
    {
     "name": "stderr",
     "output_type": "stream",
     "text": [
      "Updating authors:  56%|█████▌    | 56/100 [01:27<01:09,  1.58s/it]"
     ]
    },
    {
     "name": "stdout",
     "output_type": "stream",
     "text": [
      "  ❌ Error updating post l71uso: 'Redditor' object has no attribute 'id'\n"
     ]
    },
    {
     "name": "stderr",
     "output_type": "stream",
     "text": [
      "Updating authors:  85%|████████▌ | 85/100 [02:12<00:23,  1.57s/it]"
     ]
    },
    {
     "name": "stdout",
     "output_type": "stream",
     "text": [
      "  ❌ Error updating post l71ug5: 'Redditor' object has no attribute 'id'\n"
     ]
    },
    {
     "name": "stderr",
     "output_type": "stream",
     "text": [
      "Updating authors: 100%|██████████| 100/100 [02:35<00:00,  1.56s/it]\n"
     ]
    },
    {
     "name": "stdout",
     "output_type": "stream",
     "text": [
      "Progress: 11,442/53,187 (21.5%)\n",
      "Success rate: 11442/11800 (97.0%)\n",
      "Posts per minute: 30.7\n",
      "Taking a 30-second break between batches...\n",
      "\n",
      "Processing batch 119/532\n"
     ]
    },
    {
     "name": "stderr",
     "output_type": "stream",
     "text": [
      "Updating authors:   0%|          | 0/100 [00:00<?, ?it/s]"
     ]
    },
    {
     "name": "stdout",
     "output_type": "stream",
     "text": [
      "  ❌ Error updating post l71uc5: 'Redditor' object has no attribute 'id'\n"
     ]
    },
    {
     "name": "stderr",
     "output_type": "stream",
     "text": [
      "Updating authors:  19%|█▉        | 19/100 [00:31<01:59,  1.47s/it]"
     ]
    },
    {
     "name": "stdout",
     "output_type": "stream",
     "text": [
      "  ❌ Error updating post l71u5q: 'Redditor' object has no attribute 'id'\n"
     ]
    },
    {
     "name": "stderr",
     "output_type": "stream",
     "text": [
      "Updating authors: 100%|██████████| 100/100 [02:37<00:00,  1.57s/it]\n"
     ]
    },
    {
     "name": "stdout",
     "output_type": "stream",
     "text": [
      "Progress: 11,540/53,187 (21.7%)\n",
      "Success rate: 11540/11900 (97.0%)\n",
      "Posts per minute: 30.7\n",
      "Taking a 30-second break between batches...\n",
      "\n",
      "Processing batch 120/532\n"
     ]
    },
    {
     "name": "stderr",
     "output_type": "stream",
     "text": [
      "Updating authors:  10%|█         | 10/100 [00:15<02:18,  1.54s/it]"
     ]
    },
    {
     "name": "stdout",
     "output_type": "stream",
     "text": [
      "  ❌ Error updating post l71t5b: 'Redditor' object has no attribute 'id'\n"
     ]
    },
    {
     "name": "stderr",
     "output_type": "stream",
     "text": [
      "Updating authors:  20%|██        | 20/100 [00:31<02:00,  1.51s/it]"
     ]
    },
    {
     "name": "stdout",
     "output_type": "stream",
     "text": [
      "  ❌ Error updating post l71t2z: 'Redditor' object has no attribute 'id'\n"
     ]
    },
    {
     "name": "stderr",
     "output_type": "stream",
     "text": [
      "Updating authors:  49%|████▉     | 49/100 [01:15<01:13,  1.44s/it]"
     ]
    },
    {
     "name": "stdout",
     "output_type": "stream",
     "text": [
      "  ❌ Error updating post l71svj: 'Redditor' object has no attribute 'id'\n"
     ]
    },
    {
     "name": "stderr",
     "output_type": "stream",
     "text": [
      "Updating authors:  53%|█████▎    | 53/100 [01:21<01:09,  1.48s/it]"
     ]
    },
    {
     "name": "stdout",
     "output_type": "stream",
     "text": [
      "  ❌ Error updating post l71st1: 'Redditor' object has no attribute 'id'\n"
     ]
    },
    {
     "name": "stderr",
     "output_type": "stream",
     "text": [
      "Updating authors:  68%|██████▊   | 68/100 [01:45<00:47,  1.49s/it]"
     ]
    },
    {
     "name": "stdout",
     "output_type": "stream",
     "text": [
      "  ❌ Error updating post l71so7: 'Redditor' object has no attribute 'id'\n"
     ]
    },
    {
     "name": "stderr",
     "output_type": "stream",
     "text": [
      "Updating authors: 100%|██████████| 100/100 [02:33<00:00,  1.53s/it]\n"
     ]
    },
    {
     "name": "stdout",
     "output_type": "stream",
     "text": [
      "Progress: 11,635/53,187 (21.9%)\n",
      "Success rate: 11635/12000 (97.0%)\n",
      "Posts per minute: 30.7\n",
      "Taking a 30-second break between batches...\n",
      "\n",
      "Processing batch 121/532\n"
     ]
    },
    {
     "name": "stderr",
     "output_type": "stream",
     "text": [
      "Updating authors:   8%|▊         | 8/100 [00:12<02:20,  1.53s/it]"
     ]
    },
    {
     "name": "stdout",
     "output_type": "stream",
     "text": [
      "  ❌ Error updating post l71s8a: 'Redditor' object has no attribute 'id'\n"
     ]
    },
    {
     "name": "stderr",
     "output_type": "stream",
     "text": [
      "Updating authors:  68%|██████▊   | 68/100 [01:44<00:47,  1.49s/it]"
     ]
    },
    {
     "name": "stdout",
     "output_type": "stream",
     "text": [
      "  ❌ Error updating post l71rnw: 'Redditor' object has no attribute 'id'\n"
     ]
    },
    {
     "name": "stderr",
     "output_type": "stream",
     "text": [
      "Updating authors:  77%|███████▋  | 77/100 [01:57<00:35,  1.56s/it]"
     ]
    },
    {
     "name": "stdout",
     "output_type": "stream",
     "text": [
      "  ❌ Error updating post l71rlv: 'Redditor' object has no attribute 'id'\n"
     ]
    },
    {
     "name": "stderr",
     "output_type": "stream",
     "text": [
      "Updating authors:  98%|█████████▊| 98/100 [02:30<00:03,  1.57s/it]"
     ]
    },
    {
     "name": "stdout",
     "output_type": "stream",
     "text": [
      "  ❌ Error updating post l71rdv: 'Redditor' object has no attribute 'id'\n"
     ]
    },
    {
     "name": "stderr",
     "output_type": "stream",
     "text": [
      "Updating authors:  99%|█████████▉| 99/100 [02:34<00:02,  2.44s/it]"
     ]
    },
    {
     "name": "stdout",
     "output_type": "stream",
     "text": [
      "  ❌ Error updating post l71rdm: 'Redditor' object has no attribute 'id'\n"
     ]
    },
    {
     "name": "stderr",
     "output_type": "stream",
     "text": [
      "Updating authors: 100%|██████████| 100/100 [02:36<00:00,  1.56s/it]\n"
     ]
    },
    {
     "name": "stdout",
     "output_type": "stream",
     "text": [
      "Progress: 11,730/53,187 (22.1%)\n",
      "Success rate: 11730/12100 (96.9%)\n",
      "Posts per minute: 30.7\n",
      "Taking a 30-second break between batches...\n",
      "\n",
      "Processing batch 122/532\n"
     ]
    },
    {
     "name": "stderr",
     "output_type": "stream",
     "text": [
      "Updating authors:   8%|▊         | 8/100 [00:11<02:10,  1.42s/it]"
     ]
    },
    {
     "name": "stdout",
     "output_type": "stream",
     "text": [
      "  ❌ Error updating post l71raw: 'Redditor' object has no attribute 'id'\n"
     ]
    },
    {
     "name": "stderr",
     "output_type": "stream",
     "text": [
      "Updating authors:  31%|███       | 31/100 [00:47<01:47,  1.56s/it]"
     ]
    },
    {
     "name": "stdout",
     "output_type": "stream",
     "text": [
      "  ❌ Error updating post l71r15: 'Redditor' object has no attribute 'id'\n"
     ]
    },
    {
     "name": "stderr",
     "output_type": "stream",
     "text": [
      "Updating authors:  49%|████▉     | 49/100 [01:14<01:18,  1.53s/it]"
     ]
    },
    {
     "name": "stdout",
     "output_type": "stream",
     "text": [
      "  ❌ Error updating post l71zty: 'Redditor' object has no attribute 'id'\n"
     ]
    },
    {
     "name": "stderr",
     "output_type": "stream",
     "text": [
      "Updating authors:  70%|███████   | 70/100 [01:48<00:49,  1.65s/it]"
     ]
    },
    {
     "name": "stdout",
     "output_type": "stream",
     "text": [
      "  ❌ Error updating post l71zk6: 'Redditor' object has no attribute 'id'\n"
     ]
    },
    {
     "name": "stderr",
     "output_type": "stream",
     "text": [
      "Updating authors:  81%|████████  | 81/100 [02:04<00:29,  1.55s/it]"
     ]
    },
    {
     "name": "stdout",
     "output_type": "stream",
     "text": [
      "  ❌ Error updating post l71zhj: 'Redditor' object has no attribute 'id'\n"
     ]
    },
    {
     "name": "stderr",
     "output_type": "stream",
     "text": [
      "Updating authors:  87%|████████▋ | 87/100 [02:14<00:20,  1.55s/it]"
     ]
    },
    {
     "name": "stdout",
     "output_type": "stream",
     "text": [
      "  ❌ Error updating post l71zf4: 'Redditor' object has no attribute 'id'\n"
     ]
    },
    {
     "name": "stderr",
     "output_type": "stream",
     "text": [
      "Updating authors: 100%|██████████| 100/100 [02:34<00:00,  1.54s/it]\n"
     ]
    },
    {
     "name": "stdout",
     "output_type": "stream",
     "text": [
      "Progress: 11,824/53,187 (22.2%)\n",
      "Success rate: 11824/12200 (96.9%)\n",
      "Posts per minute: 30.7\n",
      "Taking a 30-second break between batches...\n",
      "\n",
      "Processing batch 123/532\n"
     ]
    },
    {
     "name": "stderr",
     "output_type": "stream",
     "text": [
      "Updating authors:  11%|█         | 11/100 [00:18<02:27,  1.65s/it]"
     ]
    },
    {
     "name": "stdout",
     "output_type": "stream",
     "text": [
      "  ❌ Error updating post l71z22: 'Redditor' object has no attribute 'id'\n"
     ]
    },
    {
     "name": "stderr",
     "output_type": "stream",
     "text": [
      "Updating authors:  12%|█▏        | 12/100 [00:19<02:24,  1.65s/it]"
     ]
    },
    {
     "name": "stdout",
     "output_type": "stream",
     "text": [
      "  ❌ Error updating post l71z1x: 'Redditor' object has no attribute 'id'\n"
     ]
    },
    {
     "name": "stderr",
     "output_type": "stream",
     "text": [
      "Updating authors:  54%|█████▍    | 54/100 [01:26<01:10,  1.53s/it]"
     ]
    },
    {
     "name": "stdout",
     "output_type": "stream",
     "text": [
      "  ❌ Error updating post l71y6r: 'Redditor' object has no attribute 'id'\n"
     ]
    },
    {
     "name": "stderr",
     "output_type": "stream",
     "text": [
      "Updating authors: 100%|██████████| 100/100 [02:37<00:00,  1.58s/it]\n"
     ]
    },
    {
     "name": "stdout",
     "output_type": "stream",
     "text": [
      "Progress: 11,921/53,187 (22.4%)\n",
      "Success rate: 11921/12300 (96.9%)\n",
      "Posts per minute: 30.7\n",
      "Taking a 30-second break between batches...\n",
      "\n",
      "Processing batch 124/532\n"
     ]
    },
    {
     "name": "stderr",
     "output_type": "stream",
     "text": [
      "Updating authors:  68%|██████▊   | 68/100 [01:45<00:48,  1.50s/it]"
     ]
    },
    {
     "name": "stdout",
     "output_type": "stream",
     "text": [
      "  ❌ Error updating post l71wnz: 'Redditor' object has no attribute 'id'\n"
     ]
    },
    {
     "name": "stderr",
     "output_type": "stream",
     "text": [
      "Updating authors: 100%|██████████| 100/100 [02:34<00:00,  1.55s/it]\n"
     ]
    },
    {
     "name": "stdout",
     "output_type": "stream",
     "text": [
      "Progress: 12,020/53,187 (22.6%)\n",
      "Success rate: 12020/12400 (96.9%)\n",
      "Posts per minute: 30.7\n",
      "Taking a 30-second break between batches...\n",
      "\n",
      "Processing batch 125/532\n"
     ]
    },
    {
     "name": "stderr",
     "output_type": "stream",
     "text": [
      "Updating authors:  24%|██▍       | 24/100 [00:36<01:55,  1.52s/it]"
     ]
    },
    {
     "name": "stdout",
     "output_type": "stream",
     "text": [
      "  ❌ Error updating post l71w5r: 'Redditor' object has no attribute 'id'\n"
     ]
    },
    {
     "name": "stderr",
     "output_type": "stream",
     "text": [
      "Updating authors:  40%|████      | 40/100 [01:01<01:29,  1.49s/it]"
     ]
    },
    {
     "name": "stdout",
     "output_type": "stream",
     "text": [
      "  ❌ Error updating post l71w1n: 'Redditor' object has no attribute 'id'\n"
     ]
    },
    {
     "name": "stderr",
     "output_type": "stream",
     "text": [
      "Updating authors:  81%|████████  | 81/100 [02:06<00:30,  1.59s/it]"
     ]
    },
    {
     "name": "stdout",
     "output_type": "stream",
     "text": [
      "  ❌ Error updating post l71vn9: 'Redditor' object has no attribute 'id'\n"
     ]
    },
    {
     "name": "stderr",
     "output_type": "stream",
     "text": [
      "Updating authors:  84%|████████▍ | 84/100 [02:11<00:24,  1.51s/it]"
     ]
    },
    {
     "name": "stdout",
     "output_type": "stream",
     "text": [
      "  ❌ Error updating post l71vm7: 'Redditor' object has no attribute 'id'\n"
     ]
    },
    {
     "name": "stderr",
     "output_type": "stream",
     "text": [
      "Updating authors: 100%|██████████| 100/100 [02:35<00:00,  1.56s/it]\n"
     ]
    },
    {
     "name": "stdout",
     "output_type": "stream",
     "text": [
      "Progress: 12,116/53,187 (22.8%)\n",
      "Success rate: 12116/12500 (96.9%)\n",
      "Posts per minute: 30.7\n",
      "Taking a 30-second break between batches...\n",
      "\n",
      "Processing batch 126/532\n"
     ]
    },
    {
     "name": "stderr",
     "output_type": "stream",
     "text": [
      "Updating authors:  33%|███▎      | 33/100 [00:50<01:38,  1.47s/it]"
     ]
    },
    {
     "name": "stdout",
     "output_type": "stream",
     "text": [
      "  ❌ Error updating post l71v3f: 'Redditor' object has no attribute 'id'\n"
     ]
    },
    {
     "name": "stderr",
     "output_type": "stream",
     "text": [
      "Updating authors:  38%|███▊      | 38/100 [00:57<01:27,  1.42s/it]"
     ]
    },
    {
     "name": "stdout",
     "output_type": "stream",
     "text": [
      "  ❌ Error updating post l726be: 'Redditor' object has no attribute 'id'\n"
     ]
    },
    {
     "name": "stderr",
     "output_type": "stream",
     "text": [
      "Updating authors:  58%|█████▊    | 58/100 [01:28<01:02,  1.50s/it]"
     ]
    },
    {
     "name": "stdout",
     "output_type": "stream",
     "text": [
      "  ❌ Error updating post l725eh: 'Redditor' object has no attribute 'id'\n"
     ]
    },
    {
     "name": "stderr",
     "output_type": "stream",
     "text": [
      "Updating authors:  61%|██████    | 61/100 [01:32<00:56,  1.45s/it]"
     ]
    },
    {
     "name": "stdout",
     "output_type": "stream",
     "text": [
      "  ❌ Error updating post l725dy: 'Redditor' object has no attribute 'id'\n"
     ]
    },
    {
     "name": "stderr",
     "output_type": "stream",
     "text": [
      "Updating authors:  68%|██████▊   | 68/100 [01:43<00:52,  1.64s/it]"
     ]
    },
    {
     "name": "stdout",
     "output_type": "stream",
     "text": [
      "  ❌ Error updating post l725a1: 'Redditor' object has no attribute 'id'\n"
     ]
    },
    {
     "name": "stderr",
     "output_type": "stream",
     "text": [
      "Updating authors: 100%|██████████| 100/100 [02:32<00:00,  1.53s/it]\n"
     ]
    },
    {
     "name": "stdout",
     "output_type": "stream",
     "text": [
      "Progress: 12,211/53,187 (23.0%)\n",
      "Success rate: 12211/12600 (96.9%)\n",
      "Posts per minute: 30.7\n",
      "Taking a 30-second break between batches...\n",
      "\n",
      "Processing batch 127/532\n"
     ]
    },
    {
     "name": "stderr",
     "output_type": "stream",
     "text": [
      "Updating authors:  89%|████████▉ | 89/100 [02:18<00:17,  1.56s/it]"
     ]
    },
    {
     "name": "stdout",
     "output_type": "stream",
     "text": [
      "  ❌ Error updating post l722tr: 'Redditor' object has no attribute 'id'\n"
     ]
    },
    {
     "name": "stderr",
     "output_type": "stream",
     "text": [
      "Updating authors: 100%|██████████| 100/100 [02:34<00:00,  1.55s/it]\n"
     ]
    },
    {
     "name": "stdout",
     "output_type": "stream",
     "text": [
      "Progress: 12,310/53,187 (23.1%)\n",
      "Success rate: 12310/12700 (96.9%)\n",
      "Posts per minute: 30.7\n",
      "Taking a 30-second break between batches...\n",
      "\n",
      "Processing batch 128/532\n"
     ]
    },
    {
     "name": "stderr",
     "output_type": "stream",
     "text": [
      "Updating authors:  41%|████      | 41/100 [01:06<01:35,  1.61s/it]"
     ]
    },
    {
     "name": "stdout",
     "output_type": "stream",
     "text": [
      "  ❌ Error updating post l7222b: 'Redditor' object has no attribute 'id'\n"
     ]
    },
    {
     "name": "stderr",
     "output_type": "stream",
     "text": [
      "Updating authors:  63%|██████▎   | 63/100 [01:39<00:54,  1.46s/it]"
     ]
    },
    {
     "name": "stdout",
     "output_type": "stream",
     "text": [
      "  ❌ Error updating post l721tn: 'Redditor' object has no attribute 'id'\n"
     ]
    },
    {
     "name": "stderr",
     "output_type": "stream",
     "text": [
      "Updating authors: 100%|██████████| 100/100 [02:37<00:00,  1.58s/it]\n"
     ]
    },
    {
     "name": "stdout",
     "output_type": "stream",
     "text": [
      "Progress: 12,408/53,187 (23.3%)\n",
      "Success rate: 12408/12800 (96.9%)\n",
      "Posts per minute: 30.7\n",
      "Taking a 30-second break between batches...\n",
      "\n",
      "Processing batch 129/532\n"
     ]
    },
    {
     "name": "stderr",
     "output_type": "stream",
     "text": [
      "Updating authors:   0%|          | 0/100 [00:00<?, ?it/s]"
     ]
    },
    {
     "name": "stdout",
     "output_type": "stream",
     "text": [
      "  ❌ Error updating post l721bo: 'Redditor' object has no attribute 'id'\n"
     ]
    },
    {
     "name": "stderr",
     "output_type": "stream",
     "text": [
      "Updating authors:   6%|▌         | 6/100 [00:09<02:28,  1.58s/it]"
     ]
    },
    {
     "name": "stdout",
     "output_type": "stream",
     "text": [
      "  ❌ Error updating post l7219a: 'Redditor' object has no attribute 'id'\n"
     ]
    },
    {
     "name": "stderr",
     "output_type": "stream",
     "text": [
      "Updating authors:  36%|███▌      | 36/100 [00:56<01:37,  1.52s/it]"
     ]
    },
    {
     "name": "stdout",
     "output_type": "stream",
     "text": [
      "  ❌ Error updating post l720zc: 'Redditor' object has no attribute 'id'\n"
     ]
    },
    {
     "name": "stderr",
     "output_type": "stream",
     "text": [
      "Updating authors:  42%|████▏     | 42/100 [01:05<01:27,  1.50s/it]"
     ]
    },
    {
     "name": "stdout",
     "output_type": "stream",
     "text": [
      "  ❌ Error updating post l720xt: 'Redditor' object has no attribute 'id'\n"
     ]
    },
    {
     "name": "stderr",
     "output_type": "stream",
     "text": [
      "Updating authors:  57%|█████▋    | 57/100 [01:29<01:07,  1.57s/it]"
     ]
    },
    {
     "name": "stdout",
     "output_type": "stream",
     "text": [
      "  ❌ Error updating post l720ru: 'Redditor' object has no attribute 'id'\n"
     ]
    },
    {
     "name": "stderr",
     "output_type": "stream",
     "text": [
      "Updating authors:  83%|████████▎ | 83/100 [02:09<00:25,  1.52s/it]"
     ]
    },
    {
     "name": "stdout",
     "output_type": "stream",
     "text": [
      "  ❌ Error updating post l720fw: 'Redditor' object has no attribute 'id'\n"
     ]
    },
    {
     "name": "stderr",
     "output_type": "stream",
     "text": [
      "Updating authors:  90%|█████████ | 90/100 [02:19<00:14,  1.45s/it]"
     ]
    },
    {
     "name": "stdout",
     "output_type": "stream",
     "text": [
      "  ❌ Error updating post l720ee: 'Redditor' object has no attribute 'id'\n"
     ]
    },
    {
     "name": "stderr",
     "output_type": "stream",
     "text": [
      "Updating authors:  99%|█████████▉| 99/100 [02:33<00:01,  1.57s/it]"
     ]
    },
    {
     "name": "stdout",
     "output_type": "stream",
     "text": [
      "  ❌ Error updating post l720c0: 'Redditor' object has no attribute 'id'\n"
     ]
    },
    {
     "name": "stderr",
     "output_type": "stream",
     "text": [
      "Updating authors: 100%|██████████| 100/100 [02:35<00:00,  1.56s/it]\n"
     ]
    },
    {
     "name": "stdout",
     "output_type": "stream",
     "text": [
      "Progress: 12,500/53,187 (23.5%)\n",
      "Success rate: 12500/12900 (96.9%)\n",
      "Posts per minute: 30.7\n",
      "Taking a 30-second break between batches...\n",
      "\n",
      "Processing batch 130/532\n"
     ]
    },
    {
     "name": "stderr",
     "output_type": "stream",
     "text": [
      "Updating authors:  23%|██▎       | 23/100 [00:39<02:05,  1.63s/it]"
     ]
    },
    {
     "name": "stdout",
     "output_type": "stream",
     "text": [
      "  ❌ Error updating post l71zia: 'Redditor' object has no attribute 'id'\n"
     ]
    },
    {
     "name": "stderr",
     "output_type": "stream",
     "text": [
      "Updating authors:  65%|██████▌   | 65/100 [01:44<00:52,  1.49s/it]"
     ]
    },
    {
     "name": "stdout",
     "output_type": "stream",
     "text": [
      "  ❌ Error updating post l71yj1: 'Redditor' object has no attribute 'id'\n"
     ]
    },
    {
     "name": "stderr",
     "output_type": "stream",
     "text": [
      "Updating authors:  77%|███████▋  | 77/100 [02:02<00:34,  1.50s/it]"
     ]
    },
    {
     "name": "stdout",
     "output_type": "stream",
     "text": [
      "  ❌ Error updating post l72c03: 'Redditor' object has no attribute 'id'\n"
     ]
    },
    {
     "name": "stderr",
     "output_type": "stream",
     "text": [
      "Updating authors:  82%|████████▏ | 82/100 [02:10<00:26,  1.45s/it]"
     ]
    },
    {
     "name": "stdout",
     "output_type": "stream",
     "text": [
      "  ❌ Error updating post l72bwp: 'Redditor' object has no attribute 'id'\n"
     ]
    },
    {
     "name": "stderr",
     "output_type": "stream",
     "text": [
      "Updating authors:  84%|████████▍ | 84/100 [02:13<00:24,  1.53s/it]"
     ]
    },
    {
     "name": "stdout",
     "output_type": "stream",
     "text": [
      "  ❌ Error updating post l72bwi: received 404 HTTP response\n"
     ]
    },
    {
     "name": "stderr",
     "output_type": "stream",
     "text": [
      "Updating authors: 100%|██████████| 100/100 [02:41<00:00,  1.61s/it]\n"
     ]
    },
    {
     "name": "stdout",
     "output_type": "stream",
     "text": [
      "Progress: 12,595/53,187 (23.7%)\n",
      "Success rate: 12595/13000 (96.9%)\n",
      "Posts per minute: 30.7\n",
      "Taking a 30-second break between batches...\n",
      "\n",
      "Processing batch 131/532\n"
     ]
    },
    {
     "name": "stderr",
     "output_type": "stream",
     "text": [
      "Updating authors:  58%|█████▊    | 58/100 [01:34<01:08,  1.62s/it]"
     ]
    },
    {
     "name": "stdout",
     "output_type": "stream",
     "text": [
      "  ❌ Error updating post l728je: 'Redditor' object has no attribute 'id'\n"
     ]
    },
    {
     "name": "stderr",
     "output_type": "stream",
     "text": [
      "Updating authors:  95%|█████████▌| 95/100 [02:31<00:07,  1.54s/it]"
     ]
    },
    {
     "name": "stdout",
     "output_type": "stream",
     "text": [
      "  ❌ Error updating post l72834: 'Redditor' object has no attribute 'id'\n"
     ]
    },
    {
     "name": "stderr",
     "output_type": "stream",
     "text": [
      "Updating authors: 100%|██████████| 100/100 [02:39<00:00,  1.59s/it]\n"
     ]
    },
    {
     "name": "stdout",
     "output_type": "stream",
     "text": [
      "Progress: 12,693/53,187 (23.9%)\n",
      "Success rate: 12693/13100 (96.9%)\n",
      "Posts per minute: 30.7\n",
      "Taking a 30-second break between batches...\n",
      "\n",
      "Processing batch 132/532\n"
     ]
    },
    {
     "name": "stderr",
     "output_type": "stream",
     "text": [
      "Updating authors:  45%|████▌     | 45/100 [01:08<01:25,  1.55s/it]"
     ]
    },
    {
     "name": "stdout",
     "output_type": "stream",
     "text": [
      "  ❌ Error updating post l727ju: 'Redditor' object has no attribute 'id'\n"
     ]
    },
    {
     "name": "stderr",
     "output_type": "stream",
     "text": [
      "Updating authors:  67%|██████▋   | 67/100 [01:44<00:50,  1.54s/it]"
     ]
    },
    {
     "name": "stdout",
     "output_type": "stream",
     "text": [
      "  ❌ Error updating post l727c6: 'Redditor' object has no attribute 'id'\n"
     ]
    },
    {
     "name": "stderr",
     "output_type": "stream",
     "text": [
      "Updating authors:  69%|██████▉   | 69/100 [01:47<00:46,  1.50s/it]"
     ]
    },
    {
     "name": "stdout",
     "output_type": "stream",
     "text": [
      "  ❌ Error updating post l727bp: 'Redditor' object has no attribute 'id'\n"
     ]
    },
    {
     "name": "stderr",
     "output_type": "stream",
     "text": [
      "Updating authors:  76%|███████▌  | 76/100 [01:58<00:39,  1.64s/it]"
     ]
    },
    {
     "name": "stdout",
     "output_type": "stream",
     "text": [
      "  ❌ Error updating post l7276l: 'Redditor' object has no attribute 'id'\n"
     ]
    },
    {
     "name": "stderr",
     "output_type": "stream",
     "text": [
      "Updating authors:  87%|████████▋ | 87/100 [02:15<00:20,  1.60s/it]"
     ]
    },
    {
     "name": "stdout",
     "output_type": "stream",
     "text": [
      "  ❌ Error updating post l7273t: received 404 HTTP response\n"
     ]
    },
    {
     "name": "stderr",
     "output_type": "stream",
     "text": [
      "Updating authors: 100%|██████████| 100/100 [02:35<00:00,  1.55s/it]\n"
     ]
    },
    {
     "name": "stdout",
     "output_type": "stream",
     "text": [
      "Progress: 12,788/53,187 (24.0%)\n",
      "Success rate: 12788/13200 (96.9%)\n",
      "Posts per minute: 30.7\n",
      "Taking a 30-second break between batches...\n",
      "\n",
      "Processing batch 133/532\n"
     ]
    },
    {
     "name": "stderr",
     "output_type": "stream",
     "text": [
      "Updating authors:  23%|██▎       | 23/100 [00:35<02:06,  1.64s/it]"
     ]
    },
    {
     "name": "stdout",
     "output_type": "stream",
     "text": [
      "  ❌ Error updating post l726m5: 'Redditor' object has no attribute 'id'\n"
     ]
    },
    {
     "name": "stderr",
     "output_type": "stream",
     "text": [
      "Updating authors:  73%|███████▎  | 73/100 [01:51<00:40,  1.50s/it]"
     ]
    },
    {
     "name": "stdout",
     "output_type": "stream",
     "text": [
      "  ❌ Error updating post l7260i: 'Redditor' object has no attribute 'id'\n"
     ]
    },
    {
     "name": "stderr",
     "output_type": "stream",
     "text": [
      "Updating authors:  77%|███████▋  | 77/100 [01:57<00:36,  1.58s/it]"
     ]
    },
    {
     "name": "stdout",
     "output_type": "stream",
     "text": [
      "  ❌ Error updating post l725xr: 'Redditor' object has no attribute 'id'\n"
     ]
    },
    {
     "name": "stderr",
     "output_type": "stream",
     "text": [
      "Updating authors:  78%|███████▊  | 78/100 [01:59<00:35,  1.59s/it]"
     ]
    },
    {
     "name": "stdout",
     "output_type": "stream",
     "text": [
      "  ❌ Error updating post l725xh: 'Redditor' object has no attribute 'id'\n"
     ]
    },
    {
     "name": "stderr",
     "output_type": "stream",
     "text": [
      "Updating authors:  82%|████████▏ | 82/100 [02:05<00:29,  1.66s/it]"
     ]
    },
    {
     "name": "stdout",
     "output_type": "stream",
     "text": [
      "  ❌ Error updating post l72571: 'Redditor' object has no attribute 'id'\n"
     ]
    },
    {
     "name": "stderr",
     "output_type": "stream",
     "text": [
      "Updating authors:  86%|████████▌ | 86/100 [02:12<00:22,  1.63s/it]"
     ]
    },
    {
     "name": "stdout",
     "output_type": "stream",
     "text": [
      "  ❌ Error updating post l724wh: 'Redditor' object has no attribute 'id'\n"
     ]
    },
    {
     "name": "stderr",
     "output_type": "stream",
     "text": [
      "Updating authors:  89%|████████▉ | 89/100 [02:16<00:17,  1.58s/it]"
     ]
    },
    {
     "name": "stdout",
     "output_type": "stream",
     "text": [
      "  ❌ Error updating post l724pw: 'Redditor' object has no attribute 'id'\n"
     ]
    },
    {
     "name": "stderr",
     "output_type": "stream",
     "text": [
      "Updating authors: 100%|██████████| 100/100 [02:34<00:00,  1.54s/it]\n"
     ]
    },
    {
     "name": "stdout",
     "output_type": "stream",
     "text": [
      "Progress: 12,881/53,187 (24.2%)\n",
      "Success rate: 12881/13300 (96.8%)\n",
      "Posts per minute: 30.7\n",
      "Taking a 30-second break between batches...\n",
      "\n",
      "Processing batch 134/532\n"
     ]
    },
    {
     "name": "stderr",
     "output_type": "stream",
     "text": [
      "Updating authors:   0%|          | 0/100 [00:00<?, ?it/s]"
     ]
    },
    {
     "name": "stdout",
     "output_type": "stream",
     "text": [
      "  ❌ Error updating post l724kp: 'Redditor' object has no attribute 'id'\n"
     ]
    },
    {
     "name": "stderr",
     "output_type": "stream",
     "text": [
      "Updating authors:  16%|█▌        | 16/100 [00:24<02:09,  1.55s/it]"
     ]
    },
    {
     "name": "stdout",
     "output_type": "stream",
     "text": [
      "  ❌ Error updating post l724b5: 'Redditor' object has no attribute 'id'\n"
     ]
    },
    {
     "name": "stderr",
     "output_type": "stream",
     "text": [
      "Updating authors:  26%|██▌       | 26/100 [00:40<01:58,  1.59s/it]"
     ]
    },
    {
     "name": "stdout",
     "output_type": "stream",
     "text": [
      "  ❌ Error updating post l72464: 'Redditor' object has no attribute 'id'\n"
     ]
    },
    {
     "name": "stderr",
     "output_type": "stream",
     "text": [
      "Updating authors:  42%|████▏     | 42/100 [01:04<01:28,  1.52s/it]"
     ]
    },
    {
     "name": "stdout",
     "output_type": "stream",
     "text": [
      "  ❌ Error updating post l723zv: 'Redditor' object has no attribute 'id'\n"
     ]
    },
    {
     "name": "stderr",
     "output_type": "stream",
     "text": [
      "Updating authors:  57%|█████▋    | 57/100 [01:27<01:06,  1.54s/it]"
     ]
    },
    {
     "name": "stdout",
     "output_type": "stream",
     "text": [
      "  ❌ Error updating post l723uj: 'Redditor' object has no attribute 'id'\n"
     ]
    },
    {
     "name": "stderr",
     "output_type": "stream",
     "text": [
      "Updating authors:  87%|████████▋ | 87/100 [02:14<00:19,  1.53s/it]"
     ]
    },
    {
     "name": "stdout",
     "output_type": "stream",
     "text": [
      "  ❌ Error updating post l72grw: 'Redditor' object has no attribute 'id'\n"
     ]
    },
    {
     "name": "stderr",
     "output_type": "stream",
     "text": [
      "Updating authors:  92%|█████████▏| 92/100 [02:21<00:12,  1.61s/it]"
     ]
    },
    {
     "name": "stdout",
     "output_type": "stream",
     "text": [
      "  ❌ Error updating post l72gnb: 'Redditor' object has no attribute 'id'\n"
     ]
    },
    {
     "name": "stderr",
     "output_type": "stream",
     "text": [
      "Updating authors: 100%|██████████| 100/100 [02:34<00:00,  1.55s/it]\n"
     ]
    },
    {
     "name": "stdout",
     "output_type": "stream",
     "text": [
      "Progress: 12,974/53,187 (24.4%)\n",
      "Success rate: 12974/13400 (96.8%)\n",
      "Posts per minute: 30.7\n",
      "Taking a 30-second break between batches...\n",
      "\n",
      "Processing batch 135/532\n"
     ]
    },
    {
     "name": "stderr",
     "output_type": "stream",
     "text": [
      "Updating authors:  10%|█         | 10/100 [00:15<02:11,  1.46s/it]"
     ]
    },
    {
     "name": "stdout",
     "output_type": "stream",
     "text": [
      "  ❌ Error updating post l72gh1: 'Redditor' object has no attribute 'id'\n"
     ]
    },
    {
     "name": "stderr",
     "output_type": "stream",
     "text": [
      "Updating authors:  22%|██▏       | 22/100 [00:34<01:58,  1.51s/it]"
     ]
    },
    {
     "name": "stdout",
     "output_type": "stream",
     "text": [
      "  ❌ Error updating post l72ge6: 'Redditor' object has no attribute 'id'\n"
     ]
    },
    {
     "name": "stderr",
     "output_type": "stream",
     "text": [
      "Updating authors:  40%|████      | 40/100 [01:01<01:25,  1.43s/it]"
     ]
    },
    {
     "name": "stdout",
     "output_type": "stream",
     "text": [
      "  ❌ Error updating post l72fze: 'Redditor' object has no attribute 'id'\n"
     ]
    },
    {
     "name": "stderr",
     "output_type": "stream",
     "text": [
      "Updating authors: 100%|██████████| 100/100 [02:33<00:00,  1.54s/it]\n"
     ]
    },
    {
     "name": "stdout",
     "output_type": "stream",
     "text": [
      "Progress: 13,071/53,187 (24.6%)\n",
      "Success rate: 13071/13500 (96.8%)\n",
      "Posts per minute: 30.7\n",
      "Taking a 30-second break between batches...\n",
      "\n",
      "Processing batch 136/532\n"
     ]
    },
    {
     "name": "stderr",
     "output_type": "stream",
     "text": [
      "Updating authors:  11%|█         | 11/100 [00:18<02:24,  1.63s/it]"
     ]
    },
    {
     "name": "stdout",
     "output_type": "stream",
     "text": [
      "  ❌ Error updating post l72d07: 'Redditor' object has no attribute 'id'\n"
     ]
    },
    {
     "name": "stderr",
     "output_type": "stream",
     "text": [
      "Updating authors:  12%|█▏        | 12/100 [00:20<02:22,  1.62s/it]"
     ]
    },
    {
     "name": "stdout",
     "output_type": "stream",
     "text": [
      "  ❌ Error updating post l72cz7: 'Redditor' object has no attribute 'id'\n"
     ]
    },
    {
     "name": "stderr",
     "output_type": "stream",
     "text": [
      "Updating authors:  25%|██▌       | 25/100 [00:40<01:52,  1.50s/it]"
     ]
    },
    {
     "name": "stdout",
     "output_type": "stream",
     "text": [
      "  ❌ Error updating post l72cr5: 'Redditor' object has no attribute 'id'\n"
     ]
    },
    {
     "name": "stderr",
     "output_type": "stream",
     "text": [
      "Updating authors:  35%|███▌      | 35/100 [00:55<01:40,  1.55s/it]"
     ]
    },
    {
     "name": "stdout",
     "output_type": "stream",
     "text": [
      "  ❌ Error updating post l72cl9: 'Redditor' object has no attribute 'id'\n"
     ]
    },
    {
     "name": "stderr",
     "output_type": "stream",
     "text": [
      "Updating authors:  52%|█████▏    | 52/100 [01:21<01:24,  1.76s/it]"
     ]
    },
    {
     "name": "stdout",
     "output_type": "stream",
     "text": [
      "  ❌ Error updating post l72ccb: 'Redditor' object has no attribute 'id'\n"
     ]
    },
    {
     "name": "stderr",
     "output_type": "stream",
     "text": [
      "Updating authors:  58%|█████▊    | 58/100 [01:31<01:06,  1.59s/it]"
     ]
    },
    {
     "name": "stdout",
     "output_type": "stream",
     "text": [
      "  ❌ Error updating post l72c7k: 'Redditor' object has no attribute 'id'\n"
     ]
    },
    {
     "name": "stderr",
     "output_type": "stream",
     "text": [
      "Updating authors:  70%|███████   | 70/100 [01:49<00:47,  1.57s/it]"
     ]
    },
    {
     "name": "stdout",
     "output_type": "stream",
     "text": [
      "  ❌ Error updating post l72bmv: 'Redditor' object has no attribute 'id'\n"
     ]
    },
    {
     "name": "stderr",
     "output_type": "stream",
     "text": [
      "Updating authors:  79%|███████▉  | 79/100 [02:03<00:32,  1.53s/it]"
     ]
    },
    {
     "name": "stdout",
     "output_type": "stream",
     "text": [
      "  ❌ Error updating post l72bkt: 'Redditor' object has no attribute 'id'\n"
     ]
    },
    {
     "name": "stderr",
     "output_type": "stream",
     "text": [
      "Updating authors:  93%|█████████▎| 93/100 [02:24<00:10,  1.46s/it]"
     ]
    },
    {
     "name": "stdout",
     "output_type": "stream",
     "text": [
      "  ❌ Error updating post l72bd7: 'Redditor' object has no attribute 'id'\n"
     ]
    },
    {
     "name": "stderr",
     "output_type": "stream",
     "text": [
      "Updating authors: 100%|██████████| 100/100 [02:35<00:00,  1.55s/it]\n"
     ]
    },
    {
     "name": "stdout",
     "output_type": "stream",
     "text": [
      "Progress: 13,162/53,187 (24.7%)\n",
      "Success rate: 13162/13600 (96.8%)\n",
      "Posts per minute: 30.7\n",
      "Taking a 30-second break between batches...\n",
      "\n",
      "Processing batch 137/532\n"
     ]
    },
    {
     "name": "stderr",
     "output_type": "stream",
     "text": [
      "Updating authors:  37%|███▋      | 37/100 [00:57<01:32,  1.48s/it]"
     ]
    },
    {
     "name": "stdout",
     "output_type": "stream",
     "text": [
      "  ❌ Error updating post l72ano: 'Redditor' object has no attribute 'id'\n"
     ]
    },
    {
     "name": "stderr",
     "output_type": "stream",
     "text": [
      "Updating authors:  92%|█████████▏| 92/100 [02:20<00:12,  1.51s/it]"
     ]
    },
    {
     "name": "stdout",
     "output_type": "stream",
     "text": [
      "  ❌ Error updating post l729tf: 'Redditor' object has no attribute 'id'\n"
     ]
    },
    {
     "name": "stderr",
     "output_type": "stream",
     "text": [
      "Updating authors: 100%|██████████| 100/100 [02:32<00:00,  1.53s/it]\n"
     ]
    },
    {
     "name": "stdout",
     "output_type": "stream",
     "text": [
      "Progress: 13,260/53,187 (24.9%)\n",
      "Success rate: 13260/13700 (96.8%)\n",
      "Posts per minute: 30.7\n",
      "Taking a 30-second break between batches...\n",
      "\n",
      "Processing batch 138/532\n"
     ]
    },
    {
     "name": "stderr",
     "output_type": "stream",
     "text": [
      "Updating authors:  27%|██▋       | 27/100 [00:43<01:55,  1.58s/it]"
     ]
    },
    {
     "name": "stdout",
     "output_type": "stream",
     "text": [
      "  ❌ Error updating post l729id: 'Redditor' object has no attribute 'id'\n"
     ]
    },
    {
     "name": "stderr",
     "output_type": "stream",
     "text": [
      "Updating authors:  55%|█████▌    | 55/100 [01:28<01:09,  1.55s/it]"
     ]
    },
    {
     "name": "stdout",
     "output_type": "stream",
     "text": [
      "  ❌ Error updating post l72npq: 'Redditor' object has no attribute 'id'\n"
     ]
    },
    {
     "name": "stderr",
     "output_type": "stream",
     "text": [
      "Updating authors:  60%|██████    | 60/100 [01:36<01:03,  1.59s/it]"
     ]
    },
    {
     "name": "stdout",
     "output_type": "stream",
     "text": [
      "  ❌ Error updating post l72noo: 'Redditor' object has no attribute 'id'\n"
     ]
    },
    {
     "name": "stderr",
     "output_type": "stream",
     "text": [
      "Updating authors:  69%|██████▉   | 69/100 [01:51<00:51,  1.65s/it]"
     ]
    },
    {
     "name": "stdout",
     "output_type": "stream",
     "text": [
      "  ❌ Error updating post l72nke: 'Redditor' object has no attribute 'id'\n"
     ]
    },
    {
     "name": "stderr",
     "output_type": "stream",
     "text": [
      "Updating authors:  71%|███████   | 71/100 [01:54<00:45,  1.56s/it]"
     ]
    },
    {
     "name": "stdout",
     "output_type": "stream",
     "text": [
      "  ❌ Error updating post l72njl: 'Redditor' object has no attribute 'id'\n"
     ]
    },
    {
     "name": "stderr",
     "output_type": "stream",
     "text": [
      "Updating authors:  95%|█████████▌| 95/100 [02:30<00:07,  1.44s/it]"
     ]
    },
    {
     "name": "stdout",
     "output_type": "stream",
     "text": [
      "  ❌ Error updating post l72nas: received 404 HTTP response\n"
     ]
    },
    {
     "name": "stderr",
     "output_type": "stream",
     "text": [
      "Updating authors:  96%|█████████▌| 96/100 [02:32<00:06,  1.52s/it]"
     ]
    },
    {
     "name": "stdout",
     "output_type": "stream",
     "text": [
      "  ❌ Error updating post l72nao: 'Redditor' object has no attribute 'id'\n"
     ]
    },
    {
     "name": "stderr",
     "output_type": "stream",
     "text": [
      "Updating authors: 100%|██████████| 100/100 [02:38<00:00,  1.59s/it]\n"
     ]
    },
    {
     "name": "stdout",
     "output_type": "stream",
     "text": [
      "Progress: 13,353/53,187 (25.1%)\n",
      "Success rate: 13353/13800 (96.8%)\n",
      "Posts per minute: 30.7\n",
      "Taking a 30-second break between batches...\n",
      "\n",
      "Processing batch 139/532\n"
     ]
    },
    {
     "name": "stderr",
     "output_type": "stream",
     "text": [
      "Updating authors:   8%|▊         | 8/100 [00:12<02:20,  1.52s/it]"
     ]
    },
    {
     "name": "stdout",
     "output_type": "stream",
     "text": [
      "  ❌ Error updating post l72n3u: 'Redditor' object has no attribute 'id'\n"
     ]
    },
    {
     "name": "stderr",
     "output_type": "stream",
     "text": [
      "Updating authors:  13%|█▎        | 13/100 [00:19<02:04,  1.43s/it]"
     ]
    },
    {
     "name": "stdout",
     "output_type": "stream",
     "text": [
      "  ❌ Error updating post l72n2c: 'Redditor' object has no attribute 'id'\n"
     ]
    },
    {
     "name": "stderr",
     "output_type": "stream",
     "text": [
      "Updating authors:  59%|█████▉    | 59/100 [01:30<01:03,  1.54s/it]"
     ]
    },
    {
     "name": "stdout",
     "output_type": "stream",
     "text": [
      "  ❌ Error updating post l72hpj: 'Redditor' object has no attribute 'id'\n"
     ]
    },
    {
     "name": "stderr",
     "output_type": "stream",
     "text": [
      "Updating authors:  67%|██████▋   | 67/100 [01:43<01:03,  1.91s/it]"
     ]
    },
    {
     "name": "stdout",
     "output_type": "stream",
     "text": [
      "  ❌ Error updating post l72hmv: 'Redditor' object has no attribute 'id'\n"
     ]
    },
    {
     "name": "stderr",
     "output_type": "stream",
     "text": [
      "Updating authors:  88%|████████▊ | 88/100 [02:16<00:18,  1.57s/it]"
     ]
    },
    {
     "name": "stdout",
     "output_type": "stream",
     "text": [
      "  ❌ Error updating post l72hg4: 'Redditor' object has no attribute 'id'\n"
     ]
    },
    {
     "name": "stderr",
     "output_type": "stream",
     "text": [
      "Updating authors: 100%|██████████| 100/100 [02:35<00:00,  1.56s/it]\n"
     ]
    },
    {
     "name": "stdout",
     "output_type": "stream",
     "text": [
      "Progress: 13,448/53,187 (25.3%)\n",
      "Success rate: 13448/13900 (96.7%)\n",
      "Posts per minute: 30.7\n",
      "Taking a 30-second break between batches...\n",
      "\n",
      "Processing batch 140/532\n"
     ]
    },
    {
     "name": "stderr",
     "output_type": "stream",
     "text": [
      "Updating authors:  23%|██▎       | 23/100 [00:36<02:04,  1.62s/it]"
     ]
    },
    {
     "name": "stdout",
     "output_type": "stream",
     "text": [
      "  ❌ Error updating post l72g40: 'Redditor' object has no attribute 'id'\n"
     ]
    },
    {
     "name": "stderr",
     "output_type": "stream",
     "text": [
      "Updating authors:  56%|█████▌    | 56/100 [01:27<01:04,  1.47s/it]"
     ]
    },
    {
     "name": "stdout",
     "output_type": "stream",
     "text": [
      "  ❌ Error updating post l72fm0: 'Redditor' object has no attribute 'id'\n"
     ]
    },
    {
     "name": "stderr",
     "output_type": "stream",
     "text": [
      "Updating authors:  68%|██████▊   | 68/100 [01:46<00:52,  1.63s/it]"
     ]
    },
    {
     "name": "stdout",
     "output_type": "stream",
     "text": [
      "  ❌ Error updating post l72fhc: 'Redditor' object has no attribute 'id'\n"
     ]
    },
    {
     "name": "stderr",
     "output_type": "stream",
     "text": [
      "Updating authors:  82%|████████▏ | 82/100 [02:08<00:26,  1.49s/it]"
     ]
    },
    {
     "name": "stdout",
     "output_type": "stream",
     "text": [
      "  ❌ Error updating post l72fbl: 'Redditor' object has no attribute 'id'\n"
     ]
    },
    {
     "name": "stderr",
     "output_type": "stream",
     "text": [
      "Updating authors: 100%|██████████| 100/100 [02:36<00:00,  1.57s/it]\n"
     ]
    },
    {
     "name": "stdout",
     "output_type": "stream",
     "text": [
      "Progress: 13,544/53,187 (25.5%)\n",
      "Success rate: 13544/14000 (96.7%)\n",
      "Posts per minute: 30.7\n",
      "Taking a 30-second break between batches...\n",
      "\n",
      "Processing batch 141/532\n"
     ]
    },
    {
     "name": "stderr",
     "output_type": "stream",
     "text": [
      "Updating authors:   7%|▋         | 7/100 [00:10<02:17,  1.48s/it]"
     ]
    },
    {
     "name": "stdout",
     "output_type": "stream",
     "text": [
      "  ❌ Error updating post l72f4u: 'Redditor' object has no attribute 'id'\n"
     ]
    },
    {
     "name": "stderr",
     "output_type": "stream",
     "text": [
      "Updating authors:   8%|▊         | 8/100 [00:11<02:19,  1.52s/it]"
     ]
    },
    {
     "name": "stdout",
     "output_type": "stream",
     "text": [
      "  ❌ Error updating post l72f4l: 'Redditor' object has no attribute 'id'\n"
     ]
    },
    {
     "name": "stderr",
     "output_type": "stream",
     "text": [
      "Updating authors:  40%|████      | 40/100 [01:00<01:30,  1.50s/it]"
     ]
    },
    {
     "name": "stdout",
     "output_type": "stream",
     "text": [
      "  ❌ Error updating post l72e8p: 'Redditor' object has no attribute 'id'\n"
     ]
    },
    {
     "name": "stderr",
     "output_type": "stream",
     "text": [
      "Updating authors:  92%|█████████▏| 92/100 [02:22<00:12,  1.52s/it]"
     ]
    },
    {
     "name": "stdout",
     "output_type": "stream",
     "text": [
      "  ❌ Error updating post l72rqo: 'Redditor' object has no attribute 'id'\n"
     ]
    },
    {
     "name": "stderr",
     "output_type": "stream",
     "text": [
      "Updating authors: 100%|██████████| 100/100 [02:34<00:00,  1.55s/it]\n"
     ]
    },
    {
     "name": "stdout",
     "output_type": "stream",
     "text": [
      "Progress: 13,640/53,187 (25.6%)\n",
      "Success rate: 13640/14100 (96.7%)\n",
      "Posts per minute: 30.7\n",
      "Taking a 30-second break between batches...\n",
      "\n",
      "Processing batch 142/532\n"
     ]
    },
    {
     "name": "stderr",
     "output_type": "stream",
     "text": [
      "Updating authors:   1%|          | 1/100 [00:01<02:17,  1.39s/it]"
     ]
    },
    {
     "name": "stdout",
     "output_type": "stream",
     "text": [
      "  ❌ Error updating post l72rmw: 'Redditor' object has no attribute 'id'\n"
     ]
    },
    {
     "name": "stderr",
     "output_type": "stream",
     "text": [
      "Updating authors:  45%|████▌     | 45/100 [01:09<01:26,  1.57s/it]"
     ]
    },
    {
     "name": "stdout",
     "output_type": "stream",
     "text": [
      "  ❌ Error updating post l72p6h: 'Redditor' object has no attribute 'id'\n"
     ]
    },
    {
     "name": "stderr",
     "output_type": "stream",
     "text": [
      "Updating authors:  82%|████████▏ | 82/100 [02:07<00:29,  1.65s/it]"
     ]
    },
    {
     "name": "stdout",
     "output_type": "stream",
     "text": [
      "  ❌ Error updating post l72jed: 'Redditor' object has no attribute 'id'\n"
     ]
    },
    {
     "name": "stderr",
     "output_type": "stream",
     "text": [
      "Updating authors: 100%|██████████| 100/100 [02:35<00:00,  1.56s/it]\n"
     ]
    },
    {
     "name": "stdout",
     "output_type": "stream",
     "text": [
      "Progress: 13,737/53,187 (25.8%)\n",
      "Success rate: 13737/14200 (96.7%)\n",
      "Posts per minute: 30.7\n",
      "Taking a 30-second break between batches...\n",
      "\n",
      "Processing batch 143/532\n"
     ]
    },
    {
     "name": "stderr",
     "output_type": "stream",
     "text": [
      "Updating authors:  37%|███▋      | 37/100 [00:58<01:41,  1.61s/it]"
     ]
    },
    {
     "name": "stdout",
     "output_type": "stream",
     "text": [
      "  ❌ Error updating post l72iqn: 'Redditor' object has no attribute 'id'\n"
     ]
    },
    {
     "name": "stderr",
     "output_type": "stream",
     "text": [
      "Updating authors:  54%|█████▍    | 54/100 [01:23<01:10,  1.54s/it]"
     ]
    },
    {
     "name": "stdout",
     "output_type": "stream",
     "text": [
      "  ❌ Error updating post l72ila: 'Redditor' object has no attribute 'id'\n"
     ]
    },
    {
     "name": "stderr",
     "output_type": "stream",
     "text": [
      "Updating authors: 100%|██████████| 100/100 [02:35<00:00,  1.56s/it]\n"
     ]
    },
    {
     "name": "stdout",
     "output_type": "stream",
     "text": [
      "Progress: 13,835/53,187 (26.0%)\n",
      "Success rate: 13835/14300 (96.7%)\n",
      "Posts per minute: 30.7\n",
      "Taking a 30-second break between batches...\n",
      "\n",
      "Processing batch 144/532\n"
     ]
    },
    {
     "name": "stderr",
     "output_type": "stream",
     "text": [
      "Updating authors:  26%|██▌       | 26/100 [00:39<01:48,  1.46s/it]"
     ]
    },
    {
     "name": "stdout",
     "output_type": "stream",
     "text": [
      "  ❌ Error updating post l72yai: 'Redditor' object has no attribute 'id'\n"
     ]
    },
    {
     "name": "stderr",
     "output_type": "stream",
     "text": [
      "Updating authors:  35%|███▌      | 35/100 [00:54<01:41,  1.57s/it]"
     ]
    },
    {
     "name": "stdout",
     "output_type": "stream",
     "text": [
      "  ❌ Error updating post l72y59: received 404 HTTP response\n"
     ]
    },
    {
     "name": "stderr",
     "output_type": "stream",
     "text": [
      "Updating authors:  55%|█████▌    | 55/100 [01:25<01:14,  1.65s/it]"
     ]
    },
    {
     "name": "stdout",
     "output_type": "stream",
     "text": [
      "  ❌ Error updating post l72vo8: 'Redditor' object has no attribute 'id'\n"
     ]
    },
    {
     "name": "stderr",
     "output_type": "stream",
     "text": [
      "Updating authors:  67%|██████▋   | 67/100 [01:43<00:47,  1.43s/it]"
     ]
    },
    {
     "name": "stdout",
     "output_type": "stream",
     "text": [
      "  ❌ Error updating post l72mqf: 'Redditor' object has no attribute 'id'\n"
     ]
    },
    {
     "name": "stderr",
     "output_type": "stream",
     "text": [
      "Updating authors:  99%|█████████▉| 99/100 [02:32<00:01,  1.52s/it]"
     ]
    },
    {
     "name": "stdout",
     "output_type": "stream",
     "text": [
      "  ❌ Error updating post l72mfc: 'Redditor' object has no attribute 'id'\n"
     ]
    },
    {
     "name": "stderr",
     "output_type": "stream",
     "text": [
      "Updating authors: 100%|██████████| 100/100 [02:34<00:00,  1.54s/it]\n"
     ]
    },
    {
     "name": "stdout",
     "output_type": "stream",
     "text": [
      "Progress: 13,930/53,187 (26.2%)\n",
      "Success rate: 13930/14400 (96.7%)\n",
      "Posts per minute: 30.7\n",
      "Taking a 30-second break between batches...\n",
      "\n",
      "Processing batch 145/532\n"
     ]
    },
    {
     "name": "stderr",
     "output_type": "stream",
     "text": [
      "Updating authors:  52%|█████▏    | 52/100 [01:20<01:15,  1.58s/it]"
     ]
    },
    {
     "name": "stdout",
     "output_type": "stream",
     "text": [
      "  ❌ Error updating post l72lom: 'Redditor' object has no attribute 'id'\n"
     ]
    },
    {
     "name": "stderr",
     "output_type": "stream",
     "text": [
      "Updating authors:  89%|████████▉ | 89/100 [02:18<00:18,  1.71s/it]"
     ]
    },
    {
     "name": "stdout",
     "output_type": "stream",
     "text": [
      "  ❌ Error updating post l72l1m: 'Redditor' object has no attribute 'id'\n"
     ]
    },
    {
     "name": "stderr",
     "output_type": "stream",
     "text": [
      "Updating authors: 100%|██████████| 100/100 [02:35<00:00,  1.55s/it]\n"
     ]
    },
    {
     "name": "stdout",
     "output_type": "stream",
     "text": [
      "Progress: 14,028/53,187 (26.4%)\n",
      "Success rate: 14028/14500 (96.7%)\n",
      "Posts per minute: 30.7\n",
      "Taking a 30-second break between batches...\n",
      "\n",
      "Processing batch 146/532\n"
     ]
    },
    {
     "name": "stderr",
     "output_type": "stream",
     "text": [
      "Updating authors:   5%|▌         | 5/100 [00:07<02:27,  1.55s/it]"
     ]
    },
    {
     "name": "stdout",
     "output_type": "stream",
     "text": [
      "  ❌ Error updating post l72kb2: 'Redditor' object has no attribute 'id'\n"
     ]
    },
    {
     "name": "stderr",
     "output_type": "stream",
     "text": [
      "Updating authors:  13%|█▎        | 13/100 [00:20<02:10,  1.50s/it]"
     ]
    },
    {
     "name": "stdout",
     "output_type": "stream",
     "text": [
      "  ❌ Error updating post l72k8g: 'Redditor' object has no attribute 'id'\n"
     ]
    },
    {
     "name": "stderr",
     "output_type": "stream",
     "text": [
      "Updating authors:  15%|█▌        | 15/100 [00:23<02:08,  1.51s/it]"
     ]
    },
    {
     "name": "stdout",
     "output_type": "stream",
     "text": [
      "  ❌ Error updating post l72k84: 'Redditor' object has no attribute 'id'\n"
     ]
    },
    {
     "name": "stderr",
     "output_type": "stream",
     "text": [
      "Updating authors:  52%|█████▏    | 52/100 [01:20<01:14,  1.55s/it]"
     ]
    },
    {
     "name": "stdout",
     "output_type": "stream",
     "text": [
      "  ❌ Error updating post l72jsr: 'Redditor' object has no attribute 'id'\n"
     ]
    },
    {
     "name": "stderr",
     "output_type": "stream",
     "text": [
      "Updating authors:  92%|█████████▏| 92/100 [02:21<00:12,  1.56s/it]"
     ]
    },
    {
     "name": "stdout",
     "output_type": "stream",
     "text": [
      "  ❌ Error updating post l72ovi: 'Redditor' object has no attribute 'id'\n"
     ]
    },
    {
     "name": "stderr",
     "output_type": "stream",
     "text": [
      "Updating authors: 100%|██████████| 100/100 [02:34<00:00,  1.54s/it]\n"
     ]
    },
    {
     "name": "stdout",
     "output_type": "stream",
     "text": [
      "Progress: 14,123/53,187 (26.6%)\n",
      "Success rate: 14123/14600 (96.7%)\n",
      "Posts per minute: 30.7\n",
      "Taking a 30-second break between batches...\n",
      "\n",
      "Processing batch 147/532\n"
     ]
    },
    {
     "name": "stderr",
     "output_type": "stream",
     "text": [
      "Updating authors:  23%|██▎       | 23/100 [00:36<01:55,  1.50s/it]"
     ]
    },
    {
     "name": "stdout",
     "output_type": "stream",
     "text": [
      "  ❌ Error updating post l72oj5: received 404 HTTP response\n"
     ]
    },
    {
     "name": "stderr",
     "output_type": "stream",
     "text": [
      "Updating authors:  31%|███       | 31/100 [00:48<01:43,  1.50s/it]"
     ]
    },
    {
     "name": "stdout",
     "output_type": "stream",
     "text": [
      "  ❌ Error updating post l72ock: 'Redditor' object has no attribute 'id'\n"
     ]
    },
    {
     "name": "stderr",
     "output_type": "stream",
     "text": [
      "Updating authors:  45%|████▌     | 45/100 [01:10<01:24,  1.54s/it]"
     ]
    },
    {
     "name": "stdout",
     "output_type": "stream",
     "text": [
      "  ❌ Error updating post l72o2x: 'Redditor' object has no attribute 'id'\n"
     ]
    },
    {
     "name": "stderr",
     "output_type": "stream",
     "text": [
      "Updating authors:  53%|█████▎    | 53/100 [01:23<01:15,  1.61s/it]"
     ]
    },
    {
     "name": "stdout",
     "output_type": "stream",
     "text": [
      "  ❌ Error updating post l72o1q: 'Redditor' object has no attribute 'id'\n"
     ]
    },
    {
     "name": "stderr",
     "output_type": "stream",
     "text": [
      "Updating authors:  56%|█████▌    | 56/100 [01:28<01:11,  1.63s/it]"
     ]
    },
    {
     "name": "stdout",
     "output_type": "stream",
     "text": [
      "  ❌ Error updating post l72o1i: 'Redditor' object has no attribute 'id'\n"
     ]
    },
    {
     "name": "stderr",
     "output_type": "stream",
     "text": [
      "Updating authors: 100%|██████████| 100/100 [02:35<00:00,  1.56s/it]\n"
     ]
    },
    {
     "name": "stdout",
     "output_type": "stream",
     "text": [
      "Progress: 14,218/53,187 (26.7%)\n",
      "Success rate: 14218/14700 (96.7%)\n",
      "Posts per minute: 30.7\n",
      "Taking a 30-second break between batches...\n",
      "\n",
      "Processing batch 148/532\n"
     ]
    },
    {
     "name": "stderr",
     "output_type": "stream",
     "text": [
      "Updating authors:  10%|█         | 10/100 [00:15<02:22,  1.59s/it]"
     ]
    },
    {
     "name": "stdout",
     "output_type": "stream",
     "text": [
      "  ❌ Error updating post l738uw: 'Redditor' object has no attribute 'id'\n"
     ]
    },
    {
     "name": "stderr",
     "output_type": "stream",
     "text": [
      "Updating authors:  90%|█████████ | 90/100 [02:24<00:16,  1.65s/it]"
     ]
    },
    {
     "name": "stdout",
     "output_type": "stream",
     "text": [
      "  ❌ Error updating post l73drs: 'Redditor' object has no attribute 'id'\n"
     ]
    },
    {
     "name": "stderr",
     "output_type": "stream",
     "text": [
      "Updating authors:  94%|█████████▍| 94/100 [02:30<00:09,  1.63s/it]"
     ]
    },
    {
     "name": "stdout",
     "output_type": "stream",
     "text": [
      "  ❌ Error updating post l73cmg: 'Redditor' object has no attribute 'id'\n"
     ]
    },
    {
     "name": "stderr",
     "output_type": "stream",
     "text": [
      "Updating authors: 100%|██████████| 100/100 [02:39<00:00,  1.60s/it]\n"
     ]
    },
    {
     "name": "stdout",
     "output_type": "stream",
     "text": [
      "Progress: 14,315/53,187 (26.9%)\n",
      "Success rate: 14315/14800 (96.7%)\n",
      "Posts per minute: 30.7\n",
      "Taking a 30-second break between batches...\n",
      "\n",
      "Processing batch 149/532\n"
     ]
    },
    {
     "name": "stderr",
     "output_type": "stream",
     "text": [
      "Updating authors:  52%|█████▏    | 52/100 [01:25<01:20,  1.68s/it]"
     ]
    },
    {
     "name": "stdout",
     "output_type": "stream",
     "text": [
      "  ❌ Error updating post l72siu: 'Redditor' object has no attribute 'id'\n"
     ]
    },
    {
     "name": "stderr",
     "output_type": "stream",
     "text": [
      "Updating authors:  58%|█████▊    | 58/100 [01:34<01:04,  1.53s/it]"
     ]
    },
    {
     "name": "stdout",
     "output_type": "stream",
     "text": [
      "  ❌ Error updating post l72se4: 'Redditor' object has no attribute 'id'\n"
     ]
    },
    {
     "name": "stderr",
     "output_type": "stream",
     "text": [
      "Updating authors:  76%|███████▌  | 76/100 [02:04<00:41,  1.71s/it]"
     ]
    },
    {
     "name": "stdout",
     "output_type": "stream",
     "text": [
      "  ❌ Error updating post l72spr: 'Redditor' object has no attribute 'id'\n"
     ]
    },
    {
     "name": "stderr",
     "output_type": "stream",
     "text": [
      "Updating authors: 100%|██████████| 100/100 [02:42<00:00,  1.63s/it]\n"
     ]
    },
    {
     "name": "stdout",
     "output_type": "stream",
     "text": [
      "Progress: 14,412/53,187 (27.1%)\n",
      "Success rate: 14412/14900 (96.7%)\n",
      "Posts per minute: 30.7\n",
      "Taking a 30-second break between batches...\n",
      "\n",
      "Processing batch 150/532\n"
     ]
    },
    {
     "name": "stderr",
     "output_type": "stream",
     "text": [
      "Updating authors:   2%|▏         | 2/100 [00:03<02:31,  1.54s/it]"
     ]
    },
    {
     "name": "stdout",
     "output_type": "stream",
     "text": [
      "  ❌ Error updating post l72txl: 'Redditor' object has no attribute 'id'\n"
     ]
    },
    {
     "name": "stderr",
     "output_type": "stream",
     "text": [
      "Updating authors:  32%|███▏      | 32/100 [00:52<02:16,  2.01s/it]"
     ]
    },
    {
     "name": "stdout",
     "output_type": "stream",
     "text": [
      "  ❌ Error updating post l72tf3: 'Redditor' object has no attribute 'id'\n"
     ]
    },
    {
     "name": "stderr",
     "output_type": "stream",
     "text": [
      "Updating authors:  52%|█████▏    | 52/100 [01:24<01:17,  1.62s/it]"
     ]
    },
    {
     "name": "stdout",
     "output_type": "stream",
     "text": [
      "  ❌ Error updating post l742jt: 'Redditor' object has no attribute 'id'\n"
     ]
    },
    {
     "name": "stderr",
     "output_type": "stream",
     "text": [
      "Updating authors:  82%|████████▏ | 82/100 [02:10<00:28,  1.60s/it]"
     ]
    },
    {
     "name": "stdout",
     "output_type": "stream",
     "text": [
      "  ❌ Error updating post l7427b: 'Redditor' object has no attribute 'id'\n"
     ]
    },
    {
     "name": "stderr",
     "output_type": "stream",
     "text": [
      "Updating authors:  84%|████████▍ | 84/100 [02:13<00:24,  1.54s/it]"
     ]
    },
    {
     "name": "stdout",
     "output_type": "stream",
     "text": [
      "  ❌ Error updating post l7425t: 'Redditor' object has no attribute 'id'\n"
     ]
    },
    {
     "name": "stderr",
     "output_type": "stream",
     "text": [
      "Updating authors:  94%|█████████▍| 94/100 [02:28<00:09,  1.52s/it]"
     ]
    },
    {
     "name": "stdout",
     "output_type": "stream",
     "text": [
      "  ❌ Error updating post l741w0: 'Redditor' object has no attribute 'id'\n"
     ]
    },
    {
     "name": "stderr",
     "output_type": "stream",
     "text": [
      "Updating authors:  98%|█████████▊| 98/100 [02:34<00:02,  1.47s/it]"
     ]
    },
    {
     "name": "stdout",
     "output_type": "stream",
     "text": [
      "  ❌ Error updating post l741t3: 'Redditor' object has no attribute 'id'\n"
     ]
    },
    {
     "name": "stderr",
     "output_type": "stream",
     "text": [
      "Updating authors: 100%|██████████| 100/100 [02:37<00:00,  1.58s/it]\n"
     ]
    },
    {
     "name": "stdout",
     "output_type": "stream",
     "text": [
      "Progress: 14,505/53,187 (27.3%)\n",
      "Success rate: 14505/15000 (96.7%)\n",
      "Posts per minute: 30.7\n",
      "Taking a 30-second break between batches...\n",
      "\n",
      "Processing batch 151/532\n"
     ]
    },
    {
     "name": "stderr",
     "output_type": "stream",
     "text": [
      "Updating authors:  14%|█▍        | 14/100 [00:22<02:17,  1.60s/it]"
     ]
    },
    {
     "name": "stdout",
     "output_type": "stream",
     "text": [
      "  ❌ Error updating post l741lq: 'Redditor' object has no attribute 'id'\n"
     ]
    },
    {
     "name": "stderr",
     "output_type": "stream",
     "text": [
      "Updating authors:  26%|██▌       | 26/100 [00:42<02:11,  1.77s/it]"
     ]
    },
    {
     "name": "stdout",
     "output_type": "stream",
     "text": [
      "  ❌ Error updating post l73pxl: 'Redditor' object has no attribute 'id'\n"
     ]
    },
    {
     "name": "stderr",
     "output_type": "stream",
     "text": [
      "Updating authors:  47%|████▋     | 47/100 [01:17<01:21,  1.53s/it]"
     ]
    },
    {
     "name": "stdout",
     "output_type": "stream",
     "text": [
      "  ❌ Error updating post l72ubo: 'Redditor' object has no attribute 'id'\n"
     ]
    },
    {
     "name": "stderr",
     "output_type": "stream",
     "text": [
      "Updating authors:  76%|███████▌  | 76/100 [02:05<00:37,  1.54s/it]"
     ]
    },
    {
     "name": "stdout",
     "output_type": "stream",
     "text": [
      "  ❌ Error updating post l731hs: 'Redditor' object has no attribute 'id'\n"
     ]
    },
    {
     "name": "stderr",
     "output_type": "stream",
     "text": [
      "Updating authors:  83%|████████▎ | 83/100 [02:17<00:28,  1.69s/it]"
     ]
    },
    {
     "name": "stdout",
     "output_type": "stream",
     "text": [
      "  ❌ Error updating post l731en: 'Redditor' object has no attribute 'id'\n"
     ]
    },
    {
     "name": "stderr",
     "output_type": "stream",
     "text": [
      "Updating authors: 100%|██████████| 100/100 [02:44<00:00,  1.65s/it]\n"
     ]
    },
    {
     "name": "stdout",
     "output_type": "stream",
     "text": [
      "Progress: 14,600/53,187 (27.5%)\n",
      "Success rate: 14600/15100 (96.7%)\n",
      "Posts per minute: 30.7\n",
      "Taking a 30-second break between batches...\n",
      "\n",
      "Processing batch 152/532\n"
     ]
    },
    {
     "name": "stderr",
     "output_type": "stream",
     "text": [
      "Updating authors:   3%|▎         | 3/100 [00:04<02:32,  1.57s/it]"
     ]
    },
    {
     "name": "stdout",
     "output_type": "stream",
     "text": [
      "  ❌ Error updating post l730a7: 'Redditor' object has no attribute 'id'\n"
     ]
    },
    {
     "name": "stderr",
     "output_type": "stream",
     "text": [
      "Updating authors:  21%|██        | 21/100 [00:35<02:14,  1.71s/it]"
     ]
    },
    {
     "name": "stdout",
     "output_type": "stream",
     "text": [
      "  ❌ Error updating post l72yy1: received 404 HTTP response\n"
     ]
    },
    {
     "name": "stderr",
     "output_type": "stream",
     "text": [
      "Updating authors:  24%|██▍       | 24/100 [00:40<02:15,  1.78s/it]"
     ]
    },
    {
     "name": "stdout",
     "output_type": "stream",
     "text": [
      "  ❌ Error updating post l72yx0: 'Redditor' object has no attribute 'id'\n"
     ]
    },
    {
     "name": "stderr",
     "output_type": "stream",
     "text": [
      "Updating authors:  56%|█████▌    | 56/100 [01:37<01:44,  2.38s/it]"
     ]
    },
    {
     "name": "stdout",
     "output_type": "stream",
     "text": [
      "  ❌ Error updating post l72w5s: 'Redditor' object has no attribute 'id'\n"
     ]
    },
    {
     "name": "stderr",
     "output_type": "stream",
     "text": [
      "Updating authors:  85%|████████▌ | 85/100 [02:23<00:22,  1.50s/it]"
     ]
    },
    {
     "name": "stdout",
     "output_type": "stream",
     "text": [
      "  ❌ Error updating post l74muy: 'Redditor' object has no attribute 'id'\n"
     ]
    },
    {
     "name": "stderr",
     "output_type": "stream",
     "text": [
      "Updating authors: 100%|██████████| 100/100 [02:46<00:00,  1.67s/it]\n"
     ]
    },
    {
     "name": "stdout",
     "output_type": "stream",
     "text": [
      "Progress: 14,695/53,187 (27.6%)\n",
      "Success rate: 14695/15200 (96.7%)\n",
      "Posts per minute: 30.7\n",
      "Taking a 30-second break between batches...\n",
      "\n",
      "Processing batch 153/532\n"
     ]
    },
    {
     "name": "stderr",
     "output_type": "stream",
     "text": [
      "Updating authors:  48%|████▊     | 48/100 [01:13<01:23,  1.61s/it]"
     ]
    },
    {
     "name": "stdout",
     "output_type": "stream",
     "text": [
      "  ❌ Error updating post l732i2: 'Redditor' object has no attribute 'id'\n"
     ]
    },
    {
     "name": "stderr",
     "output_type": "stream",
     "text": [
      "Updating authors:  65%|██████▌   | 65/100 [01:40<00:56,  1.63s/it]"
     ]
    },
    {
     "name": "stdout",
     "output_type": "stream",
     "text": [
      "  ❌ Error updating post l7339g: 'Redditor' object has no attribute 'id'\n"
     ]
    },
    {
     "name": "stderr",
     "output_type": "stream",
     "text": [
      "Updating authors: 100%|██████████| 100/100 [02:37<00:00,  1.57s/it]\n"
     ]
    },
    {
     "name": "stdout",
     "output_type": "stream",
     "text": [
      "Progress: 14,793/53,187 (27.8%)\n",
      "Success rate: 14793/15300 (96.7%)\n",
      "Posts per minute: 30.7\n",
      "Taking a 30-second break between batches...\n",
      "\n",
      "Processing batch 154/532\n"
     ]
    },
    {
     "name": "stderr",
     "output_type": "stream",
     "text": [
      "Updating authors:  35%|███▌      | 35/100 [00:58<01:37,  1.50s/it]"
     ]
    },
    {
     "name": "stdout",
     "output_type": "stream",
     "text": [
      "  ❌ Error updating post l756rc: received 404 HTTP response\n"
     ]
    },
    {
     "name": "stderr",
     "output_type": "stream",
     "text": [
      "Updating authors:  44%|████▍     | 44/100 [01:12<01:27,  1.56s/it]"
     ]
    },
    {
     "name": "stdout",
     "output_type": "stream",
     "text": [
      "  ❌ Error updating post l756lc: 'Redditor' object has no attribute 'id'\n"
     ]
    },
    {
     "name": "stderr",
     "output_type": "stream",
     "text": [
      "Updating authors:  53%|█████▎    | 53/100 [01:25<01:08,  1.45s/it]"
     ]
    },
    {
     "name": "stdout",
     "output_type": "stream",
     "text": [
      "  ❌ Error updating post l73fwg: 'Redditor' object has no attribute 'id'\n"
     ]
    },
    {
     "name": "stderr",
     "output_type": "stream",
     "text": [
      "Updating authors:  56%|█████▌    | 56/100 [01:31<01:14,  1.69s/it]"
     ]
    },
    {
     "name": "stdout",
     "output_type": "stream",
     "text": [
      "  ❌ Error updating post l73f20: 'Redditor' object has no attribute 'id'\n"
     ]
    },
    {
     "name": "stderr",
     "output_type": "stream",
     "text": [
      "Updating authors:  73%|███████▎  | 73/100 [02:05<00:57,  2.11s/it]"
     ]
    },
    {
     "name": "stdout",
     "output_type": "stream",
     "text": [
      "  ❌ Error updating post l7392v: 'Redditor' object has no attribute 'id'\n"
     ]
    },
    {
     "name": "stderr",
     "output_type": "stream",
     "text": [
      "Updating authors:  80%|████████  | 80/100 [02:16<00:30,  1.52s/it]"
     ]
    },
    {
     "name": "stdout",
     "output_type": "stream",
     "text": [
      "  ❌ Error updating post l75bu1: 'Redditor' object has no attribute 'id'\n"
     ]
    },
    {
     "name": "stderr",
     "output_type": "stream",
     "text": [
      "Updating authors: 100%|██████████| 100/100 [02:46<00:00,  1.66s/it]\n"
     ]
    },
    {
     "name": "stdout",
     "output_type": "stream",
     "text": [
      "Progress: 14,887/53,187 (28.0%)\n",
      "Success rate: 14887/15400 (96.7%)\n",
      "Posts per minute: 30.6\n",
      "Taking a 30-second break between batches...\n",
      "\n",
      "Processing batch 155/532\n"
     ]
    },
    {
     "name": "stderr",
     "output_type": "stream",
     "text": [
      "Updating authors:  24%|██▍       | 24/100 [00:42<03:03,  2.41s/it]"
     ]
    },
    {
     "name": "stdout",
     "output_type": "stream",
     "text": [
      "  ❌ Error updating post l73gux: 'Redditor' object has no attribute 'id'\n"
     ]
    },
    {
     "name": "stderr",
     "output_type": "stream",
     "text": [
      "Updating authors:  30%|███       | 30/100 [00:56<02:32,  2.18s/it]"
     ]
    },
    {
     "name": "stdout",
     "output_type": "stream",
     "text": [
      "  ❌ Error updating post l75ef1: 'Redditor' object has no attribute 'id'\n"
     ]
    },
    {
     "name": "stderr",
     "output_type": "stream",
     "text": [
      "Updating authors:  51%|█████     | 51/100 [01:29<01:10,  1.44s/it]"
     ]
    },
    {
     "name": "stdout",
     "output_type": "stream",
     "text": [
      "  ❌ Error updating post l758uu: 'Redditor' object has no attribute 'id'\n"
     ]
    },
    {
     "name": "stderr",
     "output_type": "stream",
     "text": [
      "Updating authors:  65%|██████▌   | 65/100 [01:51<00:55,  1.59s/it]"
     ]
    },
    {
     "name": "stdout",
     "output_type": "stream",
     "text": [
      "  ❌ Error updating post l75878: 'Redditor' object has no attribute 'id'\n"
     ]
    },
    {
     "name": "stderr",
     "output_type": "stream",
     "text": [
      "Updating authors: 100%|██████████| 100/100 [02:51<00:00,  1.71s/it]\n"
     ]
    },
    {
     "name": "stdout",
     "output_type": "stream",
     "text": [
      "Progress: 14,983/53,187 (28.2%)\n",
      "Success rate: 14983/15500 (96.7%)\n",
      "Posts per minute: 30.6\n",
      "Taking a 30-second break between batches...\n",
      "\n",
      "Processing batch 156/532\n"
     ]
    },
    {
     "name": "stderr",
     "output_type": "stream",
     "text": [
      "Updating authors:   7%|▋         | 7/100 [00:17<03:31,  2.27s/it]"
     ]
    },
    {
     "name": "stdout",
     "output_type": "stream",
     "text": [
      "  ❌ Error updating post l76g9b: 'Redditor' object has no attribute 'id'\n"
     ]
    },
    {
     "name": "stderr",
     "output_type": "stream",
     "text": [
      "Updating authors:   9%|▉         | 9/100 [00:23<04:03,  2.68s/it]"
     ]
    },
    {
     "name": "stdout",
     "output_type": "stream",
     "text": [
      "  ❌ Error updating post l76f75: received 404 HTTP response\n"
     ]
    },
    {
     "name": "stderr",
     "output_type": "stream",
     "text": [
      "Updating authors:  14%|█▍        | 14/100 [00:39<04:45,  3.32s/it]"
     ]
    },
    {
     "name": "stdout",
     "output_type": "stream",
     "text": [
      "  ❌ Error updating post l76d6r: 'Redditor' object has no attribute 'id'\n"
     ]
    },
    {
     "name": "stderr",
     "output_type": "stream",
     "text": [
      "Updating authors:  36%|███▌      | 36/100 [01:25<02:10,  2.04s/it]"
     ]
    },
    {
     "name": "stdout",
     "output_type": "stream",
     "text": [
      "  ❌ Error updating post l75z6q: 'Redditor' object has no attribute 'id'\n"
     ]
    },
    {
     "name": "stderr",
     "output_type": "stream",
     "text": [
      "Updating authors:  55%|█████▌    | 55/100 [02:16<02:00,  2.67s/it]"
     ]
    },
    {
     "name": "stdout",
     "output_type": "stream",
     "text": [
      "  ❌ Error updating post l75nje: 'Redditor' object has no attribute 'id'\n"
     ]
    },
    {
     "name": "stderr",
     "output_type": "stream",
     "text": [
      "Updating authors:  72%|███████▏  | 72/100 [02:58<01:08,  2.44s/it]"
     ]
    },
    {
     "name": "stdout",
     "output_type": "stream",
     "text": [
      "  ❌ Error updating post l75f6d: received 404 HTTP response\n"
     ]
    },
    {
     "name": "stderr",
     "output_type": "stream",
     "text": [
      "Updating authors: 100%|██████████| 100/100 [03:51<00:00,  2.32s/it]\n"
     ]
    },
    {
     "name": "stdout",
     "output_type": "stream",
     "text": [
      "Progress: 15,077/53,187 (28.3%)\n",
      "Success rate: 15077/15600 (96.6%)\n",
      "Posts per minute: 30.5\n",
      "Taking a 30-second break between batches...\n",
      "\n",
      "Processing batch 157/532\n"
     ]
    },
    {
     "name": "stderr",
     "output_type": "stream",
     "text": [
      "Updating authors:  24%|██▍       | 24/100 [00:39<02:00,  1.59s/it]"
     ]
    },
    {
     "name": "stdout",
     "output_type": "stream",
     "text": [
      "  ❌ Error updating post l759rx: 'Redditor' object has no attribute 'id'\n"
     ]
    },
    {
     "name": "stderr",
     "output_type": "stream",
     "text": [
      "Updating authors:  33%|███▎      | 33/100 [00:55<01:58,  1.77s/it]"
     ]
    },
    {
     "name": "stdout",
     "output_type": "stream",
     "text": [
      "  ❌ Error updating post l7594l: 'Redditor' object has no attribute 'id'\n"
     ]
    },
    {
     "name": "stderr",
     "output_type": "stream",
     "text": [
      "Updating authors:  37%|███▋      | 37/100 [01:01<01:46,  1.69s/it]"
     ]
    },
    {
     "name": "stdout",
     "output_type": "stream",
     "text": [
      "  ❌ Error updating post l758zc: 'Redditor' object has no attribute 'id'\n"
     ]
    },
    {
     "name": "stderr",
     "output_type": "stream",
     "text": [
      "Updating authors:  68%|██████▊   | 68/100 [01:52<00:54,  1.70s/it]"
     ]
    },
    {
     "name": "stdout",
     "output_type": "stream",
     "text": [
      "  ❌ Error updating post l754xy: 'Redditor' object has no attribute 'id'\n"
     ]
    },
    {
     "name": "stderr",
     "output_type": "stream",
     "text": [
      "Updating authors:  86%|████████▌ | 86/100 [02:21<00:21,  1.56s/it]"
     ]
    },
    {
     "name": "stdout",
     "output_type": "stream",
     "text": [
      "  ❌ Error updating post l75394: 'Redditor' object has no attribute 'id'\n"
     ]
    },
    {
     "name": "stderr",
     "output_type": "stream",
     "text": [
      "Updating authors: 100%|██████████| 100/100 [02:45<00:00,  1.65s/it]\n"
     ]
    },
    {
     "name": "stdout",
     "output_type": "stream",
     "text": [
      "Progress: 15,172/53,187 (28.5%)\n",
      "Success rate: 15172/15700 (96.6%)\n",
      "Posts per minute: 30.5\n",
      "Taking a 30-second break between batches...\n",
      "\n",
      "Processing batch 158/532\n"
     ]
    },
    {
     "name": "stderr",
     "output_type": "stream",
     "text": [
      "Updating authors:  17%|█▋        | 17/100 [00:30<02:50,  2.05s/it]"
     ]
    },
    {
     "name": "stdout",
     "output_type": "stream",
     "text": [
      "  ❌ Error updating post l752cn: 'Redditor' object has no attribute 'id'\n"
     ]
    },
    {
     "name": "stderr",
     "output_type": "stream",
     "text": [
      "Updating authors:  23%|██▎       | 23/100 [00:40<02:07,  1.66s/it]"
     ]
    },
    {
     "name": "stdout",
     "output_type": "stream",
     "text": [
      "  ❌ Error updating post l7529f: 'Redditor' object has no attribute 'id'\n"
     ]
    },
    {
     "name": "stderr",
     "output_type": "stream",
     "text": [
      "Updating authors:  41%|████      | 41/100 [01:19<01:58,  2.00s/it]"
     ]
    },
    {
     "name": "stdout",
     "output_type": "stream",
     "text": [
      "  ❌ Error updating post l74xiv: 'Redditor' object has no attribute 'id'\n"
     ]
    },
    {
     "name": "stderr",
     "output_type": "stream",
     "text": [
      "Updating authors:  44%|████▍     | 44/100 [01:28<02:27,  2.64s/it]"
     ]
    },
    {
     "name": "stdout",
     "output_type": "stream",
     "text": [
      "  ❌ Error updating post l74wtf: 'Redditor' object has no attribute 'id'\n"
     ]
    },
    {
     "name": "stderr",
     "output_type": "stream",
     "text": [
      "Updating authors:  51%|█████     | 51/100 [01:41<01:29,  1.82s/it]"
     ]
    },
    {
     "name": "stdout",
     "output_type": "stream",
     "text": [
      "  ❌ Error updating post l74vp5: 'Redditor' object has no attribute 'id'\n"
     ]
    },
    {
     "name": "stderr",
     "output_type": "stream",
     "text": [
      "Updating authors:  64%|██████▍   | 64/100 [02:12<01:45,  2.93s/it]"
     ]
    },
    {
     "name": "stdout",
     "output_type": "stream",
     "text": [
      "  ❌ Error updating post l74ptu: 'Redditor' object has no attribute 'id'\n"
     ]
    },
    {
     "name": "stderr",
     "output_type": "stream",
     "text": [
      "Updating authors:  68%|██████▊   | 68/100 [02:20<01:09,  2.18s/it]"
     ]
    },
    {
     "name": "stdout",
     "output_type": "stream",
     "text": [
      "  ❌ Error updating post l74ozi: 'Redditor' object has no attribute 'id'\n"
     ]
    },
    {
     "name": "stderr",
     "output_type": "stream",
     "text": [
      "Updating authors:  90%|█████████ | 90/100 [03:03<00:16,  1.68s/it]"
     ]
    },
    {
     "name": "stdout",
     "output_type": "stream",
     "text": [
      "  ❌ Error updating post l74lpt: 'Redditor' object has no attribute 'id'\n"
     ]
    },
    {
     "name": "stderr",
     "output_type": "stream",
     "text": [
      "Updating authors:  91%|█████████ | 91/100 [03:05<00:14,  1.66s/it]"
     ]
    },
    {
     "name": "stdout",
     "output_type": "stream",
     "text": [
      "  ❌ Error updating post l74lot: 'Redditor' object has no attribute 'id'\n"
     ]
    },
    {
     "name": "stderr",
     "output_type": "stream",
     "text": [
      "Updating authors: 100%|██████████| 100/100 [03:20<00:00,  2.01s/it]\n"
     ]
    },
    {
     "name": "stdout",
     "output_type": "stream",
     "text": [
      "Progress: 15,263/53,187 (28.7%)\n",
      "Success rate: 15263/15800 (96.6%)\n",
      "Posts per minute: 30.5\n",
      "Taking a 30-second break between batches...\n",
      "\n",
      "Processing batch 159/532\n"
     ]
    },
    {
     "name": "stderr",
     "output_type": "stream",
     "text": [
      "Updating authors:   1%|          | 1/100 [00:01<02:47,  1.69s/it]"
     ]
    },
    {
     "name": "stdout",
     "output_type": "stream",
     "text": [
      "  ❌ Error updating post l74lf7: 'Redditor' object has no attribute 'id'\n"
     ]
    },
    {
     "name": "stderr",
     "output_type": "stream",
     "text": [
      "Updating authors:   3%|▎         | 3/100 [00:04<02:32,  1.58s/it]"
     ]
    },
    {
     "name": "stdout",
     "output_type": "stream",
     "text": [
      "  ❌ Error updating post l74lcu: 'Redditor' object has no attribute 'id'\n"
     ]
    },
    {
     "name": "stderr",
     "output_type": "stream",
     "text": [
      "Updating authors:  10%|█         | 10/100 [00:16<02:27,  1.63s/it]"
     ]
    },
    {
     "name": "stdout",
     "output_type": "stream",
     "text": [
      "  ❌ Error updating post l74l4h: 'Redditor' object has no attribute 'id'\n"
     ]
    },
    {
     "name": "stderr",
     "output_type": "stream",
     "text": [
      "Updating authors:  54%|█████▍    | 54/100 [01:32<01:19,  1.72s/it]"
     ]
    },
    {
     "name": "stdout",
     "output_type": "stream",
     "text": [
      "  ❌ Error updating post l74gcd: 'Redditor' object has no attribute 'id'\n"
     ]
    },
    {
     "name": "stderr",
     "output_type": "stream",
     "text": [
      "Updating authors:  83%|████████▎ | 83/100 [02:43<00:37,  2.20s/it]"
     ]
    },
    {
     "name": "stdout",
     "output_type": "stream",
     "text": [
      "  ❌ Error updating post l76zan: 'Redditor' object has no attribute 'id'\n"
     ]
    },
    {
     "name": "stderr",
     "output_type": "stream",
     "text": [
      "Updating authors: 100%|██████████| 100/100 [03:32<00:00,  2.12s/it]\n"
     ]
    },
    {
     "name": "stdout",
     "output_type": "stream",
     "text": [
      "Progress: 15,358/53,187 (28.9%)\n",
      "Success rate: 15358/15900 (96.6%)\n",
      "Posts per minute: 30.4\n",
      "Taking a 30-second break between batches...\n",
      "\n",
      "Processing batch 160/532\n"
     ]
    },
    {
     "name": "stderr",
     "output_type": "stream",
     "text": [
      "Updating authors:  12%|█▏        | 12/100 [00:31<04:18,  2.94s/it]"
     ]
    },
    {
     "name": "stdout",
     "output_type": "stream",
     "text": [
      "  ❌ Error updating post l77imc: 'Redditor' object has no attribute 'id'\n"
     ]
    },
    {
     "name": "stderr",
     "output_type": "stream",
     "text": [
      "Updating authors:  20%|██        | 20/100 [00:58<04:13,  3.16s/it]"
     ]
    },
    {
     "name": "stdout",
     "output_type": "stream",
     "text": [
      "  ❌ Error updating post l77teq: 'Redditor' object has no attribute 'id'\n"
     ]
    },
    {
     "name": "stderr",
     "output_type": "stream",
     "text": [
      "Updating authors:  62%|██████▏   | 62/100 [02:27<01:20,  2.12s/it]"
     ]
    },
    {
     "name": "stdout",
     "output_type": "stream",
     "text": [
      "  ❌ Error updating post l7kihp: 'Redditor' object has no attribute 'id'\n"
     ]
    },
    {
     "name": "stderr",
     "output_type": "stream",
     "text": [
      "Updating authors:  64%|██████▍   | 64/100 [02:31<01:17,  2.15s/it]"
     ]
    },
    {
     "name": "stdout",
     "output_type": "stream",
     "text": [
      "  ❌ Error updating post l7k3y7: 'Redditor' object has no attribute 'id'\n"
     ]
    },
    {
     "name": "stderr",
     "output_type": "stream",
     "text": [
      "Updating authors:  75%|███████▌  | 75/100 [02:56<00:59,  2.39s/it]"
     ]
    },
    {
     "name": "stdout",
     "output_type": "stream",
     "text": [
      "  ❌ Error updating post l785ls: 'Redditor' object has no attribute 'id'\n"
     ]
    },
    {
     "name": "stderr",
     "output_type": "stream",
     "text": [
      "Updating authors:  81%|████████  | 81/100 [03:12<00:46,  2.45s/it]"
     ]
    },
    {
     "name": "stdout",
     "output_type": "stream",
     "text": [
      "  ❌ Error updating post l783lc: 'Redditor' object has no attribute 'id'\n"
     ]
    },
    {
     "name": "stderr",
     "output_type": "stream",
     "text": [
      "Updating authors:  88%|████████▊ | 88/100 [03:31<00:30,  2.58s/it]"
     ]
    },
    {
     "name": "stdout",
     "output_type": "stream",
     "text": [
      "  ❌ Error updating post l78n5c: 'Redditor' object has no attribute 'id'\n"
     ]
    },
    {
     "name": "stderr",
     "output_type": "stream",
     "text": [
      "Updating authors: 100%|██████████| 100/100 [04:05<00:00,  2.46s/it]\n"
     ]
    },
    {
     "name": "stdout",
     "output_type": "stream",
     "text": [
      "Progress: 15,451/53,187 (29.1%)\n",
      "Success rate: 15451/16000 (96.6%)\n",
      "Posts per minute: 30.3\n",
      "Taking a 30-second break between batches...\n",
      "\n",
      "Processing batch 161/532\n"
     ]
    },
    {
     "name": "stderr",
     "output_type": "stream",
     "text": [
      "Updating authors:  31%|███       | 31/100 [01:29<02:51,  2.49s/it]"
     ]
    },
    {
     "name": "stdout",
     "output_type": "stream",
     "text": [
      "  ❌ Error updating post l794pp: 'Redditor' object has no attribute 'id'\n"
     ]
    },
    {
     "name": "stderr",
     "output_type": "stream",
     "text": [
      "Updating authors:  57%|█████▋    | 57/100 [02:32<01:41,  2.36s/it]"
     ]
    },
    {
     "name": "stdout",
     "output_type": "stream",
     "text": [
      "  ❌ Error updating post l7jkhk: 'Redditor' object has no attribute 'id'\n"
     ]
    },
    {
     "name": "stderr",
     "output_type": "stream",
     "text": [
      "Updating authors:  63%|██████▎   | 63/100 [02:49<01:42,  2.78s/it]"
     ]
    },
    {
     "name": "stdout",
     "output_type": "stream",
     "text": [
      "  ❌ Error updating post l7jf8c: 'Redditor' object has no attribute 'id'\n"
     ]
    },
    {
     "name": "stderr",
     "output_type": "stream",
     "text": [
      "Updating authors:  68%|██████▊   | 68/100 [03:08<01:56,  3.64s/it]"
     ]
    },
    {
     "name": "stdout",
     "output_type": "stream",
     "text": [
      "  ❌ Error updating post l7jd6z: 'Redditor' object has no attribute 'id'\n"
     ]
    },
    {
     "name": "stderr",
     "output_type": "stream",
     "text": [
      "Updating authors:  88%|████████▊ | 88/100 [03:52<00:27,  2.26s/it]"
     ]
    },
    {
     "name": "stdout",
     "output_type": "stream",
     "text": [
      "  ❌ Error updating post l7j0js: received 404 HTTP response\n"
     ]
    },
    {
     "name": "stderr",
     "output_type": "stream",
     "text": [
      "Updating authors:  99%|█████████▉| 99/100 [04:21<00:02,  2.28s/it]"
     ]
    },
    {
     "name": "stdout",
     "output_type": "stream",
     "text": [
      "  ❌ Error updating post l7iq20: 'Redditor' object has no attribute 'id'\n"
     ]
    },
    {
     "name": "stderr",
     "output_type": "stream",
     "text": [
      "Updating authors: 100%|██████████| 100/100 [04:23<00:00,  2.63s/it]\n"
     ]
    },
    {
     "name": "stdout",
     "output_type": "stream",
     "text": [
      "Progress: 15,545/53,187 (29.2%)\n",
      "Success rate: 15545/16100 (96.6%)\n",
      "Posts per minute: 30.2\n",
      "Taking a 30-second break between batches...\n",
      "\n",
      "Processing batch 162/532\n"
     ]
    },
    {
     "name": "stderr",
     "output_type": "stream",
     "text": [
      "Updating authors:  35%|███▌      | 35/100 [01:27<02:49,  2.61s/it]"
     ]
    },
    {
     "name": "stdout",
     "output_type": "stream",
     "text": [
      "  ❌ Error updating post l7hpaj: 'Redditor' object has no attribute 'id'\n"
     ]
    },
    {
     "name": "stderr",
     "output_type": "stream",
     "text": [
      "Updating authors:  37%|███▋      | 37/100 [01:31<02:27,  2.35s/it]"
     ]
    },
    {
     "name": "stdout",
     "output_type": "stream",
     "text": [
      "  ❌ Error updating post l7hkww: 'Redditor' object has no attribute 'id'\n"
     ]
    },
    {
     "name": "stderr",
     "output_type": "stream",
     "text": [
      "Updating authors:  40%|████      | 40/100 [01:38<02:15,  2.25s/it]"
     ]
    },
    {
     "name": "stdout",
     "output_type": "stream",
     "text": [
      "  ❌ Error updating post l7hh6h: 'Redditor' object has no attribute 'id'\n"
     ]
    },
    {
     "name": "stderr",
     "output_type": "stream",
     "text": [
      "Updating authors:  53%|█████▎    | 53/100 [02:19<02:10,  2.77s/it]"
     ]
    },
    {
     "name": "stdout",
     "output_type": "stream",
     "text": [
      "  ❌ Error updating post l7h07m: 'Redditor' object has no attribute 'id'\n"
     ]
    },
    {
     "name": "stderr",
     "output_type": "stream",
     "text": [
      "Updating authors:  73%|███████▎  | 73/100 [03:06<00:58,  2.17s/it]"
     ]
    },
    {
     "name": "stdout",
     "output_type": "stream",
     "text": [
      "  ❌ Error updating post l7gkyu: 'Redditor' object has no attribute 'id'\n"
     ]
    },
    {
     "name": "stderr",
     "output_type": "stream",
     "text": [
      "Updating authors:  77%|███████▋  | 77/100 [03:16<00:56,  2.46s/it]"
     ]
    },
    {
     "name": "stdout",
     "output_type": "stream",
     "text": [
      "  ❌ Error updating post l7gejm: 'Redditor' object has no attribute 'id'\n"
     ]
    },
    {
     "name": "stderr",
     "output_type": "stream",
     "text": [
      "Updating authors: 100%|██████████| 100/100 [04:13<00:00,  2.54s/it]\n"
     ]
    },
    {
     "name": "stdout",
     "output_type": "stream",
     "text": [
      "Progress: 15,639/53,187 (29.4%)\n",
      "Success rate: 15639/16200 (96.5%)\n",
      "Posts per minute: 30.1\n",
      "Taking a 30-second break between batches...\n",
      "\n",
      "Processing batch 163/532\n"
     ]
    },
    {
     "name": "stderr",
     "output_type": "stream",
     "text": [
      "Updating authors:   7%|▋         | 7/100 [00:17<03:33,  2.29s/it]"
     ]
    },
    {
     "name": "stdout",
     "output_type": "stream",
     "text": [
      "  ❌ Error updating post l7fr21: 'Redditor' object has no attribute 'id'\n"
     ]
    },
    {
     "name": "stderr",
     "output_type": "stream",
     "text": [
      "Updating authors:  41%|████      | 41/100 [01:39<02:25,  2.47s/it]"
     ]
    },
    {
     "name": "stdout",
     "output_type": "stream",
     "text": [
      "  ❌ Error updating post l7ey03: 'Redditor' object has no attribute 'id'\n"
     ]
    },
    {
     "name": "stderr",
     "output_type": "stream",
     "text": [
      "Updating authors:  48%|████▊     | 48/100 [01:56<02:11,  2.53s/it]"
     ]
    },
    {
     "name": "stdout",
     "output_type": "stream",
     "text": [
      "  ❌ Error updating post l7eq9p: 'Redditor' object has no attribute 'id'\n"
     ]
    },
    {
     "name": "stderr",
     "output_type": "stream",
     "text": [
      "Updating authors:  65%|██████▌   | 65/100 [02:41<01:30,  2.59s/it]"
     ]
    },
    {
     "name": "stdout",
     "output_type": "stream",
     "text": [
      "  ❌ Error updating post l7ebug: 'Redditor' object has no attribute 'id'\n"
     ]
    },
    {
     "name": "stderr",
     "output_type": "stream",
     "text": [
      "Updating authors:  68%|██████▊   | 68/100 [02:47<01:06,  2.09s/it]"
     ]
    },
    {
     "name": "stdout",
     "output_type": "stream",
     "text": [
      "  ❌ Error updating post l7e9gf: 'Redditor' object has no attribute 'id'\n"
     ]
    },
    {
     "name": "stderr",
     "output_type": "stream",
     "text": [
      "Updating authors:  85%|████████▌ | 85/100 [03:30<00:42,  2.80s/it]"
     ]
    },
    {
     "name": "stdout",
     "output_type": "stream",
     "text": [
      "  ❌ Error updating post l7dxxg: 'Redditor' object has no attribute 'id'\n"
     ]
    },
    {
     "name": "stderr",
     "output_type": "stream",
     "text": [
      "Updating authors: 100%|██████████| 100/100 [04:06<00:00,  2.47s/it]\n"
     ]
    },
    {
     "name": "stdout",
     "output_type": "stream",
     "text": [
      "Progress: 15,733/53,187 (29.6%)\n",
      "Success rate: 15733/16300 (96.5%)\n",
      "Posts per minute: 30.0\n",
      "Taking a 30-second break between batches...\n",
      "\n",
      "Processing batch 164/532\n"
     ]
    },
    {
     "name": "stderr",
     "output_type": "stream",
     "text": [
      "Updating authors:   9%|▉         | 9/100 [00:21<03:36,  2.38s/it]"
     ]
    },
    {
     "name": "stdout",
     "output_type": "stream",
     "text": [
      "  ❌ Error updating post l7dg1g: 'Redditor' object has no attribute 'id'\n"
     ]
    },
    {
     "name": "stderr",
     "output_type": "stream",
     "text": [
      "Updating authors:  17%|█▋        | 17/100 [00:44<03:15,  2.35s/it]"
     ]
    },
    {
     "name": "stdout",
     "output_type": "stream",
     "text": [
      "  ❌ Error updating post l7d5e4: 'Redditor' object has no attribute 'id'\n"
     ]
    },
    {
     "name": "stderr",
     "output_type": "stream",
     "text": [
      "Updating authors:  51%|█████     | 51/100 [02:00<01:52,  2.30s/it]"
     ]
    },
    {
     "name": "stdout",
     "output_type": "stream",
     "text": [
      "  ❌ Error updating post l7cfn4: 'Redditor' object has no attribute 'id'\n"
     ]
    },
    {
     "name": "stderr",
     "output_type": "stream",
     "text": [
      "Updating authors:  78%|███████▊  | 78/100 [03:00<00:43,  1.98s/it]"
     ]
    },
    {
     "name": "stdout",
     "output_type": "stream",
     "text": [
      "  ❌ Error updating post l7by93: 'Redditor' object has no attribute 'id'\n"
     ]
    },
    {
     "name": "stderr",
     "output_type": "stream",
     "text": [
      "Updating authors:  94%|█████████▍| 94/100 [03:36<00:12,  2.12s/it]"
     ]
    },
    {
     "name": "stdout",
     "output_type": "stream",
     "text": [
      "  ❌ Error updating post l7bj1l: 'Redditor' object has no attribute 'id'\n"
     ]
    },
    {
     "name": "stderr",
     "output_type": "stream",
     "text": [
      "Updating authors:  99%|█████████▉| 99/100 [03:48<00:02,  2.58s/it]"
     ]
    },
    {
     "name": "stdout",
     "output_type": "stream",
     "text": [
      "  ❌ Error updating post l7bfh2: 'Redditor' object has no attribute 'id'\n"
     ]
    },
    {
     "name": "stderr",
     "output_type": "stream",
     "text": [
      "Updating authors: 100%|██████████| 100/100 [03:53<00:00,  2.33s/it]\n"
     ]
    },
    {
     "name": "stdout",
     "output_type": "stream",
     "text": [
      "Progress: 15,827/53,187 (29.8%)\n",
      "Success rate: 15827/16400 (96.5%)\n",
      "Posts per minute: 30.0\n",
      "Taking a 30-second break between batches...\n",
      "\n",
      "Processing batch 165/532\n"
     ]
    },
    {
     "name": "stderr",
     "output_type": "stream",
     "text": [
      "Updating authors:  27%|██▋       | 27/100 [00:57<02:37,  2.16s/it]"
     ]
    },
    {
     "name": "stdout",
     "output_type": "stream",
     "text": [
      "  ❌ Error updating post l7b36d: received 404 HTTP response\n"
     ]
    },
    {
     "name": "stderr",
     "output_type": "stream",
     "text": [
      "Updating authors:  39%|███▉      | 39/100 [01:25<02:03,  2.03s/it]"
     ]
    },
    {
     "name": "stdout",
     "output_type": "stream",
     "text": [
      "  ❌ Error updating post l7azc0: 'Redditor' object has no attribute 'id'\n"
     ]
    },
    {
     "name": "stderr",
     "output_type": "stream",
     "text": [
      "Updating authors:  41%|████      | 41/100 [01:29<01:51,  1.89s/it]"
     ]
    },
    {
     "name": "stdout",
     "output_type": "stream",
     "text": [
      "  ❌ Error updating post l7aw89: 'Redditor' object has no attribute 'id'\n"
     ]
    },
    {
     "name": "stderr",
     "output_type": "stream",
     "text": [
      "Updating authors: 100%|██████████| 100/100 [03:38<00:00,  2.19s/it]\n"
     ]
    },
    {
     "name": "stdout",
     "output_type": "stream",
     "text": [
      "Progress: 15,924/53,187 (29.9%)\n",
      "Success rate: 15924/16500 (96.5%)\n",
      "Posts per minute: 29.9\n",
      "Taking a 30-second break between batches...\n",
      "\n",
      "Processing batch 166/532\n"
     ]
    },
    {
     "name": "stderr",
     "output_type": "stream",
     "text": [
      "Updating authors:   1%|          | 1/100 [00:01<02:51,  1.73s/it]"
     ]
    },
    {
     "name": "stdout",
     "output_type": "stream",
     "text": [
      "  ❌ Error updating post l7a5sb: 'Redditor' object has no attribute 'id'\n"
     ]
    },
    {
     "name": "stderr",
     "output_type": "stream",
     "text": [
      "Updating authors:  11%|█         | 11/100 [00:21<02:55,  1.97s/it]"
     ]
    },
    {
     "name": "stdout",
     "output_type": "stream",
     "text": [
      "  ❌ Error updating post l7a1j3: 'Redditor' object has no attribute 'id'\n"
     ]
    },
    {
     "name": "stderr",
     "output_type": "stream",
     "text": [
      "Updating authors: 100%|██████████| 100/100 [03:25<00:00,  2.05s/it]\n"
     ]
    },
    {
     "name": "stdout",
     "output_type": "stream",
     "text": [
      "Progress: 16,022/53,187 (30.1%)\n",
      "Success rate: 16022/16600 (96.5%)\n",
      "Posts per minute: 29.9\n",
      "Taking a 30-second break between batches...\n",
      "\n",
      "Processing batch 167/532\n"
     ]
    },
    {
     "name": "stderr",
     "output_type": "stream",
     "text": [
      "Updating authors:   1%|          | 1/100 [00:05<08:30,  5.16s/it]"
     ]
    },
    {
     "name": "stdout",
     "output_type": "stream",
     "text": [
      "  ❌ Error updating post l7klva: 'Redditor' object has no attribute 'id'\n"
     ]
    },
    {
     "name": "stderr",
     "output_type": "stream",
     "text": [
      "Updating authors:  27%|██▋       | 27/100 [01:07<02:08,  1.76s/it]"
     ]
    },
    {
     "name": "stdout",
     "output_type": "stream",
     "text": [
      "  ❌ Error updating post l7l2tb: 'Redditor' object has no attribute 'id'\n"
     ]
    },
    {
     "name": "stderr",
     "output_type": "stream",
     "text": [
      "Updating authors:  55%|█████▌    | 55/100 [02:00<01:27,  1.95s/it]"
     ]
    },
    {
     "name": "stdout",
     "output_type": "stream",
     "text": [
      "  ❌ Error updating post l7loai: 'Redditor' object has no attribute 'id'\n"
     ]
    },
    {
     "name": "stderr",
     "output_type": "stream",
     "text": [
      "Updating authors:  60%|██████    | 60/100 [02:13<01:31,  2.28s/it]"
     ]
    },
    {
     "name": "stdout",
     "output_type": "stream",
     "text": [
      "  ❌ Error updating post l7laa8: 'Redditor' object has no attribute 'id'\n"
     ]
    },
    {
     "name": "stderr",
     "output_type": "stream",
     "text": [
      "Updating authors:  84%|████████▍ | 84/100 [03:06<00:37,  2.34s/it]"
     ]
    },
    {
     "name": "stdout",
     "output_type": "stream",
     "text": [
      "  ❌ Error updating post l7m3y5: 'Redditor' object has no attribute 'id'\n"
     ]
    },
    {
     "name": "stderr",
     "output_type": "stream",
     "text": [
      "Updating authors:  85%|████████▌ | 85/100 [03:08<00:33,  2.22s/it]"
     ]
    },
    {
     "name": "stdout",
     "output_type": "stream",
     "text": [
      "  ❌ Error updating post l7m2g1: 'Redditor' object has no attribute 'id'\n"
     ]
    },
    {
     "name": "stderr",
     "output_type": "stream",
     "text": [
      "Updating authors:  90%|█████████ | 90/100 [03:21<00:26,  2.70s/it]"
     ]
    },
    {
     "name": "stdout",
     "output_type": "stream",
     "text": [
      "  ❌ Error updating post l7lwcl: 'Redditor' object has no attribute 'id'\n"
     ]
    },
    {
     "name": "stderr",
     "output_type": "stream",
     "text": [
      "Updating authors: 100%|██████████| 100/100 [03:44<00:00,  2.24s/it]\n"
     ]
    },
    {
     "name": "stdout",
     "output_type": "stream",
     "text": [
      "Progress: 16,115/53,187 (30.3%)\n",
      "Success rate: 16115/16700 (96.5%)\n",
      "Posts per minute: 29.8\n",
      "Taking a 30-second break between batches...\n",
      "\n",
      "Processing batch 168/532\n"
     ]
    },
    {
     "name": "stderr",
     "output_type": "stream",
     "text": [
      "Updating authors:  13%|█▎        | 13/100 [00:25<02:28,  1.71s/it]"
     ]
    },
    {
     "name": "stdout",
     "output_type": "stream",
     "text": [
      "  ❌ Error updating post l7vdpn: 'Redditor' object has no attribute 'id'\n"
     ]
    },
    {
     "name": "stderr",
     "output_type": "stream",
     "text": [
      "Updating authors:  16%|█▌        | 16/100 [00:34<03:51,  2.76s/it]"
     ]
    },
    {
     "name": "stdout",
     "output_type": "stream",
     "text": [
      "  ❌ Error updating post l7txr5: 'Redditor' object has no attribute 'id'\n"
     ]
    },
    {
     "name": "stderr",
     "output_type": "stream",
     "text": [
      "Updating authors:  26%|██▌       | 26/100 [00:55<02:31,  2.04s/it]"
     ]
    },
    {
     "name": "stdout",
     "output_type": "stream",
     "text": [
      "  ❌ Error updating post l7my7b: 'Redditor' object has no attribute 'id'\n"
     ]
    },
    {
     "name": "stderr",
     "output_type": "stream",
     "text": [
      "Updating authors:  38%|███▊      | 38/100 [01:28<03:14,  3.14s/it]"
     ]
    },
    {
     "name": "stdout",
     "output_type": "stream",
     "text": [
      "  ❌ Error updating post l7nbat: 'Redditor' object has no attribute 'id'\n"
     ]
    },
    {
     "name": "stderr",
     "output_type": "stream",
     "text": [
      "Updating authors:  43%|████▎     | 43/100 [01:38<02:17,  2.42s/it]"
     ]
    },
    {
     "name": "stdout",
     "output_type": "stream",
     "text": [
      "  ❌ Error updating post l7n4wc: 'Redditor' object has no attribute 'id'\n"
     ]
    },
    {
     "name": "stderr",
     "output_type": "stream",
     "text": [
      "Updating authors:  44%|████▍     | 44/100 [01:40<02:03,  2.20s/it]"
     ]
    },
    {
     "name": "stdout",
     "output_type": "stream",
     "text": [
      "  ❌ Error updating post l7n3lk: 'Redditor' object has no attribute 'id'\n"
     ]
    },
    {
     "name": "stderr",
     "output_type": "stream",
     "text": [
      "Updating authors:  48%|████▊     | 48/100 [01:48<01:43,  1.98s/it]"
     ]
    },
    {
     "name": "stdout",
     "output_type": "stream",
     "text": [
      "  ❌ Error updating post l7nukf: 'Redditor' object has no attribute 'id'\n"
     ]
    },
    {
     "name": "stderr",
     "output_type": "stream",
     "text": [
      "Updating authors:  91%|█████████ | 91/100 [03:29<00:18,  2.06s/it]"
     ]
    },
    {
     "name": "stdout",
     "output_type": "stream",
     "text": [
      "  ❌ Error updating post l7vltv: 'Redditor' object has no attribute 'id'\n"
     ]
    },
    {
     "name": "stderr",
     "output_type": "stream",
     "text": [
      "Updating authors: 100%|██████████| 100/100 [03:48<00:00,  2.28s/it]\n"
     ]
    },
    {
     "name": "stdout",
     "output_type": "stream",
     "text": [
      "Progress: 16,207/53,187 (30.5%)\n",
      "Success rate: 16207/16800 (96.5%)\n",
      "Posts per minute: 29.8\n",
      "Taking a 30-second break between batches...\n",
      "\n",
      "Processing batch 169/532\n"
     ]
    },
    {
     "name": "stderr",
     "output_type": "stream",
     "text": [
      "Updating authors:  39%|███▉      | 39/100 [01:20<01:47,  1.76s/it]"
     ]
    },
    {
     "name": "stdout",
     "output_type": "stream",
     "text": [
      "  ❌ Error updating post l7uwv6: 'Redditor' object has no attribute 'id'\n"
     ]
    },
    {
     "name": "stderr",
     "output_type": "stream",
     "text": [
      "Updating authors: 100%|██████████| 100/100 [03:02<00:00,  1.82s/it]\n"
     ]
    },
    {
     "name": "stdout",
     "output_type": "stream",
     "text": [
      "Progress: 16,306/53,187 (30.7%)\n",
      "Success rate: 16306/16900 (96.5%)\n",
      "Posts per minute: 29.7\n",
      "Taking a 30-second break between batches...\n",
      "\n",
      "Processing batch 170/532\n"
     ]
    },
    {
     "name": "stderr",
     "output_type": "stream",
     "text": [
      "Updating authors:   0%|          | 0/100 [00:00<?, ?it/s]"
     ]
    },
    {
     "name": "stdout",
     "output_type": "stream",
     "text": [
      "  ❌ Error updating post l7ur2s: 'Redditor' object has no attribute 'id'\n"
     ]
    },
    {
     "name": "stderr",
     "output_type": "stream",
     "text": [
      "Updating authors:   4%|▍         | 4/100 [00:08<04:00,  2.51s/it]"
     ]
    },
    {
     "name": "stdout",
     "output_type": "stream",
     "text": [
      "  ❌ Error updating post l7unf9: 'Redditor' object has no attribute 'id'\n"
     ]
    },
    {
     "name": "stderr",
     "output_type": "stream",
     "text": [
      "Updating authors:  68%|██████▊   | 68/100 [02:02<00:55,  1.74s/it]"
     ]
    },
    {
     "name": "stdout",
     "output_type": "stream",
     "text": [
      "  ❌ Error updating post l7u654: 'Redditor' object has no attribute 'id'\n"
     ]
    },
    {
     "name": "stderr",
     "output_type": "stream",
     "text": [
      "Updating authors:  89%|████████▉ | 89/100 [02:42<00:20,  1.87s/it]"
     ]
    },
    {
     "name": "stdout",
     "output_type": "stream",
     "text": [
      "  ❌ Error updating post l7u2dh: 'Redditor' object has no attribute 'id'\n"
     ]
    },
    {
     "name": "stderr",
     "output_type": "stream",
     "text": [
      "Updating authors: 100%|██████████| 100/100 [03:05<00:00,  1.86s/it]\n"
     ]
    },
    {
     "name": "stdout",
     "output_type": "stream",
     "text": [
      "Progress: 16,402/53,187 (30.8%)\n",
      "Success rate: 16402/17000 (96.5%)\n",
      "Posts per minute: 29.7\n",
      "Taking a 30-second break between batches...\n",
      "\n",
      "Processing batch 171/532\n"
     ]
    },
    {
     "name": "stderr",
     "output_type": "stream",
     "text": [
      "Updating authors:   2%|▏         | 2/100 [00:04<03:16,  2.01s/it]"
     ]
    },
    {
     "name": "stdout",
     "output_type": "stream",
     "text": [
      "  ❌ Error updating post l7sjdx: 'Redditor' object has no attribute 'id'\n"
     ]
    },
    {
     "name": "stderr",
     "output_type": "stream",
     "text": [
      "Updating authors:  12%|█▏        | 12/100 [00:34<05:39,  3.85s/it]"
     ]
    },
    {
     "name": "stdout",
     "output_type": "stream",
     "text": [
      "  ❌ Error updating post l7s5ww: 'Redditor' object has no attribute 'id'\n"
     ]
    },
    {
     "name": "stderr",
     "output_type": "stream",
     "text": [
      "Updating authors:  24%|██▍       | 24/100 [00:58<02:47,  2.21s/it]"
     ]
    },
    {
     "name": "stdout",
     "output_type": "stream",
     "text": [
      "  ❌ Error updating post l7rx75: 'Redditor' object has no attribute 'id'\n"
     ]
    },
    {
     "name": "stderr",
     "output_type": "stream",
     "text": [
      "Updating authors:  25%|██▌       | 25/100 [01:00<02:36,  2.09s/it]"
     ]
    },
    {
     "name": "stdout",
     "output_type": "stream",
     "text": [
      "  ❌ Error updating post l7rwto: 'Redditor' object has no attribute 'id'\n"
     ]
    },
    {
     "name": "stderr",
     "output_type": "stream",
     "text": [
      "Updating authors:  27%|██▋       | 27/100 [01:03<02:16,  1.87s/it]"
     ]
    },
    {
     "name": "stdout",
     "output_type": "stream",
     "text": [
      "  ❌ Error updating post l7rvtj: 'Redditor' object has no attribute 'id'\n"
     ]
    },
    {
     "name": "stderr",
     "output_type": "stream",
     "text": [
      "Updating authors:  41%|████      | 41/100 [01:37<02:46,  2.82s/it]"
     ]
    },
    {
     "name": "stdout",
     "output_type": "stream",
     "text": [
      "  ❌ Error updating post l7rg23: 'Redditor' object has no attribute 'id'\n"
     ]
    },
    {
     "name": "stderr",
     "output_type": "stream",
     "text": [
      "Updating authors:  51%|█████     | 51/100 [02:03<02:07,  2.59s/it]"
     ]
    },
    {
     "name": "stdout",
     "output_type": "stream",
     "text": [
      "  ❌ Error updating post l7r7pr: 'Redditor' object has no attribute 'id'\n"
     ]
    },
    {
     "name": "stderr",
     "output_type": "stream",
     "text": [
      "Updating authors:  76%|███████▌  | 76/100 [03:06<00:49,  2.07s/it]"
     ]
    },
    {
     "name": "stdout",
     "output_type": "stream",
     "text": [
      "  ❌ Error updating post l7qi21: 'Redditor' object has no attribute 'id'\n"
     ]
    },
    {
     "name": "stderr",
     "output_type": "stream",
     "text": [
      "Updating authors:  87%|████████▋ | 87/100 [03:35<00:38,  2.93s/it]"
     ]
    },
    {
     "name": "stdout",
     "output_type": "stream",
     "text": [
      "  ❌ Error updating post l7q1et: 'Redditor' object has no attribute 'id'\n"
     ]
    },
    {
     "name": "stderr",
     "output_type": "stream",
     "text": [
      "Updating authors:  90%|█████████ | 90/100 [03:44<00:29,  2.93s/it]"
     ]
    },
    {
     "name": "stdout",
     "output_type": "stream",
     "text": [
      "  ❌ Error updating post l7q0s3: 'Redditor' object has no attribute 'id'\n"
     ]
    },
    {
     "name": "stderr",
     "output_type": "stream",
     "text": [
      "Updating authors:  92%|█████████▏| 92/100 [03:48<00:19,  2.39s/it]"
     ]
    },
    {
     "name": "stdout",
     "output_type": "stream",
     "text": [
      "  ❌ Error updating post l7pyef: 'Redditor' object has no attribute 'id'\n"
     ]
    },
    {
     "name": "stderr",
     "output_type": "stream",
     "text": [
      "Updating authors: 100%|██████████| 100/100 [04:10<00:00,  2.50s/it]\n"
     ]
    },
    {
     "name": "stdout",
     "output_type": "stream",
     "text": [
      "Progress: 16,491/53,187 (31.0%)\n",
      "Success rate: 16491/17100 (96.4%)\n",
      "Posts per minute: 29.6\n",
      "Taking a 30-second break between batches...\n",
      "\n",
      "Processing batch 172/532\n"
     ]
    },
    {
     "name": "stderr",
     "output_type": "stream",
     "text": [
      "Updating authors:   3%|▎         | 3/100 [00:07<03:48,  2.36s/it]"
     ]
    },
    {
     "name": "stdout",
     "output_type": "stream",
     "text": [
      "  ❌ Error updating post l7pars: 'Redditor' object has no attribute 'id'\n"
     ]
    },
    {
     "name": "stderr",
     "output_type": "stream",
     "text": [
      "Updating authors:   9%|▉         | 9/100 [00:23<03:51,  2.55s/it]"
     ]
    },
    {
     "name": "stdout",
     "output_type": "stream",
     "text": [
      "  ❌ Error updating post l7p7k6: 'Redditor' object has no attribute 'id'\n"
     ]
    },
    {
     "name": "stderr",
     "output_type": "stream",
     "text": [
      "Updating authors:  16%|█▌        | 16/100 [00:38<03:06,  2.22s/it]"
     ]
    },
    {
     "name": "stdout",
     "output_type": "stream",
     "text": [
      "  ❌ Error updating post l7ozjm: 'Redditor' object has no attribute 'id'\n"
     ]
    },
    {
     "name": "stderr",
     "output_type": "stream",
     "text": [
      "Updating authors:  17%|█▋        | 17/100 [00:40<02:53,  2.10s/it]"
     ]
    },
    {
     "name": "stdout",
     "output_type": "stream",
     "text": [
      "  ❌ Error updating post l7oz28: received 404 HTTP response\n"
     ]
    },
    {
     "name": "stderr",
     "output_type": "stream",
     "text": [
      "Updating authors:  20%|██        | 20/100 [00:46<02:49,  2.11s/it]"
     ]
    },
    {
     "name": "stdout",
     "output_type": "stream",
     "text": [
      "  ❌ Error updating post l7ovnv: 'Redditor' object has no attribute 'id'\n"
     ]
    },
    {
     "name": "stderr",
     "output_type": "stream",
     "text": [
      "Updating authors:  34%|███▍      | 34/100 [01:23<02:35,  2.36s/it]"
     ]
    },
    {
     "name": "stdout",
     "output_type": "stream",
     "text": [
      "  ❌ Error updating post l7ol9p: 'Redditor' object has no attribute 'id'\n"
     ]
    },
    {
     "name": "stderr",
     "output_type": "stream",
     "text": [
      "Updating authors:  40%|████      | 40/100 [01:37<02:25,  2.42s/it]"
     ]
    },
    {
     "name": "stdout",
     "output_type": "stream",
     "text": [
      "  ❌ Error updating post l7ofzv: 'Redditor' object has no attribute 'id'\n"
     ]
    },
    {
     "name": "stderr",
     "output_type": "stream",
     "text": [
      "Updating authors:  57%|█████▋    | 57/100 [02:12<01:54,  2.65s/it]"
     ]
    },
    {
     "name": "stdout",
     "output_type": "stream",
     "text": [
      "  ❌ Error updating post l7nzph: 'Redditor' object has no attribute 'id'\n"
     ]
    },
    {
     "name": "stderr",
     "output_type": "stream",
     "text": [
      "Updating authors:  66%|██████▌   | 66/100 [02:32<01:19,  2.33s/it]"
     ]
    },
    {
     "name": "stdout",
     "output_type": "stream",
     "text": [
      "  ❌ Error updating post l845gk: 'Redditor' object has no attribute 'id'\n"
     ]
    },
    {
     "name": "stderr",
     "output_type": "stream",
     "text": [
      "Updating authors:  69%|██████▉   | 69/100 [02:43<01:35,  3.09s/it]"
     ]
    },
    {
     "name": "stdout",
     "output_type": "stream",
     "text": [
      "  ❌ Error updating post l83yen: 'Redditor' object has no attribute 'id'\n"
     ]
    },
    {
     "name": "stderr",
     "output_type": "stream",
     "text": [
      "Updating authors:  72%|███████▏  | 72/100 [02:49<01:04,  2.30s/it]"
     ]
    },
    {
     "name": "stdout",
     "output_type": "stream",
     "text": [
      "  ❌ Error updating post l83no1: 'Redditor' object has no attribute 'id'\n"
     ]
    },
    {
     "name": "stderr",
     "output_type": "stream",
     "text": [
      "Updating authors:  86%|████████▌ | 86/100 [03:25<00:38,  2.73s/it]"
     ]
    },
    {
     "name": "stdout",
     "output_type": "stream",
     "text": [
      "  ❌ Error updating post l7yi1s: 'Redditor' object has no attribute 'id'\n"
     ]
    },
    {
     "name": "stderr",
     "output_type": "stream",
     "text": [
      "Updating authors: 100%|██████████| 100/100 [03:56<00:00,  2.36s/it]\n"
     ]
    },
    {
     "name": "stdout",
     "output_type": "stream",
     "text": [
      "Progress: 16,579/53,187 (31.2%)\n",
      "Success rate: 16579/17200 (96.4%)\n",
      "Posts per minute: 29.6\n",
      "Taking a 30-second break between batches...\n",
      "\n",
      "Processing batch 173/532\n"
     ]
    },
    {
     "name": "stderr",
     "output_type": "stream",
     "text": [
      "Updating authors:  50%|█████     | 50/100 [02:06<02:54,  3.48s/it]"
     ]
    },
    {
     "name": "stdout",
     "output_type": "stream",
     "text": [
      "  ❌ Error updating post l7wpf1: 'Redditor' object has no attribute 'id'\n"
     ]
    },
    {
     "name": "stderr",
     "output_type": "stream",
     "text": [
      "Updating authors:  53%|█████▎    | 53/100 [02:11<01:44,  2.23s/it]"
     ]
    },
    {
     "name": "stdout",
     "output_type": "stream",
     "text": [
      "  ❌ Error updating post l7wnt0: 'Redditor' object has no attribute 'id'\n"
     ]
    },
    {
     "name": "stderr",
     "output_type": "stream",
     "text": [
      "Updating authors:  72%|███████▏  | 72/100 [02:56<00:54,  1.93s/it]"
     ]
    },
    {
     "name": "stdout",
     "output_type": "stream",
     "text": [
      "  ❌ Error updating post l7w5r5: 'Redditor' object has no attribute 'id'\n"
     ]
    },
    {
     "name": "stderr",
     "output_type": "stream",
     "text": [
      "Updating authors:  83%|████████▎ | 83/100 [03:24<00:46,  2.72s/it]"
     ]
    },
    {
     "name": "stdout",
     "output_type": "stream",
     "text": [
      "  ❌ Error updating post l7vyax: 'Redditor' object has no attribute 'id'\n"
     ]
    },
    {
     "name": "stderr",
     "output_type": "stream",
     "text": [
      "Updating authors:  86%|████████▌ | 86/100 [03:30<00:31,  2.26s/it]"
     ]
    },
    {
     "name": "stdout",
     "output_type": "stream",
     "text": [
      "  ❌ Error updating post l7vvxp: 'Redditor' object has no attribute 'id'\n"
     ]
    },
    {
     "name": "stderr",
     "output_type": "stream",
     "text": [
      "Updating authors:  92%|█████████▏| 92/100 [03:43<00:16,  2.11s/it]"
     ]
    },
    {
     "name": "stdout",
     "output_type": "stream",
     "text": [
      "  ❌ Error updating post l7vpk6: 'Redditor' object has no attribute 'id'\n"
     ]
    },
    {
     "name": "stderr",
     "output_type": "stream",
     "text": [
      "Updating authors: 100%|██████████| 100/100 [03:59<00:00,  2.39s/it]\n"
     ]
    },
    {
     "name": "stdout",
     "output_type": "stream",
     "text": [
      "Progress: 16,673/53,187 (31.3%)\n",
      "Success rate: 16673/17300 (96.4%)\n",
      "Posts per minute: 29.5\n",
      "Taking a 30-second break between batches...\n",
      "\n",
      "Processing batch 174/532\n"
     ]
    },
    {
     "name": "stderr",
     "output_type": "stream",
     "text": [
      "Updating authors:   5%|▌         | 5/100 [00:10<03:26,  2.17s/it]"
     ]
    },
    {
     "name": "stdout",
     "output_type": "stream",
     "text": [
      "  ❌ Error updating post l7vg5i: 'Redditor' object has no attribute 'id'\n"
     ]
    },
    {
     "name": "stderr",
     "output_type": "stream",
     "text": [
      "Updating authors:  18%|█▊        | 18/100 [00:49<04:10,  3.06s/it]"
     ]
    },
    {
     "name": "stdout",
     "output_type": "stream",
     "text": [
      "  ❌ Error updating post l7v3we: 'Redditor' object has no attribute 'id'\n"
     ]
    },
    {
     "name": "stderr",
     "output_type": "stream",
     "text": [
      "Updating authors:  36%|███▌      | 36/100 [01:29<02:13,  2.08s/it]"
     ]
    },
    {
     "name": "stdout",
     "output_type": "stream",
     "text": [
      "  ❌ Error updating post l7uzee: 'Redditor' object has no attribute 'id'\n"
     ]
    },
    {
     "name": "stderr",
     "output_type": "stream",
     "text": [
      "Updating authors:  54%|█████▍    | 54/100 [01:59<01:15,  1.64s/it]"
     ]
    },
    {
     "name": "stdout",
     "output_type": "stream",
     "text": [
      "  ❌ Error updating post l7uwrd: 'Redditor' object has no attribute 'id'\n"
     ]
    },
    {
     "name": "stderr",
     "output_type": "stream",
     "text": [
      "Updating authors: 100%|██████████| 100/100 [03:25<00:00,  2.05s/it]\n"
     ]
    },
    {
     "name": "stdout",
     "output_type": "stream",
     "text": [
      "Progress: 16,769/53,187 (31.5%)\n",
      "Success rate: 16769/17400 (96.4%)\n",
      "Posts per minute: 29.4\n",
      "Taking a 30-second break between batches...\n",
      "\n",
      "Processing batch 175/532\n"
     ]
    },
    {
     "name": "stderr",
     "output_type": "stream",
     "text": [
      "Updating authors:  14%|█▍        | 14/100 [00:24<02:29,  1.74s/it]"
     ]
    },
    {
     "name": "stdout",
     "output_type": "stream",
     "text": [
      "  ❌ Error updating post l7ucln: 'Redditor' object has no attribute 'id'\n"
     ]
    },
    {
     "name": "stderr",
     "output_type": "stream",
     "text": [
      "Updating authors:  42%|████▏     | 42/100 [01:14<02:02,  2.12s/it]"
     ]
    },
    {
     "name": "stdout",
     "output_type": "stream",
     "text": [
      "  ❌ Error updating post l7u79l: 'Redditor' object has no attribute 'id'\n"
     ]
    },
    {
     "name": "stderr",
     "output_type": "stream",
     "text": [
      "Updating authors:  73%|███████▎  | 73/100 [02:27<00:58,  2.17s/it]"
     ]
    },
    {
     "name": "stdout",
     "output_type": "stream",
     "text": [
      "  ❌ Error updating post l7tju7: 'Redditor' object has no attribute 'id'\n"
     ]
    },
    {
     "name": "stderr",
     "output_type": "stream",
     "text": [
      "Updating authors:  79%|███████▉  | 79/100 [02:40<00:48,  2.33s/it]"
     ]
    },
    {
     "name": "stdout",
     "output_type": "stream",
     "text": [
      "  ❌ Error updating post l7tgr8: 'Redditor' object has no attribute 'id'\n"
     ]
    },
    {
     "name": "stderr",
     "output_type": "stream",
     "text": [
      "Updating authors:  93%|█████████▎| 93/100 [03:11<00:18,  2.64s/it]"
     ]
    },
    {
     "name": "stdout",
     "output_type": "stream",
     "text": [
      "  ❌ Error updating post l7t4u6: 'Redditor' object has no attribute 'id'\n"
     ]
    },
    {
     "name": "stderr",
     "output_type": "stream",
     "text": [
      "Updating authors: 100%|██████████| 100/100 [03:30<00:00,  2.11s/it]\n"
     ]
    },
    {
     "name": "stdout",
     "output_type": "stream",
     "text": [
      "Progress: 16,864/53,187 (31.7%)\n",
      "Success rate: 16864/17500 (96.4%)\n",
      "Posts per minute: 29.4\n",
      "Taking a 30-second break between batches...\n",
      "\n",
      "Processing batch 176/532\n"
     ]
    },
    {
     "name": "stderr",
     "output_type": "stream",
     "text": [
      "Updating authors:   1%|          | 1/100 [00:02<03:41,  2.23s/it]"
     ]
    },
    {
     "name": "stdout",
     "output_type": "stream",
     "text": [
      "  ❌ Error updating post l7sx16: 'Redditor' object has no attribute 'id'\n"
     ]
    },
    {
     "name": "stderr",
     "output_type": "stream",
     "text": [
      "Updating authors:   2%|▏         | 2/100 [00:06<05:16,  3.23s/it]"
     ]
    },
    {
     "name": "stdout",
     "output_type": "stream",
     "text": [
      "  ❌ Error updating post l7svhm: 'Redditor' object has no attribute 'id'\n"
     ]
    },
    {
     "name": "stderr",
     "output_type": "stream",
     "text": [
      "Updating authors:   4%|▍         | 4/100 [00:10<03:56,  2.47s/it]"
     ]
    },
    {
     "name": "stdout",
     "output_type": "stream",
     "text": [
      "  ❌ Error updating post l7suyi: 'Redditor' object has no attribute 'id'\n"
     ]
    },
    {
     "name": "stderr",
     "output_type": "stream",
     "text": [
      "Updating authors:  29%|██▉       | 29/100 [01:06<03:09,  2.67s/it]"
     ]
    },
    {
     "name": "stdout",
     "output_type": "stream",
     "text": [
      "  ❌ Error updating post l80k6b: 'Redditor' object has no attribute 'id'\n"
     ]
    },
    {
     "name": "stderr",
     "output_type": "stream",
     "text": [
      "Updating authors:  50%|█████     | 50/100 [02:00<02:08,  2.57s/it]"
     ]
    },
    {
     "name": "stdout",
     "output_type": "stream",
     "text": [
      "  ❌ Error updating post l7zow2: 'Redditor' object has no attribute 'id'\n"
     ]
    },
    {
     "name": "stderr",
     "output_type": "stream",
     "text": [
      "Updating authors:  57%|█████▋    | 57/100 [02:17<01:40,  2.34s/it]"
     ]
    },
    {
     "name": "stdout",
     "output_type": "stream",
     "text": [
      "  ❌ Error updating post l7zk8g: 'Redditor' object has no attribute 'id'\n"
     ]
    },
    {
     "name": "stderr",
     "output_type": "stream",
     "text": [
      "Updating authors:  82%|████████▏ | 82/100 [03:28<00:48,  2.70s/it]"
     ]
    },
    {
     "name": "stdout",
     "output_type": "stream",
     "text": [
      "  ❌ Error updating post l7ypkc: 'Redditor' object has no attribute 'id'\n"
     ]
    },
    {
     "name": "stderr",
     "output_type": "stream",
     "text": [
      "Updating authors:  90%|█████████ | 90/100 [03:50<00:25,  2.58s/it]"
     ]
    },
    {
     "name": "stdout",
     "output_type": "stream",
     "text": [
      "  ❌ Error updating post l80sij: 'Redditor' object has no attribute 'id'\n"
     ]
    },
    {
     "name": "stderr",
     "output_type": "stream",
     "text": [
      "Updating authors:  91%|█████████ | 91/100 [03:52<00:21,  2.43s/it]"
     ]
    },
    {
     "name": "stdout",
     "output_type": "stream",
     "text": [
      "  ❌ Error updating post l80rin: 'Redditor' object has no attribute 'id'\n"
     ]
    },
    {
     "name": "stderr",
     "output_type": "stream",
     "text": [
      "Updating authors:  95%|█████████▌| 95/100 [04:00<00:11,  2.24s/it]"
     ]
    },
    {
     "name": "stdout",
     "output_type": "stream",
     "text": [
      "  ❌ Error updating post l80pli: 'Redditor' object has no attribute 'id'\n"
     ]
    },
    {
     "name": "stderr",
     "output_type": "stream",
     "text": [
      "Updating authors:  96%|█████████▌| 96/100 [04:04<00:10,  2.74s/it]"
     ]
    },
    {
     "name": "stdout",
     "output_type": "stream",
     "text": [
      "  ❌ Error updating post l80pae: 'Redditor' object has no attribute 'id'\n"
     ]
    },
    {
     "name": "stderr",
     "output_type": "stream",
     "text": [
      "Updating authors: 100%|██████████| 100/100 [04:14<00:00,  2.54s/it]\n"
     ]
    },
    {
     "name": "stdout",
     "output_type": "stream",
     "text": [
      "Progress: 16,953/53,187 (31.9%)\n",
      "Success rate: 16953/17600 (96.3%)\n",
      "Posts per minute: 29.3\n",
      "Taking a 30-second break between batches...\n",
      "\n",
      "Processing batch 177/532\n"
     ]
    },
    {
     "name": "stderr",
     "output_type": "stream",
     "text": [
      "Updating authors:   2%|▏         | 2/100 [00:03<03:01,  1.85s/it]"
     ]
    },
    {
     "name": "stdout",
     "output_type": "stream",
     "text": [
      "  ❌ Error updating post l815mi: 'Redditor' object has no attribute 'id'\n"
     ]
    },
    {
     "name": "stderr",
     "output_type": "stream",
     "text": [
      "Updating authors:  13%|█▎        | 13/100 [00:27<03:04,  2.12s/it]"
     ]
    },
    {
     "name": "stdout",
     "output_type": "stream",
     "text": [
      "  ❌ Error updating post l80vnq: 'Redditor' object has no attribute 'id'\n"
     ]
    },
    {
     "name": "stderr",
     "output_type": "stream",
     "text": [
      "Updating authors:  27%|██▋       | 27/100 [01:03<04:53,  4.02s/it]"
     ]
    },
    {
     "name": "stdout",
     "output_type": "stream",
     "text": [
      "  ❌ Error updating post l81luf: 'Redditor' object has no attribute 'id'\n"
     ]
    },
    {
     "name": "stderr",
     "output_type": "stream",
     "text": [
      "Updating authors:  38%|███▊      | 38/100 [01:42<03:46,  3.66s/it]"
     ]
    },
    {
     "name": "stdout",
     "output_type": "stream",
     "text": [
      "  ❌ Error updating post l81cfi: 'Redditor' object has no attribute 'id'\n"
     ]
    },
    {
     "name": "stderr",
     "output_type": "stream",
     "text": [
      "Updating authors:  55%|█████▌    | 55/100 [02:24<02:10,  2.90s/it]"
     ]
    },
    {
     "name": "stdout",
     "output_type": "stream",
     "text": [
      "  ❌ Error updating post l82kxz: 'Redditor' object has no attribute 'id'\n"
     ]
    },
    {
     "name": "stderr",
     "output_type": "stream",
     "text": [
      "Updating authors:  56%|█████▌    | 56/100 [02:26<01:58,  2.69s/it]"
     ]
    },
    {
     "name": "stdout",
     "output_type": "stream",
     "text": [
      "  ❌ Error updating post l82jvf: 'Redditor' object has no attribute 'id'\n"
     ]
    },
    {
     "name": "stderr",
     "output_type": "stream",
     "text": [
      "Updating authors:  89%|████████▉ | 89/100 [03:47<00:25,  2.31s/it]"
     ]
    },
    {
     "name": "stdout",
     "output_type": "stream",
     "text": [
      "  ❌ Error updating post l83aec: 'Redditor' object has no attribute 'id'\n"
     ]
    },
    {
     "name": "stderr",
     "output_type": "stream",
     "text": [
      "Updating authors:  90%|█████████ | 90/100 [03:50<00:23,  2.37s/it]"
     ]
    },
    {
     "name": "stdout",
     "output_type": "stream",
     "text": [
      "  ❌ Error updating post l83988: 'Redditor' object has no attribute 'id'\n"
     ]
    },
    {
     "name": "stderr",
     "output_type": "stream",
     "text": [
      "Updating authors: 100%|██████████| 100/100 [04:13<00:00,  2.53s/it]\n"
     ]
    },
    {
     "name": "stdout",
     "output_type": "stream",
     "text": [
      "Progress: 17,045/53,187 (32.0%)\n",
      "Success rate: 17045/17700 (96.3%)\n",
      "Posts per minute: 29.2\n",
      "Taking a 30-second break between batches...\n",
      "\n",
      "Processing batch 178/532\n"
     ]
    },
    {
     "name": "stderr",
     "output_type": "stream",
     "text": [
      "Updating authors:  33%|███▎      | 33/100 [01:10<02:52,  2.58s/it]"
     ]
    },
    {
     "name": "stdout",
     "output_type": "stream",
     "text": [
      "  ❌ Error updating post l83uc6: 'Redditor' object has no attribute 'id'\n"
     ]
    },
    {
     "name": "stderr",
     "output_type": "stream",
     "text": [
      "Updating authors:  42%|████▏     | 42/100 [01:29<01:53,  1.95s/it]"
     ]
    },
    {
     "name": "stdout",
     "output_type": "stream",
     "text": [
      "  ❌ Error updating post l8r55y: 'Redditor' object has no attribute 'id'\n"
     ]
    },
    {
     "name": "stderr",
     "output_type": "stream",
     "text": [
      "Updating authors:  97%|█████████▋| 97/100 [03:43<00:05,  1.91s/it]"
     ]
    },
    {
     "name": "stdout",
     "output_type": "stream",
     "text": [
      "  ❌ Error updating post l8s9ty: 'Redditor' object has no attribute 'id'\n"
     ]
    },
    {
     "name": "stderr",
     "output_type": "stream",
     "text": [
      "Updating authors: 100%|██████████| 100/100 [03:49<00:00,  2.30s/it]\n"
     ]
    },
    {
     "name": "stdout",
     "output_type": "stream",
     "text": [
      "Progress: 17,142/53,187 (32.2%)\n",
      "Success rate: 17142/17800 (96.3%)\n",
      "Posts per minute: 29.2\n",
      "Taking a 30-second break between batches...\n",
      "\n",
      "Processing batch 179/532\n"
     ]
    },
    {
     "name": "stderr",
     "output_type": "stream",
     "text": [
      "Updating authors:  20%|██        | 20/100 [00:43<02:45,  2.07s/it]"
     ]
    },
    {
     "name": "stdout",
     "output_type": "stream",
     "text": [
      "  ❌ Error updating post l8t2nr: 'Redditor' object has no attribute 'id'\n"
     ]
    },
    {
     "name": "stderr",
     "output_type": "stream",
     "text": [
      "Updating authors:  36%|███▌      | 36/100 [01:22<02:03,  1.93s/it]"
     ]
    },
    {
     "name": "stdout",
     "output_type": "stream",
     "text": [
      "  ❌ Error updating post l850dj: 'Redditor' object has no attribute 'id'\n"
     ]
    },
    {
     "name": "stderr",
     "output_type": "stream",
     "text": [
      "Updating authors:  37%|███▋      | 37/100 [01:23<01:58,  1.88s/it]"
     ]
    },
    {
     "name": "stdout",
     "output_type": "stream",
     "text": [
      "  ❌ Error updating post l8509l: 'Redditor' object has no attribute 'id'\n"
     ]
    },
    {
     "name": "stderr",
     "output_type": "stream",
     "text": [
      "Updating authors:  42%|████▏     | 42/100 [01:36<02:16,  2.36s/it]"
     ]
    },
    {
     "name": "stdout",
     "output_type": "stream",
     "text": [
      "  ❌ Error updating post l84uz9: 'Redditor' object has no attribute 'id'\n"
     ]
    },
    {
     "name": "stderr",
     "output_type": "stream",
     "text": [
      "Updating authors:  73%|███████▎  | 73/100 [02:55<01:52,  4.16s/it]"
     ]
    },
    {
     "name": "stdout",
     "output_type": "stream",
     "text": [
      "  ❌ Error updating post l8ohql: 'Redditor' object has no attribute 'id'\n"
     ]
    },
    {
     "name": "stderr",
     "output_type": "stream",
     "text": [
      "Updating authors:  94%|█████████▍| 94/100 [03:42<00:15,  2.56s/it]"
     ]
    },
    {
     "name": "stdout",
     "output_type": "stream",
     "text": [
      "  ❌ Error updating post l8mf60: 'Redditor' object has no attribute 'id'\n"
     ]
    },
    {
     "name": "stderr",
     "output_type": "stream",
     "text": [
      "Updating authors: 100%|██████████| 100/100 [03:57<00:00,  2.38s/it]\n"
     ]
    },
    {
     "name": "stdout",
     "output_type": "stream",
     "text": [
      "Progress: 17,236/53,187 (32.4%)\n",
      "Success rate: 17236/17900 (96.3%)\n",
      "Posts per minute: 29.1\n",
      "Taking a 30-second break between batches...\n",
      "\n",
      "Processing batch 180/532\n"
     ]
    },
    {
     "name": "stderr",
     "output_type": "stream",
     "text": [
      "Updating authors:  10%|█         | 10/100 [00:35<05:15,  3.50s/it]"
     ]
    },
    {
     "name": "stdout",
     "output_type": "stream",
     "text": [
      "  ❌ Error updating post l8hmho: 'Redditor' object has no attribute 'id'\n"
     ]
    },
    {
     "name": "stderr",
     "output_type": "stream",
     "text": [
      "Updating authors:  13%|█▎        | 13/100 [00:45<05:11,  3.58s/it]"
     ]
    },
    {
     "name": "stdout",
     "output_type": "stream",
     "text": [
      "  ❌ Error updating post l8hfdf: 'Redditor' object has no attribute 'id'\n"
     ]
    },
    {
     "name": "stderr",
     "output_type": "stream",
     "text": [
      "Updating authors:  38%|███▊      | 38/100 [01:55<02:44,  2.65s/it]"
     ]
    },
    {
     "name": "stdout",
     "output_type": "stream",
     "text": [
      "  ❌ Error updating post l8g7qu: 'Redditor' object has no attribute 'id'\n"
     ]
    },
    {
     "name": "stderr",
     "output_type": "stream",
     "text": [
      "Updating authors:  42%|████▏     | 42/100 [02:04<02:09,  2.24s/it]"
     ]
    },
    {
     "name": "stdout",
     "output_type": "stream",
     "text": [
      "  ❌ Error updating post l8fz38: 'Redditor' object has no attribute 'id'\n"
     ]
    },
    {
     "name": "stderr",
     "output_type": "stream",
     "text": [
      "Updating authors:  73%|███████▎  | 73/100 [03:29<01:11,  2.64s/it]"
     ]
    },
    {
     "name": "stdout",
     "output_type": "stream",
     "text": [
      "  ❌ Error updating post l8eg71: received 404 HTTP response\n"
     ]
    },
    {
     "name": "stderr",
     "output_type": "stream",
     "text": [
      "Updating authors:  77%|███████▋  | 77/100 [03:40<00:57,  2.51s/it]"
     ]
    },
    {
     "name": "stdout",
     "output_type": "stream",
     "text": [
      "  ❌ Error updating post l8eb58: 'Redditor' object has no attribute 'id'\n"
     ]
    },
    {
     "name": "stderr",
     "output_type": "stream",
     "text": [
      "Updating authors:  97%|█████████▋| 97/100 [04:42<00:08,  2.73s/it]"
     ]
    },
    {
     "name": "stdout",
     "output_type": "stream",
     "text": [
      "  ❌ Error updating post l8doju: 'Redditor' object has no attribute 'id'\n"
     ]
    },
    {
     "name": "stderr",
     "output_type": "stream",
     "text": [
      "Updating authors: 100%|██████████| 100/100 [04:50<00:00,  2.90s/it]\n"
     ]
    },
    {
     "name": "stdout",
     "output_type": "stream",
     "text": [
      "Progress: 17,329/53,187 (32.6%)\n",
      "Success rate: 17329/18000 (96.3%)\n",
      "Posts per minute: 29.0\n",
      "Taking a 30-second break between batches...\n",
      "\n",
      "Processing batch 181/532\n"
     ]
    },
    {
     "name": "stderr",
     "output_type": "stream",
     "text": [
      "Updating authors:   5%|▌         | 5/100 [00:09<03:02,  1.93s/it]"
     ]
    },
    {
     "name": "stdout",
     "output_type": "stream",
     "text": [
      "  ❌ Error updating post l8dl4p: 'Redditor' object has no attribute 'id'\n"
     ]
    },
    {
     "name": "stderr",
     "output_type": "stream",
     "text": [
      "Updating authors:  12%|█▏        | 12/100 [00:27<03:55,  2.67s/it]"
     ]
    },
    {
     "name": "stdout",
     "output_type": "stream",
     "text": [
      "  ❌ Error updating post l8deos: 'Redditor' object has no attribute 'id'\n"
     ]
    },
    {
     "name": "stderr",
     "output_type": "stream",
     "text": [
      "Updating authors:  13%|█▎        | 13/100 [00:28<03:29,  2.41s/it]"
     ]
    },
    {
     "name": "stdout",
     "output_type": "stream",
     "text": [
      "  ❌ Error updating post l8deli: 'Redditor' object has no attribute 'id'\n"
     ]
    },
    {
     "name": "stderr",
     "output_type": "stream",
     "text": [
      "Updating authors:  14%|█▍        | 14/100 [00:31<03:26,  2.40s/it]"
     ]
    },
    {
     "name": "stdout",
     "output_type": "stream",
     "text": [
      "  ❌ Error updating post l8de4u: 'Redditor' object has no attribute 'id'\n"
     ]
    },
    {
     "name": "stderr",
     "output_type": "stream",
     "text": [
      "Updating authors:  48%|████▊     | 48/100 [01:53<02:20,  2.71s/it]"
     ]
    },
    {
     "name": "stdout",
     "output_type": "stream",
     "text": [
      "  ❌ Error updating post l8co5z: 'Redditor' object has no attribute 'id'\n"
     ]
    },
    {
     "name": "stderr",
     "output_type": "stream",
     "text": [
      "Updating authors:  80%|████████  | 80/100 [03:21<00:52,  2.64s/it]"
     ]
    },
    {
     "name": "stdout",
     "output_type": "stream",
     "text": [
      "  ❌ Error updating post l8bxhr: 'Redditor' object has no attribute 'id'\n"
     ]
    },
    {
     "name": "stderr",
     "output_type": "stream",
     "text": [
      "Updating authors:  81%|████████  | 81/100 [03:23<00:47,  2.48s/it]"
     ]
    },
    {
     "name": "stdout",
     "output_type": "stream",
     "text": [
      "  ❌ Error updating post l8bwtx: 'Redditor' object has no attribute 'id'\n"
     ]
    },
    {
     "name": "stderr",
     "output_type": "stream",
     "text": [
      "Updating authors:  93%|█████████▎| 93/100 [03:58<00:22,  3.22s/it]"
     ]
    },
    {
     "name": "stdout",
     "output_type": "stream",
     "text": [
      "  ❌ Error updating post l8bppj: 'Redditor' object has no attribute 'id'\n"
     ]
    },
    {
     "name": "stderr",
     "output_type": "stream",
     "text": [
      "Updating authors: 100%|██████████| 100/100 [04:12<00:00,  2.53s/it]\n"
     ]
    },
    {
     "name": "stdout",
     "output_type": "stream",
     "text": [
      "Progress: 17,421/53,187 (32.8%)\n",
      "Success rate: 17421/18100 (96.2%)\n",
      "Posts per minute: 28.9\n",
      "Taking a 30-second break between batches...\n",
      "\n",
      "Processing batch 182/532\n"
     ]
    },
    {
     "name": "stderr",
     "output_type": "stream",
     "text": [
      "Updating authors:  29%|██▉       | 29/100 [01:17<03:26,  2.90s/it]"
     ]
    },
    {
     "name": "stdout",
     "output_type": "stream",
     "text": [
      "  ❌ Error updating post l8b8ia: 'Redditor' object has no attribute 'id'\n"
     ]
    },
    {
     "name": "stderr",
     "output_type": "stream",
     "text": [
      "Updating authors:  54%|█████▍    | 54/100 [02:19<01:48,  2.35s/it]"
     ]
    },
    {
     "name": "stdout",
     "output_type": "stream",
     "text": [
      "  ❌ Error updating post l8asxt: 'Redditor' object has no attribute 'id'\n"
     ]
    },
    {
     "name": "stderr",
     "output_type": "stream",
     "text": [
      "Updating authors:  62%|██████▏   | 62/100 [02:39<01:24,  2.23s/it]"
     ]
    },
    {
     "name": "stdout",
     "output_type": "stream",
     "text": [
      "  ❌ Error updating post l8aldr: 'Redditor' object has no attribute 'id'\n"
     ]
    },
    {
     "name": "stderr",
     "output_type": "stream",
     "text": [
      "Updating authors: 100%|██████████| 100/100 [04:16<00:00,  2.56s/it]\n"
     ]
    },
    {
     "name": "stdout",
     "output_type": "stream",
     "text": [
      "Progress: 17,518/53,187 (32.9%)\n",
      "Success rate: 17518/18200 (96.3%)\n",
      "Posts per minute: 28.9\n",
      "Taking a 30-second break between batches...\n",
      "\n",
      "Processing batch 183/532\n"
     ]
    },
    {
     "name": "stderr",
     "output_type": "stream",
     "text": [
      "Updating authors:  30%|███       | 30/100 [01:28<03:40,  3.15s/it]"
     ]
    },
    {
     "name": "stdout",
     "output_type": "stream",
     "text": [
      "  ❌ Error updating post l890i7: 'Redditor' object has no attribute 'id'\n"
     ]
    },
    {
     "name": "stderr",
     "output_type": "stream",
     "text": [
      "Updating authors:  32%|███▏      | 32/100 [01:36<03:49,  3.38s/it]"
     ]
    },
    {
     "name": "stdout",
     "output_type": "stream",
     "text": [
      "  ❌ Error updating post l88yj7: 'Redditor' object has no attribute 'id'\n"
     ]
    },
    {
     "name": "stderr",
     "output_type": "stream",
     "text": [
      "Updating authors:  44%|████▍     | 44/100 [02:09<02:46,  2.97s/it]"
     ]
    },
    {
     "name": "stdout",
     "output_type": "stream",
     "text": [
      "  ❌ Error updating post l88l5k: 'Redditor' object has no attribute 'id'\n"
     ]
    },
    {
     "name": "stderr",
     "output_type": "stream",
     "text": [
      "Updating authors:  55%|█████▌    | 55/100 [02:37<02:15,  3.01s/it]"
     ]
    },
    {
     "name": "stdout",
     "output_type": "stream",
     "text": [
      "  ❌ Error updating post l88ejz: 'Redditor' object has no attribute 'id'\n"
     ]
    },
    {
     "name": "stderr",
     "output_type": "stream",
     "text": [
      "Updating authors:  73%|███████▎  | 73/100 [03:23<01:08,  2.54s/it]"
     ]
    },
    {
     "name": "stdout",
     "output_type": "stream",
     "text": [
      "  ❌ Error updating post l881ia: 'Redditor' object has no attribute 'id'\n"
     ]
    },
    {
     "name": "stderr",
     "output_type": "stream",
     "text": [
      "Updating authors:  98%|█████████▊| 98/100 [04:30<00:05,  2.60s/it]"
     ]
    },
    {
     "name": "stdout",
     "output_type": "stream",
     "text": [
      "  ❌ Error updating post l87awp: 'Redditor' object has no attribute 'id'\n"
     ]
    },
    {
     "name": "stderr",
     "output_type": "stream",
     "text": [
      "Updating authors:  99%|█████████▉| 99/100 [04:31<00:02,  2.35s/it]"
     ]
    },
    {
     "name": "stdout",
     "output_type": "stream",
     "text": [
      "  ❌ Error updating post l879b4: 'Redditor' object has no attribute 'id'\n"
     ]
    },
    {
     "name": "stderr",
     "output_type": "stream",
     "text": [
      "Updating authors: 100%|██████████| 100/100 [04:34<00:00,  2.74s/it]\n"
     ]
    },
    {
     "name": "stdout",
     "output_type": "stream",
     "text": [
      "Progress: 17,611/53,187 (33.1%)\n",
      "Success rate: 17611/18300 (96.2%)\n",
      "Posts per minute: 28.8\n",
      "Taking a 30-second break between batches...\n",
      "\n",
      "Processing batch 184/532\n"
     ]
    },
    {
     "name": "stderr",
     "output_type": "stream",
     "text": [
      "Updating authors:   6%|▌         | 6/100 [00:13<03:49,  2.44s/it]"
     ]
    },
    {
     "name": "stdout",
     "output_type": "stream",
     "text": [
      "  ❌ Error updating post l873f0: 'Redditor' object has no attribute 'id'\n"
     ]
    },
    {
     "name": "stderr",
     "output_type": "stream",
     "text": [
      "Updating authors:  10%|█         | 10/100 [00:29<05:34,  3.72s/it]"
     ]
    },
    {
     "name": "stdout",
     "output_type": "stream",
     "text": [
      "  ❌ Error updating post l86s0q: 'Redditor' object has no attribute 'id'\n"
     ]
    },
    {
     "name": "stderr",
     "output_type": "stream",
     "text": [
      "Updating authors:  12%|█▏        | 12/100 [00:33<04:21,  2.98s/it]"
     ]
    },
    {
     "name": "stdout",
     "output_type": "stream",
     "text": [
      "  ❌ Error updating post l86lxw: 'Redditor' object has no attribute 'id'\n"
     ]
    },
    {
     "name": "stderr",
     "output_type": "stream",
     "text": [
      "Updating authors:  24%|██▍       | 24/100 [01:03<02:42,  2.14s/it]"
     ]
    },
    {
     "name": "stdout",
     "output_type": "stream",
     "text": [
      "  ❌ Error updating post l86eed: 'Redditor' object has no attribute 'id'\n"
     ]
    },
    {
     "name": "stderr",
     "output_type": "stream",
     "text": [
      "Updating authors:  29%|██▉       | 29/100 [01:16<02:35,  2.19s/it]"
     ]
    },
    {
     "name": "stdout",
     "output_type": "stream",
     "text": [
      "  ❌ Error updating post l869wv: 'Redditor' object has no attribute 'id'\n"
     ]
    },
    {
     "name": "stderr",
     "output_type": "stream",
     "text": [
      "Updating authors:  39%|███▉      | 39/100 [01:40<02:15,  2.22s/it]"
     ]
    },
    {
     "name": "stdout",
     "output_type": "stream",
     "text": [
      "  ❌ Error updating post l863ne: 'Redditor' object has no attribute 'id'\n"
     ]
    },
    {
     "name": "stderr",
     "output_type": "stream",
     "text": [
      "Updating authors:  49%|████▉     | 49/100 [02:03<02:06,  2.48s/it]"
     ]
    },
    {
     "name": "stdout",
     "output_type": "stream",
     "text": [
      "  ❌ Error updating post l85vw8: 'Redditor' object has no attribute 'id'\n"
     ]
    },
    {
     "name": "stderr",
     "output_type": "stream",
     "text": [
      "Updating authors:  79%|███████▉  | 79/100 [03:20<00:43,  2.05s/it]"
     ]
    },
    {
     "name": "stdout",
     "output_type": "stream",
     "text": [
      "  ❌ Error updating post l85769: 'Redditor' object has no attribute 'id'\n"
     ]
    },
    {
     "name": "stderr",
     "output_type": "stream",
     "text": [
      "Updating authors: 100%|██████████| 100/100 [04:25<00:00,  2.65s/it]\n"
     ]
    },
    {
     "name": "stdout",
     "output_type": "stream",
     "text": [
      "Progress: 17,703/53,187 (33.3%)\n",
      "Success rate: 17703/18400 (96.2%)\n",
      "Posts per minute: 28.7\n",
      "Taking a 30-second break between batches...\n",
      "\n",
      "Processing batch 185/532\n"
     ]
    },
    {
     "name": "stderr",
     "output_type": "stream",
     "text": [
      "Updating authors:   1%|          | 1/100 [00:04<07:07,  4.32s/it]"
     ]
    },
    {
     "name": "stdout",
     "output_type": "stream",
     "text": [
      "  ❌ Error updating post l8qh01: 'Redditor' object has no attribute 'id'\n"
     ]
    },
    {
     "name": "stderr",
     "output_type": "stream",
     "text": [
      "Updating authors:  34%|███▍      | 34/100 [01:34<02:13,  2.02s/it]"
     ]
    },
    {
     "name": "stdout",
     "output_type": "stream",
     "text": [
      "  ❌ Error updating post l8ovl7: 'Redditor' object has no attribute 'id'\n"
     ]
    },
    {
     "name": "stderr",
     "output_type": "stream",
     "text": [
      "Updating authors:  60%|██████    | 60/100 [02:37<01:20,  2.02s/it]"
     ]
    },
    {
     "name": "stdout",
     "output_type": "stream",
     "text": [
      "  ❌ Error updating post l8odb1: 'Redditor' object has no attribute 'id'\n"
     ]
    },
    {
     "name": "stderr",
     "output_type": "stream",
     "text": [
      "Updating authors:  76%|███████▌  | 76/100 [03:10<00:55,  2.31s/it]"
     ]
    },
    {
     "name": "stdout",
     "output_type": "stream",
     "text": [
      "  ❌ Error updating post l8o36t: 'Redditor' object has no attribute 'id'\n"
     ]
    },
    {
     "name": "stderr",
     "output_type": "stream",
     "text": [
      "Updating authors:  92%|█████████▏| 92/100 [03:53<00:20,  2.55s/it]"
     ]
    },
    {
     "name": "stdout",
     "output_type": "stream",
     "text": [
      "  ❌ Error updating post l8nlkb: 'Redditor' object has no attribute 'id'\n"
     ]
    },
    {
     "name": "stderr",
     "output_type": "stream",
     "text": [
      "Updating authors: 100%|██████████| 100/100 [04:14<00:00,  2.55s/it]\n"
     ]
    },
    {
     "name": "stdout",
     "output_type": "stream",
     "text": [
      "Progress: 17,798/53,187 (33.5%)\n",
      "Success rate: 17798/18500 (96.2%)\n",
      "Posts per minute: 28.6\n",
      "Taking a 30-second break between batches...\n",
      "\n",
      "Processing batch 186/532\n"
     ]
    },
    {
     "name": "stderr",
     "output_type": "stream",
     "text": [
      "Updating authors:   7%|▋         | 7/100 [00:20<04:58,  3.21s/it]"
     ]
    },
    {
     "name": "stdout",
     "output_type": "stream",
     "text": [
      "  ❌ Error updating post l8n2eo: 'Redditor' object has no attribute 'id'\n"
     ]
    },
    {
     "name": "stderr",
     "output_type": "stream",
     "text": [
      "Updating authors:  11%|█         | 11/100 [00:32<04:32,  3.06s/it]"
     ]
    },
    {
     "name": "stdout",
     "output_type": "stream",
     "text": [
      "  ❌ Error updating post l8mw06: 'Redditor' object has no attribute 'id'\n"
     ]
    },
    {
     "name": "stderr",
     "output_type": "stream",
     "text": [
      "Updating authors:  12%|█▏        | 12/100 [00:35<04:15,  2.91s/it]"
     ]
    },
    {
     "name": "stdout",
     "output_type": "stream",
     "text": [
      "  ❌ Error updating post l8mt6n: 'Redditor' object has no attribute 'id'\n"
     ]
    },
    {
     "name": "stderr",
     "output_type": "stream",
     "text": [
      "Updating authors:  13%|█▎        | 13/100 [00:39<04:51,  3.36s/it]"
     ]
    },
    {
     "name": "stdout",
     "output_type": "stream",
     "text": [
      "  ❌ Error updating post l8ms73: 'Redditor' object has no attribute 'id'\n"
     ]
    },
    {
     "name": "stderr",
     "output_type": "stream",
     "text": [
      "Updating authors:  24%|██▍       | 24/100 [01:10<03:36,  2.84s/it]"
     ]
    },
    {
     "name": "stdout",
     "output_type": "stream",
     "text": [
      "  ❌ Error updating post l8m9ri: 'Redditor' object has no attribute 'id'\n"
     ]
    },
    {
     "name": "stderr",
     "output_type": "stream",
     "text": [
      "Updating authors:  55%|█████▌    | 55/100 [02:42<02:18,  3.08s/it]"
     ]
    },
    {
     "name": "stdout",
     "output_type": "stream",
     "text": [
      "  ❌ Error updating post l8ky8k: received 404 HTTP response\n"
     ]
    },
    {
     "name": "stderr",
     "output_type": "stream",
     "text": [
      "Updating authors:  63%|██████▎   | 63/100 [03:04<01:35,  2.57s/it]"
     ]
    },
    {
     "name": "stdout",
     "output_type": "stream",
     "text": [
      "  ❌ Error updating post l8kj4i: 'Redditor' object has no attribute 'id'\n"
     ]
    },
    {
     "name": "stderr",
     "output_type": "stream",
     "text": [
      "Updating authors:  78%|███████▊  | 78/100 [03:46<00:52,  2.38s/it]"
     ]
    },
    {
     "name": "stdout",
     "output_type": "stream",
     "text": [
      "  ❌ Error updating post l9ev6u: 'Redditor' object has no attribute 'id'\n"
     ]
    },
    {
     "name": "stderr",
     "output_type": "stream",
     "text": [
      "Updating authors: 100%|██████████| 100/100 [04:37<00:00,  2.77s/it]\n"
     ]
    },
    {
     "name": "stdout",
     "output_type": "stream",
     "text": [
      "Progress: 17,890/53,187 (33.6%)\n",
      "Success rate: 17890/18600 (96.2%)\n",
      "Posts per minute: 28.6\n",
      "Taking a 30-second break between batches...\n",
      "\n",
      "Processing batch 187/532\n"
     ]
    },
    {
     "name": "stderr",
     "output_type": "stream",
     "text": [
      "Updating authors:  22%|██▏       | 22/100 [00:57<03:17,  2.54s/it]"
     ]
    },
    {
     "name": "stdout",
     "output_type": "stream",
     "text": [
      "  ❌ Error updating post l9gkjb: received 404 HTTP response\n"
     ]
    },
    {
     "name": "stderr",
     "output_type": "stream",
     "text": [
      "Updating authors:  27%|██▋       | 27/100 [01:07<02:32,  2.09s/it]"
     ]
    },
    {
     "name": "stdout",
     "output_type": "stream",
     "text": [
      "  ❌ Error updating post l9gbr3: 'Redditor' object has no attribute 'id'\n"
     ]
    },
    {
     "name": "stderr",
     "output_type": "stream",
     "text": [
      "Updating authors:  36%|███▌      | 36/100 [01:43<04:16,  4.01s/it]"
     ]
    },
    {
     "name": "stdout",
     "output_type": "stream",
     "text": [
      "  ❌ Error updating post l9df44: 'Redditor' object has no attribute 'id'\n"
     ]
    },
    {
     "name": "stderr",
     "output_type": "stream",
     "text": [
      "Updating authors:  58%|█████▊    | 58/100 [02:49<01:38,  2.35s/it]"
     ]
    },
    {
     "name": "stdout",
     "output_type": "stream",
     "text": [
      "  ❌ Error updating post l94adw: 'Redditor' object has no attribute 'id'\n"
     ]
    },
    {
     "name": "stderr",
     "output_type": "stream",
     "text": [
      "Updating authors:  63%|██████▎   | 63/100 [03:04<01:57,  3.18s/it]"
     ]
    },
    {
     "name": "stdout",
     "output_type": "stream",
     "text": [
      "  ❌ Error updating post l946a0: 'Redditor' object has no attribute 'id'\n"
     ]
    },
    {
     "name": "stderr",
     "output_type": "stream",
     "text": [
      "Updating authors:  74%|███████▍  | 74/100 [03:36<01:34,  3.65s/it]"
     ]
    },
    {
     "name": "stdout",
     "output_type": "stream",
     "text": [
      "  ❌ Error updating post l93wlb: 'Redditor' object has no attribute 'id'\n"
     ]
    },
    {
     "name": "stderr",
     "output_type": "stream",
     "text": [
      "Updating authors:  90%|█████████ | 90/100 [04:14<00:26,  2.60s/it]"
     ]
    },
    {
     "name": "stdout",
     "output_type": "stream",
     "text": [
      "  ❌ Error updating post l93m5q: 'Redditor' object has no attribute 'id'\n"
     ]
    },
    {
     "name": "stderr",
     "output_type": "stream",
     "text": [
      "Updating authors:  96%|█████████▌| 96/100 [04:28<00:08,  2.20s/it]"
     ]
    },
    {
     "name": "stdout",
     "output_type": "stream",
     "text": [
      "  ❌ Error updating post l93dum: 'Redditor' object has no attribute 'id'\n"
     ]
    },
    {
     "name": "stderr",
     "output_type": "stream",
     "text": [
      "Updating authors: 100%|██████████| 100/100 [04:39<00:00,  2.80s/it]\n"
     ]
    },
    {
     "name": "stdout",
     "output_type": "stream",
     "text": [
      "Progress: 17,982/53,187 (33.8%)\n",
      "Success rate: 17982/18700 (96.2%)\n",
      "Posts per minute: 28.5\n",
      "Taking a 30-second break between batches...\n",
      "\n",
      "Processing batch 188/532\n"
     ]
    },
    {
     "name": "stderr",
     "output_type": "stream",
     "text": [
      "Updating authors:  22%|██▏       | 22/100 [00:57<03:54,  3.01s/it]"
     ]
    },
    {
     "name": "stdout",
     "output_type": "stream",
     "text": [
      "  ❌ Error updating post l92s9z: 'Redditor' object has no attribute 'id'\n"
     ]
    },
    {
     "name": "stderr",
     "output_type": "stream",
     "text": [
      "Updating authors:  33%|███▎      | 33/100 [01:33<03:57,  3.55s/it]"
     ]
    },
    {
     "name": "stdout",
     "output_type": "stream",
     "text": [
      "  ❌ Error updating post l92jzg: 'Redditor' object has no attribute 'id'\n"
     ]
    },
    {
     "name": "stderr",
     "output_type": "stream",
     "text": [
      "Updating authors:  37%|███▋      | 37/100 [01:42<02:43,  2.60s/it]"
     ]
    },
    {
     "name": "stdout",
     "output_type": "stream",
     "text": [
      "  ❌ Error updating post l92j1m: 'Redditor' object has no attribute 'id'\n"
     ]
    },
    {
     "name": "stderr",
     "output_type": "stream",
     "text": [
      "Updating authors:  62%|██████▏   | 62/100 [02:47<01:40,  2.64s/it]"
     ]
    },
    {
     "name": "stdout",
     "output_type": "stream",
     "text": [
      "  ❌ Error updating post l91ztq: 'Redditor' object has no attribute 'id'\n"
     ]
    },
    {
     "name": "stderr",
     "output_type": "stream",
     "text": [
      "Updating authors:  95%|█████████▌| 95/100 [03:59<00:10,  2.13s/it]"
     ]
    },
    {
     "name": "stdout",
     "output_type": "stream",
     "text": [
      "  ❌ Error updating post l91gce: 'Redditor' object has no attribute 'id'\n"
     ]
    },
    {
     "name": "stderr",
     "output_type": "stream",
     "text": [
      "Updating authors: 100%|██████████| 100/100 [04:10<00:00,  2.51s/it]\n"
     ]
    },
    {
     "name": "stdout",
     "output_type": "stream",
     "text": [
      "Progress: 18,077/53,187 (34.0%)\n",
      "Success rate: 18077/18800 (96.2%)\n",
      "Posts per minute: 28.4\n",
      "Taking a 30-second break between batches...\n",
      "\n",
      "Processing batch 189/532\n"
     ]
    },
    {
     "name": "stderr",
     "output_type": "stream",
     "text": [
      "Updating authors:   3%|▎         | 3/100 [00:06<03:41,  2.29s/it]"
     ]
    },
    {
     "name": "stdout",
     "output_type": "stream",
     "text": [
      "  ❌ Error updating post l918i2: 'Redditor' object has no attribute 'id'\n"
     ]
    },
    {
     "name": "stderr",
     "output_type": "stream",
     "text": [
      "Updating authors:  14%|█▍        | 14/100 [00:30<03:01,  2.11s/it]"
     ]
    },
    {
     "name": "stdout",
     "output_type": "stream",
     "text": [
      "  ❌ Error updating post l90wvv: 'Redditor' object has no attribute 'id'\n"
     ]
    },
    {
     "name": "stderr",
     "output_type": "stream",
     "text": [
      "Updating authors:  48%|████▊     | 48/100 [01:51<02:05,  2.42s/it]"
     ]
    },
    {
     "name": "stdout",
     "output_type": "stream",
     "text": [
      "  ❌ Error updating post l9037r: 'Redditor' object has no attribute 'id'\n"
     ]
    },
    {
     "name": "stderr",
     "output_type": "stream",
     "text": [
      "Updating authors:  81%|████████  | 81/100 [03:18<00:51,  2.72s/it]"
     ]
    },
    {
     "name": "stdout",
     "output_type": "stream",
     "text": [
      "  ❌ Error updating post l8z3xa: 'Redditor' object has no attribute 'id'\n"
     ]
    },
    {
     "name": "stderr",
     "output_type": "stream",
     "text": [
      "Updating authors:  87%|████████▋ | 87/100 [03:33<00:32,  2.52s/it]"
     ]
    },
    {
     "name": "stdout",
     "output_type": "stream",
     "text": [
      "  ❌ Error updating post l8yxm8: 'Redditor' object has no attribute 'id'\n"
     ]
    },
    {
     "name": "stderr",
     "output_type": "stream",
     "text": [
      "Updating authors:  91%|█████████ | 91/100 [03:45<00:24,  2.78s/it]"
     ]
    },
    {
     "name": "stdout",
     "output_type": "stream",
     "text": [
      "  ❌ Error updating post l8ysw5: 'Redditor' object has no attribute 'id'\n"
     ]
    },
    {
     "name": "stderr",
     "output_type": "stream",
     "text": [
      "Updating authors: 100%|██████████| 100/100 [04:13<00:00,  2.54s/it]\n"
     ]
    },
    {
     "name": "stdout",
     "output_type": "stream",
     "text": [
      "Progress: 18,171/53,187 (34.2%)\n",
      "Success rate: 18171/18900 (96.1%)\n",
      "Posts per minute: 28.3\n",
      "Taking a 30-second break between batches...\n",
      "\n",
      "Processing batch 190/532\n"
     ]
    },
    {
     "name": "stderr",
     "output_type": "stream",
     "text": [
      "Updating authors:   3%|▎         | 3/100 [00:06<03:18,  2.05s/it]"
     ]
    },
    {
     "name": "stdout",
     "output_type": "stream",
     "text": [
      "  ❌ Error updating post l8yizj: 'Redditor' object has no attribute 'id'\n"
     ]
    },
    {
     "name": "stderr",
     "output_type": "stream",
     "text": [
      "Updating authors:  24%|██▍       | 24/100 [01:04<04:03,  3.21s/it]"
     ]
    },
    {
     "name": "stdout",
     "output_type": "stream",
     "text": [
      "  ❌ Error updating post l8y1qp: 'Redditor' object has no attribute 'id'\n"
     ]
    },
    {
     "name": "stderr",
     "output_type": "stream",
     "text": [
      "Updating authors:  32%|███▏      | 32/100 [01:26<03:12,  2.83s/it]"
     ]
    },
    {
     "name": "stdout",
     "output_type": "stream",
     "text": [
      "  ❌ Error updating post l8xsfa: 'Redditor' object has no attribute 'id'\n"
     ]
    },
    {
     "name": "stderr",
     "output_type": "stream",
     "text": [
      "Updating authors:  33%|███▎      | 33/100 [01:31<03:54,  3.49s/it]"
     ]
    },
    {
     "name": "stdout",
     "output_type": "stream",
     "text": [
      "  ❌ Error updating post l8xs61: 'Redditor' object has no attribute 'id'\n"
     ]
    },
    {
     "name": "stderr",
     "output_type": "stream",
     "text": [
      "Updating authors:  56%|█████▌    | 56/100 [02:30<01:58,  2.69s/it]"
     ]
    },
    {
     "name": "stdout",
     "output_type": "stream",
     "text": [
      "  ❌ Error updating post l8x19c: 'Redditor' object has no attribute 'id'\n"
     ]
    },
    {
     "name": "stderr",
     "output_type": "stream",
     "text": [
      "Updating authors:  58%|█████▊    | 58/100 [02:38<02:21,  3.37s/it]"
     ]
    },
    {
     "name": "stdout",
     "output_type": "stream",
     "text": [
      "  ❌ Error updating post l8x0nt: 'Redditor' object has no attribute 'id'\n"
     ]
    },
    {
     "name": "stderr",
     "output_type": "stream",
     "text": [
      "Updating authors:  63%|██████▎   | 63/100 [02:52<01:42,  2.76s/it]"
     ]
    },
    {
     "name": "stdout",
     "output_type": "stream",
     "text": [
      "  ❌ Error updating post l8wwrk: 'Redditor' object has no attribute 'id'\n"
     ]
    },
    {
     "name": "stderr",
     "output_type": "stream",
     "text": [
      "Updating authors:  65%|██████▌   | 65/100 [02:58<01:35,  2.74s/it]"
     ]
    },
    {
     "name": "stdout",
     "output_type": "stream",
     "text": [
      "  ❌ Error updating post l8wu5v: 'Redditor' object has no attribute 'id'\n"
     ]
    },
    {
     "name": "stderr",
     "output_type": "stream",
     "text": [
      "Updating authors:  80%|████████  | 80/100 [03:44<00:49,  2.46s/it]"
     ]
    },
    {
     "name": "stdout",
     "output_type": "stream",
     "text": [
      "  ❌ Error updating post l8we22: 'Redditor' object has no attribute 'id'\n"
     ]
    },
    {
     "name": "stderr",
     "output_type": "stream",
     "text": [
      "Updating authors: 100%|██████████| 100/100 [04:27<00:00,  2.67s/it]\n"
     ]
    },
    {
     "name": "stdout",
     "output_type": "stream",
     "text": [
      "Progress: 18,262/53,187 (34.3%)\n",
      "Success rate: 18262/19000 (96.1%)\n",
      "Posts per minute: 28.3\n",
      "Taking a 30-second break between batches...\n",
      "\n",
      "Processing batch 191/532\n"
     ]
    },
    {
     "name": "stderr",
     "output_type": "stream",
     "text": [
      "Updating authors:  23%|██▎       | 23/100 [00:47<03:11,  2.49s/it]"
     ]
    },
    {
     "name": "stdout",
     "output_type": "stream",
     "text": [
      "  ❌ Error updating post l8vqgf: 'Redditor' object has no attribute 'id'\n"
     ]
    },
    {
     "name": "stderr",
     "output_type": "stream",
     "text": [
      "Updating authors:  39%|███▉      | 39/100 [01:27<02:14,  2.20s/it]"
     ]
    },
    {
     "name": "stdout",
     "output_type": "stream",
     "text": [
      "  ❌ Error updating post l8vfxt: 'Redditor' object has no attribute 'id'\n"
     ]
    },
    {
     "name": "stderr",
     "output_type": "stream",
     "text": [
      "Updating authors:  75%|███████▌  | 75/100 [02:53<00:58,  2.34s/it]"
     ]
    },
    {
     "name": "stdout",
     "output_type": "stream",
     "text": [
      "  ❌ Error updating post l8ukwa: 'Redditor' object has no attribute 'id'\n"
     ]
    },
    {
     "name": "stderr",
     "output_type": "stream",
     "text": [
      "Updating authors:  88%|████████▊ | 88/100 [03:24<00:26,  2.22s/it]"
     ]
    },
    {
     "name": "stdout",
     "output_type": "stream",
     "text": [
      "  ❌ Error updating post l8tw56: 'Redditor' object has no attribute 'id'\n"
     ]
    },
    {
     "name": "stderr",
     "output_type": "stream",
     "text": [
      "Updating authors:  99%|█████████▉| 99/100 [03:52<00:01,  1.96s/it]"
     ]
    },
    {
     "name": "stdout",
     "output_type": "stream",
     "text": [
      "  ❌ Error updating post l8tlbb: 'Redditor' object has no attribute 'id'\n"
     ]
    },
    {
     "name": "stderr",
     "output_type": "stream",
     "text": [
      "Updating authors: 100%|██████████| 100/100 [03:54<00:00,  2.35s/it]\n"
     ]
    },
    {
     "name": "stdout",
     "output_type": "stream",
     "text": [
      "Progress: 18,357/53,187 (34.5%)\n",
      "Success rate: 18357/19100 (96.1%)\n",
      "Posts per minute: 28.2\n",
      "Taking a 30-second break between batches...\n",
      "\n",
      "Processing batch 192/532\n"
     ]
    },
    {
     "name": "stderr",
     "output_type": "stream",
     "text": [
      "Updating authors:  18%|█▊        | 18/100 [00:49<03:44,  2.74s/it]"
     ]
    },
    {
     "name": "stdout",
     "output_type": "stream",
     "text": [
      "  ❌ Error updating post l8ssek: 'Redditor' object has no attribute 'id'\n"
     ]
    },
    {
     "name": "stderr",
     "output_type": "stream",
     "text": [
      "Updating authors:  45%|████▌     | 45/100 [02:07<02:29,  2.72s/it]"
     ]
    },
    {
     "name": "stdout",
     "output_type": "stream",
     "text": [
      "  ❌ Error updating post l8rso3: 'Redditor' object has no attribute 'id'\n"
     ]
    },
    {
     "name": "stderr",
     "output_type": "stream",
     "text": [
      "Updating authors:  78%|███████▊  | 78/100 [03:45<01:19,  3.61s/it]"
     ]
    },
    {
     "name": "stdout",
     "output_type": "stream",
     "text": [
      "  ❌ Error updating post l9yh86: received 404 HTTP response\n"
     ]
    },
    {
     "name": "stderr",
     "output_type": "stream",
     "text": [
      "Updating authors: 100%|██████████| 100/100 [04:37<00:00,  2.78s/it]\n"
     ]
    },
    {
     "name": "stdout",
     "output_type": "stream",
     "text": [
      "Progress: 18,454/53,187 (34.7%)\n",
      "Success rate: 18454/19200 (96.1%)\n",
      "Posts per minute: 28.1\n",
      "Taking a 30-second break between batches...\n",
      "\n",
      "Processing batch 193/532\n"
     ]
    },
    {
     "name": "stderr",
     "output_type": "stream",
     "text": [
      "Updating authors:  13%|█▎        | 13/100 [00:39<03:31,  2.43s/it]"
     ]
    },
    {
     "name": "stdout",
     "output_type": "stream",
     "text": [
      "  ❌ Error updating post l98bcz: 'Redditor' object has no attribute 'id'\n"
     ]
    },
    {
     "name": "stderr",
     "output_type": "stream",
     "text": [
      "Updating authors:  16%|█▌        | 16/100 [00:50<04:45,  3.39s/it]"
     ]
    },
    {
     "name": "stdout",
     "output_type": "stream",
     "text": [
      "  ❌ Error updating post l97rz1: 'Redditor' object has no attribute 'id'\n"
     ]
    },
    {
     "name": "stderr",
     "output_type": "stream",
     "text": [
      "Updating authors:  22%|██▏       | 22/100 [01:08<03:48,  2.93s/it]"
     ]
    },
    {
     "name": "stdout",
     "output_type": "stream",
     "text": [
      "  ❌ Error updating post l97buc: 'Redditor' object has no attribute 'id'\n"
     ]
    },
    {
     "name": "stderr",
     "output_type": "stream",
     "text": [
      "Updating authors:  25%|██▌       | 25/100 [01:17<03:32,  2.83s/it]"
     ]
    },
    {
     "name": "stdout",
     "output_type": "stream",
     "text": [
      "  ❌ Error updating post l975qo: 'Redditor' object has no attribute 'id'\n"
     ]
    },
    {
     "name": "stderr",
     "output_type": "stream",
     "text": [
      "Updating authors:  84%|████████▍ | 84/100 [03:50<00:48,  3.04s/it]"
     ]
    },
    {
     "name": "stdout",
     "output_type": "stream",
     "text": [
      "  ❌ Error updating post la1d5l: 'Redditor' object has no attribute 'id'\n"
     ]
    },
    {
     "name": "stderr",
     "output_type": "stream",
     "text": [
      "Updating authors: 100%|██████████| 100/100 [04:28<00:00,  2.69s/it]\n"
     ]
    },
    {
     "name": "stdout",
     "output_type": "stream",
     "text": [
      "Progress: 18,549/53,187 (34.9%)\n",
      "Success rate: 18549/19300 (96.1%)\n",
      "Posts per minute: 28.1\n",
      "Taking a 30-second break between batches...\n",
      "\n",
      "Processing batch 194/532\n"
     ]
    },
    {
     "name": "stderr",
     "output_type": "stream",
     "text": [
      "Updating authors:  32%|███▏      | 32/100 [01:13<02:16,  2.01s/it]"
     ]
    },
    {
     "name": "stdout",
     "output_type": "stream",
     "text": [
      "  ❌ Error updating post l9vz30: 'Redditor' object has no attribute 'id'\n"
     ]
    },
    {
     "name": "stderr",
     "output_type": "stream",
     "text": [
      "Updating authors:  55%|█████▌    | 55/100 [01:58<01:21,  1.82s/it]"
     ]
    },
    {
     "name": "stdout",
     "output_type": "stream",
     "text": [
      "  ❌ Error updating post l9v8zq: 'Redditor' object has no attribute 'id'\n"
     ]
    },
    {
     "name": "stderr",
     "output_type": "stream",
     "text": [
      "Updating authors:  57%|█████▋    | 57/100 [02:04<01:44,  2.44s/it]"
     ]
    },
    {
     "name": "stdout",
     "output_type": "stream",
     "text": [
      "  ❌ Error updating post l9v78d: 'Redditor' object has no attribute 'id'\n"
     ]
    },
    {
     "name": "stderr",
     "output_type": "stream",
     "text": [
      "Updating authors:  58%|█████▊    | 58/100 [02:06<01:37,  2.32s/it]"
     ]
    },
    {
     "name": "stdout",
     "output_type": "stream",
     "text": [
      "  ❌ Error updating post l9v6fo: 'Redditor' object has no attribute 'id'\n"
     ]
    },
    {
     "name": "stderr",
     "output_type": "stream",
     "text": [
      "Updating authors:  67%|██████▋   | 67/100 [02:23<01:04,  1.96s/it]"
     ]
    },
    {
     "name": "stdout",
     "output_type": "stream",
     "text": [
      "  ❌ Error updating post l9v17h: 'Redditor' object has no attribute 'id'\n"
     ]
    },
    {
     "name": "stderr",
     "output_type": "stream",
     "text": [
      "Updating authors:  76%|███████▌  | 76/100 [02:45<00:56,  2.37s/it]"
     ]
    },
    {
     "name": "stdout",
     "output_type": "stream",
     "text": [
      "  ❌ Error updating post l9uqa0: 'Redditor' object has no attribute 'id'\n"
     ]
    },
    {
     "name": "stderr",
     "output_type": "stream",
     "text": [
      "Updating authors:  88%|████████▊ | 88/100 [03:13<00:30,  2.54s/it]"
     ]
    },
    {
     "name": "stdout",
     "output_type": "stream",
     "text": [
      "  ❌ Error updating post l9u6kb: 'Redditor' object has no attribute 'id'\n"
     ]
    },
    {
     "name": "stderr",
     "output_type": "stream",
     "text": [
      "Updating authors:  93%|█████████▎| 93/100 [03:24<00:16,  2.43s/it]"
     ]
    },
    {
     "name": "stdout",
     "output_type": "stream",
     "text": [
      "  ❌ Error updating post l9u1pl: 'Redditor' object has no attribute 'id'\n"
     ]
    },
    {
     "name": "stderr",
     "output_type": "stream",
     "text": [
      "Updating authors: 100%|██████████| 100/100 [03:42<00:00,  2.22s/it]\n"
     ]
    },
    {
     "name": "stdout",
     "output_type": "stream",
     "text": [
      "Progress: 18,641/53,187 (35.0%)\n",
      "Success rate: 18641/19400 (96.1%)\n",
      "Posts per minute: 28.0\n",
      "Taking a 30-second break between batches...\n",
      "\n",
      "Processing batch 195/532\n"
     ]
    },
    {
     "name": "stderr",
     "output_type": "stream",
     "text": [
      "Updating authors:   7%|▋         | 7/100 [00:14<03:06,  2.00s/it]"
     ]
    },
    {
     "name": "stdout",
     "output_type": "stream",
     "text": [
      "  ❌ Error updating post l9to6v: 'Redditor' object has no attribute 'id'\n"
     ]
    },
    {
     "name": "stderr",
     "output_type": "stream",
     "text": [
      "Updating authors:  23%|██▎       | 23/100 [00:55<03:42,  2.89s/it]"
     ]
    },
    {
     "name": "stdout",
     "output_type": "stream",
     "text": [
      "  ❌ Error updating post l9t86s: 'Redditor' object has no attribute 'id'\n"
     ]
    },
    {
     "name": "stderr",
     "output_type": "stream",
     "text": [
      "Updating authors:  32%|███▏      | 32/100 [01:17<02:46,  2.46s/it]"
     ]
    },
    {
     "name": "stdout",
     "output_type": "stream",
     "text": [
      "  ❌ Error updating post l9stka: 'Redditor' object has no attribute 'id'\n"
     ]
    },
    {
     "name": "stderr",
     "output_type": "stream",
     "text": [
      "Updating authors:  40%|████      | 40/100 [01:39<02:27,  2.45s/it]"
     ]
    },
    {
     "name": "stdout",
     "output_type": "stream",
     "text": [
      "  ❌ Error updating post l9sl3q: 'Redditor' object has no attribute 'id'\n"
     ]
    },
    {
     "name": "stderr",
     "output_type": "stream",
     "text": [
      "Updating authors:  52%|█████▏    | 52/100 [02:07<01:33,  1.96s/it]"
     ]
    },
    {
     "name": "stdout",
     "output_type": "stream",
     "text": [
      "  ❌ Error updating post l9s88i: 'Redditor' object has no attribute 'id'\n"
     ]
    },
    {
     "name": "stderr",
     "output_type": "stream",
     "text": [
      "Updating authors:  64%|██████▍   | 64/100 [02:35<01:25,  2.38s/it]"
     ]
    },
    {
     "name": "stdout",
     "output_type": "stream",
     "text": [
      "  ❌ Error updating post l9rp9x: 'Redditor' object has no attribute 'id'\n"
     ]
    },
    {
     "name": "stderr",
     "output_type": "stream",
     "text": [
      "Updating authors:  67%|██████▋   | 67/100 [02:42<01:14,  2.26s/it]"
     ]
    },
    {
     "name": "stdout",
     "output_type": "stream",
     "text": [
      "  ❌ Error updating post l9rkz6: 'Redditor' object has no attribute 'id'\n"
     ]
    },
    {
     "name": "stderr",
     "output_type": "stream",
     "text": [
      "Updating authors:  77%|███████▋  | 77/100 [03:10<00:50,  2.20s/it]"
     ]
    },
    {
     "name": "stdout",
     "output_type": "stream",
     "text": [
      "  ❌ Error updating post l9r6m6: 'Redditor' object has no attribute 'id'\n"
     ]
    },
    {
     "name": "stderr",
     "output_type": "stream",
     "text": [
      "Updating authors: 100%|██████████| 100/100 [04:10<00:00,  2.51s/it]\n"
     ]
    },
    {
     "name": "stdout",
     "output_type": "stream",
     "text": [
      "Progress: 18,733/53,187 (35.2%)\n",
      "Success rate: 18733/19500 (96.1%)\n",
      "Posts per minute: 28.0\n",
      "Taking a 30-second break between batches...\n",
      "\n",
      "Processing batch 196/532\n"
     ]
    },
    {
     "name": "stderr",
     "output_type": "stream",
     "text": [
      "Updating authors:  11%|█         | 11/100 [00:27<03:20,  2.26s/it]"
     ]
    },
    {
     "name": "stdout",
     "output_type": "stream",
     "text": [
      "  ❌ Error updating post l9q7mn: 'Redditor' object has no attribute 'id'\n"
     ]
    },
    {
     "name": "stderr",
     "output_type": "stream",
     "text": [
      "Updating authors:  13%|█▎        | 13/100 [00:31<03:01,  2.09s/it]"
     ]
    },
    {
     "name": "stdout",
     "output_type": "stream",
     "text": [
      "  ❌ Error updating post l9q60k: 'Redditor' object has no attribute 'id'\n"
     ]
    },
    {
     "name": "stderr",
     "output_type": "stream",
     "text": [
      "Updating authors:  56%|█████▌    | 56/100 [02:20<01:59,  2.72s/it]"
     ]
    },
    {
     "name": "stdout",
     "output_type": "stream",
     "text": [
      "  ❌ Error updating post l9ozuk: 'Redditor' object has no attribute 'id'\n"
     ]
    },
    {
     "name": "stderr",
     "output_type": "stream",
     "text": [
      "Updating authors: 100%|██████████| 100/100 [04:06<00:00,  2.46s/it]\n"
     ]
    },
    {
     "name": "stdout",
     "output_type": "stream",
     "text": [
      "Progress: 18,830/53,187 (35.4%)\n",
      "Success rate: 18830/19600 (96.1%)\n",
      "Posts per minute: 27.9\n",
      "Taking a 30-second break between batches...\n",
      "\n",
      "Processing batch 197/532\n"
     ]
    },
    {
     "name": "stderr",
     "output_type": "stream",
     "text": [
      "Updating authors:   8%|▊         | 8/100 [00:19<03:44,  2.44s/it]"
     ]
    },
    {
     "name": "stdout",
     "output_type": "stream",
     "text": [
      "  ❌ Error updating post l9nkc6: 'Redditor' object has no attribute 'id'\n"
     ]
    },
    {
     "name": "stderr",
     "output_type": "stream",
     "text": [
      "Updating authors:  38%|███▊      | 38/100 [01:23<02:14,  2.17s/it]"
     ]
    },
    {
     "name": "stdout",
     "output_type": "stream",
     "text": [
      "  ❌ Error updating post l9mval: 'Redditor' object has no attribute 'id'\n"
     ]
    },
    {
     "name": "stderr",
     "output_type": "stream",
     "text": [
      "Updating authors:  45%|████▌     | 45/100 [01:39<02:14,  2.45s/it]"
     ]
    },
    {
     "name": "stdout",
     "output_type": "stream",
     "text": [
      "  ❌ Error updating post l9mr9b: 'Redditor' object has no attribute 'id'\n"
     ]
    },
    {
     "name": "stderr",
     "output_type": "stream",
     "text": [
      "Updating authors:  94%|█████████▍| 94/100 [03:42<00:12,  2.12s/it]"
     ]
    },
    {
     "name": "stdout",
     "output_type": "stream",
     "text": [
      "  ❌ Error updating post l9l9dr: 'Redditor' object has no attribute 'id'\n"
     ]
    },
    {
     "name": "stderr",
     "output_type": "stream",
     "text": [
      "Updating authors: 100%|██████████| 100/100 [03:57<00:00,  2.37s/it]\n"
     ]
    },
    {
     "name": "stdout",
     "output_type": "stream",
     "text": [
      "Progress: 18,926/53,187 (35.6%)\n",
      "Success rate: 18926/19700 (96.1%)\n",
      "Posts per minute: 27.9\n",
      "Taking a 30-second break between batches...\n",
      "\n",
      "Processing batch 198/532\n"
     ]
    },
    {
     "name": "stderr",
     "output_type": "stream",
     "text": [
      "Updating authors:   8%|▊         | 8/100 [00:20<04:11,  2.73s/it]"
     ]
    },
    {
     "name": "stdout",
     "output_type": "stream",
     "text": [
      "  ❌ Error updating post l9ksh1: 'Redditor' object has no attribute 'id'\n"
     ]
    },
    {
     "name": "stderr",
     "output_type": "stream",
     "text": [
      "Updating authors:  32%|███▏      | 32/100 [01:30<03:10,  2.80s/it]"
     ]
    },
    {
     "name": "stdout",
     "output_type": "stream",
     "text": [
      "  ❌ Error updating post l9jnpw: 'Redditor' object has no attribute 'id'\n"
     ]
    },
    {
     "name": "stderr",
     "output_type": "stream",
     "text": [
      "Updating authors:  44%|████▍     | 44/100 [02:01<02:22,  2.55s/it]"
     ]
    },
    {
     "name": "stdout",
     "output_type": "stream",
     "text": [
      "  ❌ Error updating post l9j8ht: 'Redditor' object has no attribute 'id'\n"
     ]
    },
    {
     "name": "stderr",
     "output_type": "stream",
     "text": [
      "Updating authors:  46%|████▌     | 46/100 [02:08<02:47,  3.11s/it]"
     ]
    },
    {
     "name": "stdout",
     "output_type": "stream",
     "text": [
      "  ❌ Error updating post l9j2ow: 'Redditor' object has no attribute 'id'\n"
     ]
    },
    {
     "name": "stderr",
     "output_type": "stream",
     "text": [
      "Updating authors:  58%|█████▊    | 58/100 [02:38<01:44,  2.50s/it]"
     ]
    },
    {
     "name": "stdout",
     "output_type": "stream",
     "text": [
      "  ❌ Error updating post l9isoa: received 404 HTTP response\n"
     ]
    },
    {
     "name": "stderr",
     "output_type": "stream",
     "text": [
      "Updating authors:  65%|██████▌   | 65/100 [02:55<01:20,  2.30s/it]"
     ]
    },
    {
     "name": "stdout",
     "output_type": "stream",
     "text": [
      "  ❌ Error updating post l9imop: 'Redditor' object has no attribute 'id'\n"
     ]
    },
    {
     "name": "stderr",
     "output_type": "stream",
     "text": [
      "Updating authors:  72%|███████▏  | 72/100 [03:16<01:33,  3.35s/it]"
     ]
    },
    {
     "name": "stdout",
     "output_type": "stream",
     "text": [
      "  ❌ Error updating post l9idz3: 'Redditor' object has no attribute 'id'\n"
     ]
    },
    {
     "name": "stderr",
     "output_type": "stream",
     "text": [
      "Updating authors:  81%|████████  | 81/100 [03:35<00:43,  2.28s/it]"
     ]
    },
    {
     "name": "stdout",
     "output_type": "stream",
     "text": [
      "  ❌ Error updating post l9hxlp: 'Redditor' object has no attribute 'id'\n"
     ]
    },
    {
     "name": "stderr",
     "output_type": "stream",
     "text": [
      "Updating authors:  92%|█████████▏| 92/100 [04:09<00:29,  3.68s/it]"
     ]
    },
    {
     "name": "stdout",
     "output_type": "stream",
     "text": [
      "  ❌ Error updating post l9hnpt: 'Redditor' object has no attribute 'id'\n"
     ]
    },
    {
     "name": "stderr",
     "output_type": "stream",
     "text": [
      "Updating authors: 100%|██████████| 100/100 [04:29<00:00,  2.69s/it]\n"
     ]
    },
    {
     "name": "stdout",
     "output_type": "stream",
     "text": [
      "Progress: 19,017/53,187 (35.8%)\n",
      "Success rate: 19017/19800 (96.0%)\n",
      "Posts per minute: 27.8\n",
      "Taking a 30-second break between batches...\n",
      "\n",
      "Processing batch 199/532\n"
     ]
    },
    {
     "name": "stderr",
     "output_type": "stream",
     "text": [
      "Updating authors:   0%|          | 0/100 [00:00<?, ?it/s]"
     ]
    },
    {
     "name": "stdout",
     "output_type": "stream",
     "text": [
      "  ❌ Error updating post l9hjsc: 'Redditor' object has no attribute 'id'\n"
     ]
    },
    {
     "name": "stderr",
     "output_type": "stream",
     "text": [
      "Updating authors:  22%|██▏       | 22/100 [00:52<02:52,  2.22s/it]"
     ]
    },
    {
     "name": "stdout",
     "output_type": "stream",
     "text": [
      "  ❌ Error updating post l9gyuh: 'Redditor' object has no attribute 'id'\n"
     ]
    },
    {
     "name": "stderr",
     "output_type": "stream",
     "text": [
      "Updating authors:  29%|██▉       | 29/100 [01:14<03:51,  3.26s/it]"
     ]
    },
    {
     "name": "stdout",
     "output_type": "stream",
     "text": [
      "  ❌ Error updating post l9guvh: received 404 HTTP response\n"
     ]
    },
    {
     "name": "stderr",
     "output_type": "stream",
     "text": [
      "Updating authors:  31%|███       | 31/100 [01:17<02:54,  2.53s/it]"
     ]
    },
    {
     "name": "stdout",
     "output_type": "stream",
     "text": [
      "  ❌ Error updating post l9gues: 'Redditor' object has no attribute 'id'\n"
     ]
    },
    {
     "name": "stderr",
     "output_type": "stream",
     "text": [
      "Updating authors:  39%|███▉      | 39/100 [01:39<02:24,  2.37s/it]"
     ]
    },
    {
     "name": "stdout",
     "output_type": "stream",
     "text": [
      "  ❌ Error updating post l9ghce: 'Redditor' object has no attribute 'id'\n"
     ]
    },
    {
     "name": "stderr",
     "output_type": "stream",
     "text": [
      "Updating authors:  44%|████▍     | 44/100 [01:52<02:13,  2.38s/it]"
     ]
    },
    {
     "name": "stdout",
     "output_type": "stream",
     "text": [
      "  ❌ Error updating post l9gd98: 'Redditor' object has no attribute 'id'\n"
     ]
    },
    {
     "name": "stderr",
     "output_type": "stream",
     "text": [
      "Updating authors: 100%|██████████| 100/100 [04:30<00:00,  2.70s/it]\n"
     ]
    },
    {
     "name": "stdout",
     "output_type": "stream",
     "text": [
      "Progress: 19,111/53,187 (35.9%)\n",
      "Success rate: 19111/19900 (96.0%)\n",
      "Posts per minute: 27.7\n",
      "Taking a 30-second break between batches...\n",
      "\n",
      "Processing batch 200/532\n"
     ]
    },
    {
     "name": "stderr",
     "output_type": "stream",
     "text": [
      "Updating authors:  14%|█▍        | 14/100 [00:48<04:45,  3.32s/it]"
     ]
    },
    {
     "name": "stdout",
     "output_type": "stream",
     "text": [
      "  ❌ Error updating post l9ceud: 'Redditor' object has no attribute 'id'\n"
     ]
    },
    {
     "name": "stderr",
     "output_type": "stream",
     "text": [
      "Updating authors:  33%|███▎      | 33/100 [01:42<02:28,  2.22s/it]"
     ]
    },
    {
     "name": "stdout",
     "output_type": "stream",
     "text": [
      "  ❌ Error updating post l9b8av: 'Redditor' object has no attribute 'id'\n"
     ]
    },
    {
     "name": "stderr",
     "output_type": "stream",
     "text": [
      "Updating authors:  37%|███▋      | 37/100 [01:52<02:43,  2.60s/it]"
     ]
    },
    {
     "name": "stdout",
     "output_type": "stream",
     "text": [
      "  ❌ Error updating post l9b2my: 'Redditor' object has no attribute 'id'\n"
     ]
    },
    {
     "name": "stderr",
     "output_type": "stream",
     "text": [
      "Updating authors:  53%|█████▎    | 53/100 [02:26<01:28,  1.89s/it]"
     ]
    },
    {
     "name": "stdout",
     "output_type": "stream",
     "text": [
      "  ❌ Error updating post la8evj: 'Redditor' object has no attribute 'id'\n"
     ]
    },
    {
     "name": "stderr",
     "output_type": "stream",
     "text": [
      "Updating authors:  71%|███████   | 71/100 [02:59<01:04,  2.24s/it]"
     ]
    },
    {
     "name": "stdout",
     "output_type": "stream",
     "text": [
      "  ❌ Error updating post la8a5f: 'Redditor' object has no attribute 'id'\n"
     ]
    },
    {
     "name": "stderr",
     "output_type": "stream",
     "text": [
      "Updating authors:  94%|█████████▍| 94/100 [03:37<00:10,  1.73s/it]"
     ]
    },
    {
     "name": "stdout",
     "output_type": "stream",
     "text": [
      "  ❌ Error updating post la84a0: 'Redditor' object has no attribute 'id'\n"
     ]
    },
    {
     "name": "stderr",
     "output_type": "stream",
     "text": [
      "Updating authors: 100%|██████████| 100/100 [03:50<00:00,  2.31s/it]\n"
     ]
    },
    {
     "name": "stdout",
     "output_type": "stream",
     "text": [
      "Progress: 19,205/53,187 (36.1%)\n",
      "Success rate: 19205/20000 (96.0%)\n",
      "Posts per minute: 27.7\n",
      "Taking a 30-second break between batches...\n",
      "\n",
      "Processing batch 201/532\n"
     ]
    },
    {
     "name": "stderr",
     "output_type": "stream",
     "text": [
      "Updating authors:   6%|▌         | 6/100 [00:09<02:21,  1.50s/it]"
     ]
    },
    {
     "name": "stdout",
     "output_type": "stream",
     "text": [
      "  ❌ Error updating post la81gj: 'Redditor' object has no attribute 'id'\n"
     ]
    },
    {
     "name": "stderr",
     "output_type": "stream",
     "text": [
      "Updating authors: 100%|██████████| 100/100 [03:03<00:00,  1.84s/it]\n"
     ]
    },
    {
     "name": "stdout",
     "output_type": "stream",
     "text": [
      "Progress: 19,304/53,187 (36.3%)\n",
      "Success rate: 19304/20100 (96.0%)\n",
      "Posts per minute: 27.7\n",
      "Taking a 30-second break between batches...\n",
      "\n",
      "Processing batch 202/532\n"
     ]
    },
    {
     "name": "stderr",
     "output_type": "stream",
     "text": [
      "Updating authors:  12%|█▏        | 12/100 [00:24<03:09,  2.15s/it]"
     ]
    },
    {
     "name": "stdout",
     "output_type": "stream",
     "text": [
      "  ❌ Error updating post la74lm: 'Redditor' object has no attribute 'id'\n"
     ]
    },
    {
     "name": "stderr",
     "output_type": "stream",
     "text": [
      "Updating authors:  64%|██████▍   | 64/100 [02:07<01:30,  2.53s/it]"
     ]
    },
    {
     "name": "stdout",
     "output_type": "stream",
     "text": [
      "  ❌ Error updating post la6pxa: 'Redditor' object has no attribute 'id'\n"
     ]
    },
    {
     "name": "stderr",
     "output_type": "stream",
     "text": [
      "Updating authors:  93%|█████████▎| 93/100 [03:01<00:11,  1.65s/it]"
     ]
    },
    {
     "name": "stdout",
     "output_type": "stream",
     "text": [
      "  ❌ Error updating post la6ibw: 'Redditor' object has no attribute 'id'\n"
     ]
    },
    {
     "name": "stderr",
     "output_type": "stream",
     "text": [
      "Updating authors: 100%|██████████| 100/100 [03:13<00:00,  1.93s/it]\n"
     ]
    },
    {
     "name": "stdout",
     "output_type": "stream",
     "text": [
      "Progress: 19,401/53,187 (36.5%)\n",
      "Success rate: 19401/20200 (96.0%)\n",
      "Posts per minute: 27.7\n",
      "Taking a 30-second break between batches...\n",
      "\n",
      "Processing batch 203/532\n"
     ]
    },
    {
     "name": "stderr",
     "output_type": "stream",
     "text": [
      "Updating authors:  22%|██▏       | 22/100 [00:41<02:20,  1.80s/it]"
     ]
    },
    {
     "name": "stdout",
     "output_type": "stream",
     "text": [
      "  ❌ Error updating post la6db4: 'Redditor' object has no attribute 'id'\n"
     ]
    },
    {
     "name": "stderr",
     "output_type": "stream",
     "text": [
      "Updating authors:  60%|██████    | 60/100 [01:50<01:27,  2.18s/it]"
     ]
    },
    {
     "name": "stdout",
     "output_type": "stream",
     "text": [
      "  ❌ Error updating post la65jc: 'Redditor' object has no attribute 'id'\n"
     ]
    },
    {
     "name": "stderr",
     "output_type": "stream",
     "text": [
      "Updating authors: 100%|██████████| 100/100 [03:06<00:00,  1.87s/it]\n"
     ]
    },
    {
     "name": "stdout",
     "output_type": "stream",
     "text": [
      "Progress: 19,499/53,187 (36.7%)\n",
      "Success rate: 19499/20300 (96.1%)\n",
      "Posts per minute: 27.7\n",
      "Taking a 30-second break between batches...\n",
      "\n",
      "Processing batch 204/532\n"
     ]
    },
    {
     "name": "stderr",
     "output_type": "stream",
     "text": [
      "Updating authors:  70%|███████   | 70/100 [02:19<00:51,  1.71s/it]"
     ]
    },
    {
     "name": "stdout",
     "output_type": "stream",
     "text": [
      "  ❌ Error updating post la5hf4: 'Redditor' object has no attribute 'id'\n"
     ]
    },
    {
     "name": "stderr",
     "output_type": "stream",
     "text": [
      "Updating authors:  97%|█████████▋| 97/100 [03:10<00:05,  1.76s/it]"
     ]
    },
    {
     "name": "stdout",
     "output_type": "stream",
     "text": [
      "  ❌ Error updating post la5adh: 'Redditor' object has no attribute 'id'\n"
     ]
    },
    {
     "name": "stderr",
     "output_type": "stream",
     "text": [
      "Updating authors: 100%|██████████| 100/100 [03:16<00:00,  1.96s/it]\n"
     ]
    },
    {
     "name": "stdout",
     "output_type": "stream",
     "text": [
      "Progress: 19,597/53,187 (36.8%)\n",
      "Success rate: 19597/20400 (96.1%)\n",
      "Posts per minute: 27.7\n",
      "Taking a 30-second break between batches...\n",
      "\n",
      "Processing batch 205/532\n"
     ]
    },
    {
     "name": "stderr",
     "output_type": "stream",
     "text": [
      "Updating authors:  27%|██▋       | 27/100 [00:49<02:11,  1.80s/it]"
     ]
    },
    {
     "name": "stdout",
     "output_type": "stream",
     "text": [
      "  ❌ Error updating post la54e7: 'Redditor' object has no attribute 'id'\n"
     ]
    },
    {
     "name": "stderr",
     "output_type": "stream",
     "text": [
      "Updating authors:  45%|████▌     | 45/100 [01:24<01:38,  1.78s/it]"
     ]
    },
    {
     "name": "stdout",
     "output_type": "stream",
     "text": [
      "  ❌ Error updating post la503u: 'Redditor' object has no attribute 'id'\n"
     ]
    },
    {
     "name": "stderr",
     "output_type": "stream",
     "text": [
      "Updating authors:  54%|█████▍    | 54/100 [01:40<01:22,  1.80s/it]"
     ]
    },
    {
     "name": "stdout",
     "output_type": "stream",
     "text": [
      "  ❌ Error updating post la4wz8: 'Redditor' object has no attribute 'id'\n"
     ]
    },
    {
     "name": "stderr",
     "output_type": "stream",
     "text": [
      "Updating authors:  80%|████████  | 80/100 [02:32<00:35,  1.80s/it]"
     ]
    },
    {
     "name": "stdout",
     "output_type": "stream",
     "text": [
      "  ❌ Error updating post la4pt3: 'Redditor' object has no attribute 'id'\n"
     ]
    },
    {
     "name": "stderr",
     "output_type": "stream",
     "text": [
      "Updating authors: 100%|██████████| 100/100 [03:18<00:00,  1.99s/it]\n"
     ]
    },
    {
     "name": "stdout",
     "output_type": "stream",
     "text": [
      "Progress: 19,693/53,187 (37.0%)\n",
      "Success rate: 19693/20500 (96.1%)\n",
      "Posts per minute: 27.7\n",
      "Taking a 30-second break between batches...\n",
      "\n",
      "Processing batch 206/532\n"
     ]
    },
    {
     "name": "stderr",
     "output_type": "stream",
     "text": [
      "Updating authors:   8%|▊         | 8/100 [00:14<02:56,  1.92s/it]"
     ]
    },
    {
     "name": "stdout",
     "output_type": "stream",
     "text": [
      "  ❌ Error updating post la4foc: 'Redditor' object has no attribute 'id'\n"
     ]
    },
    {
     "name": "stderr",
     "output_type": "stream",
     "text": [
      "Updating authors:  45%|████▌     | 45/100 [01:33<02:03,  2.24s/it]"
     ]
    },
    {
     "name": "stdout",
     "output_type": "stream",
     "text": [
      "  ❌ Error updating post la3o6a: 'Redditor' object has no attribute 'id'\n"
     ]
    },
    {
     "name": "stderr",
     "output_type": "stream",
     "text": [
      "Updating authors:  55%|█████▌    | 55/100 [01:56<01:52,  2.50s/it]"
     ]
    },
    {
     "name": "stdout",
     "output_type": "stream",
     "text": [
      "  ❌ Error updating post la3ddb: 'Redditor' object has no attribute 'id'\n"
     ]
    },
    {
     "name": "stderr",
     "output_type": "stream",
     "text": [
      "Updating authors:  57%|█████▋    | 57/100 [02:02<01:52,  2.62s/it]"
     ]
    },
    {
     "name": "stdout",
     "output_type": "stream",
     "text": [
      "  ❌ Error updating post la3cfl: 'Redditor' object has no attribute 'id'\n"
     ]
    },
    {
     "name": "stderr",
     "output_type": "stream",
     "text": [
      "Updating authors: 100%|██████████| 100/100 [03:25<00:00,  2.06s/it]\n"
     ]
    },
    {
     "name": "stdout",
     "output_type": "stream",
     "text": [
      "Progress: 19,789/53,187 (37.2%)\n",
      "Success rate: 19789/20600 (96.1%)\n",
      "Posts per minute: 27.7\n",
      "Taking a 30-second break between batches...\n",
      "\n",
      "Processing batch 207/532\n"
     ]
    },
    {
     "name": "stderr",
     "output_type": "stream",
     "text": [
      "Updating authors:  52%|█████▏    | 52/100 [01:53<01:40,  2.09s/it]"
     ]
    },
    {
     "name": "stdout",
     "output_type": "stream",
     "text": [
      "  ❌ Error updating post la0nf8: 'Redditor' object has no attribute 'id'\n"
     ]
    },
    {
     "name": "stderr",
     "output_type": "stream",
     "text": [
      "Updating authors:  57%|█████▋    | 57/100 [02:10<02:06,  2.94s/it]"
     ]
    },
    {
     "name": "stdout",
     "output_type": "stream",
     "text": [
      "  ❌ Error updating post la0i2o: 'Redditor' object has no attribute 'id'\n"
     ]
    },
    {
     "name": "stderr",
     "output_type": "stream",
     "text": [
      "Updating authors:  67%|██████▋   | 67/100 [02:34<01:25,  2.59s/it]"
     ]
    },
    {
     "name": "stdout",
     "output_type": "stream",
     "text": [
      "  ❌ Error updating post la0ap4: 'Redditor' object has no attribute 'id'\n"
     ]
    },
    {
     "name": "stderr",
     "output_type": "stream",
     "text": [
      "Updating authors:  93%|█████████▎| 93/100 [03:30<00:18,  2.59s/it]"
     ]
    },
    {
     "name": "stdout",
     "output_type": "stream",
     "text": [
      "  ❌ Error updating post l9ywdu: 'Redditor' object has no attribute 'id'\n"
     ]
    },
    {
     "name": "stderr",
     "output_type": "stream",
     "text": [
      "Updating authors:  97%|█████████▋| 97/100 [03:38<00:06,  2.01s/it]"
     ]
    },
    {
     "name": "stdout",
     "output_type": "stream",
     "text": [
      "  ❌ Error updating post l9yslo: 'Redditor' object has no attribute 'id'\n"
     ]
    },
    {
     "name": "stderr",
     "output_type": "stream",
     "text": [
      "Updating authors: 100%|██████████| 100/100 [03:44<00:00,  2.24s/it]\n"
     ]
    },
    {
     "name": "stdout",
     "output_type": "stream",
     "text": [
      "Progress: 19,884/53,187 (37.4%)\n",
      "Success rate: 19884/20700 (96.1%)\n",
      "Posts per minute: 27.6\n",
      "Taking a 30-second break between batches...\n",
      "\n",
      "Processing batch 208/532\n"
     ]
    },
    {
     "name": "stderr",
     "output_type": "stream",
     "text": [
      "Updating authors:   3%|▎         | 3/100 [00:05<03:11,  1.97s/it]"
     ]
    },
    {
     "name": "stdout",
     "output_type": "stream",
     "text": [
      "  ❌ Error updating post l9yocu: received 404 HTTP response\n"
     ]
    },
    {
     "name": "stderr",
     "output_type": "stream",
     "text": [
      "Updating authors:  11%|█         | 11/100 [00:20<02:41,  1.82s/it]"
     ]
    },
    {
     "name": "stdout",
     "output_type": "stream",
     "text": [
      "  ❌ Error updating post l9yl0w: 'Redditor' object has no attribute 'id'\n"
     ]
    },
    {
     "name": "stderr",
     "output_type": "stream",
     "text": [
      "Updating authors:  28%|██▊       | 28/100 [00:52<02:23,  2.00s/it]"
     ]
    },
    {
     "name": "stdout",
     "output_type": "stream",
     "text": [
      "  ❌ Error updating post l9y0ht: 'Redditor' object has no attribute 'id'\n"
     ]
    },
    {
     "name": "stderr",
     "output_type": "stream",
     "text": [
      "Updating authors:  32%|███▏      | 32/100 [01:05<03:20,  2.95s/it]"
     ]
    },
    {
     "name": "stdout",
     "output_type": "stream",
     "text": [
      "  ❌ Error updating post l9xnvl: 'Redditor' object has no attribute 'id'\n"
     ]
    },
    {
     "name": "stderr",
     "output_type": "stream",
     "text": [
      "Updating authors:  34%|███▍      | 34/100 [01:09<02:51,  2.59s/it]"
     ]
    },
    {
     "name": "stdout",
     "output_type": "stream",
     "text": [
      "  ❌ Error updating post l9xkny: 'Redditor' object has no attribute 'id'\n"
     ]
    },
    {
     "name": "stderr",
     "output_type": "stream",
     "text": [
      "Updating authors:  76%|███████▌  | 76/100 [02:28<00:37,  1.58s/it]"
     ]
    },
    {
     "name": "stdout",
     "output_type": "stream",
     "text": [
      "  ❌ Error updating post lapp7l: 'Redditor' object has no attribute 'id'\n"
     ]
    },
    {
     "name": "stderr",
     "output_type": "stream",
     "text": [
      "Updating authors:  79%|███████▉  | 79/100 [02:34<00:36,  1.74s/it]"
     ]
    },
    {
     "name": "stdout",
     "output_type": "stream",
     "text": [
      "  ❌ Error updating post lapoky: 'Redditor' object has no attribute 'id'\n"
     ]
    },
    {
     "name": "stderr",
     "output_type": "stream",
     "text": [
      "Updating authors: 100%|██████████| 100/100 [03:10<00:00,  1.90s/it]\n"
     ]
    },
    {
     "name": "stdout",
     "output_type": "stream",
     "text": [
      "Progress: 19,977/53,187 (37.6%)\n",
      "Success rate: 19977/20800 (96.0%)\n",
      "Posts per minute: 27.6\n",
      "Taking a 30-second break between batches...\n",
      "\n",
      "Processing batch 209/532\n"
     ]
    },
    {
     "name": "stderr",
     "output_type": "stream",
     "text": [
      "Updating authors:   6%|▌         | 6/100 [00:10<02:41,  1.72s/it]"
     ]
    },
    {
     "name": "stdout",
     "output_type": "stream",
     "text": [
      "  ❌ Error updating post lap4xe: 'Redditor' object has no attribute 'id'\n"
     ]
    },
    {
     "name": "stderr",
     "output_type": "stream",
     "text": [
      "Updating authors:  30%|███       | 30/100 [00:52<01:54,  1.64s/it]"
     ]
    },
    {
     "name": "stdout",
     "output_type": "stream",
     "text": [
      "  ❌ Error updating post laor3u: 'Redditor' object has no attribute 'id'\n"
     ]
    },
    {
     "name": "stderr",
     "output_type": "stream",
     "text": [
      "Updating authors:  67%|██████▋   | 67/100 [02:04<01:01,  1.87s/it]"
     ]
    },
    {
     "name": "stdout",
     "output_type": "stream",
     "text": [
      "  ❌ Error updating post lao7d8: 'Redditor' object has no attribute 'id'\n"
     ]
    },
    {
     "name": "stderr",
     "output_type": "stream",
     "text": [
      "Updating authors:  86%|████████▌ | 86/100 [02:38<00:24,  1.72s/it]"
     ]
    },
    {
     "name": "stdout",
     "output_type": "stream",
     "text": [
      "  ❌ Error updating post lanw33: 'Redditor' object has no attribute 'id'\n"
     ]
    },
    {
     "name": "stderr",
     "output_type": "stream",
     "text": [
      "Updating authors:  97%|█████████▋| 97/100 [02:58<00:05,  1.74s/it]"
     ]
    },
    {
     "name": "stdout",
     "output_type": "stream",
     "text": [
      "  ❌ Error updating post lanrn8: 'Redditor' object has no attribute 'id'\n"
     ]
    },
    {
     "name": "stderr",
     "output_type": "stream",
     "text": [
      "Updating authors: 100%|██████████| 100/100 [03:02<00:00,  1.83s/it]\n"
     ]
    },
    {
     "name": "stdout",
     "output_type": "stream",
     "text": [
      "Progress: 20,072/53,187 (37.7%)\n",
      "Success rate: 20072/20900 (96.0%)\n",
      "Posts per minute: 27.6\n",
      "Taking a 30-second break between batches...\n",
      "\n",
      "Processing batch 210/532\n"
     ]
    },
    {
     "name": "stderr",
     "output_type": "stream",
     "text": [
      "Updating authors:   4%|▍         | 4/100 [00:07<02:50,  1.78s/it]"
     ]
    },
    {
     "name": "stdout",
     "output_type": "stream",
     "text": [
      "  ❌ Error updating post lanmpg: 'Redditor' object has no attribute 'id'\n"
     ]
    },
    {
     "name": "stderr",
     "output_type": "stream",
     "text": [
      "Updating authors:  24%|██▍       | 24/100 [00:42<02:06,  1.66s/it]"
     ]
    },
    {
     "name": "stdout",
     "output_type": "stream",
     "text": [
      "  ❌ Error updating post lan9eh: 'Redditor' object has no attribute 'id'\n"
     ]
    },
    {
     "name": "stderr",
     "output_type": "stream",
     "text": [
      "Updating authors:  34%|███▍      | 34/100 [01:00<01:54,  1.73s/it]"
     ]
    },
    {
     "name": "stdout",
     "output_type": "stream",
     "text": [
      "  ❌ Error updating post lan373: 'Redditor' object has no attribute 'id'\n"
     ]
    },
    {
     "name": "stderr",
     "output_type": "stream",
     "text": [
      "Updating authors:  39%|███▉      | 39/100 [01:10<01:55,  1.90s/it]"
     ]
    },
    {
     "name": "stdout",
     "output_type": "stream",
     "text": [
      "  ❌ Error updating post lan1j5: 'Redditor' object has no attribute 'id'\n"
     ]
    },
    {
     "name": "stderr",
     "output_type": "stream",
     "text": [
      "Updating authors:  66%|██████▌   | 66/100 [01:59<01:18,  2.32s/it]"
     ]
    },
    {
     "name": "stdout",
     "output_type": "stream",
     "text": [
      "  ❌ Error updating post lammbx: 'Redditor' object has no attribute 'id'\n"
     ]
    },
    {
     "name": "stderr",
     "output_type": "stream",
     "text": [
      "Updating authors:  80%|████████  | 80/100 [02:23<00:34,  1.72s/it]"
     ]
    },
    {
     "name": "stdout",
     "output_type": "stream",
     "text": [
      "  ❌ Error updating post lamh4z: 'Redditor' object has no attribute 'id'\n"
     ]
    },
    {
     "name": "stderr",
     "output_type": "stream",
     "text": [
      "Updating authors:  94%|█████████▍| 94/100 [02:47<00:10,  1.77s/it]"
     ]
    },
    {
     "name": "stdout",
     "output_type": "stream",
     "text": [
      "  ❌ Error updating post lam8tx: 'Redditor' object has no attribute 'id'\n"
     ]
    },
    {
     "name": "stderr",
     "output_type": "stream",
     "text": [
      "Updating authors: 100%|██████████| 100/100 [02:57<00:00,  1.77s/it]\n"
     ]
    },
    {
     "name": "stdout",
     "output_type": "stream",
     "text": [
      "Progress: 20,165/53,187 (37.9%)\n",
      "Success rate: 20165/21000 (96.0%)\n",
      "Posts per minute: 27.6\n",
      "Taking a 30-second break between batches...\n",
      "\n",
      "Processing batch 211/532\n"
     ]
    },
    {
     "name": "stderr",
     "output_type": "stream",
     "text": [
      "Updating authors:  34%|███▍      | 34/100 [01:05<01:56,  1.76s/it]"
     ]
    },
    {
     "name": "stdout",
     "output_type": "stream",
     "text": [
      "  ❌ Error updating post lalpou: 'Redditor' object has no attribute 'id'\n"
     ]
    },
    {
     "name": "stderr",
     "output_type": "stream",
     "text": [
      "Updating authors:  67%|██████▋   | 67/100 [02:03<00:51,  1.56s/it]"
     ]
    },
    {
     "name": "stdout",
     "output_type": "stream",
     "text": [
      "  ❌ Error updating post lald38: 'Redditor' object has no attribute 'id'\n"
     ]
    },
    {
     "name": "stderr",
     "output_type": "stream",
     "text": [
      "Updating authors: 100%|██████████| 100/100 [03:10<00:00,  1.91s/it]\n"
     ]
    },
    {
     "name": "stdout",
     "output_type": "stream",
     "text": [
      "Progress: 20,263/53,187 (38.1%)\n",
      "Success rate: 20263/21100 (96.0%)\n",
      "Posts per minute: 27.6\n",
      "Taking a 30-second break between batches...\n",
      "\n",
      "Processing batch 212/532\n"
     ]
    },
    {
     "name": "stderr",
     "output_type": "stream",
     "text": [
      "Updating authors:  34%|███▍      | 34/100 [00:57<01:47,  1.62s/it]"
     ]
    },
    {
     "name": "stdout",
     "output_type": "stream",
     "text": [
      "  ❌ Error updating post lakled: 'Redditor' object has no attribute 'id'\n"
     ]
    },
    {
     "name": "stderr",
     "output_type": "stream",
     "text": [
      "Updating authors:  55%|█████▌    | 55/100 [01:34<01:13,  1.64s/it]"
     ]
    },
    {
     "name": "stdout",
     "output_type": "stream",
     "text": [
      "  ❌ Error updating post lakh0v: 'Redditor' object has no attribute 'id'\n"
     ]
    },
    {
     "name": "stderr",
     "output_type": "stream",
     "text": [
      "Updating authors:  95%|█████████▌| 95/100 [02:48<00:09,  1.81s/it]"
     ]
    },
    {
     "name": "stdout",
     "output_type": "stream",
     "text": [
      "  ❌ Error updating post lak244: received 404 HTTP response\n"
     ]
    },
    {
     "name": "stderr",
     "output_type": "stream",
     "text": [
      "Updating authors: 100%|██████████| 100/100 [02:57<00:00,  1.77s/it]\n"
     ]
    },
    {
     "name": "stdout",
     "output_type": "stream",
     "text": [
      "Progress: 20,360/53,187 (38.3%)\n",
      "Success rate: 20360/21200 (96.0%)\n",
      "Posts per minute: 27.6\n",
      "Taking a 30-second break between batches...\n",
      "\n",
      "Processing batch 213/532\n"
     ]
    },
    {
     "name": "stderr",
     "output_type": "stream",
     "text": [
      "Updating authors:   1%|          | 1/100 [00:01<02:47,  1.69s/it]"
     ]
    },
    {
     "name": "stdout",
     "output_type": "stream",
     "text": [
      "  ❌ Error updating post lak0ii: 'Redditor' object has no attribute 'id'\n"
     ]
    },
    {
     "name": "stderr",
     "output_type": "stream",
     "text": [
      "Updating authors:   2%|▏         | 2/100 [00:03<02:43,  1.66s/it]"
     ]
    },
    {
     "name": "stdout",
     "output_type": "stream",
     "text": [
      "  ❌ Error updating post lak0f5: 'Redditor' object has no attribute 'id'\n"
     ]
    },
    {
     "name": "stderr",
     "output_type": "stream",
     "text": [
      "Updating authors:   7%|▋         | 7/100 [00:11<02:32,  1.64s/it]"
     ]
    },
    {
     "name": "stdout",
     "output_type": "stream",
     "text": [
      "  ❌ Error updating post lajwz1: received 404 HTTP response\n"
     ]
    },
    {
     "name": "stderr",
     "output_type": "stream",
     "text": [
      "Updating authors:   9%|▉         | 9/100 [00:15<02:38,  1.74s/it]"
     ]
    },
    {
     "name": "stdout",
     "output_type": "stream",
     "text": [
      "  ❌ Error updating post lajvaj: 'Redditor' object has no attribute 'id'\n"
     ]
    },
    {
     "name": "stderr",
     "output_type": "stream",
     "text": [
      "Updating authors:  31%|███       | 31/100 [00:54<01:57,  1.70s/it]"
     ]
    },
    {
     "name": "stdout",
     "output_type": "stream",
     "text": [
      "  ❌ Error updating post lajne6: 'Redditor' object has no attribute 'id'\n"
     ]
    },
    {
     "name": "stderr",
     "output_type": "stream",
     "text": [
      "Updating authors:  85%|████████▌ | 85/100 [02:28<00:27,  1.85s/it]"
     ]
    },
    {
     "name": "stdout",
     "output_type": "stream",
     "text": [
      "  ❌ Error updating post laj4f3: 'Redditor' object has no attribute 'id'\n"
     ]
    },
    {
     "name": "stderr",
     "output_type": "stream",
     "text": [
      "Updating authors:  86%|████████▌ | 86/100 [02:30<00:25,  1.79s/it]"
     ]
    },
    {
     "name": "stdout",
     "output_type": "stream",
     "text": [
      "  ❌ Error updating post laj2rv: 'Redditor' object has no attribute 'id'\n"
     ]
    },
    {
     "name": "stderr",
     "output_type": "stream",
     "text": [
      "Updating authors: 100%|██████████| 100/100 [02:53<00:00,  1.74s/it]\n"
     ]
    },
    {
     "name": "stdout",
     "output_type": "stream",
     "text": [
      "Progress: 20,453/53,187 (38.5%)\n",
      "Success rate: 20453/21300 (96.0%)\n",
      "Posts per minute: 27.6\n",
      "Taking a 30-second break between batches...\n",
      "\n",
      "Processing batch 214/532\n"
     ]
    },
    {
     "name": "stderr",
     "output_type": "stream",
     "text": [
      "Updating authors:  19%|█▉        | 19/100 [00:32<02:17,  1.69s/it]"
     ]
    },
    {
     "name": "stdout",
     "output_type": "stream",
     "text": [
      "  ❌ Error updating post laiun5: 'Redditor' object has no attribute 'id'\n"
     ]
    },
    {
     "name": "stderr",
     "output_type": "stream",
     "text": [
      "Updating authors:  38%|███▊      | 38/100 [01:06<01:44,  1.69s/it]"
     ]
    },
    {
     "name": "stdout",
     "output_type": "stream",
     "text": [
      "  ❌ Error updating post laimtj: 'Redditor' object has no attribute 'id'\n"
     ]
    },
    {
     "name": "stderr",
     "output_type": "stream",
     "text": [
      "Updating authors:  87%|████████▋ | 87/100 [02:33<00:23,  1.83s/it]"
     ]
    },
    {
     "name": "stdout",
     "output_type": "stream",
     "text": [
      "  ❌ Error updating post laicb1: 'Redditor' object has no attribute 'id'\n"
     ]
    },
    {
     "name": "stderr",
     "output_type": "stream",
     "text": [
      "Updating authors:  95%|█████████▌| 95/100 [02:48<00:09,  1.86s/it]"
     ]
    },
    {
     "name": "stdout",
     "output_type": "stream",
     "text": [
      "  ❌ Error updating post lai8qi: received 404 HTTP response\n"
     ]
    },
    {
     "name": "stderr",
     "output_type": "stream",
     "text": [
      "Updating authors:  99%|█████████▉| 99/100 [02:55<00:01,  1.76s/it]"
     ]
    },
    {
     "name": "stdout",
     "output_type": "stream",
     "text": [
      "  ❌ Error updating post lai796: 'Redditor' object has no attribute 'id'\n"
     ]
    },
    {
     "name": "stderr",
     "output_type": "stream",
     "text": [
      "Updating authors: 100%|██████████| 100/100 [02:59<00:00,  1.79s/it]\n"
     ]
    },
    {
     "name": "stdout",
     "output_type": "stream",
     "text": [
      "Progress: 20,548/53,187 (38.6%)\n",
      "Success rate: 20548/21400 (96.0%)\n",
      "Posts per minute: 27.6\n",
      "Taking a 30-second break between batches...\n",
      "\n",
      "Processing batch 215/532\n"
     ]
    },
    {
     "name": "stderr",
     "output_type": "stream",
     "text": [
      "Updating authors:  16%|█▌        | 16/100 [00:26<02:17,  1.64s/it]"
     ]
    },
    {
     "name": "stdout",
     "output_type": "stream",
     "text": [
      "  ❌ Error updating post lai3oc: 'Redditor' object has no attribute 'id'\n"
     ]
    },
    {
     "name": "stderr",
     "output_type": "stream",
     "text": [
      "Updating authors:  55%|█████▌    | 55/100 [01:36<01:36,  2.14s/it]"
     ]
    },
    {
     "name": "stdout",
     "output_type": "stream",
     "text": [
      "  ❌ Error updating post lahutb: 'Redditor' object has no attribute 'id'\n"
     ]
    },
    {
     "name": "stderr",
     "output_type": "stream",
     "text": [
      "Updating authors:  59%|█████▉    | 59/100 [01:42<01:06,  1.62s/it]"
     ]
    },
    {
     "name": "stdout",
     "output_type": "stream",
     "text": [
      "  ❌ Error updating post lahu28: 'Redditor' object has no attribute 'id'\n"
     ]
    },
    {
     "name": "stderr",
     "output_type": "stream",
     "text": [
      "Updating authors:  83%|████████▎ | 83/100 [02:25<00:36,  2.12s/it]"
     ]
    },
    {
     "name": "stdout",
     "output_type": "stream",
     "text": [
      "  ❌ Error updating post lahlxa: 'Redditor' object has no attribute 'id'\n"
     ]
    },
    {
     "name": "stderr",
     "output_type": "stream",
     "text": [
      "Updating authors:  88%|████████▊ | 88/100 [02:34<00:22,  1.85s/it]"
     ]
    },
    {
     "name": "stdout",
     "output_type": "stream",
     "text": [
      "  ❌ Error updating post lahl08: 'Redditor' object has no attribute 'id'\n"
     ]
    },
    {
     "name": "stderr",
     "output_type": "stream",
     "text": [
      "Updating authors: 100%|██████████| 100/100 [02:54<00:00,  1.74s/it]\n"
     ]
    },
    {
     "name": "stdout",
     "output_type": "stream",
     "text": [
      "Progress: 20,643/53,187 (38.8%)\n",
      "Success rate: 20643/21500 (96.0%)\n",
      "Posts per minute: 27.6\n",
      "Taking a 30-second break between batches...\n",
      "\n",
      "Processing batch 216/532\n"
     ]
    },
    {
     "name": "stderr",
     "output_type": "stream",
     "text": [
      "Updating authors:   8%|▊         | 8/100 [00:13<02:33,  1.67s/it]"
     ]
    },
    {
     "name": "stdout",
     "output_type": "stream",
     "text": [
      "  ❌ Error updating post lahgwj: 'Redditor' object has no attribute 'id'\n"
     ]
    },
    {
     "name": "stderr",
     "output_type": "stream",
     "text": [
      "Updating authors:  23%|██▎       | 23/100 [00:39<02:13,  1.73s/it]"
     ]
    },
    {
     "name": "stdout",
     "output_type": "stream",
     "text": [
      "  ❌ Error updating post lahcsd: 'Redditor' object has no attribute 'id'\n"
     ]
    },
    {
     "name": "stderr",
     "output_type": "stream",
     "text": [
      "Updating authors:  31%|███       | 31/100 [00:53<02:17,  1.99s/it]"
     ]
    },
    {
     "name": "stdout",
     "output_type": "stream",
     "text": [
      "  ❌ Error updating post lahb2g: 'Redditor' object has no attribute 'id'\n"
     ]
    },
    {
     "name": "stderr",
     "output_type": "stream",
     "text": [
      "Updating authors:  42%|████▏     | 42/100 [01:12<01:35,  1.65s/it]"
     ]
    },
    {
     "name": "stdout",
     "output_type": "stream",
     "text": [
      "  ❌ Error updating post lah8qn: 'Redditor' object has no attribute 'id'\n"
     ]
    },
    {
     "name": "stderr",
     "output_type": "stream",
     "text": [
      "Updating authors:  66%|██████▌   | 66/100 [01:53<00:58,  1.71s/it]"
     ]
    },
    {
     "name": "stdout",
     "output_type": "stream",
     "text": [
      "  ❌ Error updating post lah3ok: 'Redditor' object has no attribute 'id'\n"
     ]
    },
    {
     "name": "stderr",
     "output_type": "stream",
     "text": [
      "Updating authors: 100%|██████████| 100/100 [02:53<00:00,  1.73s/it]\n"
     ]
    },
    {
     "name": "stdout",
     "output_type": "stream",
     "text": [
      "Progress: 20,738/53,187 (39.0%)\n",
      "Success rate: 20738/21600 (96.0%)\n",
      "Posts per minute: 27.6\n",
      "Taking a 30-second break between batches...\n",
      "\n",
      "Processing batch 217/532\n"
     ]
    },
    {
     "name": "stderr",
     "output_type": "stream",
     "text": [
      "Updating authors:  22%|██▏       | 22/100 [00:35<02:13,  1.72s/it]"
     ]
    },
    {
     "name": "stdout",
     "output_type": "stream",
     "text": [
      "  ❌ Error updating post lags8u: 'Redditor' object has no attribute 'id'\n"
     ]
    },
    {
     "name": "stderr",
     "output_type": "stream",
     "text": [
      "Updating authors:  87%|████████▋ | 87/100 [02:28<00:22,  1.72s/it]"
     ]
    },
    {
     "name": "stdout",
     "output_type": "stream",
     "text": [
      "  ❌ Error updating post laybcl: 'Redditor' object has no attribute 'id'\n"
     ]
    },
    {
     "name": "stderr",
     "output_type": "stream",
     "text": [
      "Updating authors: 100%|██████████| 100/100 [02:53<00:00,  1.74s/it]\n"
     ]
    },
    {
     "name": "stdout",
     "output_type": "stream",
     "text": [
      "Progress: 20,836/53,187 (39.2%)\n",
      "Success rate: 20836/21700 (96.0%)\n",
      "Posts per minute: 27.6\n",
      "Taking a 30-second break between batches...\n",
      "\n",
      "Processing batch 218/532\n"
     ]
    },
    {
     "name": "stderr",
     "output_type": "stream",
     "text": [
      "Updating authors:   0%|          | 0/100 [00:00<?, ?it/s]"
     ]
    },
    {
     "name": "stdout",
     "output_type": "stream",
     "text": [
      "  ❌ Error updating post lay9xt: 'Redditor' object has no attribute 'id'\n"
     ]
    },
    {
     "name": "stderr",
     "output_type": "stream",
     "text": [
      "Updating authors:   7%|▋         | 7/100 [00:11<02:37,  1.69s/it]"
     ]
    },
    {
     "name": "stdout",
     "output_type": "stream",
     "text": [
      "  ❌ Error updating post lay99y: 'Redditor' object has no attribute 'id'\n"
     ]
    },
    {
     "name": "stderr",
     "output_type": "stream",
     "text": [
      "Updating authors:  26%|██▌       | 26/100 [00:43<02:06,  1.71s/it]"
     ]
    },
    {
     "name": "stdout",
     "output_type": "stream",
     "text": [
      "  ❌ Error updating post lay61g: received 404 HTTP response\n"
     ]
    },
    {
     "name": "stderr",
     "output_type": "stream",
     "text": [
      "Updating authors:  58%|█████▊    | 58/100 [01:38<01:10,  1.67s/it]"
     ]
    },
    {
     "name": "stdout",
     "output_type": "stream",
     "text": [
      "  ❌ Error updating post lay22q: 'Redditor' object has no attribute 'id'\n"
     ]
    },
    {
     "name": "stderr",
     "output_type": "stream",
     "text": [
      "Updating authors: 100%|██████████| 100/100 [02:52<00:00,  1.72s/it]\n"
     ]
    },
    {
     "name": "stdout",
     "output_type": "stream",
     "text": [
      "Progress: 20,932/53,187 (39.4%)\n",
      "Success rate: 20932/21800 (96.0%)\n",
      "Posts per minute: 27.6\n",
      "Taking a 30-second break between batches...\n",
      "\n",
      "Processing batch 219/532\n"
     ]
    },
    {
     "name": "stderr",
     "output_type": "stream",
     "text": [
      "Updating authors:   8%|▊         | 8/100 [00:12<02:31,  1.65s/it]"
     ]
    },
    {
     "name": "stdout",
     "output_type": "stream",
     "text": [
      "  ❌ Error updating post laxvuk: 'Redditor' object has no attribute 'id'\n"
     ]
    },
    {
     "name": "stderr",
     "output_type": "stream",
     "text": [
      "Updating authors:  71%|███████   | 71/100 [01:58<00:46,  1.60s/it]"
     ]
    },
    {
     "name": "stdout",
     "output_type": "stream",
     "text": [
      "  ❌ Error updating post laxnz9: 'Redditor' object has no attribute 'id'\n"
     ]
    },
    {
     "name": "stderr",
     "output_type": "stream",
     "text": [
      "Updating authors:  99%|█████████▉| 99/100 [02:47<00:01,  1.74s/it]"
     ]
    },
    {
     "name": "stdout",
     "output_type": "stream",
     "text": [
      "  ❌ Error updating post laxkj2: 'Redditor' object has no attribute 'id'\n"
     ]
    },
    {
     "name": "stderr",
     "output_type": "stream",
     "text": [
      "Updating authors: 100%|██████████| 100/100 [02:49<00:00,  1.69s/it]\n"
     ]
    },
    {
     "name": "stdout",
     "output_type": "stream",
     "text": [
      "Progress: 21,029/53,187 (39.5%)\n",
      "Success rate: 21029/21900 (96.0%)\n",
      "Posts per minute: 27.6\n",
      "Taking a 30-second break between batches...\n",
      "\n",
      "Processing batch 220/532\n"
     ]
    },
    {
     "name": "stderr",
     "output_type": "stream",
     "text": [
      "Updating authors:   5%|▌         | 5/100 [00:08<02:41,  1.70s/it]"
     ]
    },
    {
     "name": "stdout",
     "output_type": "stream",
     "text": [
      "  ❌ Error updating post lb0ukp: 'Redditor' object has no attribute 'id'\n"
     ]
    },
    {
     "name": "stderr",
     "output_type": "stream",
     "text": [
      "Updating authors:  21%|██        | 21/100 [00:35<02:04,  1.58s/it]"
     ]
    },
    {
     "name": "stdout",
     "output_type": "stream",
     "text": [
      "  ❌ Error updating post layid3: 'Redditor' object has no attribute 'id'\n"
     ]
    },
    {
     "name": "stderr",
     "output_type": "stream",
     "text": [
      "Updating authors:  35%|███▌      | 35/100 [00:58<01:47,  1.65s/it]"
     ]
    },
    {
     "name": "stdout",
     "output_type": "stream",
     "text": [
      "  ❌ Error updating post layi6f: 'Redditor' object has no attribute 'id'\n"
     ]
    },
    {
     "name": "stderr",
     "output_type": "stream",
     "text": [
      "Updating authors:  52%|█████▏    | 52/100 [01:28<01:17,  1.62s/it]"
     ]
    },
    {
     "name": "stdout",
     "output_type": "stream",
     "text": [
      "  ❌ Error updating post layhwl: 'Redditor' object has no attribute 'id'\n"
     ]
    },
    {
     "name": "stderr",
     "output_type": "stream",
     "text": [
      "Updating authors:  98%|█████████▊| 98/100 [02:42<00:03,  1.82s/it]"
     ]
    },
    {
     "name": "stdout",
     "output_type": "stream",
     "text": [
      "  ❌ Error updating post layhbs: 'Redditor' object has no attribute 'id'\n"
     ]
    },
    {
     "name": "stderr",
     "output_type": "stream",
     "text": [
      "Updating authors: 100%|██████████| 100/100 [02:45<00:00,  1.66s/it]\n"
     ]
    },
    {
     "name": "stdout",
     "output_type": "stream",
     "text": [
      "Progress: 21,124/53,187 (39.7%)\n",
      "Success rate: 21124/22000 (96.0%)\n",
      "Posts per minute: 27.6\n",
      "Taking a 30-second break between batches...\n",
      "\n",
      "Processing batch 221/532\n"
     ]
    },
    {
     "name": "stderr",
     "output_type": "stream",
     "text": [
      "Updating authors:   9%|▉         | 9/100 [00:14<02:24,  1.59s/it]"
     ]
    },
    {
     "name": "stdout",
     "output_type": "stream",
     "text": [
      "  ❌ Error updating post layh5m: 'Redditor' object has no attribute 'id'\n"
     ]
    },
    {
     "name": "stderr",
     "output_type": "stream",
     "text": [
      "Updating authors:  10%|█         | 10/100 [00:15<02:24,  1.60s/it]"
     ]
    },
    {
     "name": "stdout",
     "output_type": "stream",
     "text": [
      "  ❌ Error updating post layh5k: 'Redditor' object has no attribute 'id'\n"
     ]
    },
    {
     "name": "stderr",
     "output_type": "stream",
     "text": [
      "Updating authors:  15%|█▌        | 15/100 [00:23<02:12,  1.56s/it]"
     ]
    },
    {
     "name": "stdout",
     "output_type": "stream",
     "text": [
      "  ❌ Error updating post layh3u: 'Redditor' object has no attribute 'id'\n"
     ]
    },
    {
     "name": "stderr",
     "output_type": "stream",
     "text": [
      "Updating authors:  22%|██▏       | 22/100 [00:35<02:05,  1.61s/it]"
     ]
    },
    {
     "name": "stdout",
     "output_type": "stream",
     "text": [
      "  ❌ Error updating post layh0z: 'Redditor' object has no attribute 'id'\n"
     ]
    },
    {
     "name": "stderr",
     "output_type": "stream",
     "text": [
      "Updating authors:  43%|████▎     | 43/100 [01:08<01:29,  1.57s/it]"
     ]
    },
    {
     "name": "stdout",
     "output_type": "stream",
     "text": [
      "  ❌ Error updating post laygrx: 'Redditor' object has no attribute 'id'\n"
     ]
    },
    {
     "name": "stderr",
     "output_type": "stream",
     "text": [
      "Updating authors:  60%|██████    | 60/100 [01:36<01:04,  1.62s/it]"
     ]
    },
    {
     "name": "stdout",
     "output_type": "stream",
     "text": [
      "  ❌ Error updating post layfhc: 'Redditor' object has no attribute 'id'\n"
     ]
    },
    {
     "name": "stderr",
     "output_type": "stream",
     "text": [
      "Updating authors:  75%|███████▌  | 75/100 [02:02<00:45,  1.81s/it]"
     ]
    },
    {
     "name": "stdout",
     "output_type": "stream",
     "text": [
      "  ❌ Error updating post laye0j: 'Redditor' object has no attribute 'id'\n"
     ]
    },
    {
     "name": "stderr",
     "output_type": "stream",
     "text": [
      "Updating authors: 100%|██████████| 100/100 [02:49<00:00,  1.69s/it]\n"
     ]
    },
    {
     "name": "stdout",
     "output_type": "stream",
     "text": [
      "Progress: 21,217/53,187 (39.9%)\n",
      "Success rate: 21217/22100 (96.0%)\n",
      "Posts per minute: 27.6\n",
      "Taking a 30-second break between batches...\n",
      "\n",
      "Processing batch 222/532\n"
     ]
    },
    {
     "name": "stderr",
     "output_type": "stream",
     "text": [
      "Updating authors:  10%|█         | 10/100 [00:15<02:10,  1.45s/it]"
     ]
    },
    {
     "name": "stdout",
     "output_type": "stream",
     "text": [
      "  ❌ Error updating post laym4z: 'Redditor' object has no attribute 'id'\n"
     ]
    },
    {
     "name": "stderr",
     "output_type": "stream",
     "text": [
      "Updating authors:  22%|██▏       | 22/100 [00:34<01:59,  1.53s/it]"
     ]
    },
    {
     "name": "stdout",
     "output_type": "stream",
     "text": [
      "  ❌ Error updating post laym01: 'Redditor' object has no attribute 'id'\n"
     ]
    },
    {
     "name": "stderr",
     "output_type": "stream",
     "text": [
      "Updating authors:  29%|██▉       | 29/100 [00:45<01:52,  1.58s/it]"
     ]
    },
    {
     "name": "stdout",
     "output_type": "stream",
     "text": [
      "  ❌ Error updating post laylx7: 'Redditor' object has no attribute 'id'\n"
     ]
    },
    {
     "name": "stderr",
     "output_type": "stream",
     "text": [
      "Updating authors:  59%|█████▉    | 59/100 [01:33<01:02,  1.53s/it]"
     ]
    },
    {
     "name": "stdout",
     "output_type": "stream",
     "text": [
      "  ❌ Error updating post laylhs: 'Redditor' object has no attribute 'id'\n"
     ]
    },
    {
     "name": "stderr",
     "output_type": "stream",
     "text": [
      "Updating authors:  92%|█████████▏| 92/100 [02:27<00:13,  1.65s/it]"
     ]
    },
    {
     "name": "stdout",
     "output_type": "stream",
     "text": [
      "  ❌ Error updating post layl3n: 'Redditor' object has no attribute 'id'\n"
     ]
    },
    {
     "name": "stderr",
     "output_type": "stream",
     "text": [
      "Updating authors:  95%|█████████▌| 95/100 [02:32<00:08,  1.68s/it]"
     ]
    },
    {
     "name": "stdout",
     "output_type": "stream",
     "text": [
      "  ❌ Error updating post layl2c: 'Redditor' object has no attribute 'id'\n"
     ]
    },
    {
     "name": "stderr",
     "output_type": "stream",
     "text": [
      "Updating authors: 100%|██████████| 100/100 [02:39<00:00,  1.60s/it]\n"
     ]
    },
    {
     "name": "stdout",
     "output_type": "stream",
     "text": [
      "Progress: 21,311/53,187 (40.1%)\n",
      "Success rate: 21311/22200 (96.0%)\n",
      "Posts per minute: 27.6\n",
      "Taking a 30-second break between batches...\n",
      "\n",
      "Processing batch 223/532\n"
     ]
    },
    {
     "name": "stderr",
     "output_type": "stream",
     "text": [
      "Updating authors:  49%|████▉     | 49/100 [01:20<01:18,  1.54s/it]"
     ]
    },
    {
     "name": "stdout",
     "output_type": "stream",
     "text": [
      "  ❌ Error updating post laykeh: 'Redditor' object has no attribute 'id'\n"
     ]
    },
    {
     "name": "stderr",
     "output_type": "stream",
     "text": [
      "Updating authors: 100%|██████████| 100/100 [02:43<00:00,  1.64s/it]\n"
     ]
    },
    {
     "name": "stdout",
     "output_type": "stream",
     "text": [
      "Progress: 21,410/53,187 (40.3%)\n",
      "Success rate: 21410/22300 (96.0%)\n",
      "Posts per minute: 27.6\n",
      "Taking a 30-second break between batches...\n",
      "\n",
      "Processing batch 224/532\n"
     ]
    },
    {
     "name": "stderr",
     "output_type": "stream",
     "text": [
      "Updating authors:  26%|██▌       | 26/100 [00:39<01:53,  1.54s/it]"
     ]
    },
    {
     "name": "stdout",
     "output_type": "stream",
     "text": [
      "  ❌ Error updating post layj59: 'Redditor' object has no attribute 'id'\n"
     ]
    },
    {
     "name": "stderr",
     "output_type": "stream",
     "text": [
      "Updating authors:  41%|████      | 41/100 [01:02<01:27,  1.49s/it]"
     ]
    },
    {
     "name": "stdout",
     "output_type": "stream",
     "text": [
      "  ❌ Error updating post layj08: 'Redditor' object has no attribute 'id'\n"
     ]
    },
    {
     "name": "stderr",
     "output_type": "stream",
     "text": [
      "Updating authors:  69%|██████▉   | 69/100 [01:49<00:46,  1.52s/it]"
     ]
    },
    {
     "name": "stdout",
     "output_type": "stream",
     "text": [
      "  ❌ Error updating post layiip: 'Redditor' object has no attribute 'id'\n"
     ]
    },
    {
     "name": "stderr",
     "output_type": "stream",
     "text": [
      "Updating authors:  99%|█████████▉| 99/100 [02:38<00:01,  1.63s/it]"
     ]
    },
    {
     "name": "stdout",
     "output_type": "stream",
     "text": [
      "  ❌ Error updating post lb41tw: 'Redditor' object has no attribute 'id'\n"
     ]
    },
    {
     "name": "stderr",
     "output_type": "stream",
     "text": [
      "Updating authors: 100%|██████████| 100/100 [02:41<00:00,  1.62s/it]\n"
     ]
    },
    {
     "name": "stdout",
     "output_type": "stream",
     "text": [
      "Progress: 21,506/53,187 (40.4%)\n",
      "Success rate: 21506/22400 (96.0%)\n",
      "Posts per minute: 27.6\n",
      "Taking a 30-second break between batches...\n",
      "\n",
      "Processing batch 225/532\n"
     ]
    },
    {
     "name": "stderr",
     "output_type": "stream",
     "text": [
      "Updating authors:  36%|███▌      | 36/100 [01:01<01:44,  1.64s/it]"
     ]
    },
    {
     "name": "stdout",
     "output_type": "stream",
     "text": [
      "  ❌ Error updating post lb3udi: 'Redditor' object has no attribute 'id'\n"
     ]
    },
    {
     "name": "stderr",
     "output_type": "stream",
     "text": [
      "Updating authors: 100%|██████████| 100/100 [02:48<00:00,  1.68s/it]\n"
     ]
    },
    {
     "name": "stdout",
     "output_type": "stream",
     "text": [
      "Progress: 21,605/53,187 (40.6%)\n",
      "Success rate: 21605/22500 (96.0%)\n",
      "Posts per minute: 27.7\n",
      "Taking a 30-second break between batches...\n",
      "\n",
      "Processing batch 226/532\n"
     ]
    },
    {
     "name": "stderr",
     "output_type": "stream",
     "text": [
      "Updating authors:   9%|▉         | 9/100 [00:19<03:21,  2.22s/it]"
     ]
    },
    {
     "name": "stdout",
     "output_type": "stream",
     "text": [
      "  ❌ Error updating post lb3boz: 'Redditor' object has no attribute 'id'\n"
     ]
    },
    {
     "name": "stderr",
     "output_type": "stream",
     "text": [
      "Updating authors:  27%|██▋       | 27/100 [00:51<02:08,  1.76s/it]"
     ]
    },
    {
     "name": "stdout",
     "output_type": "stream",
     "text": [
      "  ❌ Error updating post lb3485: 'Redditor' object has no attribute 'id'\n"
     ]
    },
    {
     "name": "stderr",
     "output_type": "stream",
     "text": [
      "Updating authors:  89%|████████▉ | 89/100 [02:40<00:19,  1.78s/it]"
     ]
    },
    {
     "name": "stdout",
     "output_type": "stream",
     "text": [
      "  ❌ Error updating post lb2hgc: 'Redditor' object has no attribute 'id'\n"
     ]
    },
    {
     "name": "stderr",
     "output_type": "stream",
     "text": [
      "Updating authors:  97%|█████████▋| 97/100 [02:54<00:05,  1.72s/it]"
     ]
    },
    {
     "name": "stdout",
     "output_type": "stream",
     "text": [
      "  ❌ Error updating post lb2g4n: 'Redditor' object has no attribute 'id'\n"
     ]
    },
    {
     "name": "stderr",
     "output_type": "stream",
     "text": [
      "Updating authors: 100%|██████████| 100/100 [02:59<00:00,  1.79s/it]\n"
     ]
    },
    {
     "name": "stdout",
     "output_type": "stream",
     "text": [
      "Progress: 21,701/53,187 (40.8%)\n",
      "Success rate: 21701/22600 (96.0%)\n",
      "Posts per minute: 27.7\n",
      "Taking a 30-second break between batches...\n",
      "\n",
      "Processing batch 227/532\n"
     ]
    },
    {
     "name": "stderr",
     "output_type": "stream",
     "text": [
      "Updating authors:  20%|██        | 20/100 [00:33<02:12,  1.65s/it]"
     ]
    },
    {
     "name": "stdout",
     "output_type": "stream",
     "text": [
      "  ❌ Error updating post lb291x: 'Redditor' object has no attribute 'id'\n"
     ]
    },
    {
     "name": "stderr",
     "output_type": "stream",
     "text": [
      "Updating authors: 100%|██████████| 100/100 [02:51<00:00,  1.71s/it]\n"
     ]
    },
    {
     "name": "stdout",
     "output_type": "stream",
     "text": [
      "Progress: 21,800/53,187 (41.0%)\n",
      "Success rate: 21800/22700 (96.0%)\n",
      "Posts per minute: 27.7\n",
      "Taking a 30-second break between batches...\n",
      "\n",
      "Processing batch 228/532\n"
     ]
    },
    {
     "name": "stderr",
     "output_type": "stream",
     "text": [
      "Updating authors:  44%|████▍     | 44/100 [01:21<01:42,  1.84s/it]"
     ]
    },
    {
     "name": "stdout",
     "output_type": "stream",
     "text": [
      "  ❌ Error updating post lb1ev8: 'Redditor' object has no attribute 'id'\n"
     ]
    },
    {
     "name": "stderr",
     "output_type": "stream",
     "text": [
      "Updating authors:  74%|███████▍  | 74/100 [02:18<00:42,  1.65s/it]"
     ]
    },
    {
     "name": "stdout",
     "output_type": "stream",
     "text": [
      "  ❌ Error updating post lb16ny: 'Redditor' object has no attribute 'id'\n"
     ]
    },
    {
     "name": "stderr",
     "output_type": "stream",
     "text": [
      "Updating authors: 100%|██████████| 100/100 [03:05<00:00,  1.86s/it]\n"
     ]
    },
    {
     "name": "stdout",
     "output_type": "stream",
     "text": [
      "Progress: 21,898/53,187 (41.2%)\n",
      "Success rate: 21898/22800 (96.0%)\n",
      "Posts per minute: 27.7\n",
      "Taking a 30-second break between batches...\n",
      "\n",
      "Processing batch 229/532\n"
     ]
    },
    {
     "name": "stderr",
     "output_type": "stream",
     "text": [
      "Updating authors:   4%|▍         | 4/100 [00:08<03:12,  2.01s/it]"
     ]
    },
    {
     "name": "stdout",
     "output_type": "stream",
     "text": [
      "  ❌ Error updating post lb0yde: 'Redditor' object has no attribute 'id'\n"
     ]
    },
    {
     "name": "stderr",
     "output_type": "stream",
     "text": [
      "Updating authors:  12%|█▏        | 12/100 [00:26<02:41,  1.83s/it]"
     ]
    },
    {
     "name": "stdout",
     "output_type": "stream",
     "text": [
      "  ❌ Error updating post lb0x0o: 'Redditor' object has no attribute 'id'\n"
     ]
    },
    {
     "name": "stderr",
     "output_type": "stream",
     "text": [
      "Updating authors:  73%|███████▎  | 73/100 [02:15<00:46,  1.71s/it]"
     ]
    },
    {
     "name": "stdout",
     "output_type": "stream",
     "text": [
      "  ❌ Error updating post lb0h70: 'Redditor' object has no attribute 'id'\n"
     ]
    },
    {
     "name": "stderr",
     "output_type": "stream",
     "text": [
      "Updating authors:  86%|████████▌ | 86/100 [02:37<00:27,  1.96s/it]"
     ]
    },
    {
     "name": "stdout",
     "output_type": "stream",
     "text": [
      "  ❌ Error updating post lb0eap: 'Redditor' object has no attribute 'id'\n"
     ]
    },
    {
     "name": "stderr",
     "output_type": "stream",
     "text": [
      "Updating authors: 100%|██████████| 100/100 [03:01<00:00,  1.82s/it]\n"
     ]
    },
    {
     "name": "stdout",
     "output_type": "stream",
     "text": [
      "Progress: 21,994/53,187 (41.4%)\n",
      "Success rate: 21994/22900 (96.0%)\n",
      "Posts per minute: 27.7\n",
      "Taking a 30-second break between batches...\n",
      "\n",
      "Processing batch 230/532\n"
     ]
    },
    {
     "name": "stderr",
     "output_type": "stream",
     "text": [
      "Updating authors:  98%|█████████▊| 98/100 [03:00<00:03,  1.65s/it]"
     ]
    },
    {
     "name": "stdout",
     "output_type": "stream",
     "text": [
      "  ❌ Error updating post lazn5e: 'Redditor' object has no attribute 'id'\n"
     ]
    },
    {
     "name": "stderr",
     "output_type": "stream",
     "text": [
      "Updating authors: 100%|██████████| 100/100 [03:03<00:00,  1.83s/it]\n"
     ]
    },
    {
     "name": "stdout",
     "output_type": "stream",
     "text": [
      "Progress: 22,093/53,187 (41.5%)\n",
      "Success rate: 22093/23000 (96.1%)\n",
      "Posts per minute: 27.7\n",
      "Taking a 30-second break between batches...\n",
      "\n",
      "Processing batch 231/532\n"
     ]
    },
    {
     "name": "stderr",
     "output_type": "stream",
     "text": [
      "Updating authors:   3%|▎         | 3/100 [00:04<02:30,  1.55s/it]"
     ]
    },
    {
     "name": "stdout",
     "output_type": "stream",
     "text": [
      "  ❌ Error updating post lazmky: 'Redditor' object has no attribute 'id'\n"
     ]
    },
    {
     "name": "stderr",
     "output_type": "stream",
     "text": [
      "Updating authors:  26%|██▌       | 26/100 [00:46<02:08,  1.74s/it]"
     ]
    },
    {
     "name": "stdout",
     "output_type": "stream",
     "text": [
      "  ❌ Error updating post lazhpl: 'Redditor' object has no attribute 'id'\n"
     ]
    },
    {
     "name": "stderr",
     "output_type": "stream",
     "text": [
      "Updating authors:  27%|██▋       | 27/100 [00:47<02:05,  1.72s/it]"
     ]
    },
    {
     "name": "stdout",
     "output_type": "stream",
     "text": [
      "  ❌ Error updating post lazhmq: 'Redditor' object has no attribute 'id'\n"
     ]
    },
    {
     "name": "stderr",
     "output_type": "stream",
     "text": [
      "Updating authors:  46%|████▌     | 46/100 [01:23<01:34,  1.76s/it]"
     ]
    },
    {
     "name": "stdout",
     "output_type": "stream",
     "text": [
      "  ❌ Error updating post lazf9t: 'Redditor' object has no attribute 'id'\n"
     ]
    },
    {
     "name": "stderr",
     "output_type": "stream",
     "text": [
      "Updating authors: 100%|██████████| 100/100 [02:50<00:00,  1.71s/it]\n"
     ]
    },
    {
     "name": "stdout",
     "output_type": "stream",
     "text": [
      "Progress: 22,189/53,187 (41.7%)\n",
      "Success rate: 22189/23100 (96.1%)\n",
      "Posts per minute: 27.7\n",
      "Taking a 30-second break between batches...\n",
      "\n",
      "Processing batch 232/532\n"
     ]
    },
    {
     "name": "stderr",
     "output_type": "stream",
     "text": [
      "Updating authors:  80%|████████  | 80/100 [02:11<00:31,  1.57s/it]"
     ]
    },
    {
     "name": "stdout",
     "output_type": "stream",
     "text": [
      "  ❌ Error updating post layzuh: 'Redditor' object has no attribute 'id'\n"
     ]
    },
    {
     "name": "stderr",
     "output_type": "stream",
     "text": [
      "Updating authors: 100%|██████████| 100/100 [02:45<00:00,  1.65s/it]\n"
     ]
    },
    {
     "name": "stdout",
     "output_type": "stream",
     "text": [
      "Progress: 22,288/53,187 (41.9%)\n",
      "Success rate: 22288/23200 (96.1%)\n",
      "Posts per minute: 27.7\n",
      "Taking a 30-second break between batches...\n",
      "\n",
      "Processing batch 233/532\n"
     ]
    },
    {
     "name": "stderr",
     "output_type": "stream",
     "text": [
      "Updating authors:  91%|█████████ | 91/100 [02:38<00:14,  1.58s/it]"
     ]
    },
    {
     "name": "stdout",
     "output_type": "stream",
     "text": [
      "  ❌ Error updating post lbhd7j: 'Redditor' object has no attribute 'id'\n"
     ]
    },
    {
     "name": "stderr",
     "output_type": "stream",
     "text": [
      "Updating authors: 100%|██████████| 100/100 [02:56<00:00,  1.76s/it]\n"
     ]
    },
    {
     "name": "stdout",
     "output_type": "stream",
     "text": [
      "Progress: 22,387/53,187 (42.1%)\n",
      "Success rate: 22387/23300 (96.1%)\n",
      "Posts per minute: 27.7\n",
      "Taking a 30-second break between batches...\n",
      "\n",
      "Processing batch 234/532\n"
     ]
    },
    {
     "name": "stderr",
     "output_type": "stream",
     "text": [
      "Updating authors:   5%|▌         | 5/100 [00:08<02:38,  1.67s/it]"
     ]
    },
    {
     "name": "stdout",
     "output_type": "stream",
     "text": [
      "  ❌ Error updating post lb83b7: 'Redditor' object has no attribute 'id'\n"
     ]
    },
    {
     "name": "stderr",
     "output_type": "stream",
     "text": [
      "Updating authors:  41%|████      | 41/100 [01:18<02:44,  2.79s/it]"
     ]
    },
    {
     "name": "stdout",
     "output_type": "stream",
     "text": [
      "  ❌ Error updating post lb7n9w: 'Redditor' object has no attribute 'id'\n"
     ]
    },
    {
     "name": "stderr",
     "output_type": "stream",
     "text": [
      "Updating authors: 100%|██████████| 100/100 [02:54<00:00,  1.75s/it]\n"
     ]
    },
    {
     "name": "stdout",
     "output_type": "stream",
     "text": [
      "Progress: 22,485/53,187 (42.3%)\n",
      "Success rate: 22485/23400 (96.1%)\n",
      "Posts per minute: 27.7\n",
      "Taking a 30-second break between batches...\n",
      "\n",
      "Processing batch 235/532\n"
     ]
    },
    {
     "name": "stderr",
     "output_type": "stream",
     "text": [
      "Updating authors:  24%|██▍       | 24/100 [00:48<02:19,  1.83s/it]"
     ]
    },
    {
     "name": "stdout",
     "output_type": "stream",
     "text": [
      "  ❌ Error updating post lbeurn: 'Redditor' object has no attribute 'id'\n"
     ]
    },
    {
     "name": "stderr",
     "output_type": "stream",
     "text": [
      "Updating authors:  34%|███▍      | 34/100 [01:09<02:17,  2.09s/it]"
     ]
    },
    {
     "name": "stdout",
     "output_type": "stream",
     "text": [
      "  ❌ Error updating post lber4x: 'Redditor' object has no attribute 'id'\n"
     ]
    },
    {
     "name": "stderr",
     "output_type": "stream",
     "text": [
      "Updating authors:  43%|████▎     | 43/100 [01:24<01:38,  1.73s/it]"
     ]
    },
    {
     "name": "stdout",
     "output_type": "stream",
     "text": [
      "  ❌ Error updating post lbeif7: 'Redditor' object has no attribute 'id'\n"
     ]
    },
    {
     "name": "stderr",
     "output_type": "stream",
     "text": [
      "Updating authors:  55%|█████▌    | 55/100 [01:45<01:14,  1.66s/it]"
     ]
    },
    {
     "name": "stdout",
     "output_type": "stream",
     "text": [
      "  ❌ Error updating post lbechw: 'Redditor' object has no attribute 'id'\n"
     ]
    },
    {
     "name": "stderr",
     "output_type": "stream",
     "text": [
      "Updating authors: 100%|██████████| 100/100 [03:11<00:00,  1.92s/it]\n"
     ]
    },
    {
     "name": "stdout",
     "output_type": "stream",
     "text": [
      "Progress: 22,581/53,187 (42.5%)\n",
      "Success rate: 22581/23500 (96.1%)\n",
      "Posts per minute: 27.7\n",
      "Taking a 30-second break between batches...\n",
      "\n",
      "Processing batch 236/532\n"
     ]
    },
    {
     "name": "stderr",
     "output_type": "stream",
     "text": [
      "Updating authors:  82%|████████▏ | 82/100 [02:37<00:36,  2.00s/it]"
     ]
    },
    {
     "name": "stdout",
     "output_type": "stream",
     "text": [
      "  ❌ Error updating post lbcc2e: 'Redditor' object has no attribute 'id'\n"
     ]
    },
    {
     "name": "stderr",
     "output_type": "stream",
     "text": [
      "Updating authors:  95%|█████████▌| 95/100 [02:59<00:08,  1.67s/it]"
     ]
    },
    {
     "name": "stdout",
     "output_type": "stream",
     "text": [
      "  ❌ Error updating post lbc5kq: 'Redditor' object has no attribute 'id'\n"
     ]
    },
    {
     "name": "stderr",
     "output_type": "stream",
     "text": [
      "Updating authors: 100%|██████████| 100/100 [03:07<00:00,  1.88s/it]\n"
     ]
    },
    {
     "name": "stdout",
     "output_type": "stream",
     "text": [
      "Progress: 22,679/53,187 (42.6%)\n",
      "Success rate: 22679/23600 (96.1%)\n",
      "Posts per minute: 27.7\n",
      "Taking a 30-second break between batches...\n",
      "\n",
      "Processing batch 237/532\n"
     ]
    },
    {
     "name": "stderr",
     "output_type": "stream",
     "text": [
      "Updating authors:   8%|▊         | 8/100 [00:14<02:39,  1.74s/it]"
     ]
    },
    {
     "name": "stdout",
     "output_type": "stream",
     "text": [
      "  ❌ Error updating post lbbyam: 'Redditor' object has no attribute 'id'\n"
     ]
    },
    {
     "name": "stderr",
     "output_type": "stream",
     "text": [
      "Updating authors:  45%|████▌     | 45/100 [01:16<01:29,  1.63s/it]"
     ]
    },
    {
     "name": "stdout",
     "output_type": "stream",
     "text": [
      "  ❌ Error updating post lbbls8: 'Redditor' object has no attribute 'id'\n"
     ]
    },
    {
     "name": "stderr",
     "output_type": "stream",
     "text": [
      "Updating authors:  74%|███████▍  | 74/100 [02:05<00:43,  1.67s/it]"
     ]
    },
    {
     "name": "stdout",
     "output_type": "stream",
     "text": [
      "  ❌ Error updating post lbb9dw: 'Redditor' object has no attribute 'id'\n"
     ]
    },
    {
     "name": "stderr",
     "output_type": "stream",
     "text": [
      "Updating authors:  83%|████████▎ | 83/100 [02:21<00:33,  1.95s/it]"
     ]
    },
    {
     "name": "stdout",
     "output_type": "stream",
     "text": [
      "  ❌ Error updating post lbb5n9: 'Redditor' object has no attribute 'id'\n"
     ]
    },
    {
     "name": "stderr",
     "output_type": "stream",
     "text": [
      "Updating authors: 100%|██████████| 100/100 [02:49<00:00,  1.70s/it]\n"
     ]
    },
    {
     "name": "stdout",
     "output_type": "stream",
     "text": [
      "Progress: 22,775/53,187 (42.8%)\n",
      "Success rate: 22775/23700 (96.1%)\n",
      "Posts per minute: 27.7\n",
      "Taking a 30-second break between batches...\n",
      "\n",
      "Processing batch 238/532\n"
     ]
    },
    {
     "name": "stderr",
     "output_type": "stream",
     "text": [
      "Updating authors:   7%|▋         | 7/100 [00:13<02:32,  1.64s/it]"
     ]
    },
    {
     "name": "stdout",
     "output_type": "stream",
     "text": [
      "  ❌ Error updating post lbayyc: 'Redditor' object has no attribute 'id'\n"
     ]
    },
    {
     "name": "stderr",
     "output_type": "stream",
     "text": [
      "Updating authors:  38%|███▊      | 38/100 [01:07<02:06,  2.04s/it]"
     ]
    },
    {
     "name": "stdout",
     "output_type": "stream",
     "text": [
      "  ❌ Error updating post lbanld: 'Redditor' object has no attribute 'id'\n"
     ]
    },
    {
     "name": "stderr",
     "output_type": "stream",
     "text": [
      "Updating authors:  39%|███▉      | 39/100 [01:09<01:59,  1.96s/it]"
     ]
    },
    {
     "name": "stdout",
     "output_type": "stream",
     "text": [
      "  ❌ Error updating post lbana8: received 404 HTTP response\n"
     ]
    },
    {
     "name": "stderr",
     "output_type": "stream",
     "text": [
      "Updating authors:  69%|██████▉   | 69/100 [02:04<00:51,  1.65s/it]"
     ]
    },
    {
     "name": "stdout",
     "output_type": "stream",
     "text": [
      "  ❌ Error updating post lbacpk: 'Redditor' object has no attribute 'id'\n"
     ]
    },
    {
     "name": "stderr",
     "output_type": "stream",
     "text": [
      "Updating authors: 100%|██████████| 100/100 [02:59<00:00,  1.80s/it]\n"
     ]
    },
    {
     "name": "stdout",
     "output_type": "stream",
     "text": [
      "Progress: 22,871/53,187 (43.0%)\n",
      "Success rate: 22871/23800 (96.1%)\n",
      "Posts per minute: 27.7\n",
      "Taking a 30-second break between batches...\n",
      "\n",
      "Processing batch 239/532\n"
     ]
    },
    {
     "name": "stderr",
     "output_type": "stream",
     "text": [
      "Updating authors:  36%|███▌      | 36/100 [01:09<02:12,  2.07s/it]"
     ]
    },
    {
     "name": "stdout",
     "output_type": "stream",
     "text": [
      "  ❌ Error updating post lb9fge: 'Redditor' object has no attribute 'id'\n"
     ]
    },
    {
     "name": "stderr",
     "output_type": "stream",
     "text": [
      "Updating authors:  44%|████▍     | 44/100 [01:22<01:34,  1.69s/it]"
     ]
    },
    {
     "name": "stdout",
     "output_type": "stream",
     "text": [
      "  ❌ Error updating post lb9a34: 'Redditor' object has no attribute 'id'\n"
     ]
    },
    {
     "name": "stderr",
     "output_type": "stream",
     "text": [
      "Updating authors:  59%|█████▉    | 59/100 [01:48<01:13,  1.80s/it]"
     ]
    },
    {
     "name": "stdout",
     "output_type": "stream",
     "text": [
      "  ❌ Error updating post lb942r: 'Redditor' object has no attribute 'id'\n"
     ]
    },
    {
     "name": "stderr",
     "output_type": "stream",
     "text": [
      "Updating authors:  92%|█████████▏| 92/100 [02:47<00:13,  1.66s/it]"
     ]
    },
    {
     "name": "stdout",
     "output_type": "stream",
     "text": [
      "  ❌ Error updating post lb8lwf: 'Redditor' object has no attribute 'id'\n"
     ]
    },
    {
     "name": "stderr",
     "output_type": "stream",
     "text": [
      "Updating authors: 100%|██████████| 100/100 [03:04<00:00,  1.84s/it]\n"
     ]
    },
    {
     "name": "stdout",
     "output_type": "stream",
     "text": [
      "Progress: 22,967/53,187 (43.2%)\n",
      "Success rate: 22967/23900 (96.1%)\n",
      "Posts per minute: 27.7\n",
      "Taking a 30-second break between batches...\n",
      "\n",
      "Processing batch 240/532\n"
     ]
    },
    {
     "name": "stderr",
     "output_type": "stream",
     "text": [
      "Updating authors:   4%|▍         | 4/100 [00:06<02:26,  1.53s/it]"
     ]
    },
    {
     "name": "stdout",
     "output_type": "stream",
     "text": [
      "  ❌ Error updating post lb8jxy: 'Redditor' object has no attribute 'id'\n"
     ]
    },
    {
     "name": "stderr",
     "output_type": "stream",
     "text": [
      "Updating authors:  11%|█         | 11/100 [00:21<02:40,  1.80s/it]"
     ]
    },
    {
     "name": "stdout",
     "output_type": "stream",
     "text": [
      "  ❌ Error updating post lb8hjc: 'Redditor' object has no attribute 'id'\n"
     ]
    },
    {
     "name": "stderr",
     "output_type": "stream",
     "text": [
      "Updating authors:  29%|██▉       | 29/100 [00:54<02:31,  2.13s/it]"
     ]
    },
    {
     "name": "stdout",
     "output_type": "stream",
     "text": [
      "  ❌ Error updating post lb886c: 'Redditor' object has no attribute 'id'\n"
     ]
    },
    {
     "name": "stderr",
     "output_type": "stream",
     "text": [
      "Updating authors:  30%|███       | 30/100 [00:56<02:25,  2.07s/it]"
     ]
    },
    {
     "name": "stdout",
     "output_type": "stream",
     "text": [
      "  ❌ Error updating post lb880v: 'Redditor' object has no attribute 'id'\n"
     ]
    },
    {
     "name": "stderr",
     "output_type": "stream",
     "text": [
      "Updating authors:  50%|█████     | 50/100 [01:34<01:28,  1.77s/it]"
     ]
    },
    {
     "name": "stdout",
     "output_type": "stream",
     "text": [
      "  ❌ Error updating post lbtwxb: 'Redditor' object has no attribute 'id'\n"
     ]
    },
    {
     "name": "stderr",
     "output_type": "stream",
     "text": [
      "Updating authors:  53%|█████▎    | 53/100 [01:39<01:23,  1.77s/it]"
     ]
    },
    {
     "name": "stdout",
     "output_type": "stream",
     "text": [
      "  ❌ Error updating post lbtvg5: 'Redditor' object has no attribute 'id'\n"
     ]
    },
    {
     "name": "stderr",
     "output_type": "stream",
     "text": [
      "Updating authors:  57%|█████▋    | 57/100 [01:48<01:35,  2.21s/it]"
     ]
    },
    {
     "name": "stdout",
     "output_type": "stream",
     "text": [
      "  ❌ Error updating post lbtv25: 'Redditor' object has no attribute 'id'\n"
     ]
    },
    {
     "name": "stderr",
     "output_type": "stream",
     "text": [
      "Updating authors:  62%|██████▏   | 62/100 [01:57<01:07,  1.79s/it]"
     ]
    },
    {
     "name": "stdout",
     "output_type": "stream",
     "text": [
      "  ❌ Error updating post lbtrrd: 'Redditor' object has no attribute 'id'\n"
     ]
    },
    {
     "name": "stderr",
     "output_type": "stream",
     "text": [
      "Updating authors:  70%|███████   | 70/100 [02:12<00:51,  1.71s/it]"
     ]
    },
    {
     "name": "stdout",
     "output_type": "stream",
     "text": [
      "  ❌ Error updating post lbtpv4: 'Redditor' object has no attribute 'id'\n"
     ]
    },
    {
     "name": "stderr",
     "output_type": "stream",
     "text": [
      "Updating authors:  82%|████████▏ | 82/100 [02:33<00:32,  1.81s/it]"
     ]
    },
    {
     "name": "stdout",
     "output_type": "stream",
     "text": [
      "  ❌ Error updating post lbtild: 'Redditor' object has no attribute 'id'\n"
     ]
    },
    {
     "name": "stderr",
     "output_type": "stream",
     "text": [
      "Updating authors: 100%|██████████| 100/100 [03:08<00:00,  1.89s/it]\n"
     ]
    },
    {
     "name": "stdout",
     "output_type": "stream",
     "text": [
      "Progress: 23,057/53,187 (43.4%)\n",
      "Success rate: 23057/24000 (96.1%)\n",
      "Posts per minute: 27.6\n",
      "Taking a 30-second break between batches...\n",
      "\n",
      "Processing batch 241/532\n"
     ]
    },
    {
     "name": "stderr",
     "output_type": "stream",
     "text": [
      "Updating authors:  32%|███▏      | 32/100 [00:58<02:11,  1.94s/it]"
     ]
    },
    {
     "name": "stdout",
     "output_type": "stream",
     "text": [
      "  ❌ Error updating post lbswgr: 'Redditor' object has no attribute 'id'\n"
     ]
    },
    {
     "name": "stderr",
     "output_type": "stream",
     "text": [
      "Updating authors: 100%|██████████| 100/100 [03:15<00:00,  1.95s/it]\n"
     ]
    },
    {
     "name": "stdout",
     "output_type": "stream",
     "text": [
      "Progress: 23,156/53,187 (43.5%)\n",
      "Success rate: 23156/24100 (96.1%)\n",
      "Posts per minute: 27.6\n",
      "Taking a 30-second break between batches...\n",
      "\n",
      "Processing batch 242/532\n"
     ]
    },
    {
     "name": "stderr",
     "output_type": "stream",
     "text": [
      "Updating authors:  19%|█▉        | 19/100 [00:33<02:48,  2.08s/it]"
     ]
    },
    {
     "name": "stdout",
     "output_type": "stream",
     "text": [
      "  ❌ Error updating post lbrk69: 'Redditor' object has no attribute 'id'\n"
     ]
    },
    {
     "name": "stderr",
     "output_type": "stream",
     "text": [
      "Updating authors:  39%|███▉      | 39/100 [01:09<02:10,  2.13s/it]"
     ]
    },
    {
     "name": "stdout",
     "output_type": "stream",
     "text": [
      "  ❌ Error updating post lbrc01: 'Redditor' object has no attribute 'id'\n"
     ]
    },
    {
     "name": "stderr",
     "output_type": "stream",
     "text": [
      "Updating authors:  99%|█████████▉| 99/100 [02:59<00:01,  1.65s/it]"
     ]
    },
    {
     "name": "stdout",
     "output_type": "stream",
     "text": [
      "  ❌ Error updating post lbqkik: 'Redditor' object has no attribute 'id'\n"
     ]
    },
    {
     "name": "stderr",
     "output_type": "stream",
     "text": [
      "Updating authors: 100%|██████████| 100/100 [03:01<00:00,  1.81s/it]\n"
     ]
    },
    {
     "name": "stdout",
     "output_type": "stream",
     "text": [
      "Progress: 23,253/53,187 (43.7%)\n",
      "Success rate: 23253/24200 (96.1%)\n",
      "Posts per minute: 27.6\n",
      "Taking a 30-second break between batches...\n",
      "\n",
      "Processing batch 243/532\n"
     ]
    },
    {
     "name": "stderr",
     "output_type": "stream",
     "text": [
      "Updating authors: 100%|██████████| 100/100 [03:01<00:00,  1.82s/it]\n"
     ]
    },
    {
     "name": "stdout",
     "output_type": "stream",
     "text": [
      "Progress: 23,353/53,187 (43.9%)\n",
      "Success rate: 23353/24300 (96.1%)\n",
      "Posts per minute: 27.6\n",
      "Taking a 30-second break between batches...\n",
      "\n",
      "Processing batch 244/532\n"
     ]
    },
    {
     "name": "stderr",
     "output_type": "stream",
     "text": [
      "Updating authors:  34%|███▍      | 34/100 [01:04<02:37,  2.39s/it]"
     ]
    },
    {
     "name": "stdout",
     "output_type": "stream",
     "text": [
      "  ❌ Error updating post lbp58n: 'Redditor' object has no attribute 'id'\n"
     ]
    },
    {
     "name": "stderr",
     "output_type": "stream",
     "text": [
      "Updating authors: 100%|██████████| 100/100 [03:13<00:00,  1.94s/it]\n"
     ]
    },
    {
     "name": "stdout",
     "output_type": "stream",
     "text": [
      "Progress: 23,452/53,187 (44.1%)\n",
      "Success rate: 23452/24400 (96.1%)\n",
      "Posts per minute: 27.6\n",
      "Taking a 30-second break between batches...\n",
      "\n",
      "Processing batch 245/532\n"
     ]
    },
    {
     "name": "stderr",
     "output_type": "stream",
     "text": [
      "Updating authors:   6%|▌         | 6/100 [00:10<02:42,  1.72s/it]"
     ]
    },
    {
     "name": "stdout",
     "output_type": "stream",
     "text": [
      "  ❌ Error updating post lbohhs: 'Redditor' object has no attribute 'id'\n"
     ]
    },
    {
     "name": "stderr",
     "output_type": "stream",
     "text": [
      "Updating authors:  21%|██        | 21/100 [00:36<02:12,  1.67s/it]"
     ]
    },
    {
     "name": "stdout",
     "output_type": "stream",
     "text": [
      "  ❌ Error updating post lboe73: 'Redditor' object has no attribute 'id'\n"
     ]
    },
    {
     "name": "stderr",
     "output_type": "stream",
     "text": [
      "Updating authors:  63%|██████▎   | 63/100 [01:57<01:20,  2.17s/it]"
     ]
    },
    {
     "name": "stdout",
     "output_type": "stream",
     "text": [
      "  ❌ Error updating post lbnu1w: 'Redditor' object has no attribute 'id'\n"
     ]
    },
    {
     "name": "stderr",
     "output_type": "stream",
     "text": [
      "Updating authors:  78%|███████▊  | 78/100 [02:29<00:51,  2.35s/it]"
     ]
    },
    {
     "name": "stdout",
     "output_type": "stream",
     "text": [
      "  ❌ Error updating post lbnkyp: received 404 HTTP response\n"
     ]
    },
    {
     "name": "stderr",
     "output_type": "stream",
     "text": [
      "Updating authors: 100%|██████████| 100/100 [03:13<00:00,  1.93s/it]\n"
     ]
    },
    {
     "name": "stdout",
     "output_type": "stream",
     "text": [
      "Progress: 23,548/53,187 (44.3%)\n",
      "Success rate: 23548/24500 (96.1%)\n",
      "Posts per minute: 27.6\n",
      "Taking a 30-second break between batches...\n",
      "\n",
      "Processing batch 246/532\n"
     ]
    },
    {
     "name": "stderr",
     "output_type": "stream",
     "text": [
      "Updating authors:  28%|██▊       | 28/100 [00:58<02:01,  1.69s/it]"
     ]
    },
    {
     "name": "stdout",
     "output_type": "stream",
     "text": [
      "  ❌ Error updating post lbmheu: 'Redditor' object has no attribute 'id'\n"
     ]
    },
    {
     "name": "stderr",
     "output_type": "stream",
     "text": [
      "Updating authors:  39%|███▉      | 39/100 [01:17<01:42,  1.68s/it]"
     ]
    },
    {
     "name": "stdout",
     "output_type": "stream",
     "text": [
      "  ❌ Error updating post lbm9de: 'Redditor' object has no attribute 'id'\n"
     ]
    },
    {
     "name": "stderr",
     "output_type": "stream",
     "text": [
      "Updating authors:  44%|████▍     | 44/100 [01:34<02:58,  3.19s/it]"
     ]
    },
    {
     "name": "stdout",
     "output_type": "stream",
     "text": [
      "  ❌ Error updating post lblzwa: 'Redditor' object has no attribute 'id'\n"
     ]
    },
    {
     "name": "stderr",
     "output_type": "stream",
     "text": [
      "Updating authors:  49%|████▉     | 49/100 [01:43<01:45,  2.06s/it]"
     ]
    },
    {
     "name": "stdout",
     "output_type": "stream",
     "text": [
      "  ❌ Error updating post lblrhf: 'Redditor' object has no attribute 'id'\n"
     ]
    },
    {
     "name": "stderr",
     "output_type": "stream",
     "text": [
      "Updating authors:  70%|███████   | 70/100 [02:23<00:53,  1.79s/it]"
     ]
    },
    {
     "name": "stdout",
     "output_type": "stream",
     "text": [
      "  ❌ Error updating post lbl6vq: 'Redditor' object has no attribute 'id'\n"
     ]
    },
    {
     "name": "stderr",
     "output_type": "stream",
     "text": [
      "Updating authors:  99%|█████████▉| 99/100 [03:26<00:01,  1.79s/it]"
     ]
    },
    {
     "name": "stdout",
     "output_type": "stream",
     "text": [
      "  ❌ Error updating post lbkls2: 'Redditor' object has no attribute 'id'\n"
     ]
    },
    {
     "name": "stderr",
     "output_type": "stream",
     "text": [
      "Updating authors: 100%|██████████| 100/100 [03:29<00:00,  2.10s/it]\n"
     ]
    },
    {
     "name": "stdout",
     "output_type": "stream",
     "text": [
      "Progress: 23,642/53,187 (44.5%)\n",
      "Success rate: 23642/24600 (96.1%)\n",
      "Posts per minute: 27.6\n",
      "Taking a 30-second break between batches...\n",
      "\n",
      "Processing batch 247/532\n"
     ]
    },
    {
     "name": "stderr",
     "output_type": "stream",
     "text": [
      "Updating authors:   7%|▋         | 7/100 [00:11<02:38,  1.70s/it]"
     ]
    },
    {
     "name": "stdout",
     "output_type": "stream",
     "text": [
      "  ❌ Error updating post lbkek0: 'Redditor' object has no attribute 'id'\n"
     ]
    },
    {
     "name": "stderr",
     "output_type": "stream",
     "text": [
      "Updating authors:  44%|████▍     | 44/100 [01:24<02:33,  2.74s/it]"
     ]
    },
    {
     "name": "stdout",
     "output_type": "stream",
     "text": [
      "  ❌ Error updating post lbjff7: 'Redditor' object has no attribute 'id'\n"
     ]
    },
    {
     "name": "stderr",
     "output_type": "stream",
     "text": [
      "Updating authors:  64%|██████▍   | 64/100 [02:04<01:08,  1.91s/it]"
     ]
    },
    {
     "name": "stdout",
     "output_type": "stream",
     "text": [
      "  ❌ Error updating post lbifwv: 'Redditor' object has no attribute 'id'\n"
     ]
    },
    {
     "name": "stderr",
     "output_type": "stream",
     "text": [
      "Updating authors:  70%|███████   | 70/100 [02:15<00:57,  1.90s/it]"
     ]
    },
    {
     "name": "stdout",
     "output_type": "stream",
     "text": [
      "  ❌ Error updating post lbi896: 'Redditor' object has no attribute 'id'\n"
     ]
    },
    {
     "name": "stderr",
     "output_type": "stream",
     "text": [
      "Updating authors:  82%|████████▏ | 82/100 [02:37<00:33,  1.86s/it]"
     ]
    },
    {
     "name": "stdout",
     "output_type": "stream",
     "text": [
      "  ❌ Error updating post lbhz2d: 'Redditor' object has no attribute 'id'\n"
     ]
    },
    {
     "name": "stderr",
     "output_type": "stream",
     "text": [
      "Updating authors:  89%|████████▉ | 89/100 [02:50<00:19,  1.78s/it]"
     ]
    },
    {
     "name": "stdout",
     "output_type": "stream",
     "text": [
      "  ❌ Error updating post lbhqaf: 'Redditor' object has no attribute 'id'\n"
     ]
    },
    {
     "name": "stderr",
     "output_type": "stream",
     "text": [
      "Updating authors: 100%|██████████| 100/100 [03:08<00:00,  1.88s/it]\n"
     ]
    },
    {
     "name": "stdout",
     "output_type": "stream",
     "text": [
      "Progress: 23,736/53,187 (44.6%)\n",
      "Success rate: 23736/24700 (96.1%)\n",
      "Posts per minute: 27.6\n",
      "Taking a 30-second break between batches...\n",
      "\n",
      "Processing batch 248/532\n"
     ]
    },
    {
     "name": "stderr",
     "output_type": "stream",
     "text": [
      "Updating authors:  29%|██▉       | 29/100 [00:53<02:12,  1.87s/it]"
     ]
    },
    {
     "name": "stdout",
     "output_type": "stream",
     "text": [
      "  ❌ Error updating post lbgcem: 'Redditor' object has no attribute 'id'\n"
     ]
    },
    {
     "name": "stderr",
     "output_type": "stream",
     "text": [
      "Updating authors:  39%|███▉      | 39/100 [01:13<02:00,  1.98s/it]"
     ]
    },
    {
     "name": "stdout",
     "output_type": "stream",
     "text": [
      "  ❌ Error updating post lbg5hk: 'Redditor' object has no attribute 'id'\n"
     ]
    },
    {
     "name": "stderr",
     "output_type": "stream",
     "text": [
      "Updating authors:  61%|██████    | 61/100 [01:54<01:27,  2.26s/it]"
     ]
    },
    {
     "name": "stdout",
     "output_type": "stream",
     "text": [
      "  ❌ Error updating post lbfmcw: 'Redditor' object has no attribute 'id'\n"
     ]
    },
    {
     "name": "stderr",
     "output_type": "stream",
     "text": [
      "Updating authors:  85%|████████▌ | 85/100 [02:35<00:25,  1.69s/it]"
     ]
    },
    {
     "name": "stdout",
     "output_type": "stream",
     "text": [
      "  ❌ Error updating post lbf62u: 'Redditor' object has no attribute 'id'\n"
     ]
    },
    {
     "name": "stderr",
     "output_type": "stream",
     "text": [
      "Updating authors:  99%|█████████▉| 99/100 [03:00<00:01,  1.64s/it]"
     ]
    },
    {
     "name": "stdout",
     "output_type": "stream",
     "text": [
      "  ❌ Error updating post lc86ke: 'Redditor' object has no attribute 'id'\n"
     ]
    },
    {
     "name": "stderr",
     "output_type": "stream",
     "text": [
      "Updating authors: 100%|██████████| 100/100 [03:02<00:00,  1.82s/it]\n"
     ]
    },
    {
     "name": "stdout",
     "output_type": "stream",
     "text": [
      "Progress: 23,831/53,187 (44.8%)\n",
      "Success rate: 23831/24800 (96.1%)\n",
      "Posts per minute: 27.6\n",
      "Taking a 30-second break between batches...\n",
      "\n",
      "Processing batch 249/532\n"
     ]
    },
    {
     "name": "stderr",
     "output_type": "stream",
     "text": [
      "Updating authors:  31%|███       | 31/100 [00:50<01:59,  1.74s/it]"
     ]
    },
    {
     "name": "stdout",
     "output_type": "stream",
     "text": [
      "  ❌ Error updating post lc1gj6: 'Redditor' object has no attribute 'id'\n"
     ]
    },
    {
     "name": "stderr",
     "output_type": "stream",
     "text": [
      "Updating authors:  76%|███████▌  | 76/100 [02:15<00:39,  1.67s/it]"
     ]
    },
    {
     "name": "stdout",
     "output_type": "stream",
     "text": [
      "  ❌ Error updating post lc0kr6: 'Redditor' object has no attribute 'id'\n"
     ]
    },
    {
     "name": "stderr",
     "output_type": "stream",
     "text": [
      "Updating authors: 100%|██████████| 100/100 [02:59<00:00,  1.79s/it]\n"
     ]
    },
    {
     "name": "stdout",
     "output_type": "stream",
     "text": [
      "Progress: 23,929/53,187 (45.0%)\n",
      "Success rate: 23929/24900 (96.1%)\n",
      "Posts per minute: 27.6\n",
      "Taking a 30-second break between batches...\n",
      "\n",
      "Processing batch 250/532\n"
     ]
    },
    {
     "name": "stderr",
     "output_type": "stream",
     "text": [
      "Updating authors:   1%|          | 1/100 [00:01<02:40,  1.63s/it]"
     ]
    },
    {
     "name": "stdout",
     "output_type": "stream",
     "text": [
      "  ❌ Error updating post lc0bs7: 'Redditor' object has no attribute 'id'\n"
     ]
    },
    {
     "name": "stderr",
     "output_type": "stream",
     "text": [
      "Updating authors:   5%|▌         | 5/100 [00:08<02:33,  1.62s/it]"
     ]
    },
    {
     "name": "stdout",
     "output_type": "stream",
     "text": [
      "  ❌ Error updating post lc09fc: 'Redditor' object has no attribute 'id'\n"
     ]
    },
    {
     "name": "stderr",
     "output_type": "stream",
     "text": [
      "Updating authors: 100%|██████████| 100/100 [02:55<00:00,  1.76s/it]\n"
     ]
    },
    {
     "name": "stdout",
     "output_type": "stream",
     "text": [
      "Progress: 24,027/53,187 (45.2%)\n",
      "Success rate: 24027/25000 (96.1%)\n",
      "Posts per minute: 27.6\n",
      "Taking a 30-second break between batches...\n",
      "\n",
      "Processing batch 251/532\n"
     ]
    },
    {
     "name": "stderr",
     "output_type": "stream",
     "text": [
      "Updating authors:  21%|██        | 21/100 [00:35<02:08,  1.62s/it]"
     ]
    },
    {
     "name": "stdout",
     "output_type": "stream",
     "text": [
      "  ❌ Error updating post lc6jqt: 'Redditor' object has no attribute 'id'\n"
     ]
    },
    {
     "name": "stderr",
     "output_type": "stream",
     "text": [
      "Updating authors:  30%|███       | 30/100 [00:51<01:54,  1.63s/it]"
     ]
    },
    {
     "name": "stdout",
     "output_type": "stream",
     "text": [
      "  ❌ Error updating post lc6hhf: 'Redditor' object has no attribute 'id'\n"
     ]
    },
    {
     "name": "stderr",
     "output_type": "stream",
     "text": [
      "Updating authors:  32%|███▏      | 32/100 [00:54<01:53,  1.67s/it]"
     ]
    },
    {
     "name": "stdout",
     "output_type": "stream",
     "text": [
      "  ❌ Error updating post lc6g66: 'Redditor' object has no attribute 'id'\n"
     ]
    },
    {
     "name": "stderr",
     "output_type": "stream",
     "text": [
      "Updating authors:  33%|███▎      | 33/100 [00:56<01:55,  1.72s/it]"
     ]
    },
    {
     "name": "stdout",
     "output_type": "stream",
     "text": [
      "  ❌ Error updating post lc6ej8: 'Redditor' object has no attribute 'id'\n"
     ]
    },
    {
     "name": "stderr",
     "output_type": "stream",
     "text": [
      "Updating authors:  46%|████▌     | 46/100 [01:23<01:42,  1.90s/it]"
     ]
    },
    {
     "name": "stdout",
     "output_type": "stream",
     "text": [
      "  ❌ Error updating post lc619p: 'Redditor' object has no attribute 'id'\n"
     ]
    },
    {
     "name": "stderr",
     "output_type": "stream",
     "text": [
      "Updating authors:  54%|█████▍    | 54/100 [01:40<01:34,  2.05s/it]"
     ]
    },
    {
     "name": "stdout",
     "output_type": "stream",
     "text": [
      "  ❌ Error updating post lc5r42: 'Redditor' object has no attribute 'id'\n"
     ]
    },
    {
     "name": "stderr",
     "output_type": "stream",
     "text": [
      "Updating authors:  56%|█████▌    | 56/100 [01:44<01:24,  1.93s/it]"
     ]
    },
    {
     "name": "stdout",
     "output_type": "stream",
     "text": [
      "  ❌ Error updating post lc5oc9: 'Redditor' object has no attribute 'id'\n"
     ]
    },
    {
     "name": "stderr",
     "output_type": "stream",
     "text": [
      "Updating authors:  83%|████████▎ | 83/100 [02:41<00:36,  2.13s/it]"
     ]
    },
    {
     "name": "stdout",
     "output_type": "stream",
     "text": [
      "  ❌ Error updating post lc52ml: 'Redditor' object has no attribute 'id'\n"
     ]
    },
    {
     "name": "stderr",
     "output_type": "stream",
     "text": [
      "Updating authors:  88%|████████▊ | 88/100 [02:50<00:25,  2.14s/it]"
     ]
    },
    {
     "name": "stdout",
     "output_type": "stream",
     "text": [
      "  ❌ Error updating post lc4y2h: 'Redditor' object has no attribute 'id'\n"
     ]
    },
    {
     "name": "stderr",
     "output_type": "stream",
     "text": [
      "Updating authors: 100%|██████████| 100/100 [03:15<00:00,  1.96s/it]\n"
     ]
    },
    {
     "name": "stdout",
     "output_type": "stream",
     "text": [
      "Progress: 24,118/53,187 (45.3%)\n",
      "Success rate: 24118/25100 (96.1%)\n",
      "Posts per minute: 27.6\n",
      "Taking a 30-second break between batches...\n",
      "\n",
      "Processing batch 252/532\n"
     ]
    },
    {
     "name": "stderr",
     "output_type": "stream",
     "text": [
      "Updating authors:  58%|█████▊    | 58/100 [01:47<01:10,  1.68s/it]"
     ]
    },
    {
     "name": "stdout",
     "output_type": "stream",
     "text": [
      "  ❌ Error updating post lc2soa: 'Redditor' object has no attribute 'id'\n"
     ]
    },
    {
     "name": "stderr",
     "output_type": "stream",
     "text": [
      "Updating authors: 100%|██████████| 100/100 [03:11<00:00,  1.91s/it]\n"
     ]
    },
    {
     "name": "stdout",
     "output_type": "stream",
     "text": [
      "Progress: 24,217/53,187 (45.5%)\n",
      "Success rate: 24217/25200 (96.1%)\n",
      "Posts per minute: 27.6\n",
      "Taking a 30-second break between batches...\n",
      "\n",
      "Processing batch 253/532\n"
     ]
    },
    {
     "name": "stderr",
     "output_type": "stream",
     "text": [
      "Updating authors:   9%|▉         | 9/100 [00:14<02:29,  1.64s/it]"
     ]
    },
    {
     "name": "stdout",
     "output_type": "stream",
     "text": [
      "  ❌ Error updating post lchjfy: 'Redditor' object has no attribute 'id'\n"
     ]
    },
    {
     "name": "stderr",
     "output_type": "stream",
     "text": [
      "Updating authors:  15%|█▌        | 15/100 [00:24<02:15,  1.60s/it]"
     ]
    },
    {
     "name": "stdout",
     "output_type": "stream",
     "text": [
      "  ❌ Error updating post lchhry: 'Redditor' object has no attribute 'id'\n"
     ]
    },
    {
     "name": "stderr",
     "output_type": "stream",
     "text": [
      "Updating authors:  46%|████▌     | 46/100 [01:17<01:35,  1.76s/it]"
     ]
    },
    {
     "name": "stdout",
     "output_type": "stream",
     "text": [
      "  ❌ Error updating post lchafl: 'Redditor' object has no attribute 'id'\n"
     ]
    },
    {
     "name": "stderr",
     "output_type": "stream",
     "text": [
      "Updating authors:  85%|████████▌ | 85/100 [02:26<00:25,  1.72s/it]"
     ]
    },
    {
     "name": "stdout",
     "output_type": "stream",
     "text": [
      "  ❌ Error updating post lch0rf: 'Redditor' object has no attribute 'id'\n"
     ]
    },
    {
     "name": "stderr",
     "output_type": "stream",
     "text": [
      "Updating authors:  92%|█████████▏| 92/100 [02:40<00:16,  2.08s/it]"
     ]
    },
    {
     "name": "stdout",
     "output_type": "stream",
     "text": [
      "  ❌ Error updating post lcgwpf: 'Redditor' object has no attribute 'id'\n"
     ]
    },
    {
     "name": "stderr",
     "output_type": "stream",
     "text": [
      "Updating authors: 100%|██████████| 100/100 [02:59<00:00,  1.79s/it]\n"
     ]
    },
    {
     "name": "stdout",
     "output_type": "stream",
     "text": [
      "Progress: 24,312/53,187 (45.7%)\n",
      "Success rate: 24312/25300 (96.1%)\n",
      "Posts per minute: 27.6\n",
      "Taking a 30-second break between batches...\n",
      "\n",
      "Processing batch 254/532\n"
     ]
    },
    {
     "name": "stderr",
     "output_type": "stream",
     "text": [
      "Updating authors:   2%|▏         | 2/100 [00:03<02:46,  1.70s/it]"
     ]
    },
    {
     "name": "stdout",
     "output_type": "stream",
     "text": [
      "  ❌ Error updating post lcguav: 'Redditor' object has no attribute 'id'\n"
     ]
    },
    {
     "name": "stderr",
     "output_type": "stream",
     "text": [
      "Updating authors:   8%|▊         | 8/100 [00:17<03:00,  1.96s/it]"
     ]
    },
    {
     "name": "stdout",
     "output_type": "stream",
     "text": [
      "  ❌ Error updating post lcgrq9: 'Redditor' object has no attribute 'id'\n"
     ]
    },
    {
     "name": "stderr",
     "output_type": "stream",
     "text": [
      "Updating authors:  11%|█         | 11/100 [00:22<02:33,  1.72s/it]"
     ]
    },
    {
     "name": "stdout",
     "output_type": "stream",
     "text": [
      "  ❌ Error updating post lcgq68: 'Redditor' object has no attribute 'id'\n"
     ]
    },
    {
     "name": "stderr",
     "output_type": "stream",
     "text": [
      "Updating authors:  18%|█▊        | 18/100 [00:34<02:21,  1.72s/it]"
     ]
    },
    {
     "name": "stdout",
     "output_type": "stream",
     "text": [
      "  ❌ Error updating post lcgot9: 'Redditor' object has no attribute 'id'\n"
     ]
    },
    {
     "name": "stderr",
     "output_type": "stream",
     "text": [
      "Updating authors:  20%|██        | 20/100 [00:37<02:17,  1.72s/it]"
     ]
    },
    {
     "name": "stdout",
     "output_type": "stream",
     "text": [
      "  ❌ Error updating post lcgnox: 'Redditor' object has no attribute 'id'\n"
     ]
    },
    {
     "name": "stderr",
     "output_type": "stream",
     "text": [
      "Updating authors:  35%|███▌      | 35/100 [01:03<01:48,  1.67s/it]"
     ]
    },
    {
     "name": "stdout",
     "output_type": "stream",
     "text": [
      "  ❌ Error updating post lcgi2a: 'Redditor' object has no attribute 'id'\n"
     ]
    },
    {
     "name": "stderr",
     "output_type": "stream",
     "text": [
      "Updating authors:  40%|████      | 40/100 [01:11<01:40,  1.68s/it]"
     ]
    },
    {
     "name": "stdout",
     "output_type": "stream",
     "text": [
      "  ❌ Error updating post lcggcn: 'Redditor' object has no attribute 'id'\n"
     ]
    },
    {
     "name": "stderr",
     "output_type": "stream",
     "text": [
      "Updating authors:  78%|███████▊  | 78/100 [02:21<00:45,  2.09s/it]"
     ]
    },
    {
     "name": "stdout",
     "output_type": "stream",
     "text": [
      "  ❌ Error updating post lcg1fj: 'Redditor' object has no attribute 'id'\n"
     ]
    },
    {
     "name": "stderr",
     "output_type": "stream",
     "text": [
      "Updating authors:  83%|████████▎ | 83/100 [02:32<00:38,  2.26s/it]"
     ]
    },
    {
     "name": "stdout",
     "output_type": "stream",
     "text": [
      "  ❌ Error updating post lcfxz6: 'Redditor' object has no attribute 'id'\n"
     ]
    },
    {
     "name": "stderr",
     "output_type": "stream",
     "text": [
      "Updating authors:  99%|█████████▉| 99/100 [03:04<00:01,  1.84s/it]"
     ]
    },
    {
     "name": "stdout",
     "output_type": "stream",
     "text": [
      "  ❌ Error updating post lcfssq: 'Redditor' object has no attribute 'id'\n"
     ]
    },
    {
     "name": "stderr",
     "output_type": "stream",
     "text": [
      "Updating authors: 100%|██████████| 100/100 [03:06<00:00,  1.86s/it]\n"
     ]
    },
    {
     "name": "stdout",
     "output_type": "stream",
     "text": [
      "Progress: 24,402/53,187 (45.9%)\n",
      "Success rate: 24402/25400 (96.1%)\n",
      "Posts per minute: 27.6\n",
      "Taking a 30-second break between batches...\n",
      "\n",
      "Processing batch 255/532\n"
     ]
    },
    {
     "name": "stderr",
     "output_type": "stream",
     "text": [
      "Updating authors:   2%|▏         | 2/100 [00:03<02:58,  1.83s/it]"
     ]
    },
    {
     "name": "stdout",
     "output_type": "stream",
     "text": [
      "  ❌ Error updating post lcfshx: 'Redditor' object has no attribute 'id'\n"
     ]
    },
    {
     "name": "stderr",
     "output_type": "stream",
     "text": [
      "Updating authors:   4%|▍         | 4/100 [00:06<02:33,  1.60s/it]"
     ]
    },
    {
     "name": "stdout",
     "output_type": "stream",
     "text": [
      "  ❌ Error updating post lcfs8e: received 404 HTTP response\n"
     ]
    },
    {
     "name": "stderr",
     "output_type": "stream",
     "text": [
      "Updating authors:  34%|███▍      | 34/100 [00:59<01:53,  1.71s/it]"
     ]
    },
    {
     "name": "stdout",
     "output_type": "stream",
     "text": [
      "  ❌ Error updating post lcfgfb: 'Redditor' object has no attribute 'id'\n"
     ]
    },
    {
     "name": "stderr",
     "output_type": "stream",
     "text": [
      "Updating authors:  83%|████████▎ | 83/100 [02:37<00:30,  1.78s/it]"
     ]
    },
    {
     "name": "stdout",
     "output_type": "stream",
     "text": [
      "  ❌ Error updating post lcemwx: 'Redditor' object has no attribute 'id'\n"
     ]
    },
    {
     "name": "stderr",
     "output_type": "stream",
     "text": [
      "Updating authors: 100%|██████████| 100/100 [03:08<00:00,  1.89s/it]\n"
     ]
    },
    {
     "name": "stdout",
     "output_type": "stream",
     "text": [
      "Progress: 24,498/53,187 (46.1%)\n",
      "Success rate: 24498/25500 (96.1%)\n",
      "Posts per minute: 27.6\n",
      "Taking a 30-second break between batches...\n",
      "\n",
      "Processing batch 256/532\n"
     ]
    },
    {
     "name": "stderr",
     "output_type": "stream",
     "text": [
      "Updating authors:   1%|          | 1/100 [00:01<02:30,  1.52s/it]"
     ]
    },
    {
     "name": "stdout",
     "output_type": "stream",
     "text": [
      "  ❌ Error updating post lced2m: 'Redditor' object has no attribute 'id'\n"
     ]
    },
    {
     "name": "stderr",
     "output_type": "stream",
     "text": [
      "Updating authors:   5%|▌         | 5/100 [00:08<02:42,  1.72s/it]"
     ]
    },
    {
     "name": "stdout",
     "output_type": "stream",
     "text": [
      "  ❌ Error updating post lceadl: 'Redditor' object has no attribute 'id'\n"
     ]
    },
    {
     "name": "stderr",
     "output_type": "stream",
     "text": [
      "Updating authors:  32%|███▏      | 32/100 [01:03<02:15,  1.99s/it]"
     ]
    },
    {
     "name": "stdout",
     "output_type": "stream",
     "text": [
      "  ❌ Error updating post lcdv3o: 'Redditor' object has no attribute 'id'\n"
     ]
    },
    {
     "name": "stderr",
     "output_type": "stream",
     "text": [
      "Updating authors:  46%|████▌     | 46/100 [01:35<01:54,  2.13s/it]"
     ]
    },
    {
     "name": "stdout",
     "output_type": "stream",
     "text": [
      "  ❌ Error updating post lcdmcp: 'Redditor' object has no attribute 'id'\n"
     ]
    },
    {
     "name": "stderr",
     "output_type": "stream",
     "text": [
      "Updating authors:  47%|████▋     | 47/100 [01:37<01:45,  2.00s/it]"
     ]
    },
    {
     "name": "stdout",
     "output_type": "stream",
     "text": [
      "  ❌ Error updating post lcdkvx: 'Redditor' object has no attribute 'id'\n"
     ]
    },
    {
     "name": "stderr",
     "output_type": "stream",
     "text": [
      "Updating authors:  55%|█████▌    | 55/100 [01:51<01:22,  1.84s/it]"
     ]
    },
    {
     "name": "stdout",
     "output_type": "stream",
     "text": [
      "  ❌ Error updating post lcddac: 'Redditor' object has no attribute 'id'\n"
     ]
    },
    {
     "name": "stderr",
     "output_type": "stream",
     "text": [
      "Updating authors:  61%|██████    | 61/100 [02:06<01:27,  2.25s/it]"
     ]
    },
    {
     "name": "stdout",
     "output_type": "stream",
     "text": [
      "  ❌ Error updating post lcd8sv: 'Redditor' object has no attribute 'id'\n"
     ]
    },
    {
     "name": "stderr",
     "output_type": "stream",
     "text": [
      "Updating authors:  62%|██████▏   | 62/100 [02:08<01:19,  2.10s/it]"
     ]
    },
    {
     "name": "stdout",
     "output_type": "stream",
     "text": [
      "  ❌ Error updating post lcd8e6: 'Redditor' object has no attribute 'id'\n"
     ]
    },
    {
     "name": "stderr",
     "output_type": "stream",
     "text": [
      "Updating authors:  86%|████████▌ | 86/100 [02:57<00:34,  2.43s/it]"
     ]
    },
    {
     "name": "stdout",
     "output_type": "stream",
     "text": [
      "  ❌ Error updating post lccous: 'Redditor' object has no attribute 'id'\n"
     ]
    },
    {
     "name": "stderr",
     "output_type": "stream",
     "text": [
      "Updating authors: 100%|██████████| 100/100 [03:21<00:00,  2.01s/it]\n"
     ]
    },
    {
     "name": "stdout",
     "output_type": "stream",
     "text": [
      "Progress: 24,589/53,187 (46.2%)\n",
      "Success rate: 24589/25600 (96.1%)\n",
      "Posts per minute: 27.5\n",
      "Taking a 30-second break between batches...\n",
      "\n",
      "Processing batch 257/532\n"
     ]
    },
    {
     "name": "stderr",
     "output_type": "stream",
     "text": [
      "Updating authors:   5%|▌         | 5/100 [00:08<02:44,  1.73s/it]"
     ]
    },
    {
     "name": "stdout",
     "output_type": "stream",
     "text": [
      "  ❌ Error updating post lccbqo: 'Redditor' object has no attribute 'id'\n"
     ]
    },
    {
     "name": "stderr",
     "output_type": "stream",
     "text": [
      "Updating authors:  22%|██▏       | 22/100 [00:41<02:37,  2.02s/it]"
     ]
    },
    {
     "name": "stdout",
     "output_type": "stream",
     "text": [
      "  ❌ Error updating post lcbgl6: 'Redditor' object has no attribute 'id'\n"
     ]
    },
    {
     "name": "stderr",
     "output_type": "stream",
     "text": [
      "Updating authors:  24%|██▍       | 24/100 [00:46<02:36,  2.06s/it]"
     ]
    },
    {
     "name": "stdout",
     "output_type": "stream",
     "text": [
      "  ❌ Error updating post lcbds9: 'Redditor' object has no attribute 'id'\n"
     ]
    },
    {
     "name": "stderr",
     "output_type": "stream",
     "text": [
      "Updating authors:  30%|███       | 30/100 [00:56<02:06,  1.81s/it]"
     ]
    },
    {
     "name": "stdout",
     "output_type": "stream",
     "text": [
      "  ❌ Error updating post lcb9eo: 'Redditor' object has no attribute 'id'\n"
     ]
    },
    {
     "name": "stderr",
     "output_type": "stream",
     "text": [
      "Updating authors:  47%|████▋     | 47/100 [01:29<01:34,  1.78s/it]"
     ]
    },
    {
     "name": "stdout",
     "output_type": "stream",
     "text": [
      "  ❌ Error updating post lcakfj: 'Redditor' object has no attribute 'id'\n"
     ]
    },
    {
     "name": "stderr",
     "output_type": "stream",
     "text": [
      "Updating authors:  60%|██████    | 60/100 [01:52<01:08,  1.71s/it]"
     ]
    },
    {
     "name": "stdout",
     "output_type": "stream",
     "text": [
      "  ❌ Error updating post lcabtl: 'Redditor' object has no attribute 'id'\n"
     ]
    },
    {
     "name": "stderr",
     "output_type": "stream",
     "text": [
      "Updating authors:  86%|████████▌ | 86/100 [02:41<00:26,  1.91s/it]"
     ]
    },
    {
     "name": "stdout",
     "output_type": "stream",
     "text": [
      "  ❌ Error updating post lc9lgz: 'Redditor' object has no attribute 'id'\n"
     ]
    },
    {
     "name": "stderr",
     "output_type": "stream",
     "text": [
      "Updating authors: 100%|██████████| 100/100 [03:07<00:00,  1.88s/it]\n"
     ]
    },
    {
     "name": "stdout",
     "output_type": "stream",
     "text": [
      "Progress: 24,682/53,187 (46.4%)\n",
      "Success rate: 24682/25700 (96.0%)\n",
      "Posts per minute: 27.5\n",
      "Taking a 30-second break between batches...\n",
      "\n",
      "Processing batch 258/532\n"
     ]
    },
    {
     "name": "stderr",
     "output_type": "stream",
     "text": [
      "Updating authors:  18%|█▊        | 18/100 [00:29<02:18,  1.69s/it]"
     ]
    },
    {
     "name": "stdout",
     "output_type": "stream",
     "text": [
      "  ❌ Error updating post lc8wad: received 404 HTTP response\n"
     ]
    },
    {
     "name": "stderr",
     "output_type": "stream",
     "text": [
      "Updating authors:  28%|██▊       | 28/100 [00:47<02:04,  1.73s/it]"
     ]
    },
    {
     "name": "stdout",
     "output_type": "stream",
     "text": [
      "  ❌ Error updating post lc8v38: 'Redditor' object has no attribute 'id'\n"
     ]
    },
    {
     "name": "stderr",
     "output_type": "stream",
     "text": [
      "Updating authors:  69%|██████▉   | 69/100 [02:00<00:53,  1.74s/it]"
     ]
    },
    {
     "name": "stdout",
     "output_type": "stream",
     "text": [
      "  ❌ Error updating post lc8hum: 'Redditor' object has no attribute 'id'\n"
     ]
    },
    {
     "name": "stderr",
     "output_type": "stream",
     "text": [
      "Updating authors:  78%|███████▊  | 78/100 [02:14<00:34,  1.56s/it]"
     ]
    },
    {
     "name": "stdout",
     "output_type": "stream",
     "text": [
      "  ❌ Error updating post lc8dnh: 'Redditor' object has no attribute 'id'\n"
     ]
    },
    {
     "name": "stderr",
     "output_type": "stream",
     "text": [
      "Updating authors:  83%|████████▎ | 83/100 [02:22<00:26,  1.58s/it]"
     ]
    },
    {
     "name": "stdout",
     "output_type": "stream",
     "text": [
      "  ❌ Error updating post lc8ccy: 'Redditor' object has no attribute 'id'\n"
     ]
    },
    {
     "name": "stderr",
     "output_type": "stream",
     "text": [
      "Updating authors: 100%|██████████| 100/100 [02:49<00:00,  1.69s/it]\n"
     ]
    },
    {
     "name": "stdout",
     "output_type": "stream",
     "text": [
      "Progress: 24,777/53,187 (46.6%)\n",
      "Success rate: 24777/25800 (96.0%)\n",
      "Posts per minute: 27.5\n",
      "Taking a 30-second break between batches...\n",
      "\n",
      "Processing batch 259/532\n"
     ]
    },
    {
     "name": "stderr",
     "output_type": "stream",
     "text": [
      "Updating authors:  73%|███████▎  | 73/100 [02:02<00:45,  1.68s/it]"
     ]
    },
    {
     "name": "stdout",
     "output_type": "stream",
     "text": [
      "  ❌ Error updating post lc7p9h: 'Redditor' object has no attribute 'id'\n"
     ]
    },
    {
     "name": "stderr",
     "output_type": "stream",
     "text": [
      "Updating authors:  78%|███████▊  | 78/100 [02:10<00:34,  1.57s/it]"
     ]
    },
    {
     "name": "stdout",
     "output_type": "stream",
     "text": [
      "  ❌ Error updating post lc7oqh: 'Redditor' object has no attribute 'id'\n"
     ]
    },
    {
     "name": "stderr",
     "output_type": "stream",
     "text": [
      "Updating authors:  82%|████████▏ | 82/100 [02:16<00:28,  1.57s/it]"
     ]
    },
    {
     "name": "stdout",
     "output_type": "stream",
     "text": [
      "  ❌ Error updating post lc7nzn: 'Redditor' object has no attribute 'id'\n"
     ]
    },
    {
     "name": "stderr",
     "output_type": "stream",
     "text": [
      "Updating authors: 100%|██████████| 100/100 [02:52<00:00,  1.72s/it]\n"
     ]
    },
    {
     "name": "stdout",
     "output_type": "stream",
     "text": [
      "Progress: 24,874/53,187 (46.8%)\n",
      "Success rate: 24874/25900 (96.0%)\n",
      "Posts per minute: 27.5\n",
      "Taking a 30-second break between batches...\n",
      "\n",
      "Processing batch 260/532\n"
     ]
    },
    {
     "name": "stderr",
     "output_type": "stream",
     "text": [
      "Updating authors:   9%|▉         | 9/100 [00:17<02:39,  1.75s/it]"
     ]
    },
    {
     "name": "stdout",
     "output_type": "stream",
     "text": [
      "  ❌ Error updating post lc7joq: 'Redditor' object has no attribute 'id'\n"
     ]
    },
    {
     "name": "stderr",
     "output_type": "stream",
     "text": [
      "Updating authors:  14%|█▍        | 14/100 [00:25<02:18,  1.61s/it]"
     ]
    },
    {
     "name": "stdout",
     "output_type": "stream",
     "text": [
      "  ❌ Error updating post lc7j22: 'Redditor' object has no attribute 'id'\n"
     ]
    },
    {
     "name": "stderr",
     "output_type": "stream",
     "text": [
      "Updating authors:  82%|████████▏ | 82/100 [02:15<00:29,  1.62s/it]"
     ]
    },
    {
     "name": "stdout",
     "output_type": "stream",
     "text": [
      "  ❌ Error updating post lc796i: 'Redditor' object has no attribute 'id'\n"
     ]
    },
    {
     "name": "stderr",
     "output_type": "stream",
     "text": [
      "Updating authors:  96%|█████████▌| 96/100 [02:39<00:06,  1.67s/it]"
     ]
    },
    {
     "name": "stdout",
     "output_type": "stream",
     "text": [
      "  ❌ Error updating post lc77hk: 'Redditor' object has no attribute 'id'\n"
     ]
    },
    {
     "name": "stderr",
     "output_type": "stream",
     "text": [
      "Updating authors:  99%|█████████▉| 99/100 [02:43<00:01,  1.62s/it]"
     ]
    },
    {
     "name": "stdout",
     "output_type": "stream",
     "text": [
      "  ❌ Error updating post lc76u5: 'Redditor' object has no attribute 'id'\n"
     ]
    },
    {
     "name": "stderr",
     "output_type": "stream",
     "text": [
      "Updating authors: 100%|██████████| 100/100 [02:45<00:00,  1.66s/it]\n"
     ]
    },
    {
     "name": "stdout",
     "output_type": "stream",
     "text": [
      "Progress: 24,969/53,187 (46.9%)\n",
      "Success rate: 24969/26000 (96.0%)\n",
      "Posts per minute: 27.6\n",
      "Taking a 30-second break between batches...\n",
      "\n",
      "Processing batch 261/532\n"
     ]
    },
    {
     "name": "stderr",
     "output_type": "stream",
     "text": [
      "Updating authors:  11%|█         | 11/100 [00:18<02:33,  1.72s/it]"
     ]
    },
    {
     "name": "stdout",
     "output_type": "stream",
     "text": [
      "  ❌ Error updating post lc75hn: 'Redditor' object has no attribute 'id'\n"
     ]
    },
    {
     "name": "stderr",
     "output_type": "stream",
     "text": [
      "Updating authors:  13%|█▎        | 13/100 [00:21<02:21,  1.62s/it]"
     ]
    },
    {
     "name": "stdout",
     "output_type": "stream",
     "text": [
      "  ❌ Error updating post lc75a9: 'Redditor' object has no attribute 'id'\n"
     ]
    },
    {
     "name": "stderr",
     "output_type": "stream",
     "text": [
      "Updating authors:  20%|██        | 20/100 [00:32<02:06,  1.58s/it]"
     ]
    },
    {
     "name": "stdout",
     "output_type": "stream",
     "text": [
      "  ❌ Error updating post lc74e1: 'Redditor' object has no attribute 'id'\n"
     ]
    },
    {
     "name": "stderr",
     "output_type": "stream",
     "text": [
      "Updating authors:  22%|██▏       | 22/100 [00:36<02:18,  1.78s/it]"
     ]
    },
    {
     "name": "stdout",
     "output_type": "stream",
     "text": [
      "  ❌ Error updating post lc74ar: 'Redditor' object has no attribute 'id'\n"
     ]
    },
    {
     "name": "stderr",
     "output_type": "stream",
     "text": [
      "Updating authors:  27%|██▋       | 27/100 [00:44<01:55,  1.59s/it]"
     ]
    },
    {
     "name": "stdout",
     "output_type": "stream",
     "text": [
      "  ❌ Error updating post lc73c9: 'Redditor' object has no attribute 'id'\n"
     ]
    },
    {
     "name": "stderr",
     "output_type": "stream",
     "text": [
      "Updating authors:  43%|████▎     | 43/100 [01:11<01:37,  1.71s/it]"
     ]
    },
    {
     "name": "stdout",
     "output_type": "stream",
     "text": [
      "  ❌ Error updating post lc718i: 'Redditor' object has no attribute 'id'\n"
     ]
    },
    {
     "name": "stderr",
     "output_type": "stream",
     "text": [
      "Updating authors:  54%|█████▍    | 54/100 [01:30<01:13,  1.59s/it]"
     ]
    },
    {
     "name": "stdout",
     "output_type": "stream",
     "text": [
      "  ❌ Error updating post lc70nw: 'Redditor' object has no attribute 'id'\n"
     ]
    },
    {
     "name": "stderr",
     "output_type": "stream",
     "text": [
      "Updating authors:  71%|███████   | 71/100 [01:57<00:48,  1.66s/it]"
     ]
    },
    {
     "name": "stdout",
     "output_type": "stream",
     "text": [
      "  ❌ Error updating post lc6y8m: 'Redditor' object has no attribute 'id'\n"
     ]
    },
    {
     "name": "stderr",
     "output_type": "stream",
     "text": [
      "Updating authors: 100%|██████████| 100/100 [02:47<00:00,  1.68s/it]\n"
     ]
    },
    {
     "name": "stdout",
     "output_type": "stream",
     "text": [
      "Progress: 25,061/53,187 (47.1%)\n",
      "Success rate: 25061/26100 (96.0%)\n",
      "Posts per minute: 27.6\n",
      "Taking a 30-second break between batches...\n",
      "\n",
      "Processing batch 262/532\n"
     ]
    },
    {
     "name": "stderr",
     "output_type": "stream",
     "text": [
      "Updating authors:   2%|▏         | 2/100 [00:03<02:53,  1.77s/it]"
     ]
    },
    {
     "name": "stdout",
     "output_type": "stream",
     "text": [
      "  ❌ Error updating post lc6tj1: 'Redditor' object has no attribute 'id'\n"
     ]
    },
    {
     "name": "stderr",
     "output_type": "stream",
     "text": [
      "Updating authors:  17%|█▋        | 17/100 [00:29<02:25,  1.75s/it]"
     ]
    },
    {
     "name": "stdout",
     "output_type": "stream",
     "text": [
      "  ❌ Error updating post lcmkgt: 'Redditor' object has no attribute 'id'\n"
     ]
    },
    {
     "name": "stderr",
     "output_type": "stream",
     "text": [
      "Updating authors:  46%|████▌     | 46/100 [01:13<01:24,  1.56s/it]"
     ]
    },
    {
     "name": "stdout",
     "output_type": "stream",
     "text": [
      "  ❌ Error updating post lcmil1: 'Redditor' object has no attribute 'id'\n"
     ]
    },
    {
     "name": "stderr",
     "output_type": "stream",
     "text": [
      "Updating authors:  47%|████▋     | 47/100 [01:15<01:23,  1.57s/it]"
     ]
    },
    {
     "name": "stdout",
     "output_type": "stream",
     "text": [
      "  ❌ Error updating post lcmiki: 'Redditor' object has no attribute 'id'\n"
     ]
    },
    {
     "name": "stderr",
     "output_type": "stream",
     "text": [
      "Updating authors: 100%|██████████| 100/100 [02:37<00:00,  1.58s/it]\n"
     ]
    },
    {
     "name": "stdout",
     "output_type": "stream",
     "text": [
      "Progress: 25,157/53,187 (47.3%)\n",
      "Success rate: 25157/26200 (96.0%)\n",
      "Posts per minute: 27.6\n",
      "Taking a 30-second break between batches...\n",
      "\n",
      "Processing batch 263/532\n"
     ]
    },
    {
     "name": "stderr",
     "output_type": "stream",
     "text": [
      "Updating authors:  22%|██▏       | 22/100 [00:35<02:07,  1.64s/it]"
     ]
    },
    {
     "name": "stdout",
     "output_type": "stream",
     "text": [
      "  ❌ Error updating post lcmd1f: 'Redditor' object has no attribute 'id'\n"
     ]
    },
    {
     "name": "stderr",
     "output_type": "stream",
     "text": [
      "Updating authors:  90%|█████████ | 90/100 [02:30<00:17,  1.72s/it]"
     ]
    },
    {
     "name": "stdout",
     "output_type": "stream",
     "text": [
      "  ❌ Error updating post lcm5uo: 'Redditor' object has no attribute 'id'\n"
     ]
    },
    {
     "name": "stderr",
     "output_type": "stream",
     "text": [
      "Updating authors: 100%|██████████| 100/100 [02:48<00:00,  1.68s/it]\n"
     ]
    },
    {
     "name": "stdout",
     "output_type": "stream",
     "text": [
      "Progress: 25,255/53,187 (47.5%)\n",
      "Success rate: 25255/26300 (96.0%)\n",
      "Posts per minute: 27.6\n",
      "Taking a 30-second break between batches...\n",
      "\n",
      "Processing batch 264/532\n"
     ]
    },
    {
     "name": "stderr",
     "output_type": "stream",
     "text": [
      "Updating authors:  18%|█▊        | 18/100 [00:28<02:05,  1.53s/it]"
     ]
    },
    {
     "name": "stdout",
     "output_type": "stream",
     "text": [
      "  ❌ Error updating post lcm3x9: 'Redditor' object has no attribute 'id'\n"
     ]
    },
    {
     "name": "stderr",
     "output_type": "stream",
     "text": [
      "Updating authors:  28%|██▊       | 28/100 [00:44<01:52,  1.56s/it]"
     ]
    },
    {
     "name": "stdout",
     "output_type": "stream",
     "text": [
      "  ❌ Error updating post lcm3io: 'Redditor' object has no attribute 'id'\n"
     ]
    },
    {
     "name": "stderr",
     "output_type": "stream",
     "text": [
      "Updating authors:  49%|████▉     | 49/100 [01:18<01:29,  1.75s/it]"
     ]
    },
    {
     "name": "stdout",
     "output_type": "stream",
     "text": [
      "  ❌ Error updating post lcm2cc: 'Redditor' object has no attribute 'id'\n"
     ]
    },
    {
     "name": "stderr",
     "output_type": "stream",
     "text": [
      "Updating authors:  78%|███████▊  | 78/100 [02:06<00:35,  1.64s/it]"
     ]
    },
    {
     "name": "stdout",
     "output_type": "stream",
     "text": [
      "  ❌ Error updating post lclyej: 'Redditor' object has no attribute 'id'\n"
     ]
    },
    {
     "name": "stderr",
     "output_type": "stream",
     "text": [
      "Updating authors:  84%|████████▍ | 84/100 [02:15<00:24,  1.50s/it]"
     ]
    },
    {
     "name": "stdout",
     "output_type": "stream",
     "text": [
      "  ❌ Error updating post lclxmk: 'Redditor' object has no attribute 'id'\n"
     ]
    },
    {
     "name": "stderr",
     "output_type": "stream",
     "text": [
      "Updating authors: 100%|██████████| 100/100 [02:40<00:00,  1.60s/it]\n"
     ]
    },
    {
     "name": "stdout",
     "output_type": "stream",
     "text": [
      "Progress: 25,350/53,187 (47.7%)\n",
      "Success rate: 25350/26400 (96.0%)\n",
      "Posts per minute: 27.6\n",
      "Taking a 30-second break between batches...\n",
      "\n",
      "Processing batch 265/532\n"
     ]
    },
    {
     "name": "stderr",
     "output_type": "stream",
     "text": [
      "Updating authors:   8%|▊         | 8/100 [00:13<02:29,  1.62s/it]"
     ]
    },
    {
     "name": "stdout",
     "output_type": "stream",
     "text": [
      "  ❌ Error updating post lcltdv: 'Redditor' object has no attribute 'id'\n"
     ]
    },
    {
     "name": "stderr",
     "output_type": "stream",
     "text": [
      "Updating authors:  13%|█▎        | 13/100 [00:20<02:16,  1.57s/it]"
     ]
    },
    {
     "name": "stdout",
     "output_type": "stream",
     "text": [
      "  ❌ Error updating post lclsgj: 'Redditor' object has no attribute 'id'\n"
     ]
    },
    {
     "name": "stderr",
     "output_type": "stream",
     "text": [
      "Updating authors:  22%|██▏       | 22/100 [00:34<01:58,  1.52s/it]"
     ]
    },
    {
     "name": "stdout",
     "output_type": "stream",
     "text": [
      "  ❌ Error updating post lclqxv: 'Redditor' object has no attribute 'id'\n"
     ]
    },
    {
     "name": "stderr",
     "output_type": "stream",
     "text": [
      "Updating authors:  26%|██▌       | 26/100 [00:41<02:02,  1.66s/it]"
     ]
    },
    {
     "name": "stdout",
     "output_type": "stream",
     "text": [
      "  ❌ Error updating post lclq8n: 'Redditor' object has no attribute 'id'\n"
     ]
    },
    {
     "name": "stderr",
     "output_type": "stream",
     "text": [
      "Updating authors:  32%|███▏      | 32/100 [00:52<02:00,  1.77s/it]"
     ]
    },
    {
     "name": "stdout",
     "output_type": "stream",
     "text": [
      "  ❌ Error updating post lclpvt: 'Redditor' object has no attribute 'id'\n"
     ]
    },
    {
     "name": "stderr",
     "output_type": "stream",
     "text": [
      "Updating authors:  43%|████▎     | 43/100 [01:11<01:39,  1.75s/it]"
     ]
    },
    {
     "name": "stdout",
     "output_type": "stream",
     "text": [
      "  ❌ Error updating post lclnwe: 'Redditor' object has no attribute 'id'\n"
     ]
    },
    {
     "name": "stderr",
     "output_type": "stream",
     "text": [
      "Updating authors:  55%|█████▌    | 55/100 [01:31<01:11,  1.59s/it]"
     ]
    },
    {
     "name": "stdout",
     "output_type": "stream",
     "text": [
      "  ❌ Error updating post lclmk5: 'Redditor' object has no attribute 'id'\n"
     ]
    },
    {
     "name": "stderr",
     "output_type": "stream",
     "text": [
      "Updating authors:  60%|██████    | 60/100 [01:40<01:06,  1.67s/it]"
     ]
    },
    {
     "name": "stdout",
     "output_type": "stream",
     "text": [
      "  ❌ Error updating post lclmba: 'Redditor' object has no attribute 'id'\n"
     ]
    },
    {
     "name": "stderr",
     "output_type": "stream",
     "text": [
      "Updating authors:  82%|████████▏ | 82/100 [02:19<00:39,  2.18s/it]"
     ]
    },
    {
     "name": "stdout",
     "output_type": "stream",
     "text": [
      "  ❌ Error updating post lclk99: 'Redditor' object has no attribute 'id'\n"
     ]
    },
    {
     "name": "stderr",
     "output_type": "stream",
     "text": [
      "Updating authors:  85%|████████▌ | 85/100 [02:24<00:26,  1.76s/it]"
     ]
    },
    {
     "name": "stdout",
     "output_type": "stream",
     "text": [
      "  ❌ Error updating post lclk0s: 'Redditor' object has no attribute 'id'\n"
     ]
    },
    {
     "name": "stderr",
     "output_type": "stream",
     "text": [
      "Updating authors: 100%|██████████| 100/100 [02:52<00:00,  1.73s/it]\n"
     ]
    },
    {
     "name": "stdout",
     "output_type": "stream",
     "text": [
      "Progress: 25,440/53,187 (47.8%)\n",
      "Success rate: 25440/26500 (96.0%)\n",
      "Posts per minute: 27.6\n",
      "Taking a 30-second break between batches...\n",
      "\n",
      "Processing batch 266/532\n"
     ]
    },
    {
     "name": "stderr",
     "output_type": "stream",
     "text": [
      "Updating authors:  15%|█▌        | 15/100 [00:26<03:24,  2.40s/it]"
     ]
    },
    {
     "name": "stdout",
     "output_type": "stream",
     "text": [
      "  ❌ Error updating post lclfcx: 'Redditor' object has no attribute 'id'\n"
     ]
    },
    {
     "name": "stderr",
     "output_type": "stream",
     "text": [
      "Updating authors:  17%|█▋        | 17/100 [00:29<02:49,  2.05s/it]"
     ]
    },
    {
     "name": "stdout",
     "output_type": "stream",
     "text": [
      "  ❌ Error updating post lcle0s: 'Redditor' object has no attribute 'id'\n"
     ]
    },
    {
     "name": "stderr",
     "output_type": "stream",
     "text": [
      "Updating authors:  38%|███▊      | 38/100 [01:07<02:00,  1.94s/it]"
     ]
    },
    {
     "name": "stdout",
     "output_type": "stream",
     "text": [
      "  ❌ Error updating post lcl88l: 'Redditor' object has no attribute 'id'\n"
     ]
    },
    {
     "name": "stderr",
     "output_type": "stream",
     "text": [
      "Updating authors:  59%|█████▉    | 59/100 [01:43<01:20,  1.95s/it]"
     ]
    },
    {
     "name": "stdout",
     "output_type": "stream",
     "text": [
      "  ❌ Error updating post lcl6a8: 'Redditor' object has no attribute 'id'\n"
     ]
    },
    {
     "name": "stderr",
     "output_type": "stream",
     "text": [
      "Updating authors: 100%|██████████| 100/100 [02:49<00:00,  1.70s/it]\n"
     ]
    },
    {
     "name": "stdout",
     "output_type": "stream",
     "text": [
      "Progress: 25,536/53,187 (48.0%)\n",
      "Success rate: 25536/26600 (96.0%)\n",
      "Posts per minute: 27.6\n",
      "Taking a 30-second break between batches...\n",
      "\n",
      "Processing batch 267/532\n"
     ]
    },
    {
     "name": "stderr",
     "output_type": "stream",
     "text": [
      "Updating authors:   2%|▏         | 2/100 [00:03<02:33,  1.57s/it]"
     ]
    },
    {
     "name": "stdout",
     "output_type": "stream",
     "text": [
      "  ❌ Error updating post lckx9l: 'Redditor' object has no attribute 'id'\n"
     ]
    },
    {
     "name": "stderr",
     "output_type": "stream",
     "text": [
      "Updating authors:  21%|██        | 21/100 [00:32<02:01,  1.53s/it]"
     ]
    },
    {
     "name": "stdout",
     "output_type": "stream",
     "text": [
      "  ❌ Error updating post lcktql: 'Redditor' object has no attribute 'id'\n"
     ]
    },
    {
     "name": "stderr",
     "output_type": "stream",
     "text": [
      "Updating authors:  49%|████▉     | 49/100 [01:17<01:25,  1.67s/it]"
     ]
    },
    {
     "name": "stdout",
     "output_type": "stream",
     "text": [
      "  ❌ Error updating post lckqfc: 'Redditor' object has no attribute 'id'\n"
     ]
    },
    {
     "name": "stderr",
     "output_type": "stream",
     "text": [
      "Updating authors:  59%|█████▉    | 59/100 [01:36<01:11,  1.75s/it]"
     ]
    },
    {
     "name": "stdout",
     "output_type": "stream",
     "text": [
      "  ❌ Error updating post lckozv: 'Redditor' object has no attribute 'id'\n"
     ]
    },
    {
     "name": "stderr",
     "output_type": "stream",
     "text": [
      "Updating authors:  77%|███████▋  | 77/100 [02:06<00:38,  1.66s/it]"
     ]
    },
    {
     "name": "stdout",
     "output_type": "stream",
     "text": [
      "  ❌ Error updating post lckn3k: 'Redditor' object has no attribute 'id'\n"
     ]
    },
    {
     "name": "stderr",
     "output_type": "stream",
     "text": [
      "Updating authors:  88%|████████▊ | 88/100 [02:26<00:18,  1.54s/it]"
     ]
    },
    {
     "name": "stdout",
     "output_type": "stream",
     "text": [
      "  ❌ Error updating post lckm9l: 'Redditor' object has no attribute 'id'\n"
     ]
    },
    {
     "name": "stderr",
     "output_type": "stream",
     "text": [
      "Updating authors: 100%|██████████| 100/100 [02:47<00:00,  1.68s/it]\n"
     ]
    },
    {
     "name": "stdout",
     "output_type": "stream",
     "text": [
      "Progress: 25,630/53,187 (48.2%)\n",
      "Success rate: 25630/26700 (96.0%)\n",
      "Posts per minute: 27.6\n",
      "Taking a 30-second break between batches...\n",
      "\n",
      "Processing batch 268/532\n"
     ]
    },
    {
     "name": "stderr",
     "output_type": "stream",
     "text": [
      "Updating authors:  43%|████▎     | 43/100 [01:13<01:40,  1.77s/it]"
     ]
    },
    {
     "name": "stdout",
     "output_type": "stream",
     "text": [
      "  ❌ Error updating post lckh9z: 'Redditor' object has no attribute 'id'\n"
     ]
    },
    {
     "name": "stderr",
     "output_type": "stream",
     "text": [
      "Updating authors:  54%|█████▍    | 54/100 [01:29<01:08,  1.48s/it]"
     ]
    },
    {
     "name": "stdout",
     "output_type": "stream",
     "text": [
      "  ❌ Error updating post lckfxb: 'Redditor' object has no attribute 'id'\n"
     ]
    },
    {
     "name": "stderr",
     "output_type": "stream",
     "text": [
      "Updating authors:  82%|████████▏ | 82/100 [02:14<00:29,  1.63s/it]"
     ]
    },
    {
     "name": "stdout",
     "output_type": "stream",
     "text": [
      "  ❌ Error updating post lckck4: 'Redditor' object has no attribute 'id'\n"
     ]
    },
    {
     "name": "stderr",
     "output_type": "stream",
     "text": [
      "Updating authors:  89%|████████▉ | 89/100 [02:25<00:18,  1.65s/it]"
     ]
    },
    {
     "name": "stdout",
     "output_type": "stream",
     "text": [
      "  ❌ Error updating post lckbez: 'Redditor' object has no attribute 'id'\n"
     ]
    },
    {
     "name": "stderr",
     "output_type": "stream",
     "text": [
      "Updating authors:  95%|█████████▌| 95/100 [02:35<00:08,  1.65s/it]"
     ]
    },
    {
     "name": "stdout",
     "output_type": "stream",
     "text": [
      "  ❌ Error updating post lck969: 'Redditor' object has no attribute 'id'\n"
     ]
    },
    {
     "name": "stderr",
     "output_type": "stream",
     "text": [
      "Updating authors: 100%|██████████| 100/100 [02:43<00:00,  1.64s/it]\n"
     ]
    },
    {
     "name": "stdout",
     "output_type": "stream",
     "text": [
      "Progress: 25,725/53,187 (48.4%)\n",
      "Success rate: 25725/26800 (96.0%)\n",
      "Posts per minute: 27.6\n",
      "Taking a 30-second break between batches...\n",
      "\n",
      "Processing batch 269/532\n"
     ]
    },
    {
     "name": "stderr",
     "output_type": "stream",
     "text": [
      "Updating authors:  25%|██▌       | 25/100 [00:40<02:02,  1.63s/it]"
     ]
    },
    {
     "name": "stdout",
     "output_type": "stream",
     "text": [
      "  ❌ Error updating post lck5nh: 'Redditor' object has no attribute 'id'\n"
     ]
    },
    {
     "name": "stderr",
     "output_type": "stream",
     "text": [
      "Updating authors:  27%|██▋       | 27/100 [00:43<01:53,  1.55s/it]"
     ]
    },
    {
     "name": "stdout",
     "output_type": "stream",
     "text": [
      "  ❌ Error updating post lck5ci: 'Redditor' object has no attribute 'id'\n"
     ]
    },
    {
     "name": "stderr",
     "output_type": "stream",
     "text": [
      "Updating authors:  39%|███▉      | 39/100 [01:04<01:38,  1.61s/it]"
     ]
    },
    {
     "name": "stdout",
     "output_type": "stream",
     "text": [
      "  ❌ Error updating post lck47j: 'Redditor' object has no attribute 'id'\n"
     ]
    },
    {
     "name": "stderr",
     "output_type": "stream",
     "text": [
      "Updating authors:  83%|████████▎ | 83/100 [02:17<00:29,  1.71s/it]"
     ]
    },
    {
     "name": "stdout",
     "output_type": "stream",
     "text": [
      "  ❌ Error updating post lck0du: 'Redditor' object has no attribute 'id'\n"
     ]
    },
    {
     "name": "stderr",
     "output_type": "stream",
     "text": [
      "Updating authors:  85%|████████▌ | 85/100 [02:20<00:24,  1.63s/it]"
     ]
    },
    {
     "name": "stdout",
     "output_type": "stream",
     "text": [
      "  ❌ Error updating post lck0cw: 'Redditor' object has no attribute 'id'\n"
     ]
    },
    {
     "name": "stderr",
     "output_type": "stream",
     "text": [
      "Updating authors: 100%|██████████| 100/100 [02:44<00:00,  1.64s/it]\n"
     ]
    },
    {
     "name": "stdout",
     "output_type": "stream",
     "text": [
      "Progress: 25,820/53,187 (48.5%)\n",
      "Success rate: 25820/26900 (96.0%)\n",
      "Posts per minute: 27.6\n",
      "Taking a 30-second break between batches...\n",
      "\n",
      "Processing batch 270/532\n"
     ]
    },
    {
     "name": "stderr",
     "output_type": "stream",
     "text": [
      "Updating authors:   6%|▌         | 6/100 [00:09<02:25,  1.55s/it]"
     ]
    },
    {
     "name": "stdout",
     "output_type": "stream",
     "text": [
      "  ❌ Error updating post lcjyiv: received 404 HTTP response\n"
     ]
    },
    {
     "name": "stderr",
     "output_type": "stream",
     "text": [
      "Updating authors:   9%|▉         | 9/100 [00:14<02:19,  1.53s/it]"
     ]
    },
    {
     "name": "stdout",
     "output_type": "stream",
     "text": [
      "  ❌ Error updating post lcjy9q: 'Redditor' object has no attribute 'id'\n"
     ]
    },
    {
     "name": "stderr",
     "output_type": "stream",
     "text": [
      "Updating authors:  36%|███▌      | 36/100 [00:57<01:48,  1.69s/it]"
     ]
    },
    {
     "name": "stdout",
     "output_type": "stream",
     "text": [
      "  ❌ Error updating post lcjwtn: 'Redditor' object has no attribute 'id'\n"
     ]
    },
    {
     "name": "stderr",
     "output_type": "stream",
     "text": [
      "Updating authors:  40%|████      | 40/100 [01:04<01:40,  1.68s/it]"
     ]
    },
    {
     "name": "stdout",
     "output_type": "stream",
     "text": [
      "  ❌ Error updating post lcjwq8: 'Redditor' object has no attribute 'id'\n"
     ]
    },
    {
     "name": "stderr",
     "output_type": "stream",
     "text": [
      "Updating authors:  60%|██████    | 60/100 [01:36<01:05,  1.64s/it]"
     ]
    },
    {
     "name": "stdout",
     "output_type": "stream",
     "text": [
      "  ❌ Error updating post lcjvej: 'Redditor' object has no attribute 'id'\n"
     ]
    },
    {
     "name": "stderr",
     "output_type": "stream",
     "text": [
      "Updating authors:  61%|██████    | 61/100 [01:38<01:13,  1.87s/it]"
     ]
    },
    {
     "name": "stdout",
     "output_type": "stream",
     "text": [
      "  ❌ Error updating post lcjvdt: 'Redditor' object has no attribute 'id'\n"
     ]
    },
    {
     "name": "stderr",
     "output_type": "stream",
     "text": [
      "Updating authors: 100%|██████████| 100/100 [02:43<00:00,  1.64s/it]\n"
     ]
    },
    {
     "name": "stdout",
     "output_type": "stream",
     "text": [
      "Progress: 25,914/53,187 (48.7%)\n",
      "Success rate: 25914/27000 (96.0%)\n",
      "Posts per minute: 27.6\n",
      "Taking a 30-second break between batches...\n",
      "\n",
      "Processing batch 271/532\n"
     ]
    },
    {
     "name": "stderr",
     "output_type": "stream",
     "text": [
      "Updating authors:   7%|▋         | 7/100 [00:12<02:43,  1.75s/it]"
     ]
    },
    {
     "name": "stdout",
     "output_type": "stream",
     "text": [
      "  ❌ Error updating post lcjs41: 'Redditor' object has no attribute 'id'\n"
     ]
    },
    {
     "name": "stderr",
     "output_type": "stream",
     "text": [
      "Updating authors:  22%|██▏       | 22/100 [00:40<02:17,  1.77s/it]"
     ]
    },
    {
     "name": "stdout",
     "output_type": "stream",
     "text": [
      "  ❌ Error updating post lcjq0r: 'Redditor' object has no attribute 'id'\n"
     ]
    },
    {
     "name": "stderr",
     "output_type": "stream",
     "text": [
      "Updating authors:  26%|██▌       | 26/100 [00:46<01:53,  1.53s/it]"
     ]
    },
    {
     "name": "stdout",
     "output_type": "stream",
     "text": [
      "  ❌ Error updating post lcjpf3: 'Redditor' object has no attribute 'id'\n"
     ]
    },
    {
     "name": "stderr",
     "output_type": "stream",
     "text": [
      "Updating authors:  34%|███▍      | 34/100 [00:59<01:41,  1.54s/it]"
     ]
    },
    {
     "name": "stdout",
     "output_type": "stream",
     "text": [
      "  ❌ Error updating post lcjp1b: 'Redditor' object has no attribute 'id'\n"
     ]
    },
    {
     "name": "stderr",
     "output_type": "stream",
     "text": [
      "Updating authors:  47%|████▋     | 47/100 [01:20<01:20,  1.52s/it]"
     ]
    },
    {
     "name": "stdout",
     "output_type": "stream",
     "text": [
      "  ❌ Error updating post lcjobt: 'Redditor' object has no attribute 'id'\n"
     ]
    },
    {
     "name": "stderr",
     "output_type": "stream",
     "text": [
      "Updating authors:  52%|█████▏    | 52/100 [01:28<01:22,  1.71s/it]"
     ]
    },
    {
     "name": "stdout",
     "output_type": "stream",
     "text": [
      "  ❌ Error updating post lcjnzo: 'Redditor' object has no attribute 'id'\n"
     ]
    },
    {
     "name": "stderr",
     "output_type": "stream",
     "text": [
      "Updating authors:  61%|██████    | 61/100 [01:44<01:08,  1.77s/it]"
     ]
    },
    {
     "name": "stdout",
     "output_type": "stream",
     "text": [
      "  ❌ Error updating post lcjngg: 'Redditor' object has no attribute 'id'\n"
     ]
    },
    {
     "name": "stderr",
     "output_type": "stream",
     "text": [
      "Updating authors:  82%|████████▏ | 82/100 [02:19<00:30,  1.67s/it]"
     ]
    },
    {
     "name": "stdout",
     "output_type": "stream",
     "text": [
      "  ❌ Error updating post lcjm4w: 'Redditor' object has no attribute 'id'\n"
     ]
    },
    {
     "name": "stderr",
     "output_type": "stream",
     "text": [
      "Updating authors:  84%|████████▍ | 84/100 [02:22<00:26,  1.67s/it]"
     ]
    },
    {
     "name": "stdout",
     "output_type": "stream",
     "text": [
      "  ❌ Error updating post lcjm1q: 'Redditor' object has no attribute 'id'\n"
     ]
    },
    {
     "name": "stderr",
     "output_type": "stream",
     "text": [
      "Updating authors: 100%|██████████| 100/100 [02:46<00:00,  1.67s/it]\n"
     ]
    },
    {
     "name": "stdout",
     "output_type": "stream",
     "text": [
      "Progress: 26,005/53,187 (48.9%)\n",
      "Success rate: 26005/27100 (96.0%)\n",
      "Posts per minute: 27.6\n",
      "Taking a 30-second break between batches...\n",
      "\n",
      "Processing batch 272/532\n"
     ]
    },
    {
     "name": "stderr",
     "output_type": "stream",
     "text": [
      "Updating authors:  20%|██        | 20/100 [00:31<02:13,  1.66s/it]"
     ]
    },
    {
     "name": "stdout",
     "output_type": "stream",
     "text": [
      "  ❌ Error updating post ld08ep: 'Redditor' object has no attribute 'id'\n"
     ]
    },
    {
     "name": "stderr",
     "output_type": "stream",
     "text": [
      "Updating authors:  25%|██▌       | 25/100 [00:40<02:05,  1.67s/it]"
     ]
    },
    {
     "name": "stdout",
     "output_type": "stream",
     "text": [
      "  ❌ Error updating post ld07lc: 'Redditor' object has no attribute 'id'\n"
     ]
    },
    {
     "name": "stderr",
     "output_type": "stream",
     "text": [
      "Updating authors:  33%|███▎      | 33/100 [00:53<01:48,  1.62s/it]"
     ]
    },
    {
     "name": "stdout",
     "output_type": "stream",
     "text": [
      "  ❌ Error updating post ld06kf: 'Redditor' object has no attribute 'id'\n"
     ]
    },
    {
     "name": "stderr",
     "output_type": "stream",
     "text": [
      "Updating authors:  37%|███▋      | 37/100 [00:59<01:40,  1.60s/it]"
     ]
    },
    {
     "name": "stdout",
     "output_type": "stream",
     "text": [
      "  ❌ Error updating post ld05rp: 'Redditor' object has no attribute 'id'\n"
     ]
    },
    {
     "name": "stderr",
     "output_type": "stream",
     "text": [
      "Updating authors: 100%|██████████| 100/100 [02:47<00:00,  1.67s/it]\n"
     ]
    },
    {
     "name": "stdout",
     "output_type": "stream",
     "text": [
      "Progress: 26,101/53,187 (49.1%)\n",
      "Success rate: 26101/27200 (96.0%)\n",
      "Posts per minute: 27.6\n",
      "Taking a 30-second break between batches...\n",
      "\n",
      "Processing batch 273/532\n"
     ]
    },
    {
     "name": "stderr",
     "output_type": "stream",
     "text": [
      "Updating authors:   5%|▌         | 5/100 [00:07<02:29,  1.57s/it]"
     ]
    },
    {
     "name": "stdout",
     "output_type": "stream",
     "text": [
      "  ❌ Error updating post lczoae: 'Redditor' object has no attribute 'id'\n"
     ]
    },
    {
     "name": "stderr",
     "output_type": "stream",
     "text": [
      "Updating authors:  62%|██████▏   | 62/100 [01:46<01:02,  1.63s/it]"
     ]
    },
    {
     "name": "stdout",
     "output_type": "stream",
     "text": [
      "  ❌ Error updating post lczga4: 'Redditor' object has no attribute 'id'\n"
     ]
    },
    {
     "name": "stderr",
     "output_type": "stream",
     "text": [
      "Updating authors: 100%|██████████| 100/100 [02:50<00:00,  1.70s/it]\n"
     ]
    },
    {
     "name": "stdout",
     "output_type": "stream",
     "text": [
      "Progress: 26,199/53,187 (49.3%)\n",
      "Success rate: 26199/27300 (96.0%)\n",
      "Posts per minute: 27.6\n",
      "Taking a 30-second break between batches...\n",
      "\n",
      "Processing batch 274/532\n"
     ]
    },
    {
     "name": "stderr",
     "output_type": "stream",
     "text": [
      "Updating authors:  33%|███▎      | 33/100 [00:56<01:53,  1.70s/it]"
     ]
    },
    {
     "name": "stdout",
     "output_type": "stream",
     "text": [
      "  ❌ Error updating post lcz0ni: 'Redditor' object has no attribute 'id'\n"
     ]
    },
    {
     "name": "stderr",
     "output_type": "stream",
     "text": [
      "Updating authors:  77%|███████▋  | 77/100 [02:09<00:38,  1.67s/it]"
     ]
    },
    {
     "name": "stdout",
     "output_type": "stream",
     "text": [
      "  ❌ Error updating post lcyqoc: 'Redditor' object has no attribute 'id'\n"
     ]
    },
    {
     "name": "stderr",
     "output_type": "stream",
     "text": [
      "Updating authors:  84%|████████▍ | 84/100 [02:21<00:26,  1.67s/it]"
     ]
    },
    {
     "name": "stdout",
     "output_type": "stream",
     "text": [
      "  ❌ Error updating post lcyovn: 'Redditor' object has no attribute 'id'\n"
     ]
    },
    {
     "name": "stderr",
     "output_type": "stream",
     "text": [
      "Updating authors: 100%|██████████| 100/100 [02:47<00:00,  1.68s/it]\n"
     ]
    },
    {
     "name": "stdout",
     "output_type": "stream",
     "text": [
      "Progress: 26,296/53,187 (49.4%)\n",
      "Success rate: 26296/27400 (96.0%)\n",
      "Posts per minute: 27.6\n",
      "Taking a 30-second break between batches...\n",
      "\n",
      "Processing batch 275/532\n"
     ]
    },
    {
     "name": "stderr",
     "output_type": "stream",
     "text": [
      "Updating authors:  14%|█▍        | 14/100 [00:24<02:30,  1.75s/it]"
     ]
    },
    {
     "name": "stdout",
     "output_type": "stream",
     "text": [
      "  ❌ Error updating post lcyjed: 'Redditor' object has no attribute 'id'\n"
     ]
    },
    {
     "name": "stderr",
     "output_type": "stream",
     "text": [
      "Updating authors:  28%|██▊       | 28/100 [00:48<02:08,  1.79s/it]"
     ]
    },
    {
     "name": "stdout",
     "output_type": "stream",
     "text": [
      "  ❌ Error updating post lcyfjw: 'Redditor' object has no attribute 'id'\n"
     ]
    },
    {
     "name": "stderr",
     "output_type": "stream",
     "text": [
      "Updating authors:  69%|██████▉   | 69/100 [02:02<00:48,  1.57s/it]"
     ]
    },
    {
     "name": "stdout",
     "output_type": "stream",
     "text": [
      "  ❌ Error updating post lcy97o: 'Redditor' object has no attribute 'id'\n"
     ]
    },
    {
     "name": "stderr",
     "output_type": "stream",
     "text": [
      "Updating authors: 100%|██████████| 100/100 [02:55<00:00,  1.75s/it]\n"
     ]
    },
    {
     "name": "stdout",
     "output_type": "stream",
     "text": [
      "Progress: 26,393/53,187 (49.6%)\n",
      "Success rate: 26393/27500 (96.0%)\n",
      "Posts per minute: 27.6\n",
      "Taking a 30-second break between batches...\n",
      "\n",
      "Processing batch 276/532\n"
     ]
    },
    {
     "name": "stderr",
     "output_type": "stream",
     "text": [
      "Updating authors:  27%|██▋       | 27/100 [00:42<02:00,  1.65s/it]"
     ]
    },
    {
     "name": "stdout",
     "output_type": "stream",
     "text": [
      "  ❌ Error updating post lcxwbe: 'Redditor' object has no attribute 'id'\n"
     ]
    },
    {
     "name": "stderr",
     "output_type": "stream",
     "text": [
      "Updating authors:  51%|█████     | 51/100 [01:23<01:21,  1.66s/it]"
     ]
    },
    {
     "name": "stdout",
     "output_type": "stream",
     "text": [
      "  ❌ Error updating post lcxotk: 'Redditor' object has no attribute 'id'\n"
     ]
    },
    {
     "name": "stderr",
     "output_type": "stream",
     "text": [
      "Updating authors:  65%|██████▌   | 65/100 [01:45<00:55,  1.58s/it]"
     ]
    },
    {
     "name": "stdout",
     "output_type": "stream",
     "text": [
      "  ❌ Error updating post lcxmv7: 'Redditor' object has no attribute 'id'\n"
     ]
    },
    {
     "name": "stderr",
     "output_type": "stream",
     "text": [
      "Updating authors:  69%|██████▉   | 69/100 [01:51<00:49,  1.58s/it]"
     ]
    },
    {
     "name": "stdout",
     "output_type": "stream",
     "text": [
      "  ❌ Error updating post lcxkxg: 'Redditor' object has no attribute 'id'\n"
     ]
    },
    {
     "name": "stderr",
     "output_type": "stream",
     "text": [
      "Updating authors:  73%|███████▎  | 73/100 [01:58<00:44,  1.64s/it]"
     ]
    },
    {
     "name": "stdout",
     "output_type": "stream",
     "text": [
      "  ❌ Error updating post lcxjyb: 'Redditor' object has no attribute 'id'\n"
     ]
    },
    {
     "name": "stderr",
     "output_type": "stream",
     "text": [
      "Updating authors:  91%|█████████ | 91/100 [02:27<00:14,  1.62s/it]"
     ]
    },
    {
     "name": "stdout",
     "output_type": "stream",
     "text": [
      "  ❌ Error updating post ld7b2x: 'Redditor' object has no attribute 'id'\n"
     ]
    },
    {
     "name": "stderr",
     "output_type": "stream",
     "text": [
      "Updating authors: 100%|██████████| 100/100 [02:42<00:00,  1.62s/it]\n"
     ]
    },
    {
     "name": "stdout",
     "output_type": "stream",
     "text": [
      "Progress: 26,487/53,187 (49.8%)\n",
      "Success rate: 26487/27600 (96.0%)\n",
      "Posts per minute: 27.6\n",
      "Taking a 30-second break between batches...\n",
      "\n",
      "Processing batch 277/532\n"
     ]
    },
    {
     "name": "stderr",
     "output_type": "stream",
     "text": [
      "Updating authors:   6%|▌         | 6/100 [00:09<02:21,  1.51s/it]"
     ]
    },
    {
     "name": "stdout",
     "output_type": "stream",
     "text": [
      "  ❌ Error updating post ld79am: 'Redditor' object has no attribute 'id'\n"
     ]
    },
    {
     "name": "stderr",
     "output_type": "stream",
     "text": [
      "Updating authors:  11%|█         | 11/100 [00:17<02:23,  1.61s/it]"
     ]
    },
    {
     "name": "stdout",
     "output_type": "stream",
     "text": [
      "  ❌ Error updating post ld78o6: 'Redditor' object has no attribute 'id'\n"
     ]
    },
    {
     "name": "stderr",
     "output_type": "stream",
     "text": [
      "Updating authors:  36%|███▌      | 36/100 [01:01<01:56,  1.81s/it]"
     ]
    },
    {
     "name": "stdout",
     "output_type": "stream",
     "text": [
      "  ❌ Error updating post ld74yz: 'Redditor' object has no attribute 'id'\n"
     ]
    },
    {
     "name": "stderr",
     "output_type": "stream",
     "text": [
      "Updating authors:  53%|█████▎    | 53/100 [01:29<01:11,  1.52s/it]"
     ]
    },
    {
     "name": "stdout",
     "output_type": "stream",
     "text": [
      "  ❌ Error updating post ld72bc: 'Redditor' object has no attribute 'id'\n"
     ]
    },
    {
     "name": "stderr",
     "output_type": "stream",
     "text": [
      "Updating authors:  64%|██████▍   | 64/100 [01:46<00:59,  1.66s/it]"
     ]
    },
    {
     "name": "stdout",
     "output_type": "stream",
     "text": [
      "  ❌ Error updating post ld716c: 'Redditor' object has no attribute 'id'\n"
     ]
    },
    {
     "name": "stderr",
     "output_type": "stream",
     "text": [
      "Updating authors: 100%|██████████| 100/100 [02:48<00:00,  1.68s/it]\n"
     ]
    },
    {
     "name": "stdout",
     "output_type": "stream",
     "text": [
      "Progress: 26,582/53,187 (50.0%)\n",
      "Success rate: 26582/27700 (96.0%)\n",
      "Posts per minute: 27.6\n",
      "Taking a 30-second break between batches...\n",
      "\n",
      "Processing batch 278/532\n"
     ]
    },
    {
     "name": "stderr",
     "output_type": "stream",
     "text": [
      "Updating authors:  21%|██        | 21/100 [00:42<03:22,  2.57s/it]"
     ]
    },
    {
     "name": "stdout",
     "output_type": "stream",
     "text": [
      "  ❌ Error updating post ld6nc5: 'Redditor' object has no attribute 'id'\n"
     ]
    },
    {
     "name": "stderr",
     "output_type": "stream",
     "text": [
      "Updating authors:  24%|██▍       | 24/100 [00:47<02:35,  2.05s/it]"
     ]
    },
    {
     "name": "stdout",
     "output_type": "stream",
     "text": [
      "  ❌ Error updating post ld6lcw: 'Redditor' object has no attribute 'id'\n"
     ]
    },
    {
     "name": "stderr",
     "output_type": "stream",
     "text": [
      "Updating authors:  40%|████      | 40/100 [01:14<01:48,  1.80s/it]"
     ]
    },
    {
     "name": "stdout",
     "output_type": "stream",
     "text": [
      "  ❌ Error updating post ld6gz2: 'Redditor' object has no attribute 'id'\n"
     ]
    },
    {
     "name": "stderr",
     "output_type": "stream",
     "text": [
      "Updating authors:  96%|█████████▌| 96/100 [02:59<00:06,  1.67s/it]"
     ]
    },
    {
     "name": "stdout",
     "output_type": "stream",
     "text": [
      "  ❌ Error updating post ld5vi7: 'Redditor' object has no attribute 'id'\n"
     ]
    },
    {
     "name": "stderr",
     "output_type": "stream",
     "text": [
      "Updating authors: 100%|██████████| 100/100 [03:06<00:00,  1.86s/it]\n"
     ]
    },
    {
     "name": "stdout",
     "output_type": "stream",
     "text": [
      "Progress: 26,678/53,187 (50.2%)\n",
      "Success rate: 26678/27800 (96.0%)\n",
      "Posts per minute: 27.6\n",
      "Taking a 30-second break between batches...\n",
      "\n",
      "Processing batch 279/532\n"
     ]
    },
    {
     "name": "stderr",
     "output_type": "stream",
     "text": [
      "Updating authors:   4%|▍         | 4/100 [00:06<02:39,  1.66s/it]"
     ]
    },
    {
     "name": "stdout",
     "output_type": "stream",
     "text": [
      "  ❌ Error updating post ld5rd9: 'Redditor' object has no attribute 'id'\n"
     ]
    },
    {
     "name": "stderr",
     "output_type": "stream",
     "text": [
      "Updating authors:  77%|███████▋  | 77/100 [02:14<00:37,  1.62s/it]"
     ]
    },
    {
     "name": "stdout",
     "output_type": "stream",
     "text": [
      "  ❌ Error updating post ld507i: 'Redditor' object has no attribute 'id'\n"
     ]
    },
    {
     "name": "stderr",
     "output_type": "stream",
     "text": [
      "Updating authors:  89%|████████▉ | 89/100 [02:41<00:20,  1.84s/it]"
     ]
    },
    {
     "name": "stdout",
     "output_type": "stream",
     "text": [
      "  ❌ Error updating post ld4vea: 'Redditor' object has no attribute 'id'\n"
     ]
    },
    {
     "name": "stderr",
     "output_type": "stream",
     "text": [
      "Updating authors:  98%|█████████▊| 98/100 [03:04<00:03,  1.91s/it]"
     ]
    },
    {
     "name": "stdout",
     "output_type": "stream",
     "text": [
      "  ❌ Error updating post ld4s1e: 'Redditor' object has no attribute 'id'\n"
     ]
    },
    {
     "name": "stderr",
     "output_type": "stream",
     "text": [
      "Updating authors: 100%|██████████| 100/100 [03:07<00:00,  1.87s/it]\n"
     ]
    },
    {
     "name": "stdout",
     "output_type": "stream",
     "text": [
      "Progress: 26,774/53,187 (50.3%)\n",
      "Success rate: 26774/27900 (96.0%)\n",
      "Posts per minute: 27.6\n",
      "Taking a 30-second break between batches...\n",
      "\n",
      "Processing batch 280/532\n"
     ]
    },
    {
     "name": "stderr",
     "output_type": "stream",
     "text": [
      "Updating authors:  17%|█▋        | 17/100 [00:32<02:31,  1.83s/it]"
     ]
    },
    {
     "name": "stdout",
     "output_type": "stream",
     "text": [
      "  ❌ Error updating post ld4iue: 'Redditor' object has no attribute 'id'\n"
     ]
    },
    {
     "name": "stderr",
     "output_type": "stream",
     "text": [
      "Updating authors:  29%|██▉       | 29/100 [00:54<01:57,  1.65s/it]"
     ]
    },
    {
     "name": "stdout",
     "output_type": "stream",
     "text": [
      "  ❌ Error updating post ld4cvv: 'Redditor' object has no attribute 'id'\n"
     ]
    },
    {
     "name": "stderr",
     "output_type": "stream",
     "text": [
      "Updating authors:  33%|███▎      | 33/100 [01:01<01:46,  1.59s/it]"
     ]
    },
    {
     "name": "stdout",
     "output_type": "stream",
     "text": [
      "  ❌ Error updating post ld4boh: 'Redditor' object has no attribute 'id'\n"
     ]
    },
    {
     "name": "stderr",
     "output_type": "stream",
     "text": [
      "Updating authors:  60%|██████    | 60/100 [01:46<01:09,  1.74s/it]"
     ]
    },
    {
     "name": "stdout",
     "output_type": "stream",
     "text": [
      "  ❌ Error updating post ld40aj: 'Redditor' object has no attribute 'id'\n"
     ]
    },
    {
     "name": "stderr",
     "output_type": "stream",
     "text": [
      "Updating authors:  67%|██████▋   | 67/100 [01:57<00:52,  1.58s/it]"
     ]
    },
    {
     "name": "stdout",
     "output_type": "stream",
     "text": [
      "  ❌ Error updating post ld3wri: 'Redditor' object has no attribute 'id'\n"
     ]
    },
    {
     "name": "stderr",
     "output_type": "stream",
     "text": [
      "Updating authors:  68%|██████▊   | 68/100 [01:59<00:52,  1.66s/it]"
     ]
    },
    {
     "name": "stdout",
     "output_type": "stream",
     "text": [
      "  ❌ Error updating post ld3wcr: 'Redditor' object has no attribute 'id'\n"
     ]
    },
    {
     "name": "stderr",
     "output_type": "stream",
     "text": [
      "Updating authors:  75%|███████▌  | 75/100 [02:12<00:44,  1.77s/it]"
     ]
    },
    {
     "name": "stdout",
     "output_type": "stream",
     "text": [
      "  ❌ Error updating post ld3r0d: 'Redditor' object has no attribute 'id'\n"
     ]
    },
    {
     "name": "stderr",
     "output_type": "stream",
     "text": [
      "Updating authors:  78%|███████▊  | 78/100 [02:17<00:38,  1.74s/it]"
     ]
    },
    {
     "name": "stdout",
     "output_type": "stream",
     "text": [
      "  ❌ Error updating post ld3qrl: 'Redditor' object has no attribute 'id'\n"
     ]
    },
    {
     "name": "stderr",
     "output_type": "stream",
     "text": [
      "Updating authors: 100%|██████████| 100/100 [02:58<00:00,  1.78s/it]\n"
     ]
    },
    {
     "name": "stdout",
     "output_type": "stream",
     "text": [
      "Progress: 26,866/53,187 (50.5%)\n",
      "Success rate: 26866/28000 (96.0%)\n",
      "Posts per minute: 27.6\n",
      "Taking a 30-second break between batches...\n",
      "\n",
      "Processing batch 281/532\n"
     ]
    },
    {
     "name": "stderr",
     "output_type": "stream",
     "text": [
      "Updating authors:  60%|██████    | 60/100 [01:54<01:12,  1.80s/it]"
     ]
    },
    {
     "name": "stdout",
     "output_type": "stream",
     "text": [
      "  ❌ Error updating post ld2qy6: 'Redditor' object has no attribute 'id'\n"
     ]
    },
    {
     "name": "stderr",
     "output_type": "stream",
     "text": [
      "Updating authors:  67%|██████▋   | 67/100 [02:06<00:56,  1.72s/it]"
     ]
    },
    {
     "name": "stdout",
     "output_type": "stream",
     "text": [
      "  ❌ Error updating post ld2osk: 'Redditor' object has no attribute 'id'\n"
     ]
    },
    {
     "name": "stderr",
     "output_type": "stream",
     "text": [
      "Updating authors:  70%|███████   | 70/100 [02:11<00:53,  1.77s/it]"
     ]
    },
    {
     "name": "stdout",
     "output_type": "stream",
     "text": [
      "  ❌ Error updating post ld2nmz: 'Redditor' object has no attribute 'id'\n"
     ]
    },
    {
     "name": "stderr",
     "output_type": "stream",
     "text": [
      "Updating authors:  76%|███████▌  | 76/100 [02:24<00:44,  1.85s/it]"
     ]
    },
    {
     "name": "stdout",
     "output_type": "stream",
     "text": [
      "  ❌ Error updating post ld2lkb: 'Redditor' object has no attribute 'id'\n"
     ]
    },
    {
     "name": "stderr",
     "output_type": "stream",
     "text": [
      "Updating authors: 100%|██████████| 100/100 [03:04<00:00,  1.84s/it]\n"
     ]
    },
    {
     "name": "stdout",
     "output_type": "stream",
     "text": [
      "Progress: 26,962/53,187 (50.7%)\n",
      "Success rate: 26962/28100 (96.0%)\n",
      "Posts per minute: 27.6\n",
      "Taking a 30-second break between batches...\n",
      "\n",
      "Processing batch 282/532\n"
     ]
    },
    {
     "name": "stderr",
     "output_type": "stream",
     "text": [
      "Updating authors:  14%|█▍        | 14/100 [00:22<02:18,  1.61s/it]"
     ]
    },
    {
     "name": "stdout",
     "output_type": "stream",
     "text": [
      "  ❌ Error updating post ld2da2: 'Redditor' object has no attribute 'id'\n"
     ]
    },
    {
     "name": "stderr",
     "output_type": "stream",
     "text": [
      "Updating authors:  44%|████▍     | 44/100 [01:11<01:30,  1.62s/it]"
     ]
    },
    {
     "name": "stdout",
     "output_type": "stream",
     "text": [
      "  ❌ Error updating post ld28kr: 'Redditor' object has no attribute 'id'\n"
     ]
    },
    {
     "name": "stderr",
     "output_type": "stream",
     "text": [
      "Updating authors:  73%|███████▎  | 73/100 [01:58<00:40,  1.51s/it]"
     ]
    },
    {
     "name": "stdout",
     "output_type": "stream",
     "text": [
      "  ❌ Error updating post ld22sz: 'Redditor' object has no attribute 'id'\n"
     ]
    },
    {
     "name": "stderr",
     "output_type": "stream",
     "text": [
      "Updating authors:  85%|████████▌ | 85/100 [02:16<00:23,  1.58s/it]"
     ]
    },
    {
     "name": "stdout",
     "output_type": "stream",
     "text": [
      "  ❌ Error updating post ld1zfp: 'Redditor' object has no attribute 'id'\n"
     ]
    },
    {
     "name": "stderr",
     "output_type": "stream",
     "text": [
      "Updating authors: 100%|██████████| 100/100 [02:39<00:00,  1.60s/it]\n"
     ]
    },
    {
     "name": "stdout",
     "output_type": "stream",
     "text": [
      "Progress: 27,058/53,187 (50.9%)\n",
      "Success rate: 27058/28200 (96.0%)\n",
      "Posts per minute: 27.6\n",
      "Taking a 30-second break between batches...\n",
      "\n",
      "Processing batch 283/532\n"
     ]
    },
    {
     "name": "stderr",
     "output_type": "stream",
     "text": [
      "Updating authors:   8%|▊         | 8/100 [00:15<02:54,  1.90s/it]"
     ]
    },
    {
     "name": "stdout",
     "output_type": "stream",
     "text": [
      "  ❌ Error updating post ld1w5i: 'Redditor' object has no attribute 'id'\n"
     ]
    },
    {
     "name": "stderr",
     "output_type": "stream",
     "text": [
      "Updating authors:  43%|████▎     | 43/100 [01:17<01:31,  1.61s/it]"
     ]
    },
    {
     "name": "stdout",
     "output_type": "stream",
     "text": [
      "  ❌ Error updating post ld1p01: 'Redditor' object has no attribute 'id'\n"
     ]
    },
    {
     "name": "stderr",
     "output_type": "stream",
     "text": [
      "Updating authors:  52%|█████▏    | 52/100 [01:31<01:17,  1.62s/it]"
     ]
    },
    {
     "name": "stdout",
     "output_type": "stream",
     "text": [
      "  ❌ Error updating post ld1n1n: 'Redditor' object has no attribute 'id'\n"
     ]
    },
    {
     "name": "stderr",
     "output_type": "stream",
     "text": [
      "Updating authors:  71%|███████   | 71/100 [02:01<00:45,  1.56s/it]"
     ]
    },
    {
     "name": "stdout",
     "output_type": "stream",
     "text": [
      "  ❌ Error updating post ld1kag: 'Redditor' object has no attribute 'id'\n"
     ]
    },
    {
     "name": "stderr",
     "output_type": "stream",
     "text": [
      "Updating authors:  94%|█████████▍| 94/100 [02:42<00:09,  1.63s/it]"
     ]
    },
    {
     "name": "stdout",
     "output_type": "stream",
     "text": [
      "  ❌ Error updating post ld1h07: 'Redditor' object has no attribute 'id'\n"
     ]
    },
    {
     "name": "stderr",
     "output_type": "stream",
     "text": [
      "Updating authors:  95%|█████████▌| 95/100 [02:43<00:08,  1.64s/it]"
     ]
    },
    {
     "name": "stdout",
     "output_type": "stream",
     "text": [
      "  ❌ Error updating post ld1gw2: 'Redditor' object has no attribute 'id'\n"
     ]
    },
    {
     "name": "stderr",
     "output_type": "stream",
     "text": [
      "Updating authors: 100%|██████████| 100/100 [02:52<00:00,  1.72s/it]\n"
     ]
    },
    {
     "name": "stdout",
     "output_type": "stream",
     "text": [
      "Progress: 27,152/53,187 (51.1%)\n",
      "Success rate: 27152/28300 (95.9%)\n",
      "Posts per minute: 27.6\n",
      "Taking a 30-second break between batches...\n",
      "\n",
      "Processing batch 284/532\n"
     ]
    },
    {
     "name": "stderr",
     "output_type": "stream",
     "text": [
      "Updating authors:  21%|██        | 21/100 [00:35<02:11,  1.66s/it]"
     ]
    },
    {
     "name": "stdout",
     "output_type": "stream",
     "text": [
      "  ❌ Error updating post ld1d6o: 'Redditor' object has no attribute 'id'\n"
     ]
    },
    {
     "name": "stderr",
     "output_type": "stream",
     "text": [
      "Updating authors:  50%|█████     | 50/100 [01:22<01:30,  1.81s/it]"
     ]
    },
    {
     "name": "stdout",
     "output_type": "stream",
     "text": [
      "  ❌ Error updating post ld16gp: 'Redditor' object has no attribute 'id'\n"
     ]
    },
    {
     "name": "stderr",
     "output_type": "stream",
     "text": [
      "Updating authors:  58%|█████▊    | 58/100 [01:36<01:14,  1.78s/it]"
     ]
    },
    {
     "name": "stdout",
     "output_type": "stream",
     "text": [
      "  ❌ Error updating post ld13c3: 'Redditor' object has no attribute 'id'\n"
     ]
    },
    {
     "name": "stderr",
     "output_type": "stream",
     "text": [
      "Updating authors:  69%|██████▉   | 69/100 [01:55<00:51,  1.66s/it]"
     ]
    },
    {
     "name": "stdout",
     "output_type": "stream",
     "text": [
      "  ❌ Error updating post ld11y1: 'Redditor' object has no attribute 'id'\n"
     ]
    },
    {
     "name": "stderr",
     "output_type": "stream",
     "text": [
      "Updating authors:  93%|█████████▎| 93/100 [02:36<00:11,  1.67s/it]"
     ]
    },
    {
     "name": "stdout",
     "output_type": "stream",
     "text": [
      "  ❌ Error updating post ld0xf6: 'Redditor' object has no attribute 'id'\n"
     ]
    },
    {
     "name": "stderr",
     "output_type": "stream",
     "text": [
      "Updating authors:  97%|█████████▋| 97/100 [02:43<00:04,  1.63s/it]"
     ]
    },
    {
     "name": "stdout",
     "output_type": "stream",
     "text": [
      "  ❌ Error updating post ld0wne: 'Redditor' object has no attribute 'id'\n"
     ]
    },
    {
     "name": "stderr",
     "output_type": "stream",
     "text": [
      "Updating authors: 100%|██████████| 100/100 [02:50<00:00,  1.70s/it]\n"
     ]
    },
    {
     "name": "stdout",
     "output_type": "stream",
     "text": [
      "Progress: 27,246/53,187 (51.2%)\n",
      "Success rate: 27246/28400 (95.9%)\n",
      "Posts per minute: 27.6\n",
      "Taking a 30-second break between batches...\n",
      "\n",
      "Processing batch 285/532\n"
     ]
    },
    {
     "name": "stderr",
     "output_type": "stream",
     "text": [
      "Updating authors:   7%|▋         | 7/100 [00:11<02:25,  1.56s/it]"
     ]
    },
    {
     "name": "stdout",
     "output_type": "stream",
     "text": [
      "  ❌ Error updating post ld0uma: 'Redditor' object has no attribute 'id'\n"
     ]
    },
    {
     "name": "stderr",
     "output_type": "stream",
     "text": [
      "Updating authors:  17%|█▋        | 17/100 [00:29<02:27,  1.77s/it]"
     ]
    },
    {
     "name": "stdout",
     "output_type": "stream",
     "text": [
      "  ❌ Error updating post ld0t42: 'Redditor' object has no attribute 'id'\n"
     ]
    },
    {
     "name": "stderr",
     "output_type": "stream",
     "text": [
      "Updating authors:  18%|█▊        | 18/100 [00:30<02:24,  1.76s/it]"
     ]
    },
    {
     "name": "stdout",
     "output_type": "stream",
     "text": [
      "  ❌ Error updating post ld0svy: 'Redditor' object has no attribute 'id'\n"
     ]
    },
    {
     "name": "stderr",
     "output_type": "stream",
     "text": [
      "Updating authors:  22%|██▏       | 22/100 [00:37<02:08,  1.65s/it]"
     ]
    },
    {
     "name": "stdout",
     "output_type": "stream",
     "text": [
      "  ❌ Error updating post ld0sjt: 'Redditor' object has no attribute 'id'\n"
     ]
    },
    {
     "name": "stderr",
     "output_type": "stream",
     "text": [
      "Updating authors:  28%|██▊       | 28/100 [00:47<01:57,  1.64s/it]"
     ]
    },
    {
     "name": "stdout",
     "output_type": "stream",
     "text": [
      "  ❌ Error updating post ld0rdh: 'Redditor' object has no attribute 'id'\n"
     ]
    },
    {
     "name": "stderr",
     "output_type": "stream",
     "text": [
      "Updating authors:  30%|███       | 30/100 [00:50<01:58,  1.70s/it]"
     ]
    },
    {
     "name": "stdout",
     "output_type": "stream",
     "text": [
      "  ❌ Error updating post ld0ra8: 'Redditor' object has no attribute 'id'\n"
     ]
    },
    {
     "name": "stderr",
     "output_type": "stream",
     "text": [
      "Updating authors:  33%|███▎      | 33/100 [00:56<01:56,  1.74s/it]"
     ]
    },
    {
     "name": "stdout",
     "output_type": "stream",
     "text": [
      "  ❌ Error updating post ld0qws: 'Redditor' object has no attribute 'id'\n"
     ]
    },
    {
     "name": "stderr",
     "output_type": "stream",
     "text": [
      "Updating authors:  71%|███████   | 71/100 [01:59<00:46,  1.60s/it]"
     ]
    },
    {
     "name": "stdout",
     "output_type": "stream",
     "text": [
      "  ❌ Error updating post ld0l87: 'Redditor' object has no attribute 'id'\n"
     ]
    },
    {
     "name": "stderr",
     "output_type": "stream",
     "text": [
      "Updating authors: 100%|██████████| 100/100 [02:46<00:00,  1.67s/it]\n"
     ]
    },
    {
     "name": "stdout",
     "output_type": "stream",
     "text": [
      "Progress: 27,338/53,187 (51.4%)\n",
      "Success rate: 27338/28500 (95.9%)\n",
      "Posts per minute: 27.6\n",
      "Taking a 30-second break between batches...\n",
      "\n",
      "Processing batch 286/532\n"
     ]
    },
    {
     "name": "stderr",
     "output_type": "stream",
     "text": [
      "Updating authors:  23%|██▎       | 23/100 [00:37<02:06,  1.65s/it]"
     ]
    },
    {
     "name": "stdout",
     "output_type": "stream",
     "text": [
      "  ❌ Error updating post ld0dke: 'Redditor' object has no attribute 'id'\n"
     ]
    },
    {
     "name": "stderr",
     "output_type": "stream",
     "text": [
      "Updating authors:  34%|███▍      | 34/100 [01:00<01:59,  1.81s/it]"
     ]
    },
    {
     "name": "stdout",
     "output_type": "stream",
     "text": [
      "  ❌ Error updating post ld0bvl: received 404 HTTP response\n"
     ]
    },
    {
     "name": "stderr",
     "output_type": "stream",
     "text": [
      "Updating authors:  47%|████▋     | 47/100 [01:22<01:25,  1.62s/it]"
     ]
    },
    {
     "name": "stdout",
     "output_type": "stream",
     "text": [
      "  ❌ Error updating post ld09us: 'Redditor' object has no attribute 'id'\n"
     ]
    },
    {
     "name": "stderr",
     "output_type": "stream",
     "text": [
      "Updating authors:  56%|█████▌    | 56/100 [01:37<01:11,  1.63s/it]"
     ]
    },
    {
     "name": "stdout",
     "output_type": "stream",
     "text": [
      "  ❌ Error updating post ld9867: 'Redditor' object has no attribute 'id'\n"
     ]
    },
    {
     "name": "stderr",
     "output_type": "stream",
     "text": [
      "Updating authors:  79%|███████▉  | 79/100 [02:17<00:32,  1.57s/it]"
     ]
    },
    {
     "name": "stdout",
     "output_type": "stream",
     "text": [
      "  ❌ Error updating post ldcbab: 'Redditor' object has no attribute 'id'\n"
     ]
    },
    {
     "name": "stderr",
     "output_type": "stream",
     "text": [
      "Updating authors:  92%|█████████▏| 92/100 [02:45<00:17,  2.14s/it]"
     ]
    },
    {
     "name": "stdout",
     "output_type": "stream",
     "text": [
      "  ❌ Error updating post ldc9ik: 'Redditor' object has no attribute 'id'\n"
     ]
    },
    {
     "name": "stderr",
     "output_type": "stream",
     "text": [
      "Updating authors: 100%|██████████| 100/100 [03:00<00:00,  1.80s/it]\n"
     ]
    },
    {
     "name": "stdout",
     "output_type": "stream",
     "text": [
      "Progress: 27,432/53,187 (51.6%)\n",
      "Success rate: 27432/28600 (95.9%)\n",
      "Posts per minute: 27.6\n",
      "Taking a 30-second break between batches...\n",
      "\n",
      "Processing batch 287/532\n"
     ]
    },
    {
     "name": "stderr",
     "output_type": "stream",
     "text": [
      "Updating authors:  11%|█         | 11/100 [00:17<02:15,  1.52s/it]"
     ]
    },
    {
     "name": "stdout",
     "output_type": "stream",
     "text": [
      "  ❌ Error updating post ldc662: 'Redditor' object has no attribute 'id'\n"
     ]
    },
    {
     "name": "stderr",
     "output_type": "stream",
     "text": [
      "Updating authors:  16%|█▌        | 16/100 [00:26<02:22,  1.70s/it]"
     ]
    },
    {
     "name": "stdout",
     "output_type": "stream",
     "text": [
      "  ❌ Error updating post ldc5nz: 'Redditor' object has no attribute 'id'\n"
     ]
    },
    {
     "name": "stderr",
     "output_type": "stream",
     "text": [
      "Updating authors:  34%|███▍      | 34/100 [00:54<01:42,  1.55s/it]"
     ]
    },
    {
     "name": "stdout",
     "output_type": "stream",
     "text": [
      "  ❌ Error updating post ldc1ug: 'Redditor' object has no attribute 'id'\n"
     ]
    },
    {
     "name": "stderr",
     "output_type": "stream",
     "text": [
      "Updating authors:  42%|████▏     | 42/100 [01:11<01:57,  2.03s/it]"
     ]
    },
    {
     "name": "stdout",
     "output_type": "stream",
     "text": [
      "  ❌ Error updating post ldc1hp: 'Redditor' object has no attribute 'id'\n"
     ]
    },
    {
     "name": "stderr",
     "output_type": "stream",
     "text": [
      "Updating authors:  49%|████▉     | 49/100 [01:22<01:21,  1.59s/it]"
     ]
    },
    {
     "name": "stdout",
     "output_type": "stream",
     "text": [
      "  ❌ Error updating post ldc0i3: 'Redditor' object has no attribute 'id'\n"
     ]
    },
    {
     "name": "stderr",
     "output_type": "stream",
     "text": [
      "Updating authors:  72%|███████▏  | 72/100 [02:01<00:47,  1.69s/it]"
     ]
    },
    {
     "name": "stdout",
     "output_type": "stream",
     "text": [
      "  ❌ Error updating post ldbwcd: 'Redditor' object has no attribute 'id'\n"
     ]
    },
    {
     "name": "stderr",
     "output_type": "stream",
     "text": [
      "Updating authors: 100%|██████████| 100/100 [02:48<00:00,  1.68s/it]\n"
     ]
    },
    {
     "name": "stdout",
     "output_type": "stream",
     "text": [
      "Progress: 27,526/53,187 (51.8%)\n",
      "Success rate: 27526/28700 (95.9%)\n",
      "Posts per minute: 27.6\n",
      "Taking a 30-second break between batches...\n",
      "\n",
      "Processing batch 288/532\n"
     ]
    },
    {
     "name": "stderr",
     "output_type": "stream",
     "text": [
      "Updating authors:   7%|▋         | 7/100 [00:10<02:20,  1.51s/it]"
     ]
    },
    {
     "name": "stdout",
     "output_type": "stream",
     "text": [
      "  ❌ Error updating post ldbru4: 'Redditor' object has no attribute 'id'\n"
     ]
    },
    {
     "name": "stderr",
     "output_type": "stream",
     "text": [
      "Updating authors:  34%|███▍      | 34/100 [00:59<02:06,  1.92s/it]"
     ]
    },
    {
     "name": "stdout",
     "output_type": "stream",
     "text": [
      "  ❌ Error updating post ldbnnj: 'Redditor' object has no attribute 'id'\n"
     ]
    },
    {
     "name": "stderr",
     "output_type": "stream",
     "text": [
      "Updating authors:  58%|█████▊    | 58/100 [01:41<01:13,  1.74s/it]"
     ]
    },
    {
     "name": "stdout",
     "output_type": "stream",
     "text": [
      "  ❌ Error updating post ldblbk: 'Redditor' object has no attribute 'id'\n"
     ]
    },
    {
     "name": "stderr",
     "output_type": "stream",
     "text": [
      "Updating authors: 100%|██████████| 100/100 [02:51<00:00,  1.71s/it]\n"
     ]
    },
    {
     "name": "stdout",
     "output_type": "stream",
     "text": [
      "Progress: 27,623/53,187 (51.9%)\n",
      "Success rate: 27623/28800 (95.9%)\n",
      "Posts per minute: 27.6\n",
      "Taking a 30-second break between batches...\n",
      "\n",
      "Processing batch 289/532\n"
     ]
    },
    {
     "name": "stderr",
     "output_type": "stream",
     "text": [
      "Updating authors:   2%|▏         | 2/100 [00:03<02:29,  1.53s/it]"
     ]
    },
    {
     "name": "stdout",
     "output_type": "stream",
     "text": [
      "  ❌ Error updating post ldbd56: 'Redditor' object has no attribute 'id'\n"
     ]
    },
    {
     "name": "stderr",
     "output_type": "stream",
     "text": [
      "Updating authors:  11%|█         | 11/100 [00:17<02:18,  1.55s/it]"
     ]
    },
    {
     "name": "stdout",
     "output_type": "stream",
     "text": [
      "  ❌ Error updating post ldbaye: 'Redditor' object has no attribute 'id'\n"
     ]
    },
    {
     "name": "stderr",
     "output_type": "stream",
     "text": [
      "Updating authors:  22%|██▏       | 22/100 [00:35<02:09,  1.66s/it]"
     ]
    },
    {
     "name": "stdout",
     "output_type": "stream",
     "text": [
      "  ❌ Error updating post ldb8os: 'Redditor' object has no attribute 'id'\n"
     ]
    },
    {
     "name": "stderr",
     "output_type": "stream",
     "text": [
      "Updating authors:  33%|███▎      | 33/100 [00:56<01:52,  1.69s/it]"
     ]
    },
    {
     "name": "stdout",
     "output_type": "stream",
     "text": [
      "  ❌ Error updating post ldb6vj: 'Redditor' object has no attribute 'id'\n"
     ]
    },
    {
     "name": "stderr",
     "output_type": "stream",
     "text": [
      "Updating authors:  34%|███▍      | 34/100 [00:57<01:50,  1.68s/it]"
     ]
    },
    {
     "name": "stdout",
     "output_type": "stream",
     "text": [
      "  ❌ Error updating post ldb6tr: 'Redditor' object has no attribute 'id'\n"
     ]
    },
    {
     "name": "stderr",
     "output_type": "stream",
     "text": [
      "Updating authors:  40%|████      | 40/100 [01:08<01:43,  1.72s/it]"
     ]
    },
    {
     "name": "stdout",
     "output_type": "stream",
     "text": [
      "  ❌ Error updating post ldb65n: 'Redditor' object has no attribute 'id'\n"
     ]
    },
    {
     "name": "stderr",
     "output_type": "stream",
     "text": [
      "Updating authors:  71%|███████   | 71/100 [02:06<00:49,  1.71s/it]"
     ]
    },
    {
     "name": "stdout",
     "output_type": "stream",
     "text": [
      "  ❌ Error updating post ldb2fc: 'Redditor' object has no attribute 'id'\n"
     ]
    },
    {
     "name": "stderr",
     "output_type": "stream",
     "text": [
      "Updating authors:  82%|████████▏ | 82/100 [02:23<00:31,  1.76s/it]"
     ]
    },
    {
     "name": "stdout",
     "output_type": "stream",
     "text": [
      "  ❌ Error updating post ldb0y1: 'Redditor' object has no attribute 'id'\n"
     ]
    },
    {
     "name": "stderr",
     "output_type": "stream",
     "text": [
      "Updating authors: 100%|██████████| 100/100 [02:52<00:00,  1.73s/it]\n"
     ]
    },
    {
     "name": "stdout",
     "output_type": "stream",
     "text": [
      "Progress: 27,715/53,187 (52.1%)\n",
      "Success rate: 27715/28900 (95.9%)\n",
      "Posts per minute: 27.6\n",
      "Taking a 30-second break between batches...\n",
      "\n",
      "Processing batch 290/532\n"
     ]
    },
    {
     "name": "stderr",
     "output_type": "stream",
     "text": [
      "Updating authors:   0%|          | 0/100 [00:00<?, ?it/s]"
     ]
    },
    {
     "name": "stdout",
     "output_type": "stream",
     "text": [
      "  ❌ Error updating post ldayxs: 'Redditor' object has no attribute 'id'\n"
     ]
    },
    {
     "name": "stderr",
     "output_type": "stream",
     "text": [
      "Updating authors:  46%|████▌     | 46/100 [01:14<01:23,  1.55s/it]"
     ]
    },
    {
     "name": "stdout",
     "output_type": "stream",
     "text": [
      "  ❌ Error updating post ldaqyn: 'Redditor' object has no attribute 'id'\n"
     ]
    },
    {
     "name": "stderr",
     "output_type": "stream",
     "text": [
      "Updating authors:  67%|██████▋   | 67/100 [01:47<00:50,  1.54s/it]"
     ]
    },
    {
     "name": "stdout",
     "output_type": "stream",
     "text": [
      "  ❌ Error updating post ldaon8: 'Redditor' object has no attribute 'id'\n"
     ]
    },
    {
     "name": "stderr",
     "output_type": "stream",
     "text": [
      "Updating authors:  74%|███████▍  | 74/100 [01:58<00:44,  1.70s/it]"
     ]
    },
    {
     "name": "stdout",
     "output_type": "stream",
     "text": [
      "  ❌ Error updating post ldanv4: 'Redditor' object has no attribute 'id'\n"
     ]
    },
    {
     "name": "stderr",
     "output_type": "stream",
     "text": [
      "Updating authors:  95%|█████████▌| 95/100 [02:38<00:08,  1.65s/it]"
     ]
    },
    {
     "name": "stdout",
     "output_type": "stream",
     "text": [
      "  ❌ Error updating post ldajra: 'Redditor' object has no attribute 'id'\n"
     ]
    },
    {
     "name": "stderr",
     "output_type": "stream",
     "text": [
      "Updating authors: 100%|██████████| 100/100 [02:47<00:00,  1.68s/it]\n"
     ]
    },
    {
     "name": "stdout",
     "output_type": "stream",
     "text": [
      "Progress: 27,810/53,187 (52.3%)\n",
      "Success rate: 27810/29000 (95.9%)\n",
      "Posts per minute: 27.6\n",
      "Taking a 30-second break between batches...\n",
      "\n",
      "Processing batch 291/532\n"
     ]
    },
    {
     "name": "stderr",
     "output_type": "stream",
     "text": [
      "Updating authors:   5%|▌         | 5/100 [00:07<02:31,  1.60s/it]"
     ]
    },
    {
     "name": "stdout",
     "output_type": "stream",
     "text": [
      "  ❌ Error updating post ldaimu: 'Redditor' object has no attribute 'id'\n"
     ]
    },
    {
     "name": "stderr",
     "output_type": "stream",
     "text": [
      "Updating authors:  27%|██▋       | 27/100 [00:45<01:45,  1.45s/it]"
     ]
    },
    {
     "name": "stdout",
     "output_type": "stream",
     "text": [
      "  ❌ Error updating post ldag7d: received 404 HTTP response\n"
     ]
    },
    {
     "name": "stderr",
     "output_type": "stream",
     "text": [
      "Updating authors:  65%|██████▌   | 65/100 [01:46<00:54,  1.55s/it]"
     ]
    },
    {
     "name": "stdout",
     "output_type": "stream",
     "text": [
      "  ❌ Error updating post ldabz7: 'Redditor' object has no attribute 'id'\n"
     ]
    },
    {
     "name": "stderr",
     "output_type": "stream",
     "text": [
      "Updating authors: 100%|██████████| 100/100 [02:43<00:00,  1.63s/it]\n"
     ]
    },
    {
     "name": "stdout",
     "output_type": "stream",
     "text": [
      "Progress: 27,907/53,187 (52.5%)\n",
      "Success rate: 27907/29100 (95.9%)\n",
      "Posts per minute: 27.6\n",
      "Taking a 30-second break between batches...\n",
      "\n",
      "Processing batch 292/532\n"
     ]
    },
    {
     "name": "stderr",
     "output_type": "stream",
     "text": [
      "Updating authors:  14%|█▍        | 14/100 [00:24<02:38,  1.84s/it]"
     ]
    },
    {
     "name": "stdout",
     "output_type": "stream",
     "text": [
      "  ❌ Error updating post lda6cd: 'Redditor' object has no attribute 'id'\n"
     ]
    },
    {
     "name": "stderr",
     "output_type": "stream",
     "text": [
      "Updating authors:  17%|█▋        | 17/100 [00:29<02:22,  1.71s/it]"
     ]
    },
    {
     "name": "stdout",
     "output_type": "stream",
     "text": [
      "  ❌ Error updating post lda66s: 'Redditor' object has no attribute 'id'\n"
     ]
    },
    {
     "name": "stderr",
     "output_type": "stream",
     "text": [
      "Updating authors:  36%|███▌      | 36/100 [01:05<01:51,  1.74s/it]"
     ]
    },
    {
     "name": "stdout",
     "output_type": "stream",
     "text": [
      "  ❌ Error updating post lda4if: 'Redditor' object has no attribute 'id'\n"
     ]
    },
    {
     "name": "stderr",
     "output_type": "stream",
     "text": [
      "Updating authors:  38%|███▊      | 38/100 [01:08<01:41,  1.64s/it]"
     ]
    },
    {
     "name": "stdout",
     "output_type": "stream",
     "text": [
      "  ❌ Error updating post lda4cw: 'Redditor' object has no attribute 'id'\n"
     ]
    },
    {
     "name": "stderr",
     "output_type": "stream",
     "text": [
      "Updating authors:  43%|████▎     | 43/100 [01:18<01:42,  1.81s/it]"
     ]
    },
    {
     "name": "stdout",
     "output_type": "stream",
     "text": [
      "  ❌ Error updating post lda40t: 'Redditor' object has no attribute 'id'\n"
     ]
    },
    {
     "name": "stderr",
     "output_type": "stream",
     "text": [
      "Updating authors:  64%|██████▍   | 64/100 [01:52<00:59,  1.65s/it]"
     ]
    },
    {
     "name": "stdout",
     "output_type": "stream",
     "text": [
      "  ❌ Error updating post lda21j: 'Redditor' object has no attribute 'id'\n"
     ]
    },
    {
     "name": "stderr",
     "output_type": "stream",
     "text": [
      "Updating authors:  89%|████████▉ | 89/100 [02:32<00:17,  1.63s/it]"
     ]
    },
    {
     "name": "stdout",
     "output_type": "stream",
     "text": [
      "  ❌ Error updating post lda0g1: 'Redditor' object has no attribute 'id'\n"
     ]
    },
    {
     "name": "stderr",
     "output_type": "stream",
     "text": [
      "Updating authors:  99%|█████████▉| 99/100 [02:48<00:01,  1.60s/it]"
     ]
    },
    {
     "name": "stdout",
     "output_type": "stream",
     "text": [
      "  ❌ Error updating post ld9zyi: 'Redditor' object has no attribute 'id'\n"
     ]
    },
    {
     "name": "stderr",
     "output_type": "stream",
     "text": [
      "Updating authors: 100%|██████████| 100/100 [02:49<00:00,  1.70s/it]\n"
     ]
    },
    {
     "name": "stdout",
     "output_type": "stream",
     "text": [
      "Progress: 27,999/53,187 (52.6%)\n",
      "Success rate: 27999/29200 (95.9%)\n",
      "Posts per minute: 27.6\n",
      "Taking a 30-second break between batches...\n",
      "\n",
      "Processing batch 293/532\n"
     ]
    },
    {
     "name": "stderr",
     "output_type": "stream",
     "text": [
      "Updating authors:  22%|██▏       | 22/100 [00:35<01:58,  1.52s/it]"
     ]
    },
    {
     "name": "stdout",
     "output_type": "stream",
     "text": [
      "  ❌ Error updating post ld9y7q: 'Redditor' object has no attribute 'id'\n"
     ]
    },
    {
     "name": "stderr",
     "output_type": "stream",
     "text": [
      "Updating authors:  27%|██▋       | 27/100 [00:43<02:02,  1.68s/it]"
     ]
    },
    {
     "name": "stdout",
     "output_type": "stream",
     "text": [
      "  ❌ Error updating post ld9xj5: 'Redditor' object has no attribute 'id'\n"
     ]
    },
    {
     "name": "stderr",
     "output_type": "stream",
     "text": [
      "Updating authors:  28%|██▊       | 28/100 [00:45<02:02,  1.70s/it]"
     ]
    },
    {
     "name": "stdout",
     "output_type": "stream",
     "text": [
      "  ❌ Error updating post ld9xgm: 'Redditor' object has no attribute 'id'\n"
     ]
    },
    {
     "name": "stderr",
     "output_type": "stream",
     "text": [
      "Updating authors:  75%|███████▌  | 75/100 [01:59<00:41,  1.65s/it]"
     ]
    },
    {
     "name": "stdout",
     "output_type": "stream",
     "text": [
      "  ❌ Error updating post ld9s57: 'Redditor' object has no attribute 'id'\n"
     ]
    },
    {
     "name": "stderr",
     "output_type": "stream",
     "text": [
      "Updating authors:  92%|█████████▏| 92/100 [02:27<00:13,  1.63s/it]"
     ]
    },
    {
     "name": "stdout",
     "output_type": "stream",
     "text": [
      "  ❌ Error updating post ld9qyb: 'Redditor' object has no attribute 'id'\n"
     ]
    },
    {
     "name": "stderr",
     "output_type": "stream",
     "text": [
      "Updating authors: 100%|██████████| 100/100 [02:40<00:00,  1.60s/it]\n"
     ]
    },
    {
     "name": "stdout",
     "output_type": "stream",
     "text": [
      "Progress: 28,094/53,187 (52.8%)\n",
      "Success rate: 28094/29300 (95.9%)\n",
      "Posts per minute: 27.6\n",
      "Taking a 30-second break between batches...\n",
      "\n",
      "Processing batch 294/532\n"
     ]
    },
    {
     "name": "stderr",
     "output_type": "stream",
     "text": [
      "Updating authors:  73%|███████▎  | 73/100 [02:03<00:42,  1.59s/it]"
     ]
    },
    {
     "name": "stdout",
     "output_type": "stream",
     "text": [
      "  ❌ Error updating post ld9ja1: 'Redditor' object has no attribute 'id'\n"
     ]
    },
    {
     "name": "stderr",
     "output_type": "stream",
     "text": [
      "Updating authors:  78%|███████▊  | 78/100 [02:11<00:34,  1.58s/it]"
     ]
    },
    {
     "name": "stdout",
     "output_type": "stream",
     "text": [
      "  ❌ Error updating post ld9itg: 'Redditor' object has no attribute 'id'\n"
     ]
    },
    {
     "name": "stderr",
     "output_type": "stream",
     "text": [
      "Updating authors:  96%|█████████▌| 96/100 [02:41<00:06,  1.65s/it]"
     ]
    },
    {
     "name": "stdout",
     "output_type": "stream",
     "text": [
      "  ❌ Error updating post ld9hax: 'Redditor' object has no attribute 'id'\n"
     ]
    },
    {
     "name": "stderr",
     "output_type": "stream",
     "text": [
      "Updating authors: 100%|██████████| 100/100 [02:50<00:00,  1.70s/it]\n"
     ]
    },
    {
     "name": "stdout",
     "output_type": "stream",
     "text": [
      "Progress: 28,191/53,187 (53.0%)\n",
      "Success rate: 28191/29400 (95.9%)\n",
      "Posts per minute: 27.6\n",
      "Taking a 30-second break between batches...\n",
      "\n",
      "Processing batch 295/532\n"
     ]
    },
    {
     "name": "stderr",
     "output_type": "stream",
     "text": [
      "Updating authors:   2%|▏         | 2/100 [00:02<02:19,  1.42s/it]"
     ]
    },
    {
     "name": "stdout",
     "output_type": "stream",
     "text": [
      "  ❌ Error updating post ld9gvy: 'Redditor' object has no attribute 'id'\n"
     ]
    },
    {
     "name": "stderr",
     "output_type": "stream",
     "text": [
      "Updating authors:  66%|██████▌   | 66/100 [01:47<00:55,  1.63s/it]"
     ]
    },
    {
     "name": "stdout",
     "output_type": "stream",
     "text": [
      "  ❌ Error updating post ld9ceg: 'Redditor' object has no attribute 'id'\n"
     ]
    },
    {
     "name": "stderr",
     "output_type": "stream",
     "text": [
      "Updating authors:  69%|██████▉   | 69/100 [01:52<00:50,  1.64s/it]"
     ]
    },
    {
     "name": "stdout",
     "output_type": "stream",
     "text": [
      "  ❌ Error updating post ld9cav: 'Redditor' object has no attribute 'id'\n"
     ]
    },
    {
     "name": "stderr",
     "output_type": "stream",
     "text": [
      "Updating authors:  77%|███████▋  | 77/100 [02:04<00:36,  1.57s/it]"
     ]
    },
    {
     "name": "stdout",
     "output_type": "stream",
     "text": [
      "  ❌ Error updating post ld9bt2: 'Redditor' object has no attribute 'id'\n"
     ]
    },
    {
     "name": "stderr",
     "output_type": "stream",
     "text": [
      "Updating authors:  94%|█████████▍| 94/100 [02:33<00:10,  1.72s/it]"
     ]
    },
    {
     "name": "stdout",
     "output_type": "stream",
     "text": [
      "  ❌ Error updating post ld9aqo: 'Redditor' object has no attribute 'id'\n"
     ]
    },
    {
     "name": "stderr",
     "output_type": "stream",
     "text": [
      "Updating authors: 100%|██████████| 100/100 [02:42<00:00,  1.63s/it]\n"
     ]
    },
    {
     "name": "stdout",
     "output_type": "stream",
     "text": [
      "Progress: 28,286/53,187 (53.2%)\n",
      "Success rate: 28286/29500 (95.9%)\n",
      "Posts per minute: 27.6\n",
      "Taking a 30-second break between batches...\n",
      "\n",
      "Processing batch 296/532\n"
     ]
    },
    {
     "name": "stderr",
     "output_type": "stream",
     "text": [
      "Updating authors:  18%|█▊        | 18/100 [00:33<02:17,  1.68s/it]"
     ]
    },
    {
     "name": "stdout",
     "output_type": "stream",
     "text": [
      "  ❌ Error updating post ld98qw: 'Redditor' object has no attribute 'id'\n"
     ]
    },
    {
     "name": "stderr",
     "output_type": "stream",
     "text": [
      "Updating authors:  74%|███████▍  | 74/100 [02:28<00:48,  1.86s/it]"
     ]
    },
    {
     "name": "stdout",
     "output_type": "stream",
     "text": [
      "  ❌ Error updating post ldhgj4: 'Redditor' object has no attribute 'id'\n"
     ]
    },
    {
     "name": "stderr",
     "output_type": "stream",
     "text": [
      "Updating authors:  90%|█████████ | 90/100 [02:54<00:17,  1.78s/it]"
     ]
    },
    {
     "name": "stdout",
     "output_type": "stream",
     "text": [
      "  ❌ Error updating post ldhei6: 'Redditor' object has no attribute 'id'\n"
     ]
    },
    {
     "name": "stderr",
     "output_type": "stream",
     "text": [
      "Updating authors:  91%|█████████ | 91/100 [02:56<00:17,  1.92s/it]"
     ]
    },
    {
     "name": "stdout",
     "output_type": "stream",
     "text": [
      "  ❌ Error updating post ldhe8i: 'Redditor' object has no attribute 'id'\n"
     ]
    },
    {
     "name": "stderr",
     "output_type": "stream",
     "text": [
      "Updating authors:  95%|█████████▌| 95/100 [03:03<00:08,  1.69s/it]"
     ]
    },
    {
     "name": "stdout",
     "output_type": "stream",
     "text": [
      "  ❌ Error updating post ldhd14: 'Redditor' object has no attribute 'id'\n"
     ]
    },
    {
     "name": "stderr",
     "output_type": "stream",
     "text": [
      "Updating authors: 100%|██████████| 100/100 [03:14<00:00,  1.94s/it]\n"
     ]
    },
    {
     "name": "stdout",
     "output_type": "stream",
     "text": [
      "Progress: 28,381/53,187 (53.4%)\n",
      "Success rate: 28381/29600 (95.9%)\n",
      "Posts per minute: 27.6\n",
      "Taking a 30-second break between batches...\n",
      "\n",
      "Processing batch 297/532\n"
     ]
    },
    {
     "name": "stderr",
     "output_type": "stream",
     "text": [
      "Updating authors:   2%|▏         | 2/100 [00:03<02:54,  1.78s/it]"
     ]
    },
    {
     "name": "stdout",
     "output_type": "stream",
     "text": [
      "  ❌ Error updating post ldhc3t: 'Redditor' object has no attribute 'id'\n"
     ]
    },
    {
     "name": "stderr",
     "output_type": "stream",
     "text": [
      "Updating authors:   3%|▎         | 3/100 [00:05<02:59,  1.85s/it]"
     ]
    },
    {
     "name": "stdout",
     "output_type": "stream",
     "text": [
      "  ❌ Error updating post ldhbpm: 'Redditor' object has no attribute 'id'\n"
     ]
    },
    {
     "name": "stderr",
     "output_type": "stream",
     "text": [
      "Updating authors:  11%|█         | 11/100 [00:18<02:26,  1.65s/it]"
     ]
    },
    {
     "name": "stdout",
     "output_type": "stream",
     "text": [
      "  ❌ Error updating post ldha0p: 'Redditor' object has no attribute 'id'\n"
     ]
    },
    {
     "name": "stderr",
     "output_type": "stream",
     "text": [
      "Updating authors:  20%|██        | 20/100 [00:34<02:36,  1.96s/it]"
     ]
    },
    {
     "name": "stdout",
     "output_type": "stream",
     "text": [
      "  ❌ Error updating post ldh8zj: 'Redditor' object has no attribute 'id'\n"
     ]
    },
    {
     "name": "stderr",
     "output_type": "stream",
     "text": [
      "Updating authors:  41%|████      | 41/100 [01:13<02:30,  2.55s/it]"
     ]
    },
    {
     "name": "stdout",
     "output_type": "stream",
     "text": [
      "  ❌ Error updating post ldh57f: received 404 HTTP response\n"
     ]
    },
    {
     "name": "stderr",
     "output_type": "stream",
     "text": [
      "Updating authors:  43%|████▎     | 43/100 [01:17<01:57,  2.07s/it]"
     ]
    },
    {
     "name": "stdout",
     "output_type": "stream",
     "text": [
      "  ❌ Error updating post ldh4hi: 'Redditor' object has no attribute 'id'\n"
     ]
    },
    {
     "name": "stderr",
     "output_type": "stream",
     "text": [
      "Updating authors:  47%|████▋     | 47/100 [01:23<01:34,  1.79s/it]"
     ]
    },
    {
     "name": "stdout",
     "output_type": "stream",
     "text": [
      "  ❌ Error updating post ldh2vp: 'Redditor' object has no attribute 'id'\n"
     ]
    },
    {
     "name": "stderr",
     "output_type": "stream",
     "text": [
      "Updating authors:  48%|████▊     | 48/100 [01:26<01:37,  1.88s/it]"
     ]
    },
    {
     "name": "stdout",
     "output_type": "stream",
     "text": [
      "  ❌ Error updating post ldh2so: 'Redditor' object has no attribute 'id'\n"
     ]
    },
    {
     "name": "stderr",
     "output_type": "stream",
     "text": [
      "Updating authors:  62%|██████▏   | 62/100 [01:49<01:02,  1.64s/it]"
     ]
    },
    {
     "name": "stdout",
     "output_type": "stream",
     "text": [
      "  ❌ Error updating post ldgzwe: received 404 HTTP response\n"
     ]
    },
    {
     "name": "stderr",
     "output_type": "stream",
     "text": [
      "Updating authors:  94%|█████████▍| 94/100 [02:48<00:10,  1.72s/it]"
     ]
    },
    {
     "name": "stdout",
     "output_type": "stream",
     "text": [
      "  ❌ Error updating post ldgryl: 'Redditor' object has no attribute 'id'\n"
     ]
    },
    {
     "name": "stderr",
     "output_type": "stream",
     "text": [
      "Updating authors: 100%|██████████| 100/100 [02:57<00:00,  1.78s/it]\n"
     ]
    },
    {
     "name": "stdout",
     "output_type": "stream",
     "text": [
      "Progress: 28,471/53,187 (53.5%)\n",
      "Success rate: 28471/29700 (95.9%)\n",
      "Posts per minute: 27.6\n",
      "Taking a 30-second break between batches...\n",
      "\n",
      "Processing batch 298/532\n"
     ]
    },
    {
     "name": "stderr",
     "output_type": "stream",
     "text": [
      "Updating authors:   0%|          | 0/100 [00:00<?, ?it/s]"
     ]
    },
    {
     "name": "stdout",
     "output_type": "stream",
     "text": [
      "  ❌ Error updating post ldgptj: 'Redditor' object has no attribute 'id'\n"
     ]
    },
    {
     "name": "stderr",
     "output_type": "stream",
     "text": [
      "Updating authors:   4%|▍         | 4/100 [00:06<02:41,  1.69s/it]"
     ]
    },
    {
     "name": "stdout",
     "output_type": "stream",
     "text": [
      "  ❌ Error updating post ldgpcy: 'Redditor' object has no attribute 'id'\n"
     ]
    },
    {
     "name": "stderr",
     "output_type": "stream",
     "text": [
      "Updating authors:  50%|█████     | 50/100 [01:27<01:23,  1.67s/it]"
     ]
    },
    {
     "name": "stdout",
     "output_type": "stream",
     "text": [
      "  ❌ Error updating post ldgf80: 'Redditor' object has no attribute 'id'\n"
     ]
    },
    {
     "name": "stderr",
     "output_type": "stream",
     "text": [
      "Updating authors:  63%|██████▎   | 63/100 [01:48<01:03,  1.71s/it]"
     ]
    },
    {
     "name": "stdout",
     "output_type": "stream",
     "text": [
      "  ❌ Error updating post ldgcj6: 'Redditor' object has no attribute 'id'\n"
     ]
    },
    {
     "name": "stderr",
     "output_type": "stream",
     "text": [
      "Updating authors:  73%|███████▎  | 73/100 [02:05<00:49,  1.84s/it]"
     ]
    },
    {
     "name": "stdout",
     "output_type": "stream",
     "text": [
      "  ❌ Error updating post ldgac6: 'Redditor' object has no attribute 'id'\n"
     ]
    },
    {
     "name": "stderr",
     "output_type": "stream",
     "text": [
      "Updating authors: 100%|██████████| 100/100 [02:48<00:00,  1.69s/it]\n"
     ]
    },
    {
     "name": "stdout",
     "output_type": "stream",
     "text": [
      "Progress: 28,566/53,187 (53.7%)\n",
      "Success rate: 28566/29800 (95.9%)\n",
      "Posts per minute: 27.6\n",
      "Taking a 30-second break between batches...\n",
      "\n",
      "Processing batch 299/532\n"
     ]
    },
    {
     "name": "stderr",
     "output_type": "stream",
     "text": [
      "Updating authors:  23%|██▎       | 23/100 [00:38<02:27,  1.92s/it]"
     ]
    },
    {
     "name": "stdout",
     "output_type": "stream",
     "text": [
      "  ❌ Error updating post ldg0e0: 'Redditor' object has no attribute 'id'\n"
     ]
    },
    {
     "name": "stderr",
     "output_type": "stream",
     "text": [
      "Updating authors:  25%|██▌       | 25/100 [00:42<02:15,  1.81s/it]"
     ]
    },
    {
     "name": "stdout",
     "output_type": "stream",
     "text": [
      "  ❌ Error updating post ldfzb6: 'Redditor' object has no attribute 'id'\n"
     ]
    },
    {
     "name": "stderr",
     "output_type": "stream",
     "text": [
      "Updating authors:  44%|████▍     | 44/100 [01:13<01:31,  1.64s/it]"
     ]
    },
    {
     "name": "stdout",
     "output_type": "stream",
     "text": [
      "  ❌ Error updating post ldfuk5: 'Redditor' object has no attribute 'id'\n"
     ]
    },
    {
     "name": "stderr",
     "output_type": "stream",
     "text": [
      "Updating authors:  73%|███████▎  | 73/100 [02:03<00:47,  1.75s/it]"
     ]
    },
    {
     "name": "stdout",
     "output_type": "stream",
     "text": [
      "  ❌ Error updating post ldfnbu: 'Redditor' object has no attribute 'id'\n"
     ]
    },
    {
     "name": "stderr",
     "output_type": "stream",
     "text": [
      "Updating authors:  83%|████████▎ | 83/100 [02:19<00:26,  1.57s/it]"
     ]
    },
    {
     "name": "stdout",
     "output_type": "stream",
     "text": [
      "  ❌ Error updating post ldfl4c: 'Redditor' object has no attribute 'id'\n"
     ]
    },
    {
     "name": "stderr",
     "output_type": "stream",
     "text": [
      "Updating authors:  97%|█████████▋| 97/100 [02:42<00:04,  1.59s/it]"
     ]
    },
    {
     "name": "stdout",
     "output_type": "stream",
     "text": [
      "  ❌ Error updating post ldfisu: 'Redditor' object has no attribute 'id'\n"
     ]
    },
    {
     "name": "stderr",
     "output_type": "stream",
     "text": [
      "Updating authors: 100%|██████████| 100/100 [02:47<00:00,  1.68s/it]\n"
     ]
    },
    {
     "name": "stdout",
     "output_type": "stream",
     "text": [
      "Progress: 28,660/53,187 (53.9%)\n",
      "Success rate: 28660/29900 (95.9%)\n",
      "Posts per minute: 27.6\n",
      "Taking a 30-second break between batches...\n",
      "\n",
      "Processing batch 300/532\n"
     ]
    },
    {
     "name": "stderr",
     "output_type": "stream",
     "text": [
      "Updating authors:   8%|▊         | 8/100 [00:13<02:31,  1.64s/it]"
     ]
    },
    {
     "name": "stdout",
     "output_type": "stream",
     "text": [
      "  ❌ Error updating post ldfep9: 'Redditor' object has no attribute 'id'\n"
     ]
    },
    {
     "name": "stderr",
     "output_type": "stream",
     "text": [
      "Updating authors:  10%|█         | 10/100 [00:16<02:24,  1.61s/it]"
     ]
    },
    {
     "name": "stdout",
     "output_type": "stream",
     "text": [
      "  ❌ Error updating post ldfenz: 'Redditor' object has no attribute 'id'\n"
     ]
    },
    {
     "name": "stderr",
     "output_type": "stream",
     "text": [
      "Updating authors:  25%|██▌       | 25/100 [00:41<02:05,  1.67s/it]"
     ]
    },
    {
     "name": "stdout",
     "output_type": "stream",
     "text": [
      "  ❌ Error updating post ldfat0: 'Redditor' object has no attribute 'id'\n"
     ]
    },
    {
     "name": "stderr",
     "output_type": "stream",
     "text": [
      "Updating authors:  32%|███▏      | 32/100 [00:53<01:56,  1.71s/it]"
     ]
    },
    {
     "name": "stdout",
     "output_type": "stream",
     "text": [
      "  ❌ Error updating post ldf95w: 'Redditor' object has no attribute 'id'\n"
     ]
    },
    {
     "name": "stderr",
     "output_type": "stream",
     "text": [
      "Updating authors:  42%|████▏     | 42/100 [01:11<01:32,  1.59s/it]"
     ]
    },
    {
     "name": "stdout",
     "output_type": "stream",
     "text": [
      "  ❌ Error updating post ldf7ik: 'Redditor' object has no attribute 'id'\n"
     ]
    },
    {
     "name": "stderr",
     "output_type": "stream",
     "text": [
      "Updating authors:  68%|██████▊   | 68/100 [01:55<00:52,  1.63s/it]"
     ]
    },
    {
     "name": "stdout",
     "output_type": "stream",
     "text": [
      "  ❌ Error updating post ldf3su: 'Redditor' object has no attribute 'id'\n"
     ]
    },
    {
     "name": "stderr",
     "output_type": "stream",
     "text": [
      "Updating authors:  72%|███████▏  | 72/100 [02:02<00:52,  1.87s/it]"
     ]
    },
    {
     "name": "stdout",
     "output_type": "stream",
     "text": [
      "  ❌ Error updating post ldf3of: 'Redditor' object has no attribute 'id'\n"
     ]
    },
    {
     "name": "stderr",
     "output_type": "stream",
     "text": [
      "Updating authors: 100%|██████████| 100/100 [02:49<00:00,  1.70s/it]\n"
     ]
    },
    {
     "name": "stdout",
     "output_type": "stream",
     "text": [
      "Progress: 28,753/53,187 (54.1%)\n",
      "Success rate: 28753/30000 (95.8%)\n",
      "Posts per minute: 27.6\n",
      "Taking a 30-second break between batches...\n",
      "\n",
      "Processing batch 301/532\n"
     ]
    },
    {
     "name": "stderr",
     "output_type": "stream",
     "text": [
      "Updating authors:   6%|▌         | 6/100 [00:09<02:27,  1.57s/it]"
     ]
    },
    {
     "name": "stdout",
     "output_type": "stream",
     "text": [
      "  ❌ Error updating post ldexc5: 'Redditor' object has no attribute 'id'\n"
     ]
    },
    {
     "name": "stderr",
     "output_type": "stream",
     "text": [
      "Updating authors:  21%|██        | 21/100 [00:35<02:19,  1.77s/it]"
     ]
    },
    {
     "name": "stdout",
     "output_type": "stream",
     "text": [
      "  ❌ Error updating post ldetqa: 'Redditor' object has no attribute 'id'\n"
     ]
    },
    {
     "name": "stderr",
     "output_type": "stream",
     "text": [
      "Updating authors:  27%|██▋       | 27/100 [00:45<01:58,  1.62s/it]"
     ]
    },
    {
     "name": "stdout",
     "output_type": "stream",
     "text": [
      "  ❌ Error updating post ldes1m: 'Redditor' object has no attribute 'id'\n"
     ]
    },
    {
     "name": "stderr",
     "output_type": "stream",
     "text": [
      "Updating authors:  47%|████▋     | 47/100 [01:17<01:24,  1.59s/it]"
     ]
    },
    {
     "name": "stdout",
     "output_type": "stream",
     "text": [
      "  ❌ Error updating post ldeor5: 'Redditor' object has no attribute 'id'\n"
     ]
    },
    {
     "name": "stderr",
     "output_type": "stream",
     "text": [
      "Updating authors:  60%|██████    | 60/100 [01:38<01:04,  1.61s/it]"
     ]
    },
    {
     "name": "stdout",
     "output_type": "stream",
     "text": [
      "  ❌ Error updating post ldem9n: 'Redditor' object has no attribute 'id'\n"
     ]
    },
    {
     "name": "stderr",
     "output_type": "stream",
     "text": [
      "Updating authors:  74%|███████▍  | 74/100 [02:00<00:40,  1.55s/it]"
     ]
    },
    {
     "name": "stdout",
     "output_type": "stream",
     "text": [
      "  ❌ Error updating post ldeh8a: 'Redditor' object has no attribute 'id'\n"
     ]
    },
    {
     "name": "stderr",
     "output_type": "stream",
     "text": [
      "Updating authors:  96%|█████████▌| 96/100 [02:37<00:07,  1.87s/it]"
     ]
    },
    {
     "name": "stdout",
     "output_type": "stream",
     "text": [
      "  ❌ Error updating post ldee1f: 'Redditor' object has no attribute 'id'\n"
     ]
    },
    {
     "name": "stderr",
     "output_type": "stream",
     "text": [
      "Updating authors: 100%|██████████| 100/100 [02:47<00:00,  1.68s/it]\n"
     ]
    },
    {
     "name": "stdout",
     "output_type": "stream",
     "text": [
      "Progress: 28,846/53,187 (54.2%)\n",
      "Success rate: 28846/30100 (95.8%)\n",
      "Posts per minute: 27.6\n",
      "Taking a 30-second break between batches...\n",
      "\n",
      "Processing batch 302/532\n"
     ]
    },
    {
     "name": "stderr",
     "output_type": "stream",
     "text": [
      "Updating authors:  16%|█▌        | 16/100 [00:25<02:15,  1.61s/it]"
     ]
    },
    {
     "name": "stdout",
     "output_type": "stream",
     "text": [
      "  ❌ Error updating post ldebei: 'Redditor' object has no attribute 'id'\n"
     ]
    },
    {
     "name": "stderr",
     "output_type": "stream",
     "text": [
      "Updating authors:  34%|███▍      | 34/100 [00:54<01:50,  1.68s/it]"
     ]
    },
    {
     "name": "stdout",
     "output_type": "stream",
     "text": [
      "  ❌ Error updating post lde8ow: 'Redditor' object has no attribute 'id'\n"
     ]
    },
    {
     "name": "stderr",
     "output_type": "stream",
     "text": [
      "Updating authors:  63%|██████▎   | 63/100 [01:40<00:58,  1.58s/it]"
     ]
    },
    {
     "name": "stdout",
     "output_type": "stream",
     "text": [
      "  ❌ Error updating post lde35r: 'Redditor' object has no attribute 'id'\n"
     ]
    },
    {
     "name": "stderr",
     "output_type": "stream",
     "text": [
      "Updating authors:  65%|██████▌   | 65/100 [01:43<00:56,  1.62s/it]"
     ]
    },
    {
     "name": "stdout",
     "output_type": "stream",
     "text": [
      "  ❌ Error updating post lde2nn: 'Redditor' object has no attribute 'id'\n"
     ]
    },
    {
     "name": "stderr",
     "output_type": "stream",
     "text": [
      "Updating authors:  78%|███████▊  | 78/100 [02:07<00:37,  1.73s/it]"
     ]
    },
    {
     "name": "stdout",
     "output_type": "stream",
     "text": [
      "  ❌ Error updating post lddzsd: 'Redditor' object has no attribute 'id'\n"
     ]
    },
    {
     "name": "stderr",
     "output_type": "stream",
     "text": [
      "Updating authors:  82%|████████▏ | 82/100 [02:13<00:29,  1.65s/it]"
     ]
    },
    {
     "name": "stdout",
     "output_type": "stream",
     "text": [
      "  ❌ Error updating post lddz5t: 'Redditor' object has no attribute 'id'\n"
     ]
    },
    {
     "name": "stderr",
     "output_type": "stream",
     "text": [
      "Updating authors: 100%|██████████| 100/100 [02:45<00:00,  1.65s/it]\n"
     ]
    },
    {
     "name": "stdout",
     "output_type": "stream",
     "text": [
      "Progress: 28,940/53,187 (54.4%)\n",
      "Success rate: 28940/30200 (95.8%)\n",
      "Posts per minute: 27.6\n",
      "Taking a 30-second break between batches...\n",
      "\n",
      "Processing batch 303/532\n"
     ]
    },
    {
     "name": "stderr",
     "output_type": "stream",
     "text": [
      "Updating authors:   6%|▌         | 6/100 [00:09<02:36,  1.66s/it]"
     ]
    },
    {
     "name": "stdout",
     "output_type": "stream",
     "text": [
      "  ❌ Error updating post lddtoo: 'Redditor' object has no attribute 'id'\n"
     ]
    },
    {
     "name": "stderr",
     "output_type": "stream",
     "text": [
      "Updating authors:  20%|██        | 20/100 [00:32<02:03,  1.55s/it]"
     ]
    },
    {
     "name": "stdout",
     "output_type": "stream",
     "text": [
      "  ❌ Error updating post ldt2e8: 'Redditor' object has no attribute 'id'\n"
     ]
    },
    {
     "name": "stderr",
     "output_type": "stream",
     "text": [
      "Updating authors:  26%|██▌       | 26/100 [00:42<01:56,  1.57s/it]"
     ]
    },
    {
     "name": "stdout",
     "output_type": "stream",
     "text": [
      "  ❌ Error updating post ldi0na: 'Redditor' object has no attribute 'id'\n"
     ]
    },
    {
     "name": "stderr",
     "output_type": "stream",
     "text": [
      "Updating authors:  34%|███▍      | 34/100 [00:55<01:50,  1.67s/it]"
     ]
    },
    {
     "name": "stdout",
     "output_type": "stream",
     "text": [
      "  ❌ Error updating post ldhytw: 'Redditor' object has no attribute 'id'\n"
     ]
    },
    {
     "name": "stderr",
     "output_type": "stream",
     "text": [
      "Updating authors:  38%|███▊      | 38/100 [01:01<01:35,  1.55s/it]"
     ]
    },
    {
     "name": "stdout",
     "output_type": "stream",
     "text": [
      "  ❌ Error updating post ldhxr4: 'Redditor' object has no attribute 'id'\n"
     ]
    },
    {
     "name": "stderr",
     "output_type": "stream",
     "text": [
      "Updating authors:  40%|████      | 40/100 [01:04<01:30,  1.50s/it]"
     ]
    },
    {
     "name": "stdout",
     "output_type": "stream",
     "text": [
      "  ❌ Error updating post ldhwxb: 'Redditor' object has no attribute 'id'\n"
     ]
    },
    {
     "name": "stderr",
     "output_type": "stream",
     "text": [
      "Updating authors:  49%|████▉     | 49/100 [01:18<01:18,  1.54s/it]"
     ]
    },
    {
     "name": "stdout",
     "output_type": "stream",
     "text": [
      "  ❌ Error updating post ldhu75: 'Redditor' object has no attribute 'id'\n"
     ]
    },
    {
     "name": "stderr",
     "output_type": "stream",
     "text": [
      "Updating authors:  52%|█████▏    | 52/100 [01:23<01:17,  1.62s/it]"
     ]
    },
    {
     "name": "stdout",
     "output_type": "stream",
     "text": [
      "  ❌ Error updating post ldhtfv: 'Redditor' object has no attribute 'id'\n"
     ]
    },
    {
     "name": "stderr",
     "output_type": "stream",
     "text": [
      "Updating authors:  53%|█████▎    | 53/100 [01:25<01:17,  1.65s/it]"
     ]
    },
    {
     "name": "stdout",
     "output_type": "stream",
     "text": [
      "  ❌ Error updating post ldhtey: 'Redditor' object has no attribute 'id'\n"
     ]
    },
    {
     "name": "stderr",
     "output_type": "stream",
     "text": [
      "Updating authors:  55%|█████▌    | 55/100 [01:28<01:10,  1.57s/it]"
     ]
    },
    {
     "name": "stdout",
     "output_type": "stream",
     "text": [
      "  ❌ Error updating post ldhs1w: 'Redditor' object has no attribute 'id'\n"
     ]
    },
    {
     "name": "stderr",
     "output_type": "stream",
     "text": [
      "Updating authors: 100%|██████████| 100/100 [02:40<00:00,  1.61s/it]\n"
     ]
    },
    {
     "name": "stdout",
     "output_type": "stream",
     "text": [
      "Progress: 29,030/53,187 (54.6%)\n",
      "Success rate: 29030/30300 (95.8%)\n",
      "Posts per minute: 27.6\n",
      "Taking a 30-second break between batches...\n",
      "\n",
      "Processing batch 304/532\n"
     ]
    },
    {
     "name": "stderr",
     "output_type": "stream",
     "text": [
      "Updating authors:  21%|██        | 21/100 [00:46<03:13,  2.45s/it]"
     ]
    },
    {
     "name": "stdout",
     "output_type": "stream",
     "text": [
      "  ❌ Error updating post ldrbtw: 'Redditor' object has no attribute 'id'\n"
     ]
    },
    {
     "name": "stderr",
     "output_type": "stream",
     "text": [
      "Updating authors:  39%|███▉      | 39/100 [01:22<01:37,  1.60s/it]"
     ]
    },
    {
     "name": "stdout",
     "output_type": "stream",
     "text": [
      "  ❌ Error updating post ldibqm: 'Redditor' object has no attribute 'id'\n"
     ]
    },
    {
     "name": "stderr",
     "output_type": "stream",
     "text": [
      "Updating authors:  55%|█████▌    | 55/100 [01:49<01:15,  1.67s/it]"
     ]
    },
    {
     "name": "stdout",
     "output_type": "stream",
     "text": [
      "  ❌ Error updating post ldi5ar: 'Redditor' object has no attribute 'id'\n"
     ]
    },
    {
     "name": "stderr",
     "output_type": "stream",
     "text": [
      "Updating authors:  67%|██████▋   | 67/100 [02:08<00:54,  1.64s/it]"
     ]
    },
    {
     "name": "stdout",
     "output_type": "stream",
     "text": [
      "  ❌ Error updating post ldi2p2: 'Redditor' object has no attribute 'id'\n"
     ]
    },
    {
     "name": "stderr",
     "output_type": "stream",
     "text": [
      "Updating authors:  74%|███████▍  | 74/100 [02:20<00:44,  1.71s/it]"
     ]
    },
    {
     "name": "stdout",
     "output_type": "stream",
     "text": [
      "  ❌ Error updating post ldi1ts: 'Redditor' object has no attribute 'id'\n"
     ]
    },
    {
     "name": "stderr",
     "output_type": "stream",
     "text": [
      "Updating authors:  91%|█████████ | 91/100 [02:47<00:13,  1.52s/it]"
     ]
    },
    {
     "name": "stdout",
     "output_type": "stream",
     "text": [
      "  ❌ Error updating post ldxkey: 'Redditor' object has no attribute 'id'\n"
     ]
    },
    {
     "name": "stderr",
     "output_type": "stream",
     "text": [
      "Updating authors: 100%|██████████| 100/100 [03:02<00:00,  1.83s/it]\n"
     ]
    },
    {
     "name": "stdout",
     "output_type": "stream",
     "text": [
      "Progress: 29,124/53,187 (54.8%)\n",
      "Success rate: 29124/30400 (95.8%)\n",
      "Posts per minute: 27.6\n",
      "Taking a 30-second break between batches...\n",
      "\n",
      "Processing batch 305/532\n"
     ]
    },
    {
     "name": "stderr",
     "output_type": "stream",
     "text": [
      "Updating authors:  14%|█▍        | 14/100 [00:23<02:30,  1.75s/it]"
     ]
    },
    {
     "name": "stdout",
     "output_type": "stream",
     "text": [
      "  ❌ Error updating post ldwai0: 'Redditor' object has no attribute 'id'\n"
     ]
    },
    {
     "name": "stderr",
     "output_type": "stream",
     "text": [
      "Updating authors:  15%|█▌        | 15/100 [00:25<02:30,  1.77s/it]"
     ]
    },
    {
     "name": "stdout",
     "output_type": "stream",
     "text": [
      "  ❌ Error updating post ldw9yg: 'Redditor' object has no attribute 'id'\n"
     ]
    },
    {
     "name": "stderr",
     "output_type": "stream",
     "text": [
      "Updating authors:  30%|███       | 30/100 [00:50<01:53,  1.62s/it]"
     ]
    },
    {
     "name": "stdout",
     "output_type": "stream",
     "text": [
      "  ❌ Error updating post ldvlwz: 'Redditor' object has no attribute 'id'\n"
     ]
    },
    {
     "name": "stderr",
     "output_type": "stream",
     "text": [
      "Updating authors:  44%|████▍     | 44/100 [01:14<01:37,  1.75s/it]"
     ]
    },
    {
     "name": "stdout",
     "output_type": "stream",
     "text": [
      "  ❌ Error updating post ldtt6u: 'Redditor' object has no attribute 'id'\n"
     ]
    },
    {
     "name": "stderr",
     "output_type": "stream",
     "text": [
      "Updating authors:  52%|█████▏    | 52/100 [01:28<01:26,  1.80s/it]"
     ]
    },
    {
     "name": "stdout",
     "output_type": "stream",
     "text": [
      "  ❌ Error updating post ldstev: 'Redditor' object has no attribute 'id'\n"
     ]
    },
    {
     "name": "stderr",
     "output_type": "stream",
     "text": [
      "Updating authors:  87%|████████▋ | 87/100 [02:30<00:20,  1.61s/it]"
     ]
    },
    {
     "name": "stdout",
     "output_type": "stream",
     "text": [
      "  ❌ Error updating post ldiio6: 'Redditor' object has no attribute 'id'\n"
     ]
    },
    {
     "name": "stderr",
     "output_type": "stream",
     "text": [
      "Updating authors:  88%|████████▊ | 88/100 [02:32<00:19,  1.64s/it]"
     ]
    },
    {
     "name": "stdout",
     "output_type": "stream",
     "text": [
      "  ❌ Error updating post ldiifd: 'Redditor' object has no attribute 'id'\n"
     ]
    },
    {
     "name": "stderr",
     "output_type": "stream",
     "text": [
      "Updating authors:  90%|█████████ | 90/100 [02:35<00:16,  1.69s/it]"
     ]
    },
    {
     "name": "stdout",
     "output_type": "stream",
     "text": [
      "  ❌ Error updating post ldii8h: 'Redditor' object has no attribute 'id'\n"
     ]
    },
    {
     "name": "stderr",
     "output_type": "stream",
     "text": [
      "Updating authors:  98%|█████████▊| 98/100 [02:51<00:04,  2.17s/it]"
     ]
    },
    {
     "name": "stdout",
     "output_type": "stream",
     "text": [
      "  ❌ Error updating post ldiehu: 'Redditor' object has no attribute 'id'\n"
     ]
    },
    {
     "name": "stderr",
     "output_type": "stream",
     "text": [
      "Updating authors: 100%|██████████| 100/100 [02:55<00:00,  1.75s/it]\n"
     ]
    },
    {
     "name": "stdout",
     "output_type": "stream",
     "text": [
      "Progress: 29,215/53,187 (54.9%)\n",
      "Success rate: 29215/30500 (95.8%)\n",
      "Posts per minute: 27.6\n",
      "Taking a 30-second break between batches...\n",
      "\n",
      "Processing batch 306/532\n"
     ]
    },
    {
     "name": "stderr",
     "output_type": "stream",
     "text": [
      "Updating authors:  52%|█████▏    | 52/100 [01:28<01:25,  1.78s/it]"
     ]
    },
    {
     "name": "stdout",
     "output_type": "stream",
     "text": [
      "  ❌ Error updating post ldiv8y: 'Redditor' object has no attribute 'id'\n"
     ]
    },
    {
     "name": "stderr",
     "output_type": "stream",
     "text": [
      "Updating authors:  56%|█████▌    | 56/100 [01:35<01:14,  1.68s/it]"
     ]
    },
    {
     "name": "stdout",
     "output_type": "stream",
     "text": [
      "  ❌ Error updating post ldiuw3: 'Redditor' object has no attribute 'id'\n"
     ]
    },
    {
     "name": "stderr",
     "output_type": "stream",
     "text": [
      "Updating authors:  74%|███████▍  | 74/100 [02:06<00:43,  1.68s/it]"
     ]
    },
    {
     "name": "stdout",
     "output_type": "stream",
     "text": [
      "  ❌ Error updating post ldiq4u: 'Redditor' object has no attribute 'id'\n"
     ]
    },
    {
     "name": "stderr",
     "output_type": "stream",
     "text": [
      "Updating authors:  85%|████████▌ | 85/100 [02:23<00:24,  1.61s/it]"
     ]
    },
    {
     "name": "stdout",
     "output_type": "stream",
     "text": [
      "  ❌ Error updating post ldimon: 'Redditor' object has no attribute 'id'\n"
     ]
    },
    {
     "name": "stderr",
     "output_type": "stream",
     "text": [
      "Updating authors: 100%|██████████| 100/100 [02:48<00:00,  1.68s/it]\n"
     ]
    },
    {
     "name": "stdout",
     "output_type": "stream",
     "text": [
      "Progress: 29,311/53,187 (55.1%)\n",
      "Success rate: 29311/30600 (95.8%)\n",
      "Posts per minute: 27.6\n",
      "Taking a 30-second break between batches...\n",
      "\n",
      "Processing batch 307/532\n"
     ]
    },
    {
     "name": "stderr",
     "output_type": "stream",
     "text": [
      "Updating authors:   3%|▎         | 3/100 [00:04<02:17,  1.42s/it]"
     ]
    },
    {
     "name": "stdout",
     "output_type": "stream",
     "text": [
      "  ❌ Error updating post le4219: 'Redditor' object has no attribute 'id'\n"
     ]
    },
    {
     "name": "stderr",
     "output_type": "stream",
     "text": [
      "Updating authors:  13%|█▎        | 13/100 [00:23<03:08,  2.16s/it]"
     ]
    },
    {
     "name": "stdout",
     "output_type": "stream",
     "text": [
      "  ❌ Error updating post le2xwt: 'Redditor' object has no attribute 'id'\n"
     ]
    },
    {
     "name": "stderr",
     "output_type": "stream",
     "text": [
      "Updating authors:  20%|██        | 20/100 [00:37<02:40,  2.01s/it]"
     ]
    },
    {
     "name": "stdout",
     "output_type": "stream",
     "text": [
      "  ❌ Error updating post le24wb: 'Redditor' object has no attribute 'id'\n"
     ]
    },
    {
     "name": "stderr",
     "output_type": "stream",
     "text": [
      "Updating authors:  29%|██▉       | 29/100 [01:00<02:40,  2.26s/it]"
     ]
    },
    {
     "name": "stdout",
     "output_type": "stream",
     "text": [
      "  ❌ Error updating post le04g6: 'Redditor' object has no attribute 'id'\n"
     ]
    },
    {
     "name": "stderr",
     "output_type": "stream",
     "text": [
      "Updating authors:  36%|███▌      | 36/100 [01:17<02:02,  1.92s/it]"
     ]
    },
    {
     "name": "stdout",
     "output_type": "stream",
     "text": [
      "  ❌ Error updating post ldyc98: 'Redditor' object has no attribute 'id'\n"
     ]
    },
    {
     "name": "stderr",
     "output_type": "stream",
     "text": [
      "Updating authors:  45%|████▌     | 45/100 [01:38<02:34,  2.80s/it]"
     ]
    },
    {
     "name": "stdout",
     "output_type": "stream",
     "text": [
      "  ❌ Error updating post ldnism: 'Redditor' object has no attribute 'id'\n"
     ]
    },
    {
     "name": "stderr",
     "output_type": "stream",
     "text": [
      "Updating authors:  60%|██████    | 60/100 [02:02<01:05,  1.64s/it]"
     ]
    },
    {
     "name": "stdout",
     "output_type": "stream",
     "text": [
      "  ❌ Error updating post ldko9d: received 404 HTTP response\n"
     ]
    },
    {
     "name": "stderr",
     "output_type": "stream",
     "text": [
      "Updating authors: 100%|██████████| 100/100 [03:07<00:00,  1.87s/it]\n"
     ]
    },
    {
     "name": "stdout",
     "output_type": "stream",
     "text": [
      "Progress: 29,404/53,187 (55.3%)\n",
      "Success rate: 29404/30700 (95.8%)\n",
      "Posts per minute: 27.6\n",
      "Taking a 30-second break between batches...\n",
      "\n",
      "Processing batch 308/532\n"
     ]
    },
    {
     "name": "stderr",
     "output_type": "stream",
     "text": [
      "Updating authors:   8%|▊         | 8/100 [00:12<02:29,  1.63s/it]"
     ]
    },
    {
     "name": "stdout",
     "output_type": "stream",
     "text": [
      "  ❌ Error updating post ldkaa6: 'Redditor' object has no attribute 'id'\n"
     ]
    },
    {
     "name": "stderr",
     "output_type": "stream",
     "text": [
      "Updating authors:  20%|██        | 20/100 [00:34<02:26,  1.83s/it]"
     ]
    },
    {
     "name": "stdout",
     "output_type": "stream",
     "text": [
      "  ❌ Error updating post ldk4lz: 'Redditor' object has no attribute 'id'\n"
     ]
    },
    {
     "name": "stderr",
     "output_type": "stream",
     "text": [
      "Updating authors:  26%|██▌       | 26/100 [00:44<02:10,  1.76s/it]"
     ]
    },
    {
     "name": "stdout",
     "output_type": "stream",
     "text": [
      "  ❌ Error updating post ldk43v: 'Redditor' object has no attribute 'id'\n"
     ]
    },
    {
     "name": "stderr",
     "output_type": "stream",
     "text": [
      "Updating authors:  45%|████▌     | 45/100 [01:14<01:30,  1.65s/it]"
     ]
    },
    {
     "name": "stdout",
     "output_type": "stream",
     "text": [
      "  ❌ Error updating post ldk05s: 'Redditor' object has no attribute 'id'\n"
     ]
    },
    {
     "name": "stderr",
     "output_type": "stream",
     "text": [
      "Updating authors:  95%|█████████▌| 95/100 [02:36<00:07,  1.54s/it]"
     ]
    },
    {
     "name": "stdout",
     "output_type": "stream",
     "text": [
      "  ❌ Error updating post ldjlk2: 'Redditor' object has no attribute 'id'\n"
     ]
    },
    {
     "name": "stderr",
     "output_type": "stream",
     "text": [
      "Updating authors: 100%|██████████| 100/100 [02:44<00:00,  1.65s/it]\n"
     ]
    },
    {
     "name": "stdout",
     "output_type": "stream",
     "text": [
      "Progress: 29,499/53,187 (55.5%)\n",
      "Success rate: 29499/30800 (95.8%)\n",
      "Posts per minute: 27.6\n",
      "Taking a 30-second break between batches...\n",
      "\n",
      "Processing batch 309/532\n"
     ]
    },
    {
     "name": "stderr",
     "output_type": "stream",
     "text": [
      "Updating authors:   5%|▌         | 5/100 [00:08<02:54,  1.84s/it]"
     ]
    },
    {
     "name": "stdout",
     "output_type": "stream",
     "text": [
      "  ❌ Error updating post ldjien: 'Redditor' object has no attribute 'id'\n"
     ]
    },
    {
     "name": "stderr",
     "output_type": "stream",
     "text": [
      "Updating authors:   6%|▌         | 6/100 [00:10<02:45,  1.77s/it]"
     ]
    },
    {
     "name": "stdout",
     "output_type": "stream",
     "text": [
      "  ❌ Error updating post ldji5k: 'Redditor' object has no attribute 'id'\n"
     ]
    },
    {
     "name": "stderr",
     "output_type": "stream",
     "text": [
      "Updating authors:  10%|█         | 10/100 [00:17<02:31,  1.68s/it]"
     ]
    },
    {
     "name": "stdout",
     "output_type": "stream",
     "text": [
      "  ❌ Error updating post ldjhlb: 'Redditor' object has no attribute 'id'\n"
     ]
    },
    {
     "name": "stderr",
     "output_type": "stream",
     "text": [
      "Updating authors:  20%|██        | 20/100 [00:34<02:24,  1.81s/it]"
     ]
    },
    {
     "name": "stdout",
     "output_type": "stream",
     "text": [
      "  ❌ Error updating post ldjffq: 'Redditor' object has no attribute 'id'\n"
     ]
    },
    {
     "name": "stderr",
     "output_type": "stream",
     "text": [
      "Updating authors:  42%|████▏     | 42/100 [01:15<01:40,  1.73s/it]"
     ]
    },
    {
     "name": "stdout",
     "output_type": "stream",
     "text": [
      "  ❌ Error updating post ldj88w: 'Redditor' object has no attribute 'id'\n"
     ]
    },
    {
     "name": "stderr",
     "output_type": "stream",
     "text": [
      "Updating authors:  51%|█████     | 51/100 [01:29<01:19,  1.62s/it]"
     ]
    },
    {
     "name": "stdout",
     "output_type": "stream",
     "text": [
      "  ❌ Error updating post ldj5sy: 'Redditor' object has no attribute 'id'\n"
     ]
    },
    {
     "name": "stderr",
     "output_type": "stream",
     "text": [
      "Updating authors:  53%|█████▎    | 53/100 [01:33<01:16,  1.63s/it]"
     ]
    },
    {
     "name": "stdout",
     "output_type": "stream",
     "text": [
      "  ❌ Error updating post ldj5g0: 'Redditor' object has no attribute 'id'\n"
     ]
    },
    {
     "name": "stderr",
     "output_type": "stream",
     "text": [
      "Updating authors:  72%|███████▏  | 72/100 [02:04<00:46,  1.64s/it]"
     ]
    },
    {
     "name": "stdout",
     "output_type": "stream",
     "text": [
      "  ❌ Error updating post ldizty: 'Redditor' object has no attribute 'id'\n"
     ]
    },
    {
     "name": "stderr",
     "output_type": "stream",
     "text": [
      "Updating authors:  79%|███████▉  | 79/100 [02:16<00:34,  1.65s/it]"
     ]
    },
    {
     "name": "stdout",
     "output_type": "stream",
     "text": [
      "  ❌ Error updating post ldiyh2: 'Redditor' object has no attribute 'id'\n"
     ]
    },
    {
     "name": "stderr",
     "output_type": "stream",
     "text": [
      "Updating authors:  82%|████████▏ | 82/100 [02:21<00:31,  1.72s/it]"
     ]
    },
    {
     "name": "stdout",
     "output_type": "stream",
     "text": [
      "  ❌ Error updating post ldixwo: 'Redditor' object has no attribute 'id'\n"
     ]
    },
    {
     "name": "stderr",
     "output_type": "stream",
     "text": [
      "Updating authors:  83%|████████▎ | 83/100 [02:23<00:29,  1.73s/it]"
     ]
    },
    {
     "name": "stdout",
     "output_type": "stream",
     "text": [
      "  ❌ Error updating post ldixwg: 'Redditor' object has no attribute 'id'\n"
     ]
    },
    {
     "name": "stderr",
     "output_type": "stream",
     "text": [
      "Updating authors:  85%|████████▌ | 85/100 [02:26<00:25,  1.71s/it]"
     ]
    },
    {
     "name": "stdout",
     "output_type": "stream",
     "text": [
      "  ❌ Error updating post ldixkl: 'Redditor' object has no attribute 'id'\n"
     ]
    },
    {
     "name": "stderr",
     "output_type": "stream",
     "text": [
      "Updating authors:  86%|████████▌ | 86/100 [02:28<00:24,  1.73s/it]"
     ]
    },
    {
     "name": "stdout",
     "output_type": "stream",
     "text": [
      "  ❌ Error updating post leka6t: 'Redditor' object has no attribute 'id'\n"
     ]
    },
    {
     "name": "stderr",
     "output_type": "stream",
     "text": [
      "Updating authors:  98%|█████████▊| 98/100 [02:52<00:03,  1.75s/it]"
     ]
    },
    {
     "name": "stdout",
     "output_type": "stream",
     "text": [
      "  ❌ Error updating post ldl6aj: 'Redditor' object has no attribute 'id'\n"
     ]
    },
    {
     "name": "stderr",
     "output_type": "stream",
     "text": [
      "Updating authors: 100%|██████████| 100/100 [02:56<00:00,  1.76s/it]\n"
     ]
    },
    {
     "name": "stdout",
     "output_type": "stream",
     "text": [
      "Progress: 29,585/53,187 (55.6%)\n",
      "Success rate: 29585/30900 (95.7%)\n",
      "Posts per minute: 27.6\n",
      "Taking a 30-second break between batches...\n",
      "\n",
      "Processing batch 310/532\n"
     ]
    },
    {
     "name": "stderr",
     "output_type": "stream",
     "text": [
      "Updating authors:   8%|▊         | 8/100 [00:12<02:36,  1.70s/it]"
     ]
    },
    {
     "name": "stdout",
     "output_type": "stream",
     "text": [
      "  ❌ Error updating post ldl3hn: 'Redditor' object has no attribute 'id'\n"
     ]
    },
    {
     "name": "stderr",
     "output_type": "stream",
     "text": [
      "Updating authors:  11%|█         | 11/100 [00:18<02:32,  1.71s/it]"
     ]
    },
    {
     "name": "stdout",
     "output_type": "stream",
     "text": [
      "  ❌ Error updating post ldl2m6: 'Redditor' object has no attribute 'id'\n"
     ]
    },
    {
     "name": "stderr",
     "output_type": "stream",
     "text": [
      "Updating authors:  20%|██        | 20/100 [00:32<02:13,  1.67s/it]"
     ]
    },
    {
     "name": "stdout",
     "output_type": "stream",
     "text": [
      "  ❌ Error updating post ldkwhh: 'Redditor' object has no attribute 'id'\n"
     ]
    },
    {
     "name": "stderr",
     "output_type": "stream",
     "text": [
      "Updating authors:  28%|██▊       | 28/100 [00:45<01:52,  1.56s/it]"
     ]
    },
    {
     "name": "stdout",
     "output_type": "stream",
     "text": [
      "  ❌ Error updating post ldktix: 'Redditor' object has no attribute 'id'\n"
     ]
    },
    {
     "name": "stderr",
     "output_type": "stream",
     "text": [
      "Updating authors:  32%|███▏      | 32/100 [00:51<01:49,  1.61s/it]"
     ]
    },
    {
     "name": "stdout",
     "output_type": "stream",
     "text": [
      "  ❌ Error updating post ldksvy: 'Redditor' object has no attribute 'id'\n"
     ]
    },
    {
     "name": "stderr",
     "output_type": "stream",
     "text": [
      "Updating authors:  88%|████████▊ | 88/100 [02:33<00:26,  2.17s/it]"
     ]
    },
    {
     "name": "stdout",
     "output_type": "stream",
     "text": [
      "  ❌ Error updating post lelhhk: 'Redditor' object has no attribute 'id'\n"
     ]
    },
    {
     "name": "stderr",
     "output_type": "stream",
     "text": [
      "Updating authors: 100%|██████████| 100/100 [03:00<00:00,  1.80s/it]\n"
     ]
    },
    {
     "name": "stdout",
     "output_type": "stream",
     "text": [
      "Progress: 29,679/53,187 (55.8%)\n",
      "Success rate: 29679/31000 (95.7%)\n",
      "Posts per minute: 27.6\n",
      "Taking a 30-second break between batches...\n",
      "\n",
      "Processing batch 311/532\n"
     ]
    },
    {
     "name": "stderr",
     "output_type": "stream",
     "text": [
      "Updating authors:   0%|          | 0/100 [00:00<?, ?it/s]"
     ]
    },
    {
     "name": "stdout",
     "output_type": "stream",
     "text": [
      "  ❌ Error updating post ldm931: 'Redditor' object has no attribute 'id'\n"
     ]
    },
    {
     "name": "stderr",
     "output_type": "stream",
     "text": [
      "Updating authors:  10%|█         | 10/100 [00:17<02:52,  1.91s/it]"
     ]
    },
    {
     "name": "stdout",
     "output_type": "stream",
     "text": [
      "  ❌ Error updating post ldm2a6: 'Redditor' object has no attribute 'id'\n"
     ]
    },
    {
     "name": "stderr",
     "output_type": "stream",
     "text": [
      "Updating authors:  19%|█▉        | 19/100 [00:32<02:11,  1.62s/it]"
     ]
    },
    {
     "name": "stdout",
     "output_type": "stream",
     "text": [
      "  ❌ Error updating post ldlwvu: 'Redditor' object has no attribute 'id'\n"
     ]
    },
    {
     "name": "stderr",
     "output_type": "stream",
     "text": [
      "Updating authors:  22%|██▏       | 22/100 [00:37<02:11,  1.69s/it]"
     ]
    },
    {
     "name": "stdout",
     "output_type": "stream",
     "text": [
      "  ❌ Error updating post ldlvot: 'Redditor' object has no attribute 'id'\n"
     ]
    },
    {
     "name": "stderr",
     "output_type": "stream",
     "text": [
      "Updating authors:  38%|███▊      | 38/100 [01:04<01:45,  1.71s/it]"
     ]
    },
    {
     "name": "stdout",
     "output_type": "stream",
     "text": [
      "  ❌ Error updating post ldlown: 'Redditor' object has no attribute 'id'\n"
     ]
    },
    {
     "name": "stderr",
     "output_type": "stream",
     "text": [
      "Updating authors:  51%|█████     | 51/100 [01:26<01:24,  1.72s/it]"
     ]
    },
    {
     "name": "stdout",
     "output_type": "stream",
     "text": [
      "  ❌ Error updating post ldlhsa: 'Redditor' object has no attribute 'id'\n"
     ]
    },
    {
     "name": "stderr",
     "output_type": "stream",
     "text": [
      "Updating authors:  56%|█████▌    | 56/100 [01:34<01:13,  1.67s/it]"
     ]
    },
    {
     "name": "stdout",
     "output_type": "stream",
     "text": [
      "  ❌ Error updating post ldlgtq: 'Redditor' object has no attribute 'id'\n"
     ]
    },
    {
     "name": "stderr",
     "output_type": "stream",
     "text": [
      "Updating authors:  75%|███████▌  | 75/100 [02:08<00:57,  2.31s/it]"
     ]
    },
    {
     "name": "stdout",
     "output_type": "stream",
     "text": [
      "  ❌ Error updating post ldmhnt: 'Redditor' object has no attribute 'id'\n"
     ]
    },
    {
     "name": "stderr",
     "output_type": "stream",
     "text": [
      "Updating authors:  77%|███████▋  | 77/100 [02:11<00:43,  1.91s/it]"
     ]
    },
    {
     "name": "stdout",
     "output_type": "stream",
     "text": [
      "  ❌ Error updating post ldmgjh: 'Redditor' object has no attribute 'id'\n"
     ]
    },
    {
     "name": "stderr",
     "output_type": "stream",
     "text": [
      "Updating authors: 100%|██████████| 100/100 [02:55<00:00,  1.76s/it]\n"
     ]
    },
    {
     "name": "stdout",
     "output_type": "stream",
     "text": [
      "Progress: 29,770/53,187 (56.0%)\n",
      "Success rate: 29770/31100 (95.7%)\n",
      "Posts per minute: 27.6\n",
      "Taking a 30-second break between batches...\n",
      "\n",
      "Processing batch 312/532\n"
     ]
    },
    {
     "name": "stderr",
     "output_type": "stream",
     "text": [
      "Updating authors:   1%|          | 1/100 [00:03<05:21,  3.24s/it]"
     ]
    },
    {
     "name": "stdout",
     "output_type": "stream",
     "text": [
      "  ❌ Error updating post lersv9: 'Redditor' object has no attribute 'id'\n"
     ]
    },
    {
     "name": "stderr",
     "output_type": "stream",
     "text": [
      "Updating authors:  14%|█▍        | 14/100 [00:27<02:31,  1.76s/it]"
     ]
    },
    {
     "name": "stdout",
     "output_type": "stream",
     "text": [
      "  ❌ Error updating post ldnfxe: 'Redditor' object has no attribute 'id'\n"
     ]
    },
    {
     "name": "stderr",
     "output_type": "stream",
     "text": [
      "Updating authors:  20%|██        | 20/100 [00:38<02:22,  1.78s/it]"
     ]
    },
    {
     "name": "stdout",
     "output_type": "stream",
     "text": [
      "  ❌ Error updating post ldn8qb: 'Redditor' object has no attribute 'id'\n"
     ]
    },
    {
     "name": "stderr",
     "output_type": "stream",
     "text": [
      "Updating authors:  32%|███▏      | 32/100 [01:00<02:15,  1.99s/it]"
     ]
    },
    {
     "name": "stdout",
     "output_type": "stream",
     "text": [
      "  ❌ Error updating post ldmzqh: 'Redditor' object has no attribute 'id'\n"
     ]
    },
    {
     "name": "stderr",
     "output_type": "stream",
     "text": [
      "Updating authors:  50%|█████     | 50/100 [01:32<01:28,  1.77s/it]"
     ]
    },
    {
     "name": "stdout",
     "output_type": "stream",
     "text": [
      "  ❌ Error updating post ldmkxn: 'Redditor' object has no attribute 'id'\n"
     ]
    },
    {
     "name": "stderr",
     "output_type": "stream",
     "text": [
      "Updating authors: 100%|██████████| 100/100 [03:13<00:00,  1.93s/it]\n"
     ]
    },
    {
     "name": "stdout",
     "output_type": "stream",
     "text": [
      "Progress: 29,865/53,187 (56.2%)\n",
      "Success rate: 29865/31200 (95.7%)\n",
      "Posts per minute: 27.6\n",
      "Taking a 30-second break between batches...\n",
      "\n",
      "Processing batch 313/532\n"
     ]
    },
    {
     "name": "stderr",
     "output_type": "stream",
     "text": [
      "Updating authors:   8%|▊         | 8/100 [00:13<02:31,  1.65s/it]"
     ]
    },
    {
     "name": "stdout",
     "output_type": "stream",
     "text": [
      "  ❌ Error updating post ldnu7a: 'Redditor' object has no attribute 'id'\n"
     ]
    },
    {
     "name": "stderr",
     "output_type": "stream",
     "text": [
      "Updating authors:  22%|██▏       | 22/100 [00:41<02:15,  1.74s/it]"
     ]
    },
    {
     "name": "stdout",
     "output_type": "stream",
     "text": [
      "  ❌ Error updating post ldnokk: 'Redditor' object has no attribute 'id'\n"
     ]
    },
    {
     "name": "stderr",
     "output_type": "stream",
     "text": [
      "Updating authors:  40%|████      | 40/100 [01:15<01:42,  1.71s/it]"
     ]
    },
    {
     "name": "stdout",
     "output_type": "stream",
     "text": [
      "  ❌ Error updating post ldo55f: 'Redditor' object has no attribute 'id'\n"
     ]
    },
    {
     "name": "stderr",
     "output_type": "stream",
     "text": [
      "Updating authors:  47%|████▋     | 47/100 [01:27<01:42,  1.93s/it]"
     ]
    },
    {
     "name": "stdout",
     "output_type": "stream",
     "text": [
      "  ❌ Error updating post lf8v7z: 'Redditor' object has no attribute 'id'\n"
     ]
    },
    {
     "name": "stderr",
     "output_type": "stream",
     "text": [
      "Updating authors:  83%|████████▎ | 83/100 [02:46<00:31,  1.86s/it]"
     ]
    },
    {
     "name": "stdout",
     "output_type": "stream",
     "text": [
      "  ❌ Error updating post ldp7o5: 'Redditor' object has no attribute 'id'\n"
     ]
    },
    {
     "name": "stderr",
     "output_type": "stream",
     "text": [
      "Updating authors:  85%|████████▌ | 85/100 [02:50<00:25,  1.72s/it]"
     ]
    },
    {
     "name": "stdout",
     "output_type": "stream",
     "text": [
      "  ❌ Error updating post ldp73q: 'Redditor' object has no attribute 'id'\n"
     ]
    },
    {
     "name": "stderr",
     "output_type": "stream",
     "text": [
      "Updating authors:  91%|█████████ | 91/100 [03:00<00:15,  1.73s/it]"
     ]
    },
    {
     "name": "stdout",
     "output_type": "stream",
     "text": [
      "  ❌ Error updating post ldp52a: 'Redditor' object has no attribute 'id'\n"
     ]
    },
    {
     "name": "stderr",
     "output_type": "stream",
     "text": [
      "Updating authors:  97%|█████████▋| 97/100 [03:13<00:05,  1.82s/it]"
     ]
    },
    {
     "name": "stdout",
     "output_type": "stream",
     "text": [
      "  ❌ Error updating post ldotlo: 'Redditor' object has no attribute 'id'\n"
     ]
    },
    {
     "name": "stderr",
     "output_type": "stream",
     "text": [
      "Updating authors: 100%|██████████| 100/100 [03:18<00:00,  1.99s/it]\n"
     ]
    },
    {
     "name": "stdout",
     "output_type": "stream",
     "text": [
      "Progress: 29,957/53,187 (56.3%)\n",
      "Success rate: 29957/31300 (95.7%)\n",
      "Posts per minute: 27.6\n",
      "Taking a 30-second break between batches...\n",
      "\n",
      "Processing batch 314/532\n"
     ]
    },
    {
     "name": "stderr",
     "output_type": "stream",
     "text": [
      "Updating authors:  17%|█▋        | 17/100 [00:29<02:20,  1.69s/it]"
     ]
    },
    {
     "name": "stdout",
     "output_type": "stream",
     "text": [
      "  ❌ Error updating post ldoit5: 'Redditor' object has no attribute 'id'\n"
     ]
    },
    {
     "name": "stderr",
     "output_type": "stream",
     "text": [
      "Updating authors:  26%|██▌       | 26/100 [00:45<02:12,  1.80s/it]"
     ]
    },
    {
     "name": "stdout",
     "output_type": "stream",
     "text": [
      "  ❌ Error updating post lfjrup: 'Redditor' object has no attribute 'id'\n"
     ]
    },
    {
     "name": "stderr",
     "output_type": "stream",
     "text": [
      "Updating authors:  30%|███       | 30/100 [00:57<03:14,  2.78s/it]"
     ]
    },
    {
     "name": "stdout",
     "output_type": "stream",
     "text": [
      "  ❌ Error updating post lfi8ck: 'Redditor' object has no attribute 'id'\n"
     ]
    },
    {
     "name": "stderr",
     "output_type": "stream",
     "text": [
      "Updating authors:  82%|████████▏ | 82/100 [02:57<00:31,  1.77s/it]"
     ]
    },
    {
     "name": "stdout",
     "output_type": "stream",
     "text": [
      "  ❌ Error updating post ldqjo6: 'Redditor' object has no attribute 'id'\n"
     ]
    },
    {
     "name": "stderr",
     "output_type": "stream",
     "text": [
      "Updating authors: 100%|██████████| 100/100 [03:30<00:00,  2.11s/it]\n"
     ]
    },
    {
     "name": "stdout",
     "output_type": "stream",
     "text": [
      "Progress: 30,053/53,187 (56.5%)\n",
      "Success rate: 30053/31400 (95.7%)\n",
      "Posts per minute: 27.6\n",
      "Taking a 30-second break between batches...\n",
      "\n",
      "Processing batch 315/532\n"
     ]
    },
    {
     "name": "stderr",
     "output_type": "stream",
     "text": [
      "Updating authors:   2%|▏         | 2/100 [00:03<03:05,  1.90s/it]"
     ]
    },
    {
     "name": "stdout",
     "output_type": "stream",
     "text": [
      "  ❌ Error updating post ldpjo4: 'Redditor' object has no attribute 'id'\n"
     ]
    },
    {
     "name": "stderr",
     "output_type": "stream",
     "text": [
      "Updating authors:   5%|▌         | 5/100 [00:08<02:33,  1.61s/it]"
     ]
    },
    {
     "name": "stdout",
     "output_type": "stream",
     "text": [
      "  ❌ Error updating post ldpiq3: 'Redditor' object has no attribute 'id'\n"
     ]
    },
    {
     "name": "stderr",
     "output_type": "stream",
     "text": [
      "Updating authors:  17%|█▋        | 17/100 [00:29<02:28,  1.79s/it]"
     ]
    },
    {
     "name": "stdout",
     "output_type": "stream",
     "text": [
      "  ❌ Error updating post ldrqss: 'Redditor' object has no attribute 'id'\n"
     ]
    },
    {
     "name": "stderr",
     "output_type": "stream",
     "text": [
      "Updating authors:  28%|██▊       | 28/100 [00:48<02:01,  1.69s/it]"
     ]
    },
    {
     "name": "stdout",
     "output_type": "stream",
     "text": [
      "  ❌ Error updating post ldsiiv: 'Redditor' object has no attribute 'id'\n"
     ]
    },
    {
     "name": "stderr",
     "output_type": "stream",
     "text": [
      "Updating authors:  48%|████▊     | 48/100 [01:23<01:26,  1.66s/it]"
     ]
    },
    {
     "name": "stdout",
     "output_type": "stream",
     "text": [
      "  ❌ Error updating post lds7ct: 'Redditor' object has no attribute 'id'\n"
     ]
    },
    {
     "name": "stderr",
     "output_type": "stream",
     "text": [
      "Updating authors:  64%|██████▍   | 64/100 [01:52<01:04,  1.79s/it]"
     ]
    },
    {
     "name": "stdout",
     "output_type": "stream",
     "text": [
      "  ❌ Error updating post ldruks: 'Redditor' object has no attribute 'id'\n"
     ]
    },
    {
     "name": "stderr",
     "output_type": "stream",
     "text": [
      "Updating authors:  78%|███████▊  | 78/100 [02:30<00:53,  2.41s/it]"
     ]
    },
    {
     "name": "stdout",
     "output_type": "stream",
     "text": [
      "  ❌ Error updating post ldtgj5: 'Redditor' object has no attribute 'id'\n"
     ]
    },
    {
     "name": "stderr",
     "output_type": "stream",
     "text": [
      "Updating authors:  80%|████████  | 80/100 [02:34<00:45,  2.26s/it]"
     ]
    },
    {
     "name": "stdout",
     "output_type": "stream",
     "text": [
      "  ❌ Error updating post ldtcpr: received 404 HTTP response\n"
     ]
    },
    {
     "name": "stderr",
     "output_type": "stream",
     "text": [
      "Updating authors:  88%|████████▊ | 88/100 [02:48<00:20,  1.70s/it]"
     ]
    },
    {
     "name": "stdout",
     "output_type": "stream",
     "text": [
      "  ❌ Error updating post ldt01i: 'Redditor' object has no attribute 'id'\n"
     ]
    },
    {
     "name": "stderr",
     "output_type": "stream",
     "text": [
      "Updating authors: 100%|██████████| 100/100 [03:09<00:00,  1.89s/it]\n"
     ]
    },
    {
     "name": "stdout",
     "output_type": "stream",
     "text": [
      "Progress: 30,144/53,187 (56.7%)\n",
      "Success rate: 30144/31500 (95.7%)\n",
      "Posts per minute: 27.6\n",
      "Taking a 30-second break between batches...\n",
      "\n",
      "Processing batch 316/532\n"
     ]
    },
    {
     "name": "stderr",
     "output_type": "stream",
     "text": [
      "Updating authors:  37%|███▋      | 37/100 [01:04<01:53,  1.80s/it]"
     ]
    },
    {
     "name": "stdout",
     "output_type": "stream",
     "text": [
      "  ❌ Error updating post ldu72j: 'Redditor' object has no attribute 'id'\n"
     ]
    },
    {
     "name": "stderr",
     "output_type": "stream",
     "text": [
      "Updating authors:  63%|██████▎   | 63/100 [02:08<01:32,  2.51s/it]"
     ]
    },
    {
     "name": "stdout",
     "output_type": "stream",
     "text": [
      "  ❌ Error updating post le01bz: 'Redditor' object has no attribute 'id'\n"
     ]
    },
    {
     "name": "stderr",
     "output_type": "stream",
     "text": [
      "Updating authors:  64%|██████▍   | 64/100 [02:09<01:21,  2.26s/it]"
     ]
    },
    {
     "name": "stdout",
     "output_type": "stream",
     "text": [
      "  ❌ Error updating post ldzzph: 'Redditor' object has no attribute 'id'\n"
     ]
    },
    {
     "name": "stderr",
     "output_type": "stream",
     "text": [
      "Updating authors:  75%|███████▌  | 75/100 [02:30<00:45,  1.80s/it]"
     ]
    },
    {
     "name": "stdout",
     "output_type": "stream",
     "text": [
      "  ❌ Error updating post ldzl52: 'Redditor' object has no attribute 'id'\n"
     ]
    },
    {
     "name": "stderr",
     "output_type": "stream",
     "text": [
      "Updating authors:  89%|████████▉ | 89/100 [03:05<00:28,  2.61s/it]"
     ]
    },
    {
     "name": "stdout",
     "output_type": "stream",
     "text": [
      "  ❌ Error updating post ldyc1s: 'Redditor' object has no attribute 'id'\n"
     ]
    },
    {
     "name": "stderr",
     "output_type": "stream",
     "text": [
      "Updating authors:  93%|█████████▎| 93/100 [03:13<00:14,  2.09s/it]"
     ]
    },
    {
     "name": "stdout",
     "output_type": "stream",
     "text": [
      "  ❌ Error updating post ldxv5m: 'Redditor' object has no attribute 'id'\n"
     ]
    },
    {
     "name": "stderr",
     "output_type": "stream",
     "text": [
      "Updating authors:  94%|█████████▍| 94/100 [03:15<00:11,  1.95s/it]"
     ]
    },
    {
     "name": "stdout",
     "output_type": "stream",
     "text": [
      "  ❌ Error updating post ldxtbc: 'Redditor' object has no attribute 'id'\n"
     ]
    },
    {
     "name": "stderr",
     "output_type": "stream",
     "text": [
      "Updating authors: 100%|██████████| 100/100 [03:28<00:00,  2.08s/it]\n"
     ]
    },
    {
     "name": "stdout",
     "output_type": "stream",
     "text": [
      "Progress: 30,237/53,187 (56.9%)\n",
      "Success rate: 30237/31600 (95.7%)\n",
      "Posts per minute: 27.6\n",
      "Taking a 30-second break between batches...\n",
      "\n",
      "Processing batch 317/532\n"
     ]
    },
    {
     "name": "stderr",
     "output_type": "stream",
     "text": [
      "Updating authors:   0%|          | 0/100 [00:00<?, ?it/s]"
     ]
    },
    {
     "name": "stdout",
     "output_type": "stream",
     "text": [
      "  ❌ Error updating post ldwvag: 'Redditor' object has no attribute 'id'\n"
     ]
    },
    {
     "name": "stderr",
     "output_type": "stream",
     "text": [
      "Updating authors:  14%|█▍        | 14/100 [00:26<02:55,  2.04s/it]"
     ]
    },
    {
     "name": "stdout",
     "output_type": "stream",
     "text": [
      "  ❌ Error updating post ldvxqz: 'Redditor' object has no attribute 'id'\n"
     ]
    },
    {
     "name": "stderr",
     "output_type": "stream",
     "text": [
      "Updating authors:  47%|████▋     | 47/100 [01:35<02:16,  2.58s/it]"
     ]
    },
    {
     "name": "stdout",
     "output_type": "stream",
     "text": [
      "  ❌ Error updating post le2s15: 'Redditor' object has no attribute 'id'\n"
     ]
    },
    {
     "name": "stderr",
     "output_type": "stream",
     "text": [
      "Updating authors:  71%|███████   | 71/100 [02:19<00:58,  2.01s/it]"
     ]
    },
    {
     "name": "stdout",
     "output_type": "stream",
     "text": [
      "  ❌ Error updating post le1s8b: 'Redditor' object has no attribute 'id'\n"
     ]
    },
    {
     "name": "stderr",
     "output_type": "stream",
     "text": [
      "Updating authors:  75%|███████▌  | 75/100 [02:26<00:45,  1.80s/it]"
     ]
    },
    {
     "name": "stdout",
     "output_type": "stream",
     "text": [
      "  ❌ Error updating post le1o1e: 'Redditor' object has no attribute 'id'\n"
     ]
    },
    {
     "name": "stderr",
     "output_type": "stream",
     "text": [
      "Updating authors: 100%|██████████| 100/100 [03:30<00:00,  2.11s/it]\n"
     ]
    },
    {
     "name": "stdout",
     "output_type": "stream",
     "text": [
      "Progress: 30,332/53,187 (57.0%)\n",
      "Success rate: 30332/31700 (95.7%)\n",
      "Posts per minute: 27.5\n",
      "Taking a 30-second break between batches...\n",
      "\n",
      "Processing batch 318/532\n"
     ]
    },
    {
     "name": "stderr",
     "output_type": "stream",
     "text": [
      "Updating authors:  18%|█▊        | 18/100 [00:34<02:49,  2.06s/it]"
     ]
    },
    {
     "name": "stdout",
     "output_type": "stream",
     "text": [
      "  ❌ Error updating post le4gap: 'Redditor' object has no attribute 'id'\n"
     ]
    },
    {
     "name": "stderr",
     "output_type": "stream",
     "text": [
      "Updating authors:  27%|██▋       | 27/100 [00:53<02:24,  1.98s/it]"
     ]
    },
    {
     "name": "stdout",
     "output_type": "stream",
     "text": [
      "  ❌ Error updating post le423g: 'Redditor' object has no attribute 'id'\n"
     ]
    },
    {
     "name": "stderr",
     "output_type": "stream",
     "text": [
      "Updating authors:  28%|██▊       | 28/100 [00:54<02:15,  1.88s/it]"
     ]
    },
    {
     "name": "stdout",
     "output_type": "stream",
     "text": [
      "  ❌ Error updating post le404p: 'Redditor' object has no attribute 'id'\n"
     ]
    },
    {
     "name": "stderr",
     "output_type": "stream",
     "text": [
      "Updating authors:  35%|███▌      | 35/100 [01:06<01:53,  1.74s/it]"
     ]
    },
    {
     "name": "stdout",
     "output_type": "stream",
     "text": [
      "  ❌ Error updating post le3o58: 'Redditor' object has no attribute 'id'\n"
     ]
    },
    {
     "name": "stderr",
     "output_type": "stream",
     "text": [
      "Updating authors:  39%|███▉      | 39/100 [01:14<01:52,  1.85s/it]"
     ]
    },
    {
     "name": "stdout",
     "output_type": "stream",
     "text": [
      "  ❌ Error updating post le27a9: 'Redditor' object has no attribute 'id'\n"
     ]
    },
    {
     "name": "stderr",
     "output_type": "stream",
     "text": [
      "Updating authors:  57%|█████▋    | 57/100 [01:45<01:15,  1.75s/it]"
     ]
    },
    {
     "name": "stdout",
     "output_type": "stream",
     "text": [
      "  ❌ Error updating post lh1mx9: 'Redditor' object has no attribute 'id'\n"
     ]
    },
    {
     "name": "stderr",
     "output_type": "stream",
     "text": [
      "Updating authors: 100%|██████████| 100/100 [03:11<00:00,  1.92s/it]\n"
     ]
    },
    {
     "name": "stdout",
     "output_type": "stream",
     "text": [
      "Progress: 30,426/53,187 (57.2%)\n",
      "Success rate: 30426/31800 (95.7%)\n",
      "Posts per minute: 27.5\n",
      "Taking a 30-second break between batches...\n",
      "\n",
      "Processing batch 319/532\n"
     ]
    },
    {
     "name": "stderr",
     "output_type": "stream",
     "text": [
      "Updating authors:   0%|          | 0/100 [00:00<?, ?it/s]"
     ]
    },
    {
     "name": "stdout",
     "output_type": "stream",
     "text": [
      "  ❌ Error updating post le7w3f: 'Redditor' object has no attribute 'id'\n"
     ]
    },
    {
     "name": "stderr",
     "output_type": "stream",
     "text": [
      "Updating authors:  84%|████████▍ | 84/100 [02:43<00:28,  1.77s/it]"
     ]
    },
    {
     "name": "stdout",
     "output_type": "stream",
     "text": [
      "  ❌ Error updating post le9hsw: 'Redditor' object has no attribute 'id'\n"
     ]
    },
    {
     "name": "stderr",
     "output_type": "stream",
     "text": [
      "Updating authors:  96%|█████████▌| 96/100 [03:10<00:11,  2.77s/it]"
     ]
    },
    {
     "name": "stdout",
     "output_type": "stream",
     "text": [
      "  ❌ Error updating post lh6xup: 'Redditor' object has no attribute 'id'\n"
     ]
    },
    {
     "name": "stderr",
     "output_type": "stream",
     "text": [
      "Updating authors:  99%|█████████▉| 99/100 [03:23<00:03,  3.85s/it]"
     ]
    },
    {
     "name": "stdout",
     "output_type": "stream",
     "text": [
      "  ❌ Error updating post lh40to: 'Redditor' object has no attribute 'id'\n"
     ]
    },
    {
     "name": "stderr",
     "output_type": "stream",
     "text": [
      "Updating authors: 100%|██████████| 100/100 [03:28<00:00,  2.08s/it]\n"
     ]
    },
    {
     "name": "stdout",
     "output_type": "stream",
     "text": [
      "Progress: 30,522/53,187 (57.4%)\n",
      "Success rate: 30522/31900 (95.7%)\n",
      "Posts per minute: 27.5\n",
      "Taking a 30-second break between batches...\n",
      "\n",
      "Processing batch 320/532\n"
     ]
    },
    {
     "name": "stderr",
     "output_type": "stream",
     "text": [
      "Updating authors:   1%|          | 1/100 [00:02<03:43,  2.26s/it]"
     ]
    },
    {
     "name": "stdout",
     "output_type": "stream",
     "text": [
      "  ❌ Error updating post lej4w2: 'Redditor' object has no attribute 'id'\n"
     ]
    },
    {
     "name": "stderr",
     "output_type": "stream",
     "text": [
      "Updating authors:   6%|▌         | 6/100 [00:12<03:12,  2.05s/it]"
     ]
    },
    {
     "name": "stdout",
     "output_type": "stream",
     "text": [
      "  ❌ Error updating post leijf8: 'Redditor' object has no attribute 'id'\n"
     ]
    },
    {
     "name": "stderr",
     "output_type": "stream",
     "text": [
      "Updating authors:  12%|█▏        | 12/100 [00:24<02:49,  1.92s/it]"
     ]
    },
    {
     "name": "stdout",
     "output_type": "stream",
     "text": [
      "  ❌ Error updating post lei9i7: 'Redditor' object has no attribute 'id'\n"
     ]
    },
    {
     "name": "stderr",
     "output_type": "stream",
     "text": [
      "Updating authors:  26%|██▌       | 26/100 [00:59<03:15,  2.65s/it]"
     ]
    },
    {
     "name": "stdout",
     "output_type": "stream",
     "text": [
      "  ❌ Error updating post lehaem: 'Redditor' object has no attribute 'id'\n"
     ]
    },
    {
     "name": "stderr",
     "output_type": "stream",
     "text": [
      "Updating authors:  31%|███       | 31/100 [01:10<02:25,  2.11s/it]"
     ]
    },
    {
     "name": "stdout",
     "output_type": "stream",
     "text": [
      "  ❌ Error updating post legk30: 'Redditor' object has no attribute 'id'\n"
     ]
    },
    {
     "name": "stderr",
     "output_type": "stream",
     "text": [
      "Updating authors:  34%|███▍      | 34/100 [01:15<02:05,  1.90s/it]"
     ]
    },
    {
     "name": "stdout",
     "output_type": "stream",
     "text": [
      "  ❌ Error updating post leggj4: 'Redditor' object has no attribute 'id'\n"
     ]
    },
    {
     "name": "stderr",
     "output_type": "stream",
     "text": [
      "Updating authors:  38%|███▊      | 38/100 [01:23<02:00,  1.95s/it]"
     ]
    },
    {
     "name": "stdout",
     "output_type": "stream",
     "text": [
      "  ❌ Error updating post leg7eu: 'Redditor' object has no attribute 'id'\n"
     ]
    },
    {
     "name": "stderr",
     "output_type": "stream",
     "text": [
      "Updating authors:  49%|████▉     | 49/100 [01:48<01:41,  2.00s/it]"
     ]
    },
    {
     "name": "stdout",
     "output_type": "stream",
     "text": [
      "  ❌ Error updating post lef7fe: 'Redditor' object has no attribute 'id'\n"
     ]
    },
    {
     "name": "stderr",
     "output_type": "stream",
     "text": [
      "Updating authors:  76%|███████▌  | 76/100 [02:48<00:48,  2.01s/it]"
     ]
    },
    {
     "name": "stdout",
     "output_type": "stream",
     "text": [
      "  ❌ Error updating post lecmcu: 'Redditor' object has no attribute 'id'\n"
     ]
    },
    {
     "name": "stderr",
     "output_type": "stream",
     "text": [
      "Updating authors:  88%|████████▊ | 88/100 [03:16<00:36,  3.06s/it]"
     ]
    },
    {
     "name": "stdout",
     "output_type": "stream",
     "text": [
      "  ❌ Error updating post lebq9c: 'Redditor' object has no attribute 'id'\n"
     ]
    },
    {
     "name": "stderr",
     "output_type": "stream",
     "text": [
      "Updating authors:  90%|█████████ | 90/100 [03:19<00:23,  2.40s/it]"
     ]
    },
    {
     "name": "stdout",
     "output_type": "stream",
     "text": [
      "  ❌ Error updating post lebold: 'Redditor' object has no attribute 'id'\n"
     ]
    },
    {
     "name": "stderr",
     "output_type": "stream",
     "text": [
      "Updating authors:  92%|█████████▏| 92/100 [03:23<00:17,  2.15s/it]"
     ]
    },
    {
     "name": "stdout",
     "output_type": "stream",
     "text": [
      "  ❌ Error updating post lebkq0: 'Redditor' object has no attribute 'id'\n"
     ]
    },
    {
     "name": "stderr",
     "output_type": "stream",
     "text": [
      "Updating authors:  96%|█████████▌| 96/100 [03:32<00:08,  2.21s/it]"
     ]
    },
    {
     "name": "stdout",
     "output_type": "stream",
     "text": [
      "  ❌ Error updating post lebgr4: received 404 HTTP response\n"
     ]
    },
    {
     "name": "stderr",
     "output_type": "stream",
     "text": [
      "Updating authors: 100%|██████████| 100/100 [03:39<00:00,  2.20s/it]\n"
     ]
    },
    {
     "name": "stdout",
     "output_type": "stream",
     "text": [
      "Progress: 30,609/53,187 (57.5%)\n",
      "Success rate: 30609/32000 (95.7%)\n",
      "Posts per minute: 27.5\n",
      "Taking a 30-second break between batches...\n",
      "\n",
      "Processing batch 321/532\n"
     ]
    },
    {
     "name": "stderr",
     "output_type": "stream",
     "text": [
      "Updating authors:   0%|          | 0/100 [00:00<?, ?it/s]"
     ]
    },
    {
     "name": "stdout",
     "output_type": "stream",
     "text": [
      "  ❌ Error updating post leb8x6: 'Redditor' object has no attribute 'id'\n"
     ]
    },
    {
     "name": "stderr",
     "output_type": "stream",
     "text": [
      "Updating authors:  10%|█         | 10/100 [00:26<04:37,  3.08s/it]"
     ]
    },
    {
     "name": "stdout",
     "output_type": "stream",
     "text": [
      "  ❌ Error updating post lhostl: 'Redditor' object has no attribute 'id'\n"
     ]
    },
    {
     "name": "stderr",
     "output_type": "stream",
     "text": [
      "Updating authors:  31%|███       | 31/100 [01:22<02:32,  2.22s/it]"
     ]
    },
    {
     "name": "stdout",
     "output_type": "stream",
     "text": [
      "  ❌ Error updating post leorks: 'Redditor' object has no attribute 'id'\n"
     ]
    },
    {
     "name": "stderr",
     "output_type": "stream",
     "text": [
      "Updating authors:  36%|███▌      | 36/100 [01:34<02:20,  2.19s/it]"
     ]
    },
    {
     "name": "stdout",
     "output_type": "stream",
     "text": [
      "  ❌ Error updating post leomra: 'Redditor' object has no attribute 'id'\n"
     ]
    },
    {
     "name": "stderr",
     "output_type": "stream",
     "text": [
      "Updating authors:  39%|███▉      | 39/100 [01:39<02:00,  1.97s/it]"
     ]
    },
    {
     "name": "stdout",
     "output_type": "stream",
     "text": [
      "  ❌ Error updating post leokp0: 'Redditor' object has no attribute 'id'\n"
     ]
    },
    {
     "name": "stderr",
     "output_type": "stream",
     "text": [
      "Updating authors:  40%|████      | 40/100 [01:41<01:53,  1.90s/it]"
     ]
    },
    {
     "name": "stdout",
     "output_type": "stream",
     "text": [
      "  ❌ Error updating post leok2v: 'Redditor' object has no attribute 'id'\n"
     ]
    },
    {
     "name": "stderr",
     "output_type": "stream",
     "text": [
      "Updating authors:  44%|████▍     | 44/100 [01:48<01:40,  1.80s/it]"
     ]
    },
    {
     "name": "stdout",
     "output_type": "stream",
     "text": [
      "  ❌ Error updating post leo4kp: 'Redditor' object has no attribute 'id'\n"
     ]
    },
    {
     "name": "stderr",
     "output_type": "stream",
     "text": [
      "Updating authors:  52%|█████▏    | 52/100 [02:05<01:53,  2.36s/it]"
     ]
    },
    {
     "name": "stdout",
     "output_type": "stream",
     "text": [
      "  ❌ Error updating post lemvvc: 'Redditor' object has no attribute 'id'\n"
     ]
    },
    {
     "name": "stderr",
     "output_type": "stream",
     "text": [
      "Updating authors:  69%|██████▉   | 69/100 [02:46<00:59,  1.92s/it]"
     ]
    },
    {
     "name": "stdout",
     "output_type": "stream",
     "text": [
      "  ❌ Error updating post lelexs: 'Redditor' object has no attribute 'id'\n"
     ]
    },
    {
     "name": "stderr",
     "output_type": "stream",
     "text": [
      "Updating authors:  80%|████████  | 80/100 [03:07<00:35,  1.75s/it]"
     ]
    },
    {
     "name": "stdout",
     "output_type": "stream",
     "text": [
      "  ❌ Error updating post li408n: 'Redditor' object has no attribute 'id'\n"
     ]
    },
    {
     "name": "stderr",
     "output_type": "stream",
     "text": [
      "Updating authors:  83%|████████▎ | 83/100 [03:14<00:38,  2.27s/it]"
     ]
    },
    {
     "name": "stdout",
     "output_type": "stream",
     "text": [
      "  ❌ Error updating post leqtb8: 'Redditor' object has no attribute 'id'\n"
     ]
    },
    {
     "name": "stderr",
     "output_type": "stream",
     "text": [
      "Updating authors:  97%|█████████▋| 97/100 [03:47<00:09,  3.02s/it]"
     ]
    },
    {
     "name": "stdout",
     "output_type": "stream",
     "text": [
      "  ❌ Error updating post li8anb: 'Redditor' object has no attribute 'id'\n"
     ]
    },
    {
     "name": "stderr",
     "output_type": "stream",
     "text": [
      "Updating authors: 100%|██████████| 100/100 [03:54<00:00,  2.34s/it]\n"
     ]
    },
    {
     "name": "stdout",
     "output_type": "stream",
     "text": [
      "Progress: 30,697/53,187 (57.7%)\n",
      "Success rate: 30697/32100 (95.6%)\n",
      "Posts per minute: 27.5\n",
      "Taking a 30-second break between batches...\n",
      "\n",
      "Processing batch 322/532\n"
     ]
    },
    {
     "name": "stderr",
     "output_type": "stream",
     "text": [
      "Updating authors:  11%|█         | 11/100 [00:25<03:03,  2.07s/it]"
     ]
    },
    {
     "name": "stdout",
     "output_type": "stream",
     "text": [
      "  ❌ Error updating post let0ij: 'Redditor' object has no attribute 'id'\n"
     ]
    },
    {
     "name": "stderr",
     "output_type": "stream",
     "text": [
      "Updating authors:  34%|███▍      | 34/100 [01:15<02:47,  2.54s/it]"
     ]
    },
    {
     "name": "stdout",
     "output_type": "stream",
     "text": [
      "  ❌ Error updating post lhyumr: 'Redditor' object has no attribute 'id'\n"
     ]
    },
    {
     "name": "stderr",
     "output_type": "stream",
     "text": [
      "Updating authors:  56%|█████▌    | 56/100 [01:59<01:19,  1.81s/it]"
     ]
    },
    {
     "name": "stdout",
     "output_type": "stream",
     "text": [
      "  ❌ Error updating post lezk02: 'Redditor' object has no attribute 'id'\n"
     ]
    },
    {
     "name": "stderr",
     "output_type": "stream",
     "text": [
      "Updating authors:  63%|██████▎   | 63/100 [02:15<01:17,  2.09s/it]"
     ]
    },
    {
     "name": "stdout",
     "output_type": "stream",
     "text": [
      "  ❌ Error updating post leyd5d: 'Redditor' object has no attribute 'id'\n"
     ]
    },
    {
     "name": "stderr",
     "output_type": "stream",
     "text": [
      "Updating authors:  67%|██████▋   | 67/100 [02:22<01:03,  1.91s/it]"
     ]
    },
    {
     "name": "stdout",
     "output_type": "stream",
     "text": [
      "  ❌ Error updating post ley0yt: 'Redditor' object has no attribute 'id'\n"
     ]
    },
    {
     "name": "stderr",
     "output_type": "stream",
     "text": [
      "Updating authors:  79%|███████▉  | 79/100 [02:48<00:41,  1.96s/it]"
     ]
    },
    {
     "name": "stdout",
     "output_type": "stream",
     "text": [
      "  ❌ Error updating post lewzch: 'Redditor' object has no attribute 'id'\n"
     ]
    },
    {
     "name": "stderr",
     "output_type": "stream",
     "text": [
      "Updating authors:  82%|████████▏ | 82/100 [02:54<00:35,  1.97s/it]"
     ]
    },
    {
     "name": "stdout",
     "output_type": "stream",
     "text": [
      "  ❌ Error updating post lewhtx: 'Redditor' object has no attribute 'id'\n"
     ]
    },
    {
     "name": "stderr",
     "output_type": "stream",
     "text": [
      "Updating authors:  85%|████████▌ | 85/100 [02:59<00:28,  1.87s/it]"
     ]
    },
    {
     "name": "stdout",
     "output_type": "stream",
     "text": [
      "  ❌ Error updating post lew3xw: 'Redditor' object has no attribute 'id'\n"
     ]
    },
    {
     "name": "stderr",
     "output_type": "stream",
     "text": [
      "Updating authors:  88%|████████▊ | 88/100 [03:05<00:22,  1.87s/it]"
     ]
    },
    {
     "name": "stdout",
     "output_type": "stream",
     "text": [
      "  ❌ Error updating post lij98f: received 404 HTTP response\n"
     ]
    },
    {
     "name": "stderr",
     "output_type": "stream",
     "text": [
      "Updating authors:  90%|█████████ | 90/100 [03:08<00:17,  1.73s/it]"
     ]
    },
    {
     "name": "stdout",
     "output_type": "stream",
     "text": [
      "  ❌ Error updating post liikut: 'Redditor' object has no attribute 'id'\n"
     ]
    },
    {
     "name": "stderr",
     "output_type": "stream",
     "text": [
      "Updating authors: 100%|██████████| 100/100 [03:41<00:00,  2.21s/it]\n"
     ]
    },
    {
     "name": "stdout",
     "output_type": "stream",
     "text": [
      "Progress: 30,787/53,187 (57.9%)\n",
      "Success rate: 30787/32200 (95.6%)\n",
      "Posts per minute: 27.4\n",
      "Taking a 30-second break between batches...\n",
      "\n",
      "Processing batch 323/532\n"
     ]
    },
    {
     "name": "stderr",
     "output_type": "stream",
     "text": [
      "Updating authors:   5%|▌         | 5/100 [00:11<03:34,  2.25s/it]"
     ]
    },
    {
     "name": "stdout",
     "output_type": "stream",
     "text": [
      "  ❌ Error updating post lfdbop: 'Redditor' object has no attribute 'id'\n"
     ]
    },
    {
     "name": "stderr",
     "output_type": "stream",
     "text": [
      "Updating authors:  39%|███▉      | 39/100 [01:43<02:02,  2.00s/it]"
     ]
    },
    {
     "name": "stdout",
     "output_type": "stream",
     "text": [
      "  ❌ Error updating post lf3rju: 'Redditor' object has no attribute 'id'\n"
     ]
    },
    {
     "name": "stderr",
     "output_type": "stream",
     "text": [
      "Updating authors:  43%|████▎     | 43/100 [01:51<01:59,  2.09s/it]"
     ]
    },
    {
     "name": "stdout",
     "output_type": "stream",
     "text": [
      "  ❌ Error updating post lf25bt: 'Redditor' object has no attribute 'id'\n"
     ]
    },
    {
     "name": "stderr",
     "output_type": "stream",
     "text": [
      "Updating authors:  46%|████▌     | 46/100 [01:58<02:02,  2.28s/it]"
     ]
    },
    {
     "name": "stdout",
     "output_type": "stream",
     "text": [
      "  ❌ Error updating post lf1xx2: 'Redditor' object has no attribute 'id'\n"
     ]
    },
    {
     "name": "stderr",
     "output_type": "stream",
     "text": [
      "Updating authors:  53%|█████▎    | 53/100 [02:14<01:35,  2.02s/it]"
     ]
    },
    {
     "name": "stdout",
     "output_type": "stream",
     "text": [
      "  ❌ Error updating post lf1asb: 'Redditor' object has no attribute 'id'\n"
     ]
    },
    {
     "name": "stderr",
     "output_type": "stream",
     "text": [
      "Updating authors:  76%|███████▌  | 76/100 [03:03<00:56,  2.34s/it]"
     ]
    },
    {
     "name": "stdout",
     "output_type": "stream",
     "text": [
      "  ❌ Error updating post lfgwwa: 'Redditor' object has no attribute 'id'\n"
     ]
    },
    {
     "name": "stderr",
     "output_type": "stream",
     "text": [
      "Updating authors:  80%|████████  | 80/100 [03:16<01:05,  3.30s/it]"
     ]
    },
    {
     "name": "stdout",
     "output_type": "stream",
     "text": [
      "  ❌ Error updating post lfgidl: 'Redditor' object has no attribute 'id'\n"
     ]
    },
    {
     "name": "stderr",
     "output_type": "stream",
     "text": [
      "Updating authors:  94%|█████████▍| 94/100 [03:51<00:12,  2.07s/it]"
     ]
    },
    {
     "name": "stdout",
     "output_type": "stream",
     "text": [
      "  ❌ Error updating post lix4mc: 'Redditor' object has no attribute 'id'\n"
     ]
    },
    {
     "name": "stderr",
     "output_type": "stream",
     "text": [
      "Updating authors: 100%|██████████| 100/100 [04:03<00:00,  2.43s/it]\n"
     ]
    },
    {
     "name": "stdout",
     "output_type": "stream",
     "text": [
      "Progress: 30,879/53,187 (58.1%)\n",
      "Success rate: 30879/32300 (95.6%)\n",
      "Posts per minute: 27.4\n",
      "Taking a 30-second break between batches...\n",
      "\n",
      "Processing batch 324/532\n"
     ]
    },
    {
     "name": "stderr",
     "output_type": "stream",
     "text": [
      "Updating authors:   1%|          | 1/100 [00:02<03:18,  2.00s/it]"
     ]
    },
    {
     "name": "stdout",
     "output_type": "stream",
     "text": [
      "  ❌ Error updating post litebt: 'Redditor' object has no attribute 'id'\n"
     ]
    },
    {
     "name": "stderr",
     "output_type": "stream",
     "text": [
      "Updating authors:  23%|██▎       | 23/100 [00:49<02:13,  1.73s/it]"
     ]
    },
    {
     "name": "stdout",
     "output_type": "stream",
     "text": [
      "  ❌ Error updating post lj47c4: 'Redditor' object has no attribute 'id'\n"
     ]
    },
    {
     "name": "stderr",
     "output_type": "stream",
     "text": [
      "Updating authors: 100%|██████████| 100/100 [04:07<00:00,  2.47s/it]\n"
     ]
    },
    {
     "name": "stdout",
     "output_type": "stream",
     "text": [
      "Progress: 30,977/53,187 (58.2%)\n",
      "Success rate: 30977/32400 (95.6%)\n",
      "Posts per minute: 27.4\n",
      "Taking a 30-second break between batches...\n",
      "\n",
      "Processing batch 325/532\n"
     ]
    },
    {
     "name": "stderr",
     "output_type": "stream",
     "text": [
      "Updating authors:   4%|▍         | 4/100 [00:09<03:38,  2.27s/it]"
     ]
    },
    {
     "name": "stdout",
     "output_type": "stream",
     "text": [
      "  ❌ Error updating post lfv6li: 'Redditor' object has no attribute 'id'\n"
     ]
    },
    {
     "name": "stderr",
     "output_type": "stream",
     "text": [
      "Updating authors:  48%|████▊     | 48/100 [01:57<01:52,  2.17s/it]"
     ]
    },
    {
     "name": "stdout",
     "output_type": "stream",
     "text": [
      "  ❌ Error updating post lg4y31: 'Redditor' object has no attribute 'id'\n"
     ]
    },
    {
     "name": "stderr",
     "output_type": "stream",
     "text": [
      "Updating authors:  59%|█████▉    | 59/100 [02:22<01:42,  2.49s/it]"
     ]
    },
    {
     "name": "stdout",
     "output_type": "stream",
     "text": [
      "  ❌ Error updating post lg4gx4: 'Redditor' object has no attribute 'id'\n"
     ]
    },
    {
     "name": "stderr",
     "output_type": "stream",
     "text": [
      "Updating authors:  73%|███████▎  | 73/100 [03:01<01:09,  2.59s/it]"
     ]
    },
    {
     "name": "stdout",
     "output_type": "stream",
     "text": [
      "  ❌ Error updating post lg9f1u: 'Redditor' object has no attribute 'id'\n"
     ]
    },
    {
     "name": "stderr",
     "output_type": "stream",
     "text": [
      "Updating authors:  82%|████████▏ | 82/100 [03:21<00:41,  2.32s/it]"
     ]
    },
    {
     "name": "stdout",
     "output_type": "stream",
     "text": [
      "  ❌ Error updating post lg8d46: 'Redditor' object has no attribute 'id'\n"
     ]
    },
    {
     "name": "stderr",
     "output_type": "stream",
     "text": [
      "Updating authors: 100%|██████████| 100/100 [04:00<00:00,  2.41s/it]\n"
     ]
    },
    {
     "name": "stdout",
     "output_type": "stream",
     "text": [
      "Progress: 31,072/53,187 (58.4%)\n",
      "Success rate: 31072/32500 (95.6%)\n",
      "Posts per minute: 27.4\n",
      "Taking a 30-second break between batches...\n",
      "\n",
      "Processing batch 326/532\n"
     ]
    },
    {
     "name": "stderr",
     "output_type": "stream",
     "text": [
      "Updating authors:   0%|          | 0/100 [00:00<?, ?it/s]"
     ]
    },
    {
     "name": "stdout",
     "output_type": "stream",
     "text": [
      "  ❌ Error updating post lgec5r: 'Redditor' object has no attribute 'id'\n"
     ]
    },
    {
     "name": "stderr",
     "output_type": "stream",
     "text": [
      "Updating authors:   9%|▉         | 9/100 [00:23<03:55,  2.59s/it]"
     ]
    },
    {
     "name": "stdout",
     "output_type": "stream",
     "text": [
      "  ❌ Error updating post lgdlw1: 'Redditor' object has no attribute 'id'\n"
     ]
    },
    {
     "name": "stderr",
     "output_type": "stream",
     "text": [
      "Updating authors:  12%|█▏        | 12/100 [00:29<03:06,  2.12s/it]"
     ]
    },
    {
     "name": "stdout",
     "output_type": "stream",
     "text": [
      "  ❌ Error updating post lgdcj5: 'Redditor' object has no attribute 'id'\n"
     ]
    },
    {
     "name": "stderr",
     "output_type": "stream",
     "text": [
      "Updating authors:  42%|████▏     | 42/100 [02:00<02:04,  2.15s/it]"
     ]
    },
    {
     "name": "stdout",
     "output_type": "stream",
     "text": [
      "  ❌ Error updating post lgm76i: 'Redditor' object has no attribute 'id'\n"
     ]
    },
    {
     "name": "stderr",
     "output_type": "stream",
     "text": [
      "Updating authors:  45%|████▌     | 45/100 [02:06<01:57,  2.14s/it]"
     ]
    },
    {
     "name": "stdout",
     "output_type": "stream",
     "text": [
      "  ❌ Error updating post lglrg5: 'Redditor' object has no attribute 'id'\n"
     ]
    },
    {
     "name": "stderr",
     "output_type": "stream",
     "text": [
      "Updating authors:  48%|████▊     | 48/100 [02:15<02:17,  2.65s/it]"
     ]
    },
    {
     "name": "stdout",
     "output_type": "stream",
     "text": [
      "  ❌ Error updating post lglap3: 'Redditor' object has no attribute 'id'\n"
     ]
    },
    {
     "name": "stderr",
     "output_type": "stream",
     "text": [
      "Updating authors:  55%|█████▌    | 55/100 [02:35<02:16,  3.03s/it]"
     ]
    },
    {
     "name": "stdout",
     "output_type": "stream",
     "text": [
      "  ❌ Error updating post lgjn61: 'Redditor' object has no attribute 'id'\n"
     ]
    },
    {
     "name": "stderr",
     "output_type": "stream",
     "text": [
      "Updating authors:  57%|█████▋    | 57/100 [02:40<02:02,  2.84s/it]"
     ]
    },
    {
     "name": "stdout",
     "output_type": "stream",
     "text": [
      "  ❌ Error updating post lgjde2: 'Redditor' object has no attribute 'id'\n"
     ]
    },
    {
     "name": "stderr",
     "output_type": "stream",
     "text": [
      "Updating authors:  69%|██████▉   | 69/100 [03:14<01:35,  3.07s/it]"
     ]
    },
    {
     "name": "stdout",
     "output_type": "stream",
     "text": [
      "  ❌ Error updating post lgh95u: 'Redditor' object has no attribute 'id'\n"
     ]
    },
    {
     "name": "stderr",
     "output_type": "stream",
     "text": [
      "Updating authors:  70%|███████   | 70/100 [03:17<01:27,  2.92s/it]"
     ]
    },
    {
     "name": "stdout",
     "output_type": "stream",
     "text": [
      "  ❌ Error updating post lghaex: 'Redditor' object has no attribute 'id'\n"
     ]
    },
    {
     "name": "stderr",
     "output_type": "stream",
     "text": [
      "Updating authors:  72%|███████▏  | 72/100 [03:24<01:25,  3.04s/it]"
     ]
    },
    {
     "name": "stdout",
     "output_type": "stream",
     "text": [
      "  ❌ Error updating post lggy8o: 'Redditor' object has no attribute 'id'\n"
     ]
    },
    {
     "name": "stderr",
     "output_type": "stream",
     "text": [
      "Updating authors:  74%|███████▍  | 74/100 [03:28<01:07,  2.60s/it]"
     ]
    },
    {
     "name": "stdout",
     "output_type": "stream",
     "text": [
      "  ❌ Error updating post lggsff: 'Redditor' object has no attribute 'id'\n"
     ]
    },
    {
     "name": "stderr",
     "output_type": "stream",
     "text": [
      "Updating authors:  96%|█████████▌| 96/100 [04:16<00:07,  1.86s/it]"
     ]
    },
    {
     "name": "stdout",
     "output_type": "stream",
     "text": [
      "  ❌ Error updating post lksafq: 'Redditor' object has no attribute 'id'\n"
     ]
    },
    {
     "name": "stderr",
     "output_type": "stream",
     "text": [
      "Updating authors:  97%|█████████▋| 97/100 [04:21<00:08,  2.74s/it]"
     ]
    },
    {
     "name": "stdout",
     "output_type": "stream",
     "text": [
      "  ❌ Error updating post lkoggd: 'Redditor' object has no attribute 'id'\n"
     ]
    },
    {
     "name": "stderr",
     "output_type": "stream",
     "text": [
      "Updating authors: 100%|██████████| 100/100 [04:34<00:00,  2.74s/it]\n"
     ]
    },
    {
     "name": "stdout",
     "output_type": "stream",
     "text": [
      "Progress: 31,158/53,187 (58.6%)\n",
      "Success rate: 31158/32600 (95.6%)\n",
      "Posts per minute: 27.3\n",
      "Taking a 30-second break between batches...\n",
      "\n",
      "Processing batch 327/532\n"
     ]
    },
    {
     "name": "stderr",
     "output_type": "stream",
     "text": [
      "Updating authors:   4%|▍         | 4/100 [00:14<05:42,  3.57s/it]"
     ]
    },
    {
     "name": "stdout",
     "output_type": "stream",
     "text": [
      "  ❌ Error updating post lhbmbh: 'Redditor' object has no attribute 'id'\n"
     ]
    },
    {
     "name": "stderr",
     "output_type": "stream",
     "text": [
      "Updating authors:  24%|██▍       | 24/100 [01:04<03:16,  2.58s/it]"
     ]
    },
    {
     "name": "stdout",
     "output_type": "stream",
     "text": [
      "  ❌ Error updating post lh8g07: 'Redditor' object has no attribute 'id'\n"
     ]
    },
    {
     "name": "stderr",
     "output_type": "stream",
     "text": [
      "Updating authors:  37%|███▋      | 37/100 [01:38<02:40,  2.55s/it]"
     ]
    },
    {
     "name": "stdout",
     "output_type": "stream",
     "text": [
      "  ❌ Error updating post lh603y: 'Redditor' object has no attribute 'id'\n"
     ]
    },
    {
     "name": "stderr",
     "output_type": "stream",
     "text": [
      "Updating authors:  71%|███████   | 71/100 [03:06<01:36,  3.34s/it]"
     ]
    },
    {
     "name": "stdout",
     "output_type": "stream",
     "text": [
      "  ❌ Error updating post lh0r8n: 'Redditor' object has no attribute 'id'\n"
     ]
    },
    {
     "name": "stderr",
     "output_type": "stream",
     "text": [
      "Updating authors:  79%|███████▉  | 79/100 [03:30<00:59,  2.84s/it]"
     ]
    },
    {
     "name": "stdout",
     "output_type": "stream",
     "text": [
      "  ❌ Error updating post lgzwn7: 'Redditor' object has no attribute 'id'\n"
     ]
    },
    {
     "name": "stderr",
     "output_type": "stream",
     "text": [
      "Updating authors:  92%|█████████▏| 92/100 [04:03<00:22,  2.80s/it]"
     ]
    },
    {
     "name": "stdout",
     "output_type": "stream",
     "text": [
      "  ❌ Error updating post lgxwrq: 'Redditor' object has no attribute 'id'\n"
     ]
    },
    {
     "name": "stderr",
     "output_type": "stream",
     "text": [
      "Updating authors:  99%|█████████▉| 99/100 [04:21<00:02,  2.32s/it]"
     ]
    },
    {
     "name": "stdout",
     "output_type": "stream",
     "text": [
      "  ❌ Error updating post lgwpe7: 'Redditor' object has no attribute 'id'\n"
     ]
    },
    {
     "name": "stderr",
     "output_type": "stream",
     "text": [
      "Updating authors: 100%|██████████| 100/100 [04:23<00:00,  2.63s/it]\n"
     ]
    },
    {
     "name": "stdout",
     "output_type": "stream",
     "text": [
      "Progress: 31,251/53,187 (58.8%)\n",
      "Success rate: 31251/32700 (95.6%)\n",
      "Posts per minute: 27.3\n",
      "Taking a 30-second break between batches...\n",
      "\n",
      "Processing batch 328/532\n"
     ]
    },
    {
     "name": "stderr",
     "output_type": "stream",
     "text": [
      "Updating authors:  18%|█▊        | 18/100 [00:49<03:10,  2.32s/it]"
     ]
    },
    {
     "name": "stdout",
     "output_type": "stream",
     "text": [
      "  ❌ Error updating post lgsidm: 'Redditor' object has no attribute 'id'\n"
     ]
    },
    {
     "name": "stderr",
     "output_type": "stream",
     "text": [
      "Updating authors:  25%|██▌       | 25/100 [01:10<03:04,  2.46s/it]"
     ]
    },
    {
     "name": "stdout",
     "output_type": "stream",
     "text": [
      "  ❌ Error updating post lgrknp: 'Redditor' object has no attribute 'id'\n"
     ]
    },
    {
     "name": "stderr",
     "output_type": "stream",
     "text": [
      "Updating authors:  49%|████▉     | 49/100 [02:10<01:48,  2.12s/it]"
     ]
    },
    {
     "name": "stdout",
     "output_type": "stream",
     "text": [
      "  ❌ Error updating post lgn8y2: 'Redditor' object has no attribute 'id'\n"
     ]
    },
    {
     "name": "stderr",
     "output_type": "stream",
     "text": [
      "Updating authors:  52%|█████▏    | 52/100 [02:15<01:29,  1.87s/it]"
     ]
    },
    {
     "name": "stdout",
     "output_type": "stream",
     "text": [
      "  ❌ Error updating post llo1ru: 'Redditor' object has no attribute 'id'\n"
     ]
    },
    {
     "name": "stderr",
     "output_type": "stream",
     "text": [
      "Updating authors:  64%|██████▍   | 64/100 [02:46<01:57,  3.27s/it]"
     ]
    },
    {
     "name": "stdout",
     "output_type": "stream",
     "text": [
      "  ❌ Error updating post liersm: 'Redditor' object has no attribute 'id'\n"
     ]
    },
    {
     "name": "stderr",
     "output_type": "stream",
     "text": [
      "Updating authors:  74%|███████▍  | 74/100 [03:10<01:00,  2.33s/it]"
     ]
    },
    {
     "name": "stdout",
     "output_type": "stream",
     "text": [
      "  ❌ Error updating post lidfua: 'Redditor' object has no attribute 'id'\n"
     ]
    },
    {
     "name": "stderr",
     "output_type": "stream",
     "text": [
      "Updating authors:  84%|████████▍ | 84/100 [03:35<00:41,  2.58s/it]"
     ]
    },
    {
     "name": "stdout",
     "output_type": "stream",
     "text": [
      "  ❌ Error updating post liccsf: 'Redditor' object has no attribute 'id'\n"
     ]
    },
    {
     "name": "stderr",
     "output_type": "stream",
     "text": [
      "Updating authors:  86%|████████▌ | 86/100 [03:42<00:42,  3.05s/it]"
     ]
    },
    {
     "name": "stdout",
     "output_type": "stream",
     "text": [
      "  ❌ Error updating post libwy6: 'Redditor' object has no attribute 'id'\n"
     ]
    },
    {
     "name": "stderr",
     "output_type": "stream",
     "text": [
      "Updating authors: 100%|██████████| 100/100 [04:28<00:00,  2.68s/it]\n"
     ]
    },
    {
     "name": "stdout",
     "output_type": "stream",
     "text": [
      "Progress: 31,343/53,187 (58.9%)\n",
      "Success rate: 31343/32800 (95.6%)\n",
      "Posts per minute: 27.2\n",
      "Taking a 30-second break between batches...\n",
      "\n",
      "Processing batch 329/532\n"
     ]
    },
    {
     "name": "stderr",
     "output_type": "stream",
     "text": [
      "Updating authors:   9%|▉         | 9/100 [00:22<04:28,  2.95s/it]"
     ]
    },
    {
     "name": "stdout",
     "output_type": "stream",
     "text": [
      "  ❌ Error updating post li55gu: 'Redditor' object has no attribute 'id'\n"
     ]
    },
    {
     "name": "stderr",
     "output_type": "stream",
     "text": [
      "Updating authors:  36%|███▌      | 36/100 [01:33<02:11,  2.05s/it]"
     ]
    },
    {
     "name": "stdout",
     "output_type": "stream",
     "text": [
      "  ❌ Error updating post lhz1ui: 'Redditor' object has no attribute 'id'\n"
     ]
    },
    {
     "name": "stderr",
     "output_type": "stream",
     "text": [
      "Updating authors:  37%|███▋      | 37/100 [01:35<02:17,  2.18s/it]"
     ]
    },
    {
     "name": "stdout",
     "output_type": "stream",
     "text": [
      "  ❌ Error updating post lhz1ej: 'Redditor' object has no attribute 'id'\n"
     ]
    },
    {
     "name": "stderr",
     "output_type": "stream",
     "text": [
      "Updating authors:  46%|████▌     | 46/100 [02:01<02:15,  2.51s/it]"
     ]
    },
    {
     "name": "stdout",
     "output_type": "stream",
     "text": [
      "  ❌ Error updating post lhwv5f: 'Redditor' object has no attribute 'id'\n"
     ]
    },
    {
     "name": "stderr",
     "output_type": "stream",
     "text": [
      "Updating authors:  54%|█████▍    | 54/100 [02:22<01:52,  2.45s/it]"
     ]
    },
    {
     "name": "stdout",
     "output_type": "stream",
     "text": [
      "  ❌ Error updating post lhvba4: 'Redditor' object has no attribute 'id'\n"
     ]
    },
    {
     "name": "stderr",
     "output_type": "stream",
     "text": [
      "Updating authors:  67%|██████▋   | 67/100 [02:57<01:16,  2.33s/it]"
     ]
    },
    {
     "name": "stdout",
     "output_type": "stream",
     "text": [
      "  ❌ Error updating post lhtt56: 'Redditor' object has no attribute 'id'\n"
     ]
    },
    {
     "name": "stderr",
     "output_type": "stream",
     "text": [
      "Updating authors:  71%|███████   | 71/100 [03:06<01:03,  2.20s/it]"
     ]
    },
    {
     "name": "stdout",
     "output_type": "stream",
     "text": [
      "  ❌ Error updating post lhtdkz: 'Redditor' object has no attribute 'id'\n"
     ]
    },
    {
     "name": "stderr",
     "output_type": "stream",
     "text": [
      "Updating authors:  72%|███████▏  | 72/100 [03:10<01:20,  2.86s/it]"
     ]
    },
    {
     "name": "stdout",
     "output_type": "stream",
     "text": [
      "  ❌ Error updating post lhtdat: 'Redditor' object has no attribute 'id'\n"
     ]
    },
    {
     "name": "stderr",
     "output_type": "stream",
     "text": [
      "Updating authors:  81%|████████  | 81/100 [03:32<00:50,  2.67s/it]"
     ]
    },
    {
     "name": "stdout",
     "output_type": "stream",
     "text": [
      "  ❌ Error updating post lhq0ow: 'Redditor' object has no attribute 'id'\n"
     ]
    },
    {
     "name": "stderr",
     "output_type": "stream",
     "text": [
      "Updating authors:  84%|████████▍ | 84/100 [03:39<00:40,  2.52s/it]"
     ]
    },
    {
     "name": "stdout",
     "output_type": "stream",
     "text": [
      "  ❌ Error updating post lhrhr2: 'Redditor' object has no attribute 'id'\n"
     ]
    },
    {
     "name": "stderr",
     "output_type": "stream",
     "text": [
      "Updating authors: 100%|██████████| 100/100 [04:14<00:00,  2.55s/it]\n"
     ]
    },
    {
     "name": "stdout",
     "output_type": "stream",
     "text": [
      "Progress: 31,433/53,187 (59.1%)\n",
      "Success rate: 31433/32900 (95.5%)\n",
      "Posts per minute: 27.2\n",
      "Taking a 30-second break between batches...\n",
      "\n",
      "Processing batch 330/532\n"
     ]
    },
    {
     "name": "stderr",
     "output_type": "stream",
     "text": [
      "Updating authors:   5%|▌         | 5/100 [00:10<03:17,  2.07s/it]"
     ]
    },
    {
     "name": "stdout",
     "output_type": "stream",
     "text": [
      "  ❌ Error updating post lhpyic: 'Redditor' object has no attribute 'id'\n"
     ]
    },
    {
     "name": "stderr",
     "output_type": "stream",
     "text": [
      "Updating authors:   8%|▊         | 8/100 [00:15<02:51,  1.86s/it]"
     ]
    },
    {
     "name": "stdout",
     "output_type": "stream",
     "text": [
      "  ❌ Error updating post lhpnx9: 'Redditor' object has no attribute 'id'\n"
     ]
    },
    {
     "name": "stderr",
     "output_type": "stream",
     "text": [
      "Updating authors:  22%|██▏       | 22/100 [00:49<03:20,  2.57s/it]"
     ]
    },
    {
     "name": "stdout",
     "output_type": "stream",
     "text": [
      "  ❌ Error updating post lhokm3: 'Redditor' object has no attribute 'id'\n"
     ]
    },
    {
     "name": "stderr",
     "output_type": "stream",
     "text": [
      "Updating authors:  30%|███       | 30/100 [01:06<02:17,  1.96s/it]"
     ]
    },
    {
     "name": "stdout",
     "output_type": "stream",
     "text": [
      "  ❌ Error updating post lhnt2u: 'Redditor' object has no attribute 'id'\n"
     ]
    },
    {
     "name": "stderr",
     "output_type": "stream",
     "text": [
      "Updating authors:  55%|█████▌    | 55/100 [02:23<02:53,  3.86s/it]"
     ]
    },
    {
     "name": "stdout",
     "output_type": "stream",
     "text": [
      "  ❌ Error updating post lhj1so: 'Redditor' object has no attribute 'id'\n"
     ]
    },
    {
     "name": "stderr",
     "output_type": "stream",
     "text": [
      "Updating authors:  61%|██████    | 61/100 [02:42<01:45,  2.70s/it]"
     ]
    },
    {
     "name": "stdout",
     "output_type": "stream",
     "text": [
      "  ❌ Error updating post lhh01d: 'Redditor' object has no attribute 'id'\n"
     ]
    },
    {
     "name": "stderr",
     "output_type": "stream",
     "text": [
      "Updating authors:  78%|███████▊  | 78/100 [03:24<00:58,  2.68s/it]"
     ]
    },
    {
     "name": "stdout",
     "output_type": "stream",
     "text": [
      "  ❌ Error updating post lhdijr: 'Redditor' object has no attribute 'id'\n"
     ]
    },
    {
     "name": "stderr",
     "output_type": "stream",
     "text": [
      "Updating authors:  80%|████████  | 80/100 [03:29<00:48,  2.44s/it]"
     ]
    },
    {
     "name": "stdout",
     "output_type": "stream",
     "text": [
      "  ❌ Error updating post lhddj6: 'Redditor' object has no attribute 'id'\n"
     ]
    },
    {
     "name": "stderr",
     "output_type": "stream",
     "text": [
      "Updating authors:  83%|████████▎ | 83/100 [03:37<00:45,  2.70s/it]"
     ]
    },
    {
     "name": "stdout",
     "output_type": "stream",
     "text": [
      "  ❌ Error updating post lhd4tg: 'Redditor' object has no attribute 'id'\n"
     ]
    },
    {
     "name": "stderr",
     "output_type": "stream",
     "text": [
      "Updating authors:  88%|████████▊ | 88/100 [03:52<00:37,  3.15s/it]"
     ]
    },
    {
     "name": "stdout",
     "output_type": "stream",
     "text": [
      "  ❌ Error updating post lma18h: 'Redditor' object has no attribute 'id'\n"
     ]
    },
    {
     "name": "stderr",
     "output_type": "stream",
     "text": [
      "Updating authors: 100%|██████████| 100/100 [04:18<00:00,  2.58s/it]\n"
     ]
    },
    {
     "name": "stdout",
     "output_type": "stream",
     "text": [
      "Progress: 31,523/53,187 (59.3%)\n",
      "Success rate: 31523/33000 (95.5%)\n",
      "Posts per minute: 27.2\n",
      "Taking a 30-second break between batches...\n",
      "\n",
      "Processing batch 331/532\n"
     ]
    },
    {
     "name": "stderr",
     "output_type": "stream",
     "text": [
      "Updating authors:   2%|▏         | 2/100 [00:05<04:28,  2.74s/it]"
     ]
    },
    {
     "name": "stdout",
     "output_type": "stream",
     "text": [
      "  ❌ Error updating post ljv8ju: 'Redditor' object has no attribute 'id'\n"
     ]
    },
    {
     "name": "stderr",
     "output_type": "stream",
     "text": [
      "Updating authors:  42%|████▏     | 42/100 [01:57<02:23,  2.48s/it]"
     ]
    },
    {
     "name": "stdout",
     "output_type": "stream",
     "text": [
      "  ❌ Error updating post lji6lh: 'Redditor' object has no attribute 'id'\n"
     ]
    },
    {
     "name": "stderr",
     "output_type": "stream",
     "text": [
      "Updating authors:  48%|████▊     | 48/100 [02:14<02:17,  2.64s/it]"
     ]
    },
    {
     "name": "stdout",
     "output_type": "stream",
     "text": [
      "  ❌ Error updating post ljghrh: 'Redditor' object has no attribute 'id'\n"
     ]
    },
    {
     "name": "stderr",
     "output_type": "stream",
     "text": [
      "Updating authors:  61%|██████    | 61/100 [02:44<01:30,  2.33s/it]"
     ]
    },
    {
     "name": "stdout",
     "output_type": "stream",
     "text": [
      "  ❌ Error updating post ljda9r: 'Redditor' object has no attribute 'id'\n"
     ]
    },
    {
     "name": "stderr",
     "output_type": "stream",
     "text": [
      "Updating authors:  84%|████████▍ | 84/100 [03:37<00:37,  2.33s/it]"
     ]
    },
    {
     "name": "stdout",
     "output_type": "stream",
     "text": [
      "  ❌ Error updating post lj72bo: 'Redditor' object has no attribute 'id'\n"
     ]
    },
    {
     "name": "stderr",
     "output_type": "stream",
     "text": [
      "Updating authors: 100%|██████████| 100/100 [04:17<00:00,  2.57s/it]\n"
     ]
    },
    {
     "name": "stdout",
     "output_type": "stream",
     "text": [
      "Progress: 31,618/53,187 (59.4%)\n",
      "Success rate: 31618/33100 (95.5%)\n",
      "Posts per minute: 27.1\n",
      "Taking a 30-second break between batches...\n",
      "\n",
      "Processing batch 332/532\n"
     ]
    },
    {
     "name": "stderr",
     "output_type": "stream",
     "text": [
      "Updating authors:  13%|█▎        | 13/100 [00:27<02:59,  2.06s/it]"
     ]
    },
    {
     "name": "stdout",
     "output_type": "stream",
     "text": [
      "  ❌ Error updating post lj1vhs: 'Redditor' object has no attribute 'id'\n"
     ]
    },
    {
     "name": "stderr",
     "output_type": "stream",
     "text": [
      "Updating authors:  45%|████▌     | 45/100 [01:48<02:06,  2.30s/it]"
     ]
    },
    {
     "name": "stdout",
     "output_type": "stream",
     "text": [
      "  ❌ Error updating post lirneu: 'Redditor' object has no attribute 'id'\n"
     ]
    },
    {
     "name": "stderr",
     "output_type": "stream",
     "text": [
      "Updating authors:  47%|████▋     | 47/100 [01:56<02:57,  3.35s/it]"
     ]
    },
    {
     "name": "stdout",
     "output_type": "stream",
     "text": [
      "  ❌ Error updating post lir9ks: 'Redditor' object has no attribute 'id'\n"
     ]
    },
    {
     "name": "stderr",
     "output_type": "stream",
     "text": [
      "Updating authors:  53%|█████▎    | 53/100 [02:13<02:11,  2.79s/it]"
     ]
    },
    {
     "name": "stdout",
     "output_type": "stream",
     "text": [
      "  ❌ Error updating post lipuqb: 'Redditor' object has no attribute 'id'\n"
     ]
    },
    {
     "name": "stderr",
     "output_type": "stream",
     "text": [
      "Updating authors:  59%|█████▉    | 59/100 [02:27<01:30,  2.22s/it]"
     ]
    },
    {
     "name": "stdout",
     "output_type": "stream",
     "text": [
      "  ❌ Error updating post lioujk: 'Redditor' object has no attribute 'id'\n"
     ]
    },
    {
     "name": "stderr",
     "output_type": "stream",
     "text": [
      "Updating authors:  67%|██████▋   | 67/100 [02:50<01:52,  3.42s/it]"
     ]
    },
    {
     "name": "stdout",
     "output_type": "stream",
     "text": [
      "  ❌ Error updating post linjhq: 'Redditor' object has no attribute 'id'\n"
     ]
    },
    {
     "name": "stderr",
     "output_type": "stream",
     "text": [
      "Updating authors:  68%|██████▊   | 68/100 [02:54<01:54,  3.59s/it]"
     ]
    },
    {
     "name": "stdout",
     "output_type": "stream",
     "text": [
      "  ❌ Error updating post line54: 'Redditor' object has no attribute 'id'\n"
     ]
    },
    {
     "name": "stderr",
     "output_type": "stream",
     "text": [
      "Updating authors:  78%|███████▊  | 78/100 [03:17<00:46,  2.10s/it]"
     ]
    },
    {
     "name": "stdout",
     "output_type": "stream",
     "text": [
      "  ❌ Error updating post lim9dk: 'Redditor' object has no attribute 'id'\n"
     ]
    },
    {
     "name": "stderr",
     "output_type": "stream",
     "text": [
      "Updating authors:  83%|████████▎ | 83/100 [03:29<00:39,  2.32s/it]"
     ]
    },
    {
     "name": "stdout",
     "output_type": "stream",
     "text": [
      "  ❌ Error updating post lil20p: 'Redditor' object has no attribute 'id'\n"
     ]
    },
    {
     "name": "stderr",
     "output_type": "stream",
     "text": [
      "Updating authors: 100%|██████████| 100/100 [04:11<00:00,  2.51s/it]\n"
     ]
    },
    {
     "name": "stdout",
     "output_type": "stream",
     "text": [
      "Progress: 31,709/53,187 (59.6%)\n",
      "Success rate: 31709/33200 (95.5%)\n",
      "Posts per minute: 27.1\n",
      "Taking a 30-second break between batches...\n",
      "\n",
      "Processing batch 333/532\n"
     ]
    },
    {
     "name": "stderr",
     "output_type": "stream",
     "text": [
      "Updating authors:  42%|████▏     | 42/100 [01:36<01:41,  1.75s/it]"
     ]
    },
    {
     "name": "stdout",
     "output_type": "stream",
     "text": [
      "  ❌ Error updating post ln8myi: 'Redditor' object has no attribute 'id'\n"
     ]
    },
    {
     "name": "stderr",
     "output_type": "stream",
     "text": [
      "Updating authors:  46%|████▌     | 46/100 [01:45<01:51,  2.06s/it]"
     ]
    },
    {
     "name": "stdout",
     "output_type": "stream",
     "text": [
      "  ❌ Error updating post ln68w2: 'Redditor' object has no attribute 'id'\n"
     ]
    },
    {
     "name": "stderr",
     "output_type": "stream",
     "text": [
      "Updating authors:  71%|███████   | 71/100 [02:44<00:58,  2.03s/it]"
     ]
    },
    {
     "name": "stdout",
     "output_type": "stream",
     "text": [
      "  ❌ Error updating post lmwgh9: 'Redditor' object has no attribute 'id'\n"
     ]
    },
    {
     "name": "stderr",
     "output_type": "stream",
     "text": [
      "Updating authors:  73%|███████▎  | 73/100 [02:49<01:01,  2.28s/it]"
     ]
    },
    {
     "name": "stdout",
     "output_type": "stream",
     "text": [
      "  ❌ Error updating post lmvhxt: 'Redditor' object has no attribute 'id'\n"
     ]
    },
    {
     "name": "stderr",
     "output_type": "stream",
     "text": [
      "Updating authors:  79%|███████▉  | 79/100 [03:00<00:40,  1.95s/it]"
     ]
    },
    {
     "name": "stdout",
     "output_type": "stream",
     "text": [
      "  ❌ Error updating post llm4q8: 'Redditor' object has no attribute 'id'\n"
     ]
    },
    {
     "name": "stderr",
     "output_type": "stream",
     "text": [
      "Updating authors:  96%|█████████▌| 96/100 [03:39<00:08,  2.01s/it]"
     ]
    },
    {
     "name": "stdout",
     "output_type": "stream",
     "text": [
      "  ❌ Error updating post llj7oc: 'Redditor' object has no attribute 'id'\n"
     ]
    },
    {
     "name": "stderr",
     "output_type": "stream",
     "text": [
      "Updating authors: 100%|██████████| 100/100 [03:49<00:00,  2.30s/it]\n"
     ]
    },
    {
     "name": "stdout",
     "output_type": "stream",
     "text": [
      "Progress: 31,803/53,187 (59.8%)\n",
      "Success rate: 31803/33300 (95.5%)\n",
      "Posts per minute: 27.1\n",
      "Taking a 30-second break between batches...\n",
      "\n",
      "Processing batch 334/532\n"
     ]
    },
    {
     "name": "stderr",
     "output_type": "stream",
     "text": [
      "Updating authors:   3%|▎         | 3/100 [00:09<05:16,  3.26s/it]"
     ]
    },
    {
     "name": "stdout",
     "output_type": "stream",
     "text": [
      "  ❌ Error updating post llisq0: received 404 HTTP response\n"
     ]
    },
    {
     "name": "stderr",
     "output_type": "stream",
     "text": [
      "Updating authors:  32%|███▏      | 32/100 [01:11<02:06,  1.86s/it]"
     ]
    },
    {
     "name": "stdout",
     "output_type": "stream",
     "text": [
      "  ❌ Error updating post llfbmw: 'Redditor' object has no attribute 'id'\n"
     ]
    },
    {
     "name": "stderr",
     "output_type": "stream",
     "text": [
      "Updating authors:  37%|███▋      | 37/100 [01:27<03:29,  3.32s/it]"
     ]
    },
    {
     "name": "stdout",
     "output_type": "stream",
     "text": [
      "  ❌ Error updating post lldgg5: 'Redditor' object has no attribute 'id'\n"
     ]
    },
    {
     "name": "stderr",
     "output_type": "stream",
     "text": [
      "Updating authors:  64%|██████▍   | 64/100 [02:25<01:09,  1.92s/it]"
     ]
    },
    {
     "name": "stdout",
     "output_type": "stream",
     "text": [
      "  ❌ Error updating post ll8q81: 'Redditor' object has no attribute 'id'\n"
     ]
    },
    {
     "name": "stderr",
     "output_type": "stream",
     "text": [
      "Updating authors:  69%|██████▉   | 69/100 [02:37<01:02,  2.01s/it]"
     ]
    },
    {
     "name": "stdout",
     "output_type": "stream",
     "text": [
      "  ❌ Error updating post ll8543: 'Redditor' object has no attribute 'id'\n"
     ]
    },
    {
     "name": "stderr",
     "output_type": "stream",
     "text": [
      "Updating authors:  86%|████████▌ | 86/100 [03:13<00:36,  2.61s/it]"
     ]
    },
    {
     "name": "stdout",
     "output_type": "stream",
     "text": [
      "  ❌ Error updating post ll5y0y: received 404 HTTP response\n"
     ]
    },
    {
     "name": "stderr",
     "output_type": "stream",
     "text": [
      "Updating authors: 100%|██████████| 100/100 [03:47<00:00,  2.27s/it]\n"
     ]
    },
    {
     "name": "stdout",
     "output_type": "stream",
     "text": [
      "Progress: 31,897/53,187 (60.0%)\n",
      "Success rate: 31897/33400 (95.5%)\n",
      "Posts per minute: 27.1\n",
      "Taking a 30-second break between batches...\n",
      "\n",
      "Processing batch 335/532\n"
     ]
    },
    {
     "name": "stderr",
     "output_type": "stream",
     "text": [
      "Updating authors:   8%|▊         | 8/100 [00:23<03:43,  2.43s/it]"
     ]
    },
    {
     "name": "stdout",
     "output_type": "stream",
     "text": [
      "  ❌ Error updating post lkzviy: 'Redditor' object has no attribute 'id'\n"
     ]
    },
    {
     "name": "stderr",
     "output_type": "stream",
     "text": [
      "Updating authors:  20%|██        | 20/100 [00:56<03:08,  2.36s/it]"
     ]
    },
    {
     "name": "stdout",
     "output_type": "stream",
     "text": [
      "  ❌ Error updating post lkve5l: 'Redditor' object has no attribute 'id'\n"
     ]
    },
    {
     "name": "stderr",
     "output_type": "stream",
     "text": [
      "Updating authors:  29%|██▉       | 29/100 [01:14<02:42,  2.29s/it]"
     ]
    },
    {
     "name": "stdout",
     "output_type": "stream",
     "text": [
      "  ❌ Error updating post lkse1l: 'Redditor' object has no attribute 'id'\n"
     ]
    },
    {
     "name": "stderr",
     "output_type": "stream",
     "text": [
      "Updating authors:  33%|███▎      | 33/100 [01:22<02:11,  1.97s/it]"
     ]
    },
    {
     "name": "stdout",
     "output_type": "stream",
     "text": [
      "  ❌ Error updating post lkqwr2: 'Redditor' object has no attribute 'id'\n"
     ]
    },
    {
     "name": "stderr",
     "output_type": "stream",
     "text": [
      "Updating authors:  64%|██████▍   | 64/100 [02:42<01:33,  2.59s/it]"
     ]
    },
    {
     "name": "stdout",
     "output_type": "stream",
     "text": [
      "  ❌ Error updating post lkicp4: 'Redditor' object has no attribute 'id'\n"
     ]
    },
    {
     "name": "stderr",
     "output_type": "stream",
     "text": [
      "Updating authors:  76%|███████▌  | 76/100 [03:22<01:11,  2.96s/it]"
     ]
    },
    {
     "name": "stdout",
     "output_type": "stream",
     "text": [
      "  ❌ Error updating post lkeqb3: 'Redditor' object has no attribute 'id'\n"
     ]
    },
    {
     "name": "stderr",
     "output_type": "stream",
     "text": [
      "Updating authors: 100%|██████████| 100/100 [04:30<00:00,  2.71s/it]\n"
     ]
    },
    {
     "name": "stdout",
     "output_type": "stream",
     "text": [
      "Progress: 31,991/53,187 (60.1%)\n",
      "Success rate: 31991/33500 (95.5%)\n",
      "Posts per minute: 27.0\n",
      "Taking a 30-second break between batches...\n",
      "\n",
      "Processing batch 336/532\n"
     ]
    },
    {
     "name": "stderr",
     "output_type": "stream",
     "text": [
      "Updating authors:   2%|▏         | 2/100 [00:03<03:20,  2.05s/it]"
     ]
    },
    {
     "name": "stdout",
     "output_type": "stream",
     "text": [
      "  ❌ Error updating post ljxt07: 'Redditor' object has no attribute 'id'\n"
     ]
    },
    {
     "name": "stderr",
     "output_type": "stream",
     "text": [
      "Updating authors:   9%|▉         | 9/100 [00:20<03:29,  2.30s/it]"
     ]
    },
    {
     "name": "stdout",
     "output_type": "stream",
     "text": [
      "  ❌ Error updating post ljwit2: 'Redditor' object has no attribute 'id'\n"
     ]
    },
    {
     "name": "stderr",
     "output_type": "stream",
     "text": [
      "Updating authors:  21%|██        | 21/100 [00:43<02:29,  1.89s/it]"
     ]
    },
    {
     "name": "stdout",
     "output_type": "stream",
     "text": [
      "  ❌ Error updating post lm6v24: 'Redditor' object has no attribute 'id'\n"
     ]
    },
    {
     "name": "stderr",
     "output_type": "stream",
     "text": [
      "Updating authors:  25%|██▌       | 25/100 [00:50<02:09,  1.73s/it]"
     ]
    },
    {
     "name": "stdout",
     "output_type": "stream",
     "text": [
      "  ❌ Error updating post lm6i4g: 'Redditor' object has no attribute 'id'\n"
     ]
    },
    {
     "name": "stderr",
     "output_type": "stream",
     "text": [
      "Updating authors:  31%|███       | 31/100 [01:00<02:05,  1.82s/it]"
     ]
    },
    {
     "name": "stdout",
     "output_type": "stream",
     "text": [
      "  ❌ Error updating post lm62wr: 'Redditor' object has no attribute 'id'\n"
     ]
    },
    {
     "name": "stderr",
     "output_type": "stream",
     "text": [
      "Updating authors:  47%|████▋     | 47/100 [01:34<01:54,  2.15s/it]"
     ]
    },
    {
     "name": "stdout",
     "output_type": "stream",
     "text": [
      "  ❌ Error updating post lm4mhy: 'Redditor' object has no attribute 'id'\n"
     ]
    },
    {
     "name": "stderr",
     "output_type": "stream",
     "text": [
      "Updating authors:  50%|█████     | 50/100 [01:41<01:54,  2.28s/it]"
     ]
    },
    {
     "name": "stdout",
     "output_type": "stream",
     "text": [
      "  ❌ Error updating post lm4krj: 'Redditor' object has no attribute 'id'\n"
     ]
    },
    {
     "name": "stderr",
     "output_type": "stream",
     "text": [
      "Updating authors:  78%|███████▊  | 78/100 [02:45<00:40,  1.83s/it]"
     ]
    },
    {
     "name": "stdout",
     "output_type": "stream",
     "text": [
      "  ❌ Error updating post lm1qqz: 'Redditor' object has no attribute 'id'\n"
     ]
    },
    {
     "name": "stderr",
     "output_type": "stream",
     "text": [
      "Updating authors: 100%|██████████| 100/100 [03:37<00:00,  2.17s/it]\n"
     ]
    },
    {
     "name": "stdout",
     "output_type": "stream",
     "text": [
      "Progress: 32,083/53,187 (60.3%)\n",
      "Success rate: 32083/33600 (95.5%)\n",
      "Posts per minute: 27.0\n",
      "Taking a 30-second break between batches...\n",
      "\n",
      "Processing batch 337/532\n"
     ]
    },
    {
     "name": "stderr",
     "output_type": "stream",
     "text": [
      "Updating authors:   2%|▏         | 2/100 [00:06<05:46,  3.54s/it]"
     ]
    },
    {
     "name": "stdout",
     "output_type": "stream",
     "text": [
      "  ❌ Error updating post lm0a7u: 'Redditor' object has no attribute 'id'\n"
     ]
    },
    {
     "name": "stderr",
     "output_type": "stream",
     "text": [
      "Updating authors:  30%|███       | 30/100 [01:08<02:20,  2.01s/it]"
     ]
    },
    {
     "name": "stdout",
     "output_type": "stream",
     "text": [
      "  ❌ Error updating post llwjc0: 'Redditor' object has no attribute 'id'\n"
     ]
    },
    {
     "name": "stderr",
     "output_type": "stream",
     "text": [
      "Updating authors: 100%|██████████| 100/100 [03:42<00:00,  2.22s/it]\n"
     ]
    },
    {
     "name": "stdout",
     "output_type": "stream",
     "text": [
      "Progress: 32,181/53,187 (60.5%)\n",
      "Success rate: 32181/33700 (95.5%)\n",
      "Posts per minute: 27.0\n",
      "Taking a 30-second break between batches...\n",
      "\n",
      "Processing batch 338/532\n"
     ]
    },
    {
     "name": "stderr",
     "output_type": "stream",
     "text": [
      "Updating authors:   6%|▌         | 6/100 [00:10<02:43,  1.74s/it]"
     ]
    },
    {
     "name": "stdout",
     "output_type": "stream",
     "text": [
      "  ❌ Error updating post lmoggb: 'Redditor' object has no attribute 'id'\n"
     ]
    },
    {
     "name": "stderr",
     "output_type": "stream",
     "text": [
      "Updating authors:  69%|██████▉   | 69/100 [02:28<00:54,  1.76s/it]"
     ]
    },
    {
     "name": "stdout",
     "output_type": "stream",
     "text": [
      "  ❌ Error updating post lmc0df: 'Redditor' object has no attribute 'id'\n"
     ]
    },
    {
     "name": "stderr",
     "output_type": "stream",
     "text": [
      "Updating authors:  87%|████████▋ | 87/100 [03:04<00:36,  2.83s/it]"
     ]
    },
    {
     "name": "stdout",
     "output_type": "stream",
     "text": [
      "  ❌ Error updating post lmaedn: 'Redditor' object has no attribute 'id'\n"
     ]
    },
    {
     "name": "stderr",
     "output_type": "stream",
     "text": [
      "Updating authors:  92%|█████████▏| 92/100 [03:13<00:16,  2.10s/it]"
     ]
    },
    {
     "name": "stdout",
     "output_type": "stream",
     "text": [
      "  ❌ Error updating post lma1ev: 'Redditor' object has no attribute 'id'\n"
     ]
    },
    {
     "name": "stderr",
     "output_type": "stream",
     "text": [
      "Updating authors:  98%|█████████▊| 98/100 [03:27<00:04,  2.40s/it]"
     ]
    },
    {
     "name": "stdout",
     "output_type": "stream",
     "text": [
      "  ❌ Error updating post lm9kcn: 'Redditor' object has no attribute 'id'\n"
     ]
    },
    {
     "name": "stderr",
     "output_type": "stream",
     "text": [
      "Updating authors: 100%|██████████| 100/100 [03:30<00:00,  2.10s/it]\n"
     ]
    },
    {
     "name": "stdout",
     "output_type": "stream",
     "text": [
      "Progress: 32,276/53,187 (60.7%)\n",
      "Success rate: 32276/33800 (95.5%)\n",
      "Posts per minute: 27.0\n",
      "Taking a 30-second break between batches...\n",
      "\n",
      "Processing batch 339/532\n"
     ]
    },
    {
     "name": "stderr",
     "output_type": "stream",
     "text": [
      "Updating authors:   7%|▋         | 7/100 [00:14<03:05,  1.99s/it]"
     ]
    },
    {
     "name": "stdout",
     "output_type": "stream",
     "text": [
      "  ❌ Error updating post lm8knp: received 404 HTTP response\n"
     ]
    },
    {
     "name": "stderr",
     "output_type": "stream",
     "text": [
      "Updating authors:  37%|███▋      | 37/100 [01:14<01:55,  1.83s/it]"
     ]
    },
    {
     "name": "stdout",
     "output_type": "stream",
     "text": [
      "  ❌ Error updating post lnaqvr: 'Redditor' object has no attribute 'id'\n"
     ]
    },
    {
     "name": "stderr",
     "output_type": "stream",
     "text": [
      "Updating authors:  38%|███▊      | 38/100 [01:16<01:51,  1.80s/it]"
     ]
    },
    {
     "name": "stdout",
     "output_type": "stream",
     "text": [
      "  ❌ Error updating post lnair9: 'Redditor' object has no attribute 'id'\n"
     ]
    },
    {
     "name": "stderr",
     "output_type": "stream",
     "text": [
      "Updating authors:  69%|██████▉   | 69/100 [02:14<00:56,  1.83s/it]"
     ]
    },
    {
     "name": "stdout",
     "output_type": "stream",
     "text": [
      "  ❌ Error updating post ln5iae: 'Redditor' object has no attribute 'id'\n"
     ]
    },
    {
     "name": "stderr",
     "output_type": "stream",
     "text": [
      "Updating authors:  82%|████████▏ | 82/100 [02:42<00:38,  2.12s/it]"
     ]
    },
    {
     "name": "stdout",
     "output_type": "stream",
     "text": [
      "  ❌ Error updating post ln4i8d: 'Redditor' object has no attribute 'id'\n"
     ]
    },
    {
     "name": "stderr",
     "output_type": "stream",
     "text": [
      "Updating authors: 100%|██████████| 100/100 [03:20<00:00,  2.00s/it]\n"
     ]
    },
    {
     "name": "stdout",
     "output_type": "stream",
     "text": [
      "Progress: 32,371/53,187 (60.9%)\n",
      "Success rate: 32371/33900 (95.5%)\n",
      "Posts per minute: 27.0\n",
      "Taking a 30-second break between batches...\n",
      "\n",
      "Processing batch 340/532\n"
     ]
    },
    {
     "name": "stderr",
     "output_type": "stream",
     "text": [
      "Updating authors:   1%|          | 1/100 [00:01<02:19,  1.40s/it]"
     ]
    },
    {
     "name": "stdout",
     "output_type": "stream",
     "text": [
      "  ❌ Error updating post ln3cch: 'Redditor' object has no attribute 'id'\n"
     ]
    },
    {
     "name": "stderr",
     "output_type": "stream",
     "text": [
      "Updating authors:   7%|▋         | 7/100 [00:11<02:33,  1.65s/it]"
     ]
    },
    {
     "name": "stdout",
     "output_type": "stream",
     "text": [
      "  ❌ Error updating post ln2y8v: 'Redditor' object has no attribute 'id'\n"
     ]
    },
    {
     "name": "stderr",
     "output_type": "stream",
     "text": [
      "Updating authors:  26%|██▌       | 26/100 [00:50<02:16,  1.84s/it]"
     ]
    },
    {
     "name": "stdout",
     "output_type": "stream",
     "text": [
      "  ❌ Error updating post ln221q: 'Redditor' object has no attribute 'id'\n"
     ]
    },
    {
     "name": "stderr",
     "output_type": "stream",
     "text": [
      "Updating authors:  36%|███▌      | 36/100 [01:10<02:07,  1.99s/it]"
     ]
    },
    {
     "name": "stdout",
     "output_type": "stream",
     "text": [
      "  ❌ Error updating post ln02jh: 'Redditor' object has no attribute 'id'\n"
     ]
    },
    {
     "name": "stderr",
     "output_type": "stream",
     "text": [
      "Updating authors:  49%|████▉     | 49/100 [01:40<01:46,  2.09s/it]"
     ]
    },
    {
     "name": "stdout",
     "output_type": "stream",
     "text": [
      "  ❌ Error updating post lmz1t6: 'Redditor' object has no attribute 'id'\n"
     ]
    },
    {
     "name": "stderr",
     "output_type": "stream",
     "text": [
      "Updating authors:  63%|██████▎   | 63/100 [02:15<01:36,  2.61s/it]"
     ]
    },
    {
     "name": "stdout",
     "output_type": "stream",
     "text": [
      "  ❌ Error updating post lmxto4: 'Redditor' object has no attribute 'id'\n"
     ]
    },
    {
     "name": "stderr",
     "output_type": "stream",
     "text": [
      "Updating authors: 100%|██████████| 100/100 [03:35<00:00,  2.15s/it]\n"
     ]
    },
    {
     "name": "stdout",
     "output_type": "stream",
     "text": [
      "Progress: 32,465/53,187 (61.0%)\n",
      "Success rate: 32465/34000 (95.5%)\n",
      "Posts per minute: 27.0\n",
      "Taking a 30-second break between batches...\n",
      "\n",
      "Processing batch 341/532\n"
     ]
    },
    {
     "name": "stderr",
     "output_type": "stream",
     "text": [
      "Updating authors:  10%|█         | 10/100 [00:26<03:13,  2.14s/it]"
     ]
    },
    {
     "name": "stdout",
     "output_type": "stream",
     "text": [
      "  ❌ Error updating post lmv6oc: 'Redditor' object has no attribute 'id'\n"
     ]
    },
    {
     "name": "stderr",
     "output_type": "stream",
     "text": [
      "Updating authors:  27%|██▋       | 27/100 [01:09<03:06,  2.55s/it]"
     ]
    },
    {
     "name": "stdout",
     "output_type": "stream",
     "text": [
      "  ❌ Error updating post lmuhv7: 'Redditor' object has no attribute 'id'\n"
     ]
    },
    {
     "name": "stderr",
     "output_type": "stream",
     "text": [
      "Updating authors:  33%|███▎      | 33/100 [01:20<02:00,  1.80s/it]"
     ]
    },
    {
     "name": "stdout",
     "output_type": "stream",
     "text": [
      "  ❌ Error updating post lmu4zl: 'Redditor' object has no attribute 'id'\n"
     ]
    },
    {
     "name": "stderr",
     "output_type": "stream",
     "text": [
      "Updating authors:  38%|███▊      | 38/100 [01:32<02:39,  2.57s/it]"
     ]
    },
    {
     "name": "stdout",
     "output_type": "stream",
     "text": [
      "  ❌ Error updating post lmtz4n: 'Redditor' object has no attribute 'id'\n"
     ]
    },
    {
     "name": "stderr",
     "output_type": "stream",
     "text": [
      "Updating authors:  43%|████▎     | 43/100 [01:45<02:09,  2.28s/it]"
     ]
    },
    {
     "name": "stdout",
     "output_type": "stream",
     "text": [
      "  ❌ Error updating post lmtqjw: 'Redditor' object has no attribute 'id'\n"
     ]
    },
    {
     "name": "stderr",
     "output_type": "stream",
     "text": [
      "Updating authors:  60%|██████    | 60/100 [02:35<01:46,  2.67s/it]"
     ]
    },
    {
     "name": "stdout",
     "output_type": "stream",
     "text": [
      "  ❌ Error updating post lmso6c: 'Redditor' object has no attribute 'id'\n"
     ]
    },
    {
     "name": "stderr",
     "output_type": "stream",
     "text": [
      "Updating authors:  72%|███████▏  | 72/100 [03:11<01:07,  2.42s/it]"
     ]
    },
    {
     "name": "stdout",
     "output_type": "stream",
     "text": [
      "  ❌ Error updating post lmruzp: 'Redditor' object has no attribute 'id'\n"
     ]
    },
    {
     "name": "stderr",
     "output_type": "stream",
     "text": [
      "Updating authors:  83%|████████▎ | 83/100 [03:40<00:45,  2.67s/it]"
     ]
    },
    {
     "name": "stdout",
     "output_type": "stream",
     "text": [
      "  ❌ Error updating post lmqms7: 'Redditor' object has no attribute 'id'\n"
     ]
    },
    {
     "name": "stderr",
     "output_type": "stream",
     "text": [
      "Updating authors:  95%|█████████▌| 95/100 [04:08<00:11,  2.33s/it]"
     ]
    },
    {
     "name": "stdout",
     "output_type": "stream",
     "text": [
      "  ❌ Error updating post lmpjh9: 'Redditor' object has no attribute 'id'\n"
     ]
    },
    {
     "name": "stderr",
     "output_type": "stream",
     "text": [
      "Updating authors: 100%|██████████| 100/100 [04:21<00:00,  2.61s/it]\n"
     ]
    },
    {
     "name": "stdout",
     "output_type": "stream",
     "text": [
      "Progress: 32,556/53,187 (61.2%)\n",
      "Success rate: 32556/34100 (95.5%)\n",
      "Posts per minute: 26.9\n",
      "Taking a 30-second break between batches...\n",
      "\n",
      "Processing batch 342/532\n"
     ]
    },
    {
     "name": "stderr",
     "output_type": "stream",
     "text": [
      "Updating authors:   7%|▋         | 7/100 [00:12<02:35,  1.67s/it]"
     ]
    },
    {
     "name": "stdout",
     "output_type": "stream",
     "text": [
      "  ❌ Error updating post lqc1db: 'Redditor' object has no attribute 'id'\n"
     ]
    },
    {
     "name": "stderr",
     "output_type": "stream",
     "text": [
      "Updating authors:  32%|███▏      | 32/100 [01:00<02:11,  1.93s/it]"
     ]
    },
    {
     "name": "stdout",
     "output_type": "stream",
     "text": [
      "  ❌ Error updating post lnu8o0: 'Redditor' object has no attribute 'id'\n"
     ]
    },
    {
     "name": "stderr",
     "output_type": "stream",
     "text": [
      "Updating authors:  35%|███▌      | 35/100 [01:05<01:53,  1.74s/it]"
     ]
    },
    {
     "name": "stdout",
     "output_type": "stream",
     "text": [
      "  ❌ Error updating post lnu2rg: 'Redditor' object has no attribute 'id'\n"
     ]
    },
    {
     "name": "stderr",
     "output_type": "stream",
     "text": [
      "Updating authors:  36%|███▌      | 36/100 [01:06<01:51,  1.74s/it]"
     ]
    },
    {
     "name": "stdout",
     "output_type": "stream",
     "text": [
      "  ❌ Error updating post lntyf0: 'Redditor' object has no attribute 'id'\n"
     ]
    },
    {
     "name": "stderr",
     "output_type": "stream",
     "text": [
      "Updating authors:  49%|████▉     | 49/100 [01:33<01:49,  2.14s/it]"
     ]
    },
    {
     "name": "stdout",
     "output_type": "stream",
     "text": [
      "  ❌ Error updating post lnsrvq: 'Redditor' object has no attribute 'id'\n"
     ]
    },
    {
     "name": "stderr",
     "output_type": "stream",
     "text": [
      "Updating authors:  63%|██████▎   | 63/100 [02:02<01:11,  1.94s/it]"
     ]
    },
    {
     "name": "stdout",
     "output_type": "stream",
     "text": [
      "  ❌ Error updating post lnrt1a: 'Redditor' object has no attribute 'id'\n"
     ]
    },
    {
     "name": "stderr",
     "output_type": "stream",
     "text": [
      "Updating authors:  70%|███████   | 70/100 [02:18<01:07,  2.27s/it]"
     ]
    },
    {
     "name": "stdout",
     "output_type": "stream",
     "text": [
      "  ❌ Error updating post lnrcel: 'Redditor' object has no attribute 'id'\n"
     ]
    },
    {
     "name": "stderr",
     "output_type": "stream",
     "text": [
      "Updating authors:  87%|████████▋ | 87/100 [02:56<00:24,  1.86s/it]"
     ]
    },
    {
     "name": "stdout",
     "output_type": "stream",
     "text": [
      "  ❌ Error updating post lnouvd: 'Redditor' object has no attribute 'id'\n"
     ]
    },
    {
     "name": "stderr",
     "output_type": "stream",
     "text": [
      "Updating authors: 100%|██████████| 100/100 [03:24<00:00,  2.04s/it]\n"
     ]
    },
    {
     "name": "stdout",
     "output_type": "stream",
     "text": [
      "Progress: 32,648/53,187 (61.4%)\n",
      "Success rate: 32648/34200 (95.5%)\n",
      "Posts per minute: 26.9\n",
      "Taking a 30-second break between batches...\n",
      "\n",
      "Processing batch 343/532\n"
     ]
    },
    {
     "name": "stderr",
     "output_type": "stream",
     "text": [
      "Updating authors:   4%|▍         | 4/100 [00:07<02:56,  1.84s/it]"
     ]
    },
    {
     "name": "stdout",
     "output_type": "stream",
     "text": [
      "  ❌ Error updating post lnna91: 'Redditor' object has no attribute 'id'\n"
     ]
    },
    {
     "name": "stderr",
     "output_type": "stream",
     "text": [
      "Updating authors:  36%|███▌      | 36/100 [01:15<02:40,  2.51s/it]"
     ]
    },
    {
     "name": "stdout",
     "output_type": "stream",
     "text": [
      "  ❌ Error updating post lnkmvu: 'Redditor' object has no attribute 'id'\n"
     ]
    },
    {
     "name": "stderr",
     "output_type": "stream",
     "text": [
      "Updating authors:  37%|███▋      | 37/100 [01:17<02:31,  2.41s/it]"
     ]
    },
    {
     "name": "stdout",
     "output_type": "stream",
     "text": [
      "  ❌ Error updating post lnkjh0: 'Redditor' object has no attribute 'id'\n"
     ]
    },
    {
     "name": "stderr",
     "output_type": "stream",
     "text": [
      "Updating authors:  83%|████████▎ | 83/100 [02:57<00:49,  2.92s/it]"
     ]
    },
    {
     "name": "stdout",
     "output_type": "stream",
     "text": [
      "  ❌ Error updating post lnfh3v: 'Redditor' object has no attribute 'id'\n"
     ]
    },
    {
     "name": "stderr",
     "output_type": "stream",
     "text": [
      "Updating authors: 100%|██████████| 100/100 [03:50<00:00,  2.30s/it]\n"
     ]
    },
    {
     "name": "stdout",
     "output_type": "stream",
     "text": [
      "Progress: 32,744/53,187 (61.6%)\n",
      "Success rate: 32744/34300 (95.5%)\n",
      "Posts per minute: 26.9\n",
      "Taking a 30-second break between batches...\n",
      "\n",
      "Processing batch 344/532\n"
     ]
    },
    {
     "name": "stderr",
     "output_type": "stream",
     "text": [
      "Updating authors:  14%|█▍        | 14/100 [00:31<03:43,  2.60s/it]"
     ]
    },
    {
     "name": "stdout",
     "output_type": "stream",
     "text": [
      "  ❌ Error updating post lq09e9: 'Redditor' object has no attribute 'id'\n"
     ]
    },
    {
     "name": "stderr",
     "output_type": "stream",
     "text": [
      "Updating authors:  19%|█▉        | 19/100 [00:41<02:52,  2.13s/it]"
     ]
    },
    {
     "name": "stdout",
     "output_type": "stream",
     "text": [
      "  ❌ Error updating post lpzt4f: 'Redditor' object has no attribute 'id'\n"
     ]
    },
    {
     "name": "stderr",
     "output_type": "stream",
     "text": [
      "Updating authors:  29%|██▉       | 29/100 [01:03<02:23,  2.03s/it]"
     ]
    },
    {
     "name": "stdout",
     "output_type": "stream",
     "text": [
      "  ❌ Error updating post lpz6sy: 'Redditor' object has no attribute 'id'\n"
     ]
    },
    {
     "name": "stderr",
     "output_type": "stream",
     "text": [
      "Updating authors:  32%|███▏      | 32/100 [01:09<02:15,  1.99s/it]"
     ]
    },
    {
     "name": "stdout",
     "output_type": "stream",
     "text": [
      "  ❌ Error updating post lpz4i1: 'Redditor' object has no attribute 'id'\n"
     ]
    },
    {
     "name": "stderr",
     "output_type": "stream",
     "text": [
      "Updating authors:  47%|████▋     | 47/100 [01:42<01:50,  2.09s/it]"
     ]
    },
    {
     "name": "stdout",
     "output_type": "stream",
     "text": [
      "  ❌ Error updating post lpy7br: 'Redditor' object has no attribute 'id'\n"
     ]
    },
    {
     "name": "stderr",
     "output_type": "stream",
     "text": [
      "Updating authors:  55%|█████▌    | 55/100 [01:57<01:24,  1.89s/it]"
     ]
    },
    {
     "name": "stdout",
     "output_type": "stream",
     "text": [
      "  ❌ Error updating post lpxqco: 'Redditor' object has no attribute 'id'\n"
     ]
    },
    {
     "name": "stderr",
     "output_type": "stream",
     "text": [
      "Updating authors:  58%|█████▊    | 58/100 [02:04<01:47,  2.57s/it]"
     ]
    },
    {
     "name": "stdout",
     "output_type": "stream",
     "text": [
      "  ❌ Error updating post lpxk1a: 'Redditor' object has no attribute 'id'\n"
     ]
    },
    {
     "name": "stderr",
     "output_type": "stream",
     "text": [
      "Updating authors:  62%|██████▏   | 62/100 [02:11<01:11,  1.89s/it]"
     ]
    },
    {
     "name": "stdout",
     "output_type": "stream",
     "text": [
      "  ❌ Error updating post lpxb2s: 'Redditor' object has no attribute 'id'\n"
     ]
    },
    {
     "name": "stderr",
     "output_type": "stream",
     "text": [
      "Updating authors:  75%|███████▌  | 75/100 [02:38<00:58,  2.34s/it]"
     ]
    },
    {
     "name": "stdout",
     "output_type": "stream",
     "text": [
      "  ❌ Error updating post lpwe34: 'Redditor' object has no attribute 'id'\n"
     ]
    },
    {
     "name": "stderr",
     "output_type": "stream",
     "text": [
      "Updating authors:  76%|███████▌  | 76/100 [02:39<00:52,  2.17s/it]"
     ]
    },
    {
     "name": "stdout",
     "output_type": "stream",
     "text": [
      "  ❌ Error updating post lpwcoi: 'Redditor' object has no attribute 'id'\n"
     ]
    },
    {
     "name": "stderr",
     "output_type": "stream",
     "text": [
      "Updating authors: 100%|██████████| 100/100 [03:31<00:00,  2.11s/it]\n"
     ]
    },
    {
     "name": "stdout",
     "output_type": "stream",
     "text": [
      "Progress: 32,834/53,187 (61.7%)\n",
      "Success rate: 32834/34400 (95.4%)\n",
      "Posts per minute: 26.9\n",
      "Taking a 30-second break between batches...\n",
      "\n",
      "Processing batch 345/532\n"
     ]
    },
    {
     "name": "stderr",
     "output_type": "stream",
     "text": [
      "Updating authors:  13%|█▎        | 13/100 [00:30<03:02,  2.10s/it]"
     ]
    },
    {
     "name": "stdout",
     "output_type": "stream",
     "text": [
      "  ❌ Error updating post lpsakc: 'Redditor' object has no attribute 'id'\n"
     ]
    },
    {
     "name": "stderr",
     "output_type": "stream",
     "text": [
      "Updating authors:  65%|██████▌   | 65/100 [02:35<01:15,  2.17s/it]"
     ]
    },
    {
     "name": "stdout",
     "output_type": "stream",
     "text": [
      "  ❌ Error updating post lpfe6h: 'Redditor' object has no attribute 'id'\n"
     ]
    },
    {
     "name": "stderr",
     "output_type": "stream",
     "text": [
      "Updating authors:  80%|████████  | 80/100 [03:09<00:56,  2.82s/it]"
     ]
    },
    {
     "name": "stdout",
     "output_type": "stream",
     "text": [
      "  ❌ Error updating post lpdni5: 'Redditor' object has no attribute 'id'\n"
     ]
    },
    {
     "name": "stderr",
     "output_type": "stream",
     "text": [
      "Updating authors: 100%|██████████| 100/100 [04:07<00:00,  2.48s/it]\n"
     ]
    },
    {
     "name": "stdout",
     "output_type": "stream",
     "text": [
      "Progress: 32,931/53,187 (61.9%)\n",
      "Success rate: 32931/34500 (95.5%)\n",
      "Posts per minute: 26.9\n",
      "Taking a 30-second break between batches...\n",
      "\n",
      "Processing batch 346/532\n"
     ]
    },
    {
     "name": "stderr",
     "output_type": "stream",
     "text": [
      "Updating authors:  20%|██        | 20/100 [00:43<02:35,  1.94s/it]"
     ]
    },
    {
     "name": "stdout",
     "output_type": "stream",
     "text": [
      "  ❌ Error updating post lp53gs: 'Redditor' object has no attribute 'id'\n"
     ]
    },
    {
     "name": "stderr",
     "output_type": "stream",
     "text": [
      "Updating authors:  26%|██▌       | 26/100 [00:57<02:54,  2.36s/it]"
     ]
    },
    {
     "name": "stdout",
     "output_type": "stream",
     "text": [
      "  ❌ Error updating post lp4460: 'Redditor' object has no attribute 'id'\n"
     ]
    },
    {
     "name": "stderr",
     "output_type": "stream",
     "text": [
      "Updating authors:  30%|███       | 30/100 [01:07<03:04,  2.64s/it]"
     ]
    },
    {
     "name": "stdout",
     "output_type": "stream",
     "text": [
      "  ❌ Error updating post lp3lhd: received 404 HTTP response\n"
     ]
    },
    {
     "name": "stderr",
     "output_type": "stream",
     "text": [
      "Updating authors:  34%|███▍      | 34/100 [01:20<03:16,  2.97s/it]"
     ]
    },
    {
     "name": "stdout",
     "output_type": "stream",
     "text": [
      "  ❌ Error updating post lp1z24: 'Redditor' object has no attribute 'id'\n"
     ]
    },
    {
     "name": "stderr",
     "output_type": "stream",
     "text": [
      "Updating authors:  48%|████▊     | 48/100 [01:54<02:07,  2.45s/it]"
     ]
    },
    {
     "name": "stdout",
     "output_type": "stream",
     "text": [
      "  ❌ Error updating post lozxoe: 'Redditor' object has no attribute 'id'\n"
     ]
    },
    {
     "name": "stderr",
     "output_type": "stream",
     "text": [
      "Updating authors:  60%|██████    | 60/100 [02:22<01:29,  2.25s/it]"
     ]
    },
    {
     "name": "stdout",
     "output_type": "stream",
     "text": [
      "  ❌ Error updating post loy3rp: 'Redditor' object has no attribute 'id'\n"
     ]
    },
    {
     "name": "stderr",
     "output_type": "stream",
     "text": [
      "Updating authors:  79%|███████▉  | 79/100 [03:15<00:41,  1.99s/it]"
     ]
    },
    {
     "name": "stdout",
     "output_type": "stream",
     "text": [
      "  ❌ Error updating post lophtd: 'Redditor' object has no attribute 'id'\n"
     ]
    },
    {
     "name": "stderr",
     "output_type": "stream",
     "text": [
      "Updating authors:  92%|█████████▏| 92/100 [03:50<00:25,  3.17s/it]"
     ]
    },
    {
     "name": "stdout",
     "output_type": "stream",
     "text": [
      "  ❌ Error updating post lonn59: 'Redditor' object has no attribute 'id'\n"
     ]
    },
    {
     "name": "stderr",
     "output_type": "stream",
     "text": [
      "Updating authors:  96%|█████████▌| 96/100 [03:58<00:08,  2.23s/it]"
     ]
    },
    {
     "name": "stdout",
     "output_type": "stream",
     "text": [
      "  ❌ Error updating post lon0oc: 'Redditor' object has no attribute 'id'\n"
     ]
    },
    {
     "name": "stderr",
     "output_type": "stream",
     "text": [
      "Updating authors: 100%|██████████| 100/100 [04:06<00:00,  2.47s/it]\n"
     ]
    },
    {
     "name": "stdout",
     "output_type": "stream",
     "text": [
      "Progress: 33,022/53,187 (62.1%)\n",
      "Success rate: 33022/34600 (95.4%)\n",
      "Posts per minute: 26.8\n",
      "Taking a 30-second break between batches...\n",
      "\n",
      "Processing batch 347/532\n"
     ]
    },
    {
     "name": "stderr",
     "output_type": "stream",
     "text": [
      "Updating authors:   5%|▌         | 5/100 [00:10<03:19,  2.10s/it]"
     ]
    },
    {
     "name": "stdout",
     "output_type": "stream",
     "text": [
      "  ❌ Error updating post loleca: 'Redditor' object has no attribute 'id'\n"
     ]
    },
    {
     "name": "stderr",
     "output_type": "stream",
     "text": [
      "Updating authors:  12%|█▏        | 12/100 [00:31<03:31,  2.40s/it]"
     ]
    },
    {
     "name": "stdout",
     "output_type": "stream",
     "text": [
      "  ❌ Error updating post lojyok: 'Redditor' object has no attribute 'id'\n"
     ]
    },
    {
     "name": "stderr",
     "output_type": "stream",
     "text": [
      "Updating authors:  26%|██▌       | 26/100 [01:06<02:39,  2.16s/it]"
     ]
    },
    {
     "name": "stdout",
     "output_type": "stream",
     "text": [
      "  ❌ Error updating post lohyug: 'Redditor' object has no attribute 'id'\n"
     ]
    },
    {
     "name": "stderr",
     "output_type": "stream",
     "text": [
      "Updating authors:  28%|██▊       | 28/100 [01:11<02:45,  2.30s/it]"
     ]
    },
    {
     "name": "stdout",
     "output_type": "stream",
     "text": [
      "  ❌ Error updating post lohkev: 'Redditor' object has no attribute 'id'\n"
     ]
    },
    {
     "name": "stderr",
     "output_type": "stream",
     "text": [
      "Updating authors:  30%|███       | 30/100 [01:15<02:31,  2.17s/it]"
     ]
    },
    {
     "name": "stdout",
     "output_type": "stream",
     "text": [
      "  ❌ Error updating post lohdsd: 'Redditor' object has no attribute 'id'\n"
     ]
    },
    {
     "name": "stderr",
     "output_type": "stream",
     "text": [
      "Updating authors:  48%|████▊     | 48/100 [01:57<02:13,  2.56s/it]"
     ]
    },
    {
     "name": "stdout",
     "output_type": "stream",
     "text": [
      "  ❌ Error updating post lofcvf: 'Redditor' object has no attribute 'id'\n"
     ]
    },
    {
     "name": "stderr",
     "output_type": "stream",
     "text": [
      "Updating authors:  50%|█████     | 50/100 [02:00<01:45,  2.11s/it]"
     ]
    },
    {
     "name": "stdout",
     "output_type": "stream",
     "text": [
      "  ❌ Error updating post lof22a: 'Redditor' object has no attribute 'id'\n"
     ]
    },
    {
     "name": "stderr",
     "output_type": "stream",
     "text": [
      "Updating authors:  58%|█████▊    | 58/100 [02:17<01:20,  1.93s/it]"
     ]
    },
    {
     "name": "stdout",
     "output_type": "stream",
     "text": [
      "  ❌ Error updating post lodgzv: 'Redditor' object has no attribute 'id'\n"
     ]
    },
    {
     "name": "stderr",
     "output_type": "stream",
     "text": [
      "Updating authors:  94%|█████████▍| 94/100 [03:40<00:14,  2.39s/it]"
     ]
    },
    {
     "name": "stdout",
     "output_type": "stream",
     "text": [
      "  ❌ Error updating post lo9de5: 'Redditor' object has no attribute 'id'\n"
     ]
    },
    {
     "name": "stderr",
     "output_type": "stream",
     "text": [
      "Updating authors:  95%|█████████▌| 95/100 [03:42<00:11,  2.23s/it]"
     ]
    },
    {
     "name": "stdout",
     "output_type": "stream",
     "text": [
      "  ❌ Error updating post lo8vms: 'Redditor' object has no attribute 'id'\n"
     ]
    },
    {
     "name": "stderr",
     "output_type": "stream",
     "text": [
      "Updating authors: 100%|██████████| 100/100 [03:56<00:00,  2.36s/it]\n"
     ]
    },
    {
     "name": "stdout",
     "output_type": "stream",
     "text": [
      "Progress: 33,112/53,187 (62.3%)\n",
      "Success rate: 33112/34700 (95.4%)\n",
      "Posts per minute: 26.8\n",
      "Taking a 30-second break between batches...\n",
      "\n",
      "Processing batch 348/532\n"
     ]
    },
    {
     "name": "stderr",
     "output_type": "stream",
     "text": [
      "Updating authors:   3%|▎         | 3/100 [00:05<02:57,  1.83s/it]"
     ]
    },
    {
     "name": "stdout",
     "output_type": "stream",
     "text": [
      "  ❌ Error updating post lo7cx4: 'Redditor' object has no attribute 'id'\n"
     ]
    },
    {
     "name": "stderr",
     "output_type": "stream",
     "text": [
      "Updating authors:  19%|█▉        | 19/100 [00:47<03:17,  2.44s/it]"
     ]
    },
    {
     "name": "stdout",
     "output_type": "stream",
     "text": [
      "  ❌ Error updating post lo3t6e: 'Redditor' object has no attribute 'id'\n"
     ]
    },
    {
     "name": "stderr",
     "output_type": "stream",
     "text": [
      "Updating authors:  46%|████▌     | 46/100 [01:46<01:40,  1.86s/it]"
     ]
    },
    {
     "name": "stdout",
     "output_type": "stream",
     "text": [
      "  ❌ Error updating post lnzkzm: 'Redditor' object has no attribute 'id'\n"
     ]
    },
    {
     "name": "stderr",
     "output_type": "stream",
     "text": [
      "Updating authors:  47%|████▋     | 47/100 [01:48<01:37,  1.84s/it]"
     ]
    },
    {
     "name": "stdout",
     "output_type": "stream",
     "text": [
      "  ❌ Error updating post lnzhdc: 'Redditor' object has no attribute 'id'\n"
     ]
    },
    {
     "name": "stderr",
     "output_type": "stream",
     "text": [
      "Updating authors: 100%|██████████| 100/100 [03:44<00:00,  2.24s/it]\n"
     ]
    },
    {
     "name": "stdout",
     "output_type": "stream",
     "text": [
      "Progress: 33,208/53,187 (62.4%)\n",
      "Success rate: 33208/34800 (95.4%)\n",
      "Posts per minute: 26.8\n",
      "Taking a 30-second break between batches...\n",
      "\n",
      "Processing batch 349/532\n"
     ]
    },
    {
     "name": "stderr",
     "output_type": "stream",
     "text": [
      "Updating authors:   0%|          | 0/100 [00:00<?, ?it/s]"
     ]
    },
    {
     "name": "stdout",
     "output_type": "stream",
     "text": [
      "  ❌ Error updating post lrs9el: 'Redditor' object has no attribute 'id'\n"
     ]
    },
    {
     "name": "stderr",
     "output_type": "stream",
     "text": [
      "Updating authors:  32%|███▏      | 32/100 [01:18<02:33,  2.25s/it]"
     ]
    },
    {
     "name": "stdout",
     "output_type": "stream",
     "text": [
      "  ❌ Error updating post lrqx0z: 'Redditor' object has no attribute 'id'\n"
     ]
    },
    {
     "name": "stderr",
     "output_type": "stream",
     "text": [
      "Updating authors:  71%|███████   | 71/100 [02:46<00:58,  2.01s/it]"
     ]
    },
    {
     "name": "stdout",
     "output_type": "stream",
     "text": [
      "  ❌ Error updating post lrp5kv: 'Redditor' object has no attribute 'id'\n"
     ]
    },
    {
     "name": "stderr",
     "output_type": "stream",
     "text": [
      "Updating authors: 100%|██████████| 100/100 [03:42<00:00,  2.23s/it]\n"
     ]
    },
    {
     "name": "stdout",
     "output_type": "stream",
     "text": [
      "Progress: 33,305/53,187 (62.6%)\n",
      "Success rate: 33305/34900 (95.4%)\n",
      "Posts per minute: 26.8\n",
      "Taking a 30-second break between batches...\n",
      "\n",
      "Processing batch 350/532\n"
     ]
    },
    {
     "name": "stderr",
     "output_type": "stream",
     "text": [
      "Updating authors:  16%|█▌        | 16/100 [00:30<03:19,  2.37s/it]"
     ]
    },
    {
     "name": "stdout",
     "output_type": "stream",
     "text": [
      "  ❌ Error updating post lrohmj: 'Redditor' object has no attribute 'id'\n"
     ]
    },
    {
     "name": "stderr",
     "output_type": "stream",
     "text": [
      "Updating authors:  36%|███▌      | 36/100 [01:10<01:52,  1.75s/it]"
     ]
    },
    {
     "name": "stdout",
     "output_type": "stream",
     "text": [
      "  ❌ Error updating post lrocqh: 'Redditor' object has no attribute 'id'\n"
     ]
    },
    {
     "name": "stderr",
     "output_type": "stream",
     "text": [
      "Updating authors:  37%|███▋      | 37/100 [01:13<02:12,  2.11s/it]"
     ]
    },
    {
     "name": "stdout",
     "output_type": "stream",
     "text": [
      "  ❌ Error updating post lroekk: 'Redditor' object has no attribute 'id'\n"
     ]
    },
    {
     "name": "stderr",
     "output_type": "stream",
     "text": [
      "Updating authors:  66%|██████▌   | 66/100 [02:06<01:17,  2.29s/it]"
     ]
    },
    {
     "name": "stdout",
     "output_type": "stream",
     "text": [
      "  ❌ Error updating post lroa8t: 'Redditor' object has no attribute 'id'\n"
     ]
    },
    {
     "name": "stderr",
     "output_type": "stream",
     "text": [
      "Updating authors:  68%|██████▊   | 68/100 [02:10<01:04,  2.02s/it]"
     ]
    },
    {
     "name": "stdout",
     "output_type": "stream",
     "text": [
      "  ❌ Error updating post lro9hy: 'Redditor' object has no attribute 'id'\n"
     ]
    },
    {
     "name": "stderr",
     "output_type": "stream",
     "text": [
      "Updating authors:  70%|███████   | 70/100 [02:14<01:03,  2.10s/it]"
     ]
    },
    {
     "name": "stdout",
     "output_type": "stream",
     "text": [
      "  ❌ Error updating post lro8he: 'Redditor' object has no attribute 'id'\n"
     ]
    },
    {
     "name": "stderr",
     "output_type": "stream",
     "text": [
      "Updating authors:  76%|███████▌  | 76/100 [02:27<00:46,  1.94s/it]"
     ]
    },
    {
     "name": "stdout",
     "output_type": "stream",
     "text": [
      "  ❌ Error updating post lro7jp: 'Redditor' object has no attribute 'id'\n"
     ]
    },
    {
     "name": "stderr",
     "output_type": "stream",
     "text": [
      "Updating authors:  92%|█████████▏| 92/100 [02:57<00:13,  1.64s/it]"
     ]
    },
    {
     "name": "stdout",
     "output_type": "stream",
     "text": [
      "  ❌ Error updating post lro3ag: 'Redditor' object has no attribute 'id'\n"
     ]
    },
    {
     "name": "stderr",
     "output_type": "stream",
     "text": [
      "Updating authors: 100%|██████████| 100/100 [03:19<00:00,  2.00s/it]\n"
     ]
    },
    {
     "name": "stdout",
     "output_type": "stream",
     "text": [
      "Progress: 33,397/53,187 (62.8%)\n",
      "Success rate: 33397/35000 (95.4%)\n",
      "Posts per minute: 26.8\n",
      "Taking a 30-second break between batches...\n",
      "\n",
      "Processing batch 351/532\n"
     ]
    },
    {
     "name": "stderr",
     "output_type": "stream",
     "text": [
      "Updating authors:  54%|█████▍    | 54/100 [02:15<01:40,  2.19s/it]"
     ]
    },
    {
     "name": "stdout",
     "output_type": "stream",
     "text": [
      "  ❌ Error updating post lrksbz: 'Redditor' object has no attribute 'id'\n"
     ]
    },
    {
     "name": "stderr",
     "output_type": "stream",
     "text": [
      "Updating authors:  66%|██████▌   | 66/100 [02:38<00:58,  1.73s/it]"
     ]
    },
    {
     "name": "stdout",
     "output_type": "stream",
     "text": [
      "  ❌ Error updating post lrjc25: 'Redditor' object has no attribute 'id'\n"
     ]
    },
    {
     "name": "stderr",
     "output_type": "stream",
     "text": [
      "Updating authors:  71%|███████   | 71/100 [02:47<00:52,  1.81s/it]"
     ]
    },
    {
     "name": "stdout",
     "output_type": "stream",
     "text": [
      "  ❌ Error updating post lriu6o: 'Redditor' object has no attribute 'id'\n"
     ]
    },
    {
     "name": "stderr",
     "output_type": "stream",
     "text": [
      "Updating authors:  72%|███████▏  | 72/100 [02:49<00:50,  1.82s/it]"
     ]
    },
    {
     "name": "stdout",
     "output_type": "stream",
     "text": [
      "  ❌ Error updating post lriu56: 'Redditor' object has no attribute 'id'\n"
     ]
    },
    {
     "name": "stderr",
     "output_type": "stream",
     "text": [
      "Updating authors:  73%|███████▎  | 73/100 [02:51<00:49,  1.83s/it]"
     ]
    },
    {
     "name": "stdout",
     "output_type": "stream",
     "text": [
      "  ❌ Error updating post lrirj0: 'Redditor' object has no attribute 'id'\n"
     ]
    },
    {
     "name": "stderr",
     "output_type": "stream",
     "text": [
      "Updating authors:  81%|████████  | 81/100 [03:04<00:32,  1.70s/it]"
     ]
    },
    {
     "name": "stdout",
     "output_type": "stream",
     "text": [
      "  ❌ Error updating post lrhfih: 'Redditor' object has no attribute 'id'\n"
     ]
    },
    {
     "name": "stderr",
     "output_type": "stream",
     "text": [
      "Updating authors:  88%|████████▊ | 88/100 [03:16<00:19,  1.64s/it]"
     ]
    },
    {
     "name": "stdout",
     "output_type": "stream",
     "text": [
      "  ❌ Error updating post lrgggk: 'Redditor' object has no attribute 'id'\n"
     ]
    },
    {
     "name": "stderr",
     "output_type": "stream",
     "text": [
      "Updating authors: 100%|██████████| 100/100 [03:41<00:00,  2.22s/it]\n"
     ]
    },
    {
     "name": "stdout",
     "output_type": "stream",
     "text": [
      "Progress: 33,490/53,187 (63.0%)\n",
      "Success rate: 33490/35100 (95.4%)\n",
      "Posts per minute: 26.8\n",
      "Taking a 30-second break between batches...\n",
      "\n",
      "Processing batch 352/532\n"
     ]
    },
    {
     "name": "stderr",
     "output_type": "stream",
     "text": [
      "Updating authors:  24%|██▍       | 24/100 [00:59<02:29,  1.96s/it]"
     ]
    },
    {
     "name": "stdout",
     "output_type": "stream",
     "text": [
      "  ❌ Error updating post lrcnm1: 'Redditor' object has no attribute 'id'\n"
     ]
    },
    {
     "name": "stderr",
     "output_type": "stream",
     "text": [
      "Updating authors:  46%|████▌     | 46/100 [01:57<02:48,  3.12s/it]"
     ]
    },
    {
     "name": "stdout",
     "output_type": "stream",
     "text": [
      "  ❌ Error updating post lr6mp1: 'Redditor' object has no attribute 'id'\n"
     ]
    },
    {
     "name": "stderr",
     "output_type": "stream",
     "text": [
      "Updating authors:  54%|█████▍    | 54/100 [02:17<01:48,  2.35s/it]"
     ]
    },
    {
     "name": "stdout",
     "output_type": "stream",
     "text": [
      "  ❌ Error updating post lr5oof: 'Redditor' object has no attribute 'id'\n"
     ]
    },
    {
     "name": "stderr",
     "output_type": "stream",
     "text": [
      "Updating authors:  57%|█████▋    | 57/100 [02:24<01:45,  2.46s/it]"
     ]
    },
    {
     "name": "stdout",
     "output_type": "stream",
     "text": [
      "  ❌ Error updating post lr4rh9: 'Redditor' object has no attribute 'id'\n"
     ]
    },
    {
     "name": "stderr",
     "output_type": "stream",
     "text": [
      "Updating authors:  66%|██████▌   | 66/100 [02:45<01:12,  2.12s/it]"
     ]
    },
    {
     "name": "stdout",
     "output_type": "stream",
     "text": [
      "  ❌ Error updating post lr2bbj: 'Redditor' object has no attribute 'id'\n"
     ]
    },
    {
     "name": "stderr",
     "output_type": "stream",
     "text": [
      "Updating authors:  68%|██████▊   | 68/100 [02:50<01:10,  2.20s/it]"
     ]
    },
    {
     "name": "stdout",
     "output_type": "stream",
     "text": [
      "  ❌ Error updating post lr22ts: 'Redditor' object has no attribute 'id'\n"
     ]
    },
    {
     "name": "stderr",
     "output_type": "stream",
     "text": [
      "Updating authors:  70%|███████   | 70/100 [02:53<00:58,  1.94s/it]"
     ]
    },
    {
     "name": "stdout",
     "output_type": "stream",
     "text": [
      "  ❌ Error updating post lr205a: 'Redditor' object has no attribute 'id'\n"
     ]
    },
    {
     "name": "stderr",
     "output_type": "stream",
     "text": [
      "Updating authors: 100%|██████████| 100/100 [03:57<00:00,  2.37s/it]\n"
     ]
    },
    {
     "name": "stdout",
     "output_type": "stream",
     "text": [
      "Progress: 33,583/53,187 (63.1%)\n",
      "Success rate: 33583/35200 (95.4%)\n",
      "Posts per minute: 26.8\n",
      "Taking a 30-second break between batches...\n",
      "\n",
      "Processing batch 353/532\n"
     ]
    },
    {
     "name": "stderr",
     "output_type": "stream",
     "text": [
      "Updating authors:   2%|▏         | 2/100 [00:03<02:44,  1.68s/it]"
     ]
    },
    {
     "name": "stdout",
     "output_type": "stream",
     "text": [
      "  ❌ Error updating post lqw2ki: 'Redditor' object has no attribute 'id'\n"
     ]
    },
    {
     "name": "stderr",
     "output_type": "stream",
     "text": [
      "Updating authors:   3%|▎         | 3/100 [00:04<02:41,  1.66s/it]"
     ]
    },
    {
     "name": "stdout",
     "output_type": "stream",
     "text": [
      "  ❌ Error updating post lqvw5r: 'Redditor' object has no attribute 'id'\n"
     ]
    },
    {
     "name": "stderr",
     "output_type": "stream",
     "text": [
      "Updating authors:  15%|█▌        | 15/100 [00:33<02:49,  2.00s/it]"
     ]
    },
    {
     "name": "stdout",
     "output_type": "stream",
     "text": [
      "  ❌ Error updating post lquh4t: received 404 HTTP response\n"
     ]
    },
    {
     "name": "stderr",
     "output_type": "stream",
     "text": [
      "Updating authors:  16%|█▌        | 16/100 [00:35<02:45,  1.97s/it]"
     ]
    },
    {
     "name": "stdout",
     "output_type": "stream",
     "text": [
      "  ❌ Error updating post lqucfk: 'Redditor' object has no attribute 'id'\n"
     ]
    },
    {
     "name": "stderr",
     "output_type": "stream",
     "text": [
      "Updating authors:  32%|███▏      | 32/100 [01:06<02:08,  1.89s/it]"
     ]
    },
    {
     "name": "stdout",
     "output_type": "stream",
     "text": [
      "  ❌ Error updating post lqt1sn: 'Redditor' object has no attribute 'id'\n"
     ]
    },
    {
     "name": "stderr",
     "output_type": "stream",
     "text": [
      "Updating authors:  47%|████▋     | 47/100 [01:37<01:31,  1.72s/it]"
     ]
    },
    {
     "name": "stdout",
     "output_type": "stream",
     "text": [
      "  ❌ Error updating post lqsgnn: 'Redditor' object has no attribute 'id'\n"
     ]
    },
    {
     "name": "stderr",
     "output_type": "stream",
     "text": [
      "Updating authors:  53%|█████▎    | 53/100 [01:49<01:32,  1.98s/it]"
     ]
    },
    {
     "name": "stdout",
     "output_type": "stream",
     "text": [
      "  ❌ Error updating post lqrs3a: received 404 HTTP response\n"
     ]
    },
    {
     "name": "stderr",
     "output_type": "stream",
     "text": [
      "Updating authors:  80%|████████  | 80/100 [02:41<00:33,  1.67s/it]"
     ]
    },
    {
     "name": "stdout",
     "output_type": "stream",
     "text": [
      "  ❌ Error updating post lqoyst: 'Redditor' object has no attribute 'id'\n"
     ]
    },
    {
     "name": "stderr",
     "output_type": "stream",
     "text": [
      "Updating authors: 100%|██████████| 100/100 [03:28<00:00,  2.09s/it]\n"
     ]
    },
    {
     "name": "stdout",
     "output_type": "stream",
     "text": [
      "Progress: 33,675/53,187 (63.3%)\n",
      "Success rate: 33675/35300 (95.4%)\n",
      "Posts per minute: 26.7\n",
      "Taking a 30-second break between batches...\n",
      "\n",
      "Processing batch 354/532\n"
     ]
    },
    {
     "name": "stderr",
     "output_type": "stream",
     "text": [
      "Updating authors:  25%|██▌       | 25/100 [00:52<03:21,  2.69s/it]"
     ]
    },
    {
     "name": "stdout",
     "output_type": "stream",
     "text": [
      "  ❌ Error updating post lql6gb: 'Redditor' object has no attribute 'id'\n"
     ]
    },
    {
     "name": "stderr",
     "output_type": "stream",
     "text": [
      "Updating authors:  34%|███▍      | 34/100 [01:15<02:56,  2.68s/it]"
     ]
    },
    {
     "name": "stdout",
     "output_type": "stream",
     "text": [
      "  ❌ Error updating post lqko3v: 'Redditor' object has no attribute 'id'\n"
     ]
    },
    {
     "name": "stderr",
     "output_type": "stream",
     "text": [
      "Updating authors:  43%|████▎     | 43/100 [01:32<01:45,  1.84s/it]"
     ]
    },
    {
     "name": "stdout",
     "output_type": "stream",
     "text": [
      "  ❌ Error updating post lqk1ho: 'Redditor' object has no attribute 'id'\n"
     ]
    },
    {
     "name": "stderr",
     "output_type": "stream",
     "text": [
      "Updating authors:  89%|████████▉ | 89/100 [03:20<00:20,  1.89s/it]"
     ]
    },
    {
     "name": "stdout",
     "output_type": "stream",
     "text": [
      "  ❌ Error updating post lq9ldw: 'Redditor' object has no attribute 'id'\n"
     ]
    },
    {
     "name": "stderr",
     "output_type": "stream",
     "text": [
      "Updating authors:  93%|█████████▎| 93/100 [03:30<00:15,  2.20s/it]"
     ]
    },
    {
     "name": "stdout",
     "output_type": "stream",
     "text": [
      "  ❌ Error updating post lq8xv3: 'Redditor' object has no attribute 'id'\n"
     ]
    },
    {
     "name": "stderr",
     "output_type": "stream",
     "text": [
      "Updating authors:  94%|█████████▍| 94/100 [03:31<00:12,  2.06s/it]"
     ]
    },
    {
     "name": "stdout",
     "output_type": "stream",
     "text": [
      "  ❌ Error updating post lq8tyl: received 404 HTTP response\n"
     ]
    },
    {
     "name": "stderr",
     "output_type": "stream",
     "text": [
      "Updating authors: 100%|██████████| 100/100 [03:43<00:00,  2.24s/it]\n"
     ]
    },
    {
     "name": "stdout",
     "output_type": "stream",
     "text": [
      "Progress: 33,769/53,187 (63.5%)\n",
      "Success rate: 33769/35400 (95.4%)\n",
      "Posts per minute: 26.7\n",
      "Taking a 30-second break between batches...\n",
      "\n",
      "Processing batch 355/532\n"
     ]
    },
    {
     "name": "stderr",
     "output_type": "stream",
     "text": [
      "Updating authors:  57%|█████▋    | 57/100 [01:55<01:50,  2.56s/it]"
     ]
    },
    {
     "name": "stdout",
     "output_type": "stream",
     "text": [
      "  ❌ Error updating post lq2g5s: 'Redditor' object has no attribute 'id'\n"
     ]
    },
    {
     "name": "stderr",
     "output_type": "stream",
     "text": [
      "Updating authors:  67%|██████▋   | 67/100 [02:16<01:32,  2.80s/it]"
     ]
    },
    {
     "name": "stdout",
     "output_type": "stream",
     "text": [
      "  ❌ Error updating post lq1gj7: 'Redditor' object has no attribute 'id'\n"
     ]
    },
    {
     "name": "stderr",
     "output_type": "stream",
     "text": [
      "Updating authors:  79%|███████▉  | 79/100 [02:37<00:37,  1.80s/it]"
     ]
    },
    {
     "name": "stdout",
     "output_type": "stream",
     "text": [
      "  ❌ Error updating post lsp9xj: 'Redditor' object has no attribute 'id'\n"
     ]
    },
    {
     "name": "stderr",
     "output_type": "stream",
     "text": [
      "Updating authors:  87%|████████▋ | 87/100 [02:56<00:28,  2.19s/it]"
     ]
    },
    {
     "name": "stdout",
     "output_type": "stream",
     "text": [
      "  ❌ Error updating post lsjalb: 'Redditor' object has no attribute 'id'\n"
     ]
    },
    {
     "name": "stderr",
     "output_type": "stream",
     "text": [
      "Updating authors:  90%|█████████ | 90/100 [03:05<00:24,  2.43s/it]"
     ]
    },
    {
     "name": "stdout",
     "output_type": "stream",
     "text": [
      "  ❌ Error updating post lse6pt: 'Redditor' object has no attribute 'id'\n"
     ]
    },
    {
     "name": "stderr",
     "output_type": "stream",
     "text": [
      "Updating authors: 100%|██████████| 100/100 [03:25<00:00,  2.05s/it]\n"
     ]
    },
    {
     "name": "stdout",
     "output_type": "stream",
     "text": [
      "Progress: 33,864/53,187 (63.7%)\n",
      "Success rate: 33864/35500 (95.4%)\n",
      "Posts per minute: 26.7\n",
      "Taking a 30-second break between batches...\n",
      "\n",
      "Processing batch 356/532\n"
     ]
    },
    {
     "name": "stderr",
     "output_type": "stream",
     "text": [
      "Updating authors:  12%|█▏        | 12/100 [00:28<04:15,  2.90s/it]"
     ]
    },
    {
     "name": "stdout",
     "output_type": "stream",
     "text": [
      "  ❌ Error updating post ls6ys0: 'Redditor' object has no attribute 'id'\n"
     ]
    },
    {
     "name": "stderr",
     "output_type": "stream",
     "text": [
      "Updating authors:  54%|█████▍    | 54/100 [02:09<01:57,  2.56s/it]"
     ]
    },
    {
     "name": "stdout",
     "output_type": "stream",
     "text": [
      "  ❌ Error updating post ls3rqt: 'Redditor' object has no attribute 'id'\n"
     ]
    },
    {
     "name": "stderr",
     "output_type": "stream",
     "text": [
      "Updating authors:  84%|████████▍ | 84/100 [03:07<00:28,  1.78s/it]"
     ]
    },
    {
     "name": "stdout",
     "output_type": "stream",
     "text": [
      "  ❌ Error updating post ls2gdk: 'Redditor' object has no attribute 'id'\n"
     ]
    },
    {
     "name": "stderr",
     "output_type": "stream",
     "text": [
      "Updating authors:  99%|█████████▉| 99/100 [03:35<00:01,  1.76s/it]"
     ]
    },
    {
     "name": "stdout",
     "output_type": "stream",
     "text": [
      "  ❌ Error updating post ls1qt5: 'Redditor' object has no attribute 'id'\n"
     ]
    },
    {
     "name": "stderr",
     "output_type": "stream",
     "text": [
      "Updating authors: 100%|██████████| 100/100 [03:37<00:00,  2.17s/it]\n"
     ]
    },
    {
     "name": "stdout",
     "output_type": "stream",
     "text": [
      "Progress: 33,960/53,187 (63.9%)\n",
      "Success rate: 33960/35600 (95.4%)\n",
      "Posts per minute: 26.7\n",
      "Taking a 30-second break between batches...\n",
      "\n",
      "Processing batch 357/532\n"
     ]
    },
    {
     "name": "stderr",
     "output_type": "stream",
     "text": [
      "Updating authors:  49%|████▉     | 49/100 [01:39<01:41,  2.00s/it]"
     ]
    },
    {
     "name": "stdout",
     "output_type": "stream",
     "text": [
      "  ❌ Error updating post lryqnv: 'Redditor' object has no attribute 'id'\n"
     ]
    },
    {
     "name": "stderr",
     "output_type": "stream",
     "text": [
      "Updating authors:  59%|█████▉    | 59/100 [02:00<01:26,  2.10s/it]"
     ]
    },
    {
     "name": "stdout",
     "output_type": "stream",
     "text": [
      "  ❌ Error updating post lry848: 'Redditor' object has no attribute 'id'\n"
     ]
    },
    {
     "name": "stderr",
     "output_type": "stream",
     "text": [
      "Updating authors:  76%|███████▌  | 76/100 [02:35<00:43,  1.82s/it]"
     ]
    },
    {
     "name": "stdout",
     "output_type": "stream",
     "text": [
      "  ❌ Error updating post lrxjjz: 'Redditor' object has no attribute 'id'\n"
     ]
    },
    {
     "name": "stderr",
     "output_type": "stream",
     "text": [
      "Updating authors:  78%|███████▊  | 78/100 [02:39<00:46,  2.13s/it]"
     ]
    },
    {
     "name": "stdout",
     "output_type": "stream",
     "text": [
      "  ❌ Error updating post lrxid8: 'Redditor' object has no attribute 'id'\n"
     ]
    },
    {
     "name": "stderr",
     "output_type": "stream",
     "text": [
      "Updating authors:  98%|█████████▊| 98/100 [03:21<00:04,  2.14s/it]"
     ]
    },
    {
     "name": "stdout",
     "output_type": "stream",
     "text": [
      "  ❌ Error updating post lrv8c2: 'Redditor' object has no attribute 'id'\n"
     ]
    },
    {
     "name": "stderr",
     "output_type": "stream",
     "text": [
      "Updating authors: 100%|██████████| 100/100 [03:24<00:00,  2.05s/it]\n"
     ]
    },
    {
     "name": "stdout",
     "output_type": "stream",
     "text": [
      "Progress: 34,055/53,187 (64.0%)\n",
      "Success rate: 34055/35700 (95.4%)\n",
      "Posts per minute: 26.7\n",
      "Taking a 30-second break between batches...\n",
      "\n",
      "Processing batch 358/532\n"
     ]
    },
    {
     "name": "stderr",
     "output_type": "stream",
     "text": [
      "Updating authors:   8%|▊         | 8/100 [00:20<04:10,  2.73s/it]"
     ]
    },
    {
     "name": "stdout",
     "output_type": "stream",
     "text": [
      "  ❌ Error updating post lru666: 'Redditor' object has no attribute 'id'\n"
     ]
    },
    {
     "name": "stderr",
     "output_type": "stream",
     "text": [
      "Updating authors:  15%|█▌        | 15/100 [00:34<02:52,  2.03s/it]"
     ]
    },
    {
     "name": "stdout",
     "output_type": "stream",
     "text": [
      "  ❌ Error updating post lrtcpc: 'Redditor' object has no attribute 'id'\n"
     ]
    },
    {
     "name": "stderr",
     "output_type": "stream",
     "text": [
      "Updating authors:  22%|██▏       | 22/100 [00:52<02:52,  2.22s/it]"
     ]
    },
    {
     "name": "stdout",
     "output_type": "stream",
     "text": [
      "  ❌ Error updating post ltkiwz: 'Redditor' object has no attribute 'id'\n"
     ]
    },
    {
     "name": "stderr",
     "output_type": "stream",
     "text": [
      "Updating authors:  39%|███▉      | 39/100 [01:21<01:40,  1.65s/it]"
     ]
    },
    {
     "name": "stdout",
     "output_type": "stream",
     "text": [
      "  ❌ Error updating post lsd6g8: 'Redditor' object has no attribute 'id'\n"
     ]
    },
    {
     "name": "stderr",
     "output_type": "stream",
     "text": [
      "Updating authors:  54%|█████▍    | 54/100 [01:49<01:21,  1.76s/it]"
     ]
    },
    {
     "name": "stdout",
     "output_type": "stream",
     "text": [
      "  ❌ Error updating post lscure: 'Redditor' object has no attribute 'id'\n"
     ]
    },
    {
     "name": "stderr",
     "output_type": "stream",
     "text": [
      "Updating authors:  59%|█████▉    | 59/100 [02:00<01:18,  1.93s/it]"
     ]
    },
    {
     "name": "stdout",
     "output_type": "stream",
     "text": [
      "  ❌ Error updating post lsctwx: 'Redditor' object has no attribute 'id'\n"
     ]
    },
    {
     "name": "stderr",
     "output_type": "stream",
     "text": [
      "Updating authors: 100%|██████████| 100/100 [03:24<00:00,  2.04s/it]\n"
     ]
    },
    {
     "name": "stdout",
     "output_type": "stream",
     "text": [
      "Progress: 34,149/53,187 (64.2%)\n",
      "Success rate: 34149/35800 (95.4%)\n",
      "Posts per minute: 26.7\n",
      "Taking a 30-second break between batches...\n",
      "\n",
      "Processing batch 359/532\n"
     ]
    },
    {
     "name": "stderr",
     "output_type": "stream",
     "text": [
      "Updating authors:  18%|█▊        | 18/100 [00:36<03:09,  2.30s/it]"
     ]
    },
    {
     "name": "stdout",
     "output_type": "stream",
     "text": [
      "  ❌ Error updating post lsa4ok: 'Redditor' object has no attribute 'id'\n"
     ]
    },
    {
     "name": "stderr",
     "output_type": "stream",
     "text": [
      "Updating authors:  19%|█▉        | 19/100 [00:38<03:01,  2.24s/it]"
     ]
    },
    {
     "name": "stdout",
     "output_type": "stream",
     "text": [
      "  ❌ Error updating post lsa3xs: 'Redditor' object has no attribute 'id'\n"
     ]
    },
    {
     "name": "stderr",
     "output_type": "stream",
     "text": [
      "Updating authors:  21%|██        | 21/100 [00:42<02:48,  2.13s/it]"
     ]
    },
    {
     "name": "stdout",
     "output_type": "stream",
     "text": [
      "  ❌ Error updating post ls9wlz: 'Redditor' object has no attribute 'id'\n"
     ]
    },
    {
     "name": "stderr",
     "output_type": "stream",
     "text": [
      "Updating authors:  55%|█████▌    | 55/100 [01:48<01:20,  1.80s/it]"
     ]
    },
    {
     "name": "stdout",
     "output_type": "stream",
     "text": [
      "  ❌ Error updating post ls90ow: 'Redditor' object has no attribute 'id'\n"
     ]
    },
    {
     "name": "stderr",
     "output_type": "stream",
     "text": [
      "Updating authors:  60%|██████    | 60/100 [01:59<01:26,  2.16s/it]"
     ]
    },
    {
     "name": "stdout",
     "output_type": "stream",
     "text": [
      "  ❌ Error updating post ls8o2m: 'Redditor' object has no attribute 'id'\n"
     ]
    },
    {
     "name": "stderr",
     "output_type": "stream",
     "text": [
      "Updating authors:  66%|██████▌   | 66/100 [02:14<01:15,  2.22s/it]"
     ]
    },
    {
     "name": "stdout",
     "output_type": "stream",
     "text": [
      "  ❌ Error updating post ls8dka: 'Redditor' object has no attribute 'id'\n"
     ]
    },
    {
     "name": "stderr",
     "output_type": "stream",
     "text": [
      "Updating authors:  84%|████████▍ | 84/100 [02:52<00:28,  1.75s/it]"
     ]
    },
    {
     "name": "stdout",
     "output_type": "stream",
     "text": [
      "  ❌ Error updating post lu8ccv: 'Redditor' object has no attribute 'id'\n"
     ]
    },
    {
     "name": "stderr",
     "output_type": "stream",
     "text": [
      "Updating authors: 100%|██████████| 100/100 [03:28<00:00,  2.08s/it]\n"
     ]
    },
    {
     "name": "stdout",
     "output_type": "stream",
     "text": [
      "Progress: 34,242/53,187 (64.4%)\n",
      "Success rate: 34242/35900 (95.4%)\n",
      "Posts per minute: 26.7\n",
      "Taking a 30-second break between batches...\n",
      "\n",
      "Processing batch 360/532\n"
     ]
    },
    {
     "name": "stderr",
     "output_type": "stream",
     "text": [
      "Updating authors:   6%|▌         | 6/100 [00:09<02:34,  1.64s/it]"
     ]
    },
    {
     "name": "stdout",
     "output_type": "stream",
     "text": [
      "  ❌ Error updating post lsi344: 'Redditor' object has no attribute 'id'\n"
     ]
    },
    {
     "name": "stderr",
     "output_type": "stream",
     "text": [
      "Updating authors:  15%|█▌        | 15/100 [00:27<02:41,  1.90s/it]"
     ]
    },
    {
     "name": "stdout",
     "output_type": "stream",
     "text": [
      "  ❌ Error updating post lshoj3: 'Redditor' object has no attribute 'id'\n"
     ]
    },
    {
     "name": "stderr",
     "output_type": "stream",
     "text": [
      "Updating authors:  47%|████▋     | 47/100 [01:41<02:12,  2.51s/it]"
     ]
    },
    {
     "name": "stdout",
     "output_type": "stream",
     "text": [
      "  ❌ Error updating post lsger0: 'Redditor' object has no attribute 'id'\n"
     ]
    },
    {
     "name": "stderr",
     "output_type": "stream",
     "text": [
      "Updating authors:  57%|█████▋    | 57/100 [02:04<01:29,  2.07s/it]"
     ]
    },
    {
     "name": "stdout",
     "output_type": "stream",
     "text": [
      "  ❌ Error updating post lsftw8: 'Redditor' object has no attribute 'id'\n"
     ]
    },
    {
     "name": "stderr",
     "output_type": "stream",
     "text": [
      "Updating authors:  98%|█████████▊| 98/100 [03:24<00:03,  1.85s/it]"
     ]
    },
    {
     "name": "stdout",
     "output_type": "stream",
     "text": [
      "  ❌ Error updating post lse32o: received 404 HTTP response\n"
     ]
    },
    {
     "name": "stderr",
     "output_type": "stream",
     "text": [
      "Updating authors: 100%|██████████| 100/100 [03:28<00:00,  2.08s/it]\n"
     ]
    },
    {
     "name": "stdout",
     "output_type": "stream",
     "text": [
      "Progress: 34,337/53,187 (64.6%)\n",
      "Success rate: 34337/36000 (95.4%)\n",
      "Posts per minute: 26.7\n",
      "Taking a 30-second break between batches...\n",
      "\n",
      "Processing batch 361/532\n"
     ]
    },
    {
     "name": "stderr",
     "output_type": "stream",
     "text": [
      "Updating authors:  15%|█▌        | 15/100 [00:29<02:37,  1.85s/it]"
     ]
    },
    {
     "name": "stdout",
     "output_type": "stream",
     "text": [
      "  ❌ Error updating post lsdlrb: 'Redditor' object has no attribute 'id'\n"
     ]
    },
    {
     "name": "stderr",
     "output_type": "stream",
     "text": [
      "Updating authors:  26%|██▌       | 26/100 [00:53<03:30,  2.84s/it]"
     ]
    },
    {
     "name": "stdout",
     "output_type": "stream",
     "text": [
      "  ❌ Error updating post lsddwm: received 404 HTTP response\n"
     ]
    },
    {
     "name": "stderr",
     "output_type": "stream",
     "text": [
      "Updating authors: 100%|██████████| 100/100 [03:31<00:00,  2.12s/it]\n"
     ]
    },
    {
     "name": "stdout",
     "output_type": "stream",
     "text": [
      "Progress: 34,435/53,187 (64.7%)\n",
      "Success rate: 34435/36100 (95.4%)\n",
      "Posts per minute: 26.7\n",
      "Taking a 30-second break between batches...\n",
      "\n",
      "Processing batch 362/532\n"
     ]
    },
    {
     "name": "stderr",
     "output_type": "stream",
     "text": [
      "Updating authors:   1%|          | 1/100 [00:01<03:07,  1.89s/it]"
     ]
    },
    {
     "name": "stdout",
     "output_type": "stream",
     "text": [
      "  ❌ Error updating post lszez3: 'Redditor' object has no attribute 'id'\n"
     ]
    },
    {
     "name": "stderr",
     "output_type": "stream",
     "text": [
      "Updating authors:  15%|█▌        | 15/100 [00:31<03:12,  2.26s/it]"
     ]
    },
    {
     "name": "stdout",
     "output_type": "stream",
     "text": [
      "  ❌ Error updating post lsy53g: 'Redditor' object has no attribute 'id'\n"
     ]
    },
    {
     "name": "stderr",
     "output_type": "stream",
     "text": [
      "Updating authors:  17%|█▋        | 17/100 [00:38<03:47,  2.74s/it]"
     ]
    },
    {
     "name": "stdout",
     "output_type": "stream",
     "text": [
      "  ❌ Error updating post lsxv9o: 'Redditor' object has no attribute 'id'\n"
     ]
    },
    {
     "name": "stderr",
     "output_type": "stream",
     "text": [
      "Updating authors:  42%|████▏     | 42/100 [01:34<02:03,  2.14s/it]"
     ]
    },
    {
     "name": "stdout",
     "output_type": "stream",
     "text": [
      "  ❌ Error updating post lswniy: 'Redditor' object has no attribute 'id'\n"
     ]
    },
    {
     "name": "stderr",
     "output_type": "stream",
     "text": [
      "Updating authors:  77%|███████▋  | 77/100 [03:05<00:48,  2.10s/it]"
     ]
    },
    {
     "name": "stdout",
     "output_type": "stream",
     "text": [
      "  ❌ Error updating post lst7g8: received 404 HTTP response\n"
     ]
    },
    {
     "name": "stderr",
     "output_type": "stream",
     "text": [
      "Updating authors:  81%|████████  | 81/100 [03:14<00:43,  2.27s/it]"
     ]
    },
    {
     "name": "stdout",
     "output_type": "stream",
     "text": [
      "  ❌ Error updating post lsss8q: 'Redditor' object has no attribute 'id'\n"
     ]
    },
    {
     "name": "stderr",
     "output_type": "stream",
     "text": [
      "Updating authors:  96%|█████████▌| 96/100 [03:45<00:09,  2.26s/it]"
     ]
    },
    {
     "name": "stdout",
     "output_type": "stream",
     "text": [
      "  ❌ Error updating post lsr9fo: 'Redditor' object has no attribute 'id'\n"
     ]
    },
    {
     "name": "stderr",
     "output_type": "stream",
     "text": [
      "Updating authors: 100%|██████████| 100/100 [03:52<00:00,  2.32s/it]\n"
     ]
    },
    {
     "name": "stdout",
     "output_type": "stream",
     "text": [
      "Progress: 34,528/53,187 (64.9%)\n",
      "Success rate: 34528/36200 (95.4%)\n",
      "Posts per minute: 26.6\n",
      "Taking a 30-second break between batches...\n",
      "\n",
      "Processing batch 363/532\n"
     ]
    },
    {
     "name": "stderr",
     "output_type": "stream",
     "text": [
      "Updating authors:   5%|▌         | 5/100 [00:11<03:30,  2.22s/it]"
     ]
    },
    {
     "name": "stdout",
     "output_type": "stream",
     "text": [
      "  ❌ Error updating post lsqn90: 'Redditor' object has no attribute 'id'\n"
     ]
    },
    {
     "name": "stderr",
     "output_type": "stream",
     "text": [
      "Updating authors:  31%|███       | 31/100 [01:02<02:39,  2.32s/it]"
     ]
    },
    {
     "name": "stdout",
     "output_type": "stream",
     "text": [
      "  ❌ Error updating post lsod7z: 'Redditor' object has no attribute 'id'\n"
     ]
    },
    {
     "name": "stderr",
     "output_type": "stream",
     "text": [
      "Updating authors:  35%|███▌      | 35/100 [01:09<02:04,  1.92s/it]"
     ]
    },
    {
     "name": "stdout",
     "output_type": "stream",
     "text": [
      "  ❌ Error updating post lso4ac: 'Redditor' object has no attribute 'id'\n"
     ]
    },
    {
     "name": "stderr",
     "output_type": "stream",
     "text": [
      "Updating authors: 100%|██████████| 100/100 [03:16<00:00,  1.96s/it]\n"
     ]
    },
    {
     "name": "stdout",
     "output_type": "stream",
     "text": [
      "Progress: 34,625/53,187 (65.1%)\n",
      "Success rate: 34625/36300 (95.4%)\n",
      "Posts per minute: 26.6\n",
      "Taking a 30-second break between batches...\n",
      "\n",
      "Processing batch 364/532\n"
     ]
    },
    {
     "name": "stderr",
     "output_type": "stream",
     "text": [
      "Updating authors:  10%|█         | 10/100 [00:19<02:36,  1.73s/it]"
     ]
    },
    {
     "name": "stdout",
     "output_type": "stream",
     "text": [
      "  ❌ Error updating post lskwny: 'Redditor' object has no attribute 'id'\n"
     ]
    },
    {
     "name": "stderr",
     "output_type": "stream",
     "text": [
      "Updating authors:  13%|█▎        | 13/100 [00:28<03:16,  2.26s/it]"
     ]
    },
    {
     "name": "stdout",
     "output_type": "stream",
     "text": [
      "  ❌ Error updating post lskt27: 'Redditor' object has no attribute 'id'\n"
     ]
    },
    {
     "name": "stderr",
     "output_type": "stream",
     "text": [
      "Updating authors:  21%|██        | 21/100 [00:42<02:16,  1.73s/it]"
     ]
    },
    {
     "name": "stdout",
     "output_type": "stream",
     "text": [
      "  ❌ Error updating post lskekv: 'Redditor' object has no attribute 'id'\n"
     ]
    },
    {
     "name": "stderr",
     "output_type": "stream",
     "text": [
      "Updating authors:  55%|█████▌    | 55/100 [01:46<01:22,  1.83s/it]"
     ]
    },
    {
     "name": "stdout",
     "output_type": "stream",
     "text": [
      "  ❌ Error updating post lsja1w: 'Redditor' object has no attribute 'id'\n"
     ]
    },
    {
     "name": "stderr",
     "output_type": "stream",
     "text": [
      "Updating authors: 100%|██████████| 100/100 [03:29<00:00,  2.09s/it]\n"
     ]
    },
    {
     "name": "stdout",
     "output_type": "stream",
     "text": [
      "Progress: 34,721/53,187 (65.3%)\n",
      "Success rate: 34721/36400 (95.4%)\n",
      "Posts per minute: 26.6\n",
      "Taking a 30-second break between batches...\n",
      "\n",
      "Processing batch 365/532\n"
     ]
    },
    {
     "name": "stderr",
     "output_type": "stream",
     "text": [
      "Updating authors:   8%|▊         | 8/100 [00:14<02:51,  1.86s/it]"
     ]
    },
    {
     "name": "stdout",
     "output_type": "stream",
     "text": [
      "  ❌ Error updating post lvb4wr: 'Redditor' object has no attribute 'id'\n"
     ]
    },
    {
     "name": "stderr",
     "output_type": "stream",
     "text": [
      "Updating authors:  17%|█▋        | 17/100 [00:39<03:47,  2.74s/it]"
     ]
    },
    {
     "name": "stdout",
     "output_type": "stream",
     "text": [
      "  ❌ Error updating post lvawdr: 'Redditor' object has no attribute 'id'\n"
     ]
    },
    {
     "name": "stderr",
     "output_type": "stream",
     "text": [
      "Updating authors:  55%|█████▌    | 55/100 [02:03<01:27,  1.94s/it]"
     ]
    },
    {
     "name": "stdout",
     "output_type": "stream",
     "text": [
      "  ❌ Error updating post lv6npt: 'Redditor' object has no attribute 'id'\n"
     ]
    },
    {
     "name": "stderr",
     "output_type": "stream",
     "text": [
      "Updating authors:  70%|███████   | 70/100 [02:38<01:00,  2.03s/it]"
     ]
    },
    {
     "name": "stdout",
     "output_type": "stream",
     "text": [
      "  ❌ Error updating post lv2kfz: 'Redditor' object has no attribute 'id'\n"
     ]
    },
    {
     "name": "stderr",
     "output_type": "stream",
     "text": [
      "Updating authors:  92%|█████████▏| 92/100 [03:26<00:21,  2.68s/it]"
     ]
    },
    {
     "name": "stdout",
     "output_type": "stream",
     "text": [
      "  ❌ Error updating post luv21w: 'Redditor' object has no attribute 'id'\n"
     ]
    },
    {
     "name": "stderr",
     "output_type": "stream",
     "text": [
      "Updating authors: 100%|██████████| 100/100 [03:46<00:00,  2.27s/it]\n"
     ]
    },
    {
     "name": "stdout",
     "output_type": "stream",
     "text": [
      "Progress: 34,816/53,187 (65.5%)\n",
      "Success rate: 34816/36500 (95.4%)\n",
      "Posts per minute: 26.6\n",
      "Taking a 30-second break between batches...\n",
      "\n",
      "Processing batch 366/532\n"
     ]
    },
    {
     "name": "stderr",
     "output_type": "stream",
     "text": [
      "Updating authors:  56%|█████▌    | 56/100 [02:25<02:18,  3.16s/it]"
     ]
    },
    {
     "name": "stdout",
     "output_type": "stream",
     "text": [
      "  ❌ Error updating post luhvqd: 'Redditor' object has no attribute 'id'\n"
     ]
    },
    {
     "name": "stderr",
     "output_type": "stream",
     "text": [
      "Updating authors:  71%|███████   | 71/100 [03:09<01:27,  3.02s/it]"
     ]
    },
    {
     "name": "stdout",
     "output_type": "stream",
     "text": [
      "  ❌ Error updating post ludcm6: 'Redditor' object has no attribute 'id'\n"
     ]
    },
    {
     "name": "stderr",
     "output_type": "stream",
     "text": [
      "Updating authors:  72%|███████▏  | 72/100 [03:11<01:13,  2.64s/it]"
     ]
    },
    {
     "name": "stdout",
     "output_type": "stream",
     "text": [
      "  ❌ Error updating post luctsb: 'Redditor' object has no attribute 'id'\n"
     ]
    },
    {
     "name": "stderr",
     "output_type": "stream",
     "text": [
      "Updating authors:  84%|████████▍ | 84/100 [03:36<00:36,  2.27s/it]"
     ]
    },
    {
     "name": "stdout",
     "output_type": "stream",
     "text": [
      "  ❌ Error updating post lu98q2: 'Redditor' object has no attribute 'id'\n"
     ]
    },
    {
     "name": "stderr",
     "output_type": "stream",
     "text": [
      "Updating authors: 100%|██████████| 100/100 [04:15<00:00,  2.56s/it]\n"
     ]
    },
    {
     "name": "stdout",
     "output_type": "stream",
     "text": [
      "Progress: 34,912/53,187 (65.6%)\n",
      "Success rate: 34912/36600 (95.4%)\n",
      "Posts per minute: 26.6\n",
      "Taking a 30-second break between batches...\n",
      "\n",
      "Processing batch 367/532\n"
     ]
    },
    {
     "name": "stderr",
     "output_type": "stream",
     "text": [
      "Updating authors:  35%|███▌      | 35/100 [01:23<02:39,  2.45s/it]"
     ]
    },
    {
     "name": "stdout",
     "output_type": "stream",
     "text": [
      "  ❌ Error updating post ltz2lb: 'Redditor' object has no attribute 'id'\n"
     ]
    },
    {
     "name": "stderr",
     "output_type": "stream",
     "text": [
      "Updating authors:  49%|████▉     | 49/100 [01:51<01:42,  2.00s/it]"
     ]
    },
    {
     "name": "stdout",
     "output_type": "stream",
     "text": [
      "  ❌ Error updating post ltxifm: 'Redditor' object has no attribute 'id'\n"
     ]
    },
    {
     "name": "stderr",
     "output_type": "stream",
     "text": [
      "Updating authors:  60%|██████    | 60/100 [02:18<01:53,  2.83s/it]"
     ]
    },
    {
     "name": "stdout",
     "output_type": "stream",
     "text": [
      "  ❌ Error updating post ltugnx: 'Redditor' object has no attribute 'id'\n"
     ]
    },
    {
     "name": "stderr",
     "output_type": "stream",
     "text": [
      "Updating authors: 100%|██████████| 100/100 [04:11<00:00,  2.51s/it]\n"
     ]
    },
    {
     "name": "stdout",
     "output_type": "stream",
     "text": [
      "Progress: 35,009/53,187 (65.8%)\n",
      "Success rate: 35009/36700 (95.4%)\n",
      "Posts per minute: 26.6\n",
      "Taking a 30-second break between batches...\n",
      "\n",
      "Processing batch 368/532\n"
     ]
    },
    {
     "name": "stderr",
     "output_type": "stream",
     "text": [
      "Updating authors:   4%|▍         | 4/100 [00:08<03:24,  2.14s/it]"
     ]
    },
    {
     "name": "stdout",
     "output_type": "stream",
     "text": [
      "  ❌ Error updating post ltmbyi: 'Redditor' object has no attribute 'id'\n"
     ]
    },
    {
     "name": "stderr",
     "output_type": "stream",
     "text": [
      "Updating authors:   5%|▌         | 5/100 [00:10<03:05,  1.95s/it]"
     ]
    },
    {
     "name": "stdout",
     "output_type": "stream",
     "text": [
      "  ❌ Error updating post ltm9gp: 'Redditor' object has no attribute 'id'\n"
     ]
    },
    {
     "name": "stderr",
     "output_type": "stream",
     "text": [
      "Updating authors:  31%|███       | 31/100 [01:14<03:01,  2.63s/it]"
     ]
    },
    {
     "name": "stdout",
     "output_type": "stream",
     "text": [
      "  ❌ Error updating post ltgevw: 'Redditor' object has no attribute 'id'\n"
     ]
    },
    {
     "name": "stderr",
     "output_type": "stream",
     "text": [
      "Updating authors:  33%|███▎      | 33/100 [01:18<02:37,  2.34s/it]"
     ]
    },
    {
     "name": "stdout",
     "output_type": "stream",
     "text": [
      "  ❌ Error updating post ltg3fi: 'Redditor' object has no attribute 'id'\n"
     ]
    },
    {
     "name": "stderr",
     "output_type": "stream",
     "text": [
      "Updating authors:  35%|███▌      | 35/100 [01:22<02:13,  2.05s/it]"
     ]
    },
    {
     "name": "stdout",
     "output_type": "stream",
     "text": [
      "  ❌ Error updating post ltfuve: 'Redditor' object has no attribute 'id'\n"
     ]
    },
    {
     "name": "stderr",
     "output_type": "stream",
     "text": [
      "Updating authors:  80%|████████  | 80/100 [03:05<01:09,  3.45s/it]"
     ]
    },
    {
     "name": "stdout",
     "output_type": "stream",
     "text": [
      "  ❌ Error updating post ltc3by: 'Redditor' object has no attribute 'id'\n"
     ]
    },
    {
     "name": "stderr",
     "output_type": "stream",
     "text": [
      "Updating authors:  81%|████████  | 81/100 [03:07<00:55,  2.94s/it]"
     ]
    },
    {
     "name": "stdout",
     "output_type": "stream",
     "text": [
      "  ❌ Error updating post ltc161: 'Redditor' object has no attribute 'id'\n"
     ]
    },
    {
     "name": "stderr",
     "output_type": "stream",
     "text": [
      "Updating authors: 100%|██████████| 100/100 [03:42<00:00,  2.23s/it]\n"
     ]
    },
    {
     "name": "stdout",
     "output_type": "stream",
     "text": [
      "Progress: 35,102/53,187 (66.0%)\n",
      "Success rate: 35102/36800 (95.4%)\n",
      "Posts per minute: 26.6\n",
      "Taking a 30-second break between batches...\n",
      "\n",
      "Processing batch 369/532\n"
     ]
    },
    {
     "name": "stderr",
     "output_type": "stream",
     "text": [
      "Updating authors:   2%|▏         | 2/100 [00:05<04:44,  2.90s/it]"
     ]
    },
    {
     "name": "stdout",
     "output_type": "stream",
     "text": [
      "  ❌ Error updating post ltaezz: 'Redditor' object has no attribute 'id'\n"
     ]
    },
    {
     "name": "stderr",
     "output_type": "stream",
     "text": [
      "Updating authors:   6%|▌         | 6/100 [00:13<03:36,  2.30s/it]"
     ]
    },
    {
     "name": "stdout",
     "output_type": "stream",
     "text": [
      "  ❌ Error updating post lta72h: 'Redditor' object has no attribute 'id'\n"
     ]
    },
    {
     "name": "stderr",
     "output_type": "stream",
     "text": [
      "Updating authors:   8%|▊         | 8/100 [00:17<03:13,  2.11s/it]"
     ]
    },
    {
     "name": "stdout",
     "output_type": "stream",
     "text": [
      "  ❌ Error updating post lta6g8: 'Redditor' object has no attribute 'id'\n"
     ]
    },
    {
     "name": "stderr",
     "output_type": "stream",
     "text": [
      "Updating authors:  12%|█▏        | 12/100 [00:25<02:37,  1.79s/it]"
     ]
    },
    {
     "name": "stdout",
     "output_type": "stream",
     "text": [
      "  ❌ Error updating post lt9te9: 'Redditor' object has no attribute 'id'\n"
     ]
    },
    {
     "name": "stderr",
     "output_type": "stream",
     "text": [
      "Updating authors:  31%|███       | 31/100 [01:01<02:40,  2.33s/it]"
     ]
    },
    {
     "name": "stdout",
     "output_type": "stream",
     "text": [
      "  ❌ Error updating post lt8n05: 'Redditor' object has no attribute 'id'\n"
     ]
    },
    {
     "name": "stderr",
     "output_type": "stream",
     "text": [
      "Updating authors:  40%|████      | 40/100 [01:18<01:44,  1.75s/it]"
     ]
    },
    {
     "name": "stdout",
     "output_type": "stream",
     "text": [
      "  ❌ Error updating post lt7ywc: 'Redditor' object has no attribute 'id'\n"
     ]
    },
    {
     "name": "stderr",
     "output_type": "stream",
     "text": [
      "Updating authors:  54%|█████▍    | 54/100 [01:58<01:49,  2.39s/it]"
     ]
    },
    {
     "name": "stdout",
     "output_type": "stream",
     "text": [
      "  ❌ Error updating post lt7cuw: 'Redditor' object has no attribute 'id'\n"
     ]
    },
    {
     "name": "stderr",
     "output_type": "stream",
     "text": [
      "Updating authors:  71%|███████   | 71/100 [02:36<01:09,  2.39s/it]"
     ]
    },
    {
     "name": "stdout",
     "output_type": "stream",
     "text": [
      "  ❌ Error updating post lt61px: 'Redditor' object has no attribute 'id'\n"
     ]
    },
    {
     "name": "stderr",
     "output_type": "stream",
     "text": [
      "Updating authors: 100%|██████████| 100/100 [03:34<00:00,  2.14s/it]\n"
     ]
    },
    {
     "name": "stdout",
     "output_type": "stream",
     "text": [
      "Progress: 35,194/53,187 (66.2%)\n",
      "Success rate: 35194/36900 (95.4%)\n",
      "Posts per minute: 26.5\n",
      "Taking a 30-second break between batches...\n",
      "\n",
      "Processing batch 370/532\n"
     ]
    },
    {
     "name": "stderr",
     "output_type": "stream",
     "text": [
      "Updating authors:  13%|█▎        | 13/100 [00:22<02:18,  1.59s/it]"
     ]
    },
    {
     "name": "stdout",
     "output_type": "stream",
     "text": [
      "  ❌ Error updating post lwf2bp: 'Redditor' object has no attribute 'id'\n"
     ]
    },
    {
     "name": "stderr",
     "output_type": "stream",
     "text": [
      "Updating authors:  17%|█▋        | 17/100 [00:32<03:00,  2.18s/it]"
     ]
    },
    {
     "name": "stdout",
     "output_type": "stream",
     "text": [
      "  ❌ Error updating post lwcqrw: 'Redditor' object has no attribute 'id'\n"
     ]
    },
    {
     "name": "stderr",
     "output_type": "stream",
     "text": [
      "Updating authors:  25%|██▌       | 25/100 [00:45<02:14,  1.79s/it]"
     ]
    },
    {
     "name": "stdout",
     "output_type": "stream",
     "text": [
      "  ❌ Error updating post lw84f9: 'Redditor' object has no attribute 'id'\n"
     ]
    },
    {
     "name": "stderr",
     "output_type": "stream",
     "text": [
      "Updating authors:  74%|███████▍  | 74/100 [02:21<00:46,  1.77s/it]"
     ]
    },
    {
     "name": "stdout",
     "output_type": "stream",
     "text": [
      "  ❌ Error updating post lw5aax: 'Redditor' object has no attribute 'id'\n"
     ]
    },
    {
     "name": "stderr",
     "output_type": "stream",
     "text": [
      "Updating authors: 100%|██████████| 100/100 [03:11<00:00,  1.91s/it]\n"
     ]
    },
    {
     "name": "stdout",
     "output_type": "stream",
     "text": [
      "Progress: 35,290/53,187 (66.4%)\n",
      "Success rate: 35290/37000 (95.4%)\n",
      "Posts per minute: 26.5\n",
      "Taking a 30-second break between batches...\n",
      "\n",
      "Processing batch 371/532\n"
     ]
    },
    {
     "name": "stderr",
     "output_type": "stream",
     "text": [
      "Updating authors:  24%|██▍       | 24/100 [00:42<02:02,  1.61s/it]"
     ]
    },
    {
     "name": "stdout",
     "output_type": "stream",
     "text": [
      "  ❌ Error updating post lw3plv: 'Redditor' object has no attribute 'id'\n"
     ]
    },
    {
     "name": "stderr",
     "output_type": "stream",
     "text": [
      "Updating authors:  49%|████▉     | 49/100 [01:41<01:44,  2.06s/it]"
     ]
    },
    {
     "name": "stdout",
     "output_type": "stream",
     "text": [
      "  ❌ Error updating post lw2hai: 'Redditor' object has no attribute 'id'\n"
     ]
    },
    {
     "name": "stderr",
     "output_type": "stream",
     "text": [
      "Updating authors:  61%|██████    | 61/100 [02:13<02:10,  3.35s/it]"
     ]
    },
    {
     "name": "stdout",
     "output_type": "stream",
     "text": [
      "  ❌ Error updating post lw00tg: 'Redditor' object has no attribute 'id'\n"
     ]
    },
    {
     "name": "stderr",
     "output_type": "stream",
     "text": [
      "Updating authors:  67%|██████▋   | 67/100 [02:34<01:42,  3.11s/it]"
     ]
    },
    {
     "name": "stdout",
     "output_type": "stream",
     "text": [
      "  ❌ Error updating post lvykfc: 'Redditor' object has no attribute 'id'\n"
     ]
    },
    {
     "name": "stderr",
     "output_type": "stream",
     "text": [
      "Updating authors:  76%|███████▌  | 76/100 [02:56<00:55,  2.29s/it]"
     ]
    },
    {
     "name": "stdout",
     "output_type": "stream",
     "text": [
      "  ❌ Error updating post lvwhpq: 'Redditor' object has no attribute 'id'\n"
     ]
    },
    {
     "name": "stderr",
     "output_type": "stream",
     "text": [
      "Updating authors:  85%|████████▌ | 85/100 [03:14<00:29,  1.97s/it]"
     ]
    },
    {
     "name": "stdout",
     "output_type": "stream",
     "text": [
      "  ❌ Error updating post lvvbqa: 'Redditor' object has no attribute 'id'\n"
     ]
    },
    {
     "name": "stderr",
     "output_type": "stream",
     "text": [
      "Updating authors:  88%|████████▊ | 88/100 [03:21<00:24,  2.06s/it]"
     ]
    },
    {
     "name": "stdout",
     "output_type": "stream",
     "text": [
      "  ❌ Error updating post lvv3h6: 'Redditor' object has no attribute 'id'\n"
     ]
    },
    {
     "name": "stderr",
     "output_type": "stream",
     "text": [
      "Updating authors: 100%|██████████| 100/100 [03:45<00:00,  2.25s/it]\n"
     ]
    },
    {
     "name": "stdout",
     "output_type": "stream",
     "text": [
      "Progress: 35,383/53,187 (66.5%)\n",
      "Success rate: 35383/37100 (95.4%)\n",
      "Posts per minute: 26.5\n",
      "Taking a 30-second break between batches...\n",
      "\n",
      "Processing batch 372/532\n"
     ]
    },
    {
     "name": "stderr",
     "output_type": "stream",
     "text": [
      "Updating authors:  71%|███████   | 71/100 [02:21<00:54,  1.88s/it]"
     ]
    },
    {
     "name": "stdout",
     "output_type": "stream",
     "text": [
      "  ❌ Error updating post lvo1a3: 'Redditor' object has no attribute 'id'\n"
     ]
    },
    {
     "name": "stderr",
     "output_type": "stream",
     "text": [
      "Updating authors:  99%|█████████▉| 99/100 [03:15<00:01,  1.75s/it]"
     ]
    },
    {
     "name": "stdout",
     "output_type": "stream",
     "text": [
      "  ❌ Error updating post lvlpie: 'Redditor' object has no attribute 'id'\n"
     ]
    },
    {
     "name": "stderr",
     "output_type": "stream",
     "text": [
      "Updating authors: 100%|██████████| 100/100 [03:17<00:00,  1.97s/it]\n"
     ]
    },
    {
     "name": "stdout",
     "output_type": "stream",
     "text": [
      "Progress: 35,481/53,187 (66.7%)\n",
      "Success rate: 35481/37200 (95.4%)\n",
      "Posts per minute: 26.5\n",
      "Taking a 30-second break between batches...\n",
      "\n",
      "Processing batch 373/532\n"
     ]
    },
    {
     "name": "stderr",
     "output_type": "stream",
     "text": [
      "Updating authors:   2%|▏         | 2/100 [00:02<02:24,  1.48s/it]"
     ]
    },
    {
     "name": "stdout",
     "output_type": "stream",
     "text": [
      "  ❌ Error updating post lvln74: 'Redditor' object has no attribute 'id'\n"
     ]
    },
    {
     "name": "stderr",
     "output_type": "stream",
     "text": [
      "Updating authors:  22%|██▏       | 22/100 [00:43<02:16,  1.74s/it]"
     ]
    },
    {
     "name": "stdout",
     "output_type": "stream",
     "text": [
      "  ❌ Error updating post lvkpmm: 'Redditor' object has no attribute 'id'\n"
     ]
    },
    {
     "name": "stderr",
     "output_type": "stream",
     "text": [
      "Updating authors:  45%|████▌     | 45/100 [01:26<01:37,  1.77s/it]"
     ]
    },
    {
     "name": "stdout",
     "output_type": "stream",
     "text": [
      "  ❌ Error updating post lvjxcg: 'Redditor' object has no attribute 'id'\n"
     ]
    },
    {
     "name": "stderr",
     "output_type": "stream",
     "text": [
      "Updating authors:  54%|█████▍    | 54/100 [01:42<01:20,  1.75s/it]"
     ]
    },
    {
     "name": "stdout",
     "output_type": "stream",
     "text": [
      "  ❌ Error updating post lvjlsn: 'Redditor' object has no attribute 'id'\n"
     ]
    },
    {
     "name": "stderr",
     "output_type": "stream",
     "text": [
      "Updating authors: 100%|██████████| 100/100 [03:17<00:00,  1.97s/it]\n"
     ]
    },
    {
     "name": "stdout",
     "output_type": "stream",
     "text": [
      "Progress: 35,577/53,187 (66.9%)\n",
      "Success rate: 35577/37300 (95.4%)\n",
      "Posts per minute: 26.5\n",
      "Taking a 30-second break between batches...\n",
      "\n",
      "Processing batch 374/532\n"
     ]
    },
    {
     "name": "stderr",
     "output_type": "stream",
     "text": [
      "Updating authors:  14%|█▍        | 14/100 [00:26<02:37,  1.83s/it]"
     ]
    },
    {
     "name": "stdout",
     "output_type": "stream",
     "text": [
      "  ❌ Error updating post lvdp31: 'Redditor' object has no attribute 'id'\n"
     ]
    },
    {
     "name": "stderr",
     "output_type": "stream",
     "text": [
      "Updating authors:  36%|███▌      | 36/100 [01:10<02:05,  1.96s/it]"
     ]
    },
    {
     "name": "stdout",
     "output_type": "stream",
     "text": [
      "  ❌ Error updating post lvbkmh: 'Redditor' object has no attribute 'id'\n"
     ]
    },
    {
     "name": "stderr",
     "output_type": "stream",
     "text": [
      "Updating authors:  48%|████▊     | 48/100 [01:37<02:15,  2.61s/it]"
     ]
    },
    {
     "name": "stdout",
     "output_type": "stream",
     "text": [
      "  ❌ Error updating post lx8956: 'Redditor' object has no attribute 'id'\n"
     ]
    },
    {
     "name": "stderr",
     "output_type": "stream",
     "text": [
      "Updating authors:  49%|████▉     | 49/100 [01:42<02:48,  3.31s/it]"
     ]
    },
    {
     "name": "stdout",
     "output_type": "stream",
     "text": [
      "  ❌ Error updating post lx7zjp: 'Redditor' object has no attribute 'id'\n"
     ]
    },
    {
     "name": "stderr",
     "output_type": "stream",
     "text": [
      "Updating authors:  90%|█████████ | 90/100 [03:00<00:18,  1.89s/it]"
     ]
    },
    {
     "name": "stdout",
     "output_type": "stream",
     "text": [
      "  ❌ Error updating post lwuak0: 'Redditor' object has no attribute 'id'\n"
     ]
    },
    {
     "name": "stderr",
     "output_type": "stream",
     "text": [
      "Updating authors: 100%|██████████| 100/100 [03:24<00:00,  2.05s/it]\n"
     ]
    },
    {
     "name": "stdout",
     "output_type": "stream",
     "text": [
      "Progress: 35,672/53,187 (67.1%)\n",
      "Success rate: 35672/37400 (95.4%)\n",
      "Posts per minute: 26.5\n",
      "Taking a 30-second break between batches...\n",
      "\n",
      "Processing batch 375/532\n"
     ]
    },
    {
     "name": "stderr",
     "output_type": "stream",
     "text": [
      "Updating authors:  29%|██▉       | 29/100 [01:13<02:06,  1.79s/it]"
     ]
    },
    {
     "name": "stdout",
     "output_type": "stream",
     "text": [
      "  ❌ Error updating post lwq5su: 'Redditor' object has no attribute 'id'\n"
     ]
    },
    {
     "name": "stderr",
     "output_type": "stream",
     "text": [
      "Updating authors:  36%|███▌      | 36/100 [01:26<02:01,  1.89s/it]"
     ]
    },
    {
     "name": "stdout",
     "output_type": "stream",
     "text": [
      "  ❌ Error updating post lwoys5: 'Redditor' object has no attribute 'id'\n"
     ]
    },
    {
     "name": "stderr",
     "output_type": "stream",
     "text": [
      "Updating authors:  84%|████████▍ | 84/100 [03:07<00:33,  2.08s/it]"
     ]
    },
    {
     "name": "stdout",
     "output_type": "stream",
     "text": [
      "  ❌ Error updating post lwkec7: 'Redditor' object has no attribute 'id'\n"
     ]
    },
    {
     "name": "stderr",
     "output_type": "stream",
     "text": [
      "Updating authors:  85%|████████▌ | 85/100 [03:09<00:30,  2.04s/it]"
     ]
    },
    {
     "name": "stdout",
     "output_type": "stream",
     "text": [
      "  ❌ Error updating post lwkbl7: 'Redditor' object has no attribute 'id'\n"
     ]
    },
    {
     "name": "stderr",
     "output_type": "stream",
     "text": [
      "Updating authors:  98%|█████████▊| 98/100 [03:38<00:04,  2.12s/it]"
     ]
    },
    {
     "name": "stdout",
     "output_type": "stream",
     "text": [
      "  ❌ Error updating post lwjv08: 'Redditor' object has no attribute 'id'\n"
     ]
    },
    {
     "name": "stderr",
     "output_type": "stream",
     "text": [
      "Updating authors: 100%|██████████| 100/100 [03:42<00:00,  2.22s/it]\n"
     ]
    },
    {
     "name": "stdout",
     "output_type": "stream",
     "text": [
      "Progress: 35,767/53,187 (67.2%)\n",
      "Success rate: 35767/37500 (95.4%)\n",
      "Posts per minute: 26.5\n",
      "Taking a 30-second break between batches...\n",
      "\n",
      "Processing batch 376/532\n"
     ]
    },
    {
     "name": "stderr",
     "output_type": "stream",
     "text": [
      "Updating authors:  38%|███▊      | 38/100 [01:15<01:50,  1.78s/it]"
     ]
    },
    {
     "name": "stdout",
     "output_type": "stream",
     "text": [
      "  ❌ Error updating post lwi6fc: 'Redditor' object has no attribute 'id'\n"
     ]
    },
    {
     "name": "stderr",
     "output_type": "stream",
     "text": [
      "Updating authors: 100%|██████████| 100/100 [03:21<00:00,  2.02s/it]\n"
     ]
    },
    {
     "name": "stdout",
     "output_type": "stream",
     "text": [
      "Progress: 35,866/53,187 (67.4%)\n",
      "Success rate: 35866/37600 (95.4%)\n",
      "Posts per minute: 26.5\n",
      "Taking a 30-second break between batches...\n",
      "\n",
      "Processing batch 377/532\n"
     ]
    },
    {
     "name": "stderr",
     "output_type": "stream",
     "text": [
      "Updating authors:  85%|████████▌ | 85/100 [02:41<00:25,  1.70s/it]"
     ]
    },
    {
     "name": "stdout",
     "output_type": "stream",
     "text": [
      "  ❌ Error updating post lwdnkl: 'Redditor' object has no attribute 'id'\n"
     ]
    },
    {
     "name": "stderr",
     "output_type": "stream",
     "text": [
      "Updating authors: 100%|██████████| 100/100 [03:09<00:00,  1.89s/it]\n"
     ]
    },
    {
     "name": "stdout",
     "output_type": "stream",
     "text": [
      "Progress: 35,965/53,187 (67.6%)\n",
      "Success rate: 35965/37700 (95.4%)\n",
      "Posts per minute: 26.5\n",
      "Taking a 30-second break between batches...\n",
      "\n",
      "Processing batch 378/532\n"
     ]
    },
    {
     "name": "stderr",
     "output_type": "stream",
     "text": [
      "Updating authors:   7%|▋         | 7/100 [00:16<04:01,  2.60s/it]"
     ]
    },
    {
     "name": "stdout",
     "output_type": "stream",
     "text": [
      "  ❌ Error updating post lwd2r4: 'Redditor' object has no attribute 'id'\n"
     ]
    },
    {
     "name": "stderr",
     "output_type": "stream",
     "text": [
      "Updating authors:  20%|██        | 20/100 [00:38<02:12,  1.65s/it]"
     ]
    },
    {
     "name": "stdout",
     "output_type": "stream",
     "text": [
      "  ❌ Error updating post lwcpzg: 'Redditor' object has no attribute 'id'\n"
     ]
    },
    {
     "name": "stderr",
     "output_type": "stream",
     "text": [
      "Updating authors:  59%|█████▉    | 59/100 [02:01<01:33,  2.29s/it]"
     ]
    },
    {
     "name": "stdout",
     "output_type": "stream",
     "text": [
      "  ❌ Error updating post lwb28y: 'Redditor' object has no attribute 'id'\n"
     ]
    },
    {
     "name": "stderr",
     "output_type": "stream",
     "text": [
      "Updating authors:  62%|██████▏   | 62/100 [02:07<01:18,  2.07s/it]"
     ]
    },
    {
     "name": "stdout",
     "output_type": "stream",
     "text": [
      "  ❌ Error updating post lwaynf: 'Redditor' object has no attribute 'id'\n"
     ]
    },
    {
     "name": "stderr",
     "output_type": "stream",
     "text": [
      "Updating authors:  65%|██████▌   | 65/100 [02:12<01:02,  1.80s/it]"
     ]
    },
    {
     "name": "stdout",
     "output_type": "stream",
     "text": [
      "  ❌ Error updating post lwavmv: 'Redditor' object has no attribute 'id'\n"
     ]
    },
    {
     "name": "stderr",
     "output_type": "stream",
     "text": [
      "Updating authors:  88%|████████▊ | 88/100 [03:00<00:20,  1.72s/it]"
     ]
    },
    {
     "name": "stdout",
     "output_type": "stream",
     "text": [
      "  ❌ Error updating post lw9ruc: 'Redditor' object has no attribute 'id'\n"
     ]
    },
    {
     "name": "stderr",
     "output_type": "stream",
     "text": [
      "Updating authors: 100%|██████████| 100/100 [03:19<00:00,  2.00s/it]\n"
     ]
    },
    {
     "name": "stdout",
     "output_type": "stream",
     "text": [
      "Progress: 36,059/53,187 (67.8%)\n",
      "Success rate: 36059/37800 (95.4%)\n",
      "Posts per minute: 26.5\n",
      "Taking a 30-second break between batches...\n",
      "\n",
      "Processing batch 379/532\n"
     ]
    },
    {
     "name": "stderr",
     "output_type": "stream",
     "text": [
      "Updating authors:  33%|███▎      | 33/100 [00:56<01:52,  1.68s/it]"
     ]
    },
    {
     "name": "stdout",
     "output_type": "stream",
     "text": [
      "  ❌ Error updating post ly6amu: 'Redditor' object has no attribute 'id'\n"
     ]
    },
    {
     "name": "stderr",
     "output_type": "stream",
     "text": [
      "Updating authors:  50%|█████     | 50/100 [01:29<01:40,  2.02s/it]"
     ]
    },
    {
     "name": "stdout",
     "output_type": "stream",
     "text": [
      "  ❌ Error updating post lxxq7g: 'Redditor' object has no attribute 'id'\n"
     ]
    },
    {
     "name": "stderr",
     "output_type": "stream",
     "text": [
      "Updating authors: 100%|██████████| 100/100 [03:06<00:00,  1.87s/it]\n"
     ]
    },
    {
     "name": "stdout",
     "output_type": "stream",
     "text": [
      "Progress: 36,157/53,187 (68.0%)\n",
      "Success rate: 36157/37900 (95.4%)\n",
      "Posts per minute: 26.5\n",
      "Taking a 30-second break between batches...\n",
      "\n",
      "Processing batch 380/532\n"
     ]
    },
    {
     "name": "stderr",
     "output_type": "stream",
     "text": [
      "Updating authors:   0%|          | 0/100 [00:00<?, ?it/s]"
     ]
    },
    {
     "name": "stdout",
     "output_type": "stream",
     "text": [
      "  ❌ Error updating post lxbley: 'Redditor' object has no attribute 'id'\n"
     ]
    },
    {
     "name": "stderr",
     "output_type": "stream",
     "text": [
      "Updating authors:  14%|█▍        | 14/100 [00:26<02:42,  1.89s/it]"
     ]
    },
    {
     "name": "stdout",
     "output_type": "stream",
     "text": [
      "  ❌ Error updating post lxact2: received 404 HTTP response\n"
     ]
    },
    {
     "name": "stderr",
     "output_type": "stream",
     "text": [
      "Updating authors:  46%|████▌     | 46/100 [01:28<01:50,  2.05s/it]"
     ]
    },
    {
     "name": "stdout",
     "output_type": "stream",
     "text": [
      "  ❌ Error updating post lx8alj: 'Redditor' object has no attribute 'id'\n"
     ]
    },
    {
     "name": "stderr",
     "output_type": "stream",
     "text": [
      "Updating authors:  53%|█████▎    | 53/100 [01:42<01:28,  1.87s/it]"
     ]
    },
    {
     "name": "stdout",
     "output_type": "stream",
     "text": [
      "  ❌ Error updating post lx81zu: 'Redditor' object has no attribute 'id'\n"
     ]
    },
    {
     "name": "stderr",
     "output_type": "stream",
     "text": [
      "Updating authors:  69%|██████▉   | 69/100 [02:14<00:55,  1.78s/it]"
     ]
    },
    {
     "name": "stdout",
     "output_type": "stream",
     "text": [
      "  ❌ Error updating post lx73ar: 'Redditor' object has no attribute 'id'\n"
     ]
    },
    {
     "name": "stderr",
     "output_type": "stream",
     "text": [
      "Updating authors: 100%|██████████| 100/100 [03:12<00:00,  1.93s/it]\n"
     ]
    },
    {
     "name": "stdout",
     "output_type": "stream",
     "text": [
      "Progress: 36,252/53,187 (68.2%)\n",
      "Success rate: 36252/38000 (95.4%)\n",
      "Posts per minute: 26.5\n",
      "Taking a 30-second break between batches...\n",
      "\n",
      "Processing batch 381/532\n"
     ]
    },
    {
     "name": "stderr",
     "output_type": "stream",
     "text": [
      "Updating authors:  65%|██████▌   | 65/100 [02:06<01:34,  2.69s/it]"
     ]
    },
    {
     "name": "stdout",
     "output_type": "stream",
     "text": [
      "  ❌ Error updating post lx3ygl: 'Redditor' object has no attribute 'id'\n"
     ]
    },
    {
     "name": "stderr",
     "output_type": "stream",
     "text": [
      "Updating authors: 100%|██████████| 100/100 [03:16<00:00,  1.96s/it]\n"
     ]
    },
    {
     "name": "stdout",
     "output_type": "stream",
     "text": [
      "Progress: 36,351/53,187 (68.3%)\n",
      "Success rate: 36351/38100 (95.4%)\n",
      "Posts per minute: 26.5\n",
      "Taking a 30-second break between batches...\n",
      "\n",
      "Processing batch 382/532\n"
     ]
    },
    {
     "name": "stderr",
     "output_type": "stream",
     "text": [
      "Updating authors:   0%|          | 0/100 [00:00<?, ?it/s]"
     ]
    },
    {
     "name": "stdout",
     "output_type": "stream",
     "text": [
      "  ❌ Error updating post lx1xah: 'Redditor' object has no attribute 'id'\n"
     ]
    },
    {
     "name": "stderr",
     "output_type": "stream",
     "text": [
      "Updating authors:  49%|████▉     | 49/100 [01:25<01:27,  1.72s/it]"
     ]
    },
    {
     "name": "stdout",
     "output_type": "stream",
     "text": [
      "  ❌ Error updating post lwzvtm: 'Redditor' object has no attribute 'id'\n"
     ]
    },
    {
     "name": "stderr",
     "output_type": "stream",
     "text": [
      "Updating authors:  50%|█████     | 50/100 [01:27<01:24,  1.70s/it]"
     ]
    },
    {
     "name": "stdout",
     "output_type": "stream",
     "text": [
      "  ❌ Error updating post lwzu55: 'Redditor' object has no attribute 'id'\n"
     ]
    },
    {
     "name": "stderr",
     "output_type": "stream",
     "text": [
      "Updating authors:  51%|█████     | 51/100 [01:29<01:23,  1.70s/it]"
     ]
    },
    {
     "name": "stdout",
     "output_type": "stream",
     "text": [
      "  ❌ Error updating post lwztnt: 'Redditor' object has no attribute 'id'\n"
     ]
    },
    {
     "name": "stderr",
     "output_type": "stream",
     "text": [
      "Updating authors:  56%|█████▌    | 56/100 [01:38<01:17,  1.77s/it]"
     ]
    },
    {
     "name": "stdout",
     "output_type": "stream",
     "text": [
      "  ❌ Error updating post lwzrft: 'Redditor' object has no attribute 'id'\n"
     ]
    },
    {
     "name": "stderr",
     "output_type": "stream",
     "text": [
      "Updating authors:  67%|██████▋   | 67/100 [01:57<00:58,  1.76s/it]"
     ]
    },
    {
     "name": "stdout",
     "output_type": "stream",
     "text": [
      "  ❌ Error updating post lwz5yu: 'Redditor' object has no attribute 'id'\n"
     ]
    },
    {
     "name": "stderr",
     "output_type": "stream",
     "text": [
      "Updating authors:  88%|████████▊ | 88/100 [02:42<00:24,  2.06s/it]"
     ]
    },
    {
     "name": "stdout",
     "output_type": "stream",
     "text": [
      "  ❌ Error updating post lwxtdu: 'Redditor' object has no attribute 'id'\n"
     ]
    },
    {
     "name": "stderr",
     "output_type": "stream",
     "text": [
      "Updating authors: 100%|██████████| 100/100 [03:06<00:00,  1.86s/it]\n"
     ]
    },
    {
     "name": "stdout",
     "output_type": "stream",
     "text": [
      "Progress: 36,444/53,187 (68.5%)\n",
      "Success rate: 36444/38200 (95.4%)\n",
      "Posts per minute: 26.5\n",
      "Taking a 30-second break between batches...\n",
      "\n",
      "Processing batch 383/532\n"
     ]
    },
    {
     "name": "stderr",
     "output_type": "stream",
     "text": [
      "Updating authors:  13%|█▎        | 13/100 [00:26<02:46,  1.92s/it]"
     ]
    },
    {
     "name": "stdout",
     "output_type": "stream",
     "text": [
      "  ❌ Error updating post lwwm97: 'Redditor' object has no attribute 'id'\n"
     ]
    },
    {
     "name": "stderr",
     "output_type": "stream",
     "text": [
      "Updating authors:  20%|██        | 20/100 [00:41<02:30,  1.88s/it]"
     ]
    },
    {
     "name": "stdout",
     "output_type": "stream",
     "text": [
      "  ❌ Error updating post lww50h: 'Redditor' object has no attribute 'id'\n"
     ]
    },
    {
     "name": "stderr",
     "output_type": "stream",
     "text": [
      "Updating authors:  45%|████▌     | 45/100 [01:27<01:44,  1.89s/it]"
     ]
    },
    {
     "name": "stdout",
     "output_type": "stream",
     "text": [
      "  ❌ Error updating post lymsjd: 'Redditor' object has no attribute 'id'\n"
     ]
    },
    {
     "name": "stderr",
     "output_type": "stream",
     "text": [
      "Updating authors:  53%|█████▎    | 53/100 [01:43<01:22,  1.75s/it]"
     ]
    },
    {
     "name": "stdout",
     "output_type": "stream",
     "text": [
      "  ❌ Error updating post lxqhmb: 'Redditor' object has no attribute 'id'\n"
     ]
    },
    {
     "name": "stderr",
     "output_type": "stream",
     "text": [
      "Updating authors:  74%|███████▍  | 74/100 [02:27<01:03,  2.44s/it]"
     ]
    },
    {
     "name": "stdout",
     "output_type": "stream",
     "text": [
      "  ❌ Error updating post lxoxsq: 'Redditor' object has no attribute 'id'\n"
     ]
    },
    {
     "name": "stderr",
     "output_type": "stream",
     "text": [
      "Updating authors: 100%|██████████| 100/100 [03:18<00:00,  1.98s/it]\n"
     ]
    },
    {
     "name": "stdout",
     "output_type": "stream",
     "text": [
      "Progress: 36,539/53,187 (68.7%)\n",
      "Success rate: 36539/38300 (95.4%)\n",
      "Posts per minute: 26.5\n",
      "Taking a 30-second break between batches...\n",
      "\n",
      "Processing batch 384/532\n"
     ]
    },
    {
     "name": "stderr",
     "output_type": "stream",
     "text": [
      "Updating authors:  19%|█▉        | 19/100 [00:43<03:51,  2.86s/it]"
     ]
    },
    {
     "name": "stdout",
     "output_type": "stream",
     "text": [
      "  ❌ Error updating post lxm0vo: 'Redditor' object has no attribute 'id'\n"
     ]
    },
    {
     "name": "stderr",
     "output_type": "stream",
     "text": [
      "Updating authors:  59%|█████▉    | 59/100 [02:18<01:26,  2.10s/it]"
     ]
    },
    {
     "name": "stdout",
     "output_type": "stream",
     "text": [
      "  ❌ Error updating post lxivq3: received 404 HTTP response\n"
     ]
    },
    {
     "name": "stderr",
     "output_type": "stream",
     "text": [
      "Updating authors:  65%|██████▌   | 65/100 [02:31<01:04,  1.86s/it]"
     ]
    },
    {
     "name": "stdout",
     "output_type": "stream",
     "text": [
      "  ❌ Error updating post lxi650: 'Redditor' object has no attribute 'id'\n"
     ]
    },
    {
     "name": "stderr",
     "output_type": "stream",
     "text": [
      "Updating authors:  72%|███████▏  | 72/100 [02:53<01:10,  2.51s/it]"
     ]
    },
    {
     "name": "stdout",
     "output_type": "stream",
     "text": [
      "  ❌ Error updating post lxhdum: 'Redditor' object has no attribute 'id'\n"
     ]
    },
    {
     "name": "stderr",
     "output_type": "stream",
     "text": [
      "Updating authors:  90%|█████████ | 90/100 [03:28<00:20,  2.02s/it]"
     ]
    },
    {
     "name": "stdout",
     "output_type": "stream",
     "text": [
      "  ❌ Error updating post lxefe0: 'Redditor' object has no attribute 'id'\n"
     ]
    },
    {
     "name": "stderr",
     "output_type": "stream",
     "text": [
      "Updating authors: 100%|██████████| 100/100 [03:46<00:00,  2.27s/it]\n"
     ]
    },
    {
     "name": "stdout",
     "output_type": "stream",
     "text": [
      "Progress: 36,634/53,187 (68.9%)\n",
      "Success rate: 36634/38400 (95.4%)\n",
      "Posts per minute: 26.5\n",
      "Taking a 30-second break between batches...\n",
      "\n",
      "Processing batch 385/532\n"
     ]
    },
    {
     "name": "stderr",
     "output_type": "stream",
     "text": [
      "Updating authors:  31%|███       | 31/100 [01:01<02:12,  1.92s/it]"
     ]
    },
    {
     "name": "stdout",
     "output_type": "stream",
     "text": [
      "  ❌ Error updating post lxved5: 'Redditor' object has no attribute 'id'\n"
     ]
    },
    {
     "name": "stderr",
     "output_type": "stream",
     "text": [
      "Updating authors:  46%|████▌     | 46/100 [01:33<01:39,  1.84s/it]"
     ]
    },
    {
     "name": "stdout",
     "output_type": "stream",
     "text": [
      "  ❌ Error updating post lxuuho: 'Redditor' object has no attribute 'id'\n"
     ]
    },
    {
     "name": "stderr",
     "output_type": "stream",
     "text": [
      "Updating authors:  78%|███████▊  | 78/100 [02:46<00:52,  2.37s/it]"
     ]
    },
    {
     "name": "stdout",
     "output_type": "stream",
     "text": [
      "  ❌ Error updating post lxt8co: 'Redditor' object has no attribute 'id'\n"
     ]
    },
    {
     "name": "stderr",
     "output_type": "stream",
     "text": [
      "Updating authors:  83%|████████▎ | 83/100 [02:59<00:46,  2.74s/it]"
     ]
    },
    {
     "name": "stdout",
     "output_type": "stream",
     "text": [
      "  ❌ Error updating post lxt0bx: 'Redditor' object has no attribute 'id'\n"
     ]
    },
    {
     "name": "stderr",
     "output_type": "stream",
     "text": [
      "Updating authors:  99%|█████████▉| 99/100 [03:26<00:01,  1.68s/it]"
     ]
    },
    {
     "name": "stdout",
     "output_type": "stream",
     "text": [
      "  ❌ Error updating post lxs802: 'Redditor' object has no attribute 'id'\n"
     ]
    },
    {
     "name": "stderr",
     "output_type": "stream",
     "text": [
      "Updating authors: 100%|██████████| 100/100 [03:27<00:00,  2.08s/it]\n"
     ]
    },
    {
     "name": "stdout",
     "output_type": "stream",
     "text": [
      "Progress: 36,729/53,187 (69.1%)\n",
      "Success rate: 36729/38500 (95.4%)\n",
      "Posts per minute: 26.5\n",
      "Taking a 30-second break between batches...\n",
      "\n",
      "Processing batch 386/532\n"
     ]
    },
    {
     "name": "stderr",
     "output_type": "stream",
     "text": [
      "Updating authors:  46%|████▌     | 46/100 [01:33<01:33,  1.73s/it]"
     ]
    },
    {
     "name": "stdout",
     "output_type": "stream",
     "text": [
      "  ❌ Error updating post lyi9l5: 'Redditor' object has no attribute 'id'\n"
     ]
    },
    {
     "name": "stderr",
     "output_type": "stream",
     "text": [
      "Updating authors: 100%|██████████| 100/100 [03:17<00:00,  1.97s/it]\n"
     ]
    },
    {
     "name": "stdout",
     "output_type": "stream",
     "text": [
      "Progress: 36,828/53,187 (69.2%)\n",
      "Success rate: 36828/38600 (95.4%)\n",
      "Posts per minute: 26.5\n",
      "Taking a 30-second break between batches...\n",
      "\n",
      "Processing batch 387/532\n"
     ]
    },
    {
     "name": "stderr",
     "output_type": "stream",
     "text": [
      "Updating authors:  60%|██████    | 60/100 [01:56<01:48,  2.72s/it]"
     ]
    },
    {
     "name": "stdout",
     "output_type": "stream",
     "text": [
      "  ❌ Error updating post lyclrc: 'Redditor' object has no attribute 'id'\n"
     ]
    },
    {
     "name": "stderr",
     "output_type": "stream",
     "text": [
      "Updating authors:  65%|██████▌   | 65/100 [02:09<01:28,  2.53s/it]"
     ]
    },
    {
     "name": "stdout",
     "output_type": "stream",
     "text": [
      "  ❌ Error updating post lycb03: 'Redditor' object has no attribute 'id'\n"
     ]
    },
    {
     "name": "stderr",
     "output_type": "stream",
     "text": [
      "Updating authors:  67%|██████▋   | 67/100 [02:13<01:13,  2.22s/it]"
     ]
    },
    {
     "name": "stdout",
     "output_type": "stream",
     "text": [
      "  ❌ Error updating post lyc6dj: 'Redditor' object has no attribute 'id'\n"
     ]
    },
    {
     "name": "stderr",
     "output_type": "stream",
     "text": [
      "Updating authors:  83%|████████▎ | 83/100 [02:57<00:47,  2.81s/it]"
     ]
    },
    {
     "name": "stdout",
     "output_type": "stream",
     "text": [
      "  ❌ Error updating post lya64j: 'Redditor' object has no attribute 'id'\n"
     ]
    },
    {
     "name": "stderr",
     "output_type": "stream",
     "text": [
      "Updating authors:  87%|████████▋ | 87/100 [03:06<00:30,  2.35s/it]"
     ]
    },
    {
     "name": "stdout",
     "output_type": "stream",
     "text": [
      "  ❌ Error updating post ly9tmc: 'Redditor' object has no attribute 'id'\n"
     ]
    },
    {
     "name": "stderr",
     "output_type": "stream",
     "text": [
      "Updating authors: 100%|██████████| 100/100 [03:39<00:00,  2.19s/it]\n"
     ]
    },
    {
     "name": "stdout",
     "output_type": "stream",
     "text": [
      "Progress: 36,923/53,187 (69.4%)\n",
      "Success rate: 36923/38700 (95.4%)\n",
      "Posts per minute: 26.5\n",
      "Taking a 30-second break between batches...\n",
      "\n",
      "Processing batch 388/532\n"
     ]
    },
    {
     "name": "stderr",
     "output_type": "stream",
     "text": [
      "Updating authors:  27%|██▋       | 27/100 [00:54<02:51,  2.35s/it]"
     ]
    },
    {
     "name": "stdout",
     "output_type": "stream",
     "text": [
      "  ❌ Error updating post ly1kag: 'Redditor' object has no attribute 'id'\n"
     ]
    },
    {
     "name": "stderr",
     "output_type": "stream",
     "text": [
      "Updating authors:  30%|███       | 30/100 [00:59<02:14,  1.92s/it]"
     ]
    },
    {
     "name": "stdout",
     "output_type": "stream",
     "text": [
      "  ❌ Error updating post ly14x0: 'Redditor' object has no attribute 'id'\n"
     ]
    },
    {
     "name": "stderr",
     "output_type": "stream",
     "text": [
      "Updating authors:  56%|█████▌    | 56/100 [01:52<01:11,  1.63s/it]"
     ]
    },
    {
     "name": "stdout",
     "output_type": "stream",
     "text": [
      "  ❌ Error updating post lxzvy7: 'Redditor' object has no attribute 'id'\n"
     ]
    },
    {
     "name": "stderr",
     "output_type": "stream",
     "text": [
      "Updating authors:  85%|████████▌ | 85/100 [02:48<00:27,  1.82s/it]"
     ]
    },
    {
     "name": "stdout",
     "output_type": "stream",
     "text": [
      "  ❌ Error updating post lxyae0: 'Redditor' object has no attribute 'id'\n"
     ]
    },
    {
     "name": "stderr",
     "output_type": "stream",
     "text": [
      "Updating authors: 100%|██████████| 100/100 [03:16<00:00,  1.96s/it]\n"
     ]
    },
    {
     "name": "stdout",
     "output_type": "stream",
     "text": [
      "Progress: 37,019/53,187 (69.6%)\n",
      "Success rate: 37019/38800 (95.4%)\n",
      "Posts per minute: 26.4\n",
      "Taking a 30-second break between batches...\n",
      "\n",
      "Processing batch 389/532\n"
     ]
    },
    {
     "name": "stderr",
     "output_type": "stream",
     "text": [
      "Updating authors:   6%|▌         | 6/100 [00:10<02:40,  1.70s/it]"
     ]
    },
    {
     "name": "stdout",
     "output_type": "stream",
     "text": [
      "  ❌ Error updating post lxxdik: 'Redditor' object has no attribute 'id'\n"
     ]
    },
    {
     "name": "stderr",
     "output_type": "stream",
     "text": [
      "Updating authors:  83%|████████▎ | 83/100 [02:34<00:33,  1.99s/it]"
     ]
    },
    {
     "name": "stdout",
     "output_type": "stream",
     "text": [
      "  ❌ Error updating post m0hxew: 'Redditor' object has no attribute 'id'\n"
     ]
    },
    {
     "name": "stderr",
     "output_type": "stream",
     "text": [
      "Updating authors: 100%|██████████| 100/100 [03:06<00:00,  1.86s/it]\n"
     ]
    },
    {
     "name": "stdout",
     "output_type": "stream",
     "text": [
      "Progress: 37,117/53,187 (69.8%)\n",
      "Success rate: 37117/38900 (95.4%)\n",
      "Posts per minute: 26.5\n",
      "Taking a 30-second break between batches...\n",
      "\n",
      "Processing batch 390/532\n"
     ]
    },
    {
     "name": "stderr",
     "output_type": "stream",
     "text": [
      "Updating authors:  36%|███▌      | 36/100 [01:46<03:16,  3.06s/it]"
     ]
    },
    {
     "name": "stdout",
     "output_type": "stream",
     "text": [
      "  ❌ Error updating post m07r2f: 'Redditor' object has no attribute 'id'\n"
     ]
    },
    {
     "name": "stderr",
     "output_type": "stream",
     "text": [
      "Updating authors:  40%|████      | 40/100 [01:55<02:32,  2.54s/it]"
     ]
    },
    {
     "name": "stdout",
     "output_type": "stream",
     "text": [
      "  ❌ Error updating post m06dsu: 'Redditor' object has no attribute 'id'\n"
     ]
    },
    {
     "name": "stderr",
     "output_type": "stream",
     "text": [
      "Updating authors:  82%|████████▏ | 82/100 [03:37<00:52,  2.89s/it]"
     ]
    },
    {
     "name": "stdout",
     "output_type": "stream",
     "text": [
      "  ❌ Error updating post lzyhni: 'Redditor' object has no attribute 'id'\n"
     ]
    },
    {
     "name": "stderr",
     "output_type": "stream",
     "text": [
      "Updating authors:  87%|████████▋ | 87/100 [03:46<00:27,  2.10s/it]"
     ]
    },
    {
     "name": "stdout",
     "output_type": "stream",
     "text": [
      "  ❌ Error updating post lzxf02: 'Redditor' object has no attribute 'id'\n"
     ]
    },
    {
     "name": "stderr",
     "output_type": "stream",
     "text": [
      "Updating authors: 100%|██████████| 100/100 [04:21<00:00,  2.62s/it]\n"
     ]
    },
    {
     "name": "stdout",
     "output_type": "stream",
     "text": [
      "Progress: 37,213/53,187 (70.0%)\n",
      "Success rate: 37213/39000 (95.4%)\n",
      "Posts per minute: 26.4\n",
      "Taking a 30-second break between batches...\n",
      "\n",
      "Processing batch 391/532\n"
     ]
    },
    {
     "name": "stderr",
     "output_type": "stream",
     "text": [
      "Updating authors:  13%|█▎        | 13/100 [00:33<03:04,  2.12s/it]"
     ]
    },
    {
     "name": "stdout",
     "output_type": "stream",
     "text": [
      "  ❌ Error updating post lztbtc: 'Redditor' object has no attribute 'id'\n"
     ]
    },
    {
     "name": "stderr",
     "output_type": "stream",
     "text": [
      "Updating authors:  16%|█▌        | 16/100 [00:42<04:05,  2.92s/it]"
     ]
    },
    {
     "name": "stdout",
     "output_type": "stream",
     "text": [
      "  ❌ Error updating post lzsaq7: 'Redditor' object has no attribute 'id'\n"
     ]
    },
    {
     "name": "stderr",
     "output_type": "stream",
     "text": [
      "Updating authors:  63%|██████▎   | 63/100 [02:40<01:23,  2.25s/it]"
     ]
    },
    {
     "name": "stdout",
     "output_type": "stream",
     "text": [
      "  ❌ Error updating post lzgz1j: 'Redditor' object has no attribute 'id'\n"
     ]
    },
    {
     "name": "stderr",
     "output_type": "stream",
     "text": [
      "Updating authors:  90%|█████████ | 90/100 [03:35<00:18,  1.89s/it]"
     ]
    },
    {
     "name": "stdout",
     "output_type": "stream",
     "text": [
      "  ❌ Error updating post lzcg1r: 'Redditor' object has no attribute 'id'\n"
     ]
    },
    {
     "name": "stderr",
     "output_type": "stream",
     "text": [
      "Updating authors: 100%|██████████| 100/100 [03:59<00:00,  2.39s/it]\n"
     ]
    },
    {
     "name": "stdout",
     "output_type": "stream",
     "text": [
      "Progress: 37,309/53,187 (70.1%)\n",
      "Success rate: 37309/39100 (95.4%)\n",
      "Posts per minute: 26.4\n",
      "Taking a 30-second break between batches...\n",
      "\n",
      "Processing batch 392/532\n"
     ]
    },
    {
     "name": "stderr",
     "output_type": "stream",
     "text": [
      "Updating authors:  12%|█▏        | 12/100 [00:23<02:45,  1.88s/it]"
     ]
    },
    {
     "name": "stdout",
     "output_type": "stream",
     "text": [
      "  ❌ Error updating post lz8xfl: 'Redditor' object has no attribute 'id'\n"
     ]
    },
    {
     "name": "stderr",
     "output_type": "stream",
     "text": [
      "Updating authors:  20%|██        | 20/100 [00:40<02:32,  1.91s/it]"
     ]
    },
    {
     "name": "stdout",
     "output_type": "stream",
     "text": [
      "  ❌ Error updating post lz7rl1: 'Redditor' object has no attribute 'id'\n"
     ]
    },
    {
     "name": "stderr",
     "output_type": "stream",
     "text": [
      "Updating authors:  52%|█████▏    | 52/100 [01:58<02:16,  2.84s/it]"
     ]
    },
    {
     "name": "stdout",
     "output_type": "stream",
     "text": [
      "  ❌ Error updating post lz2kg8: 'Redditor' object has no attribute 'id'\n"
     ]
    },
    {
     "name": "stderr",
     "output_type": "stream",
     "text": [
      "Updating authors:  76%|███████▌  | 76/100 [02:55<01:01,  2.57s/it]"
     ]
    },
    {
     "name": "stdout",
     "output_type": "stream",
     "text": [
      "  ❌ Error updating post lyysbc: 'Redditor' object has no attribute 'id'\n"
     ]
    },
    {
     "name": "stderr",
     "output_type": "stream",
     "text": [
      "Updating authors: 100%|██████████| 100/100 [03:44<00:00,  2.25s/it]\n"
     ]
    },
    {
     "name": "stdout",
     "output_type": "stream",
     "text": [
      "Progress: 37,405/53,187 (70.3%)\n",
      "Success rate: 37405/39200 (95.4%)\n",
      "Posts per minute: 26.4\n",
      "Taking a 30-second break between batches...\n",
      "\n",
      "Processing batch 393/532\n"
     ]
    },
    {
     "name": "stderr",
     "output_type": "stream",
     "text": [
      "Updating authors:  26%|██▌       | 26/100 [00:54<02:24,  1.95s/it]"
     ]
    },
    {
     "name": "stdout",
     "output_type": "stream",
     "text": [
      "  ❌ Error updating post lyryc6: 'Redditor' object has no attribute 'id'\n"
     ]
    },
    {
     "name": "stderr",
     "output_type": "stream",
     "text": [
      "Updating authors:  49%|████▉     | 49/100 [01:41<01:40,  1.98s/it]"
     ]
    },
    {
     "name": "stdout",
     "output_type": "stream",
     "text": [
      "  ❌ Error updating post lyqnf8: 'Redditor' object has no attribute 'id'\n"
     ]
    },
    {
     "name": "stderr",
     "output_type": "stream",
     "text": [
      "Updating authors:  62%|██████▏   | 62/100 [02:04<01:02,  1.65s/it]"
     ]
    },
    {
     "name": "stdout",
     "output_type": "stream",
     "text": [
      "  ❌ Error updating post lyq3ei: 'Redditor' object has no attribute 'id'\n"
     ]
    },
    {
     "name": "stderr",
     "output_type": "stream",
     "text": [
      "Updating authors: 100%|██████████| 100/100 [03:14<00:00,  1.94s/it]\n"
     ]
    },
    {
     "name": "stdout",
     "output_type": "stream",
     "text": [
      "Progress: 37,502/53,187 (70.5%)\n",
      "Success rate: 37502/39300 (95.4%)\n",
      "Posts per minute: 26.4\n",
      "Taking a 30-second break between batches...\n",
      "\n",
      "Processing batch 394/532\n"
     ]
    },
    {
     "name": "stderr",
     "output_type": "stream",
     "text": [
      "Updating authors:  11%|█         | 11/100 [00:20<02:32,  1.72s/it]"
     ]
    },
    {
     "name": "stdout",
     "output_type": "stream",
     "text": [
      "  ❌ Error updating post lyntlz: 'Redditor' object has no attribute 'id'\n"
     ]
    },
    {
     "name": "stderr",
     "output_type": "stream",
     "text": [
      "Updating authors:  75%|███████▌  | 75/100 [02:26<00:45,  1.84s/it]"
     ]
    },
    {
     "name": "stdout",
     "output_type": "stream",
     "text": [
      "  ❌ Error updating post lykmre: 'Redditor' object has no attribute 'id'\n"
     ]
    },
    {
     "name": "stderr",
     "output_type": "stream",
     "text": [
      "Updating authors: 100%|██████████| 100/100 [03:16<00:00,  1.96s/it]\n"
     ]
    },
    {
     "name": "stdout",
     "output_type": "stream",
     "text": [
      "Progress: 37,600/53,187 (70.7%)\n",
      "Success rate: 37600/39400 (95.4%)\n",
      "Posts per minute: 26.4\n",
      "Taking a 30-second break between batches...\n",
      "\n",
      "Processing batch 395/532\n"
     ]
    },
    {
     "name": "stderr",
     "output_type": "stream",
     "text": [
      "Updating authors:   2%|▏         | 2/100 [00:03<03:17,  2.01s/it]"
     ]
    },
    {
     "name": "stdout",
     "output_type": "stream",
     "text": [
      "  ❌ Error updating post lyjhmg: 'Redditor' object has no attribute 'id'\n"
     ]
    },
    {
     "name": "stderr",
     "output_type": "stream",
     "text": [
      "Updating authors:  20%|██        | 20/100 [00:41<02:14,  1.68s/it]"
     ]
    },
    {
     "name": "stdout",
     "output_type": "stream",
     "text": [
      "  ❌ Error updating post m1urcd: 'Redditor' object has no attribute 'id'\n"
     ]
    },
    {
     "name": "stderr",
     "output_type": "stream",
     "text": [
      "Updating authors:  31%|███       | 31/100 [01:02<02:02,  1.77s/it]"
     ]
    },
    {
     "name": "stdout",
     "output_type": "stream",
     "text": [
      "  ❌ Error updating post m1t04s: 'Redditor' object has no attribute 'id'\n"
     ]
    },
    {
     "name": "stderr",
     "output_type": "stream",
     "text": [
      "Updating authors:  59%|█████▉    | 59/100 [01:52<01:06,  1.62s/it]"
     ]
    },
    {
     "name": "stdout",
     "output_type": "stream",
     "text": [
      "  ❌ Error updating post m1f7og: 'Redditor' object has no attribute 'id'\n"
     ]
    },
    {
     "name": "stderr",
     "output_type": "stream",
     "text": [
      "Updating authors:  73%|███████▎  | 73/100 [02:20<00:46,  1.72s/it]"
     ]
    },
    {
     "name": "stdout",
     "output_type": "stream",
     "text": [
      "  ❌ Error updating post m1etco: 'Redditor' object has no attribute 'id'\n"
     ]
    },
    {
     "name": "stderr",
     "output_type": "stream",
     "text": [
      "Updating authors:  75%|███████▌  | 75/100 [02:24<00:42,  1.70s/it]"
     ]
    },
    {
     "name": "stdout",
     "output_type": "stream",
     "text": [
      "  ❌ Error updating post m1ercf: 'Redditor' object has no attribute 'id'\n"
     ]
    },
    {
     "name": "stderr",
     "output_type": "stream",
     "text": [
      "Updating authors:  93%|█████████▎| 93/100 [02:59<00:12,  1.78s/it]"
     ]
    },
    {
     "name": "stdout",
     "output_type": "stream",
     "text": [
      "  ❌ Error updating post m1dopd: 'Redditor' object has no attribute 'id'\n"
     ]
    },
    {
     "name": "stderr",
     "output_type": "stream",
     "text": [
      "Updating authors: 100%|██████████| 100/100 [03:11<00:00,  1.91s/it]\n"
     ]
    },
    {
     "name": "stdout",
     "output_type": "stream",
     "text": [
      "Progress: 37,693/53,187 (70.9%)\n",
      "Success rate: 37693/39500 (95.4%)\n",
      "Posts per minute: 26.4\n",
      "Taking a 30-second break between batches...\n",
      "\n",
      "Processing batch 396/532\n"
     ]
    },
    {
     "name": "stderr",
     "output_type": "stream",
     "text": [
      "Updating authors:  48%|████▊     | 48/100 [01:42<02:21,  2.72s/it]"
     ]
    },
    {
     "name": "stdout",
     "output_type": "stream",
     "text": [
      "  ❌ Error updating post m1c5yz: 'Redditor' object has no attribute 'id'\n"
     ]
    },
    {
     "name": "stderr",
     "output_type": "stream",
     "text": [
      "Updating authors:  55%|█████▌    | 55/100 [01:55<01:22,  1.84s/it]"
     ]
    },
    {
     "name": "stdout",
     "output_type": "stream",
     "text": [
      "  ❌ Error updating post m1c2po: 'Redditor' object has no attribute 'id'\n"
     ]
    },
    {
     "name": "stderr",
     "output_type": "stream",
     "text": [
      "Updating authors:  66%|██████▌   | 66/100 [02:12<00:56,  1.66s/it]"
     ]
    },
    {
     "name": "stdout",
     "output_type": "stream",
     "text": [
      "  ❌ Error updating post m1bu7e: 'Redditor' object has no attribute 'id'\n"
     ]
    },
    {
     "name": "stderr",
     "output_type": "stream",
     "text": [
      "Updating authors:  95%|█████████▌| 95/100 [03:02<00:08,  1.79s/it]"
     ]
    },
    {
     "name": "stdout",
     "output_type": "stream",
     "text": [
      "  ❌ Error updating post m1aqig: 'Redditor' object has no attribute 'id'\n"
     ]
    },
    {
     "name": "stderr",
     "output_type": "stream",
     "text": [
      "Updating authors: 100%|██████████| 100/100 [03:11<00:00,  1.91s/it]\n"
     ]
    },
    {
     "name": "stdout",
     "output_type": "stream",
     "text": [
      "Progress: 37,789/53,187 (71.0%)\n",
      "Success rate: 37789/39600 (95.4%)\n",
      "Posts per minute: 26.4\n",
      "Taking a 30-second break between batches...\n",
      "\n",
      "Processing batch 397/532\n"
     ]
    },
    {
     "name": "stderr",
     "output_type": "stream",
     "text": [
      "Updating authors:  16%|█▌        | 16/100 [00:31<02:45,  1.97s/it]"
     ]
    },
    {
     "name": "stdout",
     "output_type": "stream",
     "text": [
      "  ❌ Error updating post m19v40: 'Redditor' object has no attribute 'id'\n"
     ]
    },
    {
     "name": "stderr",
     "output_type": "stream",
     "text": [
      "Updating authors:  39%|███▉      | 39/100 [01:19<01:55,  1.89s/it]"
     ]
    },
    {
     "name": "stdout",
     "output_type": "stream",
     "text": [
      "  ❌ Error updating post m18hf4: 'Redditor' object has no attribute 'id'\n"
     ]
    },
    {
     "name": "stderr",
     "output_type": "stream",
     "text": [
      "Updating authors:  48%|████▊     | 48/100 [01:40<02:04,  2.39s/it]"
     ]
    },
    {
     "name": "stdout",
     "output_type": "stream",
     "text": [
      "  ❌ Error updating post m17xt9: 'Redditor' object has no attribute 'id'\n"
     ]
    },
    {
     "name": "stderr",
     "output_type": "stream",
     "text": [
      "Updating authors:  55%|█████▌    | 55/100 [01:56<01:41,  2.26s/it]"
     ]
    },
    {
     "name": "stdout",
     "output_type": "stream",
     "text": [
      "  ❌ Error updating post m17ilr: 'Redditor' object has no attribute 'id'\n"
     ]
    },
    {
     "name": "stderr",
     "output_type": "stream",
     "text": [
      "Updating authors:  63%|██████▎   | 63/100 [02:18<01:38,  2.65s/it]"
     ]
    },
    {
     "name": "stdout",
     "output_type": "stream",
     "text": [
      "  ❌ Error updating post m16nbm: 'Redditor' object has no attribute 'id'\n"
     ]
    },
    {
     "name": "stderr",
     "output_type": "stream",
     "text": [
      "Updating authors:  92%|█████████▏| 92/100 [03:24<00:14,  1.76s/it]"
     ]
    },
    {
     "name": "stdout",
     "output_type": "stream",
     "text": [
      "  ❌ Error updating post m14vq1: 'Redditor' object has no attribute 'id'\n"
     ]
    },
    {
     "name": "stderr",
     "output_type": "stream",
     "text": [
      "Updating authors: 100%|██████████| 100/100 [03:49<00:00,  2.29s/it]\n"
     ]
    },
    {
     "name": "stdout",
     "output_type": "stream",
     "text": [
      "Progress: 37,883/53,187 (71.2%)\n",
      "Success rate: 37883/39700 (95.4%)\n",
      "Posts per minute: 26.4\n",
      "Taking a 30-second break between batches...\n",
      "\n",
      "Processing batch 398/532\n"
     ]
    },
    {
     "name": "stderr",
     "output_type": "stream",
     "text": [
      "Updating authors:   1%|          | 1/100 [00:02<03:24,  2.06s/it]"
     ]
    },
    {
     "name": "stdout",
     "output_type": "stream",
     "text": [
      "  ❌ Error updating post m13rpy: 'Redditor' object has no attribute 'id'\n"
     ]
    },
    {
     "name": "stderr",
     "output_type": "stream",
     "text": [
      "Updating authors:  41%|████      | 41/100 [01:26<01:45,  1.79s/it]"
     ]
    },
    {
     "name": "stdout",
     "output_type": "stream",
     "text": [
      "  ❌ Error updating post m0wvvb: 'Redditor' object has no attribute 'id'\n"
     ]
    },
    {
     "name": "stderr",
     "output_type": "stream",
     "text": [
      "Updating authors:  42%|████▏     | 42/100 [01:28<01:42,  1.77s/it]"
     ]
    },
    {
     "name": "stdout",
     "output_type": "stream",
     "text": [
      "  ❌ Error updating post m0wtzt: 'Redditor' object has no attribute 'id'\n"
     ]
    },
    {
     "name": "stderr",
     "output_type": "stream",
     "text": [
      "Updating authors:  56%|█████▌    | 56/100 [01:58<01:24,  1.92s/it]"
     ]
    },
    {
     "name": "stdout",
     "output_type": "stream",
     "text": [
      "  ❌ Error updating post m0w324: 'Redditor' object has no attribute 'id'\n"
     ]
    },
    {
     "name": "stderr",
     "output_type": "stream",
     "text": [
      "Updating authors:  81%|████████  | 81/100 [02:45<00:34,  1.81s/it]"
     ]
    },
    {
     "name": "stdout",
     "output_type": "stream",
     "text": [
      "  ❌ Error updating post m0tuk7: 'Redditor' object has no attribute 'id'\n"
     ]
    },
    {
     "name": "stderr",
     "output_type": "stream",
     "text": [
      "Updating authors: 100%|██████████| 100/100 [03:23<00:00,  2.03s/it]\n"
     ]
    },
    {
     "name": "stdout",
     "output_type": "stream",
     "text": [
      "Progress: 37,978/53,187 (71.4%)\n",
      "Success rate: 37978/39800 (95.4%)\n",
      "Posts per minute: 26.4\n",
      "Taking a 30-second break between batches...\n",
      "\n",
      "Processing batch 399/532\n"
     ]
    },
    {
     "name": "stderr",
     "output_type": "stream",
     "text": [
      "Updating authors:  18%|█▊        | 18/100 [00:35<02:20,  1.71s/it]"
     ]
    },
    {
     "name": "stdout",
     "output_type": "stream",
     "text": [
      "  ❌ Error updating post m0rxib: 'Redditor' object has no attribute 'id'\n"
     ]
    },
    {
     "name": "stderr",
     "output_type": "stream",
     "text": [
      "Updating authors:  37%|███▋      | 37/100 [01:17<02:30,  2.39s/it]"
     ]
    },
    {
     "name": "stdout",
     "output_type": "stream",
     "text": [
      "  ❌ Error updating post m0r2mp: 'Redditor' object has no attribute 'id'\n"
     ]
    },
    {
     "name": "stderr",
     "output_type": "stream",
     "text": [
      "Updating authors:  66%|██████▌   | 66/100 [02:09<01:04,  1.89s/it]"
     ]
    },
    {
     "name": "stdout",
     "output_type": "stream",
     "text": [
      "  ❌ Error updating post m0q7bl: 'Redditor' object has no attribute 'id'\n"
     ]
    },
    {
     "name": "stderr",
     "output_type": "stream",
     "text": [
      "Updating authors:  78%|███████▊  | 78/100 [02:36<00:40,  1.84s/it]"
     ]
    },
    {
     "name": "stdout",
     "output_type": "stream",
     "text": [
      "  ❌ Error updating post m0q0oa: 'Redditor' object has no attribute 'id'\n"
     ]
    },
    {
     "name": "stderr",
     "output_type": "stream",
     "text": [
      "Updating authors:  86%|████████▌ | 86/100 [02:53<00:27,  1.93s/it]"
     ]
    },
    {
     "name": "stdout",
     "output_type": "stream",
     "text": [
      "  ❌ Error updating post m0ppnx: 'Redditor' object has no attribute 'id'\n"
     ]
    },
    {
     "name": "stderr",
     "output_type": "stream",
     "text": [
      "Updating authors: 100%|██████████| 100/100 [03:20<00:00,  2.01s/it]\n"
     ]
    },
    {
     "name": "stdout",
     "output_type": "stream",
     "text": [
      "Progress: 38,073/53,187 (71.6%)\n",
      "Success rate: 38073/39900 (95.4%)\n",
      "Posts per minute: 26.4\n",
      "Taking a 30-second break between batches...\n",
      "\n",
      "Processing batch 400/532\n"
     ]
    },
    {
     "name": "stderr",
     "output_type": "stream",
     "text": [
      "Updating authors:  13%|█▎        | 13/100 [00:29<03:11,  2.20s/it]"
     ]
    },
    {
     "name": "stdout",
     "output_type": "stream",
     "text": [
      "  ❌ Error updating post m0o267: 'Redditor' object has no attribute 'id'\n"
     ]
    },
    {
     "name": "stderr",
     "output_type": "stream",
     "text": [
      "Updating authors:  17%|█▋        | 17/100 [00:37<02:49,  2.04s/it]"
     ]
    },
    {
     "name": "stdout",
     "output_type": "stream",
     "text": [
      "  ❌ Error updating post m0nnj9: 'Redditor' object has no attribute 'id'\n"
     ]
    },
    {
     "name": "stderr",
     "output_type": "stream",
     "text": [
      "Updating authors:  37%|███▋      | 37/100 [01:19<02:18,  2.21s/it]"
     ]
    },
    {
     "name": "stdout",
     "output_type": "stream",
     "text": [
      "  ❌ Error updating post m0l0p3: 'Redditor' object has no attribute 'id'\n"
     ]
    },
    {
     "name": "stderr",
     "output_type": "stream",
     "text": [
      "Updating authors:  58%|█████▊    | 58/100 [02:08<02:10,  3.10s/it]"
     ]
    },
    {
     "name": "stdout",
     "output_type": "stream",
     "text": [
      "  ❌ Error updating post m0izhn: 'Redditor' object has no attribute 'id'\n"
     ]
    },
    {
     "name": "stderr",
     "output_type": "stream",
     "text": [
      "Updating authors:  64%|██████▍   | 64/100 [02:22<01:12,  2.01s/it]"
     ]
    },
    {
     "name": "stdout",
     "output_type": "stream",
     "text": [
      "  ❌ Error updating post m2kbet: 'Redditor' object has no attribute 'id'\n"
     ]
    },
    {
     "name": "stderr",
     "output_type": "stream",
     "text": [
      "Updating authors: 100%|██████████| 100/100 [03:38<00:00,  2.18s/it]\n"
     ]
    },
    {
     "name": "stdout",
     "output_type": "stream",
     "text": [
      "Progress: 38,168/53,187 (71.8%)\n",
      "Success rate: 38168/40000 (95.4%)\n",
      "Posts per minute: 26.4\n",
      "Taking a 30-second break between batches...\n",
      "\n",
      "Processing batch 401/532\n"
     ]
    },
    {
     "name": "stderr",
     "output_type": "stream",
     "text": [
      "Updating authors:   8%|▊         | 8/100 [00:17<03:31,  2.30s/it]"
     ]
    },
    {
     "name": "stdout",
     "output_type": "stream",
     "text": [
      "  ❌ Error updating post m1waof: 'Redditor' object has no attribute 'id'\n"
     ]
    },
    {
     "name": "stderr",
     "output_type": "stream",
     "text": [
      "Updating authors:  11%|█         | 11/100 [00:27<04:16,  2.88s/it]"
     ]
    },
    {
     "name": "stdout",
     "output_type": "stream",
     "text": [
      "  ❌ Error updating post m1vs81: 'Redditor' object has no attribute 'id'\n"
     ]
    },
    {
     "name": "stderr",
     "output_type": "stream",
     "text": [
      "Updating authors:  56%|█████▌    | 56/100 [02:09<01:19,  1.81s/it]"
     ]
    },
    {
     "name": "stdout",
     "output_type": "stream",
     "text": [
      "  ❌ Error updating post m1pnai: 'Redditor' object has no attribute 'id'\n"
     ]
    },
    {
     "name": "stderr",
     "output_type": "stream",
     "text": [
      "Updating authors:  80%|████████  | 80/100 [02:56<00:39,  1.98s/it]"
     ]
    },
    {
     "name": "stdout",
     "output_type": "stream",
     "text": [
      "  ❌ Error updating post m1nrcc: 'Redditor' object has no attribute 'id'\n"
     ]
    },
    {
     "name": "stderr",
     "output_type": "stream",
     "text": [
      "Updating authors:  91%|█████████ | 91/100 [03:15<00:15,  1.74s/it]"
     ]
    },
    {
     "name": "stdout",
     "output_type": "stream",
     "text": [
      "  ❌ Error updating post m1mt1d: 'Redditor' object has no attribute 'id'\n"
     ]
    },
    {
     "name": "stderr",
     "output_type": "stream",
     "text": [
      "Updating authors: 100%|██████████| 100/100 [03:34<00:00,  2.15s/it]\n"
     ]
    },
    {
     "name": "stdout",
     "output_type": "stream",
     "text": [
      "Progress: 38,263/53,187 (71.9%)\n",
      "Success rate: 38263/40100 (95.4%)\n",
      "Posts per minute: 26.3\n",
      "Taking a 30-second break between batches...\n",
      "\n",
      "Processing batch 402/532\n"
     ]
    },
    {
     "name": "stderr",
     "output_type": "stream",
     "text": [
      "Updating authors:   0%|          | 0/100 [00:00<?, ?it/s]"
     ]
    },
    {
     "name": "stdout",
     "output_type": "stream",
     "text": [
      "  ❌ Error updating post m1mmjz: 'Redditor' object has no attribute 'id'\n"
     ]
    },
    {
     "name": "stderr",
     "output_type": "stream",
     "text": [
      "Updating authors:   4%|▍         | 4/100 [00:07<03:16,  2.05s/it]"
     ]
    },
    {
     "name": "stdout",
     "output_type": "stream",
     "text": [
      "  ❌ Error updating post m1mgl2: 'Redditor' object has no attribute 'id'\n"
     ]
    },
    {
     "name": "stderr",
     "output_type": "stream",
     "text": [
      "Updating authors:  14%|█▍        | 14/100 [00:26<02:23,  1.67s/it]"
     ]
    },
    {
     "name": "stdout",
     "output_type": "stream",
     "text": [
      "  ❌ Error updating post m1m2pd: received 404 HTTP response\n"
     ]
    },
    {
     "name": "stderr",
     "output_type": "stream",
     "text": [
      "Updating authors:  21%|██        | 21/100 [00:40<02:49,  2.15s/it]"
     ]
    },
    {
     "name": "stdout",
     "output_type": "stream",
     "text": [
      "  ❌ Error updating post m1lrd1: received 404 HTTP response\n"
     ]
    },
    {
     "name": "stderr",
     "output_type": "stream",
     "text": [
      "Updating authors:  95%|█████████▌| 95/100 [02:55<00:10,  2.12s/it]"
     ]
    },
    {
     "name": "stdout",
     "output_type": "stream",
     "text": [
      "  ❌ Error updating post m1iw1v: 'Redditor' object has no attribute 'id'\n"
     ]
    },
    {
     "name": "stderr",
     "output_type": "stream",
     "text": [
      "Updating authors: 100%|██████████| 100/100 [03:03<00:00,  1.84s/it]\n"
     ]
    },
    {
     "name": "stdout",
     "output_type": "stream",
     "text": [
      "Progress: 38,358/53,187 (72.1%)\n",
      "Success rate: 38358/40200 (95.4%)\n",
      "Posts per minute: 26.3\n",
      "Taking a 30-second break between batches...\n",
      "\n",
      "Processing batch 403/532\n"
     ]
    },
    {
     "name": "stderr",
     "output_type": "stream",
     "text": [
      "Updating authors:  11%|█         | 11/100 [00:21<03:01,  2.04s/it]"
     ]
    },
    {
     "name": "stdout",
     "output_type": "stream",
     "text": [
      "  ❌ Error updating post m1iesz: 'Redditor' object has no attribute 'id'\n"
     ]
    },
    {
     "name": "stderr",
     "output_type": "stream",
     "text": [
      "Updating authors:  38%|███▊      | 38/100 [01:09<01:38,  1.59s/it]"
     ]
    },
    {
     "name": "stdout",
     "output_type": "stream",
     "text": [
      "  ❌ Error updating post m1hd60: 'Redditor' object has no attribute 'id'\n"
     ]
    },
    {
     "name": "stderr",
     "output_type": "stream",
     "text": [
      "Updating authors:  70%|███████   | 70/100 [02:11<00:52,  1.74s/it]"
     ]
    },
    {
     "name": "stdout",
     "output_type": "stream",
     "text": [
      "  ❌ Error updating post m1gud9: 'Redditor' object has no attribute 'id'\n"
     ]
    },
    {
     "name": "stderr",
     "output_type": "stream",
     "text": [
      "Updating authors: 100%|██████████| 100/100 [03:02<00:00,  1.83s/it]\n"
     ]
    },
    {
     "name": "stdout",
     "output_type": "stream",
     "text": [
      "Progress: 38,455/53,187 (72.3%)\n",
      "Success rate: 38455/40300 (95.4%)\n",
      "Posts per minute: 26.3\n",
      "Taking a 30-second break between batches...\n",
      "\n",
      "Processing batch 404/532\n"
     ]
    },
    {
     "name": "stderr",
     "output_type": "stream",
     "text": [
      "Updating authors:   6%|▌         | 6/100 [00:09<02:39,  1.70s/it]"
     ]
    },
    {
     "name": "stdout",
     "output_type": "stream",
     "text": [
      "  ❌ Error updating post m1g7lw: 'Redditor' object has no attribute 'id'\n"
     ]
    },
    {
     "name": "stderr",
     "output_type": "stream",
     "text": [
      "Updating authors:  30%|███       | 30/100 [00:54<01:48,  1.55s/it]"
     ]
    },
    {
     "name": "stdout",
     "output_type": "stream",
     "text": [
      "  ❌ Error updating post m3ct9q: 'Redditor' object has no attribute 'id'\n"
     ]
    },
    {
     "name": "stderr",
     "output_type": "stream",
     "text": [
      "Updating authors:  31%|███       | 31/100 [00:55<01:48,  1.57s/it]"
     ]
    },
    {
     "name": "stdout",
     "output_type": "stream",
     "text": [
      "  ❌ Error updating post m3csxi: 'Redditor' object has no attribute 'id'\n"
     ]
    },
    {
     "name": "stderr",
     "output_type": "stream",
     "text": [
      "Updating authors:  71%|███████   | 71/100 [02:20<00:59,  2.05s/it]"
     ]
    },
    {
     "name": "stdout",
     "output_type": "stream",
     "text": [
      "  ❌ Error updating post m26sve: 'Redditor' object has no attribute 'id'\n"
     ]
    },
    {
     "name": "stderr",
     "output_type": "stream",
     "text": [
      "Updating authors:  77%|███████▋  | 77/100 [02:33<00:44,  1.94s/it]"
     ]
    },
    {
     "name": "stdout",
     "output_type": "stream",
     "text": [
      "  ❌ Error updating post m26in0: 'Redditor' object has no attribute 'id'\n"
     ]
    },
    {
     "name": "stderr",
     "output_type": "stream",
     "text": [
      "Updating authors:  97%|█████████▋| 97/100 [03:20<00:10,  3.54s/it]"
     ]
    },
    {
     "name": "stdout",
     "output_type": "stream",
     "text": [
      "  ❌ Error updating post m259sh: 'Redditor' object has no attribute 'id'\n"
     ]
    },
    {
     "name": "stderr",
     "output_type": "stream",
     "text": [
      "Updating authors: 100%|██████████| 100/100 [03:26<00:00,  2.07s/it]\n"
     ]
    },
    {
     "name": "stdout",
     "output_type": "stream",
     "text": [
      "Progress: 38,549/53,187 (72.5%)\n",
      "Success rate: 38549/40400 (95.4%)\n",
      "Posts per minute: 26.3\n",
      "Taking a 30-second break between batches...\n",
      "\n",
      "Processing batch 405/532\n"
     ]
    },
    {
     "name": "stderr",
     "output_type": "stream",
     "text": [
      "Updating authors:   5%|▌         | 5/100 [00:08<02:43,  1.72s/it]"
     ]
    },
    {
     "name": "stdout",
     "output_type": "stream",
     "text": [
      "  ❌ Error updating post m24j4i: 'Redditor' object has no attribute 'id'\n"
     ]
    },
    {
     "name": "stderr",
     "output_type": "stream",
     "text": [
      "Updating authors:   6%|▌         | 6/100 [00:10<02:41,  1.72s/it]"
     ]
    },
    {
     "name": "stdout",
     "output_type": "stream",
     "text": [
      "  ❌ Error updating post m24k93: 'Redditor' object has no attribute 'id'\n"
     ]
    },
    {
     "name": "stderr",
     "output_type": "stream",
     "text": [
      "Updating authors:  63%|██████▎   | 63/100 [02:05<00:59,  1.60s/it]"
     ]
    },
    {
     "name": "stdout",
     "output_type": "stream",
     "text": [
      "  ❌ Error updating post m22dj4: 'Redditor' object has no attribute 'id'\n"
     ]
    },
    {
     "name": "stderr",
     "output_type": "stream",
     "text": [
      "Updating authors:  77%|███████▋  | 77/100 [02:30<00:38,  1.67s/it]"
     ]
    },
    {
     "name": "stdout",
     "output_type": "stream",
     "text": [
      "  ❌ Error updating post m21wyl: 'Redditor' object has no attribute 'id'\n"
     ]
    },
    {
     "name": "stderr",
     "output_type": "stream",
     "text": [
      "Updating authors: 100%|██████████| 100/100 [03:11<00:00,  1.92s/it]\n"
     ]
    },
    {
     "name": "stdout",
     "output_type": "stream",
     "text": [
      "Progress: 38,645/53,187 (72.7%)\n",
      "Success rate: 38645/40500 (95.4%)\n",
      "Posts per minute: 26.3\n",
      "Taking a 30-second break between batches...\n",
      "\n",
      "Processing batch 406/532\n"
     ]
    },
    {
     "name": "stderr",
     "output_type": "stream",
     "text": [
      "Updating authors:  32%|███▏      | 32/100 [00:56<02:07,  1.87s/it]"
     ]
    },
    {
     "name": "stdout",
     "output_type": "stream",
     "text": [
      "  ❌ Error updating post m207r5: 'Redditor' object has no attribute 'id'\n"
     ]
    },
    {
     "name": "stderr",
     "output_type": "stream",
     "text": [
      "Updating authors:  33%|███▎      | 33/100 [00:58<02:00,  1.80s/it]"
     ]
    },
    {
     "name": "stdout",
     "output_type": "stream",
     "text": [
      "  ❌ Error updating post m206p9: 'Redditor' object has no attribute 'id'\n"
     ]
    },
    {
     "name": "stderr",
     "output_type": "stream",
     "text": [
      "Updating authors:  38%|███▊      | 38/100 [01:06<01:40,  1.62s/it]"
     ]
    },
    {
     "name": "stdout",
     "output_type": "stream",
     "text": [
      "  ❌ Error updating post m201o3: 'Redditor' object has no attribute 'id'\n"
     ]
    },
    {
     "name": "stderr",
     "output_type": "stream",
     "text": [
      "Updating authors:  54%|█████▍    | 54/100 [01:36<01:25,  1.86s/it]"
     ]
    },
    {
     "name": "stdout",
     "output_type": "stream",
     "text": [
      "  ❌ Error updating post m1zluf: 'Redditor' object has no attribute 'id'\n"
     ]
    },
    {
     "name": "stderr",
     "output_type": "stream",
     "text": [
      "Updating authors:  91%|█████████ | 91/100 [02:41<00:14,  1.63s/it]"
     ]
    },
    {
     "name": "stdout",
     "output_type": "stream",
     "text": [
      "  ❌ Error updating post m1z4r9: 'Redditor' object has no attribute 'id'\n"
     ]
    },
    {
     "name": "stderr",
     "output_type": "stream",
     "text": [
      "Updating authors:  94%|█████████▍| 94/100 [02:46<00:09,  1.63s/it]"
     ]
    },
    {
     "name": "stdout",
     "output_type": "stream",
     "text": [
      "  ❌ Error updating post m1z3js: 'Redditor' object has no attribute 'id'\n"
     ]
    },
    {
     "name": "stderr",
     "output_type": "stream",
     "text": [
      "Updating authors:  95%|█████████▌| 95/100 [02:47<00:08,  1.63s/it]"
     ]
    },
    {
     "name": "stdout",
     "output_type": "stream",
     "text": [
      "  ❌ Error updating post m1z3hd: 'Redditor' object has no attribute 'id'\n"
     ]
    },
    {
     "name": "stderr",
     "output_type": "stream",
     "text": [
      "Updating authors: 100%|██████████| 100/100 [02:55<00:00,  1.76s/it]\n"
     ]
    },
    {
     "name": "stdout",
     "output_type": "stream",
     "text": [
      "Progress: 38,738/53,187 (72.8%)\n",
      "Success rate: 38738/40600 (95.4%)\n",
      "Posts per minute: 26.3\n",
      "Taking a 30-second break between batches...\n",
      "\n",
      "Processing batch 407/532\n"
     ]
    },
    {
     "name": "stderr",
     "output_type": "stream",
     "text": [
      "Updating authors:  11%|█         | 11/100 [00:23<03:06,  2.10s/it]"
     ]
    },
    {
     "name": "stdout",
     "output_type": "stream",
     "text": [
      "  ❌ Error updating post m423jj: 'Redditor' object has no attribute 'id'\n"
     ]
    },
    {
     "name": "stderr",
     "output_type": "stream",
     "text": [
      "Updating authors:  23%|██▎       | 23/100 [00:47<02:14,  1.74s/it]"
     ]
    },
    {
     "name": "stdout",
     "output_type": "stream",
     "text": [
      "  ❌ Error updating post m2hbbb: 'Redditor' object has no attribute 'id'\n"
     ]
    },
    {
     "name": "stderr",
     "output_type": "stream",
     "text": [
      "Updating authors:  54%|█████▍    | 54/100 [01:46<01:20,  1.76s/it]"
     ]
    },
    {
     "name": "stdout",
     "output_type": "stream",
     "text": [
      "  ❌ Error updating post m2fwnd: 'Redditor' object has no attribute 'id'\n"
     ]
    },
    {
     "name": "stderr",
     "output_type": "stream",
     "text": [
      "Updating authors:  55%|█████▌    | 55/100 [01:48<01:17,  1.72s/it]"
     ]
    },
    {
     "name": "stdout",
     "output_type": "stream",
     "text": [
      "  ❌ Error updating post m2fs14: 'Redditor' object has no attribute 'id'\n"
     ]
    },
    {
     "name": "stderr",
     "output_type": "stream",
     "text": [
      "Updating authors:  73%|███████▎  | 73/100 [02:25<01:11,  2.66s/it]"
     ]
    },
    {
     "name": "stdout",
     "output_type": "stream",
     "text": [
      "  ❌ Error updating post m2eeut: 'Redditor' object has no attribute 'id'\n"
     ]
    },
    {
     "name": "stderr",
     "output_type": "stream",
     "text": [
      "Updating authors: 100%|██████████| 100/100 [03:16<00:00,  1.97s/it]\n"
     ]
    },
    {
     "name": "stdout",
     "output_type": "stream",
     "text": [
      "Progress: 38,833/53,187 (73.0%)\n",
      "Success rate: 38833/40700 (95.4%)\n",
      "Posts per minute: 26.3\n",
      "Taking a 30-second break between batches...\n",
      "\n",
      "Processing batch 408/532\n"
     ]
    },
    {
     "name": "stderr",
     "output_type": "stream",
     "text": [
      "Updating authors:  80%|████████  | 80/100 [02:32<00:31,  1.59s/it]"
     ]
    },
    {
     "name": "stdout",
     "output_type": "stream",
     "text": [
      "  ❌ Error updating post m28n16: 'Redditor' object has no attribute 'id'\n"
     ]
    },
    {
     "name": "stderr",
     "output_type": "stream",
     "text": [
      "Updating authors: 100%|██████████| 100/100 [03:13<00:00,  1.94s/it]\n"
     ]
    },
    {
     "name": "stdout",
     "output_type": "stream",
     "text": [
      "Progress: 38,932/53,187 (73.2%)\n",
      "Success rate: 38932/40800 (95.4%)\n",
      "Posts per minute: 26.3\n",
      "Taking a 30-second break between batches...\n",
      "\n",
      "Processing batch 409/532\n"
     ]
    },
    {
     "name": "stderr",
     "output_type": "stream",
     "text": [
      "Updating authors:   3%|▎         | 3/100 [00:11<05:27,  3.37s/it]"
     ]
    },
    {
     "name": "stdout",
     "output_type": "stream",
     "text": [
      "  ❌ Error updating post m27t6s: 'Redditor' object has no attribute 'id'\n"
     ]
    },
    {
     "name": "stderr",
     "output_type": "stream",
     "text": [
      "Updating authors:  12%|█▏        | 12/100 [00:26<02:39,  1.81s/it]"
     ]
    },
    {
     "name": "stdout",
     "output_type": "stream",
     "text": [
      "  ❌ Error updating post m4qnhj: 'Redditor' object has no attribute 'id'\n"
     ]
    },
    {
     "name": "stderr",
     "output_type": "stream",
     "text": [
      "Updating authors:  59%|█████▉    | 59/100 [02:22<01:29,  2.19s/it]"
     ]
    },
    {
     "name": "stdout",
     "output_type": "stream",
     "text": [
      "  ❌ Error updating post m2opjj: 'Redditor' object has no attribute 'id'\n"
     ]
    },
    {
     "name": "stderr",
     "output_type": "stream",
     "text": [
      "Updating authors:  74%|███████▍  | 74/100 [03:00<00:58,  2.23s/it]"
     ]
    },
    {
     "name": "stdout",
     "output_type": "stream",
     "text": [
      "  ❌ Error updating post m2n1ul: 'Redditor' object has no attribute 'id'\n"
     ]
    },
    {
     "name": "stderr",
     "output_type": "stream",
     "text": [
      "Updating authors: 100%|██████████| 100/100 [03:58<00:00,  2.38s/it]\n"
     ]
    },
    {
     "name": "stdout",
     "output_type": "stream",
     "text": [
      "Progress: 39,028/53,187 (73.4%)\n",
      "Success rate: 39028/40900 (95.4%)\n",
      "Posts per minute: 26.3\n",
      "Taking a 30-second break between batches...\n",
      "\n",
      "Processing batch 410/532\n"
     ]
    },
    {
     "name": "stderr",
     "output_type": "stream",
     "text": [
      "Updating authors:   1%|          | 1/100 [00:01<03:04,  1.86s/it]"
     ]
    },
    {
     "name": "stdout",
     "output_type": "stream",
     "text": [
      "  ❌ Error updating post m2k021: 'Redditor' object has no attribute 'id'\n"
     ]
    },
    {
     "name": "stderr",
     "output_type": "stream",
     "text": [
      "Updating authors:  17%|█▋        | 17/100 [00:29<02:26,  1.76s/it]"
     ]
    },
    {
     "name": "stdout",
     "output_type": "stream",
     "text": [
      "  ❌ Error updating post m2iy9n: received 404 HTTP response\n"
     ]
    },
    {
     "name": "stderr",
     "output_type": "stream",
     "text": [
      "Updating authors:  18%|█▊        | 18/100 [00:31<02:26,  1.79s/it]"
     ]
    },
    {
     "name": "stdout",
     "output_type": "stream",
     "text": [
      "  ❌ Error updating post m2iwjj: 'Redditor' object has no attribute 'id'\n"
     ]
    },
    {
     "name": "stderr",
     "output_type": "stream",
     "text": [
      "Updating authors:  35%|███▌      | 35/100 [01:06<02:13,  2.05s/it]"
     ]
    },
    {
     "name": "stdout",
     "output_type": "stream",
     "text": [
      "  ❌ Error updating post m5f6ya: 'Redditor' object has no attribute 'id'\n"
     ]
    },
    {
     "name": "stderr",
     "output_type": "stream",
     "text": [
      "Updating authors:  93%|█████████▎| 93/100 [03:04<00:14,  2.04s/it]"
     ]
    },
    {
     "name": "stdout",
     "output_type": "stream",
     "text": [
      "  ❌ Error updating post m31bqa: 'Redditor' object has no attribute 'id'\n"
     ]
    },
    {
     "name": "stderr",
     "output_type": "stream",
     "text": [
      "Updating authors: 100%|██████████| 100/100 [03:21<00:00,  2.01s/it]\n"
     ]
    },
    {
     "name": "stdout",
     "output_type": "stream",
     "text": [
      "Progress: 39,123/53,187 (73.6%)\n",
      "Success rate: 39123/41000 (95.4%)\n",
      "Posts per minute: 26.3\n",
      "Taking a 30-second break between batches...\n",
      "\n",
      "Processing batch 411/532\n"
     ]
    },
    {
     "name": "stderr",
     "output_type": "stream",
     "text": [
      "Updating authors:   0%|          | 0/100 [00:00<?, ?it/s]"
     ]
    },
    {
     "name": "stdout",
     "output_type": "stream",
     "text": [
      "  ❌ Error updating post m30t8j: 'Redditor' object has no attribute 'id'\n"
     ]
    },
    {
     "name": "stderr",
     "output_type": "stream",
     "text": [
      "Updating authors:  27%|██▋       | 27/100 [01:04<02:35,  2.12s/it]"
     ]
    },
    {
     "name": "stdout",
     "output_type": "stream",
     "text": [
      "  ❌ Error updating post m2yrv8: received 404 HTTP response\n"
     ]
    },
    {
     "name": "stderr",
     "output_type": "stream",
     "text": [
      "Updating authors:  31%|███       | 31/100 [01:11<02:17,  2.00s/it]"
     ]
    },
    {
     "name": "stdout",
     "output_type": "stream",
     "text": [
      "  ❌ Error updating post m2y6ak: 'Redditor' object has no attribute 'id'\n"
     ]
    },
    {
     "name": "stderr",
     "output_type": "stream",
     "text": [
      "Updating authors:  47%|████▋     | 47/100 [01:51<02:21,  2.68s/it]"
     ]
    },
    {
     "name": "stdout",
     "output_type": "stream",
     "text": [
      "  ❌ Error updating post m2vzxs: 'Redditor' object has no attribute 'id'\n"
     ]
    },
    {
     "name": "stderr",
     "output_type": "stream",
     "text": [
      "Updating authors:  88%|████████▊ | 88/100 [03:15<00:23,  1.97s/it]"
     ]
    },
    {
     "name": "stdout",
     "output_type": "stream",
     "text": [
      "  ❌ Error updating post m2thog: 'Redditor' object has no attribute 'id'\n"
     ]
    },
    {
     "name": "stderr",
     "output_type": "stream",
     "text": [
      "Updating authors: 100%|██████████| 100/100 [03:36<00:00,  2.16s/it]\n"
     ]
    },
    {
     "name": "stdout",
     "output_type": "stream",
     "text": [
      "Progress: 39,218/53,187 (73.7%)\n",
      "Success rate: 39218/41100 (95.4%)\n",
      "Posts per minute: 26.3\n",
      "Taking a 30-second break between batches...\n",
      "\n",
      "Processing batch 412/532\n"
     ]
    },
    {
     "name": "stderr",
     "output_type": "stream",
     "text": [
      "Updating authors:   8%|▊         | 8/100 [00:16<03:18,  2.16s/it]"
     ]
    },
    {
     "name": "stdout",
     "output_type": "stream",
     "text": [
      "  ❌ Error updating post m3sjyl: 'Redditor' object has no attribute 'id'\n"
     ]
    },
    {
     "name": "stderr",
     "output_type": "stream",
     "text": [
      "Updating authors:  25%|██▌       | 25/100 [00:46<02:06,  1.68s/it]"
     ]
    },
    {
     "name": "stdout",
     "output_type": "stream",
     "text": [
      "  ❌ Error updating post m3rqaq: 'Redditor' object has no attribute 'id'\n"
     ]
    },
    {
     "name": "stderr",
     "output_type": "stream",
     "text": [
      "Updating authors:  35%|███▌      | 35/100 [01:05<01:56,  1.79s/it]"
     ]
    },
    {
     "name": "stdout",
     "output_type": "stream",
     "text": [
      "  ❌ Error updating post m3re9y: 'Redditor' object has no attribute 'id'\n"
     ]
    },
    {
     "name": "stderr",
     "output_type": "stream",
     "text": [
      "Updating authors:  44%|████▍     | 44/100 [01:23<01:43,  1.85s/it]"
     ]
    },
    {
     "name": "stdout",
     "output_type": "stream",
     "text": [
      "  ❌ Error updating post m3r7mm: 'Redditor' object has no attribute 'id'\n"
     ]
    },
    {
     "name": "stderr",
     "output_type": "stream",
     "text": [
      "Updating authors:  53%|█████▎    | 53/100 [01:46<02:19,  2.97s/it]"
     ]
    },
    {
     "name": "stdout",
     "output_type": "stream",
     "text": [
      "  ❌ Error updating post m3r0xg: 'Redditor' object has no attribute 'id'\n"
     ]
    },
    {
     "name": "stderr",
     "output_type": "stream",
     "text": [
      "Updating authors:  72%|███████▏  | 72/100 [02:24<01:05,  2.34s/it]"
     ]
    },
    {
     "name": "stdout",
     "output_type": "stream",
     "text": [
      "  ❌ Error updating post m3pwjj: 'Redditor' object has no attribute 'id'\n"
     ]
    },
    {
     "name": "stderr",
     "output_type": "stream",
     "text": [
      "Updating authors:  80%|████████  | 80/100 [02:41<00:51,  2.59s/it]"
     ]
    },
    {
     "name": "stdout",
     "output_type": "stream",
     "text": [
      "  ❌ Error updating post m3oys4: 'Redditor' object has no attribute 'id'\n"
     ]
    },
    {
     "name": "stderr",
     "output_type": "stream",
     "text": [
      "Updating authors:  99%|█████████▉| 99/100 [03:24<00:02,  2.79s/it]"
     ]
    },
    {
     "name": "stdout",
     "output_type": "stream",
     "text": [
      "  ❌ Error updating post m3n2y5: 'Redditor' object has no attribute 'id'\n"
     ]
    },
    {
     "name": "stderr",
     "output_type": "stream",
     "text": [
      "Updating authors: 100%|██████████| 100/100 [03:26<00:00,  2.06s/it]\n"
     ]
    },
    {
     "name": "stdout",
     "output_type": "stream",
     "text": [
      "Progress: 39,310/53,187 (73.9%)\n",
      "Success rate: 39310/41200 (95.4%)\n",
      "Posts per minute: 26.3\n",
      "Taking a 30-second break between batches...\n",
      "\n",
      "Processing batch 413/532\n"
     ]
    },
    {
     "name": "stderr",
     "output_type": "stream",
     "text": [
      "Updating authors:  24%|██▍       | 24/100 [00:55<02:23,  1.89s/it]"
     ]
    },
    {
     "name": "stdout",
     "output_type": "stream",
     "text": [
      "  ❌ Error updating post m3kggv: 'Redditor' object has no attribute 'id'\n"
     ]
    },
    {
     "name": "stderr",
     "output_type": "stream",
     "text": [
      "Updating authors:  36%|███▌      | 36/100 [01:19<02:11,  2.05s/it]"
     ]
    },
    {
     "name": "stdout",
     "output_type": "stream",
     "text": [
      "  ❌ Error updating post m3j7l3: 'Redditor' object has no attribute 'id'\n"
     ]
    },
    {
     "name": "stderr",
     "output_type": "stream",
     "text": [
      "Updating authors:  47%|████▋     | 47/100 [01:42<02:08,  2.43s/it]"
     ]
    },
    {
     "name": "stdout",
     "output_type": "stream",
     "text": [
      "  ❌ Error updating post m3hxj7: 'Redditor' object has no attribute 'id'\n"
     ]
    },
    {
     "name": "stderr",
     "output_type": "stream",
     "text": [
      "Updating authors:  62%|██████▏   | 62/100 [02:25<01:45,  2.77s/it]"
     ]
    },
    {
     "name": "stdout",
     "output_type": "stream",
     "text": [
      "  ❌ Error updating post m3ffg3: 'Redditor' object has no attribute 'id'\n"
     ]
    },
    {
     "name": "stderr",
     "output_type": "stream",
     "text": [
      "Updating authors:  63%|██████▎   | 63/100 [02:27<01:31,  2.48s/it]"
     ]
    }
   ],
   "source": [
    "\n",
    "if __name__ == \"__main__\":\n",
    "    # Configuration\n",
    "    CSV_FILE = DATA/\"new_reddit_wsb.csv\"  # Replace with your actual CSV file\n",
    "    TARGET_COLUMN = \"author_name\"  # Column to update\n",
    "    \n",
    "    print(\"🔧 WSB Author Updater Script\")\n",
    "    print(\"=\" * 50)\n",
    "    \n",
    "    # Step 1: Get quick statistics first\n",
    "    print(\"Step 1: Analyzing your CSV file...\")\n",
    "    quick_stats(CSV_FILE)\n",
    "    \n",
    "    print(\"\\n\" + \"=\" * 50)\n",
    "    print(\"Choose your action:\")\n",
    "    print(\"1. Test Mode (100 posts) - Uncomment line below\")\n",
    "    print(\"2. Production Mode (all posts) - Uncomment line below\")\n",
    "    print(\"3. Resume interrupted update - Uncomment line below\")\n",
    "    print(\"=\" * 50)\n",
    "    \n",
    "    # Uncomment ONE of these lines to run:\n",
    "    \n",
    "    # 🧪 TEST MODE - Start here to test with 100 posts\n",
    "    # test_author_update(CSV_FILE, TARGET_COLUMN, test_limit=100)\n",
    "    \n",
    "    # 🚀 PRODUCTION MODE - Run this after testing works\n",
    "    production_author_update(CSV_FILE, TARGET_COLUMN)\n",
    "    \n",
    "    # 🔄 RESUME MODE - Use this if production run was interrupted\n",
    "    # resume_update(CSV_FILE, TARGET_COLUMN)"
   ]
  },
  {
   "cell_type": "code",
   "execution_count": 10,
   "id": "da523c26",
   "metadata": {},
   "outputs": [
    {
     "data": {
      "application/vnd.microsoft.datawrangler.viewer.v0+json": {
       "columns": [
        {
         "name": "index",
         "rawType": "int64",
         "type": "integer"
        },
        {
         "name": "title",
         "rawType": "object",
         "type": "string"
        },
        {
         "name": "score",
         "rawType": "int64",
         "type": "integer"
        },
        {
         "name": "post_id",
         "rawType": "object",
         "type": "string"
        },
        {
         "name": "url",
         "rawType": "object",
         "type": "string"
        },
        {
         "name": "comms_num",
         "rawType": "int64",
         "type": "integer"
        },
        {
         "name": "created",
         "rawType": "float64",
         "type": "float"
        },
        {
         "name": "body",
         "rawType": "object",
         "type": "unknown"
        },
        {
         "name": "timestamp",
         "rawType": "object",
         "type": "string"
        },
        {
         "name": "author_name",
         "rawType": "object",
         "type": "string"
        },
        {
         "name": "author_id",
         "rawType": "object",
         "type": "string"
        }
       ],
       "ref": "2ef573fa-3d54-498c-b7f3-0aac5a1795b7",
       "rows": [
        [
         "0",
         "It's not about the money, it's about sending a message. 🚀💎🙌",
         "55",
         "l6ulcx",
         "https://v.redd.it/6j75regs72e61",
         "6",
         "1611862661.0",
         null,
         "2021-01-28 21:37:41",
         "[deleted]",
         "[deleted]"
        ],
        [
         "1",
         "Math Professor Scott Steiner says the numbers spell DISASTER for Gamestop shorts",
         "110",
         "l6uibd",
         "https://v.redd.it/ah50lyny62e61",
         "23",
         "1611862330.0",
         null,
         "2021-01-28 21:32:10",
         "jaxxtothemaxx",
         "onvag"
        ],
        [
         "2",
         "Exit the system",
         "0",
         "l6uhhn",
         "https://www.reddit.com/r/wallstreetbets/comments/l6uhhn/exit_the_system/",
         "47",
         "1611862235.0",
         "The CEO of NASDAQ pushed to halt trading “to give investors a chance to recalibrate their positions”.\n\n[https://mobile.twitter.com/Mediaite/status/1354504710695362563](https://mobile.twitter.com/Mediaite/status/1354504710695362563)\n\nNow SEC is investigating, brokers are disallowing buying more calls. This is the institutions flat out admitting they will change the rules to bail out the rich but if it happens to us, we get a “well shucks you should have known investing is risky! have you tried cutting out avocados and coffee, maybe doing Uber on the side?”\n\nWe may have collectively driven up enough sentiment in wall street to make other big players go long on GME with us (we do not have the money to move the stock as much as it did alone). we didn’t hurt wall street as a whole, just a few funds went down while others went up and profited off the shorts the same as us. The media wants to pin the blame on us.\n\nIt should be crystal clear that this is a rigged game by now. Its time to build new exchanges that can’t arbitrarily change the rules on us. Cr\\*\\*o has some version of these, maybe they can be repurposed to be trade stock without government intervention. I don’t know exactly what it will look like yet, but the broad next steps i see are - 1. exit the current financial system 2. build a new one.",
         "2021-01-28 21:30:35",
         "stonerbobo",
         "f3p9m"
        ],
        [
         "3",
         "NEW SEC FILING FOR GME! CAN SOMEONE LESS RETARDED THAN ME PLEASE INTERPRET?",
         "29",
         "l6ugk6",
         "https://sec.report/Document/0001193125-21-019848/",
         "74",
         "1611862137.0",
         null,
         "2021-01-28 21:28:57",
         "Sleavitt10",
         "9u7y1"
        ],
        [
         "4",
         "Not to distract from GME, just thought our AMC brothers should be aware of this",
         "71",
         "l6ufgy",
         "https://i.redd.it/4h2sukb662e61.jpg",
         "156",
         "1611862016.0",
         null,
         "2021-01-28 21:26:56",
         "di3_b0ld",
         "13cexg"
        ]
       ],
       "shape": {
        "columns": 10,
        "rows": 5
       }
      },
      "text/html": [
       "<div>\n",
       "<style scoped>\n",
       "    .dataframe tbody tr th:only-of-type {\n",
       "        vertical-align: middle;\n",
       "    }\n",
       "\n",
       "    .dataframe tbody tr th {\n",
       "        vertical-align: top;\n",
       "    }\n",
       "\n",
       "    .dataframe thead th {\n",
       "        text-align: right;\n",
       "    }\n",
       "</style>\n",
       "<table border=\"1\" class=\"dataframe\">\n",
       "  <thead>\n",
       "    <tr style=\"text-align: right;\">\n",
       "      <th></th>\n",
       "      <th>title</th>\n",
       "      <th>score</th>\n",
       "      <th>post_id</th>\n",
       "      <th>url</th>\n",
       "      <th>comms_num</th>\n",
       "      <th>created</th>\n",
       "      <th>body</th>\n",
       "      <th>timestamp</th>\n",
       "      <th>author_name</th>\n",
       "      <th>author_id</th>\n",
       "    </tr>\n",
       "  </thead>\n",
       "  <tbody>\n",
       "    <tr>\n",
       "      <th>0</th>\n",
       "      <td>It's not about the money, it's about sending a...</td>\n",
       "      <td>55</td>\n",
       "      <td>l6ulcx</td>\n",
       "      <td>https://v.redd.it/6j75regs72e61</td>\n",
       "      <td>6</td>\n",
       "      <td>1.611863e+09</td>\n",
       "      <td>NaN</td>\n",
       "      <td>2021-01-28 21:37:41</td>\n",
       "      <td>[deleted]</td>\n",
       "      <td>[deleted]</td>\n",
       "    </tr>\n",
       "    <tr>\n",
       "      <th>1</th>\n",
       "      <td>Math Professor Scott Steiner says the numbers ...</td>\n",
       "      <td>110</td>\n",
       "      <td>l6uibd</td>\n",
       "      <td>https://v.redd.it/ah50lyny62e61</td>\n",
       "      <td>23</td>\n",
       "      <td>1.611862e+09</td>\n",
       "      <td>NaN</td>\n",
       "      <td>2021-01-28 21:32:10</td>\n",
       "      <td>jaxxtothemaxx</td>\n",
       "      <td>onvag</td>\n",
       "    </tr>\n",
       "    <tr>\n",
       "      <th>2</th>\n",
       "      <td>Exit the system</td>\n",
       "      <td>0</td>\n",
       "      <td>l6uhhn</td>\n",
       "      <td>https://www.reddit.com/r/wallstreetbets/commen...</td>\n",
       "      <td>47</td>\n",
       "      <td>1.611862e+09</td>\n",
       "      <td>The CEO of NASDAQ pushed to halt trading “to g...</td>\n",
       "      <td>2021-01-28 21:30:35</td>\n",
       "      <td>stonerbobo</td>\n",
       "      <td>f3p9m</td>\n",
       "    </tr>\n",
       "    <tr>\n",
       "      <th>3</th>\n",
       "      <td>NEW SEC FILING FOR GME! CAN SOMEONE LESS RETAR...</td>\n",
       "      <td>29</td>\n",
       "      <td>l6ugk6</td>\n",
       "      <td>https://sec.report/Document/0001193125-21-019848/</td>\n",
       "      <td>74</td>\n",
       "      <td>1.611862e+09</td>\n",
       "      <td>NaN</td>\n",
       "      <td>2021-01-28 21:28:57</td>\n",
       "      <td>Sleavitt10</td>\n",
       "      <td>9u7y1</td>\n",
       "    </tr>\n",
       "    <tr>\n",
       "      <th>4</th>\n",
       "      <td>Not to distract from GME, just thought our AMC...</td>\n",
       "      <td>71</td>\n",
       "      <td>l6ufgy</td>\n",
       "      <td>https://i.redd.it/4h2sukb662e61.jpg</td>\n",
       "      <td>156</td>\n",
       "      <td>1.611862e+09</td>\n",
       "      <td>NaN</td>\n",
       "      <td>2021-01-28 21:26:56</td>\n",
       "      <td>di3_b0ld</td>\n",
       "      <td>13cexg</td>\n",
       "    </tr>\n",
       "  </tbody>\n",
       "</table>\n",
       "</div>"
      ],
      "text/plain": [
       "                                               title  score post_id  \\\n",
       "0  It's not about the money, it's about sending a...     55  l6ulcx   \n",
       "1  Math Professor Scott Steiner says the numbers ...    110  l6uibd   \n",
       "2                                    Exit the system      0  l6uhhn   \n",
       "3  NEW SEC FILING FOR GME! CAN SOMEONE LESS RETAR...     29  l6ugk6   \n",
       "4  Not to distract from GME, just thought our AMC...     71  l6ufgy   \n",
       "\n",
       "                                                 url  comms_num       created  \\\n",
       "0                    https://v.redd.it/6j75regs72e61          6  1.611863e+09   \n",
       "1                    https://v.redd.it/ah50lyny62e61         23  1.611862e+09   \n",
       "2  https://www.reddit.com/r/wallstreetbets/commen...         47  1.611862e+09   \n",
       "3  https://sec.report/Document/0001193125-21-019848/         74  1.611862e+09   \n",
       "4                https://i.redd.it/4h2sukb662e61.jpg        156  1.611862e+09   \n",
       "\n",
       "                                                body            timestamp  \\\n",
       "0                                                NaN  2021-01-28 21:37:41   \n",
       "1                                                NaN  2021-01-28 21:32:10   \n",
       "2  The CEO of NASDAQ pushed to halt trading “to g...  2021-01-28 21:30:35   \n",
       "3                                                NaN  2021-01-28 21:28:57   \n",
       "4                                                NaN  2021-01-28 21:26:56   \n",
       "\n",
       "     author_name  author_id  \n",
       "0      [deleted]  [deleted]  \n",
       "1  jaxxtothemaxx      onvag  \n",
       "2     stonerbobo      f3p9m  \n",
       "3     Sleavitt10      9u7y1  \n",
       "4       di3_b0ld     13cexg  "
      ]
     },
     "execution_count": 10,
     "metadata": {},
     "output_type": "execute_result"
    }
   ],
   "source": [
    "filepath = DATA/\"new_reddit_wsb_test_with_authors.csv\"\n",
    "df = pd.read_csv(filepath)\n",
    "df.head()\n"
   ]
  }
 ],
 "metadata": {
  "kernelspec": {
   "display_name": "Python 3",
   "language": "python",
   "name": "python3"
  },
  "language_info": {
   "codemirror_mode": {
    "name": "ipython",
    "version": 3
   },
   "file_extension": ".py",
   "mimetype": "text/x-python",
   "name": "python",
   "nbconvert_exporter": "python",
   "pygments_lexer": "ipython3",
   "version": "3.10.11"
  }
 },
 "nbformat": 4,
 "nbformat_minor": 5
}
