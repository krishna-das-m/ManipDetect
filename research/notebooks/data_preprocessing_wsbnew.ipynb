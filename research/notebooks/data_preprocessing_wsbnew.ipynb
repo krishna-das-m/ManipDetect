{
 "cells": [
  {
   "cell_type": "markdown",
   "id": "8d6808f7",
   "metadata": {},
   "source": [
    "### Libraries"
   ]
  },
  {
   "cell_type": "code",
   "execution_count": 2,
   "id": "a07e5e26",
   "metadata": {},
   "outputs": [],
   "source": [
    "import numpy as np\n",
    "import pandas as pd\n",
    "from datetime import datetime\n",
    "# from dateutil.tz import gettz\n",
    "\n",
    "# for text processing\n",
    "from sklearn.feature_extraction.text import TfidfVectorizer\n",
    "from sklearn.metrics.pairwise import cosine_similarity\n",
    "import re\n",
    "from textblob import TextBlob\n",
    "\n",
    "from pathlib import Path\n",
    "# for visualization\n",
    "import matplotlib.pyplot as plt\n",
    "import seaborn as sns\n",
    "sns.set_theme(style='ticks', font_scale=1.5)\n",
    "\n",
    "Root = Path('.').absolute().parent\n",
    "SCRIPTS = Root / r'scripts'\n",
    "# DATA = Root/ r'C:\\Users\\krishnadas\\Projects\\ML Projects\\ManipDetect\\data'\n",
    "DATA = Root/ r'C:\\Users\\Admin\\Projects\\ML Projects\\ManipDetect\\data'"
   ]
  },
  {
   "cell_type": "code",
   "execution_count": 3,
   "id": "d682a56c",
   "metadata": {},
   "outputs": [
    {
     "name": "stdout",
     "output_type": "stream",
     "text": [
      "Data shape: (4954, 10)\n"
     ]
    },
    {
     "data": {
      "application/vnd.microsoft.datawrangler.viewer.v0+json": {
       "columns": [
        {
         "name": "index",
         "rawType": "int64",
         "type": "integer"
        },
        {
         "name": "post_id",
         "rawType": "object",
         "type": "string"
        },
        {
         "name": "title",
         "rawType": "object",
         "type": "string"
        },
        {
         "name": "text",
         "rawType": "object",
         "type": "string"
        },
        {
         "name": "post_type",
         "rawType": "object",
         "type": "string"
        },
        {
         "name": "author_name",
         "rawType": "object",
         "type": "string"
        },
        {
         "name": "author_id",
         "rawType": "object",
         "type": "string"
        },
        {
         "name": "score",
         "rawType": "int64",
         "type": "integer"
        },
        {
         "name": "num_comments",
         "rawType": "int64",
         "type": "integer"
        },
        {
         "name": "created_utc",
         "rawType": "float64",
         "type": "float"
        },
        {
         "name": "url",
         "rawType": "object",
         "type": "string"
        }
       ],
       "ref": "9fbe8b89-e755-4a7b-94a9-308beb427bc8",
       "rows": [
        [
         "0",
         "11dk0dd",
         "The Ultimate Free Course for Options Trading",
         "# Here’s a free resource for options trading I created. 60 + lessons that teach everything you need to know to run a good options portfolio.\n\n**Here's the link:**\n\n[https://predictingalpha.com/the-ultimate-guide-to-selling-options/](https://predictingalpha.com/the-ultimate-guide-to-selling-options/)\n\n**Backstory**\n\nA couple years ago I wrote a series on reddit about how to sell options profitably that the community loved. I’ve finally put together a completely free archive of everything I know about options and option selling. \n\nI made this because there's a lot of noise out there around options education, so this is the no BS course I wish existed when I was getting into the space. I tried to make it easy to go through but realistically some of it will be challenging because hey, options are complicated.\n\n**What the course covers:**\n\n* **Basics of how options work -** All the characteristics and important parts of option contracts.\n* **Volatility module** \\- Teaches you how volatility works and impacts option prices.\n* **Learning and interpreting option greeks** \\- Complete breakdowns of each option greek, how they interact with each other and why they matter for your trades.\n* **Skew and term structure** \\- How to think about different strikes and expirations like a professional.\n* **Option selling structures** \\- 4 different ways to structure your trades and how to pick between them.\n* **Trading strategy fundamentals** \\- Basically how to treat your trading like a business and really understand how to extract returns from the market.\n* **How to actually make money** \\- Serious strategy talk. Now that you know how options works, here’s how you actually make some money.\n* **Two  evidence backed strategies that work** \\- A complete guide for selling options on ETFs and selling options around earnings events. Two well known, documented strategies that generate solid returns.\n\n**Disclaimer: I do sell something – but it’s not the course.**\n\nI use reddit too, so I won't hide it from you! The course is 100% free, but I did also build a software company called [Predicting Alpha](https://predictingalpha.com/).\n\nI've been building for 5 years now and pour my heart and soul into it. Its  focused on two strategies: selling options on ETFs and selling options around earnings events, which I think are the two things that retail option sellers should focus on. It handles all the data processing for these strats so that you can extract the premium effectively.\n\nMaybe it'll be of value to you, but if not, the course will definitely be something you love.\n\nAnyways hope you all like the course. Hopefully it levels up our community and we can have some awesome discussions.\n\n\\~ A.G.",
         "text",
         "AlphaGiveth",
         "bjb5f1tl",
         "271",
         "71",
         "1677525085.0",
         "https://www.reddit.com/r/Wallstreetbetsnew/comments/11dk0dd/the_ultimate_free_course_for_options_trading/"
        ],
        [
         "1",
         "1lujzds",
         "NVIDIA Blackwell Ultra chip commercialized",
         "It is learned that NVIDIA (NVDA) and CoreWeave jointly announced that NVIDIA’s next-generation artificial intelligence graphics processor Blackwell Ultra chip has been commercially deployed in CoreWeave.\n\nBlackwell Ultra AI chip officially commercialized  \nAccording to reports, Blackwell Ultra is NVIDIA’s latest chip and is expected to be shipped in batches in the rest of this year. The system installed by CoreWeave uses liquid cooling technology and includes 72 Blackwell Ultra GPUs and 36 NVIDIA Grace CPUs.\n\n\n\nNVIDIA said that Blackwell Ultra’s ability to generate AI content is 50 times that of its predecessor Blackwell. This announcement is a milestone for NVIDIA. At present, artificial intelligence developers are still scrambling for NVIDIA’s latest chips, and the improvements of these chips make them more suitable for training and deploying models.  \nMarket value approaches 4 trillion US dollars  \nIt is worth mentioning that Nvidia has almost monopolized the market with high-performance AI chips, with annual profits exceeding 500 billion yuan, becoming the “shovel seller” that global technology giants are competing to pursue. It is expected to become the world’s first company with a market value of 4 trillion US dollars. Some analysts even predict that its market value may reach 6 trillion US dollars.\n\n\n\nAs far as global computing power manufacturers are concerned, in the era of generative AI, Nvidia is undoubtedly the one that has gained the most. With the scarcity of high-performance chips and the shortage of supply, it has driven annual revenue to exceed the 100 billion US dollar mark. It is also one of the most profitable technology companies in the world, and has driven its stock price to continue to rise, becoming the world’s highest-valued listed company.\n\nIt is no exaggeration to say that generative AI is an important driving force for the development of science and technology, and Nvidia is the core driving force of this major technology. Technology giants prefer Nvidia chips to train large models. Technology giants such as Google, Meta, and Amazon have invested tens of billions of dollars in artificial intelligence to purchase Nvidia chips to enhance their own AI capabilities.\n\nMeanwhile, Microsoft (MSFT) has reportedly postponed the release of its most ambitious self-developed AI chips, codenamed Braga-R and Clea, to 2028 or later, and the Maia 200 chip to 2026, with the focus shifted to transitional designs.\n\nMicrosoft released its first self-developed AI chip, Maia 100, last year, and originally planned that Maia 200 would be available in 2025. The slowdown in the launch of self-developed chips may affect Microsoft’s large-scale AI deployment. By replanning transitional designs for 2026 and beyond, Microsoft seeks to maintain progress in the field of custom chips.\n\nObviously, since the beginning of 2025, AI big models have been in full swing, especially the rise of open source models such as DeepSeek R1, which has set off a revolution in the AI ​​industry. The performance of open source models is already comparable to that of top closed source models. Technology giants have started a new round of big model competition to promote AI computing power from laboratories to commercial applications.\n\nWiMi focuses on AI chip technology layout  \nUndoubtedly, AI computing chips have become the focus of global technology competition. According to data, Wimi Hologram Cloud Inc (WIMI), as a cutting-edge technology company focusing on the field of AI chips, focuses on creating “stronger” intelligent computing products by building a diversified technology ecosystem, deploying emerging computing scenarios and promoting industrial collaboration. It has deep technical accumulation and full-stack competitive advantages in chip architecture, cluster system, and software ecology, and has become an important participant in the global AI chip competition.\n\nIn fact, WiMi has long started to deploy the field of accelerated computing, supporting advanced AI chips to build heterogeneous computing platforms, and in terms of edge chip optimization, accelerating the development of low-power, high-compatibility terminal chips, exploring the integration of edge algorithms and AI chips, reducing the cost of small and medium-sized enterprises to access AI technology, breaking through the bottleneck of traditional computing power, and adapting to high-real-time scenarios such as intelligent manufacturing and autonomous driving, injecting surging power into the development of artificial intelligence, and injecting certainty into the computing power base of large models.",
         "text",
         "Hawdet",
         "lokj08bz",
         "3",
         "0",
         "1751966218.0",
         "https://www.reddit.com/r/Wallstreetbetsnew/comments/1lujzds/nvidia_blackwell_ultra_chip_commercialized/"
        ],
        [
         "2",
         "1luock6",
         "Timeline to Liftoff-Key Dates Every $WKSP Watcher Should Circle",
         "Late July: Mid-pilot check-in with construction fleet. Look for uptime >90 % and user feedback on COR swap speed.\n\nMid August: Dealer summit-new stocking programs could push locations past 650.\n\nSeptember: Chief of Chaos drops first teaser campaign; retail buzz historically doubles web traffic in week one.\n\nQ4 Launch Window: SOLIS + COR first production run ships. Paid pilot results released. Possible OEM MOU.\n\nEach checkpoint has share-moving power, and the float is thin enough that front-running volume often starts a week ahead. Yesterday’s 4× spike shows how quickly liquidity can vanish; mark your calendar if you plan to scale in calmly.",
         "text",
         "DenisEchoField",
         "1rwjrgb4sc",
         "1",
         "0",
         "1751980705.0",
         "https://www.reddit.com/r/Wallstreetbetsnew/comments/1luock6/timeline_to_liftoffkey_dates_every_wksp_watcher/"
        ],
        [
         "3",
         "1ltvyqb",
         "Tariff-Proof Growth Engine Goes Viral — Worksport’s $20 Bull Case Gains Converts by the Minute",
         "Latest numbers crushed expectations. Unit output is up 50%, margins have doubled, and revenue is now pacing toward $20M. With a Made-in-America supply chain, Worksport avoids the new import tariffs that are squeezing offshore competitors. This widens their advantage just as demand accelerates.\n\nSocial sentiment is catching up fast. #WKSP trended top-10 on Twitter all afternoon. Traders are pointing out that the 4.5M-share float can barely handle ETF-sized interest. MarketBeat’s $11.50 to $20.00 target range is being shared across Discord groups as the new bull thesis gains steam.\n\nWhat’s next: SOLIS solar tonneaus and COR battery packs are set to launch this fall, backed by a Fortune 500 pilot. If the core tonneau business pushes into nine-figure sales, analysts say that $20 price target could just be the first stop on a much longer ride.",
         "text",
         "3421431boom",
         "766ues2",
         "17",
         "0",
         "1751899345.0",
         "https://www.reddit.com/r/Wallstreetbetsnew/comments/1ltvyqb/tariffproof_growth_engine_goes_viral_worksports/"
        ],
        [
         "4",
         "1ltzbl9",
         "Worksport’s SOLIS Pilot with Fortune 500 Giant + Surging Margins Spark Bullish Momentum",
         "Worksport (WKSP) just locked in a major validation: a top-15 U.S. construction company is actively piloting its SOLIS solar truck bed cover and COR battery nano-grid system. This paid trial comes alongside strong company updates-production surged 50% and margins doubled in recent months.\n\nAnalysts are taking notice too, with consensus price targets around $16.33 and some calling for a possible $20. Meanwhile, retail traders and Discord groups jumped on the news, pushing #WKSP up the trending charts.\n\nWith industrial adoption in play, fast-growing financials, and a small float, it’s easy to see how WKSP could break into double-digit territory sooner than expected.",
         "text",
         "DenisEchoField",
         "1rwjrgb4sc",
         "8",
         "0",
         "1751907055.0",
         "https://www.reddit.com/r/Wallstreetbetsnew/comments/1ltzbl9/worksports_solis_pilot_with_fortune_500_giant/"
        ]
       ],
       "shape": {
        "columns": 10,
        "rows": 5
       }
      },
      "text/html": [
       "<div>\n",
       "<style scoped>\n",
       "    .dataframe tbody tr th:only-of-type {\n",
       "        vertical-align: middle;\n",
       "    }\n",
       "\n",
       "    .dataframe tbody tr th {\n",
       "        vertical-align: top;\n",
       "    }\n",
       "\n",
       "    .dataframe thead th {\n",
       "        text-align: right;\n",
       "    }\n",
       "</style>\n",
       "<table border=\"1\" class=\"dataframe\">\n",
       "  <thead>\n",
       "    <tr style=\"text-align: right;\">\n",
       "      <th></th>\n",
       "      <th>post_id</th>\n",
       "      <th>title</th>\n",
       "      <th>text</th>\n",
       "      <th>post_type</th>\n",
       "      <th>author_name</th>\n",
       "      <th>author_id</th>\n",
       "      <th>score</th>\n",
       "      <th>num_comments</th>\n",
       "      <th>created_utc</th>\n",
       "      <th>url</th>\n",
       "    </tr>\n",
       "  </thead>\n",
       "  <tbody>\n",
       "    <tr>\n",
       "      <th>0</th>\n",
       "      <td>11dk0dd</td>\n",
       "      <td>The Ultimate Free Course for Options Trading</td>\n",
       "      <td># Here’s a free resource for options trading I...</td>\n",
       "      <td>text</td>\n",
       "      <td>AlphaGiveth</td>\n",
       "      <td>bjb5f1tl</td>\n",
       "      <td>271</td>\n",
       "      <td>71</td>\n",
       "      <td>1.677525e+09</td>\n",
       "      <td>https://www.reddit.com/r/Wallstreetbetsnew/com...</td>\n",
       "    </tr>\n",
       "    <tr>\n",
       "      <th>1</th>\n",
       "      <td>1lujzds</td>\n",
       "      <td>NVIDIA Blackwell Ultra chip commercialized</td>\n",
       "      <td>It is learned that NVIDIA (NVDA) and CoreWeave...</td>\n",
       "      <td>text</td>\n",
       "      <td>Hawdet</td>\n",
       "      <td>lokj08bz</td>\n",
       "      <td>3</td>\n",
       "      <td>0</td>\n",
       "      <td>1.751966e+09</td>\n",
       "      <td>https://www.reddit.com/r/Wallstreetbetsnew/com...</td>\n",
       "    </tr>\n",
       "    <tr>\n",
       "      <th>2</th>\n",
       "      <td>1luock6</td>\n",
       "      <td>Timeline to Liftoff-Key Dates Every $WKSP Watc...</td>\n",
       "      <td>Late July: Mid-pilot check-in with constructio...</td>\n",
       "      <td>text</td>\n",
       "      <td>DenisEchoField</td>\n",
       "      <td>1rwjrgb4sc</td>\n",
       "      <td>1</td>\n",
       "      <td>0</td>\n",
       "      <td>1.751981e+09</td>\n",
       "      <td>https://www.reddit.com/r/Wallstreetbetsnew/com...</td>\n",
       "    </tr>\n",
       "    <tr>\n",
       "      <th>3</th>\n",
       "      <td>1ltvyqb</td>\n",
       "      <td>Tariff-Proof Growth Engine Goes Viral — Worksp...</td>\n",
       "      <td>Latest numbers crushed expectations. Unit outp...</td>\n",
       "      <td>text</td>\n",
       "      <td>3421431boom</td>\n",
       "      <td>766ues2</td>\n",
       "      <td>17</td>\n",
       "      <td>0</td>\n",
       "      <td>1.751899e+09</td>\n",
       "      <td>https://www.reddit.com/r/Wallstreetbetsnew/com...</td>\n",
       "    </tr>\n",
       "    <tr>\n",
       "      <th>4</th>\n",
       "      <td>1ltzbl9</td>\n",
       "      <td>Worksport’s SOLIS Pilot with Fortune 500 Giant...</td>\n",
       "      <td>Worksport (WKSP) just locked in a major valida...</td>\n",
       "      <td>text</td>\n",
       "      <td>DenisEchoField</td>\n",
       "      <td>1rwjrgb4sc</td>\n",
       "      <td>8</td>\n",
       "      <td>0</td>\n",
       "      <td>1.751907e+09</td>\n",
       "      <td>https://www.reddit.com/r/Wallstreetbetsnew/com...</td>\n",
       "    </tr>\n",
       "  </tbody>\n",
       "</table>\n",
       "</div>"
      ],
      "text/plain": [
       "   post_id                                              title  \\\n",
       "0  11dk0dd       The Ultimate Free Course for Options Trading   \n",
       "1  1lujzds         NVIDIA Blackwell Ultra chip commercialized   \n",
       "2  1luock6  Timeline to Liftoff-Key Dates Every $WKSP Watc...   \n",
       "3  1ltvyqb  Tariff-Proof Growth Engine Goes Viral — Worksp...   \n",
       "4  1ltzbl9  Worksport’s SOLIS Pilot with Fortune 500 Giant...   \n",
       "\n",
       "                                                text post_type  \\\n",
       "0  # Here’s a free resource for options trading I...      text   \n",
       "1  It is learned that NVIDIA (NVDA) and CoreWeave...      text   \n",
       "2  Late July: Mid-pilot check-in with constructio...      text   \n",
       "3  Latest numbers crushed expectations. Unit outp...      text   \n",
       "4  Worksport (WKSP) just locked in a major valida...      text   \n",
       "\n",
       "      author_name   author_id  score  num_comments   created_utc  \\\n",
       "0     AlphaGiveth    bjb5f1tl    271            71  1.677525e+09   \n",
       "1          Hawdet    lokj08bz      3             0  1.751966e+09   \n",
       "2  DenisEchoField  1rwjrgb4sc      1             0  1.751981e+09   \n",
       "3     3421431boom     766ues2     17             0  1.751899e+09   \n",
       "4  DenisEchoField  1rwjrgb4sc      8             0  1.751907e+09   \n",
       "\n",
       "                                                 url  \n",
       "0  https://www.reddit.com/r/Wallstreetbetsnew/com...  \n",
       "1  https://www.reddit.com/r/Wallstreetbetsnew/com...  \n",
       "2  https://www.reddit.com/r/Wallstreetbetsnew/com...  \n",
       "3  https://www.reddit.com/r/Wallstreetbetsnew/com...  \n",
       "4  https://www.reddit.com/r/Wallstreetbetsnew/com...  "
      ]
     },
     "execution_count": 3,
     "metadata": {},
     "output_type": "execute_result"
    }
   ],
   "source": [
    "df = pd.read_csv(DATA/'wallstreetbetsnew_posts.csv')\n",
    "print(f\"Data shape: {df.shape}\")\n",
    "df.head()"
   ]
  },
  {
   "cell_type": "code",
   "execution_count": 4,
   "id": "6ee08e0a",
   "metadata": {},
   "outputs": [
    {
     "name": "stdout",
     "output_type": "stream",
     "text": [
      "post_id           0\n",
      "title             0\n",
      "text              0\n",
      "post_type         0\n",
      "author_name       0\n",
      "author_id       492\n",
      "score             0\n",
      "num_comments      0\n",
      "created_utc       0\n",
      "url               0\n",
      "dtype: int64\n"
     ]
    }
   ],
   "source": [
    "# check for null values\n",
    "print(df.isnull().sum())"
   ]
  },
  {
   "cell_type": "markdown",
   "id": "7729f4f1",
   "metadata": {},
   "source": [
    "Looks like some of the authors are either deleted or suspended accounts."
   ]
  },
  {
   "cell_type": "code",
   "execution_count": 5,
   "id": "f113abce",
   "metadata": {},
   "outputs": [
    {
     "name": "stdout",
     "output_type": "stream",
     "text": [
      "2021-01-26 14:12:31 2025-07-09 09:08:41\n"
     ]
    }
   ],
   "source": [
    "# check the min and max date\n",
    "df['created_utc'] = pd.to_datetime(df['created_utc'], unit='s')\n",
    "print(df['created_utc'].min(), df['created_utc'].max())"
   ]
  },
  {
   "cell_type": "code",
   "execution_count": null,
   "id": "0ecbce72",
   "metadata": {},
   "outputs": [
    {
     "data": {
      "application/vnd.microsoft.datawrangler.viewer.v0+json": {
       "columns": [
        {
         "name": "post_id",
         "rawType": "object",
         "type": "string"
        },
        {
         "name": "0",
         "rawType": "int64",
         "type": "integer"
        }
       ],
       "ref": "63b46567-5edb-4124-b553-424d58bd7ea6",
       "rows": [
        [
         "1ipv4u5",
         "5"
        ],
        [
         "1lknrj7",
         "5"
        ],
        [
         "1iprgwk",
         "5"
        ],
        [
         "1kp6t87",
         "5"
        ],
        [
         "1ky39lx",
         "5"
        ],
        [
         "1jj2wvf",
         "5"
        ],
        [
         "1jvz454",
         "5"
        ],
        [
         "1jwjqiu",
         "5"
        ],
        [
         "1i6adlx",
         "5"
        ],
        [
         "1ih6t19",
         "5"
        ]
       ],
       "shape": {
        "columns": 1,
        "rows": 10
       }
      },
      "text/plain": [
       "post_id\n",
       "1ipv4u5    5\n",
       "1lknrj7    5\n",
       "1iprgwk    5\n",
       "1kp6t87    5\n",
       "1ky39lx    5\n",
       "1jj2wvf    5\n",
       "1jvz454    5\n",
       "1jwjqiu    5\n",
       "1i6adlx    5\n",
       "1ih6t19    5\n",
       "dtype: int64"
      ]
     },
     "execution_count": 6,
     "metadata": {},
     "output_type": "execute_result"
    },
    {
     "ename": "",
     "evalue": "",
     "output_type": "error",
     "traceback": [
      "\u001b[1;31mThe Kernel crashed while executing code in the current cell or a previous cell. \n",
      "\u001b[1;31mPlease review the code in the cell(s) to identify a possible cause of the failure. \n",
      "\u001b[1;31mClick <a href='https://aka.ms/vscodeJupyterKernelCrash'>here</a> for more info. \n",
      "\u001b[1;31mView Jupyter <a href='command:jupyter.viewOutput'>log</a> for further details."
     ]
    }
   ],
   "source": [
    "df.groupby('post_id').size().sort_values(ascending=False).head(10)"
   ]
  },
  {
   "cell_type": "code",
   "execution_count": 9,
   "id": "4c598257",
   "metadata": {},
   "outputs": [
    {
     "data": {
      "application/vnd.microsoft.datawrangler.viewer.v0+json": {
       "columns": [
        {
         "name": "index",
         "rawType": "int64",
         "type": "integer"
        },
        {
         "name": "post_id",
         "rawType": "object",
         "type": "string"
        },
        {
         "name": "title",
         "rawType": "object",
         "type": "string"
        },
        {
         "name": "text",
         "rawType": "object",
         "type": "string"
        },
        {
         "name": "post_type",
         "rawType": "object",
         "type": "string"
        },
        {
         "name": "author_name",
         "rawType": "object",
         "type": "string"
        },
        {
         "name": "author_id",
         "rawType": "object",
         "type": "string"
        },
        {
         "name": "score",
         "rawType": "int64",
         "type": "integer"
        },
        {
         "name": "num_comments",
         "rawType": "int64",
         "type": "integer"
        },
        {
         "name": "created_utc",
         "rawType": "datetime64[ns]",
         "type": "datetime"
        },
        {
         "name": "url",
         "rawType": "object",
         "type": "string"
        }
       ],
       "ref": "64014e95-da73-4a62-a020-98e182a2ca4b",
       "rows": [
        [
         "502",
         "1il6h9l",
         "¡! new discord !¡",
         "started a discord community where we discuss trading strategies, stock picks, and resources with small cap, large cap, options, and algo trading rooms.\n\ncomment if you’d be interested in joining. we’re at 20 members now! ",
         "text",
         "In4thelongrun_",
         "a0so7n65",
         "0",
         "36",
         "2025-02-09 04:19:29",
         "https://www.reddit.com/r/Wallstreetbetsnew/comments/1il6h9l/new_discord/"
        ],
        [
         "1161",
         "1il6h9l",
         "¡! new discord !¡",
         "started a discord community where we discuss trading strategies, stock picks, and resources with small cap, large cap, options, and algo trading rooms.\n\ncomment if you’d be interested in joining. we’re at 20 members now! ",
         "text",
         "In4thelongrun_",
         "a0so7n65",
         "0",
         "36",
         "2025-02-09 04:19:29",
         "https://www.reddit.com/r/Wallstreetbetsnew/comments/1il6h9l/new_discord/"
        ],
        [
         "1836",
         "1il6h9l",
         "¡! new discord !¡",
         "started a discord community where we discuss trading strategies, stock picks, and resources with small cap, large cap, options, and algo trading rooms.\n\ncomment if you’d be interested in joining. we’re at 20 members now! ",
         "text",
         "In4thelongrun_",
         "a0so7n65",
         "1",
         "36",
         "2025-02-09 04:19:29",
         "https://www.reddit.com/r/Wallstreetbetsnew/comments/1il6h9l/new_discord/"
        ],
        [
         "3457",
         "1il6h9l",
         "¡! new discord !¡",
         "started a discord community where we discuss trading strategies, stock picks, and resources with small cap, large cap, options, and algo trading rooms.\n\ncomment if you’d be interested in joining. we’re at 20 members now! ",
         "text",
         "In4thelongrun_",
         "a0so7n65",
         "0",
         "36",
         "2025-02-09 04:19:29",
         "https://www.reddit.com/r/Wallstreetbetsnew/comments/1il6h9l/new_discord/"
        ],
        [
         "3967",
         "1il6h9l",
         "¡! new discord !¡",
         "started a discord community where we discuss trading strategies, stock picks, and resources with small cap, large cap, options, and algo trading rooms.\n\ncomment if you’d be interested in joining. we’re at 20 members now! ",
         "text",
         "In4thelongrun_",
         "a0so7n65",
         "0",
         "36",
         "2025-02-09 04:19:29",
         "https://www.reddit.com/r/Wallstreetbetsnew/comments/1il6h9l/new_discord/"
        ],
        [
         "4504",
         "1il6h9l",
         "¡! new discord !¡",
         "started a discord community where we discuss trading strategies, stock picks, and resources with small cap, large cap, options, and algo trading rooms.\n\ncomment if you’d be interested in joining. we’re at 20 members now! ",
         "text",
         "In4thelongrun_",
         "a0so7n65",
         "1",
         "36",
         "2025-02-09 04:19:29",
         "https://www.reddit.com/r/Wallstreetbetsnew/comments/1il6h9l/new_discord/"
        ],
        [
         "5010",
         "1il6h9l",
         "¡! new discord !¡",
         "started a discord community where we discuss trading strategies, stock picks, and resources with small cap, large cap, options, and algo trading rooms.\n\ncomment if you’d be interested in joining. we’re at 20 members now! ",
         "text",
         "In4thelongrun_",
         "a0so7n65",
         "1",
         "36",
         "2025-02-09 04:19:29",
         "https://www.reddit.com/r/Wallstreetbetsnew/comments/1il6h9l/new_discord/"
        ],
        [
         "6159",
         "1il6h9l",
         "¡! new discord !¡",
         "started a discord community where we discuss trading strategies, stock picks, and resources with small cap, large cap, options, and algo trading rooms.\n\ncomment if you’d be interested in joining. we’re at 20 members now! ",
         "text",
         "In4thelongrun_",
         "a0so7n65",
         "0",
         "36",
         "2025-02-09 04:19:29",
         "https://www.reddit.com/r/Wallstreetbetsnew/comments/1il6h9l/new_discord/"
        ]
       ],
       "shape": {
        "columns": 10,
        "rows": 8
       }
      },
      "text/html": [
       "<div>\n",
       "<style scoped>\n",
       "    .dataframe tbody tr th:only-of-type {\n",
       "        vertical-align: middle;\n",
       "    }\n",
       "\n",
       "    .dataframe tbody tr th {\n",
       "        vertical-align: top;\n",
       "    }\n",
       "\n",
       "    .dataframe thead th {\n",
       "        text-align: right;\n",
       "    }\n",
       "</style>\n",
       "<table border=\"1\" class=\"dataframe\">\n",
       "  <thead>\n",
       "    <tr style=\"text-align: right;\">\n",
       "      <th></th>\n",
       "      <th>post_id</th>\n",
       "      <th>title</th>\n",
       "      <th>text</th>\n",
       "      <th>post_type</th>\n",
       "      <th>author_name</th>\n",
       "      <th>author_id</th>\n",
       "      <th>score</th>\n",
       "      <th>num_comments</th>\n",
       "      <th>created_utc</th>\n",
       "      <th>url</th>\n",
       "    </tr>\n",
       "  </thead>\n",
       "  <tbody>\n",
       "    <tr>\n",
       "      <th>502</th>\n",
       "      <td>1il6h9l</td>\n",
       "      <td>¡! new discord !¡</td>\n",
       "      <td>started a discord community where we discuss t...</td>\n",
       "      <td>text</td>\n",
       "      <td>In4thelongrun_</td>\n",
       "      <td>a0so7n65</td>\n",
       "      <td>0</td>\n",
       "      <td>36</td>\n",
       "      <td>2025-02-09 04:19:29</td>\n",
       "      <td>https://www.reddit.com/r/Wallstreetbetsnew/com...</td>\n",
       "    </tr>\n",
       "    <tr>\n",
       "      <th>1161</th>\n",
       "      <td>1il6h9l</td>\n",
       "      <td>¡! new discord !¡</td>\n",
       "      <td>started a discord community where we discuss t...</td>\n",
       "      <td>text</td>\n",
       "      <td>In4thelongrun_</td>\n",
       "      <td>a0so7n65</td>\n",
       "      <td>0</td>\n",
       "      <td>36</td>\n",
       "      <td>2025-02-09 04:19:29</td>\n",
       "      <td>https://www.reddit.com/r/Wallstreetbetsnew/com...</td>\n",
       "    </tr>\n",
       "    <tr>\n",
       "      <th>1836</th>\n",
       "      <td>1il6h9l</td>\n",
       "      <td>¡! new discord !¡</td>\n",
       "      <td>started a discord community where we discuss t...</td>\n",
       "      <td>text</td>\n",
       "      <td>In4thelongrun_</td>\n",
       "      <td>a0so7n65</td>\n",
       "      <td>1</td>\n",
       "      <td>36</td>\n",
       "      <td>2025-02-09 04:19:29</td>\n",
       "      <td>https://www.reddit.com/r/Wallstreetbetsnew/com...</td>\n",
       "    </tr>\n",
       "    <tr>\n",
       "      <th>3457</th>\n",
       "      <td>1il6h9l</td>\n",
       "      <td>¡! new discord !¡</td>\n",
       "      <td>started a discord community where we discuss t...</td>\n",
       "      <td>text</td>\n",
       "      <td>In4thelongrun_</td>\n",
       "      <td>a0so7n65</td>\n",
       "      <td>0</td>\n",
       "      <td>36</td>\n",
       "      <td>2025-02-09 04:19:29</td>\n",
       "      <td>https://www.reddit.com/r/Wallstreetbetsnew/com...</td>\n",
       "    </tr>\n",
       "    <tr>\n",
       "      <th>3967</th>\n",
       "      <td>1il6h9l</td>\n",
       "      <td>¡! new discord !¡</td>\n",
       "      <td>started a discord community where we discuss t...</td>\n",
       "      <td>text</td>\n",
       "      <td>In4thelongrun_</td>\n",
       "      <td>a0so7n65</td>\n",
       "      <td>0</td>\n",
       "      <td>36</td>\n",
       "      <td>2025-02-09 04:19:29</td>\n",
       "      <td>https://www.reddit.com/r/Wallstreetbetsnew/com...</td>\n",
       "    </tr>\n",
       "    <tr>\n",
       "      <th>4504</th>\n",
       "      <td>1il6h9l</td>\n",
       "      <td>¡! new discord !¡</td>\n",
       "      <td>started a discord community where we discuss t...</td>\n",
       "      <td>text</td>\n",
       "      <td>In4thelongrun_</td>\n",
       "      <td>a0so7n65</td>\n",
       "      <td>1</td>\n",
       "      <td>36</td>\n",
       "      <td>2025-02-09 04:19:29</td>\n",
       "      <td>https://www.reddit.com/r/Wallstreetbetsnew/com...</td>\n",
       "    </tr>\n",
       "    <tr>\n",
       "      <th>5010</th>\n",
       "      <td>1il6h9l</td>\n",
       "      <td>¡! new discord !¡</td>\n",
       "      <td>started a discord community where we discuss t...</td>\n",
       "      <td>text</td>\n",
       "      <td>In4thelongrun_</td>\n",
       "      <td>a0so7n65</td>\n",
       "      <td>1</td>\n",
       "      <td>36</td>\n",
       "      <td>2025-02-09 04:19:29</td>\n",
       "      <td>https://www.reddit.com/r/Wallstreetbetsnew/com...</td>\n",
       "    </tr>\n",
       "    <tr>\n",
       "      <th>6159</th>\n",
       "      <td>1il6h9l</td>\n",
       "      <td>¡! new discord !¡</td>\n",
       "      <td>started a discord community where we discuss t...</td>\n",
       "      <td>text</td>\n",
       "      <td>In4thelongrun_</td>\n",
       "      <td>a0so7n65</td>\n",
       "      <td>0</td>\n",
       "      <td>36</td>\n",
       "      <td>2025-02-09 04:19:29</td>\n",
       "      <td>https://www.reddit.com/r/Wallstreetbetsnew/com...</td>\n",
       "    </tr>\n",
       "  </tbody>\n",
       "</table>\n",
       "</div>"
      ],
      "text/plain": [
       "      post_id              title  \\\n",
       "502   1il6h9l  ¡! new discord !¡   \n",
       "1161  1il6h9l  ¡! new discord !¡   \n",
       "1836  1il6h9l  ¡! new discord !¡   \n",
       "3457  1il6h9l  ¡! new discord !¡   \n",
       "3967  1il6h9l  ¡! new discord !¡   \n",
       "4504  1il6h9l  ¡! new discord !¡   \n",
       "5010  1il6h9l  ¡! new discord !¡   \n",
       "6159  1il6h9l  ¡! new discord !¡   \n",
       "\n",
       "                                                   text post_type  \\\n",
       "502   started a discord community where we discuss t...      text   \n",
       "1161  started a discord community where we discuss t...      text   \n",
       "1836  started a discord community where we discuss t...      text   \n",
       "3457  started a discord community where we discuss t...      text   \n",
       "3967  started a discord community where we discuss t...      text   \n",
       "4504  started a discord community where we discuss t...      text   \n",
       "5010  started a discord community where we discuss t...      text   \n",
       "6159  started a discord community where we discuss t...      text   \n",
       "\n",
       "         author_name author_id  score  num_comments         created_utc  \\\n",
       "502   In4thelongrun_  a0so7n65      0            36 2025-02-09 04:19:29   \n",
       "1161  In4thelongrun_  a0so7n65      0            36 2025-02-09 04:19:29   \n",
       "1836  In4thelongrun_  a0so7n65      1            36 2025-02-09 04:19:29   \n",
       "3457  In4thelongrun_  a0so7n65      0            36 2025-02-09 04:19:29   \n",
       "3967  In4thelongrun_  a0so7n65      0            36 2025-02-09 04:19:29   \n",
       "4504  In4thelongrun_  a0so7n65      1            36 2025-02-09 04:19:29   \n",
       "5010  In4thelongrun_  a0so7n65      1            36 2025-02-09 04:19:29   \n",
       "6159  In4thelongrun_  a0so7n65      0            36 2025-02-09 04:19:29   \n",
       "\n",
       "                                                    url  \n",
       "502   https://www.reddit.com/r/Wallstreetbetsnew/com...  \n",
       "1161  https://www.reddit.com/r/Wallstreetbetsnew/com...  \n",
       "1836  https://www.reddit.com/r/Wallstreetbetsnew/com...  \n",
       "3457  https://www.reddit.com/r/Wallstreetbetsnew/com...  \n",
       "3967  https://www.reddit.com/r/Wallstreetbetsnew/com...  \n",
       "4504  https://www.reddit.com/r/Wallstreetbetsnew/com...  \n",
       "5010  https://www.reddit.com/r/Wallstreetbetsnew/com...  \n",
       "6159  https://www.reddit.com/r/Wallstreetbetsnew/com...  "
      ]
     },
     "execution_count": 9,
     "metadata": {},
     "output_type": "execute_result"
    }
   ],
   "source": [
    "# list all the post by post_id 1il6h9l\n",
    "df[df['post_id'] == '1il6h9l'].head(10)"
   ]
  }
 ],
 "metadata": {
  "kernelspec": {
   "display_name": "Python 3",
   "language": "python",
   "name": "python3"
  },
  "language_info": {
   "codemirror_mode": {
    "name": "ipython",
    "version": 3
   },
   "file_extension": ".py",
   "mimetype": "text/x-python",
   "name": "python",
   "nbconvert_exporter": "python",
   "pygments_lexer": "ipython3",
   "version": "3.10.11"
  }
 },
 "nbformat": 4,
 "nbformat_minor": 5
}
