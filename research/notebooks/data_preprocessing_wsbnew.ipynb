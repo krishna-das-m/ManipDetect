{
 "cells": [
  {
   "cell_type": "markdown",
   "id": "8d6808f7",
   "metadata": {},
   "source": [
    "### Libraries"
   ]
  },
  {
   "cell_type": "code",
   "execution_count": 10,
   "id": "a07e5e26",
   "metadata": {},
   "outputs": [],
   "source": [
    "import numpy as np\n",
    "import pandas as pd\n",
    "from datetime import datetime\n",
    "# from dateutil.tz import gettz\n",
    "\n",
    "# for text processing\n",
    "from sklearn.feature_extraction.text import TfidfVectorizer\n",
    "from sklearn.metrics.pairwise import cosine_similarity\n",
    "import re\n",
    "from textblob import TextBlob\n",
    "\n",
    "from pathlib import Path\n",
    "# for visualization\n",
    "import matplotlib.pyplot as plt\n",
    "import seaborn as sns\n",
    "sns.set_theme(style='ticks', font_scale=1.5)\n",
    "\n",
    "Root = Path('.').absolute().parent\n",
    "SCRIPTS = Root / r'scripts'\n",
    "DATA = Root/ r'C:\\Users\\krishnadas\\Projects\\ML Projects\\ManipDetect\\data'"
   ]
  },
  {
   "cell_type": "code",
   "execution_count": 12,
   "id": "d682a56c",
   "metadata": {},
   "outputs": [
    {
     "name": "stdout",
     "output_type": "stream",
     "text": [
      "Data shape: (6297, 11)\n"
     ]
    },
    {
     "data": {
      "application/vnd.microsoft.datawrangler.viewer.v0+json": {
       "columns": [
        {
         "name": "index",
         "rawType": "int64",
         "type": "integer"
        },
        {
         "name": "post_id",
         "rawType": "object",
         "type": "string"
        },
        {
         "name": "title",
         "rawType": "object",
         "type": "string"
        },
        {
         "name": "text",
         "rawType": "object",
         "type": "string"
        },
        {
         "name": "post_type",
         "rawType": "object",
         "type": "string"
        },
        {
         "name": "author_name",
         "rawType": "object",
         "type": "string"
        },
        {
         "name": "author_id",
         "rawType": "object",
         "type": "string"
        },
        {
         "name": "score",
         "rawType": "int64",
         "type": "integer"
        },
        {
         "name": "num_comments",
         "rawType": "int64",
         "type": "integer"
        },
        {
         "name": "created_utc",
         "rawType": "float64",
         "type": "float"
        },
        {
         "name": "url",
         "rawType": "object",
         "type": "string"
        },
        {
         "name": "created_datetime",
         "rawType": "object",
         "type": "string"
        }
       ],
       "ref": "4107bea8-7079-4425-9e23-28a741f0bac3",
       "rows": [
        [
         "0",
         "1lu3q54",
         "Thoughts on PLL stock?",
         "Merger news impact on PLL? DO YOU HAVE ANY INSIGHT ON THIS STOCK?\nSure! Here’s a catchy, engaging Reddit post about Piedmont Lithium (PLL) designed to grab attention and spark discussion:\n\n🚀 Is PLL Poised for a Comeback? Lithium’s Future Looks Bright—but the Stock’s Still Shaky!\n\nBut here’s the thing: demand for lithium batteries isn’t going anywhere. With EV adoption accelerating globally, I’m betting PLL’s fundamentals will shine again soon.\n\nTechnicals show it’s stuck in a tight range between $6.00 and $6.50—waiting for a breakout. Do you think it’ll break up or slip further? Are we looking at a sweet buying opportunity or a falling knife?\n\nAlso curious—anyone playing PLL calls or planning to? Seems like a sleeper option play right now.\n\nDrop your thoughts and DD below! Let’s get a real convo going. ⚡️🔋\n\n",
         "text",
         "Still-Great89",
         "1hpnylgt70",
         "0",
         "6",
         "1751917020.0",
         "https://www.reddit.com/r/Wallstreetbetsnew/comments/1lu3q54/thoughts_on_pll_stock/",
         "2025-07-07 19:37:00"
        ],
        [
         "1",
         "1ltzbl9",
         "Worksport’s SOLIS Pilot with Fortune 500 Giant + Surging Margins Spark Bullish Momentum",
         "Worksport (WKSP) just locked in a major validation: a top-15 U.S. construction company is actively piloting its SOLIS solar truck bed cover and COR battery nano-grid system. This paid trial comes alongside strong company updates-production surged 50% and margins doubled in recent months.\n\nAnalysts are taking notice too, with consensus price targets around $16.33 and some calling for a possible $20. Meanwhile, retail traders and Discord groups jumped on the news, pushing #WKSP up the trending charts.\n\nWith industrial adoption in play, fast-growing financials, and a small float, it’s easy to see how WKSP could break into double-digit territory sooner than expected.",
         "text",
         "DenisEchoField",
         "1rwjrgb4sc",
         "10",
         "0",
         "1751907055.0",
         "https://www.reddit.com/r/Wallstreetbetsnew/comments/1ltzbl9/worksports_solis_pilot_with_fortune_500_giant/",
         "2025-07-07 16:50:55"
        ],
        [
         "2",
         "1ltwsp7",
         "SOLIS Countdown + Fortune-500 Pilot-Worksport Frenzy Signals Double-Digit Pricing Ahead",
         "Clean-tech skeptics, meet hard proof: a top-15 U.S. construction giant is paying to pilot Worksport’s SOLIS tonneau and COR nano-grid before launch. That endorsement landed in the same PR that bragged about a 100 %+ margin leap and 50 % production surge. Consensus price target? $16.33, with room to $20. Social buzz followed instantly-Discord rooms lit up and #WKSP surged on Twitter trends. When industrial buyers validate tech and analysts slap a 5× upside on a thin float, the transition from single to double digits can happen shockingly fast.",
         "text",
         "DenisEchoField",
         "1rwjrgb4sc",
         "2",
         "0",
         "1751901282.0",
         "https://www.reddit.com/r/Wallstreetbetsnew/comments/1ltwsp7/solis_countdown_fortune500_pilotworksport_frenzy/",
         "2025-07-07 15:14:42"
        ],
        [
         "3",
         "1ltvyqb",
         "Tariff-Proof Growth Engine Goes Viral — Worksport’s $20 Bull Case Gains Converts by the Minute",
         "Latest numbers crushed expectations. Unit output is up 50%, margins have doubled, and revenue is now pacing toward $20M. With a Made-in-America supply chain, Worksport avoids the new import tariffs that are squeezing offshore competitors. This widens their advantage just as demand accelerates.\n\nSocial sentiment is catching up fast. #WKSP trended top-10 on Twitter all afternoon. Traders are pointing out that the 4.5M-share float can barely handle ETF-sized interest. MarketBeat’s $11.50 to $20.00 target range is being shared across Discord groups as the new bull thesis gains steam.\n\nWhat’s next: SOLIS solar tonneaus and COR battery packs are set to launch this fall, backed by a Fortune 500 pilot. If the core tonneau business pushes into nine-figure sales, analysts say that $20 price target could just be the first stop on a much longer ride.",
         "text",
         "3421431boom",
         "766ues2",
         "16",
         "0",
         "1751899345.0",
         "https://www.reddit.com/r/Wallstreetbetsnew/comments/1ltvyqb/tariffproof_growth_engine_goes_viral_worksports/",
         "2025-07-07 14:42:25"
        ],
        [
         "4",
         "1ltjdp7",
         "BMNR & RGC Explode! 🔥 Massive Moves You Can’t Miss!",
         "\n🚀 $BMNR and $RGC are blasting off – and this video breaks it all down! We dive into the jaw-dropping price spikes, the catalysts behind the runs, and what to watch next. Whether you're riding the momentum or just curious, we cover:\n\n📈 BMNR’s staggering % gains\n🔍 What’s fueling the surge in RGC\n🎯 Key resistance levels & entry zones\n🔔 Risk tips & what could flip the script\n\n👉 Hit LIKE if you're hyped, COMMENT with your take, and SUBSCRIBE for daily market breakdowns!\n\nhttps://youtu.be/43-Z2T3nLlI?si=xg_F0B4iT-ayqRl1\n\n",
         "text",
         "Mino3621",
         "rqvik0bj",
         "2",
         "1",
         "1751857099.0",
         "https://www.reddit.com/r/Wallstreetbetsnew/comments/1ltjdp7/bmnr_rgc_explode_massive_moves_you_cant_miss/",
         "2025-07-07 02:58:19"
        ]
       ],
       "shape": {
        "columns": 11,
        "rows": 5
       }
      },
      "text/html": [
       "<div>\n",
       "<style scoped>\n",
       "    .dataframe tbody tr th:only-of-type {\n",
       "        vertical-align: middle;\n",
       "    }\n",
       "\n",
       "    .dataframe tbody tr th {\n",
       "        vertical-align: top;\n",
       "    }\n",
       "\n",
       "    .dataframe thead th {\n",
       "        text-align: right;\n",
       "    }\n",
       "</style>\n",
       "<table border=\"1\" class=\"dataframe\">\n",
       "  <thead>\n",
       "    <tr style=\"text-align: right;\">\n",
       "      <th></th>\n",
       "      <th>post_id</th>\n",
       "      <th>title</th>\n",
       "      <th>text</th>\n",
       "      <th>post_type</th>\n",
       "      <th>author_name</th>\n",
       "      <th>author_id</th>\n",
       "      <th>score</th>\n",
       "      <th>num_comments</th>\n",
       "      <th>created_utc</th>\n",
       "      <th>url</th>\n",
       "      <th>created_datetime</th>\n",
       "    </tr>\n",
       "  </thead>\n",
       "  <tbody>\n",
       "    <tr>\n",
       "      <th>0</th>\n",
       "      <td>1lu3q54</td>\n",
       "      <td>Thoughts on PLL stock?</td>\n",
       "      <td>Merger news impact on PLL? DO YOU HAVE ANY INS...</td>\n",
       "      <td>text</td>\n",
       "      <td>Still-Great89</td>\n",
       "      <td>1hpnylgt70</td>\n",
       "      <td>0</td>\n",
       "      <td>6</td>\n",
       "      <td>1.751917e+09</td>\n",
       "      <td>https://www.reddit.com/r/Wallstreetbetsnew/com...</td>\n",
       "      <td>2025-07-07 19:37:00</td>\n",
       "    </tr>\n",
       "    <tr>\n",
       "      <th>1</th>\n",
       "      <td>1ltzbl9</td>\n",
       "      <td>Worksport’s SOLIS Pilot with Fortune 500 Giant...</td>\n",
       "      <td>Worksport (WKSP) just locked in a major valida...</td>\n",
       "      <td>text</td>\n",
       "      <td>DenisEchoField</td>\n",
       "      <td>1rwjrgb4sc</td>\n",
       "      <td>10</td>\n",
       "      <td>0</td>\n",
       "      <td>1.751907e+09</td>\n",
       "      <td>https://www.reddit.com/r/Wallstreetbetsnew/com...</td>\n",
       "      <td>2025-07-07 16:50:55</td>\n",
       "    </tr>\n",
       "    <tr>\n",
       "      <th>2</th>\n",
       "      <td>1ltwsp7</td>\n",
       "      <td>SOLIS Countdown + Fortune-500 Pilot-Worksport ...</td>\n",
       "      <td>Clean-tech skeptics, meet hard proof: a top-15...</td>\n",
       "      <td>text</td>\n",
       "      <td>DenisEchoField</td>\n",
       "      <td>1rwjrgb4sc</td>\n",
       "      <td>2</td>\n",
       "      <td>0</td>\n",
       "      <td>1.751901e+09</td>\n",
       "      <td>https://www.reddit.com/r/Wallstreetbetsnew/com...</td>\n",
       "      <td>2025-07-07 15:14:42</td>\n",
       "    </tr>\n",
       "    <tr>\n",
       "      <th>3</th>\n",
       "      <td>1ltvyqb</td>\n",
       "      <td>Tariff-Proof Growth Engine Goes Viral — Worksp...</td>\n",
       "      <td>Latest numbers crushed expectations. Unit outp...</td>\n",
       "      <td>text</td>\n",
       "      <td>3421431boom</td>\n",
       "      <td>766ues2</td>\n",
       "      <td>16</td>\n",
       "      <td>0</td>\n",
       "      <td>1.751899e+09</td>\n",
       "      <td>https://www.reddit.com/r/Wallstreetbetsnew/com...</td>\n",
       "      <td>2025-07-07 14:42:25</td>\n",
       "    </tr>\n",
       "    <tr>\n",
       "      <th>4</th>\n",
       "      <td>1ltjdp7</td>\n",
       "      <td>BMNR &amp; RGC Explode! 🔥 Massive Moves You Can’t ...</td>\n",
       "      <td>\\n🚀 $BMNR and $RGC are blasting off – and this...</td>\n",
       "      <td>text</td>\n",
       "      <td>Mino3621</td>\n",
       "      <td>rqvik0bj</td>\n",
       "      <td>2</td>\n",
       "      <td>1</td>\n",
       "      <td>1.751857e+09</td>\n",
       "      <td>https://www.reddit.com/r/Wallstreetbetsnew/com...</td>\n",
       "      <td>2025-07-07 02:58:19</td>\n",
       "    </tr>\n",
       "  </tbody>\n",
       "</table>\n",
       "</div>"
      ],
      "text/plain": [
       "   post_id                                              title  \\\n",
       "0  1lu3q54                             Thoughts on PLL stock?   \n",
       "1  1ltzbl9  Worksport’s SOLIS Pilot with Fortune 500 Giant...   \n",
       "2  1ltwsp7  SOLIS Countdown + Fortune-500 Pilot-Worksport ...   \n",
       "3  1ltvyqb  Tariff-Proof Growth Engine Goes Viral — Worksp...   \n",
       "4  1ltjdp7  BMNR & RGC Explode! 🔥 Massive Moves You Can’t ...   \n",
       "\n",
       "                                                text post_type  \\\n",
       "0  Merger news impact on PLL? DO YOU HAVE ANY INS...      text   \n",
       "1  Worksport (WKSP) just locked in a major valida...      text   \n",
       "2  Clean-tech skeptics, meet hard proof: a top-15...      text   \n",
       "3  Latest numbers crushed expectations. Unit outp...      text   \n",
       "4  \\n🚀 $BMNR and $RGC are blasting off – and this...      text   \n",
       "\n",
       "      author_name   author_id  score  num_comments   created_utc  \\\n",
       "0   Still-Great89  1hpnylgt70      0             6  1.751917e+09   \n",
       "1  DenisEchoField  1rwjrgb4sc     10             0  1.751907e+09   \n",
       "2  DenisEchoField  1rwjrgb4sc      2             0  1.751901e+09   \n",
       "3     3421431boom     766ues2     16             0  1.751899e+09   \n",
       "4        Mino3621    rqvik0bj      2             1  1.751857e+09   \n",
       "\n",
       "                                                 url     created_datetime  \n",
       "0  https://www.reddit.com/r/Wallstreetbetsnew/com...  2025-07-07 19:37:00  \n",
       "1  https://www.reddit.com/r/Wallstreetbetsnew/com...  2025-07-07 16:50:55  \n",
       "2  https://www.reddit.com/r/Wallstreetbetsnew/com...  2025-07-07 15:14:42  \n",
       "3  https://www.reddit.com/r/Wallstreetbetsnew/com...  2025-07-07 14:42:25  \n",
       "4  https://www.reddit.com/r/Wallstreetbetsnew/com...  2025-07-07 02:58:19  "
      ]
     },
     "execution_count": 12,
     "metadata": {},
     "output_type": "execute_result"
    }
   ],
   "source": [
    "df = pd.read_csv(DATA/'wallstreetbetsnew_posts_2.csv')\n",
    "print(f\"Data shape: {df.shape}\")\n",
    "df.head()"
   ]
  },
  {
   "cell_type": "code",
   "execution_count": 4,
   "id": "6ee08e0a",
   "metadata": {},
   "outputs": [
    {
     "name": "stdout",
     "output_type": "stream",
     "text": [
      "post_id           0\n",
      "title             0\n",
      "text              0\n",
      "post_type         0\n",
      "author_name       0\n",
      "author_id       387\n",
      "score             0\n",
      "num_comments      0\n",
      "created_utc       0\n",
      "url               0\n",
      "dtype: int64\n"
     ]
    }
   ],
   "source": [
    "# check for null values\n",
    "print(df.isnull().sum())"
   ]
  },
  {
   "cell_type": "markdown",
   "id": "7729f4f1",
   "metadata": {},
   "source": [
    "Looks like some of the authors are either deleted or suspended accounts."
   ]
  },
  {
   "cell_type": "code",
   "execution_count": 5,
   "id": "f113abce",
   "metadata": {},
   "outputs": [
    {
     "name": "stdout",
     "output_type": "stream",
     "text": [
      "2021-01-26 14:12:31 2025-07-08 13:18:25\n"
     ]
    }
   ],
   "source": [
    "# check the min and max date\n",
    "df['created_utc'] = pd.to_datetime(df['created_utc'], unit='s')\n",
    "print(df['created_utc'].min(), df['created_utc'].max())"
   ]
  },
  {
   "cell_type": "code",
   "execution_count": 8,
   "id": "0ecbce72",
   "metadata": {},
   "outputs": [
    {
     "data": {
      "application/vnd.microsoft.datawrangler.viewer.v0+json": {
       "columns": [
        {
         "name": "post_id",
         "rawType": "object",
         "type": "string"
        },
        {
         "name": "0",
         "rawType": "int64",
         "type": "integer"
        }
       ],
       "ref": "3ce30222-fbc7-42f1-bfbf-875ce957a6c0",
       "rows": [
        [
         "1il6h9l",
         "8"
        ],
        [
         "1ioj7u9",
         "8"
        ],
        [
         "1imcyro",
         "8"
        ],
        [
         "1ltcd94",
         "8"
        ],
        [
         "1lkwdkr",
         "8"
        ],
        [
         "1ifyuy9",
         "8"
        ],
        [
         "1iy1jnk",
         "8"
        ],
        [
         "1j3givt",
         "8"
        ],
        [
         "1jbu2ne",
         "8"
        ],
        [
         "1jk6j1f",
         "8"
        ]
       ],
       "shape": {
        "columns": 1,
        "rows": 10
       }
      },
      "text/plain": [
       "post_id\n",
       "1il6h9l    8\n",
       "1ioj7u9    8\n",
       "1imcyro    8\n",
       "1ltcd94    8\n",
       "1lkwdkr    8\n",
       "1ifyuy9    8\n",
       "1iy1jnk    8\n",
       "1j3givt    8\n",
       "1jbu2ne    8\n",
       "1jk6j1f    8\n",
       "dtype: int64"
      ]
     },
     "execution_count": 8,
     "metadata": {},
     "output_type": "execute_result"
    }
   ],
   "source": [
    "df.groupby('post_id').size().sort_values(ascending=False).head(10)"
   ]
  },
  {
   "cell_type": "code",
   "execution_count": 9,
   "id": "4c598257",
   "metadata": {},
   "outputs": [
    {
     "data": {
      "application/vnd.microsoft.datawrangler.viewer.v0+json": {
       "columns": [
        {
         "name": "index",
         "rawType": "int64",
         "type": "integer"
        },
        {
         "name": "post_id",
         "rawType": "object",
         "type": "string"
        },
        {
         "name": "title",
         "rawType": "object",
         "type": "string"
        },
        {
         "name": "text",
         "rawType": "object",
         "type": "string"
        },
        {
         "name": "post_type",
         "rawType": "object",
         "type": "string"
        },
        {
         "name": "author_name",
         "rawType": "object",
         "type": "string"
        },
        {
         "name": "author_id",
         "rawType": "object",
         "type": "string"
        },
        {
         "name": "score",
         "rawType": "int64",
         "type": "integer"
        },
        {
         "name": "num_comments",
         "rawType": "int64",
         "type": "integer"
        },
        {
         "name": "created_utc",
         "rawType": "datetime64[ns]",
         "type": "datetime"
        },
        {
         "name": "url",
         "rawType": "object",
         "type": "string"
        }
       ],
       "ref": "64014e95-da73-4a62-a020-98e182a2ca4b",
       "rows": [
        [
         "502",
         "1il6h9l",
         "¡! new discord !¡",
         "started a discord community where we discuss trading strategies, stock picks, and resources with small cap, large cap, options, and algo trading rooms.\n\ncomment if you’d be interested in joining. we’re at 20 members now! ",
         "text",
         "In4thelongrun_",
         "a0so7n65",
         "0",
         "36",
         "2025-02-09 04:19:29",
         "https://www.reddit.com/r/Wallstreetbetsnew/comments/1il6h9l/new_discord/"
        ],
        [
         "1161",
         "1il6h9l",
         "¡! new discord !¡",
         "started a discord community where we discuss trading strategies, stock picks, and resources with small cap, large cap, options, and algo trading rooms.\n\ncomment if you’d be interested in joining. we’re at 20 members now! ",
         "text",
         "In4thelongrun_",
         "a0so7n65",
         "0",
         "36",
         "2025-02-09 04:19:29",
         "https://www.reddit.com/r/Wallstreetbetsnew/comments/1il6h9l/new_discord/"
        ],
        [
         "1836",
         "1il6h9l",
         "¡! new discord !¡",
         "started a discord community where we discuss trading strategies, stock picks, and resources with small cap, large cap, options, and algo trading rooms.\n\ncomment if you’d be interested in joining. we’re at 20 members now! ",
         "text",
         "In4thelongrun_",
         "a0so7n65",
         "1",
         "36",
         "2025-02-09 04:19:29",
         "https://www.reddit.com/r/Wallstreetbetsnew/comments/1il6h9l/new_discord/"
        ],
        [
         "3457",
         "1il6h9l",
         "¡! new discord !¡",
         "started a discord community where we discuss trading strategies, stock picks, and resources with small cap, large cap, options, and algo trading rooms.\n\ncomment if you’d be interested in joining. we’re at 20 members now! ",
         "text",
         "In4thelongrun_",
         "a0so7n65",
         "0",
         "36",
         "2025-02-09 04:19:29",
         "https://www.reddit.com/r/Wallstreetbetsnew/comments/1il6h9l/new_discord/"
        ],
        [
         "3967",
         "1il6h9l",
         "¡! new discord !¡",
         "started a discord community where we discuss trading strategies, stock picks, and resources with small cap, large cap, options, and algo trading rooms.\n\ncomment if you’d be interested in joining. we’re at 20 members now! ",
         "text",
         "In4thelongrun_",
         "a0so7n65",
         "0",
         "36",
         "2025-02-09 04:19:29",
         "https://www.reddit.com/r/Wallstreetbetsnew/comments/1il6h9l/new_discord/"
        ],
        [
         "4504",
         "1il6h9l",
         "¡! new discord !¡",
         "started a discord community where we discuss trading strategies, stock picks, and resources with small cap, large cap, options, and algo trading rooms.\n\ncomment if you’d be interested in joining. we’re at 20 members now! ",
         "text",
         "In4thelongrun_",
         "a0so7n65",
         "1",
         "36",
         "2025-02-09 04:19:29",
         "https://www.reddit.com/r/Wallstreetbetsnew/comments/1il6h9l/new_discord/"
        ],
        [
         "5010",
         "1il6h9l",
         "¡! new discord !¡",
         "started a discord community where we discuss trading strategies, stock picks, and resources with small cap, large cap, options, and algo trading rooms.\n\ncomment if you’d be interested in joining. we’re at 20 members now! ",
         "text",
         "In4thelongrun_",
         "a0so7n65",
         "1",
         "36",
         "2025-02-09 04:19:29",
         "https://www.reddit.com/r/Wallstreetbetsnew/comments/1il6h9l/new_discord/"
        ],
        [
         "6159",
         "1il6h9l",
         "¡! new discord !¡",
         "started a discord community where we discuss trading strategies, stock picks, and resources with small cap, large cap, options, and algo trading rooms.\n\ncomment if you’d be interested in joining. we’re at 20 members now! ",
         "text",
         "In4thelongrun_",
         "a0so7n65",
         "0",
         "36",
         "2025-02-09 04:19:29",
         "https://www.reddit.com/r/Wallstreetbetsnew/comments/1il6h9l/new_discord/"
        ]
       ],
       "shape": {
        "columns": 10,
        "rows": 8
       }
      },
      "text/html": [
       "<div>\n",
       "<style scoped>\n",
       "    .dataframe tbody tr th:only-of-type {\n",
       "        vertical-align: middle;\n",
       "    }\n",
       "\n",
       "    .dataframe tbody tr th {\n",
       "        vertical-align: top;\n",
       "    }\n",
       "\n",
       "    .dataframe thead th {\n",
       "        text-align: right;\n",
       "    }\n",
       "</style>\n",
       "<table border=\"1\" class=\"dataframe\">\n",
       "  <thead>\n",
       "    <tr style=\"text-align: right;\">\n",
       "      <th></th>\n",
       "      <th>post_id</th>\n",
       "      <th>title</th>\n",
       "      <th>text</th>\n",
       "      <th>post_type</th>\n",
       "      <th>author_name</th>\n",
       "      <th>author_id</th>\n",
       "      <th>score</th>\n",
       "      <th>num_comments</th>\n",
       "      <th>created_utc</th>\n",
       "      <th>url</th>\n",
       "    </tr>\n",
       "  </thead>\n",
       "  <tbody>\n",
       "    <tr>\n",
       "      <th>502</th>\n",
       "      <td>1il6h9l</td>\n",
       "      <td>¡! new discord !¡</td>\n",
       "      <td>started a discord community where we discuss t...</td>\n",
       "      <td>text</td>\n",
       "      <td>In4thelongrun_</td>\n",
       "      <td>a0so7n65</td>\n",
       "      <td>0</td>\n",
       "      <td>36</td>\n",
       "      <td>2025-02-09 04:19:29</td>\n",
       "      <td>https://www.reddit.com/r/Wallstreetbetsnew/com...</td>\n",
       "    </tr>\n",
       "    <tr>\n",
       "      <th>1161</th>\n",
       "      <td>1il6h9l</td>\n",
       "      <td>¡! new discord !¡</td>\n",
       "      <td>started a discord community where we discuss t...</td>\n",
       "      <td>text</td>\n",
       "      <td>In4thelongrun_</td>\n",
       "      <td>a0so7n65</td>\n",
       "      <td>0</td>\n",
       "      <td>36</td>\n",
       "      <td>2025-02-09 04:19:29</td>\n",
       "      <td>https://www.reddit.com/r/Wallstreetbetsnew/com...</td>\n",
       "    </tr>\n",
       "    <tr>\n",
       "      <th>1836</th>\n",
       "      <td>1il6h9l</td>\n",
       "      <td>¡! new discord !¡</td>\n",
       "      <td>started a discord community where we discuss t...</td>\n",
       "      <td>text</td>\n",
       "      <td>In4thelongrun_</td>\n",
       "      <td>a0so7n65</td>\n",
       "      <td>1</td>\n",
       "      <td>36</td>\n",
       "      <td>2025-02-09 04:19:29</td>\n",
       "      <td>https://www.reddit.com/r/Wallstreetbetsnew/com...</td>\n",
       "    </tr>\n",
       "    <tr>\n",
       "      <th>3457</th>\n",
       "      <td>1il6h9l</td>\n",
       "      <td>¡! new discord !¡</td>\n",
       "      <td>started a discord community where we discuss t...</td>\n",
       "      <td>text</td>\n",
       "      <td>In4thelongrun_</td>\n",
       "      <td>a0so7n65</td>\n",
       "      <td>0</td>\n",
       "      <td>36</td>\n",
       "      <td>2025-02-09 04:19:29</td>\n",
       "      <td>https://www.reddit.com/r/Wallstreetbetsnew/com...</td>\n",
       "    </tr>\n",
       "    <tr>\n",
       "      <th>3967</th>\n",
       "      <td>1il6h9l</td>\n",
       "      <td>¡! new discord !¡</td>\n",
       "      <td>started a discord community where we discuss t...</td>\n",
       "      <td>text</td>\n",
       "      <td>In4thelongrun_</td>\n",
       "      <td>a0so7n65</td>\n",
       "      <td>0</td>\n",
       "      <td>36</td>\n",
       "      <td>2025-02-09 04:19:29</td>\n",
       "      <td>https://www.reddit.com/r/Wallstreetbetsnew/com...</td>\n",
       "    </tr>\n",
       "    <tr>\n",
       "      <th>4504</th>\n",
       "      <td>1il6h9l</td>\n",
       "      <td>¡! new discord !¡</td>\n",
       "      <td>started a discord community where we discuss t...</td>\n",
       "      <td>text</td>\n",
       "      <td>In4thelongrun_</td>\n",
       "      <td>a0so7n65</td>\n",
       "      <td>1</td>\n",
       "      <td>36</td>\n",
       "      <td>2025-02-09 04:19:29</td>\n",
       "      <td>https://www.reddit.com/r/Wallstreetbetsnew/com...</td>\n",
       "    </tr>\n",
       "    <tr>\n",
       "      <th>5010</th>\n",
       "      <td>1il6h9l</td>\n",
       "      <td>¡! new discord !¡</td>\n",
       "      <td>started a discord community where we discuss t...</td>\n",
       "      <td>text</td>\n",
       "      <td>In4thelongrun_</td>\n",
       "      <td>a0so7n65</td>\n",
       "      <td>1</td>\n",
       "      <td>36</td>\n",
       "      <td>2025-02-09 04:19:29</td>\n",
       "      <td>https://www.reddit.com/r/Wallstreetbetsnew/com...</td>\n",
       "    </tr>\n",
       "    <tr>\n",
       "      <th>6159</th>\n",
       "      <td>1il6h9l</td>\n",
       "      <td>¡! new discord !¡</td>\n",
       "      <td>started a discord community where we discuss t...</td>\n",
       "      <td>text</td>\n",
       "      <td>In4thelongrun_</td>\n",
       "      <td>a0so7n65</td>\n",
       "      <td>0</td>\n",
       "      <td>36</td>\n",
       "      <td>2025-02-09 04:19:29</td>\n",
       "      <td>https://www.reddit.com/r/Wallstreetbetsnew/com...</td>\n",
       "    </tr>\n",
       "  </tbody>\n",
       "</table>\n",
       "</div>"
      ],
      "text/plain": [
       "      post_id              title  \\\n",
       "502   1il6h9l  ¡! new discord !¡   \n",
       "1161  1il6h9l  ¡! new discord !¡   \n",
       "1836  1il6h9l  ¡! new discord !¡   \n",
       "3457  1il6h9l  ¡! new discord !¡   \n",
       "3967  1il6h9l  ¡! new discord !¡   \n",
       "4504  1il6h9l  ¡! new discord !¡   \n",
       "5010  1il6h9l  ¡! new discord !¡   \n",
       "6159  1il6h9l  ¡! new discord !¡   \n",
       "\n",
       "                                                   text post_type  \\\n",
       "502   started a discord community where we discuss t...      text   \n",
       "1161  started a discord community where we discuss t...      text   \n",
       "1836  started a discord community where we discuss t...      text   \n",
       "3457  started a discord community where we discuss t...      text   \n",
       "3967  started a discord community where we discuss t...      text   \n",
       "4504  started a discord community where we discuss t...      text   \n",
       "5010  started a discord community where we discuss t...      text   \n",
       "6159  started a discord community where we discuss t...      text   \n",
       "\n",
       "         author_name author_id  score  num_comments         created_utc  \\\n",
       "502   In4thelongrun_  a0so7n65      0            36 2025-02-09 04:19:29   \n",
       "1161  In4thelongrun_  a0so7n65      0            36 2025-02-09 04:19:29   \n",
       "1836  In4thelongrun_  a0so7n65      1            36 2025-02-09 04:19:29   \n",
       "3457  In4thelongrun_  a0so7n65      0            36 2025-02-09 04:19:29   \n",
       "3967  In4thelongrun_  a0so7n65      0            36 2025-02-09 04:19:29   \n",
       "4504  In4thelongrun_  a0so7n65      1            36 2025-02-09 04:19:29   \n",
       "5010  In4thelongrun_  a0so7n65      1            36 2025-02-09 04:19:29   \n",
       "6159  In4thelongrun_  a0so7n65      0            36 2025-02-09 04:19:29   \n",
       "\n",
       "                                                    url  \n",
       "502   https://www.reddit.com/r/Wallstreetbetsnew/com...  \n",
       "1161  https://www.reddit.com/r/Wallstreetbetsnew/com...  \n",
       "1836  https://www.reddit.com/r/Wallstreetbetsnew/com...  \n",
       "3457  https://www.reddit.com/r/Wallstreetbetsnew/com...  \n",
       "3967  https://www.reddit.com/r/Wallstreetbetsnew/com...  \n",
       "4504  https://www.reddit.com/r/Wallstreetbetsnew/com...  \n",
       "5010  https://www.reddit.com/r/Wallstreetbetsnew/com...  \n",
       "6159  https://www.reddit.com/r/Wallstreetbetsnew/com...  "
      ]
     },
     "execution_count": 9,
     "metadata": {},
     "output_type": "execute_result"
    }
   ],
   "source": [
    "# list all the post by post_id 1il6h9l\n",
    "df[df['post_id'] == '1il6h9l'].head(10)"
   ]
  }
 ],
 "metadata": {
  "kernelspec": {
   "display_name": "Python 3",
   "language": "python",
   "name": "python3"
  },
  "language_info": {
   "codemirror_mode": {
    "name": "ipython",
    "version": 3
   },
   "file_extension": ".py",
   "mimetype": "text/x-python",
   "name": "python",
   "nbconvert_exporter": "python",
   "pygments_lexer": "ipython3",
   "version": "3.13.5"
  }
 },
 "nbformat": 4,
 "nbformat_minor": 5
}
